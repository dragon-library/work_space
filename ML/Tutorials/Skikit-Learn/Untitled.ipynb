{
 "cells": [
  {
   "cell_type": "code",
   "execution_count": 3,
   "metadata": {
    "ExecuteTime": {
     "end_time": "2020-11-28T11:37:39.584839Z",
     "start_time": "2020-11-28T11:37:24.788709Z"
    }
   },
   "outputs": [
    {
     "name": "stdout",
     "output_type": "stream",
     "text": [
      "Collecting interpret_text\n",
      "  Using cached interpret_text-0.1.2-py3-none-any.whl (22.0 MB)\n",
      "Collecting interpret-community\n",
      "  Using cached interpret_community-0.15.4-py3-none-any.whl (5.9 MB)\n",
      "Requirement already satisfied: numpy in c:\\users\\asus\\anaconda3\\envs\\seaborn\\lib\\site-packages (from interpret_text) (1.19.2)\n",
      "Requirement already satisfied: scipy in c:\\users\\asus\\anaconda3\\envs\\seaborn\\lib\\site-packages (from interpret_text) (1.5.2)\n",
      "Requirement already satisfied: scikit-learn in c:\\users\\asus\\anaconda3\\envs\\seaborn\\lib\\site-packages (from interpret_text) (0.23.2)\n",
      "Requirement already satisfied: tqdm in c:\\users\\asus\\anaconda3\\envs\\seaborn\\lib\\site-packages (from interpret_text) (4.54.0)\n",
      "Collecting transformers==2.4.1\n",
      "  Using cached transformers-2.4.1-py3-none-any.whl (475 kB)\n",
      "Collecting cached-property\n"
     ]
    },
    {
     "name": "stderr",
     "output_type": "stream",
     "text": [
      "ERROR: Package 'tifffile' requires a different Python: 3.6.12 not in '>=3.7'\n"
     ]
    },
    {
     "name": "stdout",
     "output_type": "stream",
     "text": [
      "  Using cached cached_property-1.5.2-py2.py3-none-any.whl (7.6 kB)\n",
      "Collecting pydantic\n",
      "  Downloading pydantic-1.7.2-cp36-cp36m-win_amd64.whl (1.7 MB)\n",
      "Collecting pytorch-pretrained-bert\n",
      "  Using cached pytorch_pretrained_bert-0.6.2-py3-none-any.whl (123 kB)\n",
      "Requirement already satisfied: spacy in c:\\users\\asus\\anaconda3\\envs\\seaborn\\lib\\site-packages (from interpret_text) (2.3.2)\n",
      "Collecting torch\n",
      "  Using cached torch-0.1.2.post2.tar.gz (128 kB)\n",
      "Collecting shap<=0.29.3,>=0.20.0\n",
      "  Downloading shap-0.29.3-cp36-cp36m-win_amd64.whl (260 kB)\n",
      "Requirement already satisfied: ipywidgets in c:\\users\\asus\\anaconda3\\envs\\seaborn\\lib\\site-packages (from interpret_text) (7.5.1)\n",
      "Requirement already satisfied: pandas in c:\\users\\asus\\anaconda3\\envs\\seaborn\\lib\\site-packages (from interpret_text) (1.1.3)\n",
      "Requirement already satisfied: packaging in c:\\users\\asus\\anaconda3\\envs\\seaborn\\lib\\site-packages (from interpret-community->interpret_text) (20.4)\n",
      "Collecting interpret-core[required]<=0.2.1,>=0.1.20\n",
      "  Using cached interpret_core-0.2.1-py3-none-any.whl (5.0 MB)\n",
      "Requirement already satisfied: joblib>=0.11 in c:\\users\\asus\\anaconda3\\envs\\seaborn\\lib\\site-packages (from scikit-learn->interpret_text) (0.17.0)\n",
      "Requirement already satisfied: threadpoolctl>=2.0.0 in c:\\users\\asus\\anaconda3\\envs\\seaborn\\lib\\site-packages (from scikit-learn->interpret_text) (2.1.0)\n",
      "Collecting sentencepiece\n",
      "  Downloading sentencepiece-0.1.94-cp36-cp36m-win_amd64.whl (1.2 MB)\n",
      "Collecting filelock\n",
      "  Using cached filelock-3.0.12-py3-none-any.whl (7.6 kB)\n",
      "Collecting tokenizers==0.0.11\n",
      "  Downloading tokenizers-0.0.11-cp36-cp36m-win_amd64.whl (796 kB)\n",
      "Collecting sacremoses\n",
      "  Using cached sacremoses-0.0.43.tar.gz (883 kB)\n",
      "Collecting boto3\n",
      "  Using cached boto3-1.16.25-py2.py3-none-any.whl (129 kB)\n",
      "Requirement already satisfied: requests in c:\\users\\asus\\anaconda3\\envs\\seaborn\\lib\\site-packages (from transformers==2.4.1->interpret_text) (2.24.0)\n",
      "Requirement already satisfied: regex!=2019.12.17 in c:\\users\\asus\\anaconda3\\envs\\seaborn\\lib\\site-packages (from transformers==2.4.1->interpret_text) (2020.11.13)\n",
      "Collecting dataclasses>=0.6; python_version < \"3.7\"\n",
      "  Downloading dataclasses-0.8-py3-none-any.whl (19 kB)\n",
      "Requirement already satisfied: thinc==7.4.1 in c:\\users\\asus\\anaconda3\\envs\\seaborn\\lib\\site-packages (from spacy->interpret_text) (7.4.1)\n",
      "Requirement already satisfied: preshed<3.1.0,>=3.0.2 in c:\\users\\asus\\anaconda3\\envs\\seaborn\\lib\\site-packages (from spacy->interpret_text) (3.0.2)\n",
      "Requirement already satisfied: murmurhash<1.1.0,>=0.28.0 in c:\\users\\asus\\anaconda3\\envs\\seaborn\\lib\\site-packages (from spacy->interpret_text) (1.0.2)\n",
      "Requirement already satisfied: catalogue<1.1.0,>=0.0.7 in c:\\users\\asus\\anaconda3\\envs\\seaborn\\lib\\site-packages (from spacy->interpret_text) (1.0.0)\n",
      "Requirement already satisfied: blis<0.5.0,>=0.4.0 in c:\\users\\asus\\anaconda3\\envs\\seaborn\\lib\\site-packages (from spacy->interpret_text) (0.4.1)\n",
      "Requirement already satisfied: plac<1.2.0,>=0.9.6 in c:\\users\\asus\\anaconda3\\envs\\seaborn\\lib\\site-packages (from spacy->interpret_text) (0.9.6)\n",
      "Requirement already satisfied: setuptools in c:\\users\\asus\\anaconda3\\envs\\seaborn\\lib\\site-packages (from spacy->interpret_text) (50.3.1.post20201107)\n",
      "Requirement already satisfied: srsly<1.1.0,>=1.0.2 in c:\\users\\asus\\anaconda3\\envs\\seaborn\\lib\\site-packages (from spacy->interpret_text) (1.0.2)\n",
      "Requirement already satisfied: cymem<2.1.0,>=2.0.2 in c:\\users\\asus\\anaconda3\\envs\\seaborn\\lib\\site-packages (from spacy->interpret_text) (2.0.4)\n",
      "Requirement already satisfied: wasabi<1.1.0,>=0.4.0 in c:\\users\\asus\\anaconda3\\envs\\seaborn\\lib\\site-packages (from spacy->interpret_text) (0.8.0)\n",
      "Requirement already satisfied: pyyaml in c:\\users\\asus\\anaconda3\\envs\\seaborn\\lib\\site-packages (from torch->interpret_text) (5.3.1)\n",
      "Requirement already satisfied: matplotlib in c:\\users\\asus\\anaconda3\\envs\\seaborn\\lib\\site-packages (from shap<=0.29.3,>=0.20.0->interpret_text) (3.3.2)\n",
      "Requirement already satisfied: scikit-image in c:\\users\\asus\\anaconda3\\envs\\seaborn\\lib\\site-packages (from shap<=0.29.3,>=0.20.0->interpret_text) (0.17.2)\n",
      "Requirement already satisfied: ipython in c:\\users\\asus\\anaconda3\\envs\\seaborn\\lib\\site-packages (from shap<=0.29.3,>=0.20.0->interpret_text) (7.16.1)\n",
      "Requirement already satisfied: traitlets>=4.3.1 in c:\\users\\asus\\anaconda3\\envs\\seaborn\\lib\\site-packages (from ipywidgets->interpret_text) (4.3.3)\n",
      "Requirement already satisfied: ipykernel>=4.5.1 in c:\\users\\asus\\anaconda3\\envs\\seaborn\\lib\\site-packages (from ipywidgets->interpret_text) (5.3.4)\n",
      "Requirement already satisfied: nbformat>=4.2.0 in c:\\users\\asus\\anaconda3\\envs\\seaborn\\lib\\site-packages (from ipywidgets->interpret_text) (5.0.8)\n",
      "Requirement already satisfied: widgetsnbextension~=3.5.0 in c:\\users\\asus\\anaconda3\\envs\\seaborn\\lib\\site-packages (from ipywidgets->interpret_text) (3.5.1)\n",
      "Requirement already satisfied: python-dateutil>=2.7.3 in c:\\users\\asus\\anaconda3\\envs\\seaborn\\lib\\site-packages (from pandas->interpret_text) (2.8.1)\n",
      "Requirement already satisfied: pytz>=2017.2 in c:\\users\\asus\\anaconda3\\envs\\seaborn\\lib\\site-packages (from pandas->interpret_text) (2020.1)\n",
      "Requirement already satisfied: six in c:\\users\\asus\\anaconda3\\envs\\seaborn\\lib\\site-packages (from packaging->interpret-community->interpret_text) (1.15.0)\n",
      "Requirement already satisfied: pyparsing>=2.0.2 in c:\\users\\asus\\anaconda3\\envs\\seaborn\\lib\\site-packages (from packaging->interpret-community->interpret_text) (2.4.7)\n",
      "Requirement already satisfied: click in c:\\users\\asus\\anaconda3\\envs\\seaborn\\lib\\site-packages (from sacremoses->transformers==2.4.1->interpret_text) (7.1.2)\n",
      "Collecting botocore<1.20.0,>=1.19.25\n",
      "  Using cached botocore-1.19.25-py2.py3-none-any.whl (6.9 MB)\n",
      "Collecting s3transfer<0.4.0,>=0.3.0\n",
      "  Using cached s3transfer-0.3.3-py2.py3-none-any.whl (69 kB)\n",
      "Collecting jmespath<1.0.0,>=0.7.1\n",
      "  Using cached jmespath-0.10.0-py2.py3-none-any.whl (24 kB)\n",
      "Requirement already satisfied: idna<3,>=2.5 in c:\\users\\asus\\anaconda3\\envs\\seaborn\\lib\\site-packages (from requests->transformers==2.4.1->interpret_text) (2.10)\n",
      "Requirement already satisfied: chardet<4,>=3.0.2 in c:\\users\\asus\\anaconda3\\envs\\seaborn\\lib\\site-packages (from requests->transformers==2.4.1->interpret_text) (3.0.4)\n",
      "Requirement already satisfied: urllib3!=1.25.0,!=1.25.1,<1.26,>=1.21.1 in c:\\users\\asus\\anaconda3\\envs\\seaborn\\lib\\site-packages (from requests->transformers==2.4.1->interpret_text) (1.25.11)\n",
      "Requirement already satisfied: certifi>=2017.4.17 in c:\\users\\asus\\anaconda3\\envs\\seaborn\\lib\\site-packages (from requests->transformers==2.4.1->interpret_text) (2020.11.8)\n",
      "Requirement already satisfied: importlib-metadata>=0.20; python_version < \"3.8\" in c:\\users\\asus\\anaconda3\\envs\\seaborn\\lib\\site-packages (from catalogue<1.1.0,>=0.0.7->spacy->interpret_text) (2.0.0)\n",
      "Requirement already satisfied: cycler>=0.10 in c:\\users\\asus\\anaconda3\\envs\\seaborn\\lib\\site-packages (from matplotlib->shap<=0.29.3,>=0.20.0->interpret_text) (0.10.0)\n",
      "Requirement already satisfied: kiwisolver>=1.0.1 in c:\\users\\asus\\anaconda3\\envs\\seaborn\\lib\\site-packages (from matplotlib->shap<=0.29.3,>=0.20.0->interpret_text) (1.3.0)\n",
      "Requirement already satisfied: pillow>=6.2.0 in c:\\users\\asus\\anaconda3\\envs\\seaborn\\lib\\site-packages (from matplotlib->shap<=0.29.3,>=0.20.0->interpret_text) (8.0.1)\n",
      "Requirement already satisfied: networkx>=2.0 in c:\\users\\asus\\anaconda3\\envs\\seaborn\\lib\\site-packages (from scikit-image->shap<=0.29.3,>=0.20.0->interpret_text) (2.5)\n",
      "Requirement already satisfied: imageio>=2.3.0 in c:\\users\\asus\\anaconda3\\envs\\seaborn\\lib\\site-packages (from scikit-image->shap<=0.29.3,>=0.20.0->interpret_text) (2.9.0)\n",
      "Requirement already satisfied: tifffile>=2019.7.26 in c:\\users\\asus\\anaconda3\\envs\\seaborn\\lib\\site-packages (from scikit-image->shap<=0.29.3,>=0.20.0->interpret_text) (2020.10.1)\n"
     ]
    }
   ],
   "source": [
    "!pip install interpret_text"
   ]
  },
  {
   "cell_type": "code",
   "execution_count": 4,
   "metadata": {
    "ExecuteTime": {
     "end_time": "2020-11-28T11:37:46.240653Z",
     "start_time": "2020-11-28T11:37:46.213746Z"
    }
   },
   "outputs": [
    {
     "ename": "ModuleNotFoundError",
     "evalue": "No module named 'interpret_text'",
     "output_type": "error",
     "traceback": [
      "\u001b[1;31m---------------------------------------------------------------------------\u001b[0m",
      "\u001b[1;31mModuleNotFoundError\u001b[0m                       Traceback (most recent call last)",
      "\u001b[1;32m<ipython-input-4-e90c64eafd62>\u001b[0m in \u001b[0;36m<module>\u001b[1;34m\u001b[0m\n\u001b[0;32m      5\u001b[0m \u001b[0mwarnings\u001b[0m\u001b[1;33m.\u001b[0m\u001b[0mfilterwarnings\u001b[0m\u001b[1;33m(\u001b[0m\u001b[1;34m\"ignore\"\u001b[0m\u001b[1;33m)\u001b[0m\u001b[1;33m\u001b[0m\u001b[1;33m\u001b[0m\u001b[0m\n\u001b[0;32m      6\u001b[0m \u001b[1;33m\u001b[0m\u001b[0m\n\u001b[1;32m----> 7\u001b[1;33m \u001b[1;32mimport\u001b[0m \u001b[0minterpret_text\u001b[0m\u001b[1;33m\u001b[0m\u001b[1;33m\u001b[0m\u001b[0m\n\u001b[0m",
      "\u001b[1;31mModuleNotFoundError\u001b[0m: No module named 'interpret_text'"
     ]
    }
   ],
   "source": [
    "import pandas as pd\n",
    "import numpy as np\n",
    "\n",
    "import warnings\n",
    "warnings.filterwarnings(\"ignore\")\n",
    "\n",
    "import interpret_text"
   ]
  },
  {
   "cell_type": "code",
   "execution_count": null,
   "metadata": {},
   "outputs": [],
   "source": []
  }
 ],
 "metadata": {
  "kernelspec": {
   "display_name": "Python 3",
   "language": "python",
   "name": "python3"
  },
  "language_info": {
   "codemirror_mode": {
    "name": "ipython",
    "version": 3
   },
   "file_extension": ".py",
   "mimetype": "text/x-python",
   "name": "python",
   "nbconvert_exporter": "python",
   "pygments_lexer": "ipython3",
   "version": "3.6.12"
  },
  "nbTranslate": {
   "displayLangs": [
    "*"
   ],
   "hotkey": "alt-t",
   "langInMainMenu": true,
   "sourceLang": "en",
   "targetLang": "fr",
   "useGoogleTranslate": true
  },
  "toc": {
   "base_numbering": 1,
   "nav_menu": {},
   "number_sections": true,
   "sideBar": true,
   "skip_h1_title": false,
   "title_cell": "Table of Contents",
   "title_sidebar": "Contents",
   "toc_cell": false,
   "toc_position": {},
   "toc_section_display": true,
   "toc_window_display": false
  }
 },
 "nbformat": 4,
 "nbformat_minor": 4
}
