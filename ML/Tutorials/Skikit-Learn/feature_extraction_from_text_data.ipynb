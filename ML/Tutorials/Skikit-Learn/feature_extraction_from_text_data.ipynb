{
 "cells": [
  {
   "cell_type": "markdown",
   "metadata": {},
   "source": [
    "Scikit-Learn - Feature Extraction from Text Data\n",
    "====\n",
    "\n",
    "- https://coderzcolumn.com/tutorials/machine-learning/feature-extraction-from-text-data-using-scikit-learn-sklearn\n",
    "\n",
    "\n",
    "## Feature Extraction From Text Data\n",
    "\n",
    "All of the machine learning libraries expect input in the form of floats and that also fixed length/dimensions. But in real life, we face data in different forms like text, images, audio, video, etc. We need to find a way to represent these forms of data as floats to be able to train learning algorithms based on them. In this tutorial, we'll be discussing how to convert free form text which can be of variable length to an array of floats (called feature extraction generally).\n",
    "\n",
    "### Bag Of Words\n",
    "\n",
    "We'll start with a simple method for representation of text data called a bag of words.\n",
    "\n",
    "Here, we'll be assuming data has come to us as a single string for each instance(spam mail, book, new, etc.) of data. We'll split each instance to a list of tokens based on white space and then lowercase each word. We'll repeat this process for each of our instances in the dataset. At the end of the process, we'll have quite a big vocabulary of words from all instances.\n",
    "\n",
    "Now looking at each of our samples we can tell how often it appears in vocabulary. We'll represent our string as a single vector of length the same as that of vocabulary and words from that string will be marked  `1s`  & all other entries will be  `0s`  in that vector. We'll repeat the process for each instance of data.\n",
    "\n",
    "At the end of the process, we'll end up with an array of size  `(number_of_instance/samples x vocabulary_size)`  which will be quite a sparse array because the dictionary contains all possible words and each sentence will have few words from it.\n",
    "\n",
    "It's called bag-of-words because the order of words is lost totally.\n",
    "\n",
    "![](https://storage.googleapis.com/coderzcolumn/static/tutorials/machine_learning/bag_of_words.svg)\n",
    "\n",
    "We'll start by importing necessary libraries."
   ]
  },
  {
   "cell_type": "code",
   "execution_count": 1,
   "metadata": {
    "ExecuteTime": {
     "end_time": "2020-11-28T11:25:41.119219Z",
     "start_time": "2020-11-28T11:25:39.334875Z"
    }
   },
   "outputs": [],
   "source": [
    "import numpy as np\n",
    "import pandas as pd\n",
    "import matplotlib.pyplot as plt\n",
    "\n",
    "import collections\n",
    "import warnings\n",
    "import re\n",
    "\n",
    "import sklearn\n",
    "\n",
    "warnings.filterwarnings(\"ignore\")\n",
    "\n",
    "%matplotlib inline"
   ]
  },
  {
   "cell_type": "markdown",
   "metadata": {},
   "source": [
    "### Creating Sample Dataset\n",
    "Below we have created a sample dataset of 3 strings which we'll be using for an explanation of our purpose."
   ]
  },
  {
   "cell_type": "code",
   "execution_count": 2,
   "metadata": {
    "ExecuteTime": {
     "end_time": "2020-11-28T11:25:46.173364Z",
     "start_time": "2020-11-28T11:25:46.168406Z"
    }
   },
   "outputs": [],
   "source": [
    "X = ['Welcome to coderzcolumn. We will help you learn python',\n",
    "     'Lets start our day by learning something new',\n",
    "    'Learn from tutorials, learn from blogs. Keep learning till life ends. Its a long journey']"
   ]
  },
  {
   "cell_type": "markdown",
   "metadata": {},
   "source": [
    "### Initializing Model & Fitting to Data\n",
    "We'll be using a simple CounteVectorizer provided by scikit-learn for converting our list of strings to a list of tokens based on vocabulary."
   ]
  },
  {
   "cell_type": "code",
   "execution_count": 3,
   "metadata": {
    "ExecuteTime": {
     "end_time": "2020-11-28T11:25:47.765535Z",
     "start_time": "2020-11-28T11:25:47.688498Z"
    }
   },
   "outputs": [
    {
     "data": {
      "text/plain": [
       "CountVectorizer()"
      ]
     },
     "execution_count": 3,
     "metadata": {},
     "output_type": "execute_result"
    }
   ],
   "source": [
    "from sklearn.feature_extraction.text import CountVectorizer\n",
    "\n",
    "vectorizer = CountVectorizer()\n",
    "vectorizer.fit(X)"
   ]
  },
  {
   "cell_type": "markdown",
   "metadata": {},
   "source": [
    "\n",
    "### Transforming Data From Text to Floats\n",
    "\n",
    "Once we have an initialized model and trained it with train data, we can then transform data to floats using the  `transform()`  method. We can also use the  `fit_transform()`  method available in an object to perform fitting and transforming data in one step if we want to combine them."
   ]
  },
  {
   "cell_type": "code",
   "execution_count": 4,
   "metadata": {
    "ExecuteTime": {
     "end_time": "2020-11-28T11:25:50.800986Z",
     "start_time": "2020-11-28T11:25:50.782991Z"
    }
   },
   "outputs": [
    {
     "data": {
      "text/plain": [
       "((3, 27),\n",
       " <3x27 sparse matrix of type '<class 'numpy.int64'>'\n",
       " \twith 29 stored elements in Compressed Sparse Row format>,\n",
       " scipy.sparse.csr.csr_matrix)"
      ]
     },
     "execution_count": 4,
     "metadata": {},
     "output_type": "execute_result"
    }
   ],
   "source": [
    "vectorized_input = vectorizer.transform(X)\n",
    "vectorized_input.shape, vectorized_input, type(vectorized_input)"
   ]
  },
  {
   "cell_type": "markdown",
   "metadata": {},
   "source": [
    "Make a note that transformed input is returning sparse scipy array which is stored in CSR(Compressed Sparse Row) format. One can easily convert such array to numpy array and back."
   ]
  },
  {
   "cell_type": "code",
   "execution_count": 5,
   "metadata": {
    "ExecuteTime": {
     "end_time": "2020-11-28T11:25:52.462068Z",
     "start_time": "2020-11-28T11:25:52.452072Z"
    }
   },
   "outputs": [
    {
     "data": {
      "text/plain": [
       "(matrix([[0, 0, 1, 0, 0, 0, 1, 0, 0, 0, 1, 0, 0, 0, 0, 0, 0, 1, 0, 0, 0,\n",
       "          1, 0, 1, 1, 1, 1],\n",
       "         [0, 1, 0, 1, 0, 0, 0, 0, 0, 0, 0, 1, 1, 0, 0, 1, 1, 0, 1, 1, 0,\n",
       "          0, 0, 0, 0, 0, 0],\n",
       "         [1, 0, 0, 0, 1, 2, 0, 1, 1, 1, 2, 1, 0, 1, 1, 0, 0, 0, 0, 0, 1,\n",
       "          0, 1, 0, 0, 0, 0]], dtype=int64),\n",
       " array([[0, 0, 1, 0, 0, 0, 1, 0, 0, 0, 1, 0, 0, 0, 0, 0, 0, 1, 0, 0, 0, 1,\n",
       "         0, 1, 1, 1, 1],\n",
       "        [0, 1, 0, 1, 0, 0, 0, 0, 0, 0, 0, 1, 1, 0, 0, 1, 1, 0, 1, 1, 0, 0,\n",
       "         0, 0, 0, 0, 0],\n",
       "        [1, 0, 0, 0, 1, 2, 0, 1, 1, 1, 2, 1, 0, 1, 1, 0, 0, 0, 0, 0, 1, 0,\n",
       "         1, 0, 0, 0, 0]], dtype=int64))"
      ]
     },
     "execution_count": 5,
     "metadata": {},
     "output_type": "execute_result"
    }
   ],
   "source": [
    "vectorized_input.todense(), vectorized_input.toarray()"
   ]
  },
  {
   "cell_type": "code",
   "execution_count": 6,
   "metadata": {
    "ExecuteTime": {
     "end_time": "2020-11-28T11:25:53.667585Z",
     "start_time": "2020-11-28T11:25:53.656590Z"
    }
   },
   "outputs": [
    {
     "name": "stdout",
     "output_type": "stream",
     "text": [
      "{'welcome': 24, 'to': 21, 'coderzcolumn': 2, 'we': 23, 'will': 25, 'help': 6, 'you': 26, 'learn': 10, 'python': 17, 'lets': 12, 'start': 19, 'our': 16, 'day': 3, 'by': 1, 'learning': 11, 'something': 18, 'new': 15, 'from': 5, 'tutorials': 22, 'blogs': 0, 'keep': 9, 'till': 20, 'life': 13, 'ends': 4, 'its': 7, 'long': 14, 'journey': 8}\n"
     ]
    }
   ],
   "source": [
    "print(vectorizer.vocabulary_)"
   ]
  },
  {
   "cell_type": "code",
   "execution_count": 7,
   "metadata": {
    "ExecuteTime": {
     "end_time": "2020-11-28T11:25:54.442593Z",
     "start_time": "2020-11-28T11:25:54.437594Z"
    }
   },
   "outputs": [
    {
     "name": "stdout",
     "output_type": "stream",
     "text": [
      "['blogs', 'by', 'coderzcolumn', 'day', 'ends', 'from', 'help', 'its', 'journey', 'keep', 'learn', 'learning', 'lets', 'life', 'long', 'new', 'our', 'python', 'something', 'start', 'till', 'to', 'tutorials', 'we', 'welcome', 'will', 'you']\n"
     ]
    }
   ],
   "source": [
    "print(vectorizer.get_feature_names())"
   ]
  },
  {
   "cell_type": "markdown",
   "metadata": {},
   "source": [
    "\n",
    "We can transform sparse array back to the original list of strings using the `inverse_transform()` method but we'll have lost our order of words in original sentences."
   ]
  },
  {
   "cell_type": "code",
   "execution_count": 8,
   "metadata": {
    "ExecuteTime": {
     "end_time": "2020-11-28T11:25:55.930334Z",
     "start_time": "2020-11-28T11:25:55.912337Z"
    }
   },
   "outputs": [
    {
     "name": "stdout",
     "output_type": "stream",
     "text": [
      "[array(['coderzcolumn', 'help', 'learn', 'python', 'to', 'we', 'welcome',\n",
      "       'will', 'you'], dtype='<U12'), array(['by', 'day', 'learning', 'lets', 'new', 'our', 'something',\n",
      "       'start'], dtype='<U12'), array(['blogs', 'ends', 'from', 'its', 'journey', 'keep', 'learn',\n",
      "       'learning', 'life', 'long', 'till', 'tutorials'], dtype='<U12')]\n"
     ]
    }
   ],
   "source": [
    "print(vectorizer.inverse_transform(vectorized_input))"
   ]
  },
  {
   "cell_type": "markdown",
   "metadata": {},
   "source": [
    "### List Of Other Important Parameters\n",
    "\n",
    "We'll below list down other important parameters available in the  `CountVectorizer`  model which can help us with various purposes when extracting futures from text data.\n",
    "\n",
    "**input**  - It accepts one of string values from list ['content', 'filename','file'].  `content`  expects list of  `strings/bytes`  as input.  `filename`  expects list of filename as input.`file`  expects list of file objects as input.  `default=content`\n",
    "\n",
    "**encoding**  - If the list of bytes or files opened in binary mode are given as input then this parameter is used to decode data.  `default=utf-8`\n",
    "\n",
    "**decode_error**  - It accepts string from list ['strict', 'ignore', 'replace'].  `strict`  will fail vectorizer if there is error when decoding byte sequence.`ignore`  will ignore characters where errors occur while decoding.  `replace`  will replace with suitable matching character if error occurs while decoding.`default=strict`.\n",
    "\n",
    "**preprocessor**  - It accepts  `callable`  or  `None`  as value. We can create our own preprocessor function which takes as input string and performs preprocessing according to our need. We can add lemmatization, stemming, etc.  `default=None`\n",
    "\n",
    "**tokenizer**  - It accepts  `callable`  or  `None`  as value. We can define our own function which will split words according to our needs.It's only useful when  `analyzer=word`  is set.  `default=None`"
   ]
  },
  {
   "cell_type": "code",
   "execution_count": 9,
   "metadata": {
    "ExecuteTime": {
     "end_time": "2020-11-28T11:25:58.076206Z",
     "start_time": "2020-11-28T11:25:58.058205Z"
    }
   },
   "outputs": [
    {
     "name": "stdout",
     "output_type": "stream",
     "text": [
      "Vocabulary {'welcome': 25, 'to': 22, 'coderzcolumn': 3, 'we': 24, 'will': 26, 'help': 7, 'you': 27, 'learn': 11, 'python': 18, 'lets': 13, 'start': 20, 'our': 17, 'day': 4, 'by': 2, 'learning': 12, 'something': 19, 'new': 16, 'from': 6, 'tutorials': 23, 'blogs': 1, 'keep': 10, 'till': 21, 'life': 14, 'ends': 5, 'its': 8, 'a': 0, 'long': 15, 'journey': 9}\n"
     ]
    }
   ],
   "source": [
    "def user_defined_preprocessor(sample):\n",
    "    \"\"\"\n",
    "    sample: It returns to one sample of data.\n",
    "    returns: It returns string with special characters removed.\n",
    "    It returns list of words with only english characters seprated by single white space.\n",
    "    \"\"\"\n",
    "    return ' '.join(re.findall(r'\\w+', sample)) ## \\w captures [a-zA-Z0-9] chracters in data.\n",
    "\n",
    "def user_defined_tokenizer(sample):\n",
    "    \"\"\"\n",
    "    sample: It returns to one sample of data.\n",
    "    returns: It first lowers each chracter in string and then split them by single white space.\n",
    "    It then returns list of words.\n",
    "    \"\"\"\n",
    "    return sample.lower().split(' ')\n",
    "\n",
    "vectorizer = CountVectorizer(preprocessor=user_defined_preprocessor, tokenizer=user_defined_tokenizer)\n",
    "transformed_X = vectorizer.fit_transform(X)\n",
    "print('Vocabulary', vectorizer.vocabulary_)"
   ]
  },
  {
   "cell_type": "markdown",
   "metadata": {},
   "source": [
    "\n",
    "We can access preprocessor and tokenizer using `build_preprocessor()` and `build_tokenizer()` methods and `preprocessor` and `tokenizer` property of CountVectorizer object."
   ]
  },
  {
   "cell_type": "code",
   "execution_count": 10,
   "metadata": {
    "ExecuteTime": {
     "end_time": "2020-11-28T11:25:59.572422Z",
     "start_time": "2020-11-28T11:25:59.555421Z"
    }
   },
   "outputs": [
    {
     "name": "stdout",
     "output_type": "stream",
     "text": [
      "Help on function user_defined_preprocessor in module __main__:\n",
      "\n",
      "user_defined_preprocessor(sample)\n",
      "    sample: It returns to one sample of data.\n",
      "    returns: It returns string with special characters removed.\n",
      "    It returns list of words with only english characters seprated by single white space.\n",
      "\n",
      "None\n",
      "\n",
      "Help on function user_defined_tokenizer in module __main__:\n",
      "\n",
      "user_defined_tokenizer(sample)\n",
      "    sample: It returns to one sample of data.\n",
      "    returns: It first lowers each chracter in string and then split them by single white space.\n",
      "    It then returns list of words.\n",
      "\n",
      "None\n",
      "\n",
      "Preprocessor :  <function user_defined_preprocessor at 0x0000021CD6D84C80>\n",
      "\n",
      "Tokenizer :  <function user_defined_tokenizer at 0x0000021CD6D84D08>\n"
     ]
    }
   ],
   "source": [
    "print(help(vectorizer.build_preprocessor()))\n",
    "print()\n",
    "print(help(vectorizer.build_tokenizer()))\n",
    "print()\n",
    "print('Preprocessor : ', vectorizer.preprocessor)\n",
    "print()\n",
    "print('Tokenizer : ',vectorizer.tokenizer)"
   ]
  },
  {
   "cell_type": "markdown",
   "metadata": {},
   "source": [
    "**stop_words**  - It accepts string  `english`,  `list of words`  or  `None`  as value. It removes these words when performing tokenization hence it won't be available in final vocabulary. It's only applied when  `analyzer=word`.  `default=None`\n",
    "\n",
    "**token_pattern**  - It refers to tokenization pattern which will decide what can be defined as one token(word). It's only applied when  `analyzer=word`.  `default='(?u)\\\\b\\\\w\\\\w+\\\\b'`"
   ]
  },
  {
   "cell_type": "code",
   "execution_count": 11,
   "metadata": {
    "ExecuteTime": {
     "end_time": "2020-11-28T11:26:05.668008Z",
     "start_time": "2020-11-28T11:26:05.646962Z"
    }
   },
   "outputs": [
    {
     "name": "stdout",
     "output_type": "stream",
     "text": [
      "Vocabulary :  {'welcome': 20, 'coderzcolumn': 1, 'will': 21, 'help': 5, 'learn': 8, 'python': 15, 'lets': 10, 'start': 17, 'our': 14, 'day': 2, 'learning': 9, 'something': 16, 'new': 13, 'from': 4, 'tutorials': 19, 'blogs': 0, 'keep': 7, 'till': 18, 'life': 11, 'ends': 3, 'long': 12, 'journey': 6}\n"
     ]
    }
   ],
   "source": [
    "vectorizer = CountVectorizer(stop_words=['we','you', 'it','its','to','a','an', 'the', 'by'])\n",
    "transformed_X = vectorizer.fit_transform(X)\n",
    "print('Vocabulary : ', vectorizer.vocabulary_)"
   ]
  },
  {
   "cell_type": "code",
   "execution_count": 12,
   "metadata": {
    "ExecuteTime": {
     "end_time": "2020-11-28T11:26:06.832569Z",
     "start_time": "2020-11-28T11:26:06.814525Z"
    }
   },
   "outputs": [
    {
     "name": "stdout",
     "output_type": "stream",
     "text": [
      "Vocabulary :  {'welcome': 16, 'coderzcolumn': 1, 'help': 4, 'learn': 6, 'python': 12, 'lets': 8, 'start': 13, 'day': 2, 'learning': 7, 'new': 11, 'tutorials': 15, 'blogs': 0, 'till': 14, 'life': 9, 'ends': 3, 'long': 10, 'journey': 5}\n"
     ]
    }
   ],
   "source": [
    "vectorizer = CountVectorizer(stop_words='english')\n",
    "transformed_X = vectorizer.fit_transform(X)\n",
    "print('Vocabulary : ', vectorizer.vocabulary_)"
   ]
  },
  {
   "cell_type": "code",
   "execution_count": 13,
   "metadata": {
    "ExecuteTime": {
     "end_time": "2020-11-28T11:26:07.687365Z",
     "start_time": "2020-11-28T11:26:07.670337Z"
    }
   },
   "outputs": [
    {
     "name": "stdout",
     "output_type": "stream",
     "text": [
      "Vocabulary :  {'welcome': 24, 'to': 21, 'coderzcolumn': 2, 'we': 23, 'will': 25, 'help': 6, 'you': 26, 'learn': 10, 'python': 17, 'lets': 12, 'start': 19, 'our': 16, 'day': 3, 'by': 1, 'learning': 11, 'something': 18, 'new': 15, 'from': 5, 'tutorials': 22, 'blogs': 0, 'keep': 9, 'till': 20, 'life': 13, 'ends': 4, 'its': 7, 'long': 14, 'journey': 8}\n"
     ]
    }
   ],
   "source": [
    "vectorizer = CountVectorizer(stop_words=None)\n",
    "transformed_X = vectorizer.fit_transform(X)\n",
    "print('Vocabulary : ', vectorizer.vocabulary_)"
   ]
  },
  {
   "cell_type": "markdown",
   "metadata": {},
   "source": [
    "Please make a note above how vocabulary is created with different use of  `stop_words`  values.\n",
    "\n",
    "**ngram_range**  - It accepts tuple of (min_n, max_n) which refers to the minimum and maximum values to be considered for n-grams. It's explained further below in tutorial in-depth.  `default=(1,1)`\n",
    "\n",
    "**analyzer**  - It accepts string from list ['word', 'char', 'char_wb'] as value. It decides what should be considered as one token( a word of a character).`default=word`"
   ]
  },
  {
   "cell_type": "code",
   "execution_count": 14,
   "metadata": {
    "ExecuteTime": {
     "end_time": "2020-11-28T11:26:09.078707Z",
     "start_time": "2020-11-28T11:26:09.060703Z"
    }
   },
   "outputs": [
    {
     "name": "stdout",
     "output_type": "stream",
     "text": [
      "Vocabulary :  {'welcome coderzcolumn': 29, 'coderzcolumn help': 2, 'help learn': 8, 'learn python': 12, 'welcome coderzcolumn help': 30, 'coderzcolumn help learn': 3, 'help learn python': 9, 'lets start': 18, 'start day': 23, 'day learning': 4, 'learning new': 15, 'lets start day': 19, 'start day learning': 24, 'day learning new': 5, 'learn tutorials': 13, 'tutorials learn': 27, 'learn blogs': 10, 'blogs learning': 0, 'learning till': 16, 'till life': 25, 'life ends': 20, 'ends long': 6, 'long journey': 22, 'learn tutorials learn': 14, 'tutorials learn blogs': 28, 'learn blogs learning': 11, 'blogs learning till': 1, 'learning till life': 17, 'till life ends': 26, 'life ends long': 21, 'ends long journey': 7}\n"
     ]
    }
   ],
   "source": [
    "vectorizer = CountVectorizer(ngram_range=(2,3), analyzer='word', stop_words='english')\n",
    "transformed_X = vectorizer.fit_transform(X)\n",
    "print('Vocabulary : ', vectorizer.vocabulary_)"
   ]
  },
  {
   "cell_type": "markdown",
   "metadata": {},
   "source": [
    "Please make a note above that we have considered only 2-words and 3-words as token while removing stop words."
   ]
  },
  {
   "cell_type": "code",
   "execution_count": 15,
   "metadata": {
    "ExecuteTime": {
     "end_time": "2020-11-28T11:26:10.454047Z",
     "start_time": "2020-11-28T11:26:10.444049Z"
    }
   },
   "outputs": [
    {
     "name": "stdout",
     "output_type": "stream",
     "text": [
      "Vocabulary :  [('welc', 295), ('elco', 97), ('lcom', 150), ('come', 78), ('ome ', 212), ('me t', 176), ('e to', 88), (' to ', 39), ('to c', 273), ('o co', 200), (' cod', 6), ('code', 74), ('oder', 202), ('derz', 82), ('erzc', 105), ('rzco', 248), ('zcol', 307), ('colu', 76), ('olum', 206), ('lumn', 170)]\n"
     ]
    }
   ],
   "source": [
    "vectorizer = CountVectorizer(ngram_range=(4, 5), analyzer='char', stop_words='english')\n",
    "transformed_X = vectorizer.fit_transform(X)\n",
    "print('Vocabulary : ', list(vectorizer.vocabulary_.items())[:20])"
   ]
  },
  {
   "cell_type": "markdown",
   "metadata": {},
   "source": [
    "Please make a note above that we have considered only 4-characters and 5-characters as token while removing stop words. We are printing only 20 token to prevent output from flooding.\n",
    "\n",
    "**max_futures**  - It accepts  `int`  or  `None`  as value. If an integer is provided then only that many top tokens according to token-frequency will be considered across the corpus. If  `vocabulary`  parameter described below has been given then this parameter is ignored.  `default=None`\n",
    "\n",
    "**vocabulary**  - It accepts mapping(dict) or iterable as value. Mapping should be a dictionary with the key as token and value as indices. For iterable, it should be a list of (token, index) values.`default=None`\n",
    "\n",
    "**Note:**  Document-frequency represents a total number of the document that contains term token/term."
   ]
  },
  {
   "cell_type": "code",
   "execution_count": 16,
   "metadata": {
    "ExecuteTime": {
     "end_time": "2020-11-28T11:26:12.258811Z",
     "start_time": "2020-11-28T11:26:12.234813Z"
    }
   },
   "outputs": [
    {
     "name": "stdout",
     "output_type": "stream",
     "text": [
      "Vocabulary :  [('welcome', 9), ('to', 6), ('we', 8), ('learn', 2), ('start', 4), ('learning', 3), ('from', 1), ('tutorials', 7), ('blogs', 0), ('till', 5)]\n"
     ]
    }
   ],
   "source": [
    "vectorizer = CountVectorizer(max_features=10)\n",
    "transformed_X = vectorizer.fit_transform(X)\n",
    "print('Vocabulary : ', list(vectorizer.vocabulary_.items())[:20])"
   ]
  },
  {
   "cell_type": "code",
   "execution_count": 17,
   "metadata": {
    "ExecuteTime": {
     "end_time": "2020-11-28T11:26:12.790212Z",
     "start_time": "2020-11-28T11:26:12.784218Z"
    }
   },
   "outputs": [
    {
     "name": "stdout",
     "output_type": "stream",
     "text": [
      "Vocabulary :  [('welcome', 0), ('tutorials', 1), ('blogs', 2)]\n"
     ]
    }
   ],
   "source": [
    "vectorizer = CountVectorizer(vocabulary={'welcome':0,'tutorials':1, 'blogs':2})\n",
    "transformed_X = vectorizer.fit_transform(X)\n",
    "print('Vocabulary : ', list(vectorizer.vocabulary_.items())[:20])"
   ]
  },
  {
   "cell_type": "markdown",
   "metadata": {},
   "source": [
    "\n",
    "**min_df**  - It accepts float value in range [0.0, 1.0]. It ignores all tokens whose document-frequency is lower than given value.  `default=1`\n",
    "\n",
    "**max_df**  - It accepts float value in range [0.0, 1.0]. It ignores all tokens whose document-frequency is higher than given value.  `default=1.0`"
   ]
  },
  {
   "cell_type": "code",
   "execution_count": 18,
   "metadata": {
    "ExecuteTime": {
     "end_time": "2020-11-28T11:30:09.203143Z",
     "start_time": "2020-11-28T11:30:09.184148Z"
    }
   },
   "outputs": [
    {
     "name": "stdout",
     "output_type": "stream",
     "text": [
      "Vocabulary :  [('welcome', 24), ('to', 21), ('coderzcolumn', 2), ('we', 23), ('will', 25), ('help', 6), ('you', 26), ('learn', 10), ('python', 17), ('lets', 12), ('start', 19), ('our', 16), ('day', 3), ('by', 1), ('learning', 11), ('something', 18), ('new', 15), ('from', 5), ('tutorials', 22), ('blogs', 0)]\n"
     ]
    }
   ],
   "source": [
    "vectorizer = CountVectorizer(min_df=0.25, max_df=0.75)\n",
    "transformed_X = vectorizer.fit_transform(X)\n",
    "print('Vocabulary : ', list(vectorizer.vocabulary_.items())[:20])"
   ]
  },
  {
   "cell_type": "markdown",
   "metadata": {},
   "source": [
    "## tf-idf encoding\n",
    "\n",
    "tf-idf (term frequency-inverse document frequency) is a type of transformation applied to bag-of-words tokens. It's kind of scaling which can help complete training fast.\n",
    "\n",
    "The main idea behind scaling is that down weight words which occur in many documents because that kind of words will have less influence on natural processing tasks like document classification. It puts more emphasis on words that are less occurring giving them more weight than frequently occurring.\n",
    "\n",
    "We'll below explain step by step of getting tf-idf though scikit-learn has direct implementation for it as well.\n",
    "\n",
    "**Raw Term Frequency - tf(t,d):**  We already explained above raw term frequency and scikit-learn implementation  `CountVectorizer`  to get it.\n",
    "\n",
    "**Normalized Term Frequency:**  Raw term frequency is normalized using l2-normalization which involves dividing normal term frequency  vv  by its vector's length  ||v||||v||  (Euclidean Norm).\n",
    "\n",
    "vnorm=v||v||2=v(∑ni=1vi)1/2vnorm=v||v||2=v(∑i=1nvi)1/2\n",
    "\n",
    "**document frequency - df(d,t):**  It represents a total number of the document that contains term t.\n",
    "\n",
    "**inverse document frequency - idf(t):**  Formula for idf is given below based on document frequency.\n",
    "\n",
    "idf(t)=lognddf(d,t)+1idf(t)=log⁡nddf(d,t)+1\n",
    "\n",
    "**smooth_idf:**  Scikit-learn transformers have an attribute called  `smooth_idf`  which transforms  `idf`  formula mentioned above to below one.\n",
    "\n",
    "idf(t)=log1+nd1+df(d,t)+1idf(t)=log⁡1+nd1+df(d,t)+1\n",
    "\n",
    "**tf-idf:**  FInal formula based on above terms for tf-idf is given below\n",
    "\n",
    "tf−idf(t,d)=tf(t,d)∗idf(t)"
   ]
  },
  {
   "cell_type": "code",
   "execution_count": 19,
   "metadata": {
    "ExecuteTime": {
     "end_time": "2020-11-28T11:30:11.640567Z",
     "start_time": "2020-11-28T11:30:11.626574Z"
    }
   },
   "outputs": [
    {
     "name": "stdout",
     "output_type": "stream",
     "text": [
      "Normalized Term Frequency of 3rd sample : \n",
      " [0.23570226 0.         0.         0.         0.23570226 0.47140452\n",
      " 0.         0.23570226 0.23570226 0.23570226 0.47140452 0.23570226\n",
      " 0.         0.23570226 0.23570226 0.         0.         0.\n",
      " 0.         0.         0.23570226 0.         0.23570226 0.\n",
      " 0.         0.         0.        ]\n"
     ]
    }
   ],
   "source": [
    "tf = vectorized_input.toarray()\n",
    "normalized_tf = tf[2] / np.sqrt(np.sum(tf[2]**2))\n",
    "print('Normalized Term Frequency of 3rd sample : \\n',normalized_tf)"
   ]
  },
  {
   "cell_type": "code",
   "execution_count": 20,
   "metadata": {
    "ExecuteTime": {
     "end_time": "2020-11-28T11:30:17.362570Z",
     "start_time": "2020-11-28T11:30:17.350573Z"
    }
   },
   "outputs": [
    {
     "name": "stdout",
     "output_type": "stream",
     "text": [
      "Normalized Term Frequency of 3rd sample : \n",
      " [0.23570226 0.         0.         0.         0.23570226 0.47140452\n",
      " 0.         0.23570226 0.23570226 0.23570226 0.47140452 0.23570226\n",
      " 0.         0.23570226 0.23570226 0.         0.         0.\n",
      " 0.         0.         0.23570226 0.         0.23570226 0.\n",
      " 0.         0.         0.        ]\n"
     ]
    }
   ],
   "source": [
    "from sklearn.feature_extraction.text import TfidfTransformer\n",
    "\n",
    "tfidf = TfidfTransformer(use_idf=False, norm='l2', smooth_idf=False)\n",
    "tf_normalized = tfidf.fit_transform(tf).toarray()\n",
    "print('Normalized Term Frequency of 3rd sample : \\n', tf_normalized[2])"
   ]
  },
  {
   "cell_type": "code",
   "execution_count": 21,
   "metadata": {
    "ExecuteTime": {
     "end_time": "2020-11-28T11:30:18.409568Z",
     "start_time": "2020-11-28T11:30:18.395572Z"
    }
   },
   "outputs": [
    {
     "name": "stdout",
     "output_type": "stream",
     "text": [
      "idf of \"welcome\" :  2.09861228866811\n",
      "idf of \"learn\" :  4.216395324324493\n"
     ]
    }
   ],
   "source": [
    "n_docs = len(X)\n",
    "tf_welcome = 1\n",
    "df_welcome = 1\n",
    "inverse_df_welcome = (np.log(n_docs / df_welcome) + 1)\n",
    "print('idf of \"welcome\" : ',tf_welcome * inverse_df_welcome)\n",
    "\n",
    "tf_learn = 3\n",
    "df_learn = 2\n",
    "inverse_df_learn = (np.log(n_docs / df_learn) + 1)\n",
    "print('idf of \"learn\" : ', tf_learn * inverse_df_learn)"
   ]
  },
  {
   "cell_type": "code",
   "execution_count": 22,
   "metadata": {
    "ExecuteTime": {
     "end_time": "2020-11-28T11:30:21.102571Z",
     "start_time": "2020-11-28T11:30:21.086570Z"
    }
   },
   "outputs": [],
   "source": [
    "tfidf = TfidfTransformer(norm=None,smooth_idf=False,use_idf=True)\n",
    "tf_idf = tfidf.fit_transform(tf).toarray()"
   ]
  },
  {
   "cell_type": "code",
   "execution_count": 23,
   "metadata": {
    "ExecuteTime": {
     "end_time": "2020-11-28T11:30:22.190566Z",
     "start_time": "2020-11-28T11:30:22.169571Z"
    }
   },
   "outputs": [
    {
     "data": {
      "text/plain": [
       "array([2.09861229, 2.09861229, 2.09861229, 2.09861229, 2.09861229,\n",
       "       2.09861229, 2.09861229, 2.09861229, 2.09861229, 2.09861229,\n",
       "       1.40546511, 1.40546511, 2.09861229, 2.09861229, 2.09861229,\n",
       "       2.09861229, 2.09861229, 2.09861229, 2.09861229, 2.09861229,\n",
       "       2.09861229, 2.09861229, 2.09861229, 2.09861229, 2.09861229,\n",
       "       2.09861229, 2.09861229])"
      ]
     },
     "execution_count": 23,
     "metadata": {},
     "output_type": "execute_result"
    }
   ],
   "source": [
    "tfidf.idf_"
   ]
  },
  {
   "cell_type": "code",
   "execution_count": 24,
   "metadata": {
    "ExecuteTime": {
     "end_time": "2020-11-28T11:30:23.293570Z",
     "start_time": "2020-11-28T11:30:23.286571Z"
    }
   },
   "outputs": [
    {
     "data": {
      "text/plain": [
       "array([2.09861229, 0.        , 0.        , 0.        , 2.09861229,\n",
       "       4.19722458, 0.        , 2.09861229, 2.09861229, 2.09861229,\n",
       "       2.81093022, 1.40546511, 0.        , 2.09861229, 2.09861229,\n",
       "       0.        , 0.        , 0.        , 0.        , 0.        ,\n",
       "       2.09861229, 0.        , 2.09861229, 0.        , 0.        ,\n",
       "       0.        , 0.        ])"
      ]
     },
     "execution_count": 24,
     "metadata": {},
     "output_type": "execute_result"
    }
   ],
   "source": [
    "tf_idf[2]"
   ]
  },
  {
   "cell_type": "markdown",
   "metadata": {},
   "source": [
    "Let’s use the  `TfidfVectorizer`  class of scikit-learn for generating tf-idfs.\n",
    "\n",
    "**Note:**  Please make a note that  `TfidfTransformer`  works on term frequency array generated through  `CountVectorizer`  and  `TfidfVectorizer`  works directly on the original list of strings."
   ]
  },
  {
   "cell_type": "code",
   "execution_count": 25,
   "metadata": {
    "ExecuteTime": {
     "end_time": "2020-11-28T11:30:25.332309Z",
     "start_time": "2020-11-28T11:30:25.316309Z"
    }
   },
   "outputs": [
    {
     "data": {
      "text/plain": [
       "array([2.09861229, 0.        , 0.        , 0.        , 2.09861229,\n",
       "       4.19722458, 0.        , 2.09861229, 2.09861229, 2.09861229,\n",
       "       2.81093022, 1.40546511, 0.        , 2.09861229, 2.09861229,\n",
       "       0.        , 0.        , 0.        , 0.        , 0.        ,\n",
       "       2.09861229, 0.        , 2.09861229, 0.        , 0.        ,\n",
       "       0.        , 0.        ])"
      ]
     },
     "execution_count": 25,
     "metadata": {},
     "output_type": "execute_result"
    }
   ],
   "source": [
    "from sklearn.feature_extraction.text import TfidfVectorizer\n",
    "\n",
    "tfidf_vect = TfidfVectorizer(norm=None,smooth_idf=False,use_idf=True)\n",
    "tf_idf = tfidf_vect.fit_transform(X).toarray()\n",
    "tf_idf[2]"
   ]
  },
  {
   "cell_type": "code",
   "execution_count": 26,
   "metadata": {
    "ExecuteTime": {
     "end_time": "2020-11-28T11:30:26.844309Z",
     "start_time": "2020-11-28T11:30:26.829306Z"
    }
   },
   "outputs": [
    {
     "name": "stdout",
     "output_type": "stream",
     "text": [
      "idf of \"welcome\" :  1.6931471805599454\n",
      "idf of \"learn\" :  3.8630462173553424\n"
     ]
    }
   ],
   "source": [
    "n_docs = len(X)\n",
    "tf_welcome = 1\n",
    "df_welcome = 1\n",
    "inverse_df_welcome = (np.log( (1+n_docs) / (1+df_welcome)) + 1)\n",
    "print('idf of \"welcome\" : ',tf_welcome * inverse_df_welcome)\n",
    "\n",
    "tf_learn = 3\n",
    "df_learn = 2\n",
    "inverse_df_learn = (np.log((1+n_docs) / (1+df_learn)) + 1)\n",
    "print('idf of \"learn\" : ', tf_learn * inverse_df_learn)"
   ]
  },
  {
   "cell_type": "code",
   "execution_count": 27,
   "metadata": {
    "ExecuteTime": {
     "end_time": "2020-11-28T11:30:29.670177Z",
     "start_time": "2020-11-28T11:30:29.643176Z"
    }
   },
   "outputs": [
    {
     "data": {
      "text/plain": [
       "array([1.69314718, 0.        , 0.        , 0.        , 1.69314718,\n",
       "       3.38629436, 0.        , 1.69314718, 1.69314718, 1.69314718,\n",
       "       2.57536414, 1.28768207, 0.        , 1.69314718, 1.69314718,\n",
       "       0.        , 0.        , 0.        , 0.        , 0.        ,\n",
       "       1.69314718, 0.        , 1.69314718, 0.        , 0.        ,\n",
       "       0.        , 0.        ])"
      ]
     },
     "execution_count": 27,
     "metadata": {},
     "output_type": "execute_result"
    }
   ],
   "source": [
    "tfidf_vect = TfidfVectorizer(norm=None) ## Tfidf with no normalization. It'll be using idf and smoothing of idf though.\n",
    "tf_idf = tfidf_vect.fit_transform(X).toarray()\n",
    "tf_idf[2]"
   ]
  },
  {
   "cell_type": "code",
   "execution_count": 28,
   "metadata": {
    "ExecuteTime": {
     "end_time": "2020-11-28T11:30:30.578171Z",
     "start_time": "2020-11-28T11:30:30.558178Z"
    }
   },
   "outputs": [
    {
     "data": {
      "text/plain": [
       "array([0.25084807, 0.        , 0.        , 0.        , 0.25084807,\n",
       "       0.50169613, 0.        , 0.25084807, 0.25084807, 0.25084807,\n",
       "       0.38155284, 0.19077642, 0.        , 0.25084807, 0.25084807,\n",
       "       0.        , 0.        , 0.        , 0.        , 0.        ,\n",
       "       0.25084807, 0.        , 0.25084807, 0.        , 0.        ,\n",
       "       0.        , 0.        ])"
      ]
     },
     "execution_count": 28,
     "metadata": {},
     "output_type": "execute_result"
    }
   ],
   "source": [
    "tfidf_vect = TfidfVectorizer() ## tfidf with l2 normalization, using idf and smoothing idf as well\n",
    "tf_idf = tfidf_vect.fit_transform(X).toarray()\n",
    "tf_idf[2]"
   ]
  },
  {
   "cell_type": "markdown",
   "metadata": {},
   "source": [
    "### List Of Other Important Parameters\n",
    "\n",
    "`TfidfVectorizer`  has most of the parameter the same as that of  `Countvectorizer`  which we have explained above in-depth. One can try the parameter values explained above with  `TfidfVectorizer`  as well to check results. Parameters that were specific to  `TfidfVectorizer`  have been already explained above with examples.\n",
    "\n",
    "## Bigrams and N-Grams\n",
    "\n",
    "Till now we have discussed only one-word tokens(1-gram - unigram) and totally discarded order of words. But this might not be always right as we might need to consider the order in some scenarios (like \"not\" can invert the meaning of the sentence).\n",
    "\n",
    "A simple way to consider some order of words is to use n-grams. N-Grams does not look at single words but all pairs of possible neighbors.\n",
    "\n",
    "2-grams can consist of all 2 words neighboring pairs with an overlap of 1 word. 3-grams can consist of all 3 words neighboring pairs with an overlap of 2 words.\n",
    "\n",
    "-   Sample Text : \"Lets learn something new today\"\n",
    "-   1-gram : \"lets\", \"learn\", \"something\", \"new\", \"today\"\n",
    "-   2-gram : \"lets learn\", \"learn something\", \"something new\", \"new today\"\n",
    "-   3-gram : \"lets learn something\", \"learn something new\", \"something new today\"\n",
    "\n",
    "Deciding \"n\" to be used in n-gram is dependent on the application and can be used as one hyperparameter of the algorithm to be tuned."
   ]
  },
  {
   "cell_type": "code",
   "execution_count": 29,
   "metadata": {
    "ExecuteTime": {
     "end_time": "2020-11-28T11:30:32.993174Z",
     "start_time": "2020-11-28T11:30:32.977201Z"
    }
   },
   "outputs": [
    {
     "data": {
      "text/plain": [
       "CountVectorizer(ngram_range=(2, 2))"
      ]
     },
     "execution_count": 29,
     "metadata": {},
     "output_type": "execute_result"
    }
   ],
   "source": [
    "bigram_vectorizer = CountVectorizer(ngram_range=(2, 2)) ## N-gram with min lenght of 2 and max length of 2\n",
    "bigram_vectorizer.fit(X)"
   ]
  },
  {
   "cell_type": "code",
   "execution_count": 30,
   "metadata": {
    "ExecuteTime": {
     "end_time": "2020-11-28T11:30:36.163174Z",
     "start_time": "2020-11-28T11:30:36.150174Z"
    }
   },
   "outputs": [
    {
     "name": "stdout",
     "output_type": "stream",
     "text": [
      "['blogs keep', 'by learning', 'coderzcolumn we', 'day by', 'ends its', 'from blogs', 'from tutorials', 'help you', 'its long', 'keep learning', 'learn from', 'learn python', 'learning something', 'learning till', 'lets start', 'life ends', 'long journey', 'our day', 'something new', 'start our', 'till life', 'to coderzcolumn', 'tutorials learn', 'we will', 'welcome to', 'will help', 'you learn']\n"
     ]
    }
   ],
   "source": [
    "print(bigram_vectorizer.get_feature_names())"
   ]
  },
  {
   "cell_type": "code",
   "execution_count": 31,
   "metadata": {
    "ExecuteTime": {
     "end_time": "2020-11-28T11:30:37.769174Z",
     "start_time": "2020-11-28T11:30:37.759174Z"
    }
   },
   "outputs": [
    {
     "data": {
      "text/plain": [
       "array([[0, 0, 1, 0, 0, 0, 0, 1, 0, 0, 0, 1, 0, 0, 0, 0, 0, 0, 0, 0, 0, 1,\n",
       "        0, 1, 1, 1, 1],\n",
       "       [0, 1, 0, 1, 0, 0, 0, 0, 0, 0, 0, 0, 1, 0, 1, 0, 0, 1, 1, 1, 0, 0,\n",
       "        0, 0, 0, 0, 0],\n",
       "       [1, 0, 0, 0, 1, 1, 1, 0, 1, 1, 2, 0, 0, 1, 0, 1, 1, 0, 0, 0, 1, 0,\n",
       "        1, 0, 0, 0, 0]], dtype=int64)"
      ]
     },
     "execution_count": 31,
     "metadata": {},
     "output_type": "execute_result"
    }
   ],
   "source": [
    "bigram_vectorizer.transform(X).toarray()"
   ]
  },
  {
   "cell_type": "code",
   "execution_count": 32,
   "metadata": {
    "ExecuteTime": {
     "end_time": "2020-11-28T11:30:39.094174Z",
     "start_time": "2020-11-28T11:30:39.086174Z"
    }
   },
   "outputs": [
    {
     "name": "stdout",
     "output_type": "stream",
     "text": [
      "{'welcome to': 24, 'to coderzcolumn': 21, 'coderzcolumn we': 2, 'we will': 23, 'will help': 25, 'help you': 7, 'you learn': 26, 'learn python': 11, 'lets start': 14, 'start our': 19, 'our day': 17, 'day by': 3, 'by learning': 1, 'learning something': 12, 'something new': 18, 'learn from': 10, 'from tutorials': 6, 'tutorials learn': 22, 'from blogs': 5, 'blogs keep': 0, 'keep learning': 9, 'learning till': 13, 'till life': 20, 'life ends': 15, 'ends its': 4, 'its long': 8, 'long journey': 16}\n"
     ]
    }
   ],
   "source": [
    "print(bigram_vectorizer.vocabulary_)"
   ]
  },
  {
   "cell_type": "code",
   "execution_count": 33,
   "metadata": {
    "ExecuteTime": {
     "end_time": "2020-11-28T11:30:40.921186Z",
     "start_time": "2020-11-28T11:30:40.914175Z"
    }
   },
   "outputs": [
    {
     "data": {
      "text/plain": [
       "CountVectorizer(ngram_range=(1, 2))"
      ]
     },
     "execution_count": 33,
     "metadata": {},
     "output_type": "execute_result"
    }
   ],
   "source": [
    "gram_vectorizer = CountVectorizer(ngram_range=(1, 2))\n",
    "gram_vectorizer.fit(X)"
   ]
  },
  {
   "cell_type": "code",
   "execution_count": 34,
   "metadata": {
    "ExecuteTime": {
     "end_time": "2020-11-28T11:30:42.134173Z",
     "start_time": "2020-11-28T11:30:42.130176Z"
    }
   },
   "outputs": [
    {
     "name": "stdout",
     "output_type": "stream",
     "text": [
      "['blogs', 'blogs keep', 'by', 'by learning', 'coderzcolumn', 'coderzcolumn we', 'day', 'day by', 'ends', 'ends its', 'from', 'from blogs', 'from tutorials', 'help', 'help you', 'its', 'its long', 'journey', 'keep', 'keep learning', 'learn', 'learn from', 'learn python', 'learning', 'learning something', 'learning till', 'lets', 'lets start', 'life', 'life ends', 'long', 'long journey', 'new', 'our', 'our day', 'python', 'something', 'something new', 'start', 'start our', 'till', 'till life', 'to', 'to coderzcolumn', 'tutorials', 'tutorials learn', 'we', 'we will', 'welcome', 'welcome to', 'will', 'will help', 'you', 'you learn']\n"
     ]
    }
   ],
   "source": [
    "print(gram_vectorizer.get_feature_names())"
   ]
  },
  {
   "cell_type": "code",
   "execution_count": 35,
   "metadata": {
    "ExecuteTime": {
     "end_time": "2020-11-28T11:30:43.817171Z",
     "start_time": "2020-11-28T11:30:43.798174Z"
    }
   },
   "outputs": [
    {
     "data": {
      "text/plain": [
       "array([[0, 0, 0, 0, 1, 1, 0, 0, 0, 0, 0, 0, 0, 1, 1, 0, 0, 0, 0, 0, 1, 0,\n",
       "        1, 0, 0, 0, 0, 0, 0, 0, 0, 0, 0, 0, 0, 1, 0, 0, 0, 0, 0, 0, 1, 1,\n",
       "        0, 0, 1, 1, 1, 1, 1, 1, 1, 1],\n",
       "       [0, 0, 1, 1, 0, 0, 1, 1, 0, 0, 0, 0, 0, 0, 0, 0, 0, 0, 0, 0, 0, 0,\n",
       "        0, 1, 1, 0, 1, 1, 0, 0, 0, 0, 1, 1, 1, 0, 1, 1, 1, 1, 0, 0, 0, 0,\n",
       "        0, 0, 0, 0, 0, 0, 0, 0, 0, 0],\n",
       "       [1, 1, 0, 0, 0, 0, 0, 0, 1, 1, 2, 1, 1, 0, 0, 1, 1, 1, 1, 1, 2, 2,\n",
       "        0, 1, 0, 1, 0, 0, 1, 1, 1, 1, 0, 0, 0, 0, 0, 0, 0, 0, 1, 1, 0, 0,\n",
       "        1, 1, 0, 0, 0, 0, 0, 0, 0, 0]], dtype=int64)"
      ]
     },
     "execution_count": 35,
     "metadata": {},
     "output_type": "execute_result"
    }
   ],
   "source": [
    "gram_vectorizer.transform(X).toarray()"
   ]
  },
  {
   "cell_type": "code",
   "execution_count": 36,
   "metadata": {
    "ExecuteTime": {
     "end_time": "2020-11-28T11:31:03.522175Z",
     "start_time": "2020-11-28T11:31:03.502174Z"
    }
   },
   "outputs": [
    {
     "name": "stdout",
     "output_type": "stream",
     "text": [
      "{'welcome': 48, 'to': 42, 'coderzcolumn': 4, 'we': 46, 'will': 50, 'help': 13, 'you': 52, 'learn': 20, 'python': 35, 'welcome to': 49, 'to coderzcolumn': 43, 'coderzcolumn we': 5, 'we will': 47, 'will help': 51, 'help you': 14, 'you learn': 53, 'learn python': 22, 'lets': 26, 'start': 38, 'our': 33, 'day': 6, 'by': 2, 'learning': 23, 'something': 36, 'new': 32, 'lets start': 27, 'start our': 39, 'our day': 34, 'day by': 7, 'by learning': 3, 'learning something': 24, 'something new': 37, 'from': 10, 'tutorials': 44, 'blogs': 0, 'keep': 18, 'till': 40, 'life': 28, 'ends': 8, 'its': 15, 'long': 30, 'journey': 17, 'learn from': 21, 'from tutorials': 12, 'tutorials learn': 45, 'from blogs': 11, 'blogs keep': 1, 'keep learning': 19, 'learning till': 25, 'till life': 41, 'life ends': 29, 'ends its': 9, 'its long': 16, 'long journey': 31}\n"
     ]
    }
   ],
   "source": [
    "print(gram_vectorizer.vocabulary_)"
   ]
  },
  {
   "cell_type": "markdown",
   "metadata": {},
   "source": [
    "### Character N-Grams\n",
    "\n",
    "Sometimes we want to create tokens of a list of characters of a particular length. Character N-Grams are generally used in language identification.\n",
    "\n",
    "We can use  `analyzer=\"char\"`  for generating character n-grams with  `CountVectorizer`  as we had described above."
   ]
  },
  {
   "cell_type": "code",
   "execution_count": 37,
   "metadata": {
    "ExecuteTime": {
     "end_time": "2020-11-28T11:31:13.180137Z",
     "start_time": "2020-11-28T11:31:13.165138Z"
    }
   },
   "outputs": [
    {
     "data": {
      "text/plain": [
       "CountVectorizer(analyzer='char', ngram_range=(2, 2))"
      ]
     },
     "execution_count": 37,
     "metadata": {},
     "output_type": "execute_result"
    }
   ],
   "source": [
    "char_vectorizer = CountVectorizer(ngram_range=(2, 2), analyzer=\"char\")\n",
    "char_vectorizer.fit(X)"
   ]
  },
  {
   "cell_type": "code",
   "execution_count": 38,
   "metadata": {
    "ExecuteTime": {
     "end_time": "2020-11-28T11:31:14.557161Z",
     "start_time": "2020-11-28T11:31:14.549160Z"
    }
   },
   "outputs": [
    {
     "name": "stdout",
     "output_type": "stream",
     "text": [
      "[' a', ' b', ' c', ' d', ' e', ' f', ' h', ' i', ' j', ' k', ' l', ' n', ' o', ' p', ' s', ' t', ' w', ' y', ', ', '. ', 'a ', 'al', 'ar', 'ay', 'bl', 'by', 'co', 'da', 'de', 'ds', 'e ', 'ea', 'ee', 'el', 'en', 'ep', 'er', 'et', 'ew', 'ey', 'fe', 'fr', 'g ', 'gs', 'he', 'hi', 'ho', 'ia', 'if', 'il', 'in', 'it', 'jo', 'ke', 'l ', 'lc', 'le', 'li', 'll', 'lo', 'lp', 'ls', 'lu', 'm ', 'me', 'mn', 'n ', 'n.', 'nd', 'ne', 'ng', 'ni', 'o ', 'od', 'og', 'ol', 'om', 'on', 'or', 'ou', 'p ', 'py', 'r ', 'ri', 'rn', 'ro', 'rt', 'rz', 's ', 's,', 's.', 'so', 'st', 't ', 'ta', 'th', 'ti', 'to', 'ts', 'tu', 'u ', 'um', 'ur', 'ut', 'we', 'wi', 'y ', 'yo', 'yt', 'zc']\n"
     ]
    }
   ],
   "source": [
    "print(char_vectorizer.get_feature_names())"
   ]
  },
  {
   "cell_type": "markdown",
   "metadata": {},
   "source": [
    "# SMS Spam Detection Case Study\n",
    "\n",
    "We'll perform an SMS Spam classification task from the UCI ML data library. It'll help us explain the whole process of text feature extraction, feature selection, training model, evaluating the model and visualizing results.\n",
    "\n",
    "## Flow of Whole Process\n",
    "\n",
    "![](https://storage.googleapis.com/coderzcolumn/static/tutorials/machine_learning/pipeline_cross_validation.svg)\n",
    "\n",
    "We'll first download data from the UCI ML data directory and then will perform classification by reading a file."
   ]
  },
  {
   "cell_type": "code",
   "execution_count": 39,
   "metadata": {
    "ExecuteTime": {
     "end_time": "2020-11-28T11:31:30.532057Z",
     "start_time": "2020-11-28T11:31:30.450065Z"
    }
   },
   "outputs": [
    {
     "name": "stderr",
     "output_type": "stream",
     "text": [
      "'wget' is not recognized as an internal or external command,\n",
      "operable program or batch file.\n",
      "'unzip' is not recognized as an internal or external command,\n",
      "operable program or batch file.\n"
     ]
    }
   ],
   "source": [
    "!wget https://archive.ics.uci.edu/ml/machine-learning-databases/00228/smsspamcollection.zip\n",
    "!unzip smsspamcollection.zip"
   ]
  },
  {
   "cell_type": "code",
   "execution_count": 40,
   "metadata": {
    "ExecuteTime": {
     "end_time": "2020-11-28T11:31:32.832592Z",
     "start_time": "2020-11-28T11:31:32.748603Z"
    }
   },
   "outputs": [
    {
     "data": {
      "text/html": [
       "<div>\n",
       "<style scoped>\n",
       "    .dataframe tbody tr th:only-of-type {\n",
       "        vertical-align: middle;\n",
       "    }\n",
       "\n",
       "    .dataframe tbody tr th {\n",
       "        vertical-align: top;\n",
       "    }\n",
       "\n",
       "    .dataframe thead th {\n",
       "        text-align: right;\n",
       "    }\n",
       "</style>\n",
       "<table border=\"1\" class=\"dataframe\">\n",
       "  <thead>\n",
       "    <tr style=\"text-align: right;\">\n",
       "      <th></th>\n",
       "      <th>target</th>\n",
       "      <th>data</th>\n",
       "    </tr>\n",
       "  </thead>\n",
       "  <tbody>\n",
       "    <tr>\n",
       "      <th>0</th>\n",
       "      <td>ham</td>\n",
       "      <td>Go until jurong point, crazy.. Available only ...</td>\n",
       "    </tr>\n",
       "    <tr>\n",
       "      <th>1</th>\n",
       "      <td>ham</td>\n",
       "      <td>Ok lar... Joking wif u oni...</td>\n",
       "    </tr>\n",
       "    <tr>\n",
       "      <th>2</th>\n",
       "      <td>spam</td>\n",
       "      <td>Free entry in 2 a wkly comp to win FA Cup fina...</td>\n",
       "    </tr>\n",
       "    <tr>\n",
       "      <th>3</th>\n",
       "      <td>ham</td>\n",
       "      <td>U dun say so early hor... U c already then say...</td>\n",
       "    </tr>\n",
       "    <tr>\n",
       "      <th>4</th>\n",
       "      <td>ham</td>\n",
       "      <td>Nah I don't think he goes to usf, he lives aro...</td>\n",
       "    </tr>\n",
       "    <tr>\n",
       "      <th>...</th>\n",
       "      <td>...</td>\n",
       "      <td>...</td>\n",
       "    </tr>\n",
       "    <tr>\n",
       "      <th>5567</th>\n",
       "      <td>spam</td>\n",
       "      <td>This is the 2nd time we have tried 2 contact u...</td>\n",
       "    </tr>\n",
       "    <tr>\n",
       "      <th>5568</th>\n",
       "      <td>ham</td>\n",
       "      <td>Will ฬ_ b going to esplanade fr home?</td>\n",
       "    </tr>\n",
       "    <tr>\n",
       "      <th>5569</th>\n",
       "      <td>ham</td>\n",
       "      <td>Pity, * was in mood for that. So...any other s...</td>\n",
       "    </tr>\n",
       "    <tr>\n",
       "      <th>5570</th>\n",
       "      <td>ham</td>\n",
       "      <td>The guy did some bitching but I acted like i'd...</td>\n",
       "    </tr>\n",
       "    <tr>\n",
       "      <th>5571</th>\n",
       "      <td>ham</td>\n",
       "      <td>Rofl. Its true to its name</td>\n",
       "    </tr>\n",
       "  </tbody>\n",
       "</table>\n",
       "<p>5572 rows × 2 columns</p>\n",
       "</div>"
      ],
      "text/plain": [
       "     target                                               data\n",
       "0       ham  Go until jurong point, crazy.. Available only ...\n",
       "1       ham                      Ok lar... Joking wif u oni...\n",
       "2      spam  Free entry in 2 a wkly comp to win FA Cup fina...\n",
       "3       ham  U dun say so early hor... U c already then say...\n",
       "4       ham  Nah I don't think he goes to usf, he lives aro...\n",
       "...     ...                                                ...\n",
       "5567   spam  This is the 2nd time we have tried 2 contact u...\n",
       "5568    ham              Will ฬ_ b going to esplanade fr home?\n",
       "5569    ham  Pity, * was in mood for that. So...any other s...\n",
       "5570    ham  The guy did some bitching but I acted like i'd...\n",
       "5571    ham                         Rofl. Its true to its name\n",
       "\n",
       "[5572 rows x 2 columns]"
      ]
     },
     "execution_count": 40,
     "metadata": {},
     "output_type": "execute_result"
    }
   ],
   "source": [
    "import pandas as pd\n",
    "#data = pd.read_csv('data/spam.csv')\n",
    "data = pd.read_csv('spam.csv',names=['target','data'],header=0)\n",
    "data"
   ]
  },
  {
   "cell_type": "code",
   "execution_count": 41,
   "metadata": {
    "ExecuteTime": {
     "end_time": "2020-11-28T11:31:35.217425Z",
     "start_time": "2020-11-28T11:31:35.211426Z"
    }
   },
   "outputs": [],
   "source": [
    "#y, text = zip(*data)\n",
    "y = data.target\n",
    "text = data.data"
   ]
  },
  {
   "cell_type": "code",
   "execution_count": 42,
   "metadata": {
    "ExecuteTime": {
     "end_time": "2020-11-28T11:31:41.081050Z",
     "start_time": "2020-11-28T11:31:41.063053Z"
    }
   },
   "outputs": [
    {
     "data": {
      "text/plain": [
       "Counter({'ham': 4825, 'spam': 747})"
      ]
     },
     "execution_count": 42,
     "metadata": {},
     "output_type": "execute_result"
    }
   ],
   "source": [
    "collections.Counter(y)"
   ]
  },
  {
   "cell_type": "markdown",
   "metadata": {},
   "source": [
    "### Splitting Data into Train/Test Sets\n",
    "\n",
    "Lets split our data into training(75%) and test sets(25%)."
   ]
  },
  {
   "cell_type": "code",
   "execution_count": 43,
   "metadata": {
    "ExecuteTime": {
     "end_time": "2020-11-28T11:31:44.625388Z",
     "start_time": "2020-11-28T11:31:44.529387Z"
    }
   },
   "outputs": [],
   "source": [
    "from sklearn.model_selection import train_test_split\n",
    "\n",
    "text_train, text_test, y_train, y_test = train_test_split(text, y,\n",
    "                                                          random_state=42,\n",
    "                                                          test_size=0.25,\n",
    "                                                          stratify=y)"
   ]
  },
  {
   "cell_type": "code",
   "execution_count": 44,
   "metadata": {
    "ExecuteTime": {
     "end_time": "2020-11-28T11:31:46.183500Z",
     "start_time": "2020-11-28T11:31:45.695504Z"
    }
   },
   "outputs": [
    {
     "name": "stdout",
     "output_type": "stream",
     "text": [
      "(4179, 7494) (1393, 7494) (4179, 7494) (1393, 7494)\n",
      "Wall time: 473 ms\n"
     ]
    }
   ],
   "source": [
    "%%time\n",
    "count_vectorizer = CountVectorizer()\n",
    "count_vectorizer.fit(text_train)\n",
    "\n",
    "tfidf_vectorizer = TfidfVectorizer()\n",
    "tfidf_vectorizer.fit(text_train)\n",
    "\n",
    "X_train_cnt = count_vectorizer.transform(text_train)\n",
    "X_test_cnt = count_vectorizer.transform(text_test)\n",
    "\n",
    "X_train_tfidf = tfidf_vectorizer.transform(text_train)\n",
    "X_test_tfidf = tfidf_vectorizer.transform(text_test)\n",
    "\n",
    "\n",
    "print(X_train_cnt.shape, X_test_cnt.shape, X_train_tfidf.shape, X_test_tfidf.shape)"
   ]
  },
  {
   "cell_type": "code",
   "execution_count": 45,
   "metadata": {
    "ExecuteTime": {
     "end_time": "2020-11-28T11:31:51.533501Z",
     "start_time": "2020-11-28T11:31:51.085504Z"
    }
   },
   "outputs": [
    {
     "name": "stdout",
     "output_type": "stream",
     "text": [
      "LogisticRegression()\n",
      "LogisticRegression()\n"
     ]
    }
   ],
   "source": [
    "from sklearn.linear_model import LogisticRegression\n",
    "\n",
    "clf_cnt = LogisticRegression()\n",
    "print(clf_cnt.fit(X_train_cnt, y_train))\n",
    "\n",
    "clf_tfidf = LogisticRegression()\n",
    "print(clf_tfidf.fit(X_train_tfidf, y_train))"
   ]
  },
  {
   "cell_type": "code",
   "execution_count": 46,
   "metadata": {
    "ExecuteTime": {
     "end_time": "2020-11-28T11:31:52.636710Z",
     "start_time": "2020-11-28T11:31:52.609650Z"
    }
   },
   "outputs": [
    {
     "name": "stdout",
     "output_type": "stream",
     "text": [
      "Count Vectorizer Performance : 0.979\n",
      "TfIdf Vectorizer Performance : 0.933\n"
     ]
    }
   ],
   "source": [
    "print('Count Vectorizer Performance : %.3f'%clf_cnt.score(X_test_cnt, y_test))\n",
    "print('TfIdf Vectorizer Performance : %.3f'%clf_tfidf.score(X_test_cnt, y_test))"
   ]
  },
  {
   "cell_type": "code",
   "execution_count": 47,
   "metadata": {
    "ExecuteTime": {
     "end_time": "2020-11-28T11:31:54.961512Z",
     "start_time": "2020-11-28T11:31:54.946515Z"
    }
   },
   "outputs": [
    {
     "name": "stdout",
     "output_type": "stream",
     "text": [
      "Count Vectorizer Performance : 0.866\n",
      "TfIdf Vectorizer Performance : 0.972\n"
     ]
    }
   ],
   "source": [
    "\n",
    "print('Count Vectorizer Performance : %.3f'%clf_cnt.score(X_test_tfidf, y_test))\n",
    "print('TfIdf Vectorizer Performance : %.3f'%clf_tfidf.score(X_test_tfidf, y_test))"
   ]
  },
  {
   "cell_type": "markdown",
   "metadata": {},
   "source": [
    "\n",
    "### Visualize Important features Generated By Vectorizers\n",
    "\n",
    "Let’s visualize  `most important`  20 features and  `least important`  20 features. Least important features will be mostly repeated words in almost every other sentence like \"the\", \"me\", \"at\" etc.\n",
    "\n",
    "Most important words will be the ones that occur quite less compared to the least important which occurs quite often as it'll be mostly words required in sentence formation."
   ]
  },
  {
   "cell_type": "code",
   "execution_count": 48,
   "metadata": {
    "ExecuteTime": {
     "end_time": "2020-11-28T11:31:57.272214Z",
     "start_time": "2020-11-28T11:31:56.763219Z"
    }
   },
   "outputs": [
    {
     "data": {
      "image/png": "[encoded data removed]",
      "text/plain": [
       "<Figure size 1296x576 with 1 Axes>"
      ]
     },
     "metadata": {},
     "output_type": "display_data"
    }
   ],
   "source": [
    "coef = clf_cnt.coef_.ravel()\n",
    "positive_coeffs = np.argsort(coef)[-20:]\n",
    "negative_coeffs = np.argsort(coef)[:20]\n",
    "interesting_coeffs = np.hstack([negative_coeffs, positive_coeffs])\n",
    "# plot them\n",
    "with plt.style.context(('seaborn', 'ggplot')):\n",
    "    plt.figure(figsize=(18, 8))\n",
    "    colors = [\"red\" if c < 0 else \"green\" for c in coef[interesting_coeffs]]\n",
    "    plt.bar(np.arange(2 * 20), coef[interesting_coeffs], color=colors)\n",
    "    feature_names = np.array(count_vectorizer.get_feature_names())\n",
    "    plt.xticks(np.arange(1, 2 * 20 + 1), feature_names[interesting_coeffs], rotation=60, ha=\"right\")\n",
    "    plt.xlabel('Feature Importance')\n",
    "    plt.xlabel('Feature')\n",
    "    plt.title('CountVectorizer Features Importance')"
   ]
  },
  {
   "cell_type": "code",
   "execution_count": 49,
   "metadata": {
    "ExecuteTime": {
     "end_time": "2020-11-28T11:31:57.866212Z",
     "start_time": "2020-11-28T11:31:57.450220Z"
    }
   },
   "outputs": [
    {
     "data": {
      "image/png": "[encoded data removed]",
      "text/plain": [
       "<Figure size 1296x576 with 1 Axes>"
      ]
     },
     "metadata": {},
     "output_type": "display_data"
    }
   ],
   "source": [
    "coef = clf_tfidf.coef_.ravel()\n",
    "positive_coeffs = np.argsort(coef)[-20:]\n",
    "negative_coeffs = np.argsort(coef)[:20]\n",
    "interesting_coeffs = np.hstack([negative_coeffs, positive_coeffs])\n",
    "# plot them\n",
    "with plt.style.context(('seaborn', 'ggplot')):\n",
    "    plt.figure(figsize=(18, 8))\n",
    "    colors = [\"red\" if c < 0 else \"green\" for c in coef[interesting_coeffs]]\n",
    "    plt.bar(np.arange(2 * 20), coef[interesting_coeffs], color=colors)\n",
    "    feature_names = np.array(tfidf_vectorizer.get_feature_names())\n",
    "    plt.xticks(np.arange(1, 2 * 20 + 1), feature_names[interesting_coeffs], rotation=60, ha=\"right\")\n",
    "    plt.xlabel('Feature Importance')\n",
    "    plt.xlabel('Feature')\n",
    "    plt.title('TfIfVectorizer Features Importance')"
   ]
  },
  {
   "cell_type": "code",
   "execution_count": null,
   "metadata": {},
   "outputs": [],
   "source": []
  },
  {
   "cell_type": "code",
   "execution_count": null,
   "metadata": {},
   "outputs": [],
   "source": []
  },
  {
   "cell_type": "code",
   "execution_count": null,
   "metadata": {},
   "outputs": [],
   "source": []
  },
  {
   "cell_type": "code",
   "execution_count": null,
   "metadata": {},
   "outputs": [],
   "source": []
  }
 ],
 "metadata": {
  "kernelspec": {
   "display_name": "Python 3",
   "language": "python",
   "name": "python3"
  },
  "language_info": {
   "codemirror_mode": {
    "name": "ipython",
    "version": 3
   },
   "file_extension": ".py",
   "mimetype": "text/x-python",
   "name": "python",
   "nbconvert_exporter": "python",
   "pygments_lexer": "ipython3",
   "version": "3.6.12"
  },
  "nbTranslate": {
   "displayLangs": [
    "*"
   ],
   "hotkey": "alt-t",
   "langInMainMenu": true,
   "sourceLang": "en",
   "targetLang": "fr",
   "useGoogleTranslate": true
  },
  "toc": {
   "base_numbering": 1,
   "nav_menu": {},
   "number_sections": false,
   "sideBar": true,
   "skip_h1_title": false,
   "title_cell": "Table of Contents",
   "title_sidebar": "Contents",
   "toc_cell": false,
   "toc_position": {
    "height": "calc(100% - 180px)",
    "left": "10px",
    "top": "150px",
    "width": "269.797px"
   },
   "toc_section_display": true,
   "toc_window_display": true
  }
 },
 "nbformat": 4,
 "nbformat_minor": 4
}
