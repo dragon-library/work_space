{
 "cells": [
  {
   "cell_type": "markdown",
   "metadata": {},
   "source": [
    "Data Exploration\n",
    "==="
   ]
  },
  {
   "cell_type": "code",
   "execution_count": 41,
   "metadata": {
    "ExecuteTime": {
     "end_time": "2020-11-12T10:33:23.605488Z",
     "start_time": "2020-11-12T10:33:23.590497Z"
    }
   },
   "outputs": [],
   "source": [
    "import pandas as pd\n",
    "import numpy as np\n",
    "from collections import Counter\n",
    "pd.set_option('display.max_rows', 30, \n",
    "              'display.max_columns', 100)\n",
    "\n",
    "urls = \"master/excise_matching.xlsx\"\n",
    "def get_master(sheets):\n",
    "    data = pd.read_excel(urls,sheet_name= sheets)\n",
    "    data[\"TariffCode\"] = data[\"TariffCode\"].map('{:08d}'.format)\n",
    "    data[\"ExciseNo\"] = data[\"ExciseNo\"].map('{:010d}'.format)\n",
    "    data[\"StatisticalCode\"] = data[\"StatisticalCode\"].map('{:03d}'.format)\n",
    "    data[\"excise_group\"] = data[\"excise_group\"].map('{:02d}'.format)\n",
    "\n",
    "     \n",
    "\n",
    "    return data"
   ]
  },
  {
   "cell_type": "code",
   "execution_count": 42,
   "metadata": {
    "ExecuteTime": {
     "end_time": "2020-11-12T10:33:32.094442Z",
     "start_time": "2020-11-12T10:33:24.928799Z"
    }
   },
   "outputs": [
    {
     "data": {
      "text/html": [
       "<div>\n",
       "<style scoped>\n",
       "    .dataframe tbody tr th:only-of-type {\n",
       "        vertical-align: middle;\n",
       "    }\n",
       "\n",
       "    .dataframe tbody tr th {\n",
       "        vertical-align: top;\n",
       "    }\n",
       "\n",
       "    .dataframe thead th {\n",
       "        text-align: right;\n",
       "    }\n",
       "</style>\n",
       "<table border=\"1\" class=\"dataframe\">\n",
       "  <thead>\n",
       "    <tr style=\"text-align: right;\">\n",
       "      <th></th>\n",
       "      <th>DeclarationNo</th>\n",
       "      <th>TariffCode</th>\n",
       "      <th>StatisticalCode</th>\n",
       "      <th>PrivilegeCode</th>\n",
       "      <th>ThaiDescriptionofGoods</th>\n",
       "      <th>EnglishDescriptionofGoods</th>\n",
       "      <th>CIFValueBaht</th>\n",
       "      <th>ExciseNo</th>\n",
       "      <th>ExciseQuantity</th>\n",
       "      <th>ExciseQuantityUnit</th>\n",
       "      <th>AssessExciseQuantity</th>\n",
       "      <th>excise_group</th>\n",
       "    </tr>\n",
       "  </thead>\n",
       "  <tbody>\n",
       "    <tr>\n",
       "      <th>0</th>\n",
       "      <td>12015621008056</td>\n",
       "      <td>24029010</td>\n",
       "      <td>000</td>\n",
       "      <td>999</td>\n",
       "      <td>CIGAR</td>\n",
       "      <td>CIGAR</td>\n",
       "      <td>2797.00</td>\n",
       "      <td>1401020000</td>\n",
       "      <td>1.0</td>\n",
       "      <td>LO</td>\n",
       "      <td>981.0</td>\n",
       "      <td>14</td>\n",
       "    </tr>\n",
       "    <tr>\n",
       "      <th>1</th>\n",
       "      <td>12015621009222</td>\n",
       "      <td>24029010</td>\n",
       "      <td>000</td>\n",
       "      <td>999</td>\n",
       "      <td>CIGAR</td>\n",
       "      <td>CIGAR</td>\n",
       "      <td>2535.00</td>\n",
       "      <td>1401020000</td>\n",
       "      <td>0.0</td>\n",
       "      <td>NaN</td>\n",
       "      <td>1137.0</td>\n",
       "      <td>14</td>\n",
       "    </tr>\n",
       "    <tr>\n",
       "      <th>2</th>\n",
       "      <td>A0010610901455</td>\n",
       "      <td>85078090</td>\n",
       "      <td>000</td>\n",
       "      <td>0</td>\n",
       "      <td>32735569A BATTERY(VERSION:H)</td>\n",
       "      <td>แบตเตอรี่</td>\n",
       "      <td>48298.85</td>\n",
       "      <td>0401010000</td>\n",
       "      <td>0.0</td>\n",
       "      <td>NaN</td>\n",
       "      <td>0.0</td>\n",
       "      <td>04</td>\n",
       "    </tr>\n",
       "    <tr>\n",
       "      <th>3</th>\n",
       "      <td>A0010620807795</td>\n",
       "      <td>87043129</td>\n",
       "      <td>000</td>\n",
       "      <td>ATG</td>\n",
       "      <td>SUZUKI VEHICLE (CBU) CARRY 1.5L MT CA415UWM140...</td>\n",
       "      <td>รถยนต์กะบะใหม่สำเร็จรูป SUZUKI VEHICLE (CBU) C...</td>\n",
       "      <td>242684.93</td>\n",
       "      <td>0603010100</td>\n",
       "      <td>1.0</td>\n",
       "      <td>C62</td>\n",
       "      <td>1.0</td>\n",
       "      <td>06</td>\n",
       "    </tr>\n",
       "    <tr>\n",
       "      <th>4</th>\n",
       "      <td>A0010620807795</td>\n",
       "      <td>87043129</td>\n",
       "      <td>000</td>\n",
       "      <td>ATG</td>\n",
       "      <td>SUZUKI VEHICLE (CBU) CARRY 1.5L MT CA415UWM140...</td>\n",
       "      <td>รถยนต์กะบะใหม่สำเร็จรูป SUZUKI VEHICLE (CBU) C...</td>\n",
       "      <td>242684.93</td>\n",
       "      <td>0603010100</td>\n",
       "      <td>1.0</td>\n",
       "      <td>C62</td>\n",
       "      <td>1.0</td>\n",
       "      <td>06</td>\n",
       "    </tr>\n",
       "    <tr>\n",
       "      <th>...</th>\n",
       "      <td>...</td>\n",
       "      <td>...</td>\n",
       "      <td>...</td>\n",
       "      <td>...</td>\n",
       "      <td>...</td>\n",
       "      <td>...</td>\n",
       "      <td>...</td>\n",
       "      <td>...</td>\n",
       "      <td>...</td>\n",
       "      <td>...</td>\n",
       "      <td>...</td>\n",
       "      <td>...</td>\n",
       "    </tr>\n",
       "    <tr>\n",
       "      <th>35151</th>\n",
       "      <td>A0310620105188</td>\n",
       "      <td>85078090</td>\n",
       "      <td>000</td>\n",
       "      <td>0</td>\n",
       "      <td>32735569A BATTERY(VERSION:H)</td>\n",
       "      <td>แบตเตอรี่</td>\n",
       "      <td>67331.96</td>\n",
       "      <td>0401010000</td>\n",
       "      <td>0.0</td>\n",
       "      <td>NaN</td>\n",
       "      <td>0.0</td>\n",
       "      <td>04</td>\n",
       "    </tr>\n",
       "    <tr>\n",
       "      <th>35152</th>\n",
       "      <td>A0310620105188</td>\n",
       "      <td>85078090</td>\n",
       "      <td>000</td>\n",
       "      <td>0</td>\n",
       "      <td>32735569A BATTERY(VERSION:H)</td>\n",
       "      <td>แบตเตอรี่</td>\n",
       "      <td>33665.83</td>\n",
       "      <td>0401010000</td>\n",
       "      <td>0.0</td>\n",
       "      <td>NaN</td>\n",
       "      <td>0.0</td>\n",
       "      <td>04</td>\n",
       "    </tr>\n",
       "    <tr>\n",
       "      <th>35153</th>\n",
       "      <td>A0310620105188</td>\n",
       "      <td>27101943</td>\n",
       "      <td>000</td>\n",
       "      <td>0</td>\n",
       "      <td>33706196A GREASE X-23-7795(EA)</td>\n",
       "      <td>เคมีภัณฑ์ใช้ในการหล่อลื่น</td>\n",
       "      <td>93839.95</td>\n",
       "      <td>0190010100</td>\n",
       "      <td>8.0</td>\n",
       "      <td>LTR</td>\n",
       "      <td>0.0</td>\n",
       "      <td>01</td>\n",
       "    </tr>\n",
       "    <tr>\n",
       "      <th>35154</th>\n",
       "      <td>A0310620504303</td>\n",
       "      <td>27101979</td>\n",
       "      <td>001</td>\n",
       "      <td>0</td>\n",
       "      <td>FUEL OIL</td>\n",
       "      <td>น้ำมันเตา ยกเว้นอากรตาม ป.คลัง ลว.30 ธ.ค.2559</td>\n",
       "      <td>33866540.75</td>\n",
       "      <td>0112010000</td>\n",
       "      <td>1970000.0</td>\n",
       "      <td>LTR</td>\n",
       "      <td>1910151.0</td>\n",
       "      <td>01</td>\n",
       "    </tr>\n",
       "    <tr>\n",
       "      <th>35155</th>\n",
       "      <td>A0310620705247</td>\n",
       "      <td>27101979</td>\n",
       "      <td>001</td>\n",
       "      <td>0</td>\n",
       "      <td>FUEL OIL</td>\n",
       "      <td>น้ำมันเตา ยกเว้นอากรตาม ป.คลัง ลว.30 ธ.ค.2559</td>\n",
       "      <td>38416096.89</td>\n",
       "      <td>0112010000</td>\n",
       "      <td>2120000.0</td>\n",
       "      <td>LTR</td>\n",
       "      <td>2061336.0</td>\n",
       "      <td>01</td>\n",
       "    </tr>\n",
       "  </tbody>\n",
       "</table>\n",
       "<p>35156 rows × 12 columns</p>\n",
       "</div>"
      ],
      "text/plain": [
       "        DeclarationNo TariffCode StatisticalCode PrivilegeCode  \\\n",
       "0      12015621008056   24029010             000           999   \n",
       "1      12015621009222   24029010             000           999   \n",
       "2      A0010610901455   85078090             000             0   \n",
       "3      A0010620807795   87043129             000           ATG   \n",
       "4      A0010620807795   87043129             000           ATG   \n",
       "...               ...        ...             ...           ...   \n",
       "35151  A0310620105188   85078090             000             0   \n",
       "35152  A0310620105188   85078090             000             0   \n",
       "35153  A0310620105188   27101943             000             0   \n",
       "35154  A0310620504303   27101979             001             0   \n",
       "35155  A0310620705247   27101979             001             0   \n",
       "\n",
       "                                  ThaiDescriptionofGoods  \\\n",
       "0                                                  CIGAR   \n",
       "1                                                  CIGAR   \n",
       "2                           32735569A BATTERY(VERSION:H)   \n",
       "3      SUZUKI VEHICLE (CBU) CARRY 1.5L MT CA415UWM140...   \n",
       "4      SUZUKI VEHICLE (CBU) CARRY 1.5L MT CA415UWM140...   \n",
       "...                                                  ...   \n",
       "35151                       32735569A BATTERY(VERSION:H)   \n",
       "35152                       32735569A BATTERY(VERSION:H)   \n",
       "35153                     33706196A GREASE X-23-7795(EA)   \n",
       "35154                                           FUEL OIL   \n",
       "35155                                           FUEL OIL   \n",
       "\n",
       "                               EnglishDescriptionofGoods  CIFValueBaht  \\\n",
       "0                                                  CIGAR       2797.00   \n",
       "1                                                  CIGAR       2535.00   \n",
       "2                                              แบตเตอรี่      48298.85   \n",
       "3      รถยนต์กะบะใหม่สำเร็จรูป SUZUKI VEHICLE (CBU) C...     242684.93   \n",
       "4      รถยนต์กะบะใหม่สำเร็จรูป SUZUKI VEHICLE (CBU) C...     242684.93   \n",
       "...                                                  ...           ...   \n",
       "35151                                          แบตเตอรี่      67331.96   \n",
       "35152                                          แบตเตอรี่      33665.83   \n",
       "35153                          เคมีภัณฑ์ใช้ในการหล่อลื่น      93839.95   \n",
       "35154      น้ำมันเตา ยกเว้นอากรตาม ป.คลัง ลว.30 ธ.ค.2559   33866540.75   \n",
       "35155      น้ำมันเตา ยกเว้นอากรตาม ป.คลัง ลว.30 ธ.ค.2559   38416096.89   \n",
       "\n",
       "         ExciseNo  ExciseQuantity ExciseQuantityUnit  AssessExciseQuantity  \\\n",
       "0      1401020000             1.0                 LO                 981.0   \n",
       "1      1401020000             0.0                NaN                1137.0   \n",
       "2      0401010000             0.0                NaN                   0.0   \n",
       "3      0603010100             1.0                C62                   1.0   \n",
       "4      0603010100             1.0                C62                   1.0   \n",
       "...           ...             ...                ...                   ...   \n",
       "35151  0401010000             0.0                NaN                   0.0   \n",
       "35152  0401010000             0.0                NaN                   0.0   \n",
       "35153  0190010100             8.0                LTR                   0.0   \n",
       "35154  0112010000       1970000.0                LTR             1910151.0   \n",
       "35155  0112010000       2120000.0                LTR             2061336.0   \n",
       "\n",
       "      excise_group  \n",
       "0               14  \n",
       "1               14  \n",
       "2               04  \n",
       "3               06  \n",
       "4               06  \n",
       "...            ...  \n",
       "35151           04  \n",
       "35152           04  \n",
       "35153           01  \n",
       "35154           01  \n",
       "35155           01  \n",
       "\n",
       "[35156 rows x 12 columns]"
      ]
     },
     "execution_count": 42,
     "metadata": {},
     "output_type": "execute_result"
    }
   ],
   "source": [
    "sheets = \"2019_10\"\n",
    "\n",
    "df = get_master(sheets)\n",
    "df"
   ]
  },
  {
   "cell_type": "code",
   "execution_count": 39,
   "metadata": {
    "ExecuteTime": {
     "end_time": "2020-11-12T10:32:25.444807Z",
     "start_time": "2020-11-12T10:32:25.439810Z"
    }
   },
   "outputs": [
    {
     "data": {
      "text/plain": [
       "Index(['DeclarationNo', 'TariffCode', 'StatisticalCode', 'PrivilegeCode',\n",
       "       'ThaiDescriptionofGoods', 'EnglishDescriptionofGoods', 'CIFValueBaht',\n",
       "       'ExciseNo', 'ExciseQuantity', 'ExciseQuantityUnit',\n",
       "       'AssessExciseQuantity', 'excise_group'],\n",
       "      dtype='object')"
      ]
     },
     "execution_count": 39,
     "metadata": {},
     "output_type": "execute_result"
    }
   ],
   "source": [
    "df.columns"
   ]
  },
  {
   "cell_type": "code",
   "execution_count": 22,
   "metadata": {
    "ExecuteTime": {
     "end_time": "2020-11-12T10:19:02.195865Z",
     "start_time": "2020-11-12T10:19:02.180874Z"
    }
   },
   "outputs": [
    {
     "data": {
      "text/plain": [
       "112"
      ]
     },
     "execution_count": 22,
     "metadata": {},
     "output_type": "execute_result"
    }
   ],
   "source": [
    "len(df.ExciseNo.unique())"
   ]
  },
  {
   "cell_type": "code",
   "execution_count": 23,
   "metadata": {
    "ExecuteTime": {
     "end_time": "2020-11-12T10:19:03.309333Z",
     "start_time": "2020-11-12T10:19:03.301338Z"
    }
   },
   "outputs": [
    {
     "data": {
      "text/plain": [
       "226"
      ]
     },
     "execution_count": 23,
     "metadata": {},
     "output_type": "execute_result"
    }
   ],
   "source": [
    "len(df.TariffCode.unique())"
   ]
  },
  {
   "cell_type": "code",
   "execution_count": 43,
   "metadata": {
    "ExecuteTime": {
     "end_time": "2020-11-12T10:36:03.002661Z",
     "start_time": "2020-11-12T10:36:02.989669Z"
    }
   },
   "outputs": [
    {
     "data": {
      "text/plain": [
       "Counter({'14': 2488,\n",
       "         '04': 3129,\n",
       "         '06': 7968,\n",
       "         '02': 173,\n",
       "         '01': 1159,\n",
       "         '13': 8186,\n",
       "         '09': 7756,\n",
       "         '00': 65,\n",
       "         '10': 114,\n",
       "         '16': 56,\n",
       "         '07': 2863,\n",
       "         '03': 3,\n",
       "         '05': 1196})"
      ]
     },
     "execution_count": 43,
     "metadata": {},
     "output_type": "execute_result"
    }
   ],
   "source": [
    "\n",
    "Counter(df[\"excise_group\"])"
   ]
  },
  {
   "cell_type": "code",
   "execution_count": 24,
   "metadata": {
    "ExecuteTime": {
     "end_time": "2020-11-12T10:19:04.406251Z",
     "start_time": "2020-11-12T10:19:04.389261Z"
    }
   },
   "outputs": [
    {
     "data": {
      "text/plain": [
       "Counter({'1401020000': 174,\n",
       "         '0401010000': 3094,\n",
       "         '0603010100': 484,\n",
       "         '0202010400': 14,\n",
       "         '0203010400': 17,\n",
       "         '0202010300': 15,\n",
       "         '0601010400': 130,\n",
       "         '0601120300': 20,\n",
       "         '0101010000': 5,\n",
       "         '1302020200': 6438,\n",
       "         '1301010000': 114,\n",
       "         '1301020100': 870,\n",
       "         '0601010100': 377,\n",
       "         '0601010300': 79,\n",
       "         '0901010000': 7756,\n",
       "         '0190010100': 772,\n",
       "         '0601010200': 867,\n",
       "         '0108010000': 4,\n",
       "         '1301020200': 605,\n",
       "         '1301040000': 123,\n",
       "         '0008900401': 10,\n",
       "         '1001000000': 114,\n",
       "         '0105010000': 3,\n",
       "         '0105020000': 2,\n",
       "         '0190110000': 10,\n",
       "         '1401010200': 2104,\n",
       "         '1401050000': 94,\n",
       "         '1401010100': 114,\n",
       "         '0602120300': 5,\n",
       "         '0203010700': 3,\n",
       "         '1690010104': 4,\n",
       "         '0190010400': 3,\n",
       "         '0114020000': 7,\n",
       "         '0601120101': 103,\n",
       "         '1301030201': 19,\n",
       "         '0202010100': 34,\n",
       "         '0601130103': 3,\n",
       "         '0701020000': 2037,\n",
       "         '1690010106': 2,\n",
       "         '0601060000': 5,\n",
       "         '0701010000': 460,\n",
       "         '0190010200': 326,\n",
       "         '0112010000': 14,\n",
       "         '0203010200': 12,\n",
       "         '0203010100': 30,\n",
       "         '1302020103': 2,\n",
       "         '1301030202': 1,\n",
       "         '0201000000': 3,\n",
       "         '0601120201': 50,\n",
       "         '0602010000': 33,\n",
       "         '1302010000': 6,\n",
       "         '0601130102': 20,\n",
       "         '0701030000': 339,\n",
       "         '0104110000': 1,\n",
       "         '1690010101': 23,\n",
       "         '0203010300': 10,\n",
       "         '0301000000': 3,\n",
       "         '1690010103': 6,\n",
       "         '1690010107': 1,\n",
       "         '0601130101': 946,\n",
       "         '1690010102': 20,\n",
       "         '0603070200': 6,\n",
       "         '0603030102': 2138,\n",
       "         '0601120603': 822,\n",
       "         '0601120604': 97,\n",
       "         '0603030500': 30,\n",
       "         '0603020400': 4,\n",
       "         '0603020300': 289,\n",
       "         '0603020100': 419,\n",
       "         '0603030100': 276,\n",
       "         '0601020100': 107,\n",
       "         '0603010300': 11,\n",
       "         '0603030400': 150,\n",
       "         '0601120601': 210,\n",
       "         '0603030200': 2,\n",
       "         '0602120601': 19,\n",
       "         '0601120102': 18,\n",
       "         '0603020102': 161,\n",
       "         '0603010202': 72,\n",
       "         '0203020100': 6,\n",
       "         '0501000000': 1196,\n",
       "         '0090022102': 21,\n",
       "         '0090022107': 1,\n",
       "         '0090022105': 26,\n",
       "         '0701040000': 26,\n",
       "         '0401020000': 35,\n",
       "         '0112100000': 1,\n",
       "         '0601120105': 1,\n",
       "         '1302020101': 1,\n",
       "         '0202010700': 16,\n",
       "         '0109010000': 1,\n",
       "         '0601110000': 3,\n",
       "         '0603070300': 1,\n",
       "         '1301030100': 6,\n",
       "         '1401060200': 2,\n",
       "         '0601020200': 1,\n",
       "         '0603010102': 7,\n",
       "         '0105080000': 1,\n",
       "         '0114010000': 6,\n",
       "         '0202010200': 3,\n",
       "         '0103010000': 1,\n",
       "         '0202010500': 4,\n",
       "         '0101030000': 1,\n",
       "         '0701050000': 1,\n",
       "         '1302020102': 1,\n",
       "         '0603050000': 1,\n",
       "         '0110020000': 1,\n",
       "         '0203010500': 6,\n",
       "         '0603020200': 1,\n",
       "         '0001900501': 1,\n",
       "         '0090012021': 3,\n",
       "         '0090022103': 3})"
      ]
     },
     "execution_count": 24,
     "metadata": {},
     "output_type": "execute_result"
    }
   ],
   "source": [
    "\n",
    "Counter(df[\"ExciseNo\"])"
   ]
  },
  {
   "cell_type": "code",
   "execution_count": 25,
   "metadata": {
    "ExecuteTime": {
     "end_time": "2020-11-12T10:19:06.791434Z",
     "start_time": "2020-11-12T10:19:06.773444Z"
    }
   },
   "outputs": [
    {
     "data": {
      "text/plain": [
       "Counter({'24029010': 2,\n",
       "         '85078090': 306,\n",
       "         '87043129': 475,\n",
       "         '85079099': 7,\n",
       "         '22021090': 20,\n",
       "         '22021010': 41,\n",
       "         '20097100': 7,\n",
       "         '85075090': 26,\n",
       "         '87033372': 76,\n",
       "         '85072094': 25,\n",
       "         '87038099': 24,\n",
       "         '27101224': 3,\n",
       "         '22085000': 418,\n",
       "         '22089099': 271,\n",
       "         '22083000': 3743,\n",
       "         '22086000': 671,\n",
       "         '22030099': 43,\n",
       "         '22087010': 605,\n",
       "         '22082050': 489,\n",
       "         '22042111': 1247,\n",
       "         '87032366': 101,\n",
       "         '87032364': 4,\n",
       "         '87032362': 148,\n",
       "         '87033272': 73,\n",
       "         '27101943': 364,\n",
       "         '87032367': 48,\n",
       "         '27111100': 1,\n",
       "         '33049990': 4,\n",
       "         '22030091': 58,\n",
       "         '87032259': 1837,\n",
       "         '27101941': 14,\n",
       "         '34031119': 2,\n",
       "         '34039119': 15,\n",
       "         '34021390': 1,\n",
       "         '34021190': 3,\n",
       "         '34021200': 1,\n",
       "         '34029099': 2,\n",
       "         '29319090': 2,\n",
       "         '34039190': 2,\n",
       "         '22060099': 9,\n",
       "         '22087090': 15,\n",
       "         '22041000': 218,\n",
       "         '27101990': 225,\n",
       "         '85076090': 1887,\n",
       "         '87082995': 66,\n",
       "         '85071098': 72,\n",
       "         '85068099': 102,\n",
       "         '85044090': 3,\n",
       "         '85071099': 95,\n",
       "         '33030000': 7750,\n",
       "         '85073090': 2,\n",
       "         '27109900': 44,\n",
       "         '27101972': 5,\n",
       "         '22084000': 259,\n",
       "         '24022090': 2218,\n",
       "         '24021000': 172,\n",
       "         '22051010': 41,\n",
       "         '24031919': 96,\n",
       "         '22042113': 10,\n",
       "         '20098999': 17,\n",
       "         '18069090': 1,\n",
       "         '22060020': 84,\n",
       "         '87032449': 22,\n",
       "         '34031990': 41,\n",
       "         '27101260': 3,\n",
       "         '27101989': 7,\n",
       "         '87033262': 112,\n",
       "         '87036064': 50,\n",
       "         '85072099': 171,\n",
       "         '87042129': 3579,\n",
       "         '87032322': 16,\n",
       "         '87112094': 1570,\n",
       "         '87033371': 6,\n",
       "         '87112096': 461,\n",
       "         '34039990': 170,\n",
       "         '27101944': 141,\n",
       "         '27101979': 15,\n",
       "         '85061090': 47,\n",
       "         '85068010': 2,\n",
       "         '20091200': 6,\n",
       "         '20099099': 13,\n",
       "         '20092100': 2,\n",
       "         '38190000': 3,\n",
       "         '34039919': 20,\n",
       "         '27101950': 4,\n",
       "         '57050099': 15,\n",
       "         '22029990': 26,\n",
       "         '22042921': 6,\n",
       "         '85072096': 10,\n",
       "         '22072019': 1,\n",
       "         '22042911': 3,\n",
       "         '87036076': 20,\n",
       "         '87032368': 4,\n",
       "         '87036066': 9,\n",
       "         '87033275': 104,\n",
       "         '87032355': 60,\n",
       "         '21012090': 5,\n",
       "         '22030019': 10,\n",
       "         '22029950': 12,\n",
       "         '27112190': 3,\n",
       "         '85043249': 1,\n",
       "         '87032372': 27,\n",
       "         '87114090': 318,\n",
       "         '27101299': 2,\n",
       "         '22060010': 9,\n",
       "         '94051099': 3,\n",
       "         '85061010': 24,\n",
       "         '85071095': 20,\n",
       "         '85065000': 97,\n",
       "         '87036074': 70,\n",
       "         '57050092': 8,\n",
       "         '21011110': 1,\n",
       "         '21011190': 1,\n",
       "         '87112095': 261,\n",
       "         '21011299': 20,\n",
       "         '87032356': 74,\n",
       "         '87033159': 57,\n",
       "         '87032247': 672,\n",
       "         '87033147': 40,\n",
       "         '87032363': 17,\n",
       "         '87033276': 76,\n",
       "         '87033273': 19,\n",
       "         '87034074': 7,\n",
       "         '34039912': 11,\n",
       "         '87032374': 5,\n",
       "         '22029920': 4,\n",
       "         '87032290': 2,\n",
       "         '27101960': 2,\n",
       "         '22029940': 11,\n",
       "         '22011020': 2,\n",
       "         '85071092': 7,\n",
       "         '70139100': 74,\n",
       "         '70181010': 928,\n",
       "         '85066090': 8,\n",
       "         '85076010': 151,\n",
       "         '87034075': 10,\n",
       "         '87032331': 3,\n",
       "         '87032353': 6,\n",
       "         '57024190': 3,\n",
       "         '87115090': 47,\n",
       "         '57029290': 3,\n",
       "         '57032090': 3,\n",
       "         '57033090': 4,\n",
       "         '57029920': 2,\n",
       "         '70181090': 35,\n",
       "         '70189090': 1,\n",
       "         '21069072': 1,\n",
       "         '21012030': 7,\n",
       "         '87032159': 3,\n",
       "         '85064000': 6,\n",
       "         '87033380': 20,\n",
       "         '38112190': 14,\n",
       "         '34031919': 18,\n",
       "         '22071000': 3,\n",
       "         '57022000': 1,\n",
       "         '57021000': 1,\n",
       "         '57029919': 1,\n",
       "         '20097900': 4,\n",
       "         '57039099': 4,\n",
       "         '20093900': 1,\n",
       "         '19019099': 6,\n",
       "         '87032445': 8,\n",
       "         '22030011': 3,\n",
       "         '39029090': 1,\n",
       "         '85078020': 1,\n",
       "         '87036075': 2,\n",
       "         '87036072': 1,\n",
       "         '20091100': 1,\n",
       "         '85068091': 6,\n",
       "         '71171920': 76,\n",
       "         '71179029': 58,\n",
       "         '83062990': 2,\n",
       "         '34039911': 1,\n",
       "         '85073010': 2,\n",
       "         '85071096': 48,\n",
       "         '85074090': 1,\n",
       "         '70133700': 2,\n",
       "         '83100000': 8,\n",
       "         '20091900': 1,\n",
       "         '87032459': 12,\n",
       "         '87032373': 3,\n",
       "         '21039013': 14,\n",
       "         '87032354': 3,\n",
       "         '85071010': 1,\n",
       "         '87113090': 206,\n",
       "         '87032145': 26,\n",
       "         '87033361': 26,\n",
       "         '87032358': 1,\n",
       "         '33029000': 2,\n",
       "         '18061000': 11,\n",
       "         '38249940': 1,\n",
       "         '39021090': 1,\n",
       "         '85072095': 4,\n",
       "         '27101983': 1,\n",
       "         '87034084': 3,\n",
       "         '27101942': 3,\n",
       "         '85078010': 3,\n",
       "         '27101225': 1,\n",
       "         '87032451': 3,\n",
       "         '21011292': 1,\n",
       "         '34031190': 3,\n",
       "         '38119010': 1,\n",
       "         '85404090': 1,\n",
       "         '85416000': 3,\n",
       "         '85072098': 2,\n",
       "         '85072097': 1,\n",
       "         '22089091': 2,\n",
       "         '34031911': 3,\n",
       "         '29173200': 1,\n",
       "         '87038018': 1,\n",
       "         '22011010': 5,\n",
       "         '34031912': 1,\n",
       "         '38119090': 1,\n",
       "         '27111200': 1,\n",
       "         '21011291': 1,\n",
       "         '21069099': 1,\n",
       "         '57031090': 2,\n",
       "         '57039019': 1,\n",
       "         '87032251': 1,\n",
       "         '87039099': 1,\n",
       "         '85072010': 1,\n",
       "         '34049090': 2,\n",
       "         '70139900': 1,\n",
       "         '70134100': 1,\n",
       "         '70133300': 7,\n",
       "         '22087000': 8})"
      ]
     },
     "execution_count": 25,
     "metadata": {},
     "output_type": "execute_result"
    }
   ],
   "source": [
    "Counter(df[\"TariffCode\"])"
   ]
  },
  {
   "cell_type": "code",
   "execution_count": null,
   "metadata": {},
   "outputs": [],
   "source": []
  },
  {
   "cell_type": "code",
   "execution_count": null,
   "metadata": {},
   "outputs": [],
   "source": []
  },
  {
   "cell_type": "code",
   "execution_count": null,
   "metadata": {},
   "outputs": [],
   "source": []
  },
  {
   "cell_type": "markdown",
   "metadata": {
    "ExecuteTime": {
     "end_time": "2020-11-12T10:31:33.323783Z",
     "start_time": "2020-11-12T10:31:33.320786Z"
    }
   },
   "source": [
    "## Write data to Excel"
   ]
  },
  {
   "cell_type": "code",
   "execution_count": 35,
   "metadata": {
    "ExecuteTime": {
     "end_time": "2020-11-12T10:26:55.169344Z",
     "start_time": "2020-11-12T10:26:44.298826Z"
    }
   },
   "outputs": [
    {
     "name": "stdout",
     "output_type": "stream",
     "text": [
      "success\n"
     ]
    }
   ],
   "source": [
    "df.to_excel('data/excise.xlsx')\n",
    "print('success')"
   ]
  },
  {
   "cell_type": "markdown",
   "metadata": {},
   "source": [
    "\n",
    "\n",
    "| ชนิดสินค้า      |     ชื่อสินค้า |\n",
    "|:-----------:|-----------------------------------------------------|\n",
    "|ตอนที่ 1   |[สินค้าน้ำมันและผลิตภัณฑ์น้ำมัน](http://edi.excise.go.th/form_search_by_product.php?product_code=0100&search=S&menu=2)|\n",
    "|ตอนที่ 2| [สินค้าเครื่องดื่ม](http://edi.excise.go.th/form_search_by_product.php?product_code=0200&search=S&menu=2)|\n",
    "|ตอนที่ 3| [สินค้าเครื่องไฟฟ้า](http://edi.excise.go.th/form_search_by_product.php?product_code=0300&search=S&menu=2)|\n",
    "|ตอนที่ 4 |[สินค้าแบตเตอรี่](http://edi.excise.go.th/form_search_by_product.php?product_code=0400&search=S&menu=2)|\n",
    "|ตอนที่ 5| [สินค้าแก้วและเครื่องแก้ว](http://edi.excise.go.th/form_search_by_product.php?product_code=0500&search=S&menu=2)|\n",
    "|ตอนที่ 6 |[สินค้ารถยนต์](http://edi.excise.go.th/form_search_by_product.php?product_code=0600&search=S&menu=2)|\n",
    "|ตอนที่ 7 |[สินค้ารถจักรยานยนต์](http://edi.excise.go.th/form_search_by_product.php?product_code=0700&search=S&menu=2)|\n",
    "|ตอนที่ 8| [สินค้าเรือ](http://edi.excise.go.th/form_search_by_product.php?product_code=0800&search=S&menu=2)|\n",
    "|ตอนที่ 9| [สินค้าผลิตภัณฑ์เครื่องหอมและเครื่องสำอาง](http://edi.excise.go.th/form_search_by_product.php?product_code=0900&search=S&menu=2)|\n",
    "|ตอนที่ 10| [สินค้าพรมและสิ่งทอปูพื้น](http://edi.excise.go.th/form_search_by_product.php?product_code=1000&search=S&menu=2)|\n",
    "|ตอนที่ 11 |[สินค้าหินอ่อนและหินแกรนิต](http://edi.excise.go.th/form_search_by_product.php?product_code=1100&search=S&menu=2)|\n",
    "|ตอนที่ 12|[สินค้าทำลายชั้นบรรยากาศโอโซน](http://edi.excise.go.th/form_search_by_product.php?product_code=1200&search=S&menu=2)|\n",
    "|ตอนที่ 13 |[สินค้าสุรา](http://edi.excise.go.th/form_search_by_product.php?product_code=1300&search=S&menu=2)|\n",
    "|ตอนที่ 14| [สินค้ายาสูบ](http://edi.excise.go.th/form_search_by_product.php?product_code=1400&search=S&menu=2)|\n",
    "|ตอนที่ 15 |[สินค้าไพ่](http://edi.excise.go.th/form_search_by_product.php?product_code=1500&search=S&menu=2)|\n",
    "|ตอนที่ 16| [สินค้าอื่่น ๆ](http://edi.excise.go.th/form_search_by_product.php?product_code=1600&search=S&menu=2)|\n",
    "|**ALL**| [ค้นหาทั้งหมด](http://edi.excise.go.th/form_search_by_product.php?product_code=&search=S&menu=2)|\n"
   ]
  },
  {
   "cell_type": "code",
   "execution_count": null,
   "metadata": {},
   "outputs": [],
   "source": []
  },
  {
   "cell_type": "code",
   "execution_count": 2,
   "metadata": {
    "ExecuteTime": {
     "end_time": "2020-11-13T04:55:37.165230Z",
     "start_time": "2020-11-13T04:55:26.431814Z"
    }
   },
   "outputs": [
    {
     "name": "stdout",
     "output_type": "stream",
     "text": [
      "Collecting laonlp\n",
      "  Downloading LaoNLP-0.1.dev1-py3-none-any.whl (136 kB)\n",
      "Collecting pythainlp>=2.1.0\n",
      "  Downloading pythainlp-2.2.4-py3-none-any.whl (8.9 MB)\n",
      "Collecting tinydb>=3.0\n",
      "  Downloading tinydb-4.2.0-py3-none-any.whl (21 kB)\n",
      "Collecting python-crfsuite>=0.9.6\n",
      "  Downloading python_crfsuite-0.9.7-cp38-cp38-win_amd64.whl (156 kB)\n",
      "Requirement already satisfied: requests>=2.22.0 in c:\\programdata\\anaconda3\\lib\\site-packages (from pythainlp>=2.1.0->laonlp) (2.24.0)\n",
      "Requirement already satisfied: idna<3,>=2.5 in c:\\programdata\\anaconda3\\lib\\site-packages (from requests>=2.22.0->pythainlp>=2.1.0->laonlp) (2.10)\n",
      "Requirement already satisfied: certifi>=2017.4.17 in c:\\programdata\\anaconda3\\lib\\site-packages (from requests>=2.22.0->pythainlp>=2.1.0->laonlp) (2020.6.20)\n",
      "Requirement already satisfied: chardet<4,>=3.0.2 in c:\\programdata\\anaconda3\\lib\\site-packages (from requests>=2.22.0->pythainlp>=2.1.0->laonlp) (3.0.4)\n",
      "Requirement already satisfied: urllib3!=1.25.0,!=1.25.1,<1.26,>=1.21.1 in c:\\programdata\\anaconda3\\lib\\site-packages (from requests>=2.22.0->pythainlp>=2.1.0->laonlp) (1.25.9)\n",
      "Installing collected packages: tinydb, python-crfsuite, pythainlp, laonlp\n",
      "Successfully installed laonlp-0.1.dev1 pythainlp-2.2.4 python-crfsuite-0.9.7 tinydb-4.2.0\n"
     ]
    }
   ],
   "source": [
    "!pip install laonlp"
   ]
  },
  {
   "cell_type": "code",
   "execution_count": 3,
   "metadata": {
    "ExecuteTime": {
     "end_time": "2020-11-13T04:55:42.271916Z",
     "start_time": "2020-11-13T04:55:39.675683Z"
    }
   },
   "outputs": [
    {
     "name": "stdout",
     "output_type": "stream",
     "text": [
      "['ພາສາລາວ', 'ໃນ', 'ປັດຈຸບັນ', '.']\n"
     ]
    }
   ],
   "source": [
    "from laonlp.tokenize import word_tokenize\n",
    "txt= \"\"\n",
    "print(word_tokenize(\"ພາສາລາວໃນປັດຈຸບັນ.\")) # ['ພາສາລາວ', 'ໃນ', 'ປັດຈຸບັນ', '.']"
   ]
  },
  {
   "cell_type": "code",
   "execution_count": 4,
   "metadata": {
    "ExecuteTime": {
     "end_time": "2020-11-13T04:56:32.410128Z",
     "start_time": "2020-11-13T04:56:32.404133Z"
    }
   },
   "outputs": [
    {
     "name": "stdout",
     "output_type": "stream",
     "text": [
      "['ພາສາລາວ', 'ໃນ', 'ປັດຈຸບັນ', '.', 'ພາສາລາວ', 'ໃນ', 'ປັດຈຸບັນ', '.']\n"
     ]
    }
   ],
   "source": [
    "from laonlp.tokenize import sent_tokenize\n",
    "txt= \"\"\n",
    "print(word_tokenize(\"ພາສາລາວໃນປັດຈຸບັນ.ພາສາລາວໃນປັດຈຸບັນ.\")) # ['ພາສາລາວໃນປັດຈຸບັນ',ພາສາລາວໃນປັດຈຸບັນ]"
   ]
  },
  {
   "cell_type": "code",
   "execution_count": 5,
   "metadata": {
    "ExecuteTime": {
     "end_time": "2020-11-13T04:58:41.532682Z",
     "start_time": "2020-11-13T04:58:41.461725Z"
    }
   },
   "outputs": [
    {
     "ename": "NameError",
     "evalue": "name 'text' is not defined",
     "output_type": "error",
     "traceback": [
      "\u001b[1;31m---------------------------------------------------------------------------\u001b[0m",
      "\u001b[1;31mNameError\u001b[0m                                 Traceback (most recent call last)",
      "\u001b[1;32m<ipython-input-5-115854cfc77f>\u001b[0m in \u001b[0;36m<module>\u001b[1;34m\u001b[0m\n\u001b[1;32m----> 1\u001b[1;33m \u001b[0msent_tokenize\u001b[0m\u001b[1;33m(\u001b[0m\u001b[0mtext\u001b[0m\u001b[1;33m)\u001b[0m\u001b[1;33m\u001b[0m\u001b[1;33m\u001b[0m\u001b[0m\n\u001b[0m",
      "\u001b[1;31mNameError\u001b[0m: name 'text' is not defined"
     ]
    }
   ],
   "source": [
    "sent_tokenize(text)"
   ]
  },
  {
   "cell_type": "code",
   "execution_count": null,
   "metadata": {},
   "outputs": [],
   "source": []
  }
 ],
 "metadata": {
  "kernelspec": {
   "display_name": "Python 3",
   "language": "python",
   "name": "python3"
  },
  "language_info": {
   "codemirror_mode": {
    "name": "ipython",
    "version": 3
   },
   "file_extension": ".py",
   "mimetype": "text/x-python",
   "name": "python",
   "nbconvert_exporter": "python",
   "pygments_lexer": "ipython3",
   "version": "3.8.3"
  },
  "toc": {
   "base_numbering": 1,
   "nav_menu": {},
   "number_sections": false,
   "sideBar": true,
   "skip_h1_title": false,
   "title_cell": "Table of Contents",
   "title_sidebar": "Contents",
   "toc_cell": false,
   "toc_position": {},
   "toc_section_display": true,
   "toc_window_display": true
  }
 },
 "nbformat": 4,
 "nbformat_minor": 4
}
