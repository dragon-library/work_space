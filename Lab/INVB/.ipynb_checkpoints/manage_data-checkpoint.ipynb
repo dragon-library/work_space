{
 "cells": [
  {
   "cell_type": "code",
   "execution_count": 4,
   "metadata": {},
   "outputs": [],
   "source": [
    "import warnings\n",
    "warnings.filterwarnings('ignore')\n",
    "%matplotlib inline\n",
    "import pandas as pd\n",
    "pd.set_option('display.max_rows', 20, \n",
    "              'display.max_columns', 100)"
   ]
  },
  {
   "cell_type": "code",
   "execution_count": 5,
   "metadata": {},
   "outputs": [
    {
     "data": {
      "text/html": [
       "<div>\n",
       "<style scoped>\n",
       "    .dataframe tbody tr th:only-of-type {\n",
       "        vertical-align: middle;\n",
       "    }\n",
       "\n",
       "    .dataframe tbody tr th {\n",
       "        vertical-align: top;\n",
       "    }\n",
       "\n",
       "    .dataframe thead th {\n",
       "        text-align: right;\n",
       "    }\n",
       "</style>\n",
       "<table border=\"1\" class=\"dataframe\">\n",
       "  <thead>\n",
       "    <tr style=\"text-align: right;\">\n",
       "      <th></th>\n",
       "      <th>INV_NO</th>\n",
       "      <th>INV_DATE</th>\n",
       "      <th>INCOTERM</th>\n",
       "      <th>PAYTERM</th>\n",
       "      <th>ITEM</th>\n",
       "      <th>PdtGroup</th>\n",
       "      <th>PARTNO</th>\n",
       "      <th>BRAND</th>\n",
       "      <th>QUANTITY</th>\n",
       "      <th>QUNIT</th>\n",
       "      <th>WEIGHT</th>\n",
       "      <th>GROSS</th>\n",
       "      <th>WEIGHTU</th>\n",
       "      <th>AMOUNT</th>\n",
       "      <th>NUMPKG</th>\n",
       "      <th>UNTPKG</th>\n",
       "      <th>Freezone</th>\n",
       "      <th>RawCode</th>\n",
       "      <th>INVCURR</th>\n",
       "      <th>EXP_TAXNO</th>\n",
       "      <th>EXP_BRANCH</th>\n",
       "      <th>CONSIGNEE</th>\n",
       "      <th>VESSEL</th>\n",
       "      <th>VOY</th>\n",
       "      <th>ORIGIN</th>\n",
       "      <th>ImpTaxInc</th>\n",
       "      <th>Permit1</th>\n",
       "    </tr>\n",
       "  </thead>\n",
       "  <tbody>\n",
       "    <tr>\n",
       "      <th>0</th>\n",
       "      <td>21A1316002-01</td>\n",
       "      <td>2021-02-01</td>\n",
       "      <td>FOB</td>\n",
       "      <td>T/T</td>\n",
       "      <td>1</td>\n",
       "      <td>TRIM</td>\n",
       "      <td>2204421</td>\n",
       "      <td>NO BRAND</td>\n",
       "      <td>1320</td>\n",
       "      <td>C62</td>\n",
       "      <td>333.30</td>\n",
       "      <td>475.02</td>\n",
       "      <td>KGM</td>\n",
       "      <td>5016</td>\n",
       "      <td>1.0</td>\n",
       "      <td>PX</td>\n",
       "      <td>1</td>\n",
       "      <td>2204421</td>\n",
       "      <td>USD</td>\n",
       "      <td>115544003431</td>\n",
       "      <td>0</td>\n",
       "      <td>SHANGHAI</td>\n",
       "      <td>NORDLILY</td>\n",
       "      <td>2105S</td>\n",
       "      <td>CN</td>\n",
       "      <td>F5302028860002</td>\n",
       "      <td>NaN</td>\n",
       "    </tr>\n",
       "    <tr>\n",
       "      <th>1</th>\n",
       "      <td>NaN</td>\n",
       "      <td>NaT</td>\n",
       "      <td>FOB</td>\n",
       "      <td>T/T</td>\n",
       "      <td>2</td>\n",
       "      <td>TRIM</td>\n",
       "      <td>2202969</td>\n",
       "      <td>NO BRAND</td>\n",
       "      <td>1120</td>\n",
       "      <td>C62</td>\n",
       "      <td>126.72</td>\n",
       "      <td>NaN</td>\n",
       "      <td>KGM</td>\n",
       "      <td>2128</td>\n",
       "      <td>NaN</td>\n",
       "      <td>NaN</td>\n",
       "      <td>1</td>\n",
       "      <td>2202969</td>\n",
       "      <td>USD</td>\n",
       "      <td>115544003431</td>\n",
       "      <td>0</td>\n",
       "      <td>SHANGHAI</td>\n",
       "      <td>NORDLILY</td>\n",
       "      <td>2105S</td>\n",
       "      <td>CN</td>\n",
       "      <td>F5302028860002</td>\n",
       "      <td>NaN</td>\n",
       "    </tr>\n",
       "  </tbody>\n",
       "</table>\n",
       "</div>"
      ],
      "text/plain": [
       "          INV_NO   INV_DATE INCOTERM PAYTERM  ITEM PdtGroup   PARTNO  \\\n",
       "0  21A1316002-01 2021-02-01      FOB     T/T     1     TRIM  2204421   \n",
       "1            NaN        NaT      FOB     T/T     2     TRIM  2202969   \n",
       "\n",
       "      BRAND  QUANTITY QUNIT  WEIGHT   GROSS WEIGHTU  AMOUNT  NUMPKG UNTPKG  \\\n",
       "0  NO BRAND      1320   C62  333.30  475.02     KGM    5016     1.0     PX   \n",
       "1  NO BRAND      1120   C62  126.72     NaN     KGM    2128     NaN    NaN   \n",
       "\n",
       "   Freezone  RawCode INVCURR     EXP_TAXNO  EXP_BRANCH CONSIGNEE    VESSEL  \\\n",
       "0         1  2204421     USD  115544003431           0  SHANGHAI  NORDLILY   \n",
       "1         1  2202969     USD  115544003431           0  SHANGHAI  NORDLILY   \n",
       "\n",
       "     VOY ORIGIN       ImpTaxInc  Permit1  \n",
       "0  2105S     CN  F5302028860002      NaN  \n",
       "1  2105S     CN  F5302028860002      NaN  "
      ]
     },
     "execution_count": 5,
     "metadata": {},
     "output_type": "execute_result"
    }
   ],
   "source": [
    "path = \"data/INVB_import_inv.xls\"\n",
    "s = \"Sheet1\"\n",
    "df = pd.read_excel(path, sheet_name=s)\n",
    "df"
   ]
  },
  {
   "cell_type": "code",
   "execution_count": 6,
   "metadata": {},
   "outputs": [
    {
     "name": "stdout",
     "output_type": "stream",
     "text": [
      "010/2/2021\n"
     ]
    },
    {
     "data": {
      "text/plain": [
       "'10/2/2021'"
      ]
     },
     "execution_count": 6,
     "metadata": {},
     "output_type": "execute_result"
    }
   ],
   "source": [
    "input(0)"
   ]
  },
  {
   "cell_type": "code",
   "execution_count": 8,
   "metadata": {},
   "outputs": [
    {
     "name": "stdout",
     "output_type": "stream",
     "text": [
      "01/1/2021\n"
     ]
    },
    {
     "data": {
      "text/plain": [
       "'1/1/2021'"
      ]
     },
     "execution_count": 8,
     "metadata": {},
     "output_type": "execute_result"
    }
   ],
   "source": [
    "d = input(0)\n",
    "d"
   ]
  },
  {
   "cell_type": "code",
   "execution_count": 10,
   "metadata": {},
   "outputs": [
    {
     "data": {
      "text/plain": [
       "8"
      ]
     },
     "execution_count": 10,
     "metadata": {},
     "output_type": "execute_result"
    }
   ],
   "source": [
    "len(d)"
   ]
  },
  {
   "cell_type": "code",
   "execution_count": 11,
   "metadata": {},
   "outputs": [
    {
     "data": {
      "text/plain": [
       "'1'"
      ]
     },
     "execution_count": 11,
     "metadata": {},
     "output_type": "execute_result"
    }
   ],
   "source": [
    "d[0]"
   ]
  },
  {
   "cell_type": "code",
   "execution_count": 12,
   "metadata": {},
   "outputs": [
    {
     "data": {
      "text/plain": [
       "'/'"
      ]
     },
     "execution_count": 12,
     "metadata": {},
     "output_type": "execute_result"
    }
   ],
   "source": [
    "d[1]"
   ]
  },
  {
   "cell_type": "code",
   "execution_count": null,
   "metadata": {},
   "outputs": [],
   "source": []
  }
 ],
 "metadata": {
  "kernelspec": {
   "display_name": "Python 3",
   "language": "python",
   "name": "python3"
  },
  "language_info": {
   "codemirror_mode": {
    "name": "ipython",
    "version": 3
   },
   "file_extension": ".py",
   "mimetype": "text/x-python",
   "name": "python",
   "nbconvert_exporter": "python",
   "pygments_lexer": "ipython3",
   "version": "3.8.5"
  },
  "latex_envs": {
   "LaTeX_envs_menu_present": true,
   "autoclose": false,
   "autocomplete": true,
   "bibliofile": "biblio.bib",
   "cite_by": "apalike",
   "current_citInitial": 1,
   "eqLabelWithNumbers": true,
   "eqNumInitial": 1,
   "hotkeys": {
    "equation": "Ctrl-E",
    "itemize": "Ctrl-I"
   },
   "labels_anchors": false,
   "latex_user_defs": false,
   "report_style_numbering": false,
   "user_envs_cfg": false
  },
  "toc": {
   "base_numbering": 1,
   "nav_menu": {},
   "number_sections": true,
   "sideBar": true,
   "skip_h1_title": false,
   "title_cell": "Table of Contents",
   "title_sidebar": "Contents",
   "toc_cell": false,
   "toc_position": {},
   "toc_section_display": true,
   "toc_window_display": false
  }
 },
 "nbformat": 4,
 "nbformat_minor": 4
}
