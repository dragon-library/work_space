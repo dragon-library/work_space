{
 "cells": [
  {
   "cell_type": "code",
   "execution_count": 12,
   "metadata": {},
   "outputs": [
    {
     "name": "stdout",
     "output_type": "stream",
     "text": [
      "OpenHardwareMonitor:\n"
     ]
    },
    {
     "ename": "AttributeError",
     "evalue": "module 'clr' has no attribute 'AddReference'",
     "output_type": "error",
     "traceback": [
      "\u001b[1;31m---------------------------------------------------------------------------\u001b[0m",
      "\u001b[1;31mAttributeError\u001b[0m                            Traceback (most recent call last)",
      "\u001b[1;32m<ipython-input-12-860dd45361bc>\u001b[0m in \u001b[0;36m<module>\u001b[1;34m\u001b[0m\n\u001b[0;32m     60\u001b[0m \u001b[1;32mif\u001b[0m \u001b[0m__name__\u001b[0m \u001b[1;33m==\u001b[0m \u001b[1;34m\"__main__\"\u001b[0m\u001b[1;33m:\u001b[0m\u001b[1;33m\u001b[0m\u001b[1;33m\u001b[0m\u001b[0m\n\u001b[0;32m     61\u001b[0m     \u001b[0mprint\u001b[0m\u001b[1;33m(\u001b[0m\u001b[1;34m\"OpenHardwareMonitor:\"\u001b[0m\u001b[1;33m)\u001b[0m\u001b[1;33m\u001b[0m\u001b[1;33m\u001b[0m\u001b[0m\n\u001b[1;32m---> 62\u001b[1;33m     \u001b[0mHardwareHandle\u001b[0m \u001b[1;33m=\u001b[0m \u001b[0minitialize_openhardwaremonitor\u001b[0m\u001b[1;33m(\u001b[0m\u001b[1;33m)\u001b[0m\u001b[1;33m\u001b[0m\u001b[1;33m\u001b[0m\u001b[0m\n\u001b[0m\u001b[0;32m     63\u001b[0m     \u001b[0mfetch_stats\u001b[0m\u001b[1;33m(\u001b[0m\u001b[0mHardwareHandle\u001b[0m\u001b[1;33m)\u001b[0m\u001b[1;33m\u001b[0m\u001b[1;33m\u001b[0m\u001b[0m\n\u001b[0;32m     64\u001b[0m     \u001b[0mprint\u001b[0m\u001b[1;33m(\u001b[0m\u001b[1;34m\"\\nCPUMonitor:\"\u001b[0m\u001b[1;33m)\u001b[0m\u001b[1;33m\u001b[0m\u001b[1;33m\u001b[0m\u001b[0m\n",
      "\u001b[1;32m<ipython-input-12-860dd45361bc>\u001b[0m in \u001b[0;36minitialize_openhardwaremonitor\u001b[1;34m()\u001b[0m\n\u001b[0;32m     10\u001b[0m \u001b[1;32mdef\u001b[0m \u001b[0minitialize_openhardwaremonitor\u001b[0m\u001b[1;33m(\u001b[0m\u001b[1;33m)\u001b[0m\u001b[1;33m:\u001b[0m\u001b[1;33m\u001b[0m\u001b[1;33m\u001b[0m\u001b[0m\n\u001b[0;32m     11\u001b[0m     \u001b[0mfile\u001b[0m \u001b[1;33m=\u001b[0m \u001b[1;34m'OpenHardwareMonitorLib.dll'\u001b[0m\u001b[1;33m\u001b[0m\u001b[1;33m\u001b[0m\u001b[0m\n\u001b[1;32m---> 12\u001b[1;33m     \u001b[0mclr\u001b[0m\u001b[1;33m.\u001b[0m\u001b[0mAddReference\u001b[0m\u001b[1;33m(\u001b[0m\u001b[0mfile\u001b[0m\u001b[1;33m)\u001b[0m\u001b[1;33m\u001b[0m\u001b[1;33m\u001b[0m\u001b[0m\n\u001b[0m\u001b[0;32m     13\u001b[0m \u001b[1;33m\u001b[0m\u001b[0m\n\u001b[0;32m     14\u001b[0m     \u001b[1;32mfrom\u001b[0m \u001b[0mOpenHardwareMonitor\u001b[0m \u001b[1;32mimport\u001b[0m \u001b[0mHardware\u001b[0m\u001b[1;33m\u001b[0m\u001b[1;33m\u001b[0m\u001b[0m\n",
      "\u001b[1;31mAttributeError\u001b[0m: module 'clr' has no attribute 'AddReference'"
     ]
    }
   ],
   "source": [
    "import clr #package pythonnet, not clr\n",
    "\n",
    "\n",
    "openhardwaremonitor_hwtypes = ['Mainboard','SuperIO','CPU','RAM','GpuNvidia','GpuAti','TBalancer','Heatmaster','HDD']\n",
    "cputhermometer_hwtypes = ['Mainboard','SuperIO','CPU','GpuNvidia','GpuAti','TBalancer','Heatmaster','HDD']\n",
    "openhardwaremonitor_sensortypes = ['Voltage','Clock','Temperature','Load','Fan','Flow','Control','Level','Factor','Power','Data','SmallData']\n",
    "cputhermometer_sensortypes = ['Voltage','Clock','Temperature','Load','Fan','Flow','Control','Level']\n",
    "\n",
    "\n",
    "def initialize_openhardwaremonitor():\n",
    "    file = 'OpenHardwareMonitorLib.dll'\n",
    "    clr.AddReference(file)\n",
    "\n",
    "    from OpenHardwareMonitor import Hardware\n",
    "\n",
    "    handle = Hardware.Computer()\n",
    "    handle.MainboardEnabled = True\n",
    "    handle.CPUEnabled = True\n",
    "    handle.RAMEnabled = True\n",
    "    handle.GPUEnabled = True\n",
    "    handle.HDDEnabled = True\n",
    "    handle.Open()\n",
    "    return handle\n",
    "\n",
    "def initialize_cputhermometer():\n",
    "    file = 'CPUThermometerLib.dll'\n",
    "    clr.AddReference(file)\n",
    "\n",
    "    from CPUThermometer import Hardware\n",
    "    handle = Hardware.Computer()\n",
    "    handle.CPUEnabled = True\n",
    "    handle.Open()\n",
    "    return handle\n",
    "\n",
    "def fetch_stats(handle):\n",
    "    for i in handle.Hardware:\n",
    "        i.Update()\n",
    "        for sensor in i.Sensors:\n",
    "            parse_sensor(sensor)\n",
    "        for j in i.SubHardware:\n",
    "            j.Update()\n",
    "            for subsensor in j.Sensors:\n",
    "                parse_sensor(subsensor)\n",
    "\n",
    "\n",
    "def parse_sensor(sensor):\n",
    "        if sensor.Value is not None:\n",
    "            if type(sensor).__module__ == 'CPUThermometer.Hardware':\n",
    "                sensortypes = cputhermometer_sensortypes\n",
    "                hardwaretypes = cputhermometer_hwtypes\n",
    "            elif type(sensor).__module__ == 'OpenHardwareMonitor.Hardware':\n",
    "                sensortypes = openhardwaremonitor_sensortypes\n",
    "                hardwaretypes = openhardwaremonitor_hwtypes\n",
    "            else:\n",
    "                return\n",
    "\n",
    "            if sensor.SensorType == sensortypes.index('Temperature'):\n",
    "                print(u\"%s %s Temperature Sensor #%i %s - %s\\u00B0C\" % (hardwaretypes[sensor.Hardware.HardwareType], sensor.Hardware.Name, sensor.Index, sensor.Name, sensor.Value))\n",
    "\n",
    "if __name__ == \"__main__\":\n",
    "    print(\"OpenHardwareMonitor:\")\n",
    "    HardwareHandle = initialize_openhardwaremonitor()\n",
    "    fetch_stats(HardwareHandle)\n",
    "    print(\"\\nCPUMonitor:\")\n",
    "    CPUHandle = initialize_cputhermometer()\n",
    "    fetch_stats(CPUHandle)\n"
   ]
  },
  {
   "cell_type": "code",
   "execution_count": 5,
   "metadata": {},
   "outputs": [],
   "source": [
    "import clr #package pythonnet, not clr\n"
   ]
  },
  {
   "cell_type": "code",
   "execution_count": null,
   "metadata": {},
   "outputs": [],
   "source": [
    " clr."
   ]
  }
 ],
 "metadata": {
  "kernelspec": {
   "display_name": "Python 3",
   "language": "python",
   "name": "python3"
  },
  "language_info": {
   "codemirror_mode": {
    "name": "ipython",
    "version": 3
   },
   "file_extension": ".py",
   "mimetype": "text/x-python",
   "name": "python",
   "nbconvert_exporter": "python",
   "pygments_lexer": "ipython3",
   "version": "3.8.5"
  }
 },
 "nbformat": 4,
 "nbformat_minor": 4
}
