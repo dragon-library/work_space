{
 "cells": [
  {
   "cell_type": "markdown",
   "metadata": {
    "ExecuteTime": {
     "end_time": "2020-11-23T07:33:58.507735Z",
     "start_time": "2020-11-23T07:33:58.299856Z"
    }
   },
   "source": [
    "How to Scrape Wikipedia Articles with Python\n",
    "===\n",
    "\n",
    "![](https://www.freecodecamp.org/news/content/images/size/w2000/2020/08/artem-maltsev-vgQFlPq8tVQ-unsplash-1.jpg)\n",
    "\n",
    "- https://www.freecodecamp.org/news/scraping-wikipedia-articles-with-python/"
   ]
  },
  {
   "cell_type": "code",
   "execution_count": 1,
   "metadata": {
    "ExecuteTime": {
     "end_time": "2020-11-26T19:11:44.609180Z",
     "start_time": "2020-11-26T19:11:43.778863Z"
    }
   },
   "outputs": [
    {
     "name": "stdout",
     "output_type": "stream",
     "text": [
      "200\n"
     ]
    }
   ],
   "source": [
    "import requests\n",
    "\n",
    "response = requests.get(\n",
    "\turl=\"https://en.wikipedia.org/wiki/Web_scraping\",\n",
    ")\n",
    "print(response.status_code)"
   ]
  },
  {
   "cell_type": "markdown",
   "metadata": {},
   "source": [
    "When inspecting the Wikipedia page I see that the title tag has the #firstHeading ID.\n",
    "\n",
    "![](https://www.freecodecamp.org/news/content/images/2020/08/Screen-Shot-2020-08-23-at-4.10.44-PM.png)"
   ]
  },
  {
   "cell_type": "code",
   "execution_count": 3,
   "metadata": {
    "ExecuteTime": {
     "end_time": "2020-11-27T19:44:49.479514Z",
     "start_time": "2020-11-27T19:44:49.174841Z"
    }
   },
   "outputs": [
    {
     "name": "stdout",
     "output_type": "stream",
     "text": [
      "Web scraping\n"
     ]
    }
   ],
   "source": [
    "import requests\n",
    "\n",
    "from bs4 import BeautifulSoup\n",
    "\n",
    "response = requests.get(url=\"https://en.wikipedia.org/wiki/Web_scraping\")\n",
    "soup = BeautifulSoup(response.content, 'html.parser')\n",
    "\n",
    "title = soup.find(id=\"firstHeading\")\n",
    "print(title.string)"
   ]
  },
  {
   "cell_type": "markdown",
   "metadata": {},
   "source": [
    "## Scraping other links"
   ]
  },
  {
   "cell_type": "code",
   "execution_count": 4,
   "metadata": {},
   "outputs": [
    {
     "name": "stdout",
     "output_type": "stream",
     "text": [
      "None\n",
      "<a href=\"/wiki/Injunction\" title=\"Injunction\">injunction</a>\n"
     ]
    }
   ],
   "source": [
    "import requests\n",
    "from bs4 import BeautifulSoup\n",
    "import random\n",
    "\n",
    "response = requests.get(\n",
    "\turl=\"https://en.wikipedia.org/wiki/Web_scraping\",\n",
    ")\n",
    "soup = BeautifulSoup(response.content, 'html.parser')\n",
    "\n",
    "title = soup.find(id=\"firstHeading\")\n",
    "print(title.content)\n",
    "\n",
    "# Get all the links\n",
    "allLinks = soup.find(id=\"bodyContent\").find_all(\"a\")\n",
    "random.shuffle(allLinks)\n",
    "linkToScrape = 0\n",
    "\n",
    "for link in allLinks:\n",
    "\t# We are only interested in other wiki articles\n",
    "\tif link['href'].find(\"/wiki/\") == -1: \n",
    "\t\tcontinue\n",
    "\n",
    "\t# Use this link to scrape\n",
    "\tlinkToScrape = link\n",
    "\tbreak\n",
    "\n",
    "print(linkToScrape)"
   ]
  },
  {
   "cell_type": "markdown",
   "metadata": {},
   "source": [
    "## Creating an endless scraper"
   ]
  },
  {
   "cell_type": "code",
   "execution_count": 14,
   "metadata": {},
   "outputs": [
    {
     "ename": "TabError",
     "evalue": "inconsistent use of tabs and spaces in indentation (<ipython-input-14-6f87432ec282>, line 27)",
     "output_type": "error",
     "traceback": [
      "\u001b[1;36m  File \u001b[1;32m\"<ipython-input-14-6f87432ec282>\"\u001b[1;36m, line \u001b[1;32m27\u001b[0m\n\u001b[1;33m    scrapeWikiArticle(\"https://en.wikipedia.org\" + linkToScrape['href'])\u001b[0m\n\u001b[1;37m                                                                        ^\u001b[0m\n\u001b[1;31mTabError\u001b[0m\u001b[1;31m:\u001b[0m inconsistent use of tabs and spaces in indentation\n"
     ]
    }
   ],
   "source": [
    "import requests\n",
    "from bs4 import BeautifulSoup\n",
    "import random\n",
    "\n",
    "def scrapeWikiArticle(url):\n",
    "\tresponse = requests.get(\n",
    "\t\turl=url,\n",
    "\t)\n",
    "\t\n",
    "\tsoup = BeautifulSoup(response.content, 'html.parser')\n",
    "\n",
    "\ttitle = soup.find(id=\"firstHeading\")\n",
    "\tprint(title.text)\n",
    "\n",
    "\tallLinks = soup.find(id=\"bodyContent\").find_all(\"a\")\n",
    "\trandom.shuffle(allLinks)\n",
    "\tlinkToScrape = 0\n",
    "\n",
    "\tfor link in allLinks:\n",
    "\t\t# We are only interested in other wiki articles\n",
    "\t\tif link['href'].find(\"/wiki/\") == -1: \n",
    "\t\t\tcontinue\n",
    "\n",
    "\t\t# Use this link to scrape\n",
    "\t\tlinkToScrape = link\n",
    "\t\tbreak\n",
    "        scrapeWikiArticle(\"https://en.wikipedia.org\" + linkToScrape['href'])\n",
    "\n",
    "scrapeWikiArticle(\"https://en.wikipedia.org/wiki/Web_scraping\")"
   ]
  },
  {
   "cell_type": "code",
   "execution_count": null,
   "metadata": {},
   "outputs": [],
   "source": []
  }
 ],
 "metadata": {
  "kernelspec": {
   "display_name": "workspace",
   "language": "python",
   "name": "workspace"
  },
  "language_info": {
   "codemirror_mode": {
    "name": "ipython",
    "version": 3
   },
   "file_extension": ".py",
   "mimetype": "text/x-python",
   "name": "python",
   "nbconvert_exporter": "python",
   "pygments_lexer": "ipython3",
   "version": "3.6.12"
  },
  "nbTranslate": {
   "displayLangs": [
    "*"
   ],
   "hotkey": "alt-t",
   "langInMainMenu": true,
   "sourceLang": "en",
   "targetLang": "fr",
   "useGoogleTranslate": true
  },
  "toc": {
   "base_numbering": 1,
   "nav_menu": {},
   "number_sections": false,
   "sideBar": true,
   "skip_h1_title": false,
   "title_cell": "Table of Contents",
   "title_sidebar": "Contents",
   "toc_cell": false,
   "toc_position": {
    "height": "calc(100% - 180px)",
    "left": "10px",
    "top": "150px",
    "width": "269.797px"
   },
   "toc_section_display": true,
   "toc_window_display": true
  }
 },
 "nbformat": 4,
 "nbformat_minor": 4
}
