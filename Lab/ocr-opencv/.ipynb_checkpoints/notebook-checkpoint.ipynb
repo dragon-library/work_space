{
 "cells": [
  {
   "cell_type": "markdown",
   "metadata": {},
   "source": [
    "OCR OpenCV in Forms and Receipts\n",
    "===\n",
    "\n",
    "- https://www.murtazahassan.com/ocr-opencv/"
   ]
  },
  {
   "cell_type": "code",
   "execution_count": 1,
   "metadata": {
    "ExecuteTime": {
     "end_time": "2020-12-21T15:19:33.933884Z",
     "start_time": "2020-12-21T15:19:30.558387Z"
    }
   },
   "outputs": [],
   "source": [
    "import cv2\n",
    "import numpy as np\n",
    "import pytesseract\n",
    "import os\n",
    "import matplotlib.pyplot as plt\n",
    " \n",
    "pytesseract.pytesseract.tesseract_cmd = 'C:\\\\Program Files\\\\Tesseract-OCR\\\\tesseract.exe'"
   ]
  },
  {
   "cell_type": "code",
   "execution_count": 2,
   "metadata": {
    "ExecuteTime": {
     "end_time": "2020-12-21T15:19:34.603891Z",
     "start_time": "2020-12-21T15:19:33.936881Z"
    }
   },
   "outputs": [
    {
     "data": {
      "image/png": "[encoded data removed]",
      "text/plain": [
       "<Figure size 432x288 with 1 Axes>"
      ]
     },
     "metadata": {
      "needs_background": "light"
     },
     "output_type": "display_data"
    }
   ],
   "source": [
    "imgQ = cv2.imread('Query.png')\n",
    "plt.imshow(imgQ)\n",
    "\n",
    "plt.show()"
   ]
  },
  {
   "cell_type": "code",
   "execution_count": 3,
   "metadata": {
    "ExecuteTime": {
     "end_time": "2020-12-21T15:19:34.619889Z",
     "start_time": "2020-12-21T15:19:34.607891Z"
    }
   },
   "outputs": [],
   "source": [
    "orb = cv2.ORB_create()"
   ]
  },
  {
   "cell_type": "code",
   "execution_count": 4,
   "metadata": {
    "ExecuteTime": {
     "end_time": "2020-12-21T15:19:34.635888Z",
     "start_time": "2020-12-21T15:19:34.623892Z"
    }
   },
   "outputs": [],
   "source": [
    "orb = cv2.ORB_create(nfeatures=1000)"
   ]
  },
  {
   "cell_type": "code",
   "execution_count": 5,
   "metadata": {
    "ExecuteTime": {
     "end_time": "2020-12-21T15:19:37.051321Z",
     "start_time": "2020-12-21T15:19:34.638891Z"
    }
   },
   "outputs": [],
   "source": [
    "kp1, des1 = orb.detectAndCompute(imgQ, None)\n",
    "imgKp1 = cv2.drawKeypoints(imgQ,kp1,None)"
   ]
  },
  {
   "cell_type": "code",
   "execution_count": 6,
   "metadata": {
    "ExecuteTime": {
     "end_time": "2020-12-21T15:19:37.067084Z",
     "start_time": "2020-12-21T15:19:37.054078Z"
    }
   },
   "outputs": [
    {
     "name": "stdout",
     "output_type": "stream",
     "text": [
      "['Keypoints-Test-1.jpg.jpg', 'Keypoints-Test-2.jpg.jpg', 'Keypoints-Test-3.jpg-756x480.jpg', 'Test-1-scaled.jpg', 'Test-2-scaled.jpg', 'Test-3-scaled.jpg']\n",
      "Total Images 6\n"
     ]
    }
   ],
   "source": [
    "path ='UserForms'\n",
    "myPicList = os.listdir(path)\n",
    "print(myPicList)\n",
    "print('Total Images {}'.format(len(myPicList)))"
   ]
  },
  {
   "cell_type": "code",
   "execution_count": 7,
   "metadata": {
    "ExecuteTime": {
     "end_time": "2020-12-21T15:19:42.133029Z",
     "start_time": "2020-12-21T15:19:41.883358Z"
    }
   },
   "outputs": [],
   "source": [
    "for j,y in enumerate(myPicList):\n",
    "    img = cv2.imread(path+\"/\"+y)\n"
   ]
  },
  {
   "cell_type": "code",
   "execution_count": 8,
   "metadata": {
    "ExecuteTime": {
     "end_time": "2020-12-21T15:19:42.805716Z",
     "start_time": "2020-12-21T15:19:42.663501Z"
    }
   },
   "outputs": [],
   "source": [
    "kp2, des2 = orb.detectAndCompute(img, None)"
   ]
  },
  {
   "cell_type": "code",
   "execution_count": 9,
   "metadata": {
    "ExecuteTime": {
     "end_time": "2020-12-21T15:19:43.272258Z",
     "start_time": "2020-12-21T15:19:43.245294Z"
    }
   },
   "outputs": [],
   "source": [
    "imgKp2 = cv2.drawKeypoints(img,kp2,None)"
   ]
  },
  {
   "cell_type": "code",
   "execution_count": 10,
   "metadata": {
    "ExecuteTime": {
     "end_time": "2020-12-21T15:19:44.087038Z",
     "start_time": "2020-12-21T15:19:44.056006Z"
    }
   },
   "outputs": [],
   "source": [
    "bf = cv2.BFMatcher(cv2.NORM_HAMMING)\n",
    "matches = bf.match(des2, des1)"
   ]
  },
  {
   "cell_type": "code",
   "execution_count": 14,
   "metadata": {
    "ExecuteTime": {
     "end_time": "2020-12-21T15:30:02.123757Z",
     "start_time": "2020-12-21T15:30:02.089762Z"
    }
   },
   "outputs": [],
   "source": [
    "matches.sort(key = lambda x: x.distance)\n",
    "good = matches[:int(len(matches)/100)]\n",
    " \n",
    "imgMatches = cv2.drawMatches(img, kp2, imgQ, kp1, good,None, flags=2)"
   ]
  },
  {
   "cell_type": "code",
   "execution_count": 15,
   "metadata": {
    "ExecuteTime": {
     "end_time": "2020-12-21T15:30:03.289759Z",
     "start_time": "2020-12-21T15:30:03.261763Z"
    }
   },
   "outputs": [],
   "source": [
    "srcPts = np.float32([kp2[m.queryIdx].pt for m in good]).reshape(-1, 1, 2)\n",
    "dstPts = np.float32([kp1[m.trainIdx].pt for m in good]).reshape(-1, 1, 2)\n",
    " \n",
    "M, _ = cv2.findHomography(srcPts, dstPts, cv2.RANSAC, 5.0)\n"
   ]
  },
  {
   "cell_type": "code",
   "execution_count": 16,
   "metadata": {
    "ExecuteTime": {
     "end_time": "2020-12-21T15:30:04.127764Z",
     "start_time": "2020-12-21T15:30:04.060762Z"
    }
   },
   "outputs": [],
   "source": [
    "h, w = imgQ.shape[:2]\n",
    "imgScan = cv2.warpPerspective(img, M, (w, h))\n",
    "imgShow = imgScan.copy()\n",
    "imgMask = np.zeros_like(imgShow)"
   ]
  },
  {
   "cell_type": "code",
   "execution_count": 19,
   "metadata": {
    "ExecuteTime": {
     "end_time": "2020-12-21T15:31:09.950347Z",
     "start_time": "2020-12-21T15:31:09.933389Z"
    }
   },
   "outputs": [
    {
     "ename": "SyntaxError",
     "evalue": "EOL while scanning string literal (<ipython-input-19-afa1a09aaab4>, line 2)",
     "output_type": "error",
     "traceback": [
      "\u001b[1;36m  File \u001b[1;32m\"<ipython-input-19-afa1a09aaab4>\"\u001b[1;36m, line \u001b[1;32m2\u001b[0m\n\u001b[1;33m    print(f'####### Extracting Data from Form {\u001b[0m\n\u001b[1;37m                                               ^\u001b[0m\n\u001b[1;31mSyntaxError\u001b[0m\u001b[1;31m:\u001b[0m EOL while scanning string literal\n"
     ]
    }
   ],
   "source": [
    "myData = []\n",
    "print(f'####### Extracting Data from Form {"
   ]
  },
  {
   "cell_type": "code",
   "execution_count": 20,
   "metadata": {
    "ExecuteTime": {
     "end_time": "2020-12-21T15:31:32.112783Z",
     "start_time": "2020-12-21T15:31:32.092783Z"
    }
   },
   "outputs": [
    {
     "name": "stdout",
     "output_type": "stream",
     "text": [
      "\n",
      "This script allows to collect raw points from an image.\n",
      "The inputs are two mouse clicks one in the 0,0 position and\n",
      "the second in (w,h)/diagonal position of a rectangle.\n",
      "Once a rectangle is selected the user is asked to enter the type\n",
      "and the Name:\n",
      "Type can be 'text' or 'box'\n",
      "Name can be anything\n",
      "\n"
     ]
    }
   ],
   "source": [
    "myData = []\n",
    "print(\n",
    "\n",
    "\"\"\"\n",
    "This script allows to collect raw points from an image.\n",
    "The inputs are two mouse clicks one in the 0,0 position and\n",
    "the second in (w,h)/diagonal position of a rectangle.\n",
    "Once a rectangle is selected the user is asked to enter the type\n",
    "and the Name:\n",
    "Type can be 'text' or 'box'\n",
    "Name can be anything\n",
    "\"\"\"\n",
    ")\n",
    " \n"
   ]
  },
  {
   "cell_type": "code",
   "execution_count": 21,
   "metadata": {
    "ExecuteTime": {
     "end_time": "2020-12-21T15:31:33.791756Z",
     "start_time": "2020-12-21T15:31:33.719551Z"
    }
   },
   "outputs": [],
   "source": [
    "import cv2\n",
    "import random\n",
    " \n",
    "path= 'Query.png'\n",
    "scale = 0.4\n",
    " \n",
    "circles = []\n",
    "counter = 0\n",
    "counter2 = 0\n",
    "point1=[]\n",
    "point2=[]\n",
    "myPoints = []\n",
    "myColor=[]\n",
    "def mousePoints(event,x,y,flags,params):\n",
    "    global counter,point1,point2,counter2,circles,myColor\n",
    "    if event == cv2.EVENT_LBUTTONDOWN:\n",
    "        if counter==0:\n",
    "            point1=int(x//scale),int(y//scale);\n",
    "            counter +=1\n",
    "            myColor = (random.randint(0,2)*200,random.randint(0,2)*200,random.randint(0,2)*200 )\n",
    "        elif counter ==1:\n",
    "            point2=int(x//scale),int(y//scale)\n",
    "            type = input('Enter Type')\n",
    "            name = input ('Enter Name ')\n",
    "            myPoints.append([point1,point2,type,name])\n",
    "            counter=0\n",
    "        circles.append([x,y,myColor])\n",
    "        counter2 += 1\n",
    "img = cv2.imread(path)\n",
    "img = cv2.resize(img, (0, 0), None, scale, scale)\n",
    " \n"
   ]
  },
  {
   "cell_type": "code",
   "execution_count": null,
   "metadata": {
    "ExecuteTime": {
     "start_time": "2020-12-21T15:31:34.963Z"
    }
   },
   "outputs": [
    {
     "name": "stdout",
     "output_type": "stream",
     "text": [
      "Enter Typetext\n",
      "Enter Name Name\n",
      "Enter Typetext\n",
      "Enter Name Phone\n",
      "Enter TypeBox\n",
      "Enter Name Sign\n",
      "Enter Typebox\n",
      "Enter Name Allergic\n",
      "Enter Typetext\n",
      "Enter Name City\n",
      "Enter Typetext\n",
      "Enter Name City\n"
     ]
    }
   ],
   "source": [
    "while True:\n",
    "    # To Display points\n",
    "    for x,y,color in circles:\n",
    "        cv2.circle(img,(x,y),3,color,cv2.FILLED)\n",
    "    cv2.imshow(\"Original Image \", img)\n",
    "    cv2.setMouseCallback(\"Original Image \", mousePoints)\n",
    "    if cv2.waitKey():\n",
    "        print(myPoints)\n",
    "        break"
   ]
  },
  {
   "cell_type": "code",
   "execution_count": 17,
   "metadata": {
    "ExecuteTime": {
     "end_time": "2020-12-20T20:05:31.344595Z",
     "start_time": "2020-12-20T20:05:31.316592Z"
    }
   },
   "outputs": [
    {
     "ename": "SyntaxError",
     "evalue": "invalid character in identifier (<ipython-input-17-bca6122e61c7>, line 1)",
     "output_type": "error",
     "traceback": [
      "\u001b[1;36m  File \u001b[1;32m\"<ipython-input-17-bca6122e61c7>\"\u001b[1;36m, line \u001b[1;32m1\u001b[0m\n\u001b[1;33m    roi = [[(102, 977), (682, 1079), ‘text’, ‘Name’],\u001b[0m\n\u001b[1;37m                                          ^\u001b[0m\n\u001b[1;31mSyntaxError\u001b[0m\u001b[1;31m:\u001b[0m invalid character in identifier\n"
     ]
    }
   ],
   "source": [
    "roi = [[(102, 977), (682, 1079), ‘text’, ‘Name’],\n",
    "[(742, 979), (1319, 1069), ‘text’, ‘Phone’],\n",
    "[(99, 1152), (144, 1199), ‘box’, ‘Sign’],\n",
    "[(742, 1149), (789, 1197), ‘box’, ‘Allergic’],\n",
    "[(102, 1419), (679, 1509), ‘text’, ‘Email’],\n",
    "[(742, 1419), (1317, 1512), ‘text’, ‘Id’],\n",
    "[(102, 1594), (672, 1684), ‘text’, ‘City’],\n",
    "[(744, 1589), (1327, 1682), ‘text’, ‘Country’]]"
   ]
  },
  {
   "cell_type": "code",
   "execution_count": null,
   "metadata": {
    "ExecuteTime": {
     "end_time": "2020-12-20T20:05:31.351632Z",
     "start_time": "2020-12-20T20:05:15.897Z"
    }
   },
   "outputs": [],
   "source": [
    "for x,r in enumerate(roi):\n",
    "    # For displaying the rois\n",
    "    cv2.rectangle(imgMask, (r[0][0], r[0][1]), (r[1][0], r[1][1]), (0, 255,0), cv2.FILLED)\n",
    "    imgShow = cv2.addWeighted(imgShow, 0.99, imgMask, 0.1, 0)\n"
   ]
  },
  {
   "cell_type": "code",
   "execution_count": null,
   "metadata": {
    "ExecuteTime": {
     "end_time": "2020-12-20T20:05:31.356596Z",
     "start_time": "2020-12-20T20:05:15.904Z"
    }
   },
   "outputs": [],
   "source": [
    "imgCrop= imgScan[r[0][1]:r[1][1],r[0][0]:r[1][0]]"
   ]
  },
  {
   "cell_type": "code",
   "execution_count": null,
   "metadata": {
    "ExecuteTime": {
     "end_time": "2020-12-20T20:05:31.359597Z",
     "start_time": "2020-12-20T20:05:15.910Z"
    }
   },
   "outputs": [],
   "source": [
    "if r[2] == 'text':\n",
    "    print('{}: {}'.format(r[3],pytesseract.image_to_string(imgCrop)))\n",
    "    myData.append(pytesseract.image_to_string(imgCrop))"
   ]
  },
  {
   "cell_type": "code",
   "execution_count": null,
   "metadata": {
    "ExecuteTime": {
     "end_time": "2020-12-20T20:05:31.364595Z",
     "start_time": "2020-12-20T20:05:15.914Z"
    }
   },
   "outputs": [],
   "source": [
    "if r[2] == 'box':\n",
    "    imgWarpGray = cv2.cvtColor(imgCrop, cv2.COLOR_BGR2GRAY)  \n",
    "    imgThresh = cv2.threshold(imgWarpGray, 170, 255, \n",
    "    cv2.THRESH_BINARY_INV)[1]  # APPLY THRESHOLD AND INVERSE\n",
    "    totalPixels = cv2.countNonZero(imgThresh)\n",
    "    if totalPixels>minThreshold:totalPixels=1\n",
    "    else:totalPixels=0\n",
    "    print(f'{r[3]}: {totalPixels}')\n",
    "    myData.append(totalPixels)"
   ]
  },
  {
   "cell_type": "code",
   "execution_count": null,
   "metadata": {},
   "outputs": [],
   "source": []
  },
  {
   "cell_type": "code",
   "execution_count": null,
   "metadata": {},
   "outputs": [],
   "source": []
  }
 ],
 "metadata": {
  "hide_input": false,
  "kernelspec": {
   "display_name": "workspace",
   "language": "python",
   "name": "workspace"
  },
  "language_info": {
   "codemirror_mode": {
    "name": "ipython",
    "version": 3
   },
   "file_extension": ".py",
   "mimetype": "text/x-python",
   "name": "python",
   "nbconvert_exporter": "python",
   "pygments_lexer": "ipython3",
   "version": "3.6.12"
  },
  "latex_envs": {
   "LaTeX_envs_menu_present": true,
   "autoclose": false,
   "autocomplete": true,
   "bibliofile": "biblio.bib",
   "cite_by": "apalike",
   "current_citInitial": 1,
   "eqLabelWithNumbers": true,
   "eqNumInitial": 1,
   "hotkeys": {
    "equation": "Ctrl-E",
    "itemize": "Ctrl-I"
   },
   "labels_anchors": false,
   "latex_user_defs": false,
   "report_style_numbering": false,
   "user_envs_cfg": false
  },
  "toc": {
   "base_numbering": 1,
   "nav_menu": {},
   "number_sections": false,
   "sideBar": true,
   "skip_h1_title": false,
   "title_cell": "Table of Contents",
   "title_sidebar": "Contents",
   "toc_cell": false,
   "toc_position": {},
   "toc_section_display": true,
   "toc_window_display": false
  }
 },
 "nbformat": 4,
 "nbformat_minor": 4
}
