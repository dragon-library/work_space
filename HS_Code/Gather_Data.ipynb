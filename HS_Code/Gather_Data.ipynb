{
 "cells": [
  {
   "cell_type": "markdown",
   "metadata": {},
   "source": [
    "HS Classification\n",
    "===\n",
    "\n",
    "## Step 1: Gather Data"
   ]
  },
  {
   "cell_type": "code",
   "execution_count": 17,
   "metadata": {
    "ExecuteTime": {
     "end_time": "2020-11-23T08:30:08.629813Z",
     "start_time": "2020-11-23T08:30:08.521881Z"
    }
   },
   "outputs": [],
   "source": [
    "%load_ext autoreload\n",
    "%autoreload 2\n",
    "%matplotlib inline\n",
    "\n",
    "import warnings\n",
    "warnings.filterwarnings('ignore')\n",
    "%matplotlib inline\n",
    "\n",
    "import sys\n",
    "from data import get_data\n",
    "import pandas as pd\n",
    "import numpy as np\n",
    "import io"
   ]
  },
  {
   "cell_type": "code",
   "execution_count": 12,
   "metadata": {
    "ExecuteTime": {
     "end_time": "2020-11-23T08:06:22.784279Z",
     "start_time": "2020-11-23T08:06:02.074875Z"
    }
   },
   "outputs": [
    {
     "name": "stdout",
     "output_type": "stream",
     "text": [
      "Load dataset time:  20.686s\n",
      "66822\n",
      "Wall time: 20.7 s\n"
     ]
    },
    {
     "data": {
      "text/html": [
       "<div>\n",
       "<style scoped>\n",
       "    .dataframe tbody tr th:only-of-type {\n",
       "        vertical-align: middle;\n",
       "    }\n",
       "\n",
       "    .dataframe tbody tr th {\n",
       "        vertical-align: top;\n",
       "    }\n",
       "\n",
       "    .dataframe thead th {\n",
       "        text-align: right;\n",
       "    }\n",
       "</style>\n",
       "<table border=\"1\" class=\"dataframe\">\n",
       "  <thead>\n",
       "    <tr style=\"text-align: right;\">\n",
       "      <th></th>\n",
       "      <th>target</th>\n",
       "      <th>data</th>\n",
       "    </tr>\n",
       "  </thead>\n",
       "  <tbody>\n",
       "    <tr>\n",
       "      <th>24823</th>\n",
       "      <td>16</td>\n",
       "      <td>mold</td>\n",
       "    </tr>\n",
       "    <tr>\n",
       "      <th>48865</th>\n",
       "      <td>15</td>\n",
       "      <td>cooling hosesfshp3-3000</td>\n",
       "    </tr>\n",
       "    <tr>\n",
       "      <th>19473</th>\n",
       "      <td>8</td>\n",
       "      <td>handbags/men's bag/hanfbag lamb skin620259db9c...</td>\n",
       "    </tr>\n",
       "    <tr>\n",
       "      <th>40194</th>\n",
       "      <td>10</td>\n",
       "      <td>units writing gr 1 w stk nots</td>\n",
       "    </tr>\n",
       "    <tr>\n",
       "      <th>46978</th>\n",
       "      <td>12</td>\n",
       "      <td>slip resistant safety shoes size:43</td>\n",
       "    </tr>\n",
       "    <tr>\n",
       "      <th>19497</th>\n",
       "      <td>16</td>\n",
       "      <td>connector</td>\n",
       "    </tr>\n",
       "    <tr>\n",
       "      <th>5851</th>\n",
       "      <td>16</td>\n",
       "      <td>relay (60 v above) my2 5508g</td>\n",
       "    </tr>\n",
       "    <tr>\n",
       "      <th>53803</th>\n",
       "      <td>16</td>\n",
       "      <td>ufu cpl venus 033592.75.01:bernina#05</td>\n",
       "    </tr>\n",
       "    <tr>\n",
       "      <th>46973</th>\n",
       "      <td>7</td>\n",
       "      <td>pink finger cot size: m</td>\n",
       "    </tr>\n",
       "    <tr>\n",
       "      <th>56156</th>\n",
       "      <td>7</td>\n",
       "      <td>pakmel pp</td>\n",
       "    </tr>\n",
       "  </tbody>\n",
       "</table>\n",
       "</div>"
      ],
      "text/plain": [
       "      target                                               data\n",
       "24823     16                                               mold\n",
       "48865     15                            cooling hosesfshp3-3000\n",
       "19473      8  handbags/men's bag/hanfbag lamb skin620259db9c...\n",
       "40194     10                      units writing gr 1 w stk nots\n",
       "46978     12                slip resistant safety shoes size:43\n",
       "19497     16                                          connector\n",
       "5851      16                       relay (60 v above) my2 5508g\n",
       "53803     16              ufu cpl venus 033592.75.01:bernina#05\n",
       "46973      7                            pink finger cot size: m\n",
       "56156      7                                          pakmel pp"
      ]
     },
     "execution_count": 12,
     "metadata": {},
     "output_type": "execute_result"
    }
   ],
   "source": [
    "%%time\n",
    "urls = 'data/declaration.xlsx'\n",
    "types = 'section'\n",
    "sheets = ['deci']\n",
    "\n",
    "df = get_data(urls,sheets,types)\n",
    "\n",
    "print(len(df))\n",
    "df.sample(10)"
   ]
  },
  {
   "cell_type": "code",
   "execution_count": 21,
   "metadata": {
    "ExecuteTime": {
     "end_time": "2020-11-23T08:49:01.790181Z",
     "start_time": "2020-11-23T08:48:40.957467Z"
    }
   },
   "outputs": [
    {
     "name": "stdout",
     "output_type": "stream",
     "text": [
      "Load dataset time:  20.732s\n",
      "Wall time: 20.8 s\n"
     ]
    },
    {
     "data": {
      "text/html": [
       "<div>\n",
       "<style scoped>\n",
       "    .dataframe tbody tr th:only-of-type {\n",
       "        vertical-align: middle;\n",
       "    }\n",
       "\n",
       "    .dataframe tbody tr th {\n",
       "        vertical-align: top;\n",
       "    }\n",
       "\n",
       "    .dataframe thead th {\n",
       "        text-align: right;\n",
       "    }\n",
       "</style>\n",
       "<table border=\"1\" class=\"dataframe\">\n",
       "  <thead>\n",
       "    <tr style=\"text-align: right;\">\n",
       "      <th></th>\n",
       "      <th>target</th>\n",
       "      <th>data</th>\n",
       "    </tr>\n",
       "  </thead>\n",
       "  <tbody>\n",
       "    <tr>\n",
       "      <th>0</th>\n",
       "      <td>20</td>\n",
       "      <td>brusali n desk 90x52 white ap</td>\n",
       "    </tr>\n",
       "    <tr>\n",
       "      <th>1</th>\n",
       "      <td>20</td>\n",
       "      <td>ma drwr low 80x60 white ap* cn</td>\n",
       "    </tr>\n",
       "    <tr>\n",
       "      <th>2</th>\n",
       "      <td>20</td>\n",
       "      <td>lonset slat bd bse 90x200 ap cn</td>\n",
       "    </tr>\n",
       "    <tr>\n",
       "      <th>3</th>\n",
       "      <td>20</td>\n",
       "      <td>glassvik gls dr 60x64 white/clear glass ap cn</td>\n",
       "    </tr>\n",
       "    <tr>\n",
       "      <th>4</th>\n",
       "      <td>20</td>\n",
       "      <td>radviken ach dark brown/black ap jp</td>\n",
       "    </tr>\n",
       "    <tr>\n",
       "      <th>...</th>\n",
       "      <td>...</td>\n",
       "      <td>...</td>\n",
       "    </tr>\n",
       "    <tr>\n",
       "      <th>66817</th>\n",
       "      <td>17</td>\n",
       "      <td>pipe sub-assy, nozzle leakage</td>\n",
       "    </tr>\n",
       "    <tr>\n",
       "      <th>66818</th>\n",
       "      <td>17</td>\n",
       "      <td>rail assy, common</td>\n",
       "    </tr>\n",
       "    <tr>\n",
       "      <th>66819</th>\n",
       "      <td>17</td>\n",
       "      <td>pipe, fuel, no.1</td>\n",
       "    </tr>\n",
       "    <tr>\n",
       "      <th>66820</th>\n",
       "      <td>17</td>\n",
       "      <td>pipe, fuel, no.4</td>\n",
       "    </tr>\n",
       "    <tr>\n",
       "      <th>66821</th>\n",
       "      <td>17</td>\n",
       "      <td>support, fuel pipe</td>\n",
       "    </tr>\n",
       "  </tbody>\n",
       "</table>\n",
       "<p>66780 rows × 2 columns</p>\n",
       "</div>"
      ],
      "text/plain": [
       "      target                                           data\n",
       "0         20                  brusali n desk 90x52 white ap\n",
       "1         20                 ma drwr low 80x60 white ap* cn\n",
       "2         20                lonset slat bd bse 90x200 ap cn\n",
       "3         20  glassvik gls dr 60x64 white/clear glass ap cn\n",
       "4         20            radviken ach dark brown/black ap jp\n",
       "...      ...                                            ...\n",
       "66817     17                  pipe sub-assy, nozzle leakage\n",
       "66818     17                              rail assy, common\n",
       "66819     17                               pipe, fuel, no.1\n",
       "66820     17                               pipe, fuel, no.4\n",
       "66821     17                             support, fuel pipe\n",
       "\n",
       "[66780 rows x 2 columns]"
      ]
     },
     "execution_count": 21,
     "metadata": {},
     "output_type": "execute_result"
    }
   ],
   "source": [
    "%%time\n",
    "df = get_data(urls,sheets,types)\n",
    "df = df[pd.notnull(df['data'])]\n",
    "#df = df.sample(frac=0.5, random_state=99).reset_index(drop=True)\n",
    "df"
   ]
  },
  {
   "cell_type": "code",
   "execution_count": 18,
   "metadata": {
    "ExecuteTime": {
     "end_time": "2020-11-23T08:37:56.103202Z",
     "start_time": "2020-11-23T08:37:56.015255Z"
    }
   },
   "outputs": [
    {
     "data": {
      "text/plain": [
       "Counter({'20': 2382,\n",
       "         '13': 1784,\n",
       "         '11': 3565,\n",
       "         '15': 11539,\n",
       "         '7': 8303,\n",
       "         '6': 3542,\n",
       "         '9': 184,\n",
       "         '16': 23624,\n",
       "         '18': 4146,\n",
       "         '4': 1006,\n",
       "         '10': 1246,\n",
       "         '5': 206,\n",
       "         '17': 3122,\n",
       "         '14': 353,\n",
       "         '8': 919,\n",
       "         '2': 124,\n",
       "         '12': 683,\n",
       "         '19': 9,\n",
       "         '3': 15,\n",
       "         '21': 28})"
      ]
     },
     "execution_count": 18,
     "metadata": {},
     "output_type": "execute_result"
    }
   ],
   "source": [
    "from collections import Counter\n",
    "Counter(df[\"target\"])"
   ]
  },
  {
   "cell_type": "code",
   "execution_count": 22,
   "metadata": {
    "ExecuteTime": {
     "end_time": "2020-11-23T08:56:34.942133Z",
     "start_time": "2020-11-23T08:56:34.753250Z"
    }
   },
   "outputs": [
    {
     "data": {
      "text/html": [
       "<div>\n",
       "<style scoped>\n",
       "    .dataframe tbody tr th:only-of-type {\n",
       "        vertical-align: middle;\n",
       "    }\n",
       "\n",
       "    .dataframe tbody tr th {\n",
       "        vertical-align: top;\n",
       "    }\n",
       "\n",
       "    .dataframe thead th {\n",
       "        text-align: right;\n",
       "    }\n",
       "</style>\n",
       "<table border=\"1\" class=\"dataframe\">\n",
       "  <thead>\n",
       "    <tr style=\"text-align: right;\">\n",
       "      <th></th>\n",
       "      <th>target</th>\n",
       "      <th>data</th>\n",
       "    </tr>\n",
       "  </thead>\n",
       "  <tbody>\n",
       "    <tr>\n",
       "      <th>count</th>\n",
       "      <td>66780</td>\n",
       "      <td>66780</td>\n",
       "    </tr>\n",
       "    <tr>\n",
       "      <th>unique</th>\n",
       "      <td>20</td>\n",
       "      <td>54470</td>\n",
       "    </tr>\n",
       "    <tr>\n",
       "      <th>top</th>\n",
       "      <td>16</td>\n",
       "      <td>ic</td>\n",
       "    </tr>\n",
       "    <tr>\n",
       "      <th>freq</th>\n",
       "      <td>23624</td>\n",
       "      <td>223</td>\n",
       "    </tr>\n",
       "  </tbody>\n",
       "</table>\n",
       "</div>"
      ],
      "text/plain": [
       "       target   data\n",
       "count   66780  66780\n",
       "unique     20  54470\n",
       "top        16     ic\n",
       "freq    23624    223"
      ]
     },
     "execution_count": 22,
     "metadata": {},
     "output_type": "execute_result"
    }
   ],
   "source": [
    "df.describe()"
   ]
  },
  {
   "cell_type": "code",
   "execution_count": 27,
   "metadata": {
    "ExecuteTime": {
     "end_time": "2020-11-23T09:17:23.637117Z",
     "start_time": "2020-11-23T09:17:23.526186Z"
    }
   },
   "outputs": [
    {
     "name": "stdout",
     "output_type": "stream",
     "text": [
      "<class 'pandas.core.frame.DataFrame'>\n",
      "Int64Index: 66780 entries, 0 to 66821\n",
      "Data columns (total 2 columns):\n",
      " #   Column  Non-Null Count  Dtype \n",
      "---  ------  --------------  ----- \n",
      " 0   target  66780 non-null  object\n",
      " 1   data    66780 non-null  object\n",
      "dtypes: object(2)\n",
      "memory usage: 1.5+ MB\n"
     ]
    }
   ],
   "source": [
    "df.info()"
   ]
  },
  {
   "cell_type": "code",
   "execution_count": 28,
   "metadata": {
    "ExecuteTime": {
     "end_time": "2020-11-23T09:17:59.612134Z",
     "start_time": "2020-11-23T09:17:59.513194Z"
    }
   },
   "outputs": [
    {
     "data": {
      "text/plain": [
       "(54941, 2)"
      ]
     },
     "execution_count": 28,
     "metadata": {},
     "output_type": "execute_result"
    }
   ],
   "source": [
    "dupl_df = df.drop_duplicates()\n",
    "# df.drop_duplicates(inplace=True)\n",
    "dupl_df.shape"
   ]
  },
  {
   "cell_type": "code",
   "execution_count": 30,
   "metadata": {
    "ExecuteTime": {
     "end_time": "2020-11-23T09:20:52.536219Z",
     "start_time": "2020-11-23T09:20:52.456269Z"
    }
   },
   "outputs": [
    {
     "data": {
      "text/html": [
       "<div>\n",
       "<style scoped>\n",
       "    .dataframe tbody tr th:only-of-type {\n",
       "        vertical-align: middle;\n",
       "    }\n",
       "\n",
       "    .dataframe tbody tr th {\n",
       "        vertical-align: top;\n",
       "    }\n",
       "\n",
       "    .dataframe thead th {\n",
       "        text-align: right;\n",
       "    }\n",
       "</style>\n",
       "<table border=\"1\" class=\"dataframe\">\n",
       "  <thead>\n",
       "    <tr style=\"text-align: right;\">\n",
       "      <th></th>\n",
       "      <th>target</th>\n",
       "      <th>data</th>\n",
       "    </tr>\n",
       "  </thead>\n",
       "  <tbody>\n",
       "  </tbody>\n",
       "</table>\n",
       "</div>"
      ],
      "text/plain": [
       "Empty DataFrame\n",
       "Columns: [target, data]\n",
       "Index: []"
      ]
     },
     "execution_count": 30,
     "metadata": {},
     "output_type": "execute_result"
    }
   ],
   "source": [
    "df[df['data'] == 'N/A']"
   ]
  },
  {
   "cell_type": "code",
   "execution_count": null,
   "metadata": {},
   "outputs": [],
   "source": [
    "df.to_excel('foo.xlsx', sheet_name='Sheet1')"
   ]
  },
  {
   "cell_type": "markdown",
   "metadata": {},
   "source": [
    "## Export"
   ]
  },
  {
   "cell_type": "code",
   "execution_count": 31,
   "metadata": {
    "ExecuteTime": {
     "end_time": "2020-11-23T09:23:51.187884Z",
     "start_time": "2020-11-23T09:23:30.915989Z"
    }
   },
   "outputs": [
    {
     "name": "stdout",
     "output_type": "stream",
     "text": [
      "Load dataset time:  20.190s\n",
      "50885\n",
      "Wall time: 20.2 s\n"
     ]
    },
    {
     "data": {
      "text/html": [
       "<div>\n",
       "<style scoped>\n",
       "    .dataframe tbody tr th:only-of-type {\n",
       "        vertical-align: middle;\n",
       "    }\n",
       "\n",
       "    .dataframe tbody tr th {\n",
       "        vertical-align: top;\n",
       "    }\n",
       "\n",
       "    .dataframe thead th {\n",
       "        text-align: right;\n",
       "    }\n",
       "</style>\n",
       "<table border=\"1\" class=\"dataframe\">\n",
       "  <thead>\n",
       "    <tr style=\"text-align: right;\">\n",
       "      <th></th>\n",
       "      <th>target</th>\n",
       "      <th>data</th>\n",
       "    </tr>\n",
       "  </thead>\n",
       "  <tbody>\n",
       "    <tr>\n",
       "      <th>17439</th>\n",
       "      <td>17</td>\n",
       "      <td>cover, outer mirror, lh</td>\n",
       "    </tr>\n",
       "    <tr>\n",
       "      <th>18708</th>\n",
       "      <td>15</td>\n",
       "      <td>returnable nissan dunnage rwb size : (l x w x ...</td>\n",
       "    </tr>\n",
       "    <tr>\n",
       "      <th>28913</th>\n",
       "      <td>16</td>\n",
       "      <td>assy valve-safety</td>\n",
       "    </tr>\n",
       "    <tr>\n",
       "      <th>43127</th>\n",
       "      <td>7</td>\n",
       "      <td>weatherstrip, fr door glass, outer rh</td>\n",
       "    </tr>\n",
       "    <tr>\n",
       "      <th>48825</th>\n",
       "      <td>13</td>\n",
       "      <td>rockwool insulationprorox wm 960-sa050/0600/50...</td>\n",
       "    </tr>\n",
       "    <tr>\n",
       "      <th>49995</th>\n",
       "      <td>16</td>\n",
       "      <td>electrical insulating materials : plastic heat...</td>\n",
       "    </tr>\n",
       "    <tr>\n",
       "      <th>26000</th>\n",
       "      <td>17</td>\n",
       "      <td>isuzu rt-50 styling bar - unprime unpaint</td>\n",
       "    </tr>\n",
       "    <tr>\n",
       "      <th>7975</th>\n",
       "      <td>20</td>\n",
       "      <td>ab3921617b51ca3a06 knob lh            *</td>\n",
       "    </tr>\n",
       "    <tr>\n",
       "      <th>36631</th>\n",
       "      <td>7</td>\n",
       "      <td>rl base</td>\n",
       "    </tr>\n",
       "    <tr>\n",
       "      <th>46842</th>\n",
       "      <td>16</td>\n",
       "      <td>air purifiers</td>\n",
       "    </tr>\n",
       "  </tbody>\n",
       "</table>\n",
       "</div>"
      ],
      "text/plain": [
       "      target                                               data\n",
       "17439     17                            cover, outer mirror, lh\n",
       "18708     15  returnable nissan dunnage rwb size : (l x w x ...\n",
       "28913     16                                  assy valve-safety\n",
       "43127      7              weatherstrip, fr door glass, outer rh\n",
       "48825     13  rockwool insulationprorox wm 960-sa050/0600/50...\n",
       "49995     16  electrical insulating materials : plastic heat...\n",
       "26000     17          isuzu rt-50 styling bar - unprime unpaint\n",
       "7975      20            ab3921617b51ca3a06 knob lh            *\n",
       "36631      7                                            rl base\n",
       "46842     16                                      air purifiers"
      ]
     },
     "execution_count": 31,
     "metadata": {},
     "output_type": "execute_result"
    }
   ],
   "source": [
    "%%time\n",
    "urls = 'data/declaration.xlsx'\n",
    "types = 'section'\n",
    "sheets = ['decx']\n",
    "\n",
    "data= get_data(urls,sheets,types)\n",
    "\n",
    "print(len(data))\n",
    "data.sample(10)"
   ]
  },
  {
   "cell_type": "code",
   "execution_count": 32,
   "metadata": {
    "ExecuteTime": {
     "end_time": "2020-11-23T09:24:41.195323Z",
     "start_time": "2020-11-23T09:24:21.438293Z"
    }
   },
   "outputs": [
    {
     "name": "stdout",
     "output_type": "stream",
     "text": [
      "Load dataset time:  19.662s\n",
      "Wall time: 19.7 s\n"
     ]
    },
    {
     "data": {
      "text/html": [
       "<div>\n",
       "<style scoped>\n",
       "    .dataframe tbody tr th:only-of-type {\n",
       "        vertical-align: middle;\n",
       "    }\n",
       "\n",
       "    .dataframe tbody tr th {\n",
       "        vertical-align: top;\n",
       "    }\n",
       "\n",
       "    .dataframe thead th {\n",
       "        text-align: right;\n",
       "    }\n",
       "</style>\n",
       "<table border=\"1\" class=\"dataframe\">\n",
       "  <thead>\n",
       "    <tr style=\"text-align: right;\">\n",
       "      <th></th>\n",
       "      <th>target</th>\n",
       "      <th>data</th>\n",
       "    </tr>\n",
       "  </thead>\n",
       "  <tbody>\n",
       "    <tr>\n",
       "      <th>0</th>\n",
       "      <td>7</td>\n",
       "      <td>wear strip t 5.0x 20.0, uhmw pe/7 grn</td>\n",
       "    </tr>\n",
       "    <tr>\n",
       "      <th>1</th>\n",
       "      <td>16</td>\n",
       "      <td>rotary joint 2361x2639x85</td>\n",
       "    </tr>\n",
       "    <tr>\n",
       "      <th>2</th>\n",
       "      <td>9</td>\n",
       "      <td>wooden furniture klack tray 38x58 rbbr w</td>\n",
       "    </tr>\n",
       "    <tr>\n",
       "      <th>3</th>\n",
       "      <td>7</td>\n",
       "      <td>elastomers/lims-s2-20-p</td>\n",
       "    </tr>\n",
       "    <tr>\n",
       "      <th>4</th>\n",
       "      <td>7</td>\n",
       "      <td>elastomers/lims-s2-20-p</td>\n",
       "    </tr>\n",
       "    <tr>\n",
       "      <th>...</th>\n",
       "      <td>...</td>\n",
       "      <td>...</td>\n",
       "    </tr>\n",
       "    <tr>\n",
       "      <th>50880</th>\n",
       "      <td>17</td>\n",
       "      <td>bracket,rr bumper side,lh</td>\n",
       "    </tr>\n",
       "    <tr>\n",
       "      <th>50881</th>\n",
       "      <td>15</td>\n",
       "      <td>latch,rr body rr gate,rh</td>\n",
       "    </tr>\n",
       "    <tr>\n",
       "      <th>50882</th>\n",
       "      <td>17</td>\n",
       "      <td>cover,2nd seat belt sash guide</td>\n",
       "    </tr>\n",
       "    <tr>\n",
       "      <th>50883</th>\n",
       "      <td>17</td>\n",
       "      <td>seat belt,rr seat,inr lh</td>\n",
       "    </tr>\n",
       "    <tr>\n",
       "      <th>50884</th>\n",
       "      <td>17</td>\n",
       "      <td>pad,rr overfender,lh</td>\n",
       "    </tr>\n",
       "  </tbody>\n",
       "</table>\n",
       "<p>49528 rows × 2 columns</p>\n",
       "</div>"
      ],
      "text/plain": [
       "      target                                      data\n",
       "0          7     wear strip t 5.0x 20.0, uhmw pe/7 grn\n",
       "1         16                 rotary joint 2361x2639x85\n",
       "2          9  wooden furniture klack tray 38x58 rbbr w\n",
       "3          7                   elastomers/lims-s2-20-p\n",
       "4          7                   elastomers/lims-s2-20-p\n",
       "...      ...                                       ...\n",
       "50880     17                 bracket,rr bumper side,lh\n",
       "50881     15                  latch,rr body rr gate,rh\n",
       "50882     17            cover,2nd seat belt sash guide\n",
       "50883     17                  seat belt,rr seat,inr lh\n",
       "50884     17                      pad,rr overfender,lh\n",
       "\n",
       "[49528 rows x 2 columns]"
      ]
     },
     "execution_count": 32,
     "metadata": {},
     "output_type": "execute_result"
    }
   ],
   "source": [
    "%%time\n",
    "data = get_data(urls,sheets,types)\n",
    "data = data[pd.notnull(data['data'])]\n",
    "#df = df.sample(frac=0.5, random_state=99).reset_index(drop=True)\n",
    "data"
   ]
  },
  {
   "cell_type": "code",
   "execution_count": 34,
   "metadata": {
    "ExecuteTime": {
     "end_time": "2020-11-23T09:25:39.415687Z",
     "start_time": "2020-11-23T09:25:39.332738Z"
    }
   },
   "outputs": [
    {
     "data": {
      "text/plain": [
       "Counter({'20': 2382,\n",
       "         '13': 1784,\n",
       "         '11': 3565,\n",
       "         '15': 11539,\n",
       "         '7': 8303,\n",
       "         '6': 3542,\n",
       "         '9': 184,\n",
       "         '16': 23624,\n",
       "         '18': 4146,\n",
       "         '4': 1006,\n",
       "         '10': 1246,\n",
       "         '5': 206,\n",
       "         '17': 3122,\n",
       "         '14': 353,\n",
       "         '8': 919,\n",
       "         '2': 124,\n",
       "         '12': 683,\n",
       "         '19': 9,\n",
       "         '3': 15,\n",
       "         '21': 28})"
      ]
     },
     "execution_count": 34,
     "metadata": {},
     "output_type": "execute_result"
    }
   ],
   "source": [
    "Counter(df[\"target\"])"
   ]
  },
  {
   "cell_type": "code",
   "execution_count": null,
   "metadata": {},
   "outputs": [],
   "source": []
  },
  {
   "cell_type": "code",
   "execution_count": 35,
   "metadata": {
    "ExecuteTime": {
     "end_time": "2020-11-23T09:43:00.386235Z",
     "start_time": "2020-11-23T09:42:48.565184Z"
    }
   },
   "outputs": [
    {
     "name": "stdout",
     "output_type": "stream",
     "text": [
      "success\n"
     ]
    }
   ],
   "source": [
    "writer = pd.ExcelWriter(\"data/decl_data.xlsx\")\n",
    "\n",
    "df.to_excel(writer,\"deci\", index=True)\n",
    "data.to_excel(writer,\"decx\", index=True)\n",
    "writer.save()\n",
    "print('success')"
   ]
  },
  {
   "cell_type": "code",
   "execution_count": 36,
   "metadata": {
    "ExecuteTime": {
     "end_time": "2020-11-23T09:44:28.186711Z",
     "start_time": "2020-11-23T09:44:28.094768Z"
    }
   },
   "outputs": [
    {
     "data": {
      "text/plain": [
       "(27942, 2)"
      ]
     },
     "execution_count": 36,
     "metadata": {},
     "output_type": "execute_result"
    }
   ],
   "source": [
    "dupl_df = data.drop_duplicates()\n",
    "# df.drop_duplicates(inplace=True)\n",
    "dupl_df.shape"
   ]
  },
  {
   "cell_type": "code",
   "execution_count": 24,
   "metadata": {
    "ExecuteTime": {
     "end_time": "2020-11-23T09:01:31.416898Z",
     "start_time": "2020-11-23T09:01:31.316960Z"
    }
   },
   "outputs": [
    {
     "data": {
      "text/plain": [
       "0        False\n",
       "1        False\n",
       "2        False\n",
       "3        False\n",
       "4        False\n",
       "         ...  \n",
       "66817    False\n",
       "66818    False\n",
       "66819    False\n",
       "66820    False\n",
       "66821    False\n",
       "Name: data, Length: 66780, dtype: bool"
      ]
     },
     "execution_count": 24,
     "metadata": {},
     "output_type": "execute_result"
    }
   ],
   "source": [
    "df['data'].str.isnumeric()"
   ]
  },
  {
   "cell_type": "code",
   "execution_count": 26,
   "metadata": {
    "ExecuteTime": {
     "end_time": "2020-11-23T09:03:43.911762Z",
     "start_time": "2020-11-23T09:03:43.818821Z"
    }
   },
   "outputs": [
    {
     "data": {
      "text/plain": [
       "0        False\n",
       "1        False\n",
       "2        False\n",
       "3        False\n",
       "4        False\n",
       "         ...  \n",
       "66817    False\n",
       "66818    False\n",
       "66819    False\n",
       "66820    False\n",
       "66821    False\n",
       "Name: data, Length: 66780, dtype: bool"
      ]
     },
     "execution_count": 26,
     "metadata": {},
     "output_type": "execute_result"
    }
   ],
   "source": [
    "df['data'].str.isalpha()"
   ]
  },
  {
   "cell_type": "code",
   "execution_count": null,
   "metadata": {},
   "outputs": [],
   "source": []
  }
 ],
 "metadata": {
  "kernelspec": {
   "display_name": "Python 3",
   "language": "python",
   "name": "python3"
  },
  "language_info": {
   "codemirror_mode": {
    "name": "ipython",
    "version": 3
   },
   "file_extension": ".py",
   "mimetype": "text/x-python",
   "name": "python",
   "nbconvert_exporter": "python",
   "pygments_lexer": "ipython3",
   "version": "3.8.3"
  },
  "toc": {
   "base_numbering": 1,
   "nav_menu": {},
   "number_sections": true,
   "sideBar": true,
   "skip_h1_title": false,
   "title_cell": "Table of Contents",
   "title_sidebar": "Contents",
   "toc_cell": false,
   "toc_position": {},
   "toc_section_display": true,
   "toc_window_display": false
  }
 },
 "nbformat": 4,
 "nbformat_minor": 4
}
