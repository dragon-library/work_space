{
 "cells": [
  {
   "cell_type": "code",
   "execution_count": null,
   "metadata": {},
   "outputs": [],
   "source": []
  },
  {
   "cell_type": "code",
   "execution_count": 30,
   "metadata": {
    "ExecuteTime": {
     "end_time": "2020-10-26T10:57:03.391524Z",
     "start_time": "2020-10-26T10:57:03.386527Z"
    }
   },
   "outputs": [],
   "source": [
    "import numpy\n",
    "import pandas as pd\n",
    "import matplotlib.pyplot as plt\n",
    "from sklearn.naive_bayes import MultinomialNB\n",
    "from sklearn.feature_extraction.text import CountVectorizer\n",
    "from sklearn.metrics import confusion_matrix, f1_score ,accuracy_score"
   ]
  },
  {
   "cell_type": "code",
   "execution_count": 36,
   "metadata": {
    "ExecuteTime": {
     "end_time": "2020-10-26T10:59:03.589238Z",
     "start_time": "2020-10-26T10:59:03.562254Z"
    }
   },
   "outputs": [
    {
     "data": {
      "text/html": [
       "<div>\n",
       "<style scoped>\n",
       "    .dataframe tbody tr th:only-of-type {\n",
       "        vertical-align: middle;\n",
       "    }\n",
       "\n",
       "    .dataframe tbody tr th {\n",
       "        vertical-align: top;\n",
       "    }\n",
       "\n",
       "    .dataframe thead th {\n",
       "        text-align: right;\n",
       "    }\n",
       "</style>\n",
       "<table border=\"1\" class=\"dataframe\">\n",
       "  <thead>\n",
       "    <tr style=\"text-align: right;\">\n",
       "      <th></th>\n",
       "      <th>v1</th>\n",
       "      <th>v2</th>\n",
       "      <th>Unnamed: 2</th>\n",
       "      <th>Unnamed: 3</th>\n",
       "      <th>Unnamed: 4</th>\n",
       "    </tr>\n",
       "  </thead>\n",
       "  <tbody>\n",
       "    <tr>\n",
       "      <th>0</th>\n",
       "      <td>ham</td>\n",
       "      <td>Go until jurong point, crazy.. Available only ...</td>\n",
       "      <td>NaN</td>\n",
       "      <td>NaN</td>\n",
       "      <td>NaN</td>\n",
       "    </tr>\n",
       "    <tr>\n",
       "      <th>1</th>\n",
       "      <td>ham</td>\n",
       "      <td>Ok lar... Joking wif u oni...</td>\n",
       "      <td>NaN</td>\n",
       "      <td>NaN</td>\n",
       "      <td>NaN</td>\n",
       "    </tr>\n",
       "    <tr>\n",
       "      <th>2</th>\n",
       "      <td>spam</td>\n",
       "      <td>Free entry in 2 a wkly comp to win FA Cup fina...</td>\n",
       "      <td>NaN</td>\n",
       "      <td>NaN</td>\n",
       "      <td>NaN</td>\n",
       "    </tr>\n",
       "    <tr>\n",
       "      <th>3</th>\n",
       "      <td>ham</td>\n",
       "      <td>U dun say so early hor... U c already then say...</td>\n",
       "      <td>NaN</td>\n",
       "      <td>NaN</td>\n",
       "      <td>NaN</td>\n",
       "    </tr>\n",
       "    <tr>\n",
       "      <th>4</th>\n",
       "      <td>ham</td>\n",
       "      <td>Nah I don't think he goes to usf, he lives aro...</td>\n",
       "      <td>NaN</td>\n",
       "      <td>NaN</td>\n",
       "      <td>NaN</td>\n",
       "    </tr>\n",
       "    <tr>\n",
       "      <th>...</th>\n",
       "      <td>...</td>\n",
       "      <td>...</td>\n",
       "      <td>...</td>\n",
       "      <td>...</td>\n",
       "      <td>...</td>\n",
       "    </tr>\n",
       "    <tr>\n",
       "      <th>5567</th>\n",
       "      <td>spam</td>\n",
       "      <td>This is the 2nd time we have tried 2 contact u...</td>\n",
       "      <td>NaN</td>\n",
       "      <td>NaN</td>\n",
       "      <td>NaN</td>\n",
       "    </tr>\n",
       "    <tr>\n",
       "      <th>5568</th>\n",
       "      <td>ham</td>\n",
       "      <td>Will ฬ_ b going to esplanade fr home?</td>\n",
       "      <td>NaN</td>\n",
       "      <td>NaN</td>\n",
       "      <td>NaN</td>\n",
       "    </tr>\n",
       "    <tr>\n",
       "      <th>5569</th>\n",
       "      <td>ham</td>\n",
       "      <td>Pity, * was in mood for that. So...any other s...</td>\n",
       "      <td>NaN</td>\n",
       "      <td>NaN</td>\n",
       "      <td>NaN</td>\n",
       "    </tr>\n",
       "    <tr>\n",
       "      <th>5570</th>\n",
       "      <td>ham</td>\n",
       "      <td>The guy did some bitching but I acted like i'd...</td>\n",
       "      <td>NaN</td>\n",
       "      <td>NaN</td>\n",
       "      <td>NaN</td>\n",
       "    </tr>\n",
       "    <tr>\n",
       "      <th>5571</th>\n",
       "      <td>ham</td>\n",
       "      <td>Rofl. Its true to its name</td>\n",
       "      <td>NaN</td>\n",
       "      <td>NaN</td>\n",
       "      <td>NaN</td>\n",
       "    </tr>\n",
       "  </tbody>\n",
       "</table>\n",
       "<p>5572 rows × 5 columns</p>\n",
       "</div>"
      ],
      "text/plain": [
       "        v1                                                 v2 Unnamed: 2  \\\n",
       "0      ham  Go until jurong point, crazy.. Available only ...        NaN   \n",
       "1      ham                      Ok lar... Joking wif u oni...        NaN   \n",
       "2     spam  Free entry in 2 a wkly comp to win FA Cup fina...        NaN   \n",
       "3      ham  U dun say so early hor... U c already then say...        NaN   \n",
       "4      ham  Nah I don't think he goes to usf, he lives aro...        NaN   \n",
       "...    ...                                                ...        ...   \n",
       "5567  spam  This is the 2nd time we have tried 2 contact u...        NaN   \n",
       "5568   ham              Will ฬ_ b going to esplanade fr home?        NaN   \n",
       "5569   ham  Pity, * was in mood for that. So...any other s...        NaN   \n",
       "5570   ham  The guy did some bitching but I acted like i'd...        NaN   \n",
       "5571   ham                         Rofl. Its true to its name        NaN   \n",
       "\n",
       "     Unnamed: 3 Unnamed: 4  \n",
       "0           NaN        NaN  \n",
       "1           NaN        NaN  \n",
       "2           NaN        NaN  \n",
       "3           NaN        NaN  \n",
       "4           NaN        NaN  \n",
       "...         ...        ...  \n",
       "5567        NaN        NaN  \n",
       "5568        NaN        NaN  \n",
       "5569        NaN        NaN  \n",
       "5570        NaN        NaN  \n",
       "5571        NaN        NaN  \n",
       "\n",
       "[5572 rows x 5 columns]"
      ]
     },
     "execution_count": 36,
     "metadata": {},
     "output_type": "execute_result"
    }
   ],
   "source": [
    "file = pd.read_csv('data/spam.csv', encoding = 'utf8')\n",
    "#file.drop_duplicates(inplace=True)\n",
    "#file.dropna(inplace=True)\n",
    "file"
   ]
  },
  {
   "cell_type": "code",
   "execution_count": 37,
   "metadata": {
    "ExecuteTime": {
     "end_time": "2020-10-26T10:59:08.129914Z",
     "start_time": "2020-10-26T10:59:08.120920Z"
    }
   },
   "outputs": [
    {
     "name": "stdout",
     "output_type": "stream",
     "text": [
      "Ham : (4825, 5)\n",
      "Spam : (747, 5)\n"
     ]
    }
   ],
   "source": [
    "print('Ham :',file[file['v1']=='ham'].shape)\n",
    "print('Spam :',file[file['v1']=='spam'].shape)"
   ]
  },
  {
   "cell_type": "code",
   "execution_count": 38,
   "metadata": {
    "ExecuteTime": {
     "end_time": "2020-10-26T10:59:09.696541Z",
     "start_time": "2020-10-26T10:59:09.689546Z"
    }
   },
   "outputs": [],
   "source": [
    "arr_text=file.iloc[:]['v2'].values\n",
    "arr_class=file.iloc[:]['v1'].values\n",
    "from sklearn.model_selection import train_test_split\n",
    "X_train, X_test, y_train, y_test = train_test_split(arr_text, arr_class, test_size=0.33, random_state=42)"
   ]
  },
  {
   "cell_type": "code",
   "execution_count": 39,
   "metadata": {
    "ExecuteTime": {
     "end_time": "2020-10-26T10:59:10.544914Z",
     "start_time": "2020-10-26T10:59:10.409998Z"
    }
   },
   "outputs": [
    {
     "data": {
      "text/plain": [
       "CountVectorizer()"
      ]
     },
     "execution_count": 39,
     "metadata": {},
     "output_type": "execute_result"
    }
   ],
   "source": [
    "vect = CountVectorizer()\n",
    "vect.fit(arr_text)"
   ]
  },
  {
   "cell_type": "code",
   "execution_count": 40,
   "metadata": {
    "ExecuteTime": {
     "end_time": "2020-10-26T10:59:11.435494Z",
     "start_time": "2020-10-26T10:59:11.353543Z"
    }
   },
   "outputs": [],
   "source": [
    "train_transformer_x = vect.transform(X_train)\n",
    "detect_model = MultinomialNB().fit(train_transformer_x,y_train)"
   ]
  },
  {
   "cell_type": "code",
   "execution_count": 41,
   "metadata": {
    "ExecuteTime": {
     "end_time": "2020-10-26T10:59:12.087086Z",
     "start_time": "2020-10-26T10:59:12.033120Z"
    }
   },
   "outputs": [
    {
     "name": "stdout",
     "output_type": "stream",
     "text": [
      "F1 score = 0.9561690266641244\n",
      "Accuracy = 0.9793365959760739\n"
     ]
    }
   ],
   "source": [
    "test_transformer_x = vect.transform(X_test)\n",
    "y_pred = detect_model.predict(test_transformer_x)\n",
    "print('F1 score =',f1_score(y_test, y_pred, average='macro'))\n",
    "print('Accuracy =',accuracy_score(y_test, y_pred))"
   ]
  },
  {
   "cell_type": "code",
   "execution_count": 42,
   "metadata": {
    "ExecuteTime": {
     "end_time": "2020-10-26T10:59:13.957924Z",
     "start_time": "2020-10-26T10:59:12.890587Z"
    }
   },
   "outputs": [
    {
     "name": "stdout",
     "output_type": "stream",
     "text": [
      "Best Parameter =  {'fit_prior': True, 'alpha': 0.88}\n"
     ]
    }
   ],
   "source": [
    "from sklearn.model_selection import RandomizedSearchCV\n",
    "parameters = {\n",
    " 'alpha' : numpy.arange(0, 8, 0.01),\n",
    " 'fit_prior' : [True,False]\n",
    "}\n",
    "rdsCV = RandomizedSearchCV(MultinomialNB(),param_distributions=parameters,cv=10)\n",
    "rdsCV.fit(train_transformer_x,y_train)\n",
    "print('Best Parameter = ',rdsCV.best_params_)"
   ]
  },
  {
   "cell_type": "code",
   "execution_count": 43,
   "metadata": {
    "ExecuteTime": {
     "end_time": "2020-10-26T11:00:07.310384Z",
     "start_time": "2020-10-26T11:00:06.224058Z"
    }
   },
   "outputs": [
    {
     "name": "stdout",
     "output_type": "stream",
     "text": [
      "Best Parameter =  {'fit_prior': True, 'alpha': 0.89}\n"
     ]
    }
   ],
   "source": [
    "from sklearn.model_selection import GridSearchCV\n",
    "parameters = {\n",
    " 'alpha' : numpy.arange(0, 8, 0.01),\n",
    " 'fit_prior' : [True,False]\n",
    "}\n",
    "rdsCV = RandomizedSearchCV(MultinomialNB(),param_distributions=parameters,cv=10)\n",
    "rdsCV.fit(train_transformer_x,y_train)\n",
    "print('Best Parameter = ',rdsCV.best_params_)"
   ]
  },
  {
   "cell_type": "code",
   "execution_count": null,
   "metadata": {},
   "outputs": [],
   "source": []
  },
  {
   "cell_type": "code",
   "execution_count": null,
   "metadata": {},
   "outputs": [],
   "source": []
  },
  {
   "cell_type": "code",
   "execution_count": 1,
   "metadata": {
    "ExecuteTime": {
     "end_time": "2020-10-30T02:58:03.354123Z",
     "start_time": "2020-10-30T02:57:55.495759Z"
    }
   },
   "outputs": [
    {
     "name": "stderr",
     "output_type": "stream",
     "text": [
      "[nltk_data] Downloading package stopwords to\n",
      "[nltk_data]     C:\\Users\\Yo\\AppData\\Roaming\\nltk_data...\n",
      "[nltk_data]   Package stopwords is already up-to-date!\n"
     ]
    }
   ],
   "source": [
    "import glob\n",
    "import codecs\n",
    "import numpy\n",
    "import pandas as pd\n",
    "from sklearn.naive_bayes import MultinomialNB\n",
    "from sklearn.feature_extraction.text import CountVectorizer\n",
    "from sklearn.feature_extraction.text import TfidfTransformer\n",
    "from sklearn.pipeline import Pipeline\n",
    "from sklearn.model_selection import KFold\n",
    "from sklearn.metrics import confusion_matrix, f1_score\n",
    "import nltk\n",
    "nltk.download('stopwords')\n",
    "\n",
    "pd.set_option('display.max_rows', 20, \n",
    "              'display.max_columns', 100)"
   ]
  },
  {
   "cell_type": "code",
   "execution_count": 2,
   "metadata": {
    "ExecuteTime": {
     "end_time": "2020-10-30T02:58:08.542655Z",
     "start_time": "2020-10-30T02:58:08.537659Z"
    }
   },
   "outputs": [],
   "source": [
    "def manage_tariff(data):\n",
    "#   data['length'] = data['heading'].apply(len)\n",
    "  #  data['heading'] = data.heading.apply(range_txt)\n",
    "    \n",
    "    db = []\n",
    "    for i in range(len(data)):\n",
    "    \n",
    "     \n",
    "    \n",
    "        db.append({'descript': data.product_desc[i] ,'class':data.heading[i] })\n",
    "    \n",
    "    return db"
   ]
  },
  {
   "cell_type": "code",
   "execution_count": 10,
   "metadata": {
    "ExecuteTime": {
     "end_time": "2020-10-30T03:03:11.813383Z",
     "start_time": "2020-10-30T03:03:03.767338Z"
    }
   },
   "outputs": [
    {
     "data": {
      "text/html": [
       "<div>\n",
       "<style scoped>\n",
       "    .dataframe tbody tr th:only-of-type {\n",
       "        vertical-align: middle;\n",
       "    }\n",
       "\n",
       "    .dataframe tbody tr th {\n",
       "        vertical-align: top;\n",
       "    }\n",
       "\n",
       "    .dataframe thead th {\n",
       "        text-align: right;\n",
       "    }\n",
       "</style>\n",
       "<table border=\"1\" class=\"dataframe\">\n",
       "  <thead>\n",
       "    <tr style=\"text-align: right;\">\n",
       "      <th></th>\n",
       "      <th>tariff_code</th>\n",
       "      <th>product_desc</th>\n",
       "    </tr>\n",
       "  </thead>\n",
       "  <tbody>\n",
       "    <tr>\n",
       "      <th>0</th>\n",
       "      <td>010111</td>\n",
       "      <td>Horses; live, pure-bred breeding animals</td>\n",
       "    </tr>\n",
       "    <tr>\n",
       "      <th>1</th>\n",
       "      <td>010119</td>\n",
       "      <td>Horses; live, other than pure-bred breeding an...</td>\n",
       "    </tr>\n",
       "    <tr>\n",
       "      <th>2</th>\n",
       "      <td>010120</td>\n",
       "      <td>Asses, mules and hinnies; live</td>\n",
       "    </tr>\n",
       "    <tr>\n",
       "      <th>3</th>\n",
       "      <td>010210</td>\n",
       "      <td>Bovine animals; live, pure-bred breeding animals</td>\n",
       "    </tr>\n",
       "    <tr>\n",
       "      <th>4</th>\n",
       "      <td>010290</td>\n",
       "      <td>Bovine animals; live, other than pure-bred bre...</td>\n",
       "    </tr>\n",
       "    <tr>\n",
       "      <th>...</th>\n",
       "      <td>...</td>\n",
       "      <td>...</td>\n",
       "    </tr>\n",
       "    <tr>\n",
       "      <th>31043</th>\n",
       "      <td>970300</td>\n",
       "      <td>Sculptures and statuary; original, in any mate...</td>\n",
       "    </tr>\n",
       "    <tr>\n",
       "      <th>31044</th>\n",
       "      <td>970400</td>\n",
       "      <td>Stamps, postage or revenue; stamp-postmarks, f...</td>\n",
       "    </tr>\n",
       "    <tr>\n",
       "      <th>31045</th>\n",
       "      <td>970500</td>\n",
       "      <td>Collections and collectors' pieces; of zoologi...</td>\n",
       "    </tr>\n",
       "    <tr>\n",
       "      <th>31046</th>\n",
       "      <td>970600</td>\n",
       "      <td>Antiques; of an age exceeding one hundred years</td>\n",
       "    </tr>\n",
       "    <tr>\n",
       "      <th>31047</th>\n",
       "      <td>999999</td>\n",
       "      <td>Commodities not specified according to kind</td>\n",
       "    </tr>\n",
       "  </tbody>\n",
       "</table>\n",
       "<p>31048 rows × 2 columns</p>\n",
       "</div>"
      ],
      "text/plain": [
       "      tariff_code                                       product_desc\n",
       "0          010111           Horses; live, pure-bred breeding animals\n",
       "1          010119  Horses; live, other than pure-bred breeding an...\n",
       "2          010120                     Asses, mules and hinnies; live\n",
       "3          010210   Bovine animals; live, pure-bred breeding animals\n",
       "4          010290  Bovine animals; live, other than pure-bred bre...\n",
       "...           ...                                                ...\n",
       "31043      970300  Sculptures and statuary; original, in any mate...\n",
       "31044      970400  Stamps, postage or revenue; stamp-postmarks, f...\n",
       "31045      970500  Collections and collectors' pieces; of zoologi...\n",
       "31046      970600    Antiques; of an age exceeding one hundred years\n",
       "31047      999999        Commodities not specified according to kind\n",
       "\n",
       "[31048 rows x 2 columns]"
      ]
     },
     "execution_count": 10,
     "metadata": {},
     "output_type": "execute_result"
    }
   ],
   "source": [
    "reads =pd.read_excel('data/master.xlsx',sheet_name='master')\n",
    "#reads['tariff_code'] = reads['tariff_code'].map('{:06}'.format)\n",
    "books = reads[['tariff_code','product_desc']]\n",
    "books"
   ]
  },
  {
   "cell_type": "code",
   "execution_count": 12,
   "metadata": {
    "ExecuteTime": {
     "end_time": "2020-10-30T03:03:42.423033Z",
     "start_time": "2020-10-30T03:03:42.415039Z"
    }
   },
   "outputs": [
    {
     "data": {
      "text/plain": [
       "6554"
      ]
     },
     "execution_count": 12,
     "metadata": {},
     "output_type": "execute_result"
    }
   ],
   "source": [
    "len(books['tariff_code'].unique())"
   ]
  },
  {
   "cell_type": "code",
   "execution_count": null,
   "metadata": {},
   "outputs": [],
   "source": []
  },
  {
   "cell_type": "code",
   "execution_count": null,
   "metadata": {},
   "outputs": [],
   "source": []
  },
  {
   "cell_type": "code",
   "execution_count": 14,
   "metadata": {
    "ExecuteTime": {
     "end_time": "2020-10-30T03:23:52.837782Z",
     "start_time": "2020-10-30T03:23:52.817795Z"
    }
   },
   "outputs": [
    {
     "name": "stdout",
     "output_type": "stream",
     "text": [
      "Automatically created module for IPython interactive environment\n",
      "Usage: D:\\Anaconda\\envs\\pyviz-tutorial\\lib\\site-packages\\ipykernel_launcher.py [n_features_for_hashing]\n",
      "    The default number of features is 2**18.\n",
      "\n",
      "not a valid number of features: '-f'\n"
     ]
    },
    {
     "ename": "SystemExit",
     "evalue": "1",
     "output_type": "error",
     "traceback": [
      "An exception has occurred, use %tb to see the full traceback.\n",
      "\u001b[1;31mSystemExit\u001b[0m\u001b[1;31m:\u001b[0m 1\n"
     ]
    }
   ],
   "source": [
    "# Author: Lars Buitinck\n",
    "# License: BSD 3 clause\n",
    "from collections import defaultdict\n",
    "import re\n",
    "import sys\n",
    "from time import time\n",
    "\n",
    "import numpy as np\n",
    "\n",
    "from sklearn.datasets import fetch_20newsgroups\n",
    "from sklearn.feature_extraction import DictVectorizer, FeatureHasher\n",
    "\n",
    "\n",
    "def n_nonzero_columns(X):\n",
    "    \"\"\"Returns the number of non-zero columns in a CSR matrix X.\"\"\"\n",
    "    return len(np.unique(X.nonzero()[1]))\n",
    "\n",
    "\n",
    "def tokens(doc):\n",
    "    \"\"\"Extract tokens from doc.\n",
    "\n",
    "    This uses a simple regex to break strings into tokens. For a more\n",
    "    principled approach, see CountVectorizer or TfidfVectorizer.\n",
    "    \"\"\"\n",
    "    return (tok.lower() for tok in re.findall(r\"\\w+\", doc))\n",
    "\n",
    "\n",
    "def token_freqs(doc):\n",
    "    \"\"\"Extract a dict mapping tokens from doc to their frequencies.\"\"\"\n",
    "    freq = defaultdict(int)\n",
    "    for tok in tokens(doc):\n",
    "        freq[tok] += 1\n",
    "    return freq\n",
    "\n",
    "\n",
    "categories = [\n",
    "    'alt.atheism',\n",
    "    'comp.graphics',\n",
    "    'comp.sys.ibm.pc.hardware',\n",
    "    'misc.forsale',\n",
    "    'rec.autos',\n",
    "    'sci.space',\n",
    "    'talk.religion.misc',\n",
    "]\n",
    "# Uncomment the following line to use a larger set (11k+ documents)\n",
    "# categories = None\n",
    "\n",
    "print(__doc__)\n",
    "print(\"Usage: %s [n_features_for_hashing]\" % sys.argv[0])\n",
    "print(\"    The default number of features is 2**18.\")\n",
    "print()\n",
    "\n",
    "try:\n",
    "    n_features = int(sys.argv[1])\n",
    "except IndexError:\n",
    "    n_features = 2 ** 18\n",
    "except ValueError:\n",
    "    print(\"not a valid number of features: %r\" % sys.argv[1])\n",
    "    sys.exit(1)\n",
    "\n",
    "\n",
    "print(\"Loading 20 newsgroups training data\")\n",
    "raw_data, _ = fetch_20newsgroups(subset='train', categories=categories,\n",
    "                                 return_X_y=True)\n",
    "data_size_mb = sum(len(s.encode('utf-8')) for s in raw_data) / 1e6\n",
    "print(\"%d documents - %0.3fMB\" % (len(raw_data), data_size_mb))\n",
    "print()\n",
    "\n",
    "print(\"DictVectorizer\")\n",
    "t0 = time()\n",
    "vectorizer = DictVectorizer()\n",
    "vectorizer.fit_transform(token_freqs(d) for d in raw_data)\n",
    "duration = time() - t0\n",
    "print(\"done in %fs at %0.3fMB/s\" % (duration, data_size_mb / duration))\n",
    "print(\"Found %d unique terms\" % len(vectorizer.get_feature_names()))\n",
    "print()\n",
    "\n",
    "print(\"FeatureHasher on frequency dicts\")\n",
    "t0 = time()\n",
    "hasher = FeatureHasher(n_features=n_features)\n",
    "X = hasher.transform(token_freqs(d) for d in raw_data)\n",
    "duration = time() - t0\n",
    "print(\"done in %fs at %0.3fMB/s\" % (duration, data_size_mb / duration))\n",
    "print(\"Found %d unique terms\" % n_nonzero_columns(X))\n",
    "print()\n",
    "\n",
    "print(\"FeatureHasher on raw tokens\")\n",
    "t0 = time()\n",
    "hasher = FeatureHasher(n_features=n_features, input_type=\"string\")\n",
    "X = hasher.transform(tokens(d) for d in raw_data)\n",
    "duration = time() - t0\n",
    "print(\"done in %fs at %0.3fMB/s\" % (duration, data_size_mb / duration))\n",
    "print(\"Found %d unique terms\" % n_nonzero_columns(X))"
   ]
  },
  {
   "cell_type": "code",
   "execution_count": null,
   "metadata": {},
   "outputs": [],
   "source": []
  },
  {
   "cell_type": "code",
   "execution_count": 18,
   "metadata": {
    "ExecuteTime": {
     "end_time": "2020-10-30T09:56:54.291698Z",
     "start_time": "2020-10-30T09:56:54.286702Z"
    }
   },
   "outputs": [],
   "source": [
    "import numpy\n",
    "import pandas as pd\n",
    "import matplotlib.pyplot as plt\n",
    "from sklearn.naive_bayes import MultinomialNB\n",
    "from sklearn.feature_extraction.text import CountVectorizer\n",
    "from sklearn.metrics import confusion_matrix, f1_score ,accuracy_score\n",
    "\n",
    "pd.set_option('display.max_rows', 20, \n",
    "              'display.max_columns', 100)"
   ]
  },
  {
   "cell_type": "code",
   "execution_count": 26,
   "metadata": {
    "ExecuteTime": {
     "end_time": "2020-10-30T10:13:45.150927Z",
     "start_time": "2020-10-30T10:13:43.898705Z"
    }
   },
   "outputs": [
    {
     "data": {
      "text/html": [
       "<div>\n",
       "<style scoped>\n",
       "    .dataframe tbody tr th:only-of-type {\n",
       "        vertical-align: middle;\n",
       "    }\n",
       "\n",
       "    .dataframe tbody tr th {\n",
       "        vertical-align: top;\n",
       "    }\n",
       "\n",
       "    .dataframe thead th {\n",
       "        text-align: right;\n",
       "    }\n",
       "</style>\n",
       "<table border=\"1\" class=\"dataframe\">\n",
       "  <thead>\n",
       "    <tr style=\"text-align: right;\">\n",
       "      <th></th>\n",
       "      <th>product</th>\n",
       "      <th>code_12</th>\n",
       "      <th>code_8</th>\n",
       "      <th>code_6</th>\n",
       "      <th>code_4</th>\n",
       "      <th>code_2</th>\n",
       "    </tr>\n",
       "  </thead>\n",
       "  <tbody>\n",
       "    <tr>\n",
       "      <th>0</th>\n",
       "      <td>THERMICAL SCREW 2D\\r\\n51207799AA</td>\n",
       "      <td>73181590</td>\n",
       "      <td>73181590</td>\n",
       "      <td>731815</td>\n",
       "      <td>7318</td>\n",
       "      <td>73</td>\n",
       "    </tr>\n",
       "    <tr>\n",
       "      <th>1</th>\n",
       "      <td>33682       ADJUSTABLE DELAY UNIT FOR MN</td>\n",
       "      <td>85364990</td>\n",
       "      <td>85364990</td>\n",
       "      <td>853649</td>\n",
       "      <td>8536</td>\n",
       "      <td>85</td>\n",
       "    </tr>\n",
       "    <tr>\n",
       "      <th>2</th>\n",
       "      <td>33671       undervoltage trip MN 200 to 250 V ...</td>\n",
       "      <td>85369099</td>\n",
       "      <td>85369099</td>\n",
       "      <td>853690</td>\n",
       "      <td>8536</td>\n",
       "      <td>85</td>\n",
       "    </tr>\n",
       "    <tr>\n",
       "      <th>3</th>\n",
       "      <td>GCR_NS630_1600C       NS800N3PMF2.0E</td>\n",
       "      <td>85362019</td>\n",
       "      <td>85362019</td>\n",
       "      <td>853620</td>\n",
       "      <td>8536</td>\n",
       "      <td>85</td>\n",
       "    </tr>\n",
       "    <tr>\n",
       "      <th>4</th>\n",
       "      <td>EGX150-A       Ethernet Gateway Link150</td>\n",
       "      <td>85369099</td>\n",
       "      <td>85369099</td>\n",
       "      <td>853690</td>\n",
       "      <td>8536</td>\n",
       "      <td>85</td>\n",
       "    </tr>\n",
       "    <tr>\n",
       "      <th>...</th>\n",
       "      <td>...</td>\n",
       "      <td>...</td>\n",
       "      <td>...</td>\n",
       "      <td>...</td>\n",
       "      <td>...</td>\n",
       "      <td>...</td>\n",
       "    </tr>\n",
       "    <tr>\n",
       "      <th>8759</th>\n",
       "      <td>XA2ED21        SS,2 POSITION,1NO(SHORT)</td>\n",
       "      <td>85365099</td>\n",
       "      <td>85365099</td>\n",
       "      <td>853650</td>\n",
       "      <td>8536</td>\n",
       "      <td>85</td>\n",
       "    </tr>\n",
       "    <tr>\n",
       "      <th>8760</th>\n",
       "      <td>XA2ED33       SS,3 POSITION,2NO(SHORT)</td>\n",
       "      <td>85365099</td>\n",
       "      <td>85365099</td>\n",
       "      <td>853650</td>\n",
       "      <td>8536</td>\n",
       "      <td>85</td>\n",
       "    </tr>\n",
       "    <tr>\n",
       "      <th>8761</th>\n",
       "      <td>HMIGTO6310A        12.1 Color Touch Panel SVGA...</td>\n",
       "      <td>85285910</td>\n",
       "      <td>85285910</td>\n",
       "      <td>852859</td>\n",
       "      <td>8528</td>\n",
       "      <td>85</td>\n",
       "    </tr>\n",
       "    <tr>\n",
       "      <th>8762</th>\n",
       "      <td>E223R_TR        F-T WP SINGLE GANG SKT COVER (...</td>\n",
       "      <td>85366999</td>\n",
       "      <td>85366999</td>\n",
       "      <td>853669</td>\n",
       "      <td>8536</td>\n",
       "      <td>85</td>\n",
       "    </tr>\n",
       "    <tr>\n",
       "      <th>8763</th>\n",
       "      <td>E223R_TR        F-T WP SINGLE GANG SKT COVER (...</td>\n",
       "      <td>85366999</td>\n",
       "      <td>85366999</td>\n",
       "      <td>853669</td>\n",
       "      <td>8536</td>\n",
       "      <td>85</td>\n",
       "    </tr>\n",
       "  </tbody>\n",
       "</table>\n",
       "<p>8764 rows × 6 columns</p>\n",
       "</div>"
      ],
      "text/plain": [
       "                                                product   code_12    code_8  \\\n",
       "0                      THERMICAL SCREW 2D\\r\\n51207799AA  73181590  73181590   \n",
       "1              33682       ADJUSTABLE DELAY UNIT FOR MN  85364990  85364990   \n",
       "2     33671       undervoltage trip MN 200 to 250 V ...  85369099  85369099   \n",
       "3                  GCR_NS630_1600C       NS800N3PMF2.0E  85362019  85362019   \n",
       "4               EGX150-A       Ethernet Gateway Link150  85369099  85369099   \n",
       "...                                                 ...       ...       ...   \n",
       "8759            XA2ED21        SS,2 POSITION,1NO(SHORT)  85365099  85365099   \n",
       "8760             XA2ED33       SS,3 POSITION,2NO(SHORT)  85365099  85365099   \n",
       "8761  HMIGTO6310A        12.1 Color Touch Panel SVGA...  85285910  85285910   \n",
       "8762  E223R_TR        F-T WP SINGLE GANG SKT COVER (...  85366999  85366999   \n",
       "8763  E223R_TR        F-T WP SINGLE GANG SKT COVER (...  85366999  85366999   \n",
       "\n",
       "      code_6  code_4  code_2  \n",
       "0     731815    7318      73  \n",
       "1     853649    8536      85  \n",
       "2     853690    8536      85  \n",
       "3     853620    8536      85  \n",
       "4     853690    8536      85  \n",
       "...      ...     ...     ...  \n",
       "8759  853650    8536      85  \n",
       "8760  853650    8536      85  \n",
       "8761  852859    8528      85  \n",
       "8762  853669    8536      85  \n",
       "8763  853669    8536      85  \n",
       "\n",
       "[8764 rows x 6 columns]"
      ]
     },
     "execution_count": 26,
     "metadata": {},
     "output_type": "execute_result"
    }
   ],
   "source": [
    "df = pd.read_excel('data/external.xlsx',sheet_name= 'Sheet1')\n",
    "df"
   ]
  },
  {
   "cell_type": "code",
   "execution_count": 28,
   "metadata": {
    "ExecuteTime": {
     "end_time": "2020-10-30T10:13:58.779263Z",
     "start_time": "2020-10-30T10:13:58.729292Z"
    }
   },
   "outputs": [
    {
     "data": {
      "text/html": [
       "<div>\n",
       "<style scoped>\n",
       "    .dataframe tbody tr th:only-of-type {\n",
       "        vertical-align: middle;\n",
       "    }\n",
       "\n",
       "    .dataframe tbody tr th {\n",
       "        vertical-align: top;\n",
       "    }\n",
       "\n",
       "    .dataframe thead th {\n",
       "        text-align: right;\n",
       "    }\n",
       "</style>\n",
       "<table border=\"1\" class=\"dataframe\">\n",
       "  <thead>\n",
       "    <tr style=\"text-align: right;\">\n",
       "      <th></th>\n",
       "      <th>product</th>\n",
       "      <th>code_12</th>\n",
       "      <th>code_8</th>\n",
       "      <th>code_6</th>\n",
       "      <th>code_4</th>\n",
       "      <th>code_2</th>\n",
       "      <th>new_product</th>\n",
       "      <th>product_code</th>\n",
       "    </tr>\n",
       "  </thead>\n",
       "  <tbody>\n",
       "    <tr>\n",
       "      <th>0</th>\n",
       "      <td>THERMICAL SCREW 2D\\r\\n51207799AA</td>\n",
       "      <td>73181590</td>\n",
       "      <td>73181590</td>\n",
       "      <td>731815</td>\n",
       "      <td>7318</td>\n",
       "      <td>73</td>\n",
       "      <td>SCREW 2D\\r\\n51207799AA</td>\n",
       "      <td>THERMICAL</td>\n",
       "    </tr>\n",
       "    <tr>\n",
       "      <th>1</th>\n",
       "      <td>33682       ADJUSTABLE DELAY UNIT FOR MN</td>\n",
       "      <td>85364990</td>\n",
       "      <td>85364990</td>\n",
       "      <td>853649</td>\n",
       "      <td>8536</td>\n",
       "      <td>85</td>\n",
       "      <td>ADJUSTABLE DELAY UNIT FOR MN</td>\n",
       "      <td>33682</td>\n",
       "    </tr>\n",
       "    <tr>\n",
       "      <th>2</th>\n",
       "      <td>33671       undervoltage trip MN 200 to 250 V ...</td>\n",
       "      <td>85369099</td>\n",
       "      <td>85369099</td>\n",
       "      <td>853690</td>\n",
       "      <td>8536</td>\n",
       "      <td>85</td>\n",
       "      <td>undervoltage trip MN 200 to 250 V DC and</td>\n",
       "      <td>33671</td>\n",
       "    </tr>\n",
       "    <tr>\n",
       "      <th>3</th>\n",
       "      <td>GCR_NS630_1600C       NS800N3PMF2.0E</td>\n",
       "      <td>85362019</td>\n",
       "      <td>85362019</td>\n",
       "      <td>853620</td>\n",
       "      <td>8536</td>\n",
       "      <td>85</td>\n",
       "      <td>NS800N3PMF2.0E</td>\n",
       "      <td>GCR_NS630_1600C</td>\n",
       "    </tr>\n",
       "    <tr>\n",
       "      <th>4</th>\n",
       "      <td>EGX150-A       Ethernet Gateway Link150</td>\n",
       "      <td>85369099</td>\n",
       "      <td>85369099</td>\n",
       "      <td>853690</td>\n",
       "      <td>8536</td>\n",
       "      <td>85</td>\n",
       "      <td>Ethernet Gateway Link150</td>\n",
       "      <td>EGX150-A</td>\n",
       "    </tr>\n",
       "    <tr>\n",
       "      <th>...</th>\n",
       "      <td>...</td>\n",
       "      <td>...</td>\n",
       "      <td>...</td>\n",
       "      <td>...</td>\n",
       "      <td>...</td>\n",
       "      <td>...</td>\n",
       "      <td>...</td>\n",
       "      <td>...</td>\n",
       "    </tr>\n",
       "    <tr>\n",
       "      <th>8759</th>\n",
       "      <td>XA2ED21        SS,2 POSITION,1NO(SHORT)</td>\n",
       "      <td>85365099</td>\n",
       "      <td>85365099</td>\n",
       "      <td>853650</td>\n",
       "      <td>8536</td>\n",
       "      <td>85</td>\n",
       "      <td>SS,2 POSITION,1NO(SHORT)</td>\n",
       "      <td>XA2ED21</td>\n",
       "    </tr>\n",
       "    <tr>\n",
       "      <th>8760</th>\n",
       "      <td>XA2ED33       SS,3 POSITION,2NO(SHORT)</td>\n",
       "      <td>85365099</td>\n",
       "      <td>85365099</td>\n",
       "      <td>853650</td>\n",
       "      <td>8536</td>\n",
       "      <td>85</td>\n",
       "      <td>SS,3 POSITION,2NO(SHORT)</td>\n",
       "      <td>XA2ED33</td>\n",
       "    </tr>\n",
       "    <tr>\n",
       "      <th>8761</th>\n",
       "      <td>HMIGTO6310A        12.1 Color Touch Panel SVGA...</td>\n",
       "      <td>85285910</td>\n",
       "      <td>85285910</td>\n",
       "      <td>852859</td>\n",
       "      <td>8528</td>\n",
       "      <td>85</td>\n",
       "      <td>12.1 Color Touch Panel SVGA-TFT</td>\n",
       "      <td>HMIGTO6310A</td>\n",
       "    </tr>\n",
       "    <tr>\n",
       "      <th>8762</th>\n",
       "      <td>E223R_TR        F-T WP SINGLE GANG SKT COVER (...</td>\n",
       "      <td>85366999</td>\n",
       "      <td>85366999</td>\n",
       "      <td>853669</td>\n",
       "      <td>8536</td>\n",
       "      <td>85</td>\n",
       "      <td>F-T WP SINGLE GANG SKT COVER (TRAN) IP55</td>\n",
       "      <td>E223R_TR</td>\n",
       "    </tr>\n",
       "    <tr>\n",
       "      <th>8763</th>\n",
       "      <td>E223R_TR        F-T WP SINGLE GANG SKT COVER (...</td>\n",
       "      <td>85366999</td>\n",
       "      <td>85366999</td>\n",
       "      <td>853669</td>\n",
       "      <td>8536</td>\n",
       "      <td>85</td>\n",
       "      <td>F-T WP SINGLE GANG SKT COVER (TRAN) IP55</td>\n",
       "      <td>E223R_TR</td>\n",
       "    </tr>\n",
       "  </tbody>\n",
       "</table>\n",
       "<p>8764 rows × 8 columns</p>\n",
       "</div>"
      ],
      "text/plain": [
       "                                                product   code_12    code_8  \\\n",
       "0                      THERMICAL SCREW 2D\\r\\n51207799AA  73181590  73181590   \n",
       "1              33682       ADJUSTABLE DELAY UNIT FOR MN  85364990  85364990   \n",
       "2     33671       undervoltage trip MN 200 to 250 V ...  85369099  85369099   \n",
       "3                  GCR_NS630_1600C       NS800N3PMF2.0E  85362019  85362019   \n",
       "4               EGX150-A       Ethernet Gateway Link150  85369099  85369099   \n",
       "...                                                 ...       ...       ...   \n",
       "8759            XA2ED21        SS,2 POSITION,1NO(SHORT)  85365099  85365099   \n",
       "8760             XA2ED33       SS,3 POSITION,2NO(SHORT)  85365099  85365099   \n",
       "8761  HMIGTO6310A        12.1 Color Touch Panel SVGA...  85285910  85285910   \n",
       "8762  E223R_TR        F-T WP SINGLE GANG SKT COVER (...  85366999  85366999   \n",
       "8763  E223R_TR        F-T WP SINGLE GANG SKT COVER (...  85366999  85366999   \n",
       "\n",
       "      code_6  code_4  code_2                               new_product  \\\n",
       "0     731815    7318      73                    SCREW 2D\\r\\n51207799AA   \n",
       "1     853649    8536      85              ADJUSTABLE DELAY UNIT FOR MN   \n",
       "2     853690    8536      85  undervoltage trip MN 200 to 250 V DC and   \n",
       "3     853620    8536      85                            NS800N3PMF2.0E   \n",
       "4     853690    8536      85                  Ethernet Gateway Link150   \n",
       "...      ...     ...     ...                                       ...   \n",
       "8759  853650    8536      85                  SS,2 POSITION,1NO(SHORT)   \n",
       "8760  853650    8536      85                  SS,3 POSITION,2NO(SHORT)   \n",
       "8761  852859    8528      85           12.1 Color Touch Panel SVGA-TFT   \n",
       "8762  853669    8536      85  F-T WP SINGLE GANG SKT COVER (TRAN) IP55   \n",
       "8763  853669    8536      85  F-T WP SINGLE GANG SKT COVER (TRAN) IP55   \n",
       "\n",
       "         product_code  \n",
       "0           THERMICAL  \n",
       "1               33682  \n",
       "2               33671  \n",
       "3     GCR_NS630_1600C  \n",
       "4            EGX150-A  \n",
       "...               ...  \n",
       "8759          XA2ED21  \n",
       "8760          XA2ED33  \n",
       "8761      HMIGTO6310A  \n",
       "8762         E223R_TR  \n",
       "8763         E223R_TR  \n",
       "\n",
       "[8764 rows x 8 columns]"
      ]
     },
     "execution_count": 28,
     "metadata": {},
     "output_type": "execute_result"
    }
   ],
   "source": [
    "new = df[\"product\"].str.split(\" \", n = 1, expand = True) \n",
    "df[\"new_product\"] = new[1].str.strip()\n",
    "df[\"product_code\"] = new[0].str.strip()\n",
    "df"
   ]
  },
  {
   "cell_type": "code",
   "execution_count": 30,
   "metadata": {
    "ExecuteTime": {
     "end_time": "2020-10-30T10:14:14.941620Z",
     "start_time": "2020-10-30T10:14:11.313941Z"
    }
   },
   "outputs": [
    {
     "name": "stdout",
     "output_type": "stream",
     "text": [
      "success\n"
     ]
    }
   ],
   "source": [
    "df.to_excel('data/temp_file.xlsx')\n",
    "print('success')"
   ]
  },
  {
   "cell_type": "code",
   "execution_count": null,
   "metadata": {},
   "outputs": [],
   "source": []
  },
  {
   "cell_type": "markdown",
   "metadata": {},
   "source": [
    "## ค้นหาคำภาษาไทยที่น่าจะเป็นไปได้จากตัวอักษรขึ้นต้น\n",
    "\n",
    "**แนวคิด** \n",
    "- นำพจนานุกรมคำภาษาไทยมาเก็บไว้ใน list ของ Python\n",
    "- ลองตัวอักษรขึ้นต้นมาค้นหาจาก list คำศัพท์ภาษาไทยว่าพบตัวไหนที่มีตัวอักษรขึ้นต้นดังกล่าวเหมือนกัน แล้วส่ง list ออกมา"
   ]
  },
  {
   "cell_type": "code",
   "execution_count": 27,
   "metadata": {
    "ExecuteTime": {
     "end_time": "2020-11-02T04:21:35.952191Z",
     "start_time": "2020-11-02T04:21:35.825271Z"
    }
   },
   "outputs": [],
   "source": [
    "from pythainlp.corpus import thai_words\n",
    "words=list(thai_words())"
   ]
  },
  {
   "cell_type": "code",
   "execution_count": 28,
   "metadata": {
    "ExecuteTime": {
     "end_time": "2020-11-02T04:21:36.805906Z",
     "start_time": "2020-11-02T04:21:36.691975Z"
    }
   },
   "outputs": [],
   "source": [
    "def find_word(word):\n",
    "      return [i for i in words if i.startswith(word)]"
   ]
  },
  {
   "cell_type": "code",
   "execution_count": 29,
   "metadata": {
    "ExecuteTime": {
     "end_time": "2020-11-02T04:21:40.165854Z",
     "start_time": "2020-11-02T04:21:40.039933Z"
    }
   },
   "outputs": [
    {
     "data": {
      "text/plain": [
       "['แมรีแลนด์',\n",
       " 'แมชชีน',\n",
       " 'แม่',\n",
       " 'แม้แต่',\n",
       " 'แมคโคร',\n",
       " 'แม้น',\n",
       " 'แมงดาทะเลหางกลม',\n",
       " 'แมนจูเรีย',\n",
       " 'แม่คู่',\n",
       " 'แม่ไม้',\n",
       " 'แมรี่แลนด์',\n",
       " 'แม่สะเรียง',\n",
       " 'แมลงวันผลไม้',\n",
       " 'แมลงหวี่',\n",
       " 'แมริแลนด์',\n",
       " 'แม่พระคงคา',\n",
       " 'แม็ตต์',\n",
       " 'แมะ',\n",
       " 'แมวน้ำ',\n",
       " 'แมวมอง',\n",
       " 'แมงอ่อนช้อย',\n",
       " 'แมงหางแดง',\n",
       " 'แมงกานิน',\n",
       " 'แม่เรือน',\n",
       " 'แมส',\n",
       " 'แมมโมแกรม',\n",
       " 'แม่นาง',\n",
       " 'แมสซาชูเซ็ทส์',\n",
       " 'แมมบ้า',\n",
       " 'แม่ยั่วเมือง',\n",
       " 'แม่ธรณี',\n",
       " 'แมลลิค',\n",
       " 'แม่ยาย',\n",
       " 'แม็ก',\n",
       " 'แมลง',\n",
       " 'แม่ตาย',\n",
       " 'แมกไซไซ',\n",
       " 'แม่ทัพ',\n",
       " 'แมกนีเซียม',\n",
       " 'แมลบ',\n",
       " 'แมงปากจอบ',\n",
       " 'แม่ฝา',\n",
       " 'แมลงดา',\n",
       " 'แม่ย้าว',\n",
       " 'แมวเซา',\n",
       " 'แม่ลาย',\n",
       " 'แม่คุณ',\n",
       " 'แมลงมุม',\n",
       " 'แม่กระชังก้นรั่ว',\n",
       " 'แมงไฟเดือนห้า',\n",
       " 'แม่ย่างม้าเหาะ',\n",
       " 'แม่งาน',\n",
       " 'แม่พันธุ์',\n",
       " 'แมงกะพรุน',\n",
       " 'แม่อยู่หัว',\n",
       " 'แมรี่',\n",
       " 'แม่งม้าง',\n",
       " 'แมนฯยู',\n",
       " 'แมลงดาขี้ควาย',\n",
       " 'แม่ออน',\n",
       " 'แมชีนเนอรี่',\n",
       " 'แม่วี',\n",
       " 'แม่สายบัวแต่งตัวค้าง',\n",
       " 'แม้กระนั้น',\n",
       " 'แมคโครไบโอติก',\n",
       " 'แม่หนัก',\n",
       " 'แมนยูฯ',\n",
       " 'แมลงปีกแข็ง',\n",
       " 'แม่ม่ายทรงเครื่อง',\n",
       " 'แม่น',\n",
       " 'แม่ย่านาง',\n",
       " 'แมลงสีเสียด',\n",
       " 'แมคเคอเรล',\n",
       " 'แม็กซ์',\n",
       " 'แมคนีเซียม',\n",
       " 'แม่ปะ',\n",
       " 'แมสเสด',\n",
       " 'แม่นั่งภาวนา',\n",
       " 'แมนจู',\n",
       " 'แม่กระแชง',\n",
       " 'แม่เดาะคันชั่ง',\n",
       " 'แมนฯ ซิตี้',\n",
       " 'แม้แต่น้อย',\n",
       " 'แมชีน',\n",
       " 'แมร',\n",
       " 'แมลงแสง',\n",
       " 'แม้',\n",
       " 'แมกม่า',\n",
       " 'แมนฮัตตัน',\n",
       " 'แมงฮอด',\n",
       " 'แมงกาย',\n",
       " 'แมวขโมย',\n",
       " 'แมมโบ้',\n",
       " 'แมลงแดง',\n",
       " 'แมร์',\n",
       " 'แม๊กกาซีน',\n",
       " 'แม่บันได',\n",
       " 'แม่เตาไฟ',\n",
       " 'แม่อยั่วเมือง',\n",
       " 'แม่ชี',\n",
       " 'แมลงช้าง',\n",
       " 'แม้นเขียน',\n",
       " 'แมลงดำหนาม',\n",
       " 'แม่เพลง',\n",
       " 'แมงช้าง',\n",
       " 'แมงดาทะเล',\n",
       " 'แม่เจ้าเรือน',\n",
       " 'แมลงไฟ',\n",
       " 'แม้ว่า',\n",
       " 'แม่ท่า',\n",
       " 'แม่เลี้ยง',\n",
       " 'แม่บท',\n",
       " 'แม็กนีเซียม',\n",
       " 'แม่พระธรณี',\n",
       " 'แมนซิตี้',\n",
       " 'แมลงวันหัวเขียว',\n",
       " 'แมยิสเตร็ด',\n",
       " 'แมวคราว',\n",
       " 'แมนเชสเตอร์ ซิตี้',\n",
       " 'แมลงไฟเดือนห้า',\n",
       " 'แม่ยก',\n",
       " 'แมลงวันสเปน',\n",
       " 'แมนดาริน',\n",
       " 'แม่หญิงแม่หยัง',\n",
       " 'แม่เจ้า',\n",
       " 'แม่เจ้าประคุณ',\n",
       " 'แมกซ์',\n",
       " 'แม่ตะงาว',\n",
       " 'แม่กระได',\n",
       " 'แมสคอต',\n",
       " 'แมสซาชูเซ็ตส์',\n",
       " 'แม่โพสพ',\n",
       " 'แม่วิน',\n",
       " 'แม่กุญแจ',\n",
       " 'แม่รีแม่แรด',\n",
       " 'แมงกานีส',\n",
       " 'แมงดาไฟ',\n",
       " 'แม่แรง',\n",
       " 'แม็พ',\n",
       " 'แมงคา',\n",
       " 'แม่เฒ่า',\n",
       " 'แม่เบี้ย',\n",
       " 'แมนเดลา',\n",
       " 'แมนเนอร์เจอร์',\n",
       " 'แมก',\n",
       " 'แม่เหล็ก',\n",
       " 'แมค',\n",
       " 'แม่ลูกอ่อน',\n",
       " 'แม่น้ำ',\n",
       " 'แมงมุม',\n",
       " 'แมคไควร์รี่',\n",
       " 'แมนเชสเตอร์',\n",
       " 'แม่นยำ',\n",
       " 'แมงดาถ้วย',\n",
       " 'แม้กระทั่ง',\n",
       " 'แม่บ้าน',\n",
       " 'แมนิค',\n",
       " 'แมเนเจอร์',\n",
       " 'แมเนเจอร์ มีเดีย กรุ๊ป',\n",
       " 'แมวดาว',\n",
       " 'แมลงจิ้มฟันจระเข้',\n",
       " 'แม่กองบาลีสนามหลวง',\n",
       " 'แมวหง่าว',\n",
       " 'แม่สื่อแม่ชัก',\n",
       " 'แม่แปรก',\n",
       " 'แมนเชเตอร์ยูไนเต๊ด',\n",
       " 'แม่ยกครัวลงล่าง',\n",
       " 'แมกนีเซียมซัลเฟต',\n",
       " 'แมลงภู่',\n",
       " 'แม่ร้าง',\n",
       " 'แม่ม่าย',\n",
       " 'แม่สื่อแม่ชัก ไม่ได้เจ้าตัว เอาวัวพันหลัก',\n",
       " 'แมกนิจูด',\n",
       " 'แม่กองธรรมสนามหลวง',\n",
       " 'แม่เป้ง',\n",
       " 'แม่ผัว',\n",
       " 'แมลงดาสวน',\n",
       " 'แมวป่า',\n",
       " 'แม่ฮ่องสอน',\n",
       " 'แมลงปอ',\n",
       " 'แม่มด',\n",
       " 'แมลงเม่า',\n",
       " 'แมชชิ่ง',\n",
       " 'แมร่ง',\n",
       " 'แมลงทับ',\n",
       " 'แม่เล้า',\n",
       " 'แม่พระ',\n",
       " 'แมลงสาบ',\n",
       " 'แม็คโครไบโอติกส์',\n",
       " 'แมสซาชูเซตส์',\n",
       " 'แม่น้ำคงคา',\n",
       " 'แมทซาจูเซตต์',\n",
       " 'แม่บ้านแม่เรือน',\n",
       " 'แมงคาเรือง',\n",
       " 'แม่หินบด',\n",
       " 'แม่ม่ายผัวร้าง',\n",
       " 'แม่เจ้าโว้ย',\n",
       " 'แม่หม้าย',\n",
       " 'แม่กอง',\n",
       " 'แมลงวันทอง',\n",
       " 'แม่ระมาด',\n",
       " 'แมกนีเซีย',\n",
       " 'แม่แคร่',\n",
       " 'แม่แก่',\n",
       " 'แม้นว่า',\n",
       " 'แม่กระชังหน้าใหญ่',\n",
       " 'แมลงแคง',\n",
       " 'แม่ค้า',\n",
       " 'แมซซาชูเซตส์',\n",
       " 'แม่ครัว',\n",
       " 'แมงดาทะเลหางเหลี่ยม',\n",
       " 'แม็กกาซีน',\n",
       " 'แมตช์',\n",
       " 'แมงดา',\n",
       " 'แมลงดาโป้งเป้ง',\n",
       " 'แมกซ์เวลล์',\n",
       " 'แมคอินทอช',\n",
       " 'แม่นมั่น',\n",
       " 'แม่คงคา',\n",
       " 'แมว',\n",
       " 'แมลงนูน',\n",
       " 'แมน',\n",
       " 'แม่ฟ้าหลวง',\n",
       " 'แมโครฝาจ',\n",
       " 'แมลงป่อง',\n",
       " 'แมงลัก',\n",
       " 'แม่สี',\n",
       " 'แม่ม่ายลองไน',\n",
       " 'แม่ค้าหาบเร่',\n",
       " 'แม้วะ',\n",
       " 'แมลงวัน',\n",
       " 'แม่สื่อ',\n",
       " 'แม่เหย้าแม่เรือน',\n",
       " 'แมงกวาง',\n",
       " 'แม่หยั่วเมือง',\n",
       " 'แม่นตรง',\n",
       " 'แมนฮัตตั้น',\n",
       " 'แมนฮัทตัน',\n",
       " 'แม้ว',\n",
       " 'แมลงดานา',\n",
       " 'แมงแงว',\n",
       " 'แม่พิมพ์',\n",
       " 'แม่ร้า',\n",
       " 'แมคโดนัลด์',\n",
       " 'แมง',\n",
       " 'แมลงทับเล็ก',\n",
       " 'แม่ศรี',\n",
       " 'แม่จัน',\n",
       " 'แม่ซื้อ',\n",
       " 'แมกกาซีน',\n",
       " 'แมนชั่น',\n",
       " 'แมเนจเม้นท์',\n",
       " 'แม่นม',\n",
       " 'แมงดาจาน',\n",
       " 'แม่แบบ']"
      ]
     },
     "execution_count": 29,
     "metadata": {},
     "output_type": "execute_result"
    }
   ],
   "source": [
    "find_word(\"แม\")"
   ]
  },
  {
   "cell_type": "code",
   "execution_count": 30,
   "metadata": {
    "ExecuteTime": {
     "end_time": "2020-11-02T04:21:47.242217Z",
     "start_time": "2020-11-02T04:21:47.116297Z"
    }
   },
   "outputs": [
    {
     "data": {
      "text/plain": [
       "['มะม่วงหิมพานต์', 'มะม่วงป่า', 'มะม่วง']"
      ]
     },
     "execution_count": 30,
     "metadata": {},
     "output_type": "execute_result"
    }
   ],
   "source": [
    "find_word(\"มะม่วง\")"
   ]
  },
  {
   "cell_type": "code",
   "execution_count": null,
   "metadata": {},
   "outputs": [],
   "source": []
  },
  {
   "cell_type": "markdown",
   "metadata": {},
   "source": [
    "Spellchecker\n",
    "===\n",
    "\n",
    "การรับ Input จาก User สิ่งที่เราจะได้พบเจออยู่ตลอด คือ User กรอกข้อมูลผิด ยิ่งข้อมูลที่ไม่ใช่ข้อมูลที่มีโครงสร้าง Structure Data, ไม่มี Data Type ตัวเลข หรือวันเวลา ที่มีรูปแบบแน่นอน แต่เป็นข้อความ Free Text ที่มีคำสะกดผิดปนอยู่ ทำให้การ Validate ข้อมูล อาจจะทำได้ยาก\n",
    "\n",
    "Spell checker คือ โปรแกรมตรวจการสะกด ตรวจคำผิด ว่าข้อความ คำที่ User กรอกเข้ามามีปรากฎอยู่ใน Dictionary หรือไม่ โดยอาจจะแนะนำคำใกล้เคียง ที่น่าจะเป็นคำที่ถูกต้องให้ User เลือก หรือแม้กระทั่งเลือกให้โดยอัตโนมัติ เรียกว่า Spelling Correction\n",
    "\n",
    "ในเคสของภาษาไทย โดย Default แล้ว Spellchecker ของ PyThaiNLP จะใช้อัลกอริทึม ของ Peter Norvig ที่จะหารายการคำใกล้เคียงจาก Dictionary โดยใช้จำนวนอักษรที่ผิด 1, 2, … ตัวอักษร ผสมกับความน่าจะเป็น จากความถี่ของคำนั้นที่ปรากฎใน Corpus "
   ]
  },
  {
   "cell_type": "code",
   "execution_count": 31,
   "metadata": {
    "ExecuteTime": {
     "end_time": "2020-11-02T04:22:05.869832Z",
     "start_time": "2020-11-02T04:22:05.672869Z"
    }
   },
   "outputs": [],
   "source": [
    "# Install\n",
    "\n",
    "%reload_ext autoreload\n",
    "%autoreload 2\n",
    "%matplotlib inline"
   ]
  },
  {
   "cell_type": "code",
   "execution_count": 32,
   "metadata": {
    "ExecuteTime": {
     "end_time": "2020-11-02T04:22:06.384694Z",
     "start_time": "2020-11-02T04:22:06.234607Z"
    }
   },
   "outputs": [],
   "source": [
    "# ปิด Warning ไว้ก่อน จะได้อ่านผลลัพท์ง่าย\n",
    "\n",
    "import warnings\n",
    "warnings.filterwarnings('ignore')"
   ]
  },
  {
   "cell_type": "markdown",
   "metadata": {},
   "source": [
    "Spellchecker โปรแกรมตรวจตัวสะกด\n",
    "โดย Default แล้ว Spellchecker ของ PyThaiNLP จะใช้อัลกอริทึม ของ Peter Norvig ที่จะหารายการคำใกล้เคียงจาก Dictionary โดยใช้จำนวนอักษรที่ผิด 1, 2, ... ตัวอักษร ผสมกับความน่าจะเป็น จากความถี่ของคำนั้นที่ปรากฎใน Corpus\n",
    "\n",
    "โดยไม่ได้ใช้ Context หรือคำแวดล้อมที่มาก่อนหน้า หรือต่อจากนั้น และไม่ได้ใช้ตำแหน่งปุ่มใกล้เคียง บน Keyboard มาคำนวนความน่าจะเป็น"
   ]
  },
  {
   "cell_type": "code",
   "execution_count": 33,
   "metadata": {
    "ExecuteTime": {
     "end_time": "2020-11-02T04:22:07.398828Z",
     "start_time": "2020-11-02T04:22:07.233930Z"
    }
   },
   "outputs": [
    {
     "data": {
      "text/plain": [
       "'2.2.2'"
      ]
     },
     "execution_count": 33,
     "metadata": {},
     "output_type": "execute_result"
    }
   ],
   "source": [
    "import pythainlp\n",
    "\n",
    "pythainlp.__version__"
   ]
  },
  {
   "cell_type": "code",
   "execution_count": 34,
   "metadata": {
    "ExecuteTime": {
     "end_time": "2020-11-02T04:22:08.218554Z",
     "start_time": "2020-11-02T04:22:08.075634Z"
    }
   },
   "outputs": [],
   "source": [
    "from pythainlp import spell"
   ]
  },
  {
   "cell_type": "code",
   "execution_count": 35,
   "metadata": {
    "ExecuteTime": {
     "end_time": "2020-11-02T04:22:10.073487Z",
     "start_time": "2020-11-02T04:22:09.906026Z"
    }
   },
   "outputs": [
    {
     "data": {
      "text/plain": [
       "['รั้ว', 'รั่ว', 'อั๊ว', 'รัว', 'ปั๊ว', 'จั๊ว', 'ตั๊ว', 'กั๊ว', 'ลั๊ว']"
      ]
     },
     "execution_count": 35,
     "metadata": {},
     "output_type": "execute_result"
    }
   ],
   "source": [
    "spell(\"รั๊ว\") # รัว ไม้ตรี"
   ]
  },
  {
   "cell_type": "code",
   "execution_count": 36,
   "metadata": {
    "ExecuteTime": {
     "end_time": "2020-11-02T04:22:16.051465Z",
     "start_time": "2020-11-02T04:22:15.892057Z"
    }
   },
   "outputs": [
    {
     "data": {
      "text/plain": [
       "['กว่า', 'กวาด', 'กวาง', 'กวา', 'กวาน', 'กวาว', 'กว้า']"
      ]
     },
     "execution_count": 36,
     "metadata": {},
     "output_type": "execute_result"
    }
   ],
   "source": [
    "spell(\"กวาา\") "
   ]
  },
  {
   "cell_type": "code",
   "execution_count": 37,
   "metadata": {
    "ExecuteTime": {
     "end_time": "2020-11-02T04:22:17.150434Z",
     "start_time": "2020-11-02T04:22:16.990534Z"
    }
   },
   "outputs": [
    {
     "data": {
      "text/plain": [
       "['น้ำส้ม', 'น้ำนม']"
      ]
     },
     "execution_count": 37,
     "metadata": {},
     "output_type": "execute_result"
    }
   ],
   "source": [
    "spell(\"น้ำสม\")"
   ]
  },
  {
   "cell_type": "code",
   "execution_count": 38,
   "metadata": {
    "ExecuteTime": {
     "end_time": "2020-11-02T04:22:20.205703Z",
     "start_time": "2020-11-02T04:22:18.395827Z"
    }
   },
   "outputs": [
    {
     "data": {
      "text/plain": [
       "['สาธารณสุข']"
      ]
     },
     "execution_count": 38,
     "metadata": {},
     "output_type": "execute_result"
    }
   ],
   "source": [
    "spell(\"ศาธารณสุบ\")\n"
   ]
  },
  {
   "cell_type": "code",
   "execution_count": 39,
   "metadata": {
    "ExecuteTime": {
     "end_time": "2020-11-02T04:22:21.508901Z",
     "start_time": "2020-11-02T04:22:21.348000Z"
    }
   },
   "outputs": [
    {
     "data": {
      "text/plain": [
       "['ร้อน', 'ร้อง', 'ร้อย', 'ร้อก', 'ร้อ', 'ร้อด', 'ร้อบ', 'ร้อม']"
      ]
     },
     "execution_count": 39,
     "metadata": {},
     "output_type": "execute_result"
    }
   ],
   "source": [
    "#ตัวเลขปน\n",
    "\n",
    "spell(\"ร้อ4\")"
   ]
  },
  {
   "cell_type": "code",
   "execution_count": 40,
   "metadata": {
    "ExecuteTime": {
     "end_time": "2020-11-02T04:22:26.584959Z",
     "start_time": "2020-11-02T04:22:26.427058Z"
    }
   },
   "outputs": [
    {
     "data": {
      "text/plain": [
       "['รั้ว', 'รั้ง', 'รั้น']"
      ]
     },
     "execution_count": 40,
     "metadata": {},
     "output_type": "execute_result"
    }
   ],
   "source": [
    "#ปน ภาษาอังกฤษ ตัว o โอ\n",
    "\n",
    "spell(\"รั้o\")"
   ]
  },
  {
   "cell_type": "code",
   "execution_count": 41,
   "metadata": {
    "ExecuteTime": {
     "end_time": "2020-11-02T04:22:27.355088Z",
     "start_time": "2020-11-02T04:22:27.199112Z"
    }
   },
   "outputs": [
    {
     "data": {
      "text/plain": [
       "['ช้อน', 'ชอน', 'ช่อน']"
      ]
     },
     "execution_count": 41,
     "metadata": {},
     "output_type": "execute_result"
    }
   ],
   "source": [
    "# ปน ภาษาอังกฤษ ตัว h\n",
    "\n",
    "spell(\"ชhอน\")"
   ]
  },
  {
   "cell_type": "code",
   "execution_count": null,
   "metadata": {},
   "outputs": [],
   "source": []
  },
  {
   "cell_type": "markdown",
   "metadata": {},
   "source": [
    "## Spellchecker ด้วย Custom Dictionary และ Word Frequency\n",
    "\n",
    "โดย Default จะใช้ Dictionary จาก Thai National Corpus (TNC) ซึ่งจะมีคำศัพท์ ใน Corpus จำนวนเกือบ 4 หมื่นคำ (Default)"
   ]
  },
  {
   "cell_type": "code",
   "execution_count": 11,
   "metadata": {
    "ExecuteTime": {
     "end_time": "2020-11-02T03:11:29.632372Z",
     "start_time": "2020-11-02T03:11:29.581405Z"
    }
   },
   "outputs": [],
   "source": [
    "from pythainlp.spell import NorvigSpellChecker"
   ]
  },
  {
   "cell_type": "code",
   "execution_count": 12,
   "metadata": {
    "ExecuteTime": {
     "end_time": "2020-11-02T03:11:42.250799Z",
     "start_time": "2020-11-02T03:11:41.867034Z"
    }
   },
   "outputs": [
    {
     "data": {
      "text/plain": [
       "39963"
      ]
     },
     "execution_count": 12,
     "metadata": {},
     "output_type": "execute_result"
    }
   ],
   "source": [
    "checker = NorvigSpellChecker()  # use default filter (remove any word with number or non-Thai character)\n",
    "len(checker.dictionary())"
   ]
  },
  {
   "cell_type": "code",
   "execution_count": 13,
   "metadata": {
    "ExecuteTime": {
     "end_time": "2020-11-02T03:12:13.396330Z",
     "start_time": "2020-11-02T03:12:13.339364Z"
    }
   },
   "outputs": [
    {
     "data": {
      "text/plain": [
       "[('ราชสกุล', 69),\n",
       " ('เภ็ก', 4),\n",
       " ('ญึด', 6),\n",
       " ('กบ่าว', 4),\n",
       " ('ปริตร', 3),\n",
       " ('กระหวัด', 49),\n",
       " ('อวัสดา', 3),\n",
       " ('เยี่ยง', 359),\n",
       " ('ลื้อ', 789),\n",
       " ('เพะ', 5),\n",
       " ('ภูษิต', 4),\n",
       " ('ซาวเสียง', 5),\n",
       " ('มกา', 4),\n",
       " ('ฟลูออเรสเซนซ์', 2),\n",
       " ('อินดิก', 2),\n",
       " ('ระเหระหน', 6),\n",
       " ('เอ็กซ์.', 5),\n",
       " ('มกิจจ์', 3),\n",
       " ('แพลงก์ตอน', 142),\n",
       " ('บุ๋ง', 8)]"
      ]
     },
     "execution_count": 13,
     "metadata": {},
     "output_type": "execute_result"
    }
   ],
   "source": [
    "# ดูตัวอย่าง คำศัพท์ และ ความถี่ ที่อยู่ใน Dictionary\n",
    "\n",
    "list(checker.dictionary())[:20]"
   ]
  },
  {
   "cell_type": "code",
   "execution_count": null,
   "metadata": {},
   "outputs": [],
   "source": []
  }
 ],
 "metadata": {
  "hide_input": false,
  "kernelspec": {
   "display_name": "Python 3",
   "language": "python",
   "name": "python3"
  },
  "language_info": {
   "codemirror_mode": {
    "name": "ipython",
    "version": 3
   },
   "file_extension": ".py",
   "mimetype": "text/x-python",
   "name": "python",
   "nbconvert_exporter": "python",
   "pygments_lexer": "ipython3",
   "version": "3.6.8"
  },
  "toc": {
   "base_numbering": 1,
   "nav_menu": {},
   "number_sections": false,
   "sideBar": true,
   "skip_h1_title": false,
   "title_cell": "Table of Contents",
   "title_sidebar": "Contents",
   "toc_cell": false,
   "toc_position": {
    "height": "calc(100% - 180px)",
    "left": "10px",
    "top": "150px",
    "width": "384px"
   },
   "toc_section_display": true,
   "toc_window_display": true
  },
  "varInspector": {
   "cols": {
    "lenName": 16,
    "lenType": 16,
    "lenVar": 40
   },
   "kernels_config": {
    "python": {
     "delete_cmd_postfix": "",
     "delete_cmd_prefix": "del ",
     "library": "var_list.py",
     "varRefreshCmd": "print(var_dic_list())"
    },
    "r": {
     "delete_cmd_postfix": ") ",
     "delete_cmd_prefix": "rm(",
     "library": "var_list.r",
     "varRefreshCmd": "cat(var_dic_list()) "
    }
   },
   "types_to_exclude": [
    "module",
    "function",
    "builtin_function_or_method",
    "instance",
    "_Feature"
   ],
   "window_display": false
  }
 },
 "nbformat": 4,
 "nbformat_minor": 2
}
