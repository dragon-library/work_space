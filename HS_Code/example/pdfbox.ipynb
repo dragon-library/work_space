{
 "cells": [
  {
   "cell_type": "markdown",
   "metadata": {
    "colab_type": "text",
    "id": "G62nzapN1kjl"
   },
   "source": [
    "ลง PDFBox"
   ]
  },
  {
   "cell_type": "code",
   "execution_count": 1,
   "metadata": {
    "ExecuteTime": {
     "end_time": "2020-11-02T07:57:12.975598Z",
     "start_time": "2020-11-02T07:57:12.944617Z"
    },
    "colab": {
     "base_uri": "https://localhost:8080/",
     "height": 399
    },
    "colab_type": "code",
    "executionInfo": {
     "elapsed": 13571,
     "status": "ok",
     "timestamp": 1586350383540,
     "user": {
      "displayName": "2143วรรณพงษ์ ภัททิยไพบูลย์",
      "photoUrl": "https://lh3.googleusercontent.com/a-/AOh14GgtuZBp_OatrZSQDqb0c51Q5HV59F6pHeD7nqn1ZA=s64",
      "userId": "09107358866022579513"
     },
     "user_tz": -420
    },
    "id": "mpfx4jYz1dxn",
    "outputId": "e9e7c933-f427-4927-aca1-8fd3d5606312"
   },
   "outputs": [
    {
     "name": "stderr",
     "output_type": "stream",
     "text": [
      "'apt-get' is not recognized as an internal or external command,\n",
      "operable program or batch file.\n"
     ]
    }
   ],
   "source": [
    "!apt-get install -y libpdfbox-java"
   ]
  },
  {
   "cell_type": "code",
   "execution_count": 2,
   "metadata": {
    "ExecuteTime": {
     "end_time": "2020-11-02T07:57:19.319929Z",
     "start_time": "2020-11-02T07:57:17.020356Z"
    },
    "colab": {
     "base_uri": "https://localhost:8080/",
     "height": 207
    },
    "colab_type": "code",
    "executionInfo": {
     "elapsed": 6138,
     "status": "ok",
     "timestamp": 1590768609895,
     "user": {
      "displayName": "Sarawut Wongsanga",
      "photoUrl": "https://lh3.googleusercontent.com/a-/AOh14GilwZr75VKav0qqhx-gYaakIMaCeKIq-9SRww5zxw=s64",
      "userId": "15319063851626799599"
     },
     "user_tz": -420
    },
    "id": "xP5Atawn1ntH",
    "outputId": "14fb0f67-d8b9-4e47-ca8e-cde51c714ac9"
   },
   "outputs": [
    {
     "name": "stdout",
     "output_type": "stream",
     "text": [
      "Requirement already satisfied: python-pdfbox in d:\\anaconda\\envs\\pyviz-tutorial\\lib\\site-packages (0.1.8)\n",
      "Requirement already satisfied: jpype1 in d:\\anaconda\\envs\\pyviz-tutorial\\lib\\site-packages (from python-pdfbox) (1.1.2)\n",
      "Requirement already satisfied: appdirs in d:\\anaconda\\envs\\pyviz-tutorial\\lib\\site-packages (from python-pdfbox) (1.4.4)\n",
      "Requirement already satisfied: setuptools in d:\\anaconda\\envs\\pyviz-tutorial\\lib\\site-packages (from python-pdfbox) (49.6.0)\n",
      "Requirement already satisfied: typing-extensions; python_version < \"3.8\" in d:\\anaconda\\envs\\pyviz-tutorial\\lib\\site-packages (from jpype1->python-pdfbox) (3.7.4.3)\n"
     ]
    }
   ],
   "source": [
    "!pip install python-pdfbox"
   ]
  },
  {
   "cell_type": "code",
   "execution_count": 3,
   "metadata": {
    "ExecuteTime": {
     "end_time": "2020-11-02T07:57:19.354908Z",
     "start_time": "2020-11-02T07:57:19.334920Z"
    },
    "colab": {
     "base_uri": "https://localhost:8080/",
     "height": 295
    },
    "colab_type": "code",
    "executionInfo": {
     "elapsed": 2796,
     "status": "ok",
     "timestamp": 1586350534837,
     "user": {
      "displayName": "2143วรรณพงษ์ ภัททิยไพบูลย์",
      "photoUrl": "https://lh3.googleusercontent.com/a-/AOh14GgtuZBp_OatrZSQDqb0c51Q5HV59F6pHeD7nqn1ZA=s64",
      "userId": "09107358866022579513"
     },
     "user_tz": -420
    },
    "id": "NwzL1DZN2G80",
    "outputId": "c51bb53b-4011-4ffc-8489-43c6f66862f5"
   },
   "outputs": [
    {
     "name": "stderr",
     "output_type": "stream",
     "text": [
      "'wget' is not recognized as an internal or external command,\n",
      "operable program or batch file.\n"
     ]
    }
   ],
   "source": [
    "!wget https://github.com/PyThaiNLP/thai-covid-19-situation/raw/master/pdf/situation-no95-070463.pdf"
   ]
  },
  {
   "cell_type": "code",
   "execution_count": 4,
   "metadata": {
    "ExecuteTime": {
     "end_time": "2020-11-02T07:57:22.457606Z",
     "start_time": "2020-11-02T07:57:21.708076Z"
    },
    "colab": {},
    "colab_type": "code",
    "id": "TYRvKgRi2JgM"
   },
   "outputs": [],
   "source": [
    "import pdfbox\n",
    "p = pdfbox.PDFBox()"
   ]
  },
  {
   "cell_type": "code",
   "execution_count": 6,
   "metadata": {
    "ExecuteTime": {
     "end_time": "2020-11-02T07:59:04.468539Z",
     "start_time": "2020-11-02T07:58:55.875231Z"
    },
    "colab": {},
    "colab_type": "code",
    "id": "kBNrFylA2ROi"
   },
   "outputs": [],
   "source": [
    "p.extract_text('asean-china-product.pdf',output_path = \"data.txt\")"
   ]
  },
  {
   "cell_type": "code",
   "execution_count": 7,
   "metadata": {
    "ExecuteTime": {
     "end_time": "2020-11-02T07:59:58.285962Z",
     "start_time": "2020-11-02T07:59:11.637264Z"
    },
    "colab": {},
    "colab_type": "code",
    "id": "1XzhJbfi47-F"
   },
   "outputs": [],
   "source": [
    "p.pdf_to_images('asean-china-product.pdf') # แปลง pdf แต่ละหน้าเป็นรูปภาพ"
   ]
  },
  {
   "cell_type": "code",
   "execution_count": null,
   "metadata": {
    "ExecuteTime": {
     "end_time": "2020-11-02T07:59:58.452859Z",
     "start_time": "2020-11-02T07:59:52.258Z"
    },
    "colab": {},
    "colab_type": "code",
    "id": "CkMFzDxf4-q3"
   },
   "outputs": [],
   "source": [
    "p.extract_images('asean-china-product.pdf') # ดึงภาพจาก PDF"
   ]
  },
  {
   "cell_type": "code",
   "execution_count": null,
   "metadata": {},
   "outputs": [],
   "source": []
  }
 ],
 "metadata": {
  "colab": {
   "collapsed_sections": [],
   "name": "Copy of pdfbox.ipynb",
   "provenance": [
    {
     "file_id": "1G5jTALHlGE9e7dFjJ40JQax39tY3yKsI",
     "timestamp": 1590768558644
    }
   ],
   "toc_visible": true
  },
  "hide_input": false,
  "kernelspec": {
   "display_name": "Python 3",
   "language": "python",
   "name": "python3"
  },
  "language_info": {
   "codemirror_mode": {
    "name": "ipython",
    "version": 3
   },
   "file_extension": ".py",
   "mimetype": "text/x-python",
   "name": "python",
   "nbconvert_exporter": "python",
   "pygments_lexer": "ipython3",
   "version": "3.6.8"
  },
  "toc": {
   "base_numbering": 1,
   "nav_menu": {},
   "number_sections": false,
   "sideBar": true,
   "skip_h1_title": false,
   "title_cell": "Table of Contents",
   "title_sidebar": "Contents",
   "toc_cell": false,
   "toc_position": {},
   "toc_section_display": true,
   "toc_window_display": true
  },
  "varInspector": {
   "cols": {
    "lenName": 16,
    "lenType": 16,
    "lenVar": 40
   },
   "kernels_config": {
    "python": {
     "delete_cmd_postfix": "",
     "delete_cmd_prefix": "del ",
     "library": "var_list.py",
     "varRefreshCmd": "print(var_dic_list())"
    },
    "r": {
     "delete_cmd_postfix": ") ",
     "delete_cmd_prefix": "rm(",
     "library": "var_list.r",
     "varRefreshCmd": "cat(var_dic_list()) "
    }
   },
   "types_to_exclude": [
    "module",
    "function",
    "builtin_function_or_method",
    "instance",
    "_Feature"
   ],
   "window_display": false
  }
 },
 "nbformat": 4,
 "nbformat_minor": 1
}
