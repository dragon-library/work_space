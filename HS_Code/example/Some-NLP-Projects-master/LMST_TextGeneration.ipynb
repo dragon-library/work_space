{
  "nbformat": 4,
  "nbformat_minor": 0,
  "metadata": {
    "colab": {
      "name": "LMST_TextGeneration.ipynb",
      "provenance": [],
      "collapsed_sections": [],
      "include_colab_link": true
    },
    "kernelspec": {
      "name": "python3",
      "display_name": "Python 3"
    }
  },
  "cells": [
    {
      "cell_type": "markdown",
      "metadata": {
        "id": "view-in-github",
        "colab_type": "text"
      },
      "source": [
        "<a href=\"https://colab.research.google.com/github/rashida048/Some-NLP-Projects/blob/master/LMST_TextGeneration.ipynb\" target=\"_parent\"><img src=\"https://colab.research.google.com/assets/colab-badge.svg\" alt=\"Open In Colab\"/></a>"
      ]
    },
    {
      "cell_type": "code",
      "metadata": {
        "id": "mAXiwb-0uEJq",
        "colab_type": "code",
        "outputId": "003c2806-227b-4e8b-d334-f4f34c5cf343",
        "colab": {
          "base_uri": "https://localhost:8080/",
          "height": 80
        }
      },
      "source": [
        "import json\n",
        "import tensorflow as tf\n",
        "import csv\n",
        "import random\n",
        "import numpy as np\n",
        "\n",
        "from tensorflow.keras.preprocessing.text import Tokenizer\n",
        "from tensorflow.keras.preprocessing.sequence import pad_sequences\n",
        "from tensorflow.keras.utils import to_categorical\n",
        "from tensorflow.keras import regularizers"
      ],
      "execution_count": 0,
      "outputs": [
        {
          "output_type": "display_data",
          "data": {
            "text/html": [
              "<p style=\"color: red;\">\n",
              "The default version of TensorFlow in Colab will soon switch to TensorFlow 2.x.<br>\n",
              "We recommend you <a href=\"https://www.tensorflow.org/guide/migrate\" target=\"_blank\">upgrade</a> now \n",
              "or ensure your notebook will continue to use TensorFlow 1.x via the <code>%tensorflow_version 1.x</code> magic:\n",
              "<a href=\"https://colab.research.google.com/notebooks/tensorflow_version.ipynb\" target=\"_blank\">more info</a>.</p>\n"
            ],
            "text/plain": [
              "<IPython.core.display.HTML object>"
            ]
          },
          "metadata": {
            "tags": []
          }
        }
      ]
    },
    {
      "cell_type": "code",
      "metadata": {
        "id": "aQzzapRQuZUM",
        "colab_type": "code",
        "colab": {}
      },
      "source": [
        "embedding_dim = 100\n",
        "max_length = 16\n",
        "trunc_type = 'post'\n",
        "padding_type = 'post'\n",
        "oov_tok = \"<OOV>\"\n",
        "training_size = 160000\n",
        "test_portion = .1\n",
        "\n",
        "corpus = []"
      ],
      "execution_count": 0,
      "outputs": []
    },
    {
      "cell_type": "code",
      "metadata": {
        "id": "WO1q2bvcuqra",
        "colab_type": "code",
        "outputId": "e61eba66-b724-4f45-d339-bd3a9cbac7ed",
        "colab": {
          "base_uri": "https://localhost:8080/",
          "height": 224
        }
      },
      "source": [
        "!wget --no-check-certificate \\\n",
        "    https://storage.googleapis.com/laurencemoroney-blog.appspot.com/training_cleaned.csv \\\n",
        "    -O /tmp/training_cleaned.csv"
      ],
      "execution_count": 0,
      "outputs": [
        {
          "output_type": "stream",
          "text": [
            "--2019-12-23 21:47:48--  https://storage.googleapis.com/laurencemoroney-blog.appspot.com/training_cleaned.csv\n",
            "Resolving storage.googleapis.com (storage.googleapis.com)... 64.233.189.128, 2404:6800:4008:c00::80\n",
            "Connecting to storage.googleapis.com (storage.googleapis.com)|64.233.189.128|:443... connected.\n",
            "HTTP request sent, awaiting response... 200 OK\n",
            "Length: 238942690 (228M) [application/octet-stream]\n",
            "Saving to: ‘/tmp/training_cleaned.csv’\n",
            "\n",
            "/tmp/training_clean 100%[===================>] 227.87M   100MB/s    in 2.3s    \n",
            "\n",
            "2019-12-23 21:47:50 (100 MB/s) - ‘/tmp/training_cleaned.csv’ saved [238942690/238942690]\n",
            "\n"
          ],
          "name": "stdout"
        }
      ]
    },
    {
      "cell_type": "code",
      "metadata": {
        "id": "f5CulZXJuuhT",
        "colab_type": "code",
        "colab": {}
      },
      "source": [
        "num_sentences = 0\n",
        "\n",
        "with open(\"/tmp/training_cleaned.csv\")as csvfile:\n",
        "  reader = csv.reader(csvfile, delimiter =',')\n",
        "  for row in reader:\n",
        "    list_item = []\n",
        "    list_item.append(row[5])\n",
        "    this_label = row[0]\n",
        "    if this_label == '0':\n",
        "      list_item.append(0)\n",
        "    else:\n",
        "      list_item.append(1)\n",
        "    num_sentences += 1\n",
        "    corpus.append(list_item)"
      ],
      "execution_count": 0,
      "outputs": []
    },
    {
      "cell_type": "code",
      "metadata": {
        "id": "Oaq11Uy6wSmD",
        "colab_type": "code",
        "outputId": "7e852213-21e9-4b8d-e831-4e8561608661",
        "colab": {
          "base_uri": "https://localhost:8080/",
          "height": 88
        }
      },
      "source": [
        "print(num_sentences)\n",
        "print(len(corpus))\n",
        "print(corpus[1])"
      ],
      "execution_count": 0,
      "outputs": [
        {
          "output_type": "stream",
          "text": [
            "1600000\n",
            "1600000\n",
            "[\"is upset that he can't update his Facebook by texting it... and might cry as a result  School today also. Blah!\", 0]\n"
          ],
          "name": "stdout"
        }
      ]
    },
    {
      "cell_type": "code",
      "metadata": {
        "id": "pRAY7hpWwh6C",
        "colab_type": "code",
        "colab": {}
      },
      "source": [
        "sentences = []\n",
        "labels = []\n",
        "\n",
        "random.shuffle(corpus)\n",
        "\n",
        "for x in range(training_size):\n",
        "  sentences.append(corpus[x][0])\n",
        "  labels.append(corpus[x][1])\n",
        "\n",
        "tokenizer = Tokenizer()\n",
        "tokenizer.fit_on_texts(sentences)\n",
        "\n",
        "word_index = tokenizer.word_index\n",
        "vocab_size = len(word_index)\n",
        "\n",
        "sequences = tokenizer.texts_to_sequences(sentences)\n",
        "padded = pad_sequences(sequences, maxlen=max_length, padding=padding_type, truncating=trunc_type)\n",
        "\n",
        "split = int(test_portion * training_size)\n",
        "\n",
        "test_sequences = padded[0:split]\n",
        "training_sequences = padded[split:training_size]\n",
        "test_labels = labels[0:split]\n",
        "training_labels = labels[split:training_size]"
      ],
      "execution_count": 0,
      "outputs": []
    },
    {
      "cell_type": "code",
      "metadata": {
        "id": "b9rFOpNBy1cc",
        "colab_type": "code",
        "outputId": "7d287d8d-b020-41db-c53c-8f5e432b831b",
        "colab": {
          "base_uri": "https://localhost:8080/",
          "height": 51
        }
      },
      "source": [
        "print(vocab_size)\n",
        "print(word_index['i'])"
      ],
      "execution_count": 0,
      "outputs": [
        {
          "output_type": "stream",
          "text": [
            "138803\n",
            "1\n"
          ],
          "name": "stdout"
        }
      ]
    },
    {
      "cell_type": "code",
      "metadata": {
        "id": "7nhHRqqLzQQs",
        "colab_type": "code",
        "outputId": "3f8a9e28-5350-47b8-f948-6ce3bb05f961",
        "colab": {
          "base_uri": "https://localhost:8080/",
          "height": 224
        }
      },
      "source": [
        "!wget --no-check-certificate \\\n",
        "    https://storage.googleapis.com/laurencemoroney-blog.appspot.com/glove.6B.100d.txt \\\n",
        "    -O /tmp/glove.6B.100d.txt"
      ],
      "execution_count": 0,
      "outputs": [
        {
          "output_type": "stream",
          "text": [
            "--2019-12-23 22:08:20--  https://storage.googleapis.com/laurencemoroney-blog.appspot.com/glove.6B.100d.txt\n",
            "Resolving storage.googleapis.com (storage.googleapis.com)... 108.177.125.128, 2404:6800:4008:c04::80\n",
            "Connecting to storage.googleapis.com (storage.googleapis.com)|108.177.125.128|:443... connected.\n",
            "HTTP request sent, awaiting response... 200 OK\n",
            "Length: 347116733 (331M) [text/plain]\n",
            "Saving to: ‘/tmp/glove.6B.100d.txt’\n",
            "\n",
            "/tmp/glove.6B.100d. 100%[===================>] 331.04M  62.0MB/s    in 5.7s    \n",
            "\n",
            "2019-12-23 22:08:26 (58.0 MB/s) - ‘/tmp/glove.6B.100d.txt’ saved [347116733/347116733]\n",
            "\n"
          ],
          "name": "stdout"
        }
      ]
    },
    {
      "cell_type": "code",
      "metadata": {
        "id": "XJV5pEDfzbUg",
        "colab_type": "code",
        "colab": {}
      },
      "source": [
        "embeddings_index = {};\n",
        "\n",
        "with open('/tmp/glove.6B.100d.txt') as f:\n",
        "  for line in f:\n",
        "    values = line.split();\n",
        "    word = values[0];\n",
        "    coefs = np.asarray(values[1:], dtype = 'float32');\n",
        "    embeddings_index[word] = coefs;\n",
        "\n",
        "embeddings_matrix = np.zeros((vocab_size+1, embedding_dim));\n",
        "for word, i in word_index.items():\n",
        "  embedding_vector = embeddings_index.get(word);\n",
        "  if embedding_vector is not None:\n",
        "    embeddings_matrix[i] = embedding_vector;"
      ],
      "execution_count": 0,
      "outputs": []
    },
    {
      "cell_type": "code",
      "metadata": {
        "id": "INz3Hie01XTW",
        "colab_type": "code",
        "outputId": "78c18c53-6992-4547-e399-3a88c9a44a40",
        "colab": {
          "base_uri": "https://localhost:8080/",
          "height": 204
        }
      },
      "source": [
        ""
      ],
      "execution_count": 0,
      "outputs": [
        {
          "output_type": "stream",
          "text": [
            "138804\n"
          ],
          "name": "stdout"
        },
        {
          "output_type": "stream",
          "text": [
            "IOPub data rate exceeded.\n",
            "The notebook server will temporarily stop sending output\n",
            "to the client in order to avoid crashing it.\n",
            "To change this limit, set the config variable\n",
            "`--NotebookApp.iopub_data_rate_limit`.\n",
            "\n",
            "Current values:\n",
            "NotebookApp.iopub_data_rate_limit=1000000.0 (bytes/sec)\n",
            "NotebookApp.rate_limit_window=3.0 (secs)\n",
            "\n"
          ],
          "name": "stderr"
        }
      ]
    },
    {
      "cell_type": "code",
      "metadata": {
        "id": "S1j8O41q1r0A",
        "colab_type": "code",
        "outputId": "4fef67a5-4407-4c65-89ba-052fcfbb2274",
        "colab": {
          "base_uri": "https://localhost:8080/",
          "height": 238
        }
      },
      "source": [
        "print(embeddings_matrix)"
      ],
      "execution_count": 0,
      "outputs": [
        {
          "output_type": "stream",
          "text": [
            "[[ 0.          0.          0.         ...  0.          0.\n",
            "   0.        ]\n",
            " [-0.046539    0.61966002  0.56647003 ... -0.37616    -0.032502\n",
            "   0.80620003]\n",
            " [-0.18970001  0.050024    0.19084001 ... -0.39804     0.47646999\n",
            "  -0.15983   ]\n",
            " ...\n",
            " [ 0.          0.          0.         ...  0.          0.\n",
            "   0.        ]\n",
            " [ 0.          0.          0.         ...  0.          0.\n",
            "   0.        ]\n",
            " [ 0.          0.          0.         ...  0.          0.\n",
            "   0.        ]]\n"
          ],
          "name": "stdout"
        }
      ]
    },
    {
      "cell_type": "code",
      "metadata": {
        "id": "HV86yXGv21Pq",
        "colab_type": "code",
        "outputId": "25b93e33-6e30-4e4d-caf9-298927434c32",
        "colab": {
          "base_uri": "https://localhost:8080/",
          "height": 1000
        }
      },
      "source": [
        "model = tf.keras.Sequential([\n",
        "    tf.keras.layers.Embedding(vocab_size+1, embedding_dim, input_length=max_length, weights=[embeddings_matrix], trainable=False),\n",
        "    tf.keras.layers.Dropout(0.2),\n",
        "    tf.keras.layers.Conv1D(64, 5, activation='relu'),\n",
        "    tf.keras.layers.MaxPool1D(pool_size=4),\n",
        "    tf.keras.layers.LSTM(64),\n",
        "    tf.keras.layers.Dense(1, activation='sigmoid')\n",
        "])\n",
        "model.compile(loss='binary_crossentropy', optimizer='adam', metrics=['accuracy'])\n",
        "model.summary()\n",
        "num_epochs = 50\n",
        "history = model.fit(training_sequences, training_labels, epochs=num_epochs, validation_data=(test_sequences, test_labels), verbose=2)\n",
        "print(\"Training Complete\")"
      ],
      "execution_count": 0,
      "outputs": [
        {
          "output_type": "stream",
          "text": [
            "WARNING:tensorflow:From /usr/local/lib/python3.6/dist-packages/tensorflow_core/python/ops/resource_variable_ops.py:1630: calling BaseResourceVariable.__init__ (from tensorflow.python.ops.resource_variable_ops) with constraint is deprecated and will be removed in a future version.\n",
            "Instructions for updating:\n",
            "If using Keras pass *_constraint arguments to layers.\n",
            "WARNING:tensorflow:From /usr/local/lib/python3.6/dist-packages/tensorflow_core/python/ops/nn_impl.py:183: where (from tensorflow.python.ops.array_ops) is deprecated and will be removed in a future version.\n",
            "Instructions for updating:\n",
            "Use tf.where in 2.0, which has the same broadcast rule as np.where\n",
            "Model: \"sequential\"\n",
            "_________________________________________________________________\n",
            "Layer (type)                 Output Shape              Param #   \n",
            "=================================================================\n",
            "embedding_1 (Embedding)      (None, 16, 100)           13880400  \n",
            "_________________________________________________________________\n",
            "dropout_1 (Dropout)          (None, 16, 100)           0         \n",
            "_________________________________________________________________\n",
            "conv1d_1 (Conv1D)            (None, 12, 64)            32064     \n",
            "_________________________________________________________________\n",
            "max_pooling1d_1 (MaxPooling1 (None, 3, 64)             0         \n",
            "_________________________________________________________________\n",
            "lstm (LSTM)                  (None, 64)                33024     \n",
            "_________________________________________________________________\n",
            "dense (Dense)                (None, 1)                 65        \n",
            "=================================================================\n",
            "Total params: 13,945,553\n",
            "Trainable params: 65,153\n",
            "Non-trainable params: 13,880,400\n",
            "_________________________________________________________________\n",
            "Train on 144000 samples, validate on 16000 samples\n",
            "Epoch 1/50\n",
            "144000/144000 - 47s - loss: 0.5683 - acc: 0.6978 - val_loss: 0.5326 - val_acc: 0.7266\n",
            "Epoch 2/50\n",
            "144000/144000 - 45s - loss: 0.5283 - acc: 0.7309 - val_loss: 0.5139 - val_acc: 0.7394\n",
            "Epoch 3/50\n",
            "144000/144000 - 45s - loss: 0.5090 - acc: 0.7453 - val_loss: 0.5072 - val_acc: 0.7459\n",
            "Epoch 4/50\n",
            "144000/144000 - 44s - loss: 0.4989 - acc: 0.7525 - val_loss: 0.5028 - val_acc: 0.7498\n",
            "Epoch 5/50\n",
            "144000/144000 - 45s - loss: 0.4895 - acc: 0.7587 - val_loss: 0.5044 - val_acc: 0.7508\n",
            "Epoch 6/50\n",
            "144000/144000 - 45s - loss: 0.4829 - acc: 0.7629 - val_loss: 0.5055 - val_acc: 0.7535\n",
            "Epoch 7/50\n",
            "144000/144000 - 45s - loss: 0.4776 - acc: 0.7672 - val_loss: 0.5039 - val_acc: 0.7498\n",
            "Epoch 8/50\n",
            "144000/144000 - 44s - loss: 0.4724 - acc: 0.7692 - val_loss: 0.5032 - val_acc: 0.7522\n",
            "Epoch 9/50\n",
            "144000/144000 - 45s - loss: 0.4687 - acc: 0.7711 - val_loss: 0.5024 - val_acc: 0.7558\n",
            "Epoch 10/50\n",
            "144000/144000 - 44s - loss: 0.4635 - acc: 0.7747 - val_loss: 0.5051 - val_acc: 0.7512\n",
            "Epoch 11/50\n",
            "144000/144000 - 44s - loss: 0.4614 - acc: 0.7767 - val_loss: 0.5052 - val_acc: 0.7513\n",
            "Epoch 12/50\n",
            "144000/144000 - 44s - loss: 0.4585 - acc: 0.7781 - val_loss: 0.5044 - val_acc: 0.7511\n",
            "Epoch 13/50\n",
            "144000/144000 - 45s - loss: 0.4555 - acc: 0.7806 - val_loss: 0.5088 - val_acc: 0.7536\n",
            "Epoch 14/50\n",
            "144000/144000 - 45s - loss: 0.4551 - acc: 0.7793 - val_loss: 0.5079 - val_acc: 0.7486\n",
            "Epoch 15/50\n",
            "144000/144000 - 45s - loss: 0.4509 - acc: 0.7824 - val_loss: 0.5118 - val_acc: 0.7516\n",
            "Epoch 16/50\n",
            "144000/144000 - 44s - loss: 0.4489 - acc: 0.7836 - val_loss: 0.5165 - val_acc: 0.7471\n",
            "Epoch 17/50\n",
            "144000/144000 - 44s - loss: 0.4474 - acc: 0.7848 - val_loss: 0.5126 - val_acc: 0.7534\n",
            "Epoch 18/50\n",
            "144000/144000 - 44s - loss: 0.4459 - acc: 0.7862 - val_loss: 0.5160 - val_acc: 0.7477\n",
            "Epoch 19/50\n",
            "144000/144000 - 44s - loss: 0.4446 - acc: 0.7859 - val_loss: 0.5166 - val_acc: 0.7499\n",
            "Epoch 20/50\n",
            "144000/144000 - 45s - loss: 0.4445 - acc: 0.7870 - val_loss: 0.5154 - val_acc: 0.7478\n",
            "Epoch 21/50\n",
            "144000/144000 - 45s - loss: 0.4425 - acc: 0.7868 - val_loss: 0.5147 - val_acc: 0.7502\n",
            "Epoch 22/50\n",
            "144000/144000 - 44s - loss: 0.4420 - acc: 0.7878 - val_loss: 0.5183 - val_acc: 0.7444\n",
            "Epoch 23/50\n",
            "144000/144000 - 45s - loss: 0.4419 - acc: 0.7882 - val_loss: 0.5191 - val_acc: 0.7475\n",
            "Epoch 24/50\n",
            "144000/144000 - 44s - loss: 0.4389 - acc: 0.7894 - val_loss: 0.5217 - val_acc: 0.7449\n",
            "Epoch 25/50\n",
            "144000/144000 - 45s - loss: 0.4385 - acc: 0.7892 - val_loss: 0.5197 - val_acc: 0.7465\n",
            "Epoch 26/50\n",
            "144000/144000 - 45s - loss: 0.4384 - acc: 0.7891 - val_loss: 0.5201 - val_acc: 0.7464\n",
            "Epoch 27/50\n",
            "144000/144000 - 46s - loss: 0.4363 - acc: 0.7909 - val_loss: 0.5226 - val_acc: 0.7449\n",
            "Epoch 28/50\n",
            "144000/144000 - 47s - loss: 0.4355 - acc: 0.7911 - val_loss: 0.5236 - val_acc: 0.7414\n",
            "Epoch 29/50\n",
            "144000/144000 - 46s - loss: 0.4344 - acc: 0.7909 - val_loss: 0.5279 - val_acc: 0.7478\n",
            "Epoch 30/50\n",
            "144000/144000 - 45s - loss: 0.4344 - acc: 0.7930 - val_loss: 0.5241 - val_acc: 0.7485\n",
            "Epoch 31/50\n",
            "144000/144000 - 45s - loss: 0.4359 - acc: 0.7912 - val_loss: 0.5171 - val_acc: 0.7462\n",
            "Epoch 32/50\n",
            "144000/144000 - 45s - loss: 0.4330 - acc: 0.7930 - val_loss: 0.5232 - val_acc: 0.7482\n",
            "Epoch 33/50\n",
            "144000/144000 - 45s - loss: 0.4331 - acc: 0.7933 - val_loss: 0.5214 - val_acc: 0.7433\n",
            "Epoch 34/50\n",
            "144000/144000 - 45s - loss: 0.4318 - acc: 0.7949 - val_loss: 0.5224 - val_acc: 0.7451\n",
            "Epoch 35/50\n",
            "144000/144000 - 45s - loss: 0.4334 - acc: 0.7935 - val_loss: 0.5250 - val_acc: 0.7474\n",
            "Epoch 36/50\n",
            "144000/144000 - 44s - loss: 0.4323 - acc: 0.7938 - val_loss: 0.5207 - val_acc: 0.7466\n",
            "Epoch 37/50\n",
            "144000/144000 - 45s - loss: 0.4330 - acc: 0.7935 - val_loss: 0.5299 - val_acc: 0.7487\n",
            "Epoch 38/50\n",
            "144000/144000 - 45s - loss: 0.4314 - acc: 0.7950 - val_loss: 0.5247 - val_acc: 0.7470\n",
            "Epoch 39/50\n",
            "144000/144000 - 45s - loss: 0.4305 - acc: 0.7951 - val_loss: 0.5241 - val_acc: 0.7460\n",
            "Epoch 40/50\n",
            "144000/144000 - 44s - loss: 0.4319 - acc: 0.7943 - val_loss: 0.5267 - val_acc: 0.7442\n",
            "Epoch 41/50\n",
            "144000/144000 - 45s - loss: 0.4307 - acc: 0.7937 - val_loss: 0.5274 - val_acc: 0.7437\n",
            "Epoch 42/50\n",
            "144000/144000 - 45s - loss: 0.4308 - acc: 0.7941 - val_loss: 0.5239 - val_acc: 0.7486\n",
            "Epoch 43/50\n",
            "144000/144000 - 45s - loss: 0.4304 - acc: 0.7949 - val_loss: 0.5250 - val_acc: 0.7416\n",
            "Epoch 44/50\n",
            "144000/144000 - 45s - loss: 0.4316 - acc: 0.7939 - val_loss: 0.5294 - val_acc: 0.7467\n",
            "Epoch 45/50\n",
            "144000/144000 - 45s - loss: 0.4301 - acc: 0.7950 - val_loss: 0.5268 - val_acc: 0.7468\n",
            "Epoch 46/50\n",
            "144000/144000 - 46s - loss: 0.4286 - acc: 0.7964 - val_loss: 0.5260 - val_acc: 0.7433\n",
            "Epoch 47/50\n",
            "144000/144000 - 46s - loss: 0.4274 - acc: 0.7970 - val_loss: 0.5285 - val_acc: 0.7457\n",
            "Epoch 48/50\n",
            "144000/144000 - 47s - loss: 0.4297 - acc: 0.7959 - val_loss: 0.5204 - val_acc: 0.7450\n",
            "Epoch 49/50\n",
            "144000/144000 - 46s - loss: 0.4288 - acc: 0.7957 - val_loss: 0.5329 - val_acc: 0.7465\n",
            "Epoch 50/50\n",
            "144000/144000 - 45s - loss: 0.4292 - acc: 0.7960 - val_loss: 0.5270 - val_acc: 0.7456\n",
            "Training Complete\n"
          ],
          "name": "stdout"
        }
      ]
    },
    {
      "cell_type": "code",
      "metadata": {
        "id": "HE-GqYW36gZi",
        "colab_type": "code",
        "outputId": "b65c7b18-a7e2-4512-abcc-2a292f502be8",
        "colab": {
          "base_uri": "https://localhost:8080/",
          "height": 607
        }
      },
      "source": [
        "import matplotlib.image  as mpimg\n",
        "import matplotlib.pyplot as plt\n",
        "\n",
        "#-----------------------------------------------------------\n",
        "# Retrieve a list of list results on training and test data\n",
        "# sets for each training epoch\n",
        "#-----------------------------------------------------------\n",
        "acc=history.history['acc']\n",
        "val_acc=history.history['val_acc']\n",
        "loss=history.history['loss']\n",
        "val_loss=history.history['val_loss']\n",
        "\n",
        "epochs=range(len(acc)) # Get number of epochs\n",
        "\n",
        "#------------------------------------------------\n",
        "# Plot training and validation accuracy per epoch\n",
        "#------------------------------------------------\n",
        "plt.plot(epochs, acc, 'r')\n",
        "plt.plot(epochs, val_acc, 'b')\n",
        "plt.title('Training and validation accuracy')\n",
        "plt.xlabel(\"Epochs\")\n",
        "plt.ylabel(\"Accuracy\")\n",
        "plt.legend([\"Accuracy\", \"Validation Accuracy\"])\n",
        "\n",
        "plt.figure()\n",
        "\n",
        "#------------------------------------------------\n",
        "# Plot training and validation loss per epoch\n",
        "#------------------------------------------------\n",
        "plt.plot(epochs, loss, 'r')\n",
        "plt.plot(epochs, val_loss, 'b')\n",
        "plt.title('Training and validation loss')\n",
        "plt.xlabel(\"Epochs\")\n",
        "plt.ylabel(\"Loss\")\n",
        "plt.legend([\"Loss\", \"Validation Loss\"])\n",
        "\n",
        "plt.figure()\n"
      ],
      "execution_count": 0,
      "outputs": [
        {
          "output_type": "execute_result",
          "data": {
            "text/plain": [
              "<Figure size 432x288 with 0 Axes>"
            ]
          },
          "metadata": {
            "tags": []
          },
          "execution_count": 19
        },
        {
          "output_type": "display_data",
          "data": {
            "image/png": "[encoded data removed]",
            "text/plain": [
              "<Figure size 432x288 with 1 Axes>"
            ]
          },
          "metadata": {
            "tags": []
          }
        },
        {
          "output_type": "display_data",
          "data": {
            "image/png": "[encoded data removed]",
            "text/plain": [
              "<Figure size 432x288 with 1 Axes>"
            ]
          },
          "metadata": {
            "tags": []
          }
        },
        {
          "output_type": "display_data",
          "data": {
            "text/plain": [
              "<Figure size 432x288 with 0 Axes>"
            ]
          },
          "metadata": {
            "tags": []
          }
        }
      ]
    },
    {
      "cell_type": "code",
      "metadata": {
        "id": "myXLfa33JXcW",
        "colab_type": "code",
        "colab": {}
      },
      "source": [
        ""
      ],
      "execution_count": 0,
      "outputs": []
    }
  ]
}