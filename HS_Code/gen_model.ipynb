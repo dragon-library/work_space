{
 "cells": [
  {
   "cell_type": "code",
   "execution_count": 1,
   "metadata": {
    "ExecuteTime": {
     "end_time": "2020-11-20T10:06:57.497836Z",
     "start_time": "2020-11-20T10:06:56.405358Z"
    }
   },
   "outputs": [],
   "source": [
    "import warnings\n",
    "warnings.filterwarnings('ignore')\n",
    "%matplotlib inline\n",
    "\n",
    "\n",
    "from data import get_data\n",
    "from time import time\n",
    "import joblib\n"
   ]
  },
  {
   "cell_type": "code",
   "execution_count": null,
   "metadata": {},
   "outputs": [],
   "source": [
    "def get_data(urls, sheets, types):\n",
    "    data = \"\"\n",
    "    t0 = time()\n",
    "    a = []\n",
    "    i = 0\n",
    "    for s in sheets:\n",
    "        s = pd.read_excel(urls, sheet_name=s)\n",
    "        s = s[[types, 'description']]\n",
    "        s['description'] = s['description'].str.lower()\n",
    "        if i == 0:\n",
    "            data = s.copy()\n",
    "        else:\n",
    "            data = pd.concat([data, s], ignore_index=True)\n",
    "        i += 1\n",
    "    data.columns = ['target', 'data']\n",
    "    data['target'] = data['target'].apply(str)\n",
    "    load_time = time() - t0\n",
    "    print(\"Load dataset time:  %0.3fs\" % load_time)\n",
    "\n",
    "    return data"
   ]
  },
  {
   "cell_type": "markdown",
   "metadata": {},
   "source": [
    "## Get Data"
   ]
  },
  {
   "cell_type": "code",
   "execution_count": 4,
   "metadata": {
    "ExecuteTime": {
     "end_time": "2020-11-20T10:07:20.649825Z",
     "start_time": "2020-11-20T10:07:20.642829Z"
    }
   },
   "outputs": [],
   "source": [
    "import pandas as pd\n",
    "\n",
    "def loads_dataset(urls, sheets):\n",
    "    data = \"\"\n",
    "    t0 = time()\n",
    "    a = []\n",
    "    i = 0\n",
    "    for s in sheets:\n",
    "        s = pd.read_excel(urls, sheet_name=s)\n",
    "        s = s[[ 'description','section','chapter','heading','sub-heading','tariff']]\n",
    "        s['section'] = s['section'].map('{:02}'.format)\n",
    "        s['chapter'] = s['chapter'].map('{:02}'.format)\n",
    "    #s['heading'] = s['heading'].apply('{:04}'.format)\n",
    "    #s['sub-heading'] = s['sub-heading'].map('{:06}'.format)\n",
    "    #s['tariff'] = s['tariff'].map('{:08}'.format)\n",
    "    s['description'] = s['description'].str.lower()\n",
    "    \n",
    "    if i == 0:\n",
    "            data = s.copy()\n",
    "    else:\n",
    "            data = pd.concat([data, s], ignore_index=True)\n",
    "    i += 1\n",
    "   # data.columns = ['target', 'data']\n",
    "  #  data['target'] = data['target'].apply(str)\n",
    "    load_time = time() - t0\n",
    "    print(\"Load dataset time:  %0.3fs\" % load_time)\n",
    "\n",
    "    return data   \n",
    "\n"
   ]
  },
  {
   "cell_type": "code",
   "execution_count": 5,
   "metadata": {
    "ExecuteTime": {
     "end_time": "2020-11-20T10:09:27.870161Z",
     "start_time": "2020-11-20T10:07:22.665597Z"
    }
   },
   "outputs": [
    {
     "name": "stdout",
     "output_type": "stream",
     "text": [
      "Load dataset time:  125.177s\n"
     ]
    },
    {
     "data": {
      "text/html": [
       "<div>\n",
       "<style scoped>\n",
       "    .dataframe tbody tr th:only-of-type {\n",
       "        vertical-align: middle;\n",
       "    }\n",
       "\n",
       "    .dataframe tbody tr th {\n",
       "        vertical-align: top;\n",
       "    }\n",
       "\n",
       "    .dataframe thead th {\n",
       "        text-align: right;\n",
       "    }\n",
       "</style>\n",
       "<table border=\"1\" class=\"dataframe\">\n",
       "  <thead>\n",
       "    <tr style=\"text-align: right;\">\n",
       "      <th></th>\n",
       "      <th>description</th>\n",
       "      <th>section</th>\n",
       "      <th>chapter</th>\n",
       "      <th>heading</th>\n",
       "      <th>sub-heading</th>\n",
       "      <th>tariff</th>\n",
       "    </tr>\n",
       "  </thead>\n",
       "  <tbody>\n",
       "    <tr>\n",
       "      <th>2907</th>\n",
       "      <td>aloe vera drink lychee</td>\n",
       "      <td>04</td>\n",
       "      <td>22</td>\n",
       "      <td>2202</td>\n",
       "      <td>220210</td>\n",
       "      <td>22021090</td>\n",
       "    </tr>\n",
       "    <tr>\n",
       "      <th>1482</th>\n",
       "      <td>aluminium door frame g180182aada</td>\n",
       "      <td>15</td>\n",
       "      <td>76</td>\n",
       "      <td>7610</td>\n",
       "      <td>761010</td>\n",
       "      <td>76101010</td>\n",
       "    </tr>\n",
       "    <tr>\n",
       "      <th>9898</th>\n",
       "      <td>assorted ornaments / sterling silver 925rings</td>\n",
       "      <td>14</td>\n",
       "      <td>71</td>\n",
       "      <td>7113</td>\n",
       "      <td>711311</td>\n",
       "      <td>71131190</td>\n",
       "    </tr>\n",
       "    <tr>\n",
       "      <th>4125</th>\n",
       "      <td>aluminium fabrication bar ejwagz0825</td>\n",
       "      <td>15</td>\n",
       "      <td>76</td>\n",
       "      <td>7610</td>\n",
       "      <td>761090</td>\n",
       "      <td>76109099</td>\n",
       "    </tr>\n",
       "    <tr>\n",
       "      <th>18800</th>\n",
       "      <td>aircondition haier hsu09ctb03tfinoutท่อ/9000btu</td>\n",
       "      <td>16</td>\n",
       "      <td>84</td>\n",
       "      <td>8415</td>\n",
       "      <td>841510</td>\n",
       "      <td>84151090</td>\n",
       "    </tr>\n",
       "    <tr>\n",
       "      <th>18949</th>\n",
       "      <td>ab39   7a149 aa housing</td>\n",
       "      <td>17</td>\n",
       "      <td>87</td>\n",
       "      <td>8708</td>\n",
       "      <td>870830</td>\n",
       "      <td>87083029</td>\n",
       "    </tr>\n",
       "    <tr>\n",
       "      <th>3943</th>\n",
       "      <td>agi panter small 2x20s</td>\n",
       "      <td>04</td>\n",
       "      <td>24</td>\n",
       "      <td>2402</td>\n",
       "      <td>240210</td>\n",
       "      <td>24021000</td>\n",
       "    </tr>\n",
       "    <tr>\n",
       "      <th>3549</th>\n",
       "      <td>automotive disc brake pads 220027780 set tdb12...</td>\n",
       "      <td>17</td>\n",
       "      <td>87</td>\n",
       "      <td>8708</td>\n",
       "      <td>870830</td>\n",
       "      <td>87083090</td>\n",
       "    </tr>\n",
       "    <tr>\n",
       "      <th>9547</th>\n",
       "      <td>availa zn 120  animal feed additives</td>\n",
       "      <td>04</td>\n",
       "      <td>23</td>\n",
       "      <td>2309</td>\n",
       "      <td>230990</td>\n",
       "      <td>23099020</td>\n",
       "    </tr>\n",
       "    <tr>\n",
       "      <th>1993</th>\n",
       "      <td>aluminium door frame wf157182asaa</td>\n",
       "      <td>15</td>\n",
       "      <td>76</td>\n",
       "      <td>7610</td>\n",
       "      <td>761010</td>\n",
       "      <td>76101010</td>\n",
       "    </tr>\n",
       "  </tbody>\n",
       "</table>\n",
       "</div>"
      ],
      "text/plain": [
       "                                             description section chapter  \\\n",
       "2907                              aloe vera drink lychee      04      22   \n",
       "1482                    aluminium door frame g180182aada      15      76   \n",
       "9898       assorted ornaments / sterling silver 925rings      14      71   \n",
       "4125                aluminium fabrication bar ejwagz0825      15      76   \n",
       "18800    aircondition haier hsu09ctb03tfinoutท่อ/9000btu      16      84   \n",
       "18949                            ab39   7a149 aa housing      17      87   \n",
       "3943                              agi panter small 2x20s      04      24   \n",
       "3549   automotive disc brake pads 220027780 set tdb12...      17      87   \n",
       "9547                availa zn 120  animal feed additives      04      23   \n",
       "1993                   aluminium door frame wf157182asaa      15      76   \n",
       "\n",
       "       heading  sub-heading    tariff  \n",
       "2907      2202       220210  22021090  \n",
       "1482      7610       761010  76101010  \n",
       "9898      7113       711311  71131190  \n",
       "4125      7610       761090  76109099  \n",
       "18800     8415       841510  84151090  \n",
       "18949     8708       870830  87083029  \n",
       "3943      2402       240210  24021000  \n",
       "3549      8708       870830  87083090  \n",
       "9547      2309       230990  23099020  \n",
       "1993      7610       761010  76101010  "
      ]
     },
     "execution_count": 5,
     "metadata": {},
     "output_type": "execute_result"
    }
   ],
   "source": [
    "urls = 'data/hs_code.xlsx'\n",
    "types = 'section'\n",
    "\n",
    "sheets = ['8_digit','6_digit','4_digit','2_digit', 'test_01', 'Declaration_2019_10']\n",
    "\n",
    "df = loads_dataset(urls, sheets)\n",
    "df.sample(10)"
   ]
  },
  {
   "cell_type": "code",
   "execution_count": 2,
   "metadata": {
    "ExecuteTime": {
     "end_time": "2020-11-20T07:25:16.971289Z",
     "start_time": "2020-11-20T07:23:10.480202Z"
    }
   },
   "outputs": [
    {
     "name": "stdout",
     "output_type": "stream",
     "text": [
      "Load dataset time:  126.454s\n",
      "49137\n"
     ]
    },
    {
     "data": {
      "text/html": [
       "<div>\n",
       "<style scoped>\n",
       "    .dataframe tbody tr th:only-of-type {\n",
       "        vertical-align: middle;\n",
       "    }\n",
       "\n",
       "    .dataframe tbody tr th {\n",
       "        vertical-align: top;\n",
       "    }\n",
       "\n",
       "    .dataframe thead th {\n",
       "        text-align: right;\n",
       "    }\n",
       "</style>\n",
       "<table border=\"1\" class=\"dataframe\">\n",
       "  <thead>\n",
       "    <tr style=\"text-align: right;\">\n",
       "      <th></th>\n",
       "      <th>target</th>\n",
       "      <th>data</th>\n",
       "    </tr>\n",
       "  </thead>\n",
       "  <tbody>\n",
       "    <tr>\n",
       "      <th>9418</th>\n",
       "      <td>17</td>\n",
       "      <td>vehicles; with both sparkignition internal com...</td>\n",
       "    </tr>\n",
       "    <tr>\n",
       "      <th>47631</th>\n",
       "      <td>17</td>\n",
       "      <td>accessory parts part number 08413b1010 toyota ...</td>\n",
       "    </tr>\n",
       "    <tr>\n",
       "      <th>3825</th>\n",
       "      <td>9</td>\n",
       "      <td>wood; charcoal of wood other than bamboo (incl...</td>\n",
       "    </tr>\n",
       "    <tr>\n",
       "      <th>45600</th>\n",
       "      <td>16</td>\n",
       "      <td>assy shelf glassref</td>\n",
       "    </tr>\n",
       "    <tr>\n",
       "      <th>8386</th>\n",
       "      <td>16</td>\n",
       "      <td>transformers; n.e.c. in item no. 8504.2, havin...</td>\n",
       "    </tr>\n",
       "    <tr>\n",
       "      <th>49</th>\n",
       "      <td>1</td>\n",
       "      <td>meat; of bovine animals, cuts with bone in (ex...</td>\n",
       "    </tr>\n",
       "    <tr>\n",
       "      <th>8382</th>\n",
       "      <td>16</td>\n",
       "      <td>transformers; n.e.c. in item no. 8504.2, havin...</td>\n",
       "    </tr>\n",
       "    <tr>\n",
       "      <th>163</th>\n",
       "      <td>1</td>\n",
       "      <td>fish; fresh or chilled, southern bluefin tunas...</td>\n",
       "    </tr>\n",
       "    <tr>\n",
       "      <th>6245</th>\n",
       "      <td>15</td>\n",
       "      <td>steel, stainless; wire - other</td>\n",
       "    </tr>\n",
       "    <tr>\n",
       "      <th>33248</th>\n",
       "      <td>15</td>\n",
       "      <td>arm/baserwindow 1d0058560</td>\n",
       "    </tr>\n",
       "  </tbody>\n",
       "</table>\n",
       "</div>"
      ],
      "text/plain": [
       "      target                                               data\n",
       "9418      17  vehicles; with both sparkignition internal com...\n",
       "47631     17  accessory parts part number 08413b1010 toyota ...\n",
       "3825       9  wood; charcoal of wood other than bamboo (incl...\n",
       "45600     16                                assy shelf glassref\n",
       "8386      16  transformers; n.e.c. in item no. 8504.2, havin...\n",
       "49         1  meat; of bovine animals, cuts with bone in (ex...\n",
       "8382      16  transformers; n.e.c. in item no. 8504.2, havin...\n",
       "163        1  fish; fresh or chilled, southern bluefin tunas...\n",
       "6245      15                     steel, stainless; wire - other\n",
       "33248     15                          arm/baserwindow 1d0058560"
      ]
     },
     "execution_count": 2,
     "metadata": {},
     "output_type": "execute_result"
    }
   ],
   "source": [
    "urls = 'data/hs_code.xlsx'\n",
    "types = 'section'\n",
    "\n",
    "sheets = ['8_digit','6_digit','4_digit','2_digit', 'test_01', 'Declaration_2019_10']\n",
    "\n",
    "df = get_data(urls,sheets,types)\n",
    "print(len(df))\n",
    "df.sample(10)"
   ]
  },
  {
   "cell_type": "code",
   "execution_count": 3,
   "metadata": {
    "ExecuteTime": {
     "end_time": "2020-11-19T19:08:11.866388Z",
     "start_time": "2020-11-19T19:08:11.670994Z"
    }
   },
   "outputs": [
    {
     "name": "stdout",
     "output_type": "stream",
     "text": [
      "Save DataFrame\n",
      "success\n"
     ]
    }
   ],
   "source": [
    "#save the DataFrame\n",
    "print(\"Save DataFrame\")\n",
    "\n",
    "joblib.dump(df, 'data/df_master_train.pkl', compress=1)\n",
    "print('success')"
   ]
  },
  {
   "cell_type": "markdown",
   "metadata": {},
   "source": [
    "##  Create Model"
   ]
  },
  {
   "cell_type": "code",
   "execution_count": 3,
   "metadata": {
    "ExecuteTime": {
     "end_time": "2020-11-20T07:25:16.978284Z",
     "start_time": "2020-11-20T07:25:16.973287Z"
    }
   },
   "outputs": [],
   "source": [
    "def clean_str(string):\n",
    "    \"\"\"\n",
    "    Tokenization/string cleaning for dataset\n",
    "    Every dataset is lower cased except\n",
    "    \"\"\"\n",
    "    string = re.sub(r\"\\n\", \"\", string)    \n",
    "    string = re.sub(r\"\\r\", \"\", string) \n",
    "    string = re.sub(r\"[0-9]\", \"digit\", string)\n",
    "    string = re.sub(r\"\\'\", \"\", string)    \n",
    "    string = re.sub(r\"\\\"\", \"\", string)    \n",
    "    return string.strip().lower()"
   ]
  },
  {
   "cell_type": "code",
   "execution_count": 4,
   "metadata": {
    "ExecuteTime": {
     "end_time": "2020-11-20T07:25:18.803947Z",
     "start_time": "2020-11-20T07:25:16.981283Z"
    }
   },
   "outputs": [],
   "source": [
    "import re \n",
    "import numpy as np\n",
    "from sklearn.model_selection import train_test_split\n",
    "from sklearn.svm import LinearSVC\n",
    "from sklearn.linear_model import LogisticRegression\n",
    "from sklearn.ensemble import RandomForestClassifier\n",
    "from sklearn.model_selection import GridSearchCV\n",
    "from sklearn.metrics import classification_report\n",
    "from sklearn.pipeline import Pipeline\n",
    "from sklearn.feature_extraction.text import CountVectorizer\n",
    "from sklearn.svm import LinearSVC\n",
    "from sklearn.feature_extraction.text import TfidfTransformer\n",
    "from sklearn.multiclass import OneVsRestClassifier\n",
    "from sklearn.metrics import confusion_matrix, accuracy_score\n",
    "\n",
    "def create_model(df,names):\n",
    "    X = []\n",
    "    for i in range(df.shape[0]):\n",
    "        X.append(clean_str(df.iloc[i][1]))\n",
    "    y = np.array(df[\"target\"])\n",
    "    X_train, X_test, y_train, y_test = train_test_split(X, y, test_size=0.1, random_state=5)\n",
    "\n",
    "\n",
    "\n",
    "    print(\"pipeline of feature engineering and model\")\n",
    "    model = Pipeline([('vectorizer', CountVectorizer()),\n",
    "    ('tfidf', TfidfTransformer()),\n",
    "    ('clf', OneVsRestClassifier(LinearSVC(class_weight=\"balanced\")))])\n",
    "\n",
    "    print(\"paramater selection\")\n",
    "\n",
    "\n",
    "    parameters = {'vectorizer__ngram_range': [(1, 1), (1, 2),(2,2)],\n",
    "               'tfidf__use_idf': (True, False)}\n",
    "\n",
    "    print(\"Training: \")\n",
    "   \n",
    "    t0 = time()\n",
    "    gs_clf_svm = GridSearchCV(model, parameters, n_jobs=-1)\n",
    "    gs_clf_svm = gs_clf_svm.fit(X, y)\n",
    "    print(gs_clf_svm.best_score_)\n",
    "    print(gs_clf_svm.best_params_)\n",
    "\n",
    "    model = Pipeline([('vectorizer', CountVectorizer(ngram_range=(1,2))),\n",
    "    ('tfidf', TfidfTransformer(use_idf=True)),\n",
    "    ('clf', OneVsRestClassifier(LinearSVC(class_weight=\"balanced\")))])\n",
    "\n",
    "#fit model with training data\n",
    "    model.fit(X_train, y_train)\n",
    "\n",
    "    pred = model.predict(X_test)\n",
    "\n",
    "    print(accuracy_score(y_test, pred))\n",
    "\n",
    "#save the model\n",
    "    print(\"Save Model\")\n",
    "\n",
    "    joblib.dump(model, 'data/model_'+names +'.pkl', compress=1)\n",
    "\n",
    "\n",
    "    print (classification_report(y_test, pred))"
   ]
  },
  {
   "cell_type": "code",
   "execution_count": 6,
   "metadata": {
    "ExecuteTime": {
     "end_time": "2020-11-20T08:36:21.809270Z",
     "start_time": "2020-11-20T08:13:36.927979Z"
    }
   },
   "outputs": [
    {
     "name": "stdout",
     "output_type": "stream",
     "text": [
      "Save DataFrame\n",
      "pipeline of feature engineering and model\n",
      "paramater selection\n",
      "Training: \n",
      "0.8787852808408421\n",
      "{'tfidf__use_idf': True, 'vectorizer__ngram_range': (1, 2)}\n",
      "0.9354904354904355\n",
      "Save Model\n",
      "              precision    recall  f1-score   support\n",
      "\n",
      "           1       0.99      0.99      0.99       180\n",
      "          10       0.94      0.95      0.95        85\n",
      "          11       0.98      0.98      0.98       403\n",
      "          12       0.98      0.91      0.94        45\n",
      "          13       0.95      0.92      0.94       104\n",
      "          14       0.91      0.89      0.90        55\n",
      "          15       0.97      0.96      0.96      1039\n",
      "          16       0.90      0.93      0.91       855\n",
      "          17       0.86      0.91      0.88       518\n",
      "          18       0.94      0.89      0.92       147\n",
      "          19       1.00      0.88      0.93         8\n",
      "           2       0.99      1.00      0.99       155\n",
      "          20       0.89      0.90      0.89       109\n",
      "          21       1.00      1.00      1.00         4\n",
      "           3       1.00      0.97      0.98        29\n",
      "           4       0.96      0.95      0.96       198\n",
      "           5       0.95      0.95      0.95        77\n",
      "           6       0.96      0.94      0.95       506\n",
      "           7       0.88      0.82      0.85       280\n",
      "           8       0.92      0.90      0.91        40\n",
      "           9       0.97      0.99      0.98        77\n",
      "\n",
      "    accuracy                           0.94      4914\n",
      "   macro avg       0.95      0.93      0.94      4914\n",
      "weighted avg       0.94      0.94      0.94      4914\n",
      "\n",
      "Save DataFrame\n",
      "pipeline of feature engineering and model\n",
      "paramater selection\n",
      "Training: \n",
      "0.8787852808408421\n",
      "{'tfidf__use_idf': True, 'vectorizer__ngram_range': (1, 2)}\n",
      "0.9354904354904355\n",
      "Save Model\n",
      "              precision    recall  f1-score   support\n",
      "\n",
      "           1       0.99      0.99      0.99       180\n",
      "          10       0.94      0.95      0.95        85\n",
      "          11       0.98      0.98      0.98       403\n",
      "          12       0.98      0.91      0.94        45\n",
      "          13       0.95      0.92      0.94       104\n",
      "          14       0.91      0.89      0.90        55\n",
      "          15       0.97      0.96      0.96      1039\n",
      "          16       0.90      0.93      0.91       855\n",
      "          17       0.86      0.91      0.88       518\n",
      "          18       0.94      0.89      0.92       147\n",
      "          19       1.00      0.88      0.93         8\n",
      "           2       0.99      1.00      0.99       155\n",
      "          20       0.89      0.90      0.89       109\n",
      "          21       1.00      1.00      1.00         4\n",
      "           3       1.00      0.97      0.98        29\n",
      "           4       0.96      0.95      0.96       198\n",
      "           5       0.95      0.95      0.95        77\n",
      "           6       0.96      0.94      0.95       506\n",
      "           7       0.88      0.82      0.85       280\n",
      "           8       0.92      0.90      0.91        40\n",
      "           9       0.97      0.99      0.98        77\n",
      "\n",
      "    accuracy                           0.94      4914\n",
      "   macro avg       0.95      0.93      0.94      4914\n",
      "weighted avg       0.94      0.94      0.94      4914\n",
      "\n",
      "Save DataFrame\n",
      "pipeline of feature engineering and model\n",
      "paramater selection\n",
      "Training: \n",
      "0.8787852808408421\n",
      "{'tfidf__use_idf': True, 'vectorizer__ngram_range': (1, 2)}\n",
      "0.9354904354904355\n",
      "Save Model\n",
      "              precision    recall  f1-score   support\n",
      "\n",
      "           1       0.99      0.99      0.99       180\n",
      "          10       0.94      0.95      0.95        85\n",
      "          11       0.98      0.98      0.98       403\n",
      "          12       0.98      0.91      0.94        45\n",
      "          13       0.95      0.92      0.94       104\n",
      "          14       0.91      0.89      0.90        55\n",
      "          15       0.97      0.96      0.96      1039\n",
      "          16       0.90      0.93      0.91       855\n",
      "          17       0.86      0.91      0.88       518\n",
      "          18       0.94      0.89      0.92       147\n",
      "          19       1.00      0.88      0.93         8\n",
      "           2       0.99      1.00      0.99       155\n",
      "          20       0.89      0.90      0.89       109\n",
      "          21       1.00      1.00      1.00         4\n",
      "           3       1.00      0.97      0.98        29\n",
      "           4       0.96      0.95      0.96       198\n",
      "           5       0.95      0.95      0.95        77\n",
      "           6       0.96      0.94      0.95       506\n",
      "           7       0.88      0.82      0.85       280\n",
      "           8       0.92      0.90      0.91        40\n",
      "           9       0.97      0.99      0.98        77\n",
      "\n",
      "    accuracy                           0.94      4914\n",
      "   macro avg       0.95      0.93      0.94      4914\n",
      "weighted avg       0.94      0.94      0.94      4914\n",
      "\n"
     ]
    }
   ],
   "source": [
    "#['01', '02', '03', '04', '05', '06', '07', '08', '09', '10', '11',\n",
    " #      '12', '13', '14', '15', '16', '17', '18', '19', '20', '21']\n",
    "\n",
    "lst =[ '01', '02', '03']\n",
    "\n",
    "for x in lst:\n",
    "    names = x\n",
    "    df = joblib.load('data/df_master_section.pkl')\n",
    "    \n",
    "    df[df['target'] == f'{x}']\n",
    "    \n",
    "    #save the DataFrame\n",
    "    \n",
    "    joblib.dump(df, 'data/train/df_master_'+x+'.pkl', compress=1)\n",
    "    print(\"Save DataFrame\")   \n",
    "    create_model(df,names)\n",
    "    print('success')"
   ]
  },
  {
   "cell_type": "code",
   "execution_count": null,
   "metadata": {},
   "outputs": [],
   "source": []
  },
  {
   "cell_type": "code",
   "execution_count": null,
   "metadata": {},
   "outputs": [],
   "source": []
  },
  {
   "cell_type": "code",
   "execution_count": 7,
   "metadata": {
    "ExecuteTime": {
     "end_time": "2020-11-20T08:45:44.487231Z",
     "start_time": "2020-11-20T08:45:41.050203Z"
    }
   },
   "outputs": [
    {
     "name": "stdout",
     "output_type": "stream",
     "text": [
      "Load Model\n",
      "Vanilla \n"
     ]
    }
   ],
   "source": [
    "import joblib\n",
    "print(\"Load Model\")\n",
    "model = joblib.load('data/model/model_01.pkl')\n",
    "products = input()  # Video game consoles : 95"
   ]
  },
  {
   "cell_type": "code",
   "execution_count": 8,
   "metadata": {
    "ExecuteTime": {
     "end_time": "2020-11-20T08:45:46.591226Z",
     "start_time": "2020-11-20T08:45:46.579234Z"
    }
   },
   "outputs": [
    {
     "data": {
      "text/plain": [
       "'2'"
      ]
     },
     "execution_count": 8,
     "metadata": {},
     "output_type": "execute_result"
    }
   ],
   "source": [
    "model.predict([products])[0]  # Vanilla : 02"
   ]
  },
  {
   "cell_type": "code",
   "execution_count": null,
   "metadata": {},
   "outputs": [],
   "source": []
  },
  {
   "cell_type": "code",
   "execution_count": 9,
   "metadata": {
    "ExecuteTime": {
     "end_time": "2020-11-20T09:40:04.747433Z",
     "start_time": "2020-11-20T09:40:04.638501Z"
    }
   },
   "outputs": [
    {
     "name": "stdout",
     "output_type": "stream",
     "text": [
      "Wall time: 95.9 ms\n"
     ]
    },
    {
     "data": {
      "text/html": [
       "<div>\n",
       "<style scoped>\n",
       "    .dataframe tbody tr th:only-of-type {\n",
       "        vertical-align: middle;\n",
       "    }\n",
       "\n",
       "    .dataframe tbody tr th {\n",
       "        vertical-align: top;\n",
       "    }\n",
       "\n",
       "    .dataframe thead th {\n",
       "        text-align: right;\n",
       "    }\n",
       "</style>\n",
       "<table border=\"1\" class=\"dataframe\">\n",
       "  <thead>\n",
       "    <tr style=\"text-align: right;\">\n",
       "      <th></th>\n",
       "      <th>target</th>\n",
       "      <th>data</th>\n",
       "    </tr>\n",
       "  </thead>\n",
       "  <tbody>\n",
       "    <tr>\n",
       "      <th>0</th>\n",
       "      <td>1</td>\n",
       "      <td>horses; live, purebred breeding animals - pure...</td>\n",
       "    </tr>\n",
       "    <tr>\n",
       "      <th>1</th>\n",
       "      <td>1</td>\n",
       "      <td>horses; live, other than purebred breeding ani...</td>\n",
       "    </tr>\n",
       "    <tr>\n",
       "      <th>2</th>\n",
       "      <td>1</td>\n",
       "      <td>asses; live - other</td>\n",
       "    </tr>\n",
       "    <tr>\n",
       "      <th>3</th>\n",
       "      <td>1</td>\n",
       "      <td>mules and hinnies; live-  other</td>\n",
       "    </tr>\n",
       "    <tr>\n",
       "      <th>4</th>\n",
       "      <td>1</td>\n",
       "      <td>cattle; live, purebred breeding animals - pure...</td>\n",
       "    </tr>\n",
       "    <tr>\n",
       "      <th>...</th>\n",
       "      <td>...</td>\n",
       "      <td>...</td>\n",
       "    </tr>\n",
       "    <tr>\n",
       "      <th>49132</th>\n",
       "      <td>15</td>\n",
       "      <td>adjust gear set jfkz658b</td>\n",
       "    </tr>\n",
       "    <tr>\n",
       "      <th>49133</th>\n",
       "      <td>15</td>\n",
       "      <td>aluminium window frame kf057072avat</td>\n",
       "    </tr>\n",
       "    <tr>\n",
       "      <th>49134</th>\n",
       "      <td>7</td>\n",
       "      <td>acrylic plate 4mm. size24x24 cm.</td>\n",
       "    </tr>\n",
       "    <tr>\n",
       "      <th>49135</th>\n",
       "      <td>16</td>\n",
       "      <td>ac power cord p/n 141102240p6</td>\n",
       "    </tr>\n",
       "    <tr>\n",
       "      <th>49136</th>\n",
       "      <td>17</td>\n",
       "      <td>automotive disc brake pads 220177988 db24114wd</td>\n",
       "    </tr>\n",
       "  </tbody>\n",
       "</table>\n",
       "<p>49137 rows × 2 columns</p>\n",
       "</div>"
      ],
      "text/plain": [
       "      target                                               data\n",
       "0          1  horses; live, purebred breeding animals - pure...\n",
       "1          1  horses; live, other than purebred breeding ani...\n",
       "2          1                                asses; live - other\n",
       "3          1                    mules and hinnies; live-  other\n",
       "4          1  cattle; live, purebred breeding animals - pure...\n",
       "...      ...                                                ...\n",
       "49132     15                           adjust gear set jfkz658b\n",
       "49133     15                aluminium window frame kf057072avat\n",
       "49134      7                   acrylic plate 4mm. size24x24 cm.\n",
       "49135     16                      ac power cord p/n 141102240p6\n",
       "49136     17     automotive disc brake pads 220177988 db24114wd\n",
       "\n",
       "[49137 rows x 2 columns]"
      ]
     },
     "execution_count": 9,
     "metadata": {},
     "output_type": "execute_result"
    }
   ],
   "source": [
    "import joblib\n",
    "import os\n",
    "\n",
    "%time df = joblib.load('data/train/df_master_02.pkl')\n",
    "df"
   ]
  },
  {
   "cell_type": "code",
   "execution_count": 12,
   "metadata": {
    "ExecuteTime": {
     "end_time": "2020-11-20T08:54:09.333598Z",
     "start_time": "2020-11-20T08:54:09.317611Z"
    }
   },
   "outputs": [
    {
     "data": {
      "text/html": [
       "<div>\n",
       "<style scoped>\n",
       "    .dataframe tbody tr th:only-of-type {\n",
       "        vertical-align: middle;\n",
       "    }\n",
       "\n",
       "    .dataframe tbody tr th {\n",
       "        vertical-align: top;\n",
       "    }\n",
       "\n",
       "    .dataframe thead th {\n",
       "        text-align: right;\n",
       "    }\n",
       "</style>\n",
       "<table border=\"1\" class=\"dataframe\">\n",
       "  <thead>\n",
       "    <tr style=\"text-align: right;\">\n",
       "      <th></th>\n",
       "      <th>target</th>\n",
       "      <th>data</th>\n",
       "    </tr>\n",
       "  </thead>\n",
       "  <tbody>\n",
       "    <tr>\n",
       "      <th>0</th>\n",
       "      <td>1</td>\n",
       "      <td>horses; live, purebred breeding animals - pure...</td>\n",
       "    </tr>\n",
       "    <tr>\n",
       "      <th>1</th>\n",
       "      <td>1</td>\n",
       "      <td>horses; live, other than purebred breeding ani...</td>\n",
       "    </tr>\n",
       "    <tr>\n",
       "      <th>2</th>\n",
       "      <td>1</td>\n",
       "      <td>asses; live - other</td>\n",
       "    </tr>\n",
       "    <tr>\n",
       "      <th>3</th>\n",
       "      <td>1</td>\n",
       "      <td>mules and hinnies; live-  other</td>\n",
       "    </tr>\n",
       "    <tr>\n",
       "      <th>4</th>\n",
       "      <td>1</td>\n",
       "      <td>cattle; live, purebred breeding animals - pure...</td>\n",
       "    </tr>\n",
       "    <tr>\n",
       "      <th>...</th>\n",
       "      <td>...</td>\n",
       "      <td>...</td>\n",
       "    </tr>\n",
       "    <tr>\n",
       "      <th>49132</th>\n",
       "      <td>15</td>\n",
       "      <td>adjust gear set jfkz658b</td>\n",
       "    </tr>\n",
       "    <tr>\n",
       "      <th>49133</th>\n",
       "      <td>15</td>\n",
       "      <td>aluminium window frame kf057072avat</td>\n",
       "    </tr>\n",
       "    <tr>\n",
       "      <th>49134</th>\n",
       "      <td>7</td>\n",
       "      <td>acrylic plate 4mm. size24x24 cm.</td>\n",
       "    </tr>\n",
       "    <tr>\n",
       "      <th>49135</th>\n",
       "      <td>16</td>\n",
       "      <td>ac power cord p/n 141102240p6</td>\n",
       "    </tr>\n",
       "    <tr>\n",
       "      <th>49136</th>\n",
       "      <td>17</td>\n",
       "      <td>automotive disc brake pads 220177988 db24114wd</td>\n",
       "    </tr>\n",
       "  </tbody>\n",
       "</table>\n",
       "<p>49137 rows × 2 columns</p>\n",
       "</div>"
      ],
      "text/plain": [
       "      target                                               data\n",
       "0          1  horses; live, purebred breeding animals - pure...\n",
       "1          1  horses; live, other than purebred breeding ani...\n",
       "2          1                                asses; live - other\n",
       "3          1                    mules and hinnies; live-  other\n",
       "4          1  cattle; live, purebred breeding animals - pure...\n",
       "...      ...                                                ...\n",
       "49132     15                           adjust gear set jfkz658b\n",
       "49133     15                aluminium window frame kf057072avat\n",
       "49134      7                   acrylic plate 4mm. size24x24 cm.\n",
       "49135     16                      ac power cord p/n 141102240p6\n",
       "49136     17     automotive disc brake pads 220177988 db24114wd\n",
       "\n",
       "[49137 rows x 2 columns]"
      ]
     },
     "execution_count": 12,
     "metadata": {},
     "output_type": "execute_result"
    }
   ],
   "source": [
    "x= \"1\"\n",
    "df[df['target'] == f'{x}']\n",
    "df"
   ]
  },
  {
   "cell_type": "code",
   "execution_count": null,
   "metadata": {},
   "outputs": [],
   "source": []
  },
  {
   "cell_type": "code",
   "execution_count": null,
   "metadata": {},
   "outputs": [],
   "source": []
  }
 ],
 "metadata": {
  "kernelspec": {
   "display_name": "Python 3",
   "language": "python",
   "name": "python3"
  },
  "language_info": {
   "codemirror_mode": {
    "name": "ipython",
    "version": 3
   },
   "file_extension": ".py",
   "mimetype": "text/x-python",
   "name": "python",
   "nbconvert_exporter": "python",
   "pygments_lexer": "ipython3",
   "version": "3.6.12"
  },
  "nbTranslate": {
   "displayLangs": [
    "*"
   ],
   "hotkey": "alt-t",
   "langInMainMenu": true,
   "sourceLang": "en",
   "targetLang": "fr",
   "useGoogleTranslate": true
  },
  "toc": {
   "base_numbering": 1,
   "nav_menu": {},
   "number_sections": true,
   "sideBar": true,
   "skip_h1_title": false,
   "title_cell": "Table of Contents",
   "title_sidebar": "Contents",
   "toc_cell": false,
   "toc_position": {},
   "toc_section_display": true,
   "toc_window_display": false
  }
 },
 "nbformat": 4,
 "nbformat_minor": 4
}
