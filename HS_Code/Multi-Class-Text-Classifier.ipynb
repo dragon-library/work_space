{
 "cells": [
  {
   "cell_type": "code",
   "execution_count": 3,
   "metadata": {},
   "outputs": [],
   "source": [
    "import pandas as pd\n",
    "import numpy as np\n",
    "from time import time\n",
    "from sklearn.pipeline import Pipeline\n",
    "from sklearn.feature_extraction.text import CountVectorizer\n",
    "from sklearn.svm import LinearSVC\n",
    "from sklearn.feature_extraction.text import TfidfTransformer\n",
    "from sklearn.multiclass import OneVsRestClassifier\n",
    "\n",
    "import joblib\n",
    "pd.set_option('display.max_rows', 20, \n",
    "              'display.max_columns', 100)"
   ]
  },
  {
   "cell_type": "code",
   "execution_count": 4,
   "metadata": {},
   "outputs": [],
   "source": [
    "\n",
    "#urls = 'https://github.com/dragon-library/work_space/raw/main/HS_Code/HS/hs_code.xlsx'\n",
    "urls = 'data/hs_code.xlsx'\n",
    "types = 'section'\n",
    "\n",
    "\n",
    "def get_master(urls,sheets,types = 'section'):\n",
    "    data = pd.read_excel(urls,sheet_name= sheets)\n",
    "    data[types] = data[types].map('{:02}'.format)\n",
    "    data = data[[types,'description']]\n",
    "    data['description'] = data['description'].str.lower()\n",
    " #   data = data.rename(columns={'heading' : 'target', 'product_desc' : 'question_text'})\n",
    "     \n",
    "\n",
    "    return data\n",
    "\n",
    "def manage_data(df):\n",
    "    df.columns = ['target', 'description']   \n",
    "    \n",
    "    \n",
    "    return df"
   ]
  },
  {
   "cell_type": "code",
   "execution_count": 5,
   "metadata": {},
   "outputs": [
    {
     "name": "stdout",
     "output_type": "stream",
     "text": [
      "Wall time: 1min\n"
     ]
    },
    {
     "data": {
      "text/html": [
       "<div>\n",
       "<style scoped>\n",
       "    .dataframe tbody tr th:only-of-type {\n",
       "        vertical-align: middle;\n",
       "    }\n",
       "\n",
       "    .dataframe tbody tr th {\n",
       "        vertical-align: top;\n",
       "    }\n",
       "\n",
       "    .dataframe thead th {\n",
       "        text-align: right;\n",
       "    }\n",
       "</style>\n",
       "<table border=\"1\" class=\"dataframe\">\n",
       "  <thead>\n",
       "    <tr style=\"text-align: right;\">\n",
       "      <th></th>\n",
       "      <th>section</th>\n",
       "      <th>description</th>\n",
       "    </tr>\n",
       "  </thead>\n",
       "  <tbody>\n",
       "    <tr>\n",
       "      <th>0</th>\n",
       "      <td>17</td>\n",
       "      <td>face set,movable</td>\n",
       "    </tr>\n",
       "    <tr>\n",
       "      <th>1</th>\n",
       "      <td>03</td>\n",
       "      <td>rbd palm olein,packing:5 liters/bottle(=18.240...</td>\n",
       "    </tr>\n",
       "    <tr>\n",
       "      <th>2</th>\n",
       "      <td>16</td>\n",
       "      <td>fuel injection device</td>\n",
       "    </tr>\n",
       "    <tr>\n",
       "      <th>3</th>\n",
       "      <td>17</td>\n",
       "      <td>body(r),front door</td>\n",
       "    </tr>\n",
       "    <tr>\n",
       "      <th>4</th>\n",
       "      <td>16</td>\n",
       "      <td>cap, wiper arm head</td>\n",
       "    </tr>\n",
       "    <tr>\n",
       "      <th>...</th>\n",
       "      <td>...</td>\n",
       "      <td>...</td>\n",
       "    </tr>\n",
       "    <tr>\n",
       "      <th>19995</th>\n",
       "      <td>06</td>\n",
       "      <td>degreasing powder</td>\n",
       "    </tr>\n",
       "    <tr>\n",
       "      <th>19996</th>\n",
       "      <td>06</td>\n",
       "      <td>colgate advanced whitening toothpaste 160 g.(l...</td>\n",
       "    </tr>\n",
       "    <tr>\n",
       "      <th>19997</th>\n",
       "      <td>14</td>\n",
       "      <td>offspring ring 433 silver 3</td>\n",
       "    </tr>\n",
       "    <tr>\n",
       "      <th>19998</th>\n",
       "      <td>03</td>\n",
       "      <td>used cooking oil</td>\n",
       "    </tr>\n",
       "    <tr>\n",
       "      <th>19999</th>\n",
       "      <td>07</td>\n",
       "      <td>fb3q   6c301 ja belt drive 7pk 3110</td>\n",
       "    </tr>\n",
       "  </tbody>\n",
       "</table>\n",
       "<p>20000 rows × 2 columns</p>\n",
       "</div>"
      ],
      "text/plain": [
       "      section                                        description\n",
       "0          17                                   face set,movable\n",
       "1          03  rbd palm olein,packing:5 liters/bottle(=18.240...\n",
       "2          16                              fuel injection device\n",
       "3          17                                 body(r),front door\n",
       "4          16                                cap, wiper arm head\n",
       "...       ...                                                ...\n",
       "19995      06                                  degreasing powder\n",
       "19996      06  colgate advanced whitening toothpaste 160 g.(l...\n",
       "19997      14                        offspring ring 433 silver 3\n",
       "19998      03                                   used cooking oil\n",
       "19999      07                fb3q   6c301 ja belt drive 7pk 3110\n",
       "\n",
       "[20000 rows x 2 columns]"
      ]
     },
     "execution_count": 5,
     "metadata": {},
     "output_type": "execute_result"
    }
   ],
   "source": [
    "%%time\n",
    "\n",
    "urls = 'data/random_test.xlsx'\n",
    "types = \"section\"\n",
    "\n",
    "sheets = 'Sheet1'\n",
    "data = get_master(urls,sheets,types)\n",
    "#data.dropna(inplace=True)\n",
    "declarations = data[0:20000]\n",
    "declarations "
   ]
  },
  {
   "cell_type": "code",
   "execution_count": 6,
   "metadata": {},
   "outputs": [
    {
     "name": "stdout",
     "output_type": "stream",
     "text": [
      "Wall time: 1min 27s\n"
     ]
    },
    {
     "data": {
      "text/html": [
       "<div>\n",
       "<style scoped>\n",
       "    .dataframe tbody tr th:only-of-type {\n",
       "        vertical-align: middle;\n",
       "    }\n",
       "\n",
       "    .dataframe tbody tr th {\n",
       "        vertical-align: top;\n",
       "    }\n",
       "\n",
       "    .dataframe thead th {\n",
       "        text-align: right;\n",
       "    }\n",
       "</style>\n",
       "<table border=\"1\" class=\"dataframe\">\n",
       "  <thead>\n",
       "    <tr style=\"text-align: right;\">\n",
       "      <th></th>\n",
       "      <th>target</th>\n",
       "      <th>description</th>\n",
       "    </tr>\n",
       "  </thead>\n",
       "  <tbody>\n",
       "    <tr>\n",
       "      <th>0</th>\n",
       "      <td>01</td>\n",
       "      <td>horses; live, purebred breeding animals - pure...</td>\n",
       "    </tr>\n",
       "    <tr>\n",
       "      <th>1</th>\n",
       "      <td>01</td>\n",
       "      <td>horses; live, other than purebred breeding ani...</td>\n",
       "    </tr>\n",
       "    <tr>\n",
       "      <th>2</th>\n",
       "      <td>01</td>\n",
       "      <td>asses; live - other</td>\n",
       "    </tr>\n",
       "    <tr>\n",
       "      <th>3</th>\n",
       "      <td>01</td>\n",
       "      <td>mules and hinnies; live-  other</td>\n",
       "    </tr>\n",
       "    <tr>\n",
       "      <th>4</th>\n",
       "      <td>01</td>\n",
       "      <td>cattle; live, purebred breeding animals - pure...</td>\n",
       "    </tr>\n",
       "    <tr>\n",
       "      <th>...</th>\n",
       "      <td>...</td>\n",
       "      <td>...</td>\n",
       "    </tr>\n",
       "    <tr>\n",
       "      <th>37214</th>\n",
       "      <td>06</td>\n",
       "      <td>degreasing powder</td>\n",
       "    </tr>\n",
       "    <tr>\n",
       "      <th>37215</th>\n",
       "      <td>06</td>\n",
       "      <td>colgate advanced whitening toothpaste 160 g.(l...</td>\n",
       "    </tr>\n",
       "    <tr>\n",
       "      <th>37216</th>\n",
       "      <td>14</td>\n",
       "      <td>offspring ring 433 silver 3</td>\n",
       "    </tr>\n",
       "    <tr>\n",
       "      <th>37217</th>\n",
       "      <td>03</td>\n",
       "      <td>used cooking oil</td>\n",
       "    </tr>\n",
       "    <tr>\n",
       "      <th>37218</th>\n",
       "      <td>07</td>\n",
       "      <td>fb3q   6c301 ja belt drive 7pk 3110</td>\n",
       "    </tr>\n",
       "  </tbody>\n",
       "</table>\n",
       "<p>37219 rows × 2 columns</p>\n",
       "</div>"
      ],
      "text/plain": [
       "      target                                        description\n",
       "0         01  horses; live, purebred breeding animals - pure...\n",
       "1         01  horses; live, other than purebred breeding ani...\n",
       "2         01                                asses; live - other\n",
       "3         01                    mules and hinnies; live-  other\n",
       "4         01  cattle; live, purebred breeding animals - pure...\n",
       "...      ...                                                ...\n",
       "37214     06                                  degreasing powder\n",
       "37215     06  colgate advanced whitening toothpaste 160 g.(l...\n",
       "37216     14                        offspring ring 433 silver 3\n",
       "37217     03                                   used cooking oil\n",
       "37218     07                fb3q   6c301 ja belt drive 7pk 3110\n",
       "\n",
       "[37219 rows x 2 columns]"
      ]
     },
     "execution_count": 6,
     "metadata": {},
     "output_type": "execute_result"
    }
   ],
   "source": [
    "%%time\n",
    "urls = 'data/hs_code.xlsx'\n",
    "types = \"section\"\n",
    "\n",
    "sheets = '8_digit'\n",
    "inputs_01 = get_master(urls,sheets,types)\n",
    "sheets = '2_digit'\n",
    "inputs_02 = get_master(urls,sheets,types)\n",
    "sheets = '6_digit'\n",
    "inputs_03 = get_master(urls,sheets,types)\n",
    "sheets = '4_digit'\n",
    "inputs_04 = get_master(urls,sheets,types)\n",
    "\n",
    "data = pd.concat([inputs_01,inputs_02,inputs_03,inputs_04,declarations], ignore_index=True)\n",
    "data = manage_data(data)\n",
    "\n",
    "data"
   ]
  },
  {
   "cell_type": "code",
   "execution_count": 7,
   "metadata": {},
   "outputs": [
    {
     "data": {
      "text/plain": [
       "Counter({'01': 983,\n",
       "         '02': 1053,\n",
       "         '03': 265,\n",
       "         '04': 2047,\n",
       "         '05': 593,\n",
       "         '06': 3279,\n",
       "         '07': 4191,\n",
       "         '08': 271,\n",
       "         '09': 463,\n",
       "         '10': 686,\n",
       "         '11': 2834,\n",
       "         '12': 276,\n",
       "         '13': 772,\n",
       "         '14': 637,\n",
       "         '15': 4113,\n",
       "         '16': 7774,\n",
       "         '17': 4802,\n",
       "         '18': 1039,\n",
       "         '19': 56,\n",
       "         '20': 1051,\n",
       "         '21': 34})"
      ]
     },
     "execution_count": 7,
     "metadata": {},
     "output_type": "execute_result"
    }
   ],
   "source": [
    "from collections import Counter\n",
    "\n",
    "Counter(data[\"target\"])"
   ]
  },
  {
   "cell_type": "code",
   "execution_count": 8,
   "metadata": {},
   "outputs": [],
   "source": [
    "import re \n",
    "def clean_str(string):\n",
    "    \"\"\"\n",
    "    Tokenization/string cleaning for dataset\n",
    "    Every dataset is lower cased except\n",
    "    \"\"\"\n",
    "    string = re.sub(r\"\\n\", \"\", string)    \n",
    "    string = re.sub(r\"\\r\", \"\", string) \n",
    "    string = re.sub(r\"[0-9]\", \"digit\", string)\n",
    "    string = re.sub(r\"\\'\", \"\", string)    \n",
    "    string = re.sub(r\"\\\"\", \"\", string)    \n",
    "    return string.strip().lower()"
   ]
  },
  {
   "cell_type": "code",
   "execution_count": 10,
   "metadata": {},
   "outputs": [
    {
     "name": "stdout",
     "output_type": "stream",
     "text": [
      "train test split dataset\n",
      "Wall time: 3.44 s\n"
     ]
    }
   ],
   "source": [
    "%%time\n",
    "\n",
    "print(\"train test split dataset\")\n",
    "#train test split\n",
    "df = data.copy()\n",
    "from sklearn.model_selection import train_test_split\n",
    "X = []\n",
    "for i in range(df.shape[0]):\n",
    "    X.append(clean_str(df.iloc[i][1]))\n",
    "y = np.array(df[\"target\"])\n",
    "X_train, X_test, y_train, y_test = train_test_split(X, y, test_size=0.3, random_state=5)"
   ]
  },
  {
   "cell_type": "code",
   "execution_count": 11,
   "metadata": {},
   "outputs": [
    {
     "name": "stdout",
     "output_type": "stream",
     "text": [
      "Training: \n",
      "paramater selection\n"
     ]
    },
    {
     "name": "stderr",
     "output_type": "stream",
     "text": [
      "C:\\Users\\Yo\\anaconda3\\lib\\site-packages\\sklearn\\svm\\_base.py:976: ConvergenceWarning: Liblinear failed to converge, increase the number of iterations.\n",
      "  warnings.warn(\"Liblinear failed to converge, increase \"\n"
     ]
    },
    {
     "name": "stdout",
     "output_type": "stream",
     "text": [
      "0.8489189811039631\n",
      "{'tfidf__use_idf': True, 'vectorizer__ngram_range': (1, 2)}\n"
     ]
    }
   ],
   "source": [
    "#feature engineering and model selection\n",
    "from sklearn.svm import LinearSVC\n",
    "from sklearn.linear_model import LogisticRegression\n",
    "from sklearn.ensemble import RandomForestClassifier\n",
    "\n",
    "\n",
    "print(\"Training: \")\n",
    "\n",
    "#pipeline of feature engineering and model\n",
    "t0 = time()\n",
    "model = Pipeline([('vectorizer', CountVectorizer()),\n",
    "    ('tfidf', TfidfTransformer()),\n",
    "    ('clf', OneVsRestClassifier(LinearSVC(class_weight=\"balanced\")))])\n",
    "\n",
    "print(\"paramater selection\")\n",
    "#paramater selection\n",
    "from sklearn.model_selection import GridSearchCV\n",
    "parameters = {'vectorizer__ngram_range': [(1, 1), (1, 2),(2,2)],\n",
    "               'tfidf__use_idf': (True, False)}\n",
    "\n",
    "gs_clf_svm = GridSearchCV(model, parameters, n_jobs=-1)\n",
    "gs_clf_svm = gs_clf_svm.fit(X, y)\n",
    "print(gs_clf_svm.best_score_)\n",
    "print(gs_clf_svm.best_params_)"
   ]
  },
  {
   "cell_type": "code",
   "execution_count": 12,
   "metadata": {},
   "outputs": [
    {
     "name": "stdout",
     "output_type": "stream",
     "text": [
      "preparing the final pipeline using the selected parameters\n",
      "fit model with training data\n"
     ]
    },
    {
     "name": "stderr",
     "output_type": "stream",
     "text": [
      "C:\\Users\\Yo\\anaconda3\\lib\\site-packages\\sklearn\\svm\\_base.py:976: ConvergenceWarning: Liblinear failed to converge, increase the number of iterations.\n",
      "  warnings.warn(\"Liblinear failed to converge, increase \"\n"
     ]
    },
    {
     "name": "stdout",
     "output_type": "stream",
     "text": [
      "train time: 437.551s\n",
      "test time:  0.378s\n"
     ]
    }
   ],
   "source": [
    "#preparing the final pipeline using the selected parameters\n",
    "print(\"preparing the final pipeline using the selected parameters\")\n",
    "model = Pipeline([('vectorizer', CountVectorizer(ngram_range=(1,2))),\n",
    "    ('tfidf', TfidfTransformer(use_idf=True)),\n",
    "    ('clf', OneVsRestClassifier(LinearSVC(class_weight=\"balanced\")))])\n",
    "\n",
    "#fit model with training data\n",
    "print(\"fit model with training data\")\n",
    "model.fit(X_train, y_train)\n",
    "train_time = time() - t0\n",
    "print(\"train time: %0.3fs\" % train_time)\n",
    "\n",
    "#evaluation on test data\n",
    "t0 = time()\n",
    "pred = model.predict(X_test)\n",
    "test_time = time() - t0\n",
    "print(\"test time:  %0.3fs\" % test_time)"
   ]
  },
  {
   "cell_type": "code",
   "execution_count": 13,
   "metadata": {},
   "outputs": [
    {
     "data": {
      "text/plain": [
       "array([[ 265,    1,    0,    0,    0,    2,    1,    0,    0,    0,    0,\n",
       "           0,    0,    1,    0,    1,    0,    0,    0,    1,    0],\n",
       "       [   0,  306,    1,    4,    0,    1,    1,    0,    1,    0,    0,\n",
       "           0,    2,    0,    4,    0,    0,    0,    0,    0,    0],\n",
       "       [   0,    0,   74,    0,    0,    0,    0,    0,    0,    0,    0,\n",
       "           0,    0,    0,    0,    0,    0,    0,    0,    0,    0],\n",
       "       [   1,    9,    0,  537,    3,   48,   29,    0,    1,    0,    6,\n",
       "           3,    7,    4,   14,   14,    7,    6,    0,    9,    0],\n",
       "       [   0,    0,    0,    0,  181,    1,    0,    0,    0,    0,    0,\n",
       "           0,    0,    0,    0,    0,    0,    0,    0,    1,    0],\n",
       "       [   0,    0,    1,    4,    2,  893,    8,    1,    0,    1,    1,\n",
       "           0,    3,    1,    6,    3,    1,    1,    0,    4,    0],\n",
       "       [   0,    0,    0,    5,    5,   13, 1050,    1,    2,    7,    7,\n",
       "           1,    5,    2,   41,   45,   67,    5,    0,   16,    0],\n",
       "       [   0,    0,    0,    0,    1,    0,    0,   72,    0,    0,    0,\n",
       "           0,    0,    0,    0,    0,    0,    0,    0,    1,    0],\n",
       "       [   0,    0,    0,    0,    0,    0,    0,    0,  145,    1,    0,\n",
       "           0,    0,    0,    0,    0,    0,    0,    0,    1,    0],\n",
       "       [   0,    0,    0,    0,    0,    2,    0,    0,    0,  185,    3,\n",
       "           0,    0,    0,    1,    1,    2,    0,    0,    3,    0],\n",
       "       [   0,    0,    0,    0,    0,    2,    4,    1,    0,    0,  806,\n",
       "           1,    3,    0,    3,    2,    0,    1,    0,    2,    0],\n",
       "       [   0,    0,    0,    0,    0,    0,    1,    0,    0,    1,    1,\n",
       "          77,    0,    0,    0,    2,    1,    0,    0,    1,    0],\n",
       "       [   0,    2,    1,    0,    1,    6,    1,    0,    1,    0,    0,\n",
       "           0,  219,    1,    2,    3,   10,    1,    0,    0,    0],\n",
       "       [   0,    0,    0,    0,    2,    1,    0,    0,    0,    0,    0,\n",
       "           0,    1,  189,    1,    0,    1,    0,    0,    1,    1],\n",
       "       [   0,    0,    0,    1,    0,    5,   25,    0,    0,    0,    3,\n",
       "           3,    6,    2, 1078,   28,   39,    7,    0,    5,    0],\n",
       "       [   0,    0,    1,    3,    1,   10,   45,    3,    0,    4,    2,\n",
       "           0,    2,    2,   32, 2115,   68,   23,    0,    8,    1],\n",
       "       [   0,    0,    0,    0,    0,    3,   86,    0,    0,    1,    4,\n",
       "           0,    2,    0,   82,   68, 1253,   12,    0,   10,    0],\n",
       "       [   0,    0,    0,    1,    0,    1,    3,    0,    0,    0,    1,\n",
       "           0,    0,    0,    2,   15,    3,  254,    0,    0,    0],\n",
       "       [   0,    0,    0,    0,    0,    0,    0,    0,    0,    0,    0,\n",
       "           0,    0,    0,    0,    0,    0,    0,   14,    0,    0],\n",
       "       [   0,    0,    0,    1,    0,    1,    4,    0,    0,    2,    5,\n",
       "           0,    3,    0,    5,    3,    1,    0,    0,  275,    0],\n",
       "       [   0,    0,    0,    0,    0,    0,    0,    0,    0,    0,    0,\n",
       "           0,    0,    0,    1,    0,    0,    0,    0,    0,    7]],\n",
       "      dtype=int64)"
      ]
     },
     "execution_count": 13,
     "metadata": {},
     "output_type": "execute_result"
    }
   ],
   "source": [
    "from sklearn.metrics import confusion_matrix, accuracy_score\n",
    "\n",
    "confusion_matrix(pred, y_test)"
   ]
  },
  {
   "cell_type": "code",
   "execution_count": 14,
   "metadata": {},
   "outputs": [
    {
     "data": {
      "text/plain": [
       "0.8951280673473043"
      ]
     },
     "execution_count": 14,
     "metadata": {},
     "output_type": "execute_result"
    }
   ],
   "source": [
    "accuracy_score(y_test, pred)"
   ]
  },
  {
   "cell_type": "code",
   "execution_count": 15,
   "metadata": {},
   "outputs": [
    {
     "name": "stdout",
     "output_type": "stream",
     "text": [
      "              precision    recall  f1-score   support\n",
      "\n",
      "          01       0.97      1.00      0.99       266\n",
      "          02       0.96      0.96      0.96       318\n",
      "          03       1.00      0.95      0.97        78\n",
      "          04       0.77      0.97      0.86       556\n",
      "          05       0.99      0.92      0.96       196\n",
      "          06       0.96      0.90      0.93       989\n",
      "          07       0.83      0.83      0.83      1258\n",
      "          08       0.97      0.92      0.95        78\n",
      "          09       0.99      0.97      0.98       150\n",
      "          10       0.94      0.92      0.93       202\n",
      "          11       0.98      0.96      0.97       839\n",
      "          12       0.92      0.91      0.91        85\n",
      "          13       0.88      0.87      0.87       253\n",
      "          14       0.96      0.94      0.95       202\n",
      "          15       0.90      0.85      0.87      1272\n",
      "          16       0.91      0.92      0.92      2300\n",
      "          17       0.82      0.86      0.84      1453\n",
      "          18       0.91      0.82      0.86       310\n",
      "          19       1.00      1.00      1.00        14\n",
      "          20       0.92      0.81      0.86       338\n",
      "          21       0.88      0.78      0.82         9\n",
      "\n",
      "    accuracy                           0.90     11166\n",
      "   macro avg       0.93      0.91      0.92     11166\n",
      "weighted avg       0.90      0.90      0.90     11166\n",
      "\n"
     ]
    }
   ],
   "source": [
    "from sklearn.metrics import classification_report\n",
    "\n",
    "print (classification_report(y_test, pred))"
   ]
  },
  {
   "cell_type": "code",
   "execution_count": null,
   "metadata": {},
   "outputs": [],
   "source": []
  }
 ],
 "metadata": {
  "kernelspec": {
   "display_name": "Python 3",
   "language": "python",
   "name": "python3"
  },
  "language_info": {
   "codemirror_mode": {
    "name": "ipython",
    "version": 3
   },
   "file_extension": ".py",
   "mimetype": "text/x-python",
   "name": "python",
   "nbconvert_exporter": "python",
   "pygments_lexer": "ipython3",
   "version": "3.8.5"
  },
  "latex_envs": {
   "LaTeX_envs_menu_present": true,
   "autoclose": false,
   "autocomplete": true,
   "bibliofile": "biblio.bib",
   "cite_by": "apalike",
   "current_citInitial": 1,
   "eqLabelWithNumbers": true,
   "eqNumInitial": 1,
   "hotkeys": {
    "equation": "Ctrl-E",
    "itemize": "Ctrl-I"
   },
   "labels_anchors": false,
   "latex_user_defs": false,
   "report_style_numbering": false,
   "user_envs_cfg": false
  },
  "toc": {
   "base_numbering": 1,
   "nav_menu": {},
   "number_sections": true,
   "sideBar": true,
   "skip_h1_title": false,
   "title_cell": "Table of Contents",
   "title_sidebar": "Contents",
   "toc_cell": false,
   "toc_position": {},
   "toc_section_display": true,
   "toc_window_display": false
  }
 },
 "nbformat": 4,
 "nbformat_minor": 4
}
