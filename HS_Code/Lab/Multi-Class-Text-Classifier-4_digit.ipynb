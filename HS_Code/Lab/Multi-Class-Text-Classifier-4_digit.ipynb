{
 "cells": [
  {
   "cell_type": "markdown",
   "metadata": {},
   "source": [
    "A Production ready Multi-Class Text Classifier\n",
    "==\n",
    "\n",
    "- [Reference :](https://towardsdatascience.com/a-production-ready-multi-class-text-classifier-96490408757)"
   ]
  },
  {
   "cell_type": "code",
   "execution_count": 3,
   "metadata": {
    "ExecuteTime": {
     "end_time": "2020-11-17T14:17:17.208197Z",
     "start_time": "2020-11-17T14:17:17.189194Z"
    }
   },
   "outputs": [],
   "source": [
    "import warnings\n",
    "warnings.filterwarnings('ignore')\n",
    "%matplotlib inline\n",
    "\n",
    "from pathlib import Path\n",
    "import numpy as np\n",
    "import pandas as pd\n",
    "from time import time\n",
    "# Visualization\n",
    "import matplotlib.pyplot as plt\n",
    "import seaborn as sns\n",
    "import joblib\n",
    "\n",
    "\n",
    "\n",
    "from sklearn.pipeline import Pipeline\n",
    "from sklearn.feature_extraction.text import CountVectorizer\n",
    "from sklearn.svm import LinearSVC\n",
    "from sklearn.feature_extraction.text import TfidfTransformer\n",
    "from sklearn.multiclass import OneVsRestClassifier\n",
    "\n",
    "\n",
    "#urls = 'https://github.com/dragon-library/work_space/raw/main/HS_Code/HS/hs_code.xlsx'\n",
    "urls = 'data/hs_code.xlsx'\n",
    "types = 'heading'\n",
    "#types = \"chapter\"\n",
    "\n",
    "def get_master(sheets,types = 'section'):\n",
    "    data = pd.read_excel(urls,sheet_name= sheets)\n",
    "    #data[types] = data[types].map('{:04}'.format)\n",
    "    data = data[[types,'description']]\n",
    "    data['description'] = data['description'].str.lower()\n",
    " #   data = data.rename(columns={'heading' : 'target', 'product_desc' : 'question_text'})\n",
    "     \n",
    "\n",
    "    return data\n",
    "\n",
    "def manage_data(df):\n",
    "    df.columns =  ['target', 'data'] \n",
    "    \n",
    "    \n",
    "    return df\n",
    "\n"
   ]
  },
  {
   "cell_type": "code",
   "execution_count": 4,
   "metadata": {
    "ExecuteTime": {
     "end_time": "2020-11-17T14:18:48.889544Z",
     "start_time": "2020-11-17T14:17:17.991833Z"
    }
   },
   "outputs": [
    {
     "name": "stdout",
     "output_type": "stream",
     "text": [
      "Load the dataset: Section\n",
      "Load dataset time:  90.864s\n"
     ]
    },
    {
     "data": {
      "text/html": [
       "<div>\n",
       "<style scoped>\n",
       "    .dataframe tbody tr th:only-of-type {\n",
       "        vertical-align: middle;\n",
       "    }\n",
       "\n",
       "    .dataframe tbody tr th {\n",
       "        vertical-align: top;\n",
       "    }\n",
       "\n",
       "    .dataframe thead th {\n",
       "        text-align: right;\n",
       "    }\n",
       "</style>\n",
       "<table border=\"1\" class=\"dataframe\">\n",
       "  <thead>\n",
       "    <tr style=\"text-align: right;\">\n",
       "      <th></th>\n",
       "      <th>target</th>\n",
       "      <th>data</th>\n",
       "    </tr>\n",
       "  </thead>\n",
       "  <tbody>\n",
       "    <tr>\n",
       "      <th>0</th>\n",
       "      <td>0101</td>\n",
       "      <td>horses; live, purebred breeding animals - pure...</td>\n",
       "    </tr>\n",
       "    <tr>\n",
       "      <th>1</th>\n",
       "      <td>0101</td>\n",
       "      <td>horses; live, other than purebred breeding ani...</td>\n",
       "    </tr>\n",
       "    <tr>\n",
       "      <th>2</th>\n",
       "      <td>0101</td>\n",
       "      <td>asses; live - other</td>\n",
       "    </tr>\n",
       "    <tr>\n",
       "      <th>3</th>\n",
       "      <td>0101</td>\n",
       "      <td>mules and hinnies; live-  other</td>\n",
       "    </tr>\n",
       "    <tr>\n",
       "      <th>4</th>\n",
       "      <td>0102</td>\n",
       "      <td>cattle; live, purebred breeding animals - pure...</td>\n",
       "    </tr>\n",
       "  </tbody>\n",
       "</table>\n",
       "</div>"
      ],
      "text/plain": [
       "  target                                               data\n",
       "0   0101  horses; live, purebred breeding animals - pure...\n",
       "1   0101  horses; live, other than purebred breeding ani...\n",
       "2   0101                                asses; live - other\n",
       "3   0101                    mules and hinnies; live-  other\n",
       "4   0102  cattle; live, purebred breeding animals - pure..."
      ]
     },
     "execution_count": 4,
     "metadata": {},
     "output_type": "execute_result"
    }
   ],
   "source": [
    "types = \"heading\"\n",
    "#types = \"chapter\"\n",
    "\n",
    "print(\"Load the dataset: Section\")\n",
    "t0 = time()\n",
    "\n",
    "sheets = '8_digit'\n",
    "eights = get_master(sheets,types)\n",
    "sheets = '6_digit'\n",
    "sixs = get_master(sheets,types)\n",
    "sheets = '4_digit'\n",
    "fours = get_master(sheets,types)\n",
    "#sheets = '2_digit'\n",
    "#twos = get_master(sheets,types)\n",
    "\n",
    "sheets = 'test_01'\n",
    "tests = get_master(sheets,types)\n",
    "\n",
    "sheets = 'Declaration_2019_10'\n",
    "decl = get_master(sheets,types)\n",
    "\n",
    "data = pd.concat([eights,sixs,fours,tests,decl], ignore_index=True)\n",
    "df = manage_data(data)\n",
    "\n",
    "\n",
    "#twenty_test = manage_data(tests)\n",
    "load_time = time() - t0\n",
    "print(\"Load dataset time:  %0.3fs\" % load_time)\n",
    "\n",
    "df.head()"
   ]
  },
  {
   "cell_type": "code",
   "execution_count": 5,
   "metadata": {
    "ExecuteTime": {
     "end_time": "2020-11-17T14:18:48.905546Z",
     "start_time": "2020-11-17T14:18:48.892550Z"
    }
   },
   "outputs": [
    {
     "data": {
      "text/plain": [
       "49041"
      ]
     },
     "execution_count": 5,
     "metadata": {},
     "output_type": "execute_result"
    }
   ],
   "source": [
    "len(df)"
   ]
  },
  {
   "cell_type": "code",
   "execution_count": 6,
   "metadata": {
    "ExecuteTime": {
     "end_time": "2020-11-17T14:18:48.937545Z",
     "start_time": "2020-11-17T14:18:48.910546Z"
    }
   },
   "outputs": [
    {
     "data": {
      "text/html": [
       "<div>\n",
       "<style scoped>\n",
       "    .dataframe tbody tr th:only-of-type {\n",
       "        vertical-align: middle;\n",
       "    }\n",
       "\n",
       "    .dataframe tbody tr th {\n",
       "        vertical-align: top;\n",
       "    }\n",
       "\n",
       "    .dataframe thead th {\n",
       "        text-align: right;\n",
       "    }\n",
       "</style>\n",
       "<table border=\"1\" class=\"dataframe\">\n",
       "  <thead>\n",
       "    <tr style=\"text-align: right;\">\n",
       "      <th></th>\n",
       "      <th>target</th>\n",
       "      <th>data</th>\n",
       "    </tr>\n",
       "  </thead>\n",
       "  <tbody>\n",
       "    <tr>\n",
       "      <th>49021</th>\n",
       "      <td>7604</td>\n",
       "      <td>aluminium extrusion bar ycbt604</td>\n",
       "    </tr>\n",
       "    <tr>\n",
       "      <th>49022</th>\n",
       "      <td>7610</td>\n",
       "      <td>aluminium fitting txjbr625173</td>\n",
       "    </tr>\n",
       "    <tr>\n",
       "      <th>49023</th>\n",
       "      <td>7610</td>\n",
       "      <td>aluminium window frame kb157112asaa</td>\n",
       "    </tr>\n",
       "    <tr>\n",
       "      <th>49024</th>\n",
       "      <td>8506</td>\n",
       "      <td>automotive batteries wet charged model  75d23r</td>\n",
       "    </tr>\n",
       "    <tr>\n",
       "      <th>49025</th>\n",
       "      <td>8517</td>\n",
       "      <td>a/s jdmkey fpcb_volume key_a107f_svcsm</td>\n",
       "    </tr>\n",
       "    <tr>\n",
       "      <th>49026</th>\n",
       "      <td>8708</td>\n",
       "      <td>assy tire 11.224 rot</td>\n",
       "    </tr>\n",
       "    <tr>\n",
       "      <th>49027</th>\n",
       "      <td>7604</td>\n",
       "      <td>aluminium extrusion bar ycrk601</td>\n",
       "    </tr>\n",
       "    <tr>\n",
       "      <th>49028</th>\n",
       "      <td>8421</td>\n",
       "      <td>assy elementfuel</td>\n",
       "    </tr>\n",
       "    <tr>\n",
       "      <th>49029</th>\n",
       "      <td>7610</td>\n",
       "      <td>aluminium window frame t02609abbb</td>\n",
       "    </tr>\n",
       "    <tr>\n",
       "      <th>49030</th>\n",
       "      <td>7610</td>\n",
       "      <td>aluminium ornament for door cc0010dnje</td>\n",
       "    </tr>\n",
       "    <tr>\n",
       "      <th>49031</th>\n",
       "      <td>7610</td>\n",
       "      <td>aluminium window frame aaabaabz165132</td>\n",
       "    </tr>\n",
       "    <tr>\n",
       "      <th>49032</th>\n",
       "      <td>7610</td>\n",
       "      <td>aluminium window frame w02609abbb</td>\n",
       "    </tr>\n",
       "    <tr>\n",
       "      <th>49033</th>\n",
       "      <td>7610</td>\n",
       "      <td>aluminium ornament for door kh111peac</td>\n",
       "    </tr>\n",
       "    <tr>\n",
       "      <th>49034</th>\n",
       "      <td>7610</td>\n",
       "      <td>aluminium window frame tf116112asaa</td>\n",
       "    </tr>\n",
       "    <tr>\n",
       "      <th>49035</th>\n",
       "      <td>8543</td>\n",
       "      <td>assy lp kit</td>\n",
       "    </tr>\n",
       "    <tr>\n",
       "      <th>49036</th>\n",
       "      <td>8302</td>\n",
       "      <td>adjust gear set jfkz658b</td>\n",
       "    </tr>\n",
       "    <tr>\n",
       "      <th>49037</th>\n",
       "      <td>7610</td>\n",
       "      <td>aluminium window frame kf057072avat</td>\n",
       "    </tr>\n",
       "    <tr>\n",
       "      <th>49038</th>\n",
       "      <td>3926</td>\n",
       "      <td>acrylic plate 4mm. size24x24 cm.</td>\n",
       "    </tr>\n",
       "    <tr>\n",
       "      <th>49039</th>\n",
       "      <td>8544</td>\n",
       "      <td>ac power cord p/n 141102240p6</td>\n",
       "    </tr>\n",
       "    <tr>\n",
       "      <th>49040</th>\n",
       "      <td>8708</td>\n",
       "      <td>automotive disc brake pads 220177988 db24114wd</td>\n",
       "    </tr>\n",
       "  </tbody>\n",
       "</table>\n",
       "</div>"
      ],
      "text/plain": [
       "      target                                            data\n",
       "49021   7604                 aluminium extrusion bar ycbt604\n",
       "49022   7610                   aluminium fitting txjbr625173\n",
       "49023   7610             aluminium window frame kb157112asaa\n",
       "49024   8506  automotive batteries wet charged model  75d23r\n",
       "49025   8517          a/s jdmkey fpcb_volume key_a107f_svcsm\n",
       "49026   8708                            assy tire 11.224 rot\n",
       "49027   7604                 aluminium extrusion bar ycrk601\n",
       "49028   8421                                assy elementfuel\n",
       "49029   7610               aluminium window frame t02609abbb\n",
       "49030   7610          aluminium ornament for door cc0010dnje\n",
       "49031   7610           aluminium window frame aaabaabz165132\n",
       "49032   7610               aluminium window frame w02609abbb\n",
       "49033   7610           aluminium ornament for door kh111peac\n",
       "49034   7610             aluminium window frame tf116112asaa\n",
       "49035   8543                                     assy lp kit\n",
       "49036   8302                        adjust gear set jfkz658b\n",
       "49037   7610             aluminium window frame kf057072avat\n",
       "49038   3926                acrylic plate 4mm. size24x24 cm.\n",
       "49039   8544                   ac power cord p/n 141102240p6\n",
       "49040   8708  automotive disc brake pads 220177988 db24114wd"
      ]
     },
     "execution_count": 6,
     "metadata": {},
     "output_type": "execute_result"
    }
   ],
   "source": [
    "df.tail(20)"
   ]
  },
  {
   "cell_type": "code",
   "execution_count": 35,
   "metadata": {
    "ExecuteTime": {
     "end_time": "2020-11-17T14:51:17.815509Z",
     "start_time": "2020-11-17T14:51:17.777515Z"
    }
   },
   "outputs": [
    {
     "data": {
      "text/html": [
       "<div>\n",
       "<style scoped>\n",
       "    .dataframe tbody tr th:only-of-type {\n",
       "        vertical-align: middle;\n",
       "    }\n",
       "\n",
       "    .dataframe tbody tr th {\n",
       "        vertical-align: top;\n",
       "    }\n",
       "\n",
       "    .dataframe thead th {\n",
       "        text-align: right;\n",
       "    }\n",
       "</style>\n",
       "<table border=\"1\" class=\"dataframe\">\n",
       "  <thead>\n",
       "    <tr style=\"text-align: right;\">\n",
       "      <th></th>\n",
       "      <th>target</th>\n",
       "      <th>data</th>\n",
       "    </tr>\n",
       "  </thead>\n",
       "  <tbody>\n",
       "    <tr>\n",
       "      <th>0</th>\n",
       "      <td>0101</td>\n",
       "      <td>horses; live, purebred breeding animals - pure...</td>\n",
       "    </tr>\n",
       "    <tr>\n",
       "      <th>1</th>\n",
       "      <td>0101</td>\n",
       "      <td>horses; live, other than purebred breeding ani...</td>\n",
       "    </tr>\n",
       "    <tr>\n",
       "      <th>2</th>\n",
       "      <td>0101</td>\n",
       "      <td>asses; live - other</td>\n",
       "    </tr>\n",
       "    <tr>\n",
       "      <th>3</th>\n",
       "      <td>0101</td>\n",
       "      <td>mules and hinnies; live-  other</td>\n",
       "    </tr>\n",
       "    <tr>\n",
       "      <th>4</th>\n",
       "      <td>0102</td>\n",
       "      <td>cattle; live, purebred breeding animals - pure...</td>\n",
       "    </tr>\n",
       "    <tr>\n",
       "      <th>...</th>\n",
       "      <td>...</td>\n",
       "      <td>...</td>\n",
       "    </tr>\n",
       "    <tr>\n",
       "      <th>49036</th>\n",
       "      <td>8302</td>\n",
       "      <td>adjust gear set jfkz658b</td>\n",
       "    </tr>\n",
       "    <tr>\n",
       "      <th>49037</th>\n",
       "      <td>7610</td>\n",
       "      <td>aluminium window frame kf057072avat</td>\n",
       "    </tr>\n",
       "    <tr>\n",
       "      <th>49038</th>\n",
       "      <td>3926</td>\n",
       "      <td>acrylic plate 4mm. size24x24 cm.</td>\n",
       "    </tr>\n",
       "    <tr>\n",
       "      <th>49039</th>\n",
       "      <td>8544</td>\n",
       "      <td>ac power cord p/n 141102240p6</td>\n",
       "    </tr>\n",
       "    <tr>\n",
       "      <th>49040</th>\n",
       "      <td>8708</td>\n",
       "      <td>automotive disc brake pads 220177988 db24114wd</td>\n",
       "    </tr>\n",
       "  </tbody>\n",
       "</table>\n",
       "<p>49041 rows × 2 columns</p>\n",
       "</div>"
      ],
      "text/plain": [
       "      target                                               data\n",
       "0       0101  horses; live, purebred breeding animals - pure...\n",
       "1       0101  horses; live, other than purebred breeding ani...\n",
       "2       0101                                asses; live - other\n",
       "3       0101                    mules and hinnies; live-  other\n",
       "4       0102  cattle; live, purebred breeding animals - pure...\n",
       "...      ...                                                ...\n",
       "49036   8302                           adjust gear set jfkz658b\n",
       "49037   7610                aluminium window frame kf057072avat\n",
       "49038   3926                   acrylic plate 4mm. size24x24 cm.\n",
       "49039   8544                      ac power cord p/n 141102240p6\n",
       "49040   8708     automotive disc brake pads 220177988 db24114wd\n",
       "\n",
       "[49041 rows x 2 columns]"
      ]
     },
     "execution_count": 35,
     "metadata": {},
     "output_type": "execute_result"
    }
   ],
   "source": [
    "df['target'] = df['target'].apply(str)\n",
    "df"
   ]
  },
  {
   "cell_type": "code",
   "execution_count": 36,
   "metadata": {
    "ExecuteTime": {
     "end_time": "2020-11-17T14:51:23.135044Z",
     "start_time": "2020-11-17T14:51:22.902049Z"
    }
   },
   "outputs": [
    {
     "name": "stdout",
     "output_type": "stream",
     "text": [
      "Save DataFrame\n",
      "success\n"
     ]
    }
   ],
   "source": [
    "#save the DataFrame\n",
    "print(\"Save DataFrame\")\n",
    "import joblib\n",
    "joblib.dump(df, 'train_4_digit.pkl', compress=1)\n",
    "print('success')"
   ]
  },
  {
   "cell_type": "code",
   "execution_count": 69,
   "metadata": {},
   "outputs": [
    {
     "name": "stdout",
     "output_type": "stream",
     "text": [
      "Load DataFrame\n"
     ]
    },
    {
     "data": {
      "text/html": [
       "<div>\n",
       "<style scoped>\n",
       "    .dataframe tbody tr th:only-of-type {\n",
       "        vertical-align: middle;\n",
       "    }\n",
       "\n",
       "    .dataframe tbody tr th {\n",
       "        vertical-align: top;\n",
       "    }\n",
       "\n",
       "    .dataframe thead th {\n",
       "        text-align: right;\n",
       "    }\n",
       "</style>\n",
       "<table border=\"1\" class=\"dataframe\">\n",
       "  <thead>\n",
       "    <tr style=\"text-align: right;\">\n",
       "      <th></th>\n",
       "      <th>target</th>\n",
       "      <th>data</th>\n",
       "    </tr>\n",
       "  </thead>\n",
       "  <tbody>\n",
       "    <tr>\n",
       "      <th>0</th>\n",
       "      <td>01</td>\n",
       "      <td>horses; live, purebred breeding animals - pure...</td>\n",
       "    </tr>\n",
       "    <tr>\n",
       "      <th>1</th>\n",
       "      <td>01</td>\n",
       "      <td>horses; live, other than purebred breeding ani...</td>\n",
       "    </tr>\n",
       "    <tr>\n",
       "      <th>2</th>\n",
       "      <td>01</td>\n",
       "      <td>asses; live - other</td>\n",
       "    </tr>\n",
       "    <tr>\n",
       "      <th>3</th>\n",
       "      <td>01</td>\n",
       "      <td>mules and hinnies; live-  other</td>\n",
       "    </tr>\n",
       "    <tr>\n",
       "      <th>4</th>\n",
       "      <td>01</td>\n",
       "      <td>cattle; live, purebred breeding animals - pure...</td>\n",
       "    </tr>\n",
       "  </tbody>\n",
       "</table>\n",
       "</div>"
      ],
      "text/plain": [
       "  target                                               data\n",
       "0     01  horses; live, purebred breeding animals - pure...\n",
       "1     01  horses; live, other than purebred breeding ani...\n",
       "2     01                                asses; live - other\n",
       "3     01                    mules and hinnies; live-  other\n",
       "4     01  cattle; live, purebred breeding animals - pure..."
      ]
     },
     "execution_count": 69,
     "metadata": {},
     "output_type": "execute_result"
    }
   ],
   "source": [
    "import joblib\n",
    "print(\"Load DataFrame\")\n",
    "df = joblib.load(\"train_4_digit.pkl\")\n",
    "df.head()"
   ]
  },
  {
   "cell_type": "code",
   "execution_count": 37,
   "metadata": {
    "ExecuteTime": {
     "end_time": "2020-11-17T14:51:31.784317Z",
     "start_time": "2020-11-17T14:51:31.768277Z"
    }
   },
   "outputs": [],
   "source": [
    "twenty_train = df.copy()"
   ]
  },
  {
   "cell_type": "code",
   "execution_count": 38,
   "metadata": {
    "ExecuteTime": {
     "end_time": "2020-11-17T14:51:32.660945Z",
     "start_time": "2020-11-17T14:51:32.608983Z"
    }
   },
   "outputs": [
    {
     "data": {
      "text/plain": [
       "Counter({'0101': 9,\n",
       "         '0102': 14,\n",
       "         '0103': 7,\n",
       "         '0104': 7,\n",
       "         '0105': 24,\n",
       "         '0106': 27,\n",
       "         '0201': 7,\n",
       "         '0202': 7,\n",
       "         '0203': 13,\n",
       "         '0204': 19,\n",
       "         '0206': 19,\n",
       "         '0207': 41,\n",
       "         '0208': 10,\n",
       "         '0209': 5,\n",
       "         '0210': 20,\n",
       "         '0301': 39,\n",
       "         '0302': 104,\n",
       "         '0303': 105,\n",
       "         '0304': 95,\n",
       "         '0305': 59,\n",
       "         '0306': 82,\n",
       "         '0307': 82,\n",
       "         '0308': 29,\n",
       "         '0401': 14,\n",
       "         '0402': 20,\n",
       "         '0403': 9,\n",
       "         '0404': 6,\n",
       "         '0405': 10,\n",
       "         '0406': 13,\n",
       "         '0407': 18,\n",
       "         '0408': 9,\n",
       "         '0409': 3,\n",
       "         '0410': 4,\n",
       "         '0501': 3,\n",
       "         '0502': 5,\n",
       "         '0504': 3,\n",
       "         '0505': 7,\n",
       "         '0506': 5,\n",
       "         '0507': 5,\n",
       "         '0508': 4,\n",
       "         '0510': 3,\n",
       "         '0511': 13,\n",
       "         '0601': 7,\n",
       "         '0602': 18,\n",
       "         '0603': 15,\n",
       "         '0604': 7,\n",
       "         '0701': 6,\n",
       "         '0702': 3,\n",
       "         '0703': 12,\n",
       "         '0704': 10,\n",
       "         '0705': 9,\n",
       "         '0706': 6,\n",
       "         '0707': 3,\n",
       "         '0708': 9,\n",
       "         '0709': 27,\n",
       "         '0710': 17,\n",
       "         '0711': 20,\n",
       "         '0712': 16,\n",
       "         '0713': 36,\n",
       "         '0714': 23,\n",
       "         '0801': 16,\n",
       "         '0802': 31,\n",
       "         '0803': 6,\n",
       "         '0804': 13,\n",
       "         '0805': 17,\n",
       "         '0806': 5,\n",
       "         '0807': 7,\n",
       "         '0808': 7,\n",
       "         '0809': 12,\n",
       "         '0810': 28,\n",
       "         '0811': 7,\n",
       "         '0812': 6,\n",
       "         '0813': 17,\n",
       "         '0814': 3,\n",
       "         '0901': 16,\n",
       "         '0902': 13,\n",
       "         '0903': 3,\n",
       "         '0904': 15,\n",
       "         '0905': 5,\n",
       "         '0906': 7,\n",
       "         '0907': 5,\n",
       "         '0908': 13,\n",
       "         '0909': 19,\n",
       "         '0910': 15,\n",
       "         '1001': 17,\n",
       "         '1002': 7,\n",
       "         '1003': 8,\n",
       "         '1004': 7,\n",
       "         '1005': 9,\n",
       "         '1006': 22,\n",
       "         '1007': 7,\n",
       "         '1008': 23,\n",
       "         '1101': 6,\n",
       "         '1102': 13,\n",
       "         '1103': 17,\n",
       "         '1104': 23,\n",
       "         '1105': 7,\n",
       "         '1106': 16,\n",
       "         '1107': 7,\n",
       "         '1108': 22,\n",
       "         '1109': 5,\n",
       "         '1201': 7,\n",
       "         '1202': 16,\n",
       "         '1203': 4,\n",
       "         '1204': 4,\n",
       "         '1205': 7,\n",
       "         '1206': 4,\n",
       "         '1207': 38,\n",
       "         '1208': 7,\n",
       "         '1209': 41,\n",
       "         '1210': 7,\n",
       "         '1211': 35,\n",
       "         '1212': 35,\n",
       "         '1213': 4,\n",
       "         '1214': 7,\n",
       "         '1301': 10,\n",
       "         '1302': 41,\n",
       "         '1401': 16,\n",
       "         '1404': 16,\n",
       "         '1501': 10,\n",
       "         '1502': 8,\n",
       "         '1503': 5,\n",
       "         '1504': 15,\n",
       "         '1505': 6,\n",
       "         '1506': 4,\n",
       "         '1507': 9,\n",
       "         '1508': 7,\n",
       "         '1509': 13,\n",
       "         '1510': 8,\n",
       "         '1511': 15,\n",
       "         '1512': 16,\n",
       "         '1513': 26,\n",
       "         '1514': 20,\n",
       "         '1515': 49,\n",
       "         '1516': 50,\n",
       "         '1517': 29,\n",
       "         '1518': 17,\n",
       "         '1520': 5,\n",
       "         '1521': 9,\n",
       "         '1522': 5,\n",
       "         '1601': 8,\n",
       "         '1602': 56,\n",
       "         '1603': 6,\n",
       "         '1604': 108,\n",
       "         '1605': 86,\n",
       "         '1701': 36,\n",
       "         '1702': 64,\n",
       "         '1703': 11,\n",
       "         '1704': 29,\n",
       "         '1801': 4,\n",
       "         '1802': 4,\n",
       "         '1803': 7,\n",
       "         '1804': 4,\n",
       "         '1805': 4,\n",
       "         '1806': 109,\n",
       "         '1901': 87,\n",
       "         '1902': 37,\n",
       "         '1903': 5,\n",
       "         '1904': 23,\n",
       "         '1905': 51,\n",
       "         '2001': 24,\n",
       "         '2002': 10,\n",
       "         '2003': 9,\n",
       "         '2004': 11,\n",
       "         '2005': 82,\n",
       "         '2006': 10,\n",
       "         '2007': 31,\n",
       "         '2008': 151,\n",
       "         '2009': 102,\n",
       "         '2101': 42,\n",
       "         '2102': 15,\n",
       "         '2103': 70,\n",
       "         '2104': 16,\n",
       "         '2105': 12,\n",
       "         '2106': 103,\n",
       "         '2201': 9,\n",
       "         '2202': 119,\n",
       "         '2203': 7,\n",
       "         '2204': 102,\n",
       "         '2205': 12,\n",
       "         '2206': 16,\n",
       "         '2207': 11,\n",
       "         '2208': 120,\n",
       "         '2209': 5,\n",
       "         '2301': 9,\n",
       "         '2302': 15,\n",
       "         '2303': 11,\n",
       "         '2304': 5,\n",
       "         '2305': 4,\n",
       "         '2306': 29,\n",
       "         '2307': 4,\n",
       "         '2308': 8,\n",
       "         '2309': 161,\n",
       "         '2401': 54,\n",
       "         '2402': 37,\n",
       "         '2403': 33,\n",
       "         '2501': 9,\n",
       "         '2502': 4,\n",
       "         '2503': 4,\n",
       "         '2504': 8,\n",
       "         '2505': 8,\n",
       "         '2506': 7,\n",
       "         '2507': 4,\n",
       "         '2508': 20,\n",
       "         '2509': 5,\n",
       "         '2510': 9,\n",
       "         '2511': 8,\n",
       "         '2512': 4,\n",
       "         '2513': 8,\n",
       "         '2514': 4,\n",
       "         '2515': 12,\n",
       "         '2516': 16,\n",
       "         '2517': 16,\n",
       "         '2518': 10,\n",
       "         '2519': 10,\n",
       "         '2520': 9,\n",
       "         '2521': 4,\n",
       "         '2522': 10,\n",
       "         '2523': 19,\n",
       "         '2524': 7,\n",
       "         '2525': 10,\n",
       "         '2526': 8,\n",
       "         '2528': 4,\n",
       "         '2529': 15,\n",
       "         '2530': 15,\n",
       "         '2601': 12,\n",
       "         '2602': 4,\n",
       "         '2603': 4,\n",
       "         '2604': 4,\n",
       "         '2605': 4,\n",
       "         '2606': 9,\n",
       "         '2607': 4,\n",
       "         '2608': 4,\n",
       "         '2609': 4,\n",
       "         '2610': 4,\n",
       "         '2611': 5,\n",
       "         '2612': 7,\n",
       "         '2613': 7,\n",
       "         '2614': 6,\n",
       "         '2615': 8,\n",
       "         '2616': 7,\n",
       "         '2617': 7,\n",
       "         '2618': 7,\n",
       "         '2619': 5,\n",
       "         '2620': 36,\n",
       "         '2621': 7,\n",
       "         '2701': 15,\n",
       "         '2702': 7,\n",
       "         '2703': 5,\n",
       "         '2704': 6,\n",
       "         '2705': 4,\n",
       "         '2706': 4,\n",
       "         '2707': 29,\n",
       "         '2708': 7,\n",
       "         '2709': 7,\n",
       "         '2710': 98,\n",
       "         '2711': 28,\n",
       "         '2712': 12,\n",
       "         '2713': 24,\n",
       "         '2714': 7,\n",
       "         '2715': 9,\n",
       "         '2716': 4,\n",
       "         '2801': 11,\n",
       "         '2802': 4,\n",
       "         '2803': 8,\n",
       "         '2804': 40,\n",
       "         '2805': 18,\n",
       "         '2806': 7,\n",
       "         '2807': 5,\n",
       "         '2808': 4,\n",
       "         '2809': 12,\n",
       "         '2810': 4,\n",
       "         '2811': 33,\n",
       "         '2812': 24,\n",
       "         '2813': 9,\n",
       "         '2814': 13,\n",
       "         '2815': 14,\n",
       "         '2816': 8,\n",
       "         '2817': 7,\n",
       "         '2818': 12,\n",
       "         '2819': 7,\n",
       "         '2820': 7,\n",
       "         '2821': 7,\n",
       "         '2822': 5,\n",
       "         '2823': 4,\n",
       "         '2824': 9,\n",
       "         '2825': 40,\n",
       "         '2826': 23,\n",
       "         '2827': 54,\n",
       "         '2828': 8,\n",
       "         '2829': 14,\n",
       "         '2830': 11,\n",
       "         '2831': 8,\n",
       "         '2832': 12,\n",
       "         '2833': 45,\n",
       "         '2834': 15,\n",
       "         '2835': 32,\n",
       "         '2836': 34,\n",
       "         '2837': 11,\n",
       "         '2839': 12,\n",
       "         '2840': 13,\n",
       "         '2841': 29,\n",
       "         '2842': 11,\n",
       "         '2843': 16,\n",
       "         '2844': 24,\n",
       "         '2845': 7,\n",
       "         '2846': 9,\n",
       "         '2847': 5,\n",
       "         '2849': 14,\n",
       "         '2850': 8,\n",
       "         '2852': 13,\n",
       "         '2853': 10,\n",
       "         '2901': 29,\n",
       "         '2902': 44,\n",
       "         '2903': 113,\n",
       "         '2904': 53,\n",
       "         '2905': 78,\n",
       "         '2906': 25,\n",
       "         '2907': 40,\n",
       "         '2908': 32,\n",
       "         '2909': 53,\n",
       "         '2910': 21,\n",
       "         '2911': 5,\n",
       "         '2912': 46,\n",
       "         '2913': 6,\n",
       "         '2914': 70,\n",
       "         '2915': 83,\n",
       "         '2916': 65,\n",
       "         '2917': 63,\n",
       "         '2918': 95,\n",
       "         '2919': 10,\n",
       "         '2920': 33,\n",
       "         '2921': 103,\n",
       "         '2922': 122,\n",
       "         '2923': 19,\n",
       "         '2924': 61,\n",
       "         '2925': 26,\n",
       "         '2926': 34,\n",
       "         '2927': 12,\n",
       "         '2928': 9,\n",
       "         '2929': 21,\n",
       "         '2930': 37,\n",
       "         '2931': 48,\n",
       "         '2932': 53,\n",
       "         '2933': 162,\n",
       "         '2934': 56,\n",
       "         '2935': 32,\n",
       "         '2936': 35,\n",
       "         '2937': 38,\n",
       "         '2938': 8,\n",
       "         '2939': 56,\n",
       "         '2940': 6,\n",
       "         '2941': 29,\n",
       "         '2942': 8,\n",
       "         '3001': 7,\n",
       "         '3002': 32,\n",
       "         '3003': 33,\n",
       "         '3004': 136,\n",
       "         '3005': 12,\n",
       "         '3006': 35,\n",
       "         '3101': 6,\n",
       "         '3102': 32,\n",
       "         '3103': 13,\n",
       "         '3104': 10,\n",
       "         '3105': 28,\n",
       "         '3201': 12,\n",
       "         '3202': 9,\n",
       "         '3203': 7,\n",
       "         '3204': 95,\n",
       "         '3205': 7,\n",
       "         '3206': 37,\n",
       "         '3207': 16,\n",
       "         '3208': 54,\n",
       "         '3209': 20,\n",
       "         '3210': 10,\n",
       "         '3211': 6,\n",
       "         '3212': 14,\n",
       "         '3213': 7,\n",
       "         '3214': 17,\n",
       "         '3215': 26,\n",
       "         '3301': 49,\n",
       "         '3302': 19,\n",
       "         '3303': 62,\n",
       "         '3304': 132,\n",
       "         '3305': 86,\n",
       "         '3306': 12,\n",
       "         '3307': 116,\n",
       "         '3401': 45,\n",
       "         '3402': 134,\n",
       "         '3403': 32,\n",
       "         '3404': 13,\n",
       "         '3405': 19,\n",
       "         '3406': 6,\n",
       "         '3407': 7,\n",
       "         '3501': 13,\n",
       "         '3502': 13,\n",
       "         '3503': 11,\n",
       "         '3504': 5,\n",
       "         '3505': 29,\n",
       "         '3506': 36,\n",
       "         '3507': 9,\n",
       "         '3601': 4,\n",
       "         '3602': 4,\n",
       "         '3603': 11,\n",
       "         '3604': 11,\n",
       "         '3605': 4,\n",
       "         '3606': 14,\n",
       "         '3701': 20,\n",
       "         '3702': 125,\n",
       "         '3703': 14,\n",
       "         '3704': 5,\n",
       "         '3705': 6,\n",
       "         '3706': 13,\n",
       "         '3707': 14,\n",
       "         '3801': 15,\n",
       "         '3802': 20,\n",
       "         '3803': 4,\n",
       "         '3804': 7,\n",
       "         '3805': 8,\n",
       "         '3806': 15,\n",
       "         '3807': 4,\n",
       "         '3808': 96,\n",
       "         '3809': 23,\n",
       "         '3810': 10,\n",
       "         '3811': 20,\n",
       "         '3812': 20,\n",
       "         '3813': 5,\n",
       "         '3814': 8,\n",
       "         '3815': 24,\n",
       "         '3816': 5,\n",
       "         '3817': 6,\n",
       "         '3818': 4,\n",
       "         '3819': 4,\n",
       "         '3820': 4,\n",
       "         '3821': 5,\n",
       "         '3822': 13,\n",
       "         '3823': 24,\n",
       "         '3824': 147,\n",
       "         '3825': 29,\n",
       "         '3826': 10,\n",
       "         '3901': 32,\n",
       "         '3902': 26,\n",
       "         '3903': 71,\n",
       "         '3904': 56,\n",
       "         '3905': 29,\n",
       "         '3906': 80,\n",
       "         '3907': 64,\n",
       "         '3908': 9,\n",
       "         '3909': 38,\n",
       "         '3910': 6,\n",
       "         '3911': 14,\n",
       "         '3912': 31,\n",
       "         '3913': 12,\n",
       "         '3914': 5,\n",
       "         '3915': 24,\n",
       "         '3916': 23,\n",
       "         '3917': 151,\n",
       "         '3918': 29,\n",
       "         '3919': 57,\n",
       "         '3920': 115,\n",
       "         '3921': 75,\n",
       "         '3922': 34,\n",
       "         '3923': 89,\n",
       "         '3924': 31,\n",
       "         '3925': 35,\n",
       "         '3926': 573,\n",
       "         '4001': 39,\n",
       "         '4002': 53,\n",
       "         '4003': 4,\n",
       "         '4004': 4,\n",
       "         '4005': 17,\n",
       "         '4006': 10,\n",
       "         '4007': 4,\n",
       "         '4008': 66,\n",
       "         '4009': 365,\n",
       "         '4010': 91,\n",
       "         '4011': 114,\n",
       "         '4012': 52,\n",
       "         '4013': 30,\n",
       "         '4014': 11,\n",
       "         '4015': 16,\n",
       "         '4016': 256,\n",
       "         '4017': 11,\n",
       "         '4101': 27,\n",
       "         '4102': 14,\n",
       "         '4103': 16,\n",
       "         '4104': 31,\n",
       "         '4105': 8,\n",
       "         '4106': 24,\n",
       "         '4107': 67,\n",
       "         '4112': 5,\n",
       "         '4113': 16,\n",
       "         '4114': 9,\n",
       "         '4115': 7,\n",
       "         '4201': 6,\n",
       "         '4202': 137,\n",
       "         '4203': 40,\n",
       "         '4205': 14,\n",
       "         '4206': 6,\n",
       "         '4301': 17,\n",
       "         '4302': 21,\n",
       "         '4303': 8,\n",
       "         '4304': 7,\n",
       "         '4401': 23,\n",
       "         '4402': 8,\n",
       "         '4403': 72,\n",
       "         '4404': 8,\n",
       "         '4405': 5,\n",
       "         '4406': 13,\n",
       "         '4407': 95,\n",
       "         '4408': 18,\n",
       "         '4409': 38,\n",
       "         '4410': 13,\n",
       "         '4411': 38,\n",
       "         '4412': 73,\n",
       "         '4413': 4,\n",
       "         '4414': 6,\n",
       "         '4415': 12,\n",
       "         '4416': 7,\n",
       "         '4417': 10,\n",
       "         '4418': 55,\n",
       "         '4419': 29,\n",
       "         '4420': 15,\n",
       "         '4421': 59,\n",
       "         '4501': 8,\n",
       "         '4502': 4,\n",
       "         '4503': 12,\n",
       "         '4504': 13,\n",
       "         '4601': 46,\n",
       "         '4602': 58,\n",
       "         '4701': 4,\n",
       "         '4702': 4,\n",
       "         '4703': 13,\n",
       "         '4704': 13,\n",
       "         '4705': 4,\n",
       "         '4706': 19,\n",
       "         '4707': 13,\n",
       "         '4801': 11,\n",
       "         '4802': 139,\n",
       "         '4803': 6,\n",
       "         '4804': 59,\n",
       "         '4805': 52,\n",
       "         '4806': 13,\n",
       "         '4807': 7,\n",
       "         '4808': 14,\n",
       "         '4809': 13,\n",
       "         '4810': 81,\n",
       "         '4811': 57,\n",
       "         '4812': 5,\n",
       "         '4813': 11,\n",
       "         '4814': 8,\n",
       "         '4816': 13,\n",
       "         '4817': 11,\n",
       "         '4818': 20,\n",
       "         '4819': 52,\n",
       "         '4820': 22,\n",
       "         '4821': 29,\n",
       "         '4822': 9,\n",
       "         '4823': 49,\n",
       "         '4901': 45,\n",
       "         '4902': 9,\n",
       "         '4903': 4,\n",
       "         '4904': 4,\n",
       "         '4905': 11,\n",
       "         '4906': 5,\n",
       "         '4907': 8,\n",
       "         '4908': 8,\n",
       "         '4909': 5,\n",
       "         '4910': 8,\n",
       "         '4911': 40,\n",
       "         '5001': 4,\n",
       "         '5002': 4,\n",
       "         '5003': 5,\n",
       "         '5004': 4,\n",
       "         '5005': 4,\n",
       "         '5006': 5,\n",
       "         '5007': 18,\n",
       "         '5101': 41,\n",
       "         '5102': 14,\n",
       "         '5103': 10,\n",
       "         '5104': 4,\n",
       "         '5105': 19,\n",
       "         '5106': 7,\n",
       "         '5107': 9,\n",
       "         '5108': 11,\n",
       "         '5109': 13,\n",
       "         '5110': 4,\n",
       "         '5111': 27,\n",
       "         '5112': 28,\n",
       "         '5113': 4,\n",
       "         '5201': 15,\n",
       "         '5202': 13,\n",
       "         '5203': 7,\n",
       "         '5204': 11,\n",
       "         '5205': 78,\n",
       "         '5206': 59,\n",
       "         '5207': 7,\n",
       "         '5208': 109,\n",
       "         '5209': 56,\n",
       "         '5210': 66,\n",
       "         '5211': 51,\n",
       "         '5212': 43,\n",
       "         '5301': 13,\n",
       "         '5302': 7,\n",
       "         '5303': 7,\n",
       "         '5305': 8,\n",
       "         '5306': 7,\n",
       "         '5307': 7,\n",
       "         '5308': 12,\n",
       "         '5309': 17,\n",
       "         '5310': 8,\n",
       "         '5311': 9,\n",
       "         '5401': 9,\n",
       "         '5402': 81,\n",
       "         '5403': 35,\n",
       "         '5404': 15,\n",
       "         '5405': 5,\n",
       "         '5406': 5,\n",
       "         '5407': 117,\n",
       "         '5408': 46,\n",
       "         '5501': 18,\n",
       "         '5502': 7,\n",
       "         '5503': 24,\n",
       "         '5504': 7,\n",
       "         '5505': 8,\n",
       "         '5506': 17,\n",
       "         '5507': 4,\n",
       "         '5508': 9,\n",
       "         '5509': 61,\n",
       "         '5510': 18,\n",
       "         '5511': 12,\n",
       "         '5512': 19,\n",
       "         '5513': 37,\n",
       "         '5514': 42,\n",
       "         '5515': 34,\n",
       "         '5516': 66,\n",
       "         '5601': 17,\n",
       "         '5602': 20,\n",
       "         '5603': 28,\n",
       "         '5604': 12,\n",
       "         '5605': 5,\n",
       "         '5606': 4,\n",
       "         '5607': 36,\n",
       "         '5608': 21,\n",
       "         '5609': 8,\n",
       "         '5701': 16,\n",
       "         '5702': 77,\n",
       "         '5703': 35,\n",
       "         '5704': 11,\n",
       "         '5705': 13,\n",
       "         '5801': 55,\n",
       "         '5802': 17,\n",
       "         '5803': 12,\n",
       "         '5804': 22,\n",
       "         '5805': 9,\n",
       "         '5806': 40,\n",
       "         '5807': 16,\n",
       "         '5808': 13,\n",
       "         '5809': 4,\n",
       "         '5810': 15,\n",
       "         '5811': 8,\n",
       "         '5901': 11,\n",
       "         '5902': 16,\n",
       "         '5903': 28,\n",
       "         '5904': 10,\n",
       "         '5905': 6,\n",
       "         '5906': 17,\n",
       "         '5907': 14,\n",
       "         '5908': 5,\n",
       "         '5909': 6,\n",
       "         '5910': 5,\n",
       "         '5911': 26,\n",
       "         '6001': 29,\n",
       "         '6002': 9,\n",
       "         '6003': 21,\n",
       "         '6004': 11,\n",
       "         '6005': 49,\n",
       "         '6006': 58,\n",
       "         '6101': 14,\n",
       "         '6102': 16,\n",
       "         '6103': 61,\n",
       "         '6104': 92,\n",
       "         '6105': 39,\n",
       "         '6106': 14,\n",
       "         '6107': 31,\n",
       "         '6108': 44,\n",
       "         '6109': 20,\n",
       "         '6110': 25,\n",
       "         '6111': 30,\n",
       "         '6112': 31,\n",
       "         '6113': 8,\n",
       "         '6114': 16,\n",
       "         '6115': 44,\n",
       "         '6116': 43,\n",
       "         '6117': 29,\n",
       "         '6201': 53,\n",
       "         '6202': 54,\n",
       "         '6203': 103,\n",
       "         '6204': 151,\n",
       "         '6205': 23,\n",
       "         '6206': 25,\n",
       "         '6207': 33,\n",
       "         '6208': 37,\n",
       "         '6209': 25,\n",
       "         '6210': 82,\n",
       "         '6211': 82,\n",
       "         '6212': 29,\n",
       "         '6213': 15,\n",
       "         '6214': 23,\n",
       "         '6215': 13,\n",
       "         '6216': 33,\n",
       "         '6217': 15,\n",
       "         '6301': 19,\n",
       "         '6302': 73,\n",
       "         '6303': 24,\n",
       "         '6304': 37,\n",
       "         '6305': 33,\n",
       "         '6306': 35,\n",
       "         '6307': 45,\n",
       "         '6308': 4,\n",
       "         '6309': 5,\n",
       "         '6310': 11,\n",
       "         '6401': 19,\n",
       "         '6402': 57,\n",
       "         '6403': 61,\n",
       "         '6404': 52,\n",
       "         '6405': 14,\n",
       "         '6406': 43,\n",
       "         '6501': 6,\n",
       "         '6502': 7,\n",
       "         '6504': 6,\n",
       "         '6505': 19,\n",
       "         '6506': 20,\n",
       "         '6507': 4,\n",
       "         '6601': 10,\n",
       "         '6602': 4,\n",
       "         '6603': 10,\n",
       "         '6701': 7,\n",
       "         '6702': 33,\n",
       "         '6703': 5,\n",
       "         '6704': 13,\n",
       "         '6801': 4,\n",
       "         '6802': 38,\n",
       "         '6803': 5,\n",
       "         '6804': 19,\n",
       "         '6805': 26,\n",
       "         '6806': 14,\n",
       "         '6807': 8,\n",
       "         '6808': 6,\n",
       "         '6809': 12,\n",
       "         '6810': 44,\n",
       "         '6811': 27,\n",
       "         '6812': 26,\n",
       "         '6813': 11,\n",
       "         '6814': 7,\n",
       "         '6815': 17,\n",
       "         '6901': 4,\n",
       "         '6902': 14,\n",
       "         '6903': 10,\n",
       "         '6904': 7,\n",
       "         '6905': 7,\n",
       "         '6906': 4,\n",
       "         '6907': 65,\n",
       "         '6909': 19,\n",
       "         '6910': 27,\n",
       "         '6911': 45,\n",
       "         '6912': 20,\n",
       "         '6913': 24,\n",
       "         '6914': 12,\n",
       "         '7001': 6,\n",
       "         '7002': 25,\n",
       "         '7003': 18,\n",
       "         '7004': 19,\n",
       "         '7005': 22,\n",
       "         '7006': 7,\n",
       "         '7007': 77,\n",
       "         '7008': 4,\n",
       "         '7009': 31,\n",
       "         '7010': 17,\n",
       "         '7011': 14,\n",
       "         '7013': 80,\n",
       "         '7014': 8,\n",
       "         '7015': 10,\n",
       "         '7016': 9,\n",
       "         '7017': 13,\n",
       "         '7018': 20,\n",
       "         '7019': 70,\n",
       "         '7020': 12,\n",
       "         '7101': 12,\n",
       "         '7102': 18,\n",
       "         '7103': 36,\n",
       "         '7104': 12,\n",
       "         '7105': 7,\n",
       "         '7106': 13,\n",
       "         '7107': 4,\n",
       "         '7108': 22,\n",
       "         '7109': 4,\n",
       "         '7110': 29,\n",
       "         '7111': 5,\n",
       "         '7112': 40,\n",
       "         '7113': 174,\n",
       "         '7114': 18,\n",
       "         '7115': 20,\n",
       "         '7116': 20,\n",
       "         '7117': 145,\n",
       "         '7118': 10,\n",
       "         '7201': 11,\n",
       "         '7202': 55,\n",
       "         '7203': 7,\n",
       "         '7204': 28,\n",
       "         '7205': 12,\n",
       "         '7206': 8,\n",
       "         '7207': 19,\n",
       "         '7208': 54,\n",
       "         '7209': 38,\n",
       "         '7210': 66,\n",
       "         '7211': 59,\n",
       "         '7212': 53,\n",
       "         '7213': 21,\n",
       "         '7214': 36,\n",
       "         '7215': 16,\n",
       "         '7216': 53,\n",
       "         '7217': 46,\n",
       "         '7218': 10,\n",
       "         '7219': 43,\n",
       "         '7220': 22,\n",
       "         '7221': 4,\n",
       "         '7222': 23,\n",
       "         '7223': 7,\n",
       "         '7224': 7,\n",
       "         '7225': 40,\n",
       "         '7226': 38,\n",
       "         '7227': 13,\n",
       "         '7228': 44,\n",
       "         '7229': 14,\n",
       "         '7301': 10,\n",
       "         '7302': 17,\n",
       "         '7303': 7,\n",
       "         '7304': 75,\n",
       "         '7305': 38,\n",
       "         '7306': 87,\n",
       "         '7307': 89,\n",
       "         '7308': 31,\n",
       "         '7309': 7,\n",
       "         '7310': 23,\n",
       "         '7311': 20,\n",
       "         '7312': 20,\n",
       "         '7313': 4,\n",
       "         '7314': 44,\n",
       "         '7315': 39,\n",
       "         '7316': 4,\n",
       "         '7317': 18,\n",
       "         '7318': 193,\n",
       "         '7319': 14,\n",
       "         '7320': 33,\n",
       "         '7321': 39,\n",
       "         '7322': 10,\n",
       "         '7323': 42,\n",
       "         '7324': 23,\n",
       "         '7325': 17,\n",
       "         '7326': 579,\n",
       "         '7401': 4,\n",
       "         '7402': 5,\n",
       "         '7403': 22,\n",
       "         '7404': 5,\n",
       "         '7405': 5,\n",
       "         '7406': 7,\n",
       "         '7407': 21,\n",
       "         '7408': 23,\n",
       "         '7409': 34,\n",
       "         '7410': 16,\n",
       "         '7411': 23,\n",
       "         '7412': 15,\n",
       "         '7413': 10,\n",
       "         '7415': 22,\n",
       "         '7418': 13,\n",
       "         '7419': 27,\n",
       "         '7501': 7,\n",
       "         '7502': 7,\n",
       "         '7503': 4,\n",
       "         '7504': 4,\n",
       "         '7505': 19,\n",
       "         '7506': 11,\n",
       "         '7507': 10,\n",
       "         '7508': 10,\n",
       "         '7601': 21,\n",
       "         '7602': 68,\n",
       "         '7603': 8,\n",
       "         '7604': 549,\n",
       "         '7605': 17,\n",
       "         '7606': 105,\n",
       "         '7607': 83,\n",
       "         '7608': 54,\n",
       "         '7609': 11,\n",
       "         '7610': 5319,\n",
       "         '7611': 4,\n",
       "         '7612': 58,\n",
       "         '7613': 4,\n",
       "         '7614': 17,\n",
       "         '7615': 50,\n",
       "         '7616': 216,\n",
       "         '7801': 14,\n",
       "         '7802': 4,\n",
       "         '7804': 12,\n",
       "         '7806': 16,\n",
       "         '7901': 11,\n",
       "         '7902': 4,\n",
       "         '7903': 8,\n",
       "         '7904': 4,\n",
       "         '7905': 5,\n",
       "         '7907': 14,\n",
       "         '8001': 7,\n",
       "         '8002': 4,\n",
       "         '8003': 5,\n",
       "         '8007': 15,\n",
       "         '8101': 18,\n",
       "         '8102': 20,\n",
       "         '8103': 10,\n",
       "         '8104': 16,\n",
       "         '8105': 13,\n",
       "         '8106': 5,\n",
       "         '8107': 8,\n",
       "         '8108': 13,\n",
       "         '8109': 11,\n",
       "         '8110': 10,\n",
       "         '8111': 8,\n",
       "         '8112': 42,\n",
       "         '8113': 4,\n",
       "         '8201': 24,\n",
       "         '8202': 25,\n",
       "         '8203': 22,\n",
       "         '8204': 14,\n",
       "         '8205': 49,\n",
       "         '8206': 10,\n",
       "         '8207': 115,\n",
       "         '8208': 21,\n",
       "         '8209': 4,\n",
       "         '8210': 5,\n",
       "         '8211': 49,\n",
       "         '8212': 11,\n",
       "         '8213': 6,\n",
       "         '8214': 14,\n",
       "         '8215': 33,\n",
       "         '8301': 52,\n",
       "         '8302': 247,\n",
       "         '8303': 4,\n",
       "         '8304': 9,\n",
       "         '8305': 15,\n",
       "         '8306': 24,\n",
       "         '8307': 9,\n",
       "         '8308': 17,\n",
       "         '8309': 39,\n",
       "         '8310': 6,\n",
       "         '8311': 21,\n",
       "         '8401': 13,\n",
       "         '8402': 26,\n",
       "         '8403': 8,\n",
       "         '8404': 19,\n",
       "         '8405': 7,\n",
       "         '8406': 24,\n",
       "         '8407': 63,\n",
       "         '8408': 31,\n",
       "         '8409': 216,\n",
       "         '8410': 13,\n",
       "         '8411': 42,\n",
       "         '8412': 110,\n",
       "         '8413': 116,\n",
       "         '8414': 178,\n",
       "         '8415': 325,\n",
       "         '8416': 13,\n",
       "         '8417': 15,\n",
       "         '8418': 210,\n",
       "         '8419': 86,\n",
       "         '8420': 21,\n",
       "         '8421': 234,\n",
       "         '8422': 49,\n",
       "         '8423': 35,\n",
       "         '8424': 81,\n",
       "         '8425': 27,\n",
       "         '8426': 30,\n",
       "         '8427': 13,\n",
       "         '8428': 44,\n",
       "         '8429': 31,\n",
       "         '8430': 31,\n",
       "         '8431': 61,\n",
       "         '8432': 33,\n",
       "         '8433': 57,\n",
       "         '8434': 13,\n",
       "         '8435': 9,\n",
       "         '8436': 29,\n",
       "         '8437': 23,\n",
       "         '8438': 42,\n",
       "         '8439': 18,\n",
       "         '8440': 9,\n",
       "         '8441': 27,\n",
       "         '8442': 13,\n",
       "         '8443': 238,\n",
       "         '8444': 5,\n",
       "         '8445': 35,\n",
       "         '8446': 16,\n",
       "         ...})"
      ]
     },
     "execution_count": 38,
     "metadata": {},
     "output_type": "execute_result"
    }
   ],
   "source": [
    "from collections import Counter\n",
    "Counter(twenty_train[\"target\"])"
   ]
  },
  {
   "cell_type": "code",
   "execution_count": 39,
   "metadata": {
    "ExecuteTime": {
     "end_time": "2020-11-17T14:51:35.205896Z",
     "start_time": "2020-11-17T14:51:35.188900Z"
    }
   },
   "outputs": [],
   "source": [
    "import re \n",
    "def clean_str(string):\n",
    "    \"\"\"\n",
    "    Tokenization/string cleaning for dataset\n",
    "    Every dataset is lower cased except\n",
    "    \"\"\"\n",
    "    string = re.sub(r\"\\n\", \"\", string)    \n",
    "    string = re.sub(r\"\\r\", \"\", string) \n",
    "    string = re.sub(r\"[0-9]\", \"digit\", string)\n",
    "    string = re.sub(r\"\\'\", \"\", string)    \n",
    "    string = re.sub(r\"\\\"\", \"\", string)    \n",
    "    string = re.sub(r\"<\", \"\", string)  \n",
    "    return string.strip().lower()"
   ]
  },
  {
   "cell_type": "code",
   "execution_count": 40,
   "metadata": {
    "ExecuteTime": {
     "end_time": "2020-11-17T14:51:41.761279Z",
     "start_time": "2020-11-17T14:51:36.356281Z"
    }
   },
   "outputs": [
    {
     "name": "stdout",
     "output_type": "stream",
     "text": [
      "train test split dataset\n"
     ]
    }
   ],
   "source": [
    "print(\"train test split dataset\")\n",
    "#train test split\n",
    "df = twenty_train.copy()\n",
    "from sklearn.model_selection import train_test_split\n",
    "X = []\n",
    "for i in range(df.shape[0]):\n",
    "    X.append(clean_str(df.iloc[i][1]))\n",
    "y = np.array(df[\"target\"])\n",
    "X_train, X_test, y_train, y_test = train_test_split(X, y, test_size=0.3, random_state=20)"
   ]
  },
  {
   "cell_type": "code",
   "execution_count": 43,
   "metadata": {
    "ExecuteTime": {
     "end_time": "2020-11-17T14:51:41.838281Z",
     "start_time": "2020-11-17T14:51:41.826283Z"
    }
   },
   "outputs": [
    {
     "name": "stdout",
     "output_type": "stream",
     "text": [
      "Training: \n"
     ]
    }
   ],
   "source": [
    "#feature engineering and model selection\n",
    "from sklearn.svm import LinearSVC\n",
    "from sklearn.linear_model import LogisticRegression\n",
    "from sklearn.ensemble import RandomForestClassifier\n",
    "\n",
    "\n",
    "print(\"Training: \")"
   ]
  },
  {
   "cell_type": "code",
   "execution_count": 44,
   "metadata": {
    "ExecuteTime": {
     "end_time": "2020-11-17T14:51:41.854286Z",
     "start_time": "2020-11-17T14:51:41.842284Z"
    }
   },
   "outputs": [],
   "source": [
    "#pipeline of feature engineering and model\n",
    "t0 = time()\n",
    "model = Pipeline([('vectorizer', CountVectorizer()),\n",
    "    ('tfidf', TfidfTransformer()),\n",
    "    ('clf', OneVsRestClassifier(LinearSVC(class_weight=\"balanced\")))])"
   ]
  },
  {
   "cell_type": "code",
   "execution_count": 45,
   "metadata": {
    "ExecuteTime": {
     "end_time": "2020-11-17T14:51:41.869284Z",
     "start_time": "2020-11-17T14:51:41.856286Z"
    }
   },
   "outputs": [
    {
     "name": "stdout",
     "output_type": "stream",
     "text": [
      "paramater selection\n"
     ]
    }
   ],
   "source": [
    "print(\"paramater selection\")\n",
    "#paramater selection\n",
    "from sklearn.model_selection import GridSearchCV\n",
    "parameters = {'vectorizer__ngram_range': [(1, 1), (1, 2),(2,2)],\n",
    "               'tfidf__use_idf': (True, False)}"
   ]
  },
  {
   "cell_type": "code",
   "execution_count": 46,
   "metadata": {
    "ExecuteTime": {
     "end_time": "2020-11-17T17:36:15.054654Z",
     "start_time": "2020-11-17T14:51:42.013287Z"
    }
   },
   "outputs": [
    {
     "ename": "KeyboardInterrupt",
     "evalue": "",
     "output_type": "error",
     "traceback": [
      "\u001b[1;31m---------------------------------------------------------------------------\u001b[0m",
      "\u001b[1;31mKeyboardInterrupt\u001b[0m                         Traceback (most recent call last)",
      "\u001b[1;32m<ipython-input-46-c0a358580131>\u001b[0m in \u001b[0;36m<module>\u001b[1;34m\u001b[0m\n\u001b[0;32m      1\u001b[0m \u001b[0mgs_clf_svm\u001b[0m \u001b[1;33m=\u001b[0m \u001b[0mGridSearchCV\u001b[0m\u001b[1;33m(\u001b[0m\u001b[0mmodel\u001b[0m\u001b[1;33m,\u001b[0m \u001b[0mparameters\u001b[0m\u001b[1;33m,\u001b[0m \u001b[0mn_jobs\u001b[0m\u001b[1;33m=\u001b[0m\u001b[1;33m-\u001b[0m\u001b[1;36m1\u001b[0m\u001b[1;33m)\u001b[0m\u001b[1;33m\u001b[0m\u001b[1;33m\u001b[0m\u001b[0m\n\u001b[1;32m----> 2\u001b[1;33m \u001b[0mgs_clf_svm\u001b[0m \u001b[1;33m=\u001b[0m \u001b[0mgs_clf_svm\u001b[0m\u001b[1;33m.\u001b[0m\u001b[0mfit\u001b[0m\u001b[1;33m(\u001b[0m\u001b[0mX\u001b[0m\u001b[1;33m,\u001b[0m \u001b[0my\u001b[0m\u001b[1;33m)\u001b[0m\u001b[1;33m\u001b[0m\u001b[1;33m\u001b[0m\u001b[0m\n\u001b[0m\u001b[0;32m      3\u001b[0m \u001b[0mprint\u001b[0m\u001b[1;33m(\u001b[0m\u001b[0mgs_clf_svm\u001b[0m\u001b[1;33m.\u001b[0m\u001b[0mbest_score_\u001b[0m\u001b[1;33m)\u001b[0m\u001b[1;33m\u001b[0m\u001b[1;33m\u001b[0m\u001b[0m\n\u001b[0;32m      4\u001b[0m \u001b[0mprint\u001b[0m\u001b[1;33m(\u001b[0m\u001b[0mgs_clf_svm\u001b[0m\u001b[1;33m.\u001b[0m\u001b[0mbest_params_\u001b[0m\u001b[1;33m)\u001b[0m\u001b[1;33m\u001b[0m\u001b[1;33m\u001b[0m\u001b[0m\n",
      "\u001b[1;32mC:\\ProgramData\\Anaconda3\\lib\\site-packages\\sklearn\\utils\\validation.py\u001b[0m in \u001b[0;36minner_f\u001b[1;34m(*args, **kwargs)\u001b[0m\n\u001b[0;32m     70\u001b[0m                           FutureWarning)\n\u001b[0;32m     71\u001b[0m         \u001b[0mkwargs\u001b[0m\u001b[1;33m.\u001b[0m\u001b[0mupdate\u001b[0m\u001b[1;33m(\u001b[0m\u001b[1;33m{\u001b[0m\u001b[0mk\u001b[0m\u001b[1;33m:\u001b[0m \u001b[0marg\u001b[0m \u001b[1;32mfor\u001b[0m \u001b[0mk\u001b[0m\u001b[1;33m,\u001b[0m \u001b[0marg\u001b[0m \u001b[1;32min\u001b[0m \u001b[0mzip\u001b[0m\u001b[1;33m(\u001b[0m\u001b[0msig\u001b[0m\u001b[1;33m.\u001b[0m\u001b[0mparameters\u001b[0m\u001b[1;33m,\u001b[0m \u001b[0margs\u001b[0m\u001b[1;33m)\u001b[0m\u001b[1;33m}\u001b[0m\u001b[1;33m)\u001b[0m\u001b[1;33m\u001b[0m\u001b[1;33m\u001b[0m\u001b[0m\n\u001b[1;32m---> 72\u001b[1;33m         \u001b[1;32mreturn\u001b[0m \u001b[0mf\u001b[0m\u001b[1;33m(\u001b[0m\u001b[1;33m**\u001b[0m\u001b[0mkwargs\u001b[0m\u001b[1;33m)\u001b[0m\u001b[1;33m\u001b[0m\u001b[1;33m\u001b[0m\u001b[0m\n\u001b[0m\u001b[0;32m     73\u001b[0m     \u001b[1;32mreturn\u001b[0m \u001b[0minner_f\u001b[0m\u001b[1;33m\u001b[0m\u001b[1;33m\u001b[0m\u001b[0m\n\u001b[0;32m     74\u001b[0m \u001b[1;33m\u001b[0m\u001b[0m\n",
      "\u001b[1;32mC:\\ProgramData\\Anaconda3\\lib\\site-packages\\sklearn\\model_selection\\_search.py\u001b[0m in \u001b[0;36mfit\u001b[1;34m(self, X, y, groups, **fit_params)\u001b[0m\n\u001b[0;32m    734\u001b[0m                 \u001b[1;32mreturn\u001b[0m \u001b[0mresults\u001b[0m\u001b[1;33m\u001b[0m\u001b[1;33m\u001b[0m\u001b[0m\n\u001b[0;32m    735\u001b[0m \u001b[1;33m\u001b[0m\u001b[0m\n\u001b[1;32m--> 736\u001b[1;33m             \u001b[0mself\u001b[0m\u001b[1;33m.\u001b[0m\u001b[0m_run_search\u001b[0m\u001b[1;33m(\u001b[0m\u001b[0mevaluate_candidates\u001b[0m\u001b[1;33m)\u001b[0m\u001b[1;33m\u001b[0m\u001b[1;33m\u001b[0m\u001b[0m\n\u001b[0m\u001b[0;32m    737\u001b[0m \u001b[1;33m\u001b[0m\u001b[0m\n\u001b[0;32m    738\u001b[0m         \u001b[1;31m# For multi-metric evaluation, store the best_index_, best_params_ and\u001b[0m\u001b[1;33m\u001b[0m\u001b[1;33m\u001b[0m\u001b[1;33m\u001b[0m\u001b[0m\n",
      "\u001b[1;32mC:\\ProgramData\\Anaconda3\\lib\\site-packages\\sklearn\\model_selection\\_search.py\u001b[0m in \u001b[0;36m_run_search\u001b[1;34m(self, evaluate_candidates)\u001b[0m\n\u001b[0;32m   1186\u001b[0m     \u001b[1;32mdef\u001b[0m \u001b[0m_run_search\u001b[0m\u001b[1;33m(\u001b[0m\u001b[0mself\u001b[0m\u001b[1;33m,\u001b[0m \u001b[0mevaluate_candidates\u001b[0m\u001b[1;33m)\u001b[0m\u001b[1;33m:\u001b[0m\u001b[1;33m\u001b[0m\u001b[1;33m\u001b[0m\u001b[0m\n\u001b[0;32m   1187\u001b[0m         \u001b[1;34m\"\"\"Search all candidates in param_grid\"\"\"\u001b[0m\u001b[1;33m\u001b[0m\u001b[1;33m\u001b[0m\u001b[0m\n\u001b[1;32m-> 1188\u001b[1;33m         \u001b[0mevaluate_candidates\u001b[0m\u001b[1;33m(\u001b[0m\u001b[0mParameterGrid\u001b[0m\u001b[1;33m(\u001b[0m\u001b[0mself\u001b[0m\u001b[1;33m.\u001b[0m\u001b[0mparam_grid\u001b[0m\u001b[1;33m)\u001b[0m\u001b[1;33m)\u001b[0m\u001b[1;33m\u001b[0m\u001b[1;33m\u001b[0m\u001b[0m\n\u001b[0m\u001b[0;32m   1189\u001b[0m \u001b[1;33m\u001b[0m\u001b[0m\n\u001b[0;32m   1190\u001b[0m \u001b[1;33m\u001b[0m\u001b[0m\n",
      "\u001b[1;32mC:\\ProgramData\\Anaconda3\\lib\\site-packages\\sklearn\\model_selection\\_search.py\u001b[0m in \u001b[0;36mevaluate_candidates\u001b[1;34m(candidate_params)\u001b[0m\n\u001b[0;32m    706\u001b[0m                               n_splits, n_candidates, n_candidates * n_splits))\n\u001b[0;32m    707\u001b[0m \u001b[1;33m\u001b[0m\u001b[0m\n\u001b[1;32m--> 708\u001b[1;33m                 out = parallel(delayed(_fit_and_score)(clone(base_estimator),\n\u001b[0m\u001b[0;32m    709\u001b[0m                                                        \u001b[0mX\u001b[0m\u001b[1;33m,\u001b[0m \u001b[0my\u001b[0m\u001b[1;33m,\u001b[0m\u001b[1;33m\u001b[0m\u001b[1;33m\u001b[0m\u001b[0m\n\u001b[0;32m    710\u001b[0m                                                        \u001b[0mtrain\u001b[0m\u001b[1;33m=\u001b[0m\u001b[0mtrain\u001b[0m\u001b[1;33m,\u001b[0m \u001b[0mtest\u001b[0m\u001b[1;33m=\u001b[0m\u001b[0mtest\u001b[0m\u001b[1;33m,\u001b[0m\u001b[1;33m\u001b[0m\u001b[1;33m\u001b[0m\u001b[0m\n",
      "\u001b[1;32mC:\\ProgramData\\Anaconda3\\lib\\site-packages\\joblib\\parallel.py\u001b[0m in \u001b[0;36m__call__\u001b[1;34m(self, iterable)\u001b[0m\n\u001b[0;32m   1040\u001b[0m \u001b[1;33m\u001b[0m\u001b[0m\n\u001b[0;32m   1041\u001b[0m             \u001b[1;32mwith\u001b[0m \u001b[0mself\u001b[0m\u001b[1;33m.\u001b[0m\u001b[0m_backend\u001b[0m\u001b[1;33m.\u001b[0m\u001b[0mretrieval_context\u001b[0m\u001b[1;33m(\u001b[0m\u001b[1;33m)\u001b[0m\u001b[1;33m:\u001b[0m\u001b[1;33m\u001b[0m\u001b[1;33m\u001b[0m\u001b[0m\n\u001b[1;32m-> 1042\u001b[1;33m                 \u001b[0mself\u001b[0m\u001b[1;33m.\u001b[0m\u001b[0mretrieve\u001b[0m\u001b[1;33m(\u001b[0m\u001b[1;33m)\u001b[0m\u001b[1;33m\u001b[0m\u001b[1;33m\u001b[0m\u001b[0m\n\u001b[0m\u001b[0;32m   1043\u001b[0m             \u001b[1;31m# Make sure that we get a last message telling us we are done\u001b[0m\u001b[1;33m\u001b[0m\u001b[1;33m\u001b[0m\u001b[1;33m\u001b[0m\u001b[0m\n\u001b[0;32m   1044\u001b[0m             \u001b[0melapsed_time\u001b[0m \u001b[1;33m=\u001b[0m \u001b[0mtime\u001b[0m\u001b[1;33m.\u001b[0m\u001b[0mtime\u001b[0m\u001b[1;33m(\u001b[0m\u001b[1;33m)\u001b[0m \u001b[1;33m-\u001b[0m \u001b[0mself\u001b[0m\u001b[1;33m.\u001b[0m\u001b[0m_start_time\u001b[0m\u001b[1;33m\u001b[0m\u001b[1;33m\u001b[0m\u001b[0m\n",
      "\u001b[1;32mC:\\ProgramData\\Anaconda3\\lib\\site-packages\\joblib\\parallel.py\u001b[0m in \u001b[0;36mretrieve\u001b[1;34m(self)\u001b[0m\n\u001b[0;32m    919\u001b[0m             \u001b[1;32mtry\u001b[0m\u001b[1;33m:\u001b[0m\u001b[1;33m\u001b[0m\u001b[1;33m\u001b[0m\u001b[0m\n\u001b[0;32m    920\u001b[0m                 \u001b[1;32mif\u001b[0m \u001b[0mgetattr\u001b[0m\u001b[1;33m(\u001b[0m\u001b[0mself\u001b[0m\u001b[1;33m.\u001b[0m\u001b[0m_backend\u001b[0m\u001b[1;33m,\u001b[0m \u001b[1;34m'supports_timeout'\u001b[0m\u001b[1;33m,\u001b[0m \u001b[1;32mFalse\u001b[0m\u001b[1;33m)\u001b[0m\u001b[1;33m:\u001b[0m\u001b[1;33m\u001b[0m\u001b[1;33m\u001b[0m\u001b[0m\n\u001b[1;32m--> 921\u001b[1;33m                     \u001b[0mself\u001b[0m\u001b[1;33m.\u001b[0m\u001b[0m_output\u001b[0m\u001b[1;33m.\u001b[0m\u001b[0mextend\u001b[0m\u001b[1;33m(\u001b[0m\u001b[0mjob\u001b[0m\u001b[1;33m.\u001b[0m\u001b[0mget\u001b[0m\u001b[1;33m(\u001b[0m\u001b[0mtimeout\u001b[0m\u001b[1;33m=\u001b[0m\u001b[0mself\u001b[0m\u001b[1;33m.\u001b[0m\u001b[0mtimeout\u001b[0m\u001b[1;33m)\u001b[0m\u001b[1;33m)\u001b[0m\u001b[1;33m\u001b[0m\u001b[1;33m\u001b[0m\u001b[0m\n\u001b[0m\u001b[0;32m    922\u001b[0m                 \u001b[1;32melse\u001b[0m\u001b[1;33m:\u001b[0m\u001b[1;33m\u001b[0m\u001b[1;33m\u001b[0m\u001b[0m\n\u001b[0;32m    923\u001b[0m                     \u001b[0mself\u001b[0m\u001b[1;33m.\u001b[0m\u001b[0m_output\u001b[0m\u001b[1;33m.\u001b[0m\u001b[0mextend\u001b[0m\u001b[1;33m(\u001b[0m\u001b[0mjob\u001b[0m\u001b[1;33m.\u001b[0m\u001b[0mget\u001b[0m\u001b[1;33m(\u001b[0m\u001b[1;33m)\u001b[0m\u001b[1;33m)\u001b[0m\u001b[1;33m\u001b[0m\u001b[1;33m\u001b[0m\u001b[0m\n",
      "\u001b[1;32mC:\\ProgramData\\Anaconda3\\lib\\site-packages\\joblib\\_parallel_backends.py\u001b[0m in \u001b[0;36mwrap_future_result\u001b[1;34m(future, timeout)\u001b[0m\n\u001b[0;32m    540\u001b[0m         AsyncResults.get from multiprocessing.\"\"\"\n\u001b[0;32m    541\u001b[0m         \u001b[1;32mtry\u001b[0m\u001b[1;33m:\u001b[0m\u001b[1;33m\u001b[0m\u001b[1;33m\u001b[0m\u001b[0m\n\u001b[1;32m--> 542\u001b[1;33m             \u001b[1;32mreturn\u001b[0m \u001b[0mfuture\u001b[0m\u001b[1;33m.\u001b[0m\u001b[0mresult\u001b[0m\u001b[1;33m(\u001b[0m\u001b[0mtimeout\u001b[0m\u001b[1;33m=\u001b[0m\u001b[0mtimeout\u001b[0m\u001b[1;33m)\u001b[0m\u001b[1;33m\u001b[0m\u001b[1;33m\u001b[0m\u001b[0m\n\u001b[0m\u001b[0;32m    543\u001b[0m         \u001b[1;32mexcept\u001b[0m \u001b[0mCfTimeoutError\u001b[0m \u001b[1;32mas\u001b[0m \u001b[0me\u001b[0m\u001b[1;33m:\u001b[0m\u001b[1;33m\u001b[0m\u001b[1;33m\u001b[0m\u001b[0m\n\u001b[0;32m    544\u001b[0m             \u001b[1;32mraise\u001b[0m \u001b[0mTimeoutError\u001b[0m \u001b[1;32mfrom\u001b[0m \u001b[0me\u001b[0m\u001b[1;33m\u001b[0m\u001b[1;33m\u001b[0m\u001b[0m\n",
      "\u001b[1;32mC:\\ProgramData\\Anaconda3\\lib\\concurrent\\futures\\_base.py\u001b[0m in \u001b[0;36mresult\u001b[1;34m(self, timeout)\u001b[0m\n\u001b[0;32m    432\u001b[0m                 \u001b[1;32mreturn\u001b[0m \u001b[0mself\u001b[0m\u001b[1;33m.\u001b[0m\u001b[0m__get_result\u001b[0m\u001b[1;33m(\u001b[0m\u001b[1;33m)\u001b[0m\u001b[1;33m\u001b[0m\u001b[1;33m\u001b[0m\u001b[0m\n\u001b[0;32m    433\u001b[0m \u001b[1;33m\u001b[0m\u001b[0m\n\u001b[1;32m--> 434\u001b[1;33m             \u001b[0mself\u001b[0m\u001b[1;33m.\u001b[0m\u001b[0m_condition\u001b[0m\u001b[1;33m.\u001b[0m\u001b[0mwait\u001b[0m\u001b[1;33m(\u001b[0m\u001b[0mtimeout\u001b[0m\u001b[1;33m)\u001b[0m\u001b[1;33m\u001b[0m\u001b[1;33m\u001b[0m\u001b[0m\n\u001b[0m\u001b[0;32m    435\u001b[0m \u001b[1;33m\u001b[0m\u001b[0m\n\u001b[0;32m    436\u001b[0m             \u001b[1;32mif\u001b[0m \u001b[0mself\u001b[0m\u001b[1;33m.\u001b[0m\u001b[0m_state\u001b[0m \u001b[1;32min\u001b[0m \u001b[1;33m[\u001b[0m\u001b[0mCANCELLED\u001b[0m\u001b[1;33m,\u001b[0m \u001b[0mCANCELLED_AND_NOTIFIED\u001b[0m\u001b[1;33m]\u001b[0m\u001b[1;33m:\u001b[0m\u001b[1;33m\u001b[0m\u001b[1;33m\u001b[0m\u001b[0m\n",
      "\u001b[1;32mC:\\ProgramData\\Anaconda3\\lib\\threading.py\u001b[0m in \u001b[0;36mwait\u001b[1;34m(self, timeout)\u001b[0m\n\u001b[0;32m    300\u001b[0m         \u001b[1;32mtry\u001b[0m\u001b[1;33m:\u001b[0m    \u001b[1;31m# restore state no matter what (e.g., KeyboardInterrupt)\u001b[0m\u001b[1;33m\u001b[0m\u001b[1;33m\u001b[0m\u001b[0m\n\u001b[0;32m    301\u001b[0m             \u001b[1;32mif\u001b[0m \u001b[0mtimeout\u001b[0m \u001b[1;32mis\u001b[0m \u001b[1;32mNone\u001b[0m\u001b[1;33m:\u001b[0m\u001b[1;33m\u001b[0m\u001b[1;33m\u001b[0m\u001b[0m\n\u001b[1;32m--> 302\u001b[1;33m                 \u001b[0mwaiter\u001b[0m\u001b[1;33m.\u001b[0m\u001b[0macquire\u001b[0m\u001b[1;33m(\u001b[0m\u001b[1;33m)\u001b[0m\u001b[1;33m\u001b[0m\u001b[1;33m\u001b[0m\u001b[0m\n\u001b[0m\u001b[0;32m    303\u001b[0m                 \u001b[0mgotit\u001b[0m \u001b[1;33m=\u001b[0m \u001b[1;32mTrue\u001b[0m\u001b[1;33m\u001b[0m\u001b[1;33m\u001b[0m\u001b[0m\n\u001b[0;32m    304\u001b[0m             \u001b[1;32melse\u001b[0m\u001b[1;33m:\u001b[0m\u001b[1;33m\u001b[0m\u001b[1;33m\u001b[0m\u001b[0m\n",
      "\u001b[1;31mKeyboardInterrupt\u001b[0m: "
     ]
    }
   ],
   "source": [
    "gs_clf_svm = GridSearchCV(model, parameters, n_jobs=-1)\n",
    "gs_clf_svm = gs_clf_svm.fit(X, y)\n",
    "print(gs_clf_svm.best_score_)\n",
    "print(gs_clf_svm.best_params_)"
   ]
  },
  {
   "cell_type": "code",
   "execution_count": null,
   "metadata": {
    "ExecuteTime": {
     "end_time": "2020-11-17T17:36:15.060653Z",
     "start_time": "2020-11-17T14:51:47.423Z"
    }
   },
   "outputs": [],
   "source": [
    "#preparing the final pipeline using the selected parameters\n",
    "print(\"preparing the final pipeline using the selected parameters\")\n",
    "model = Pipeline([('vectorizer', CountVectorizer(ngram_range=(1,2))),\n",
    "    ('tfidf', TfidfTransformer(use_idf=True)),\n",
    "    ('clf', OneVsRestClassifier(LinearSVC(class_weight=\"balanced\")))])"
   ]
  },
  {
   "cell_type": "code",
   "execution_count": null,
   "metadata": {
    "ExecuteTime": {
     "end_time": "2020-11-17T17:36:15.062653Z",
     "start_time": "2020-11-17T14:51:48.155Z"
    }
   },
   "outputs": [],
   "source": [
    "#fit model with training data\n",
    "print(\"fit model with training data\")\n",
    "model.fit(X_train, y_train)\n",
    "train_time = time() - t0\n",
    "print(\"train time: %0.3fs\" % train_time)"
   ]
  },
  {
   "cell_type": "code",
   "execution_count": null,
   "metadata": {
    "ExecuteTime": {
     "end_time": "2020-11-17T17:36:15.064653Z",
     "start_time": "2020-11-17T14:51:53.432Z"
    }
   },
   "outputs": [],
   "source": [
    "#evaluation on test data\n",
    "t0 = time()\n",
    "pred = model.predict(X_test)\n",
    "test_time = time() - t0\n",
    "print(\"test time:  %0.3fs\" % test_time)"
   ]
  },
  {
   "cell_type": "code",
   "execution_count": null,
   "metadata": {
    "ExecuteTime": {
     "end_time": "2020-11-17T17:36:15.066653Z",
     "start_time": "2020-11-17T14:51:54.686Z"
    }
   },
   "outputs": [],
   "source": [
    "model.classes_"
   ]
  },
  {
   "cell_type": "code",
   "execution_count": null,
   "metadata": {
    "ExecuteTime": {
     "end_time": "2020-11-17T17:36:15.068654Z",
     "start_time": "2020-11-17T14:51:55.263Z"
    }
   },
   "outputs": [],
   "source": [
    "from sklearn.metrics import confusion_matrix, accuracy_score\n",
    "confusion_matrix(pred, y_test)"
   ]
  },
  {
   "cell_type": "code",
   "execution_count": null,
   "metadata": {
    "ExecuteTime": {
     "end_time": "2020-11-17T17:36:15.070655Z",
     "start_time": "2020-11-17T14:51:56.578Z"
    }
   },
   "outputs": [],
   "source": [
    "accuracy_score(y_test, pred)"
   ]
  },
  {
   "cell_type": "code",
   "execution_count": null,
   "metadata": {
    "ExecuteTime": {
     "end_time": "2020-11-17T17:36:15.072654Z",
     "start_time": "2020-11-17T14:51:57.316Z"
    }
   },
   "outputs": [],
   "source": [
    "from sklearn.metrics import classification_report\n",
    "print (classification_report(y_test, pred))"
   ]
  },
  {
   "cell_type": "code",
   "execution_count": null,
   "metadata": {},
   "outputs": [],
   "source": []
  },
  {
   "cell_type": "markdown",
   "metadata": {},
   "source": [
    "### save the model"
   ]
  },
  {
   "cell_type": "code",
   "execution_count": 18,
   "metadata": {},
   "outputs": [
    {
     "name": "stdout",
     "output_type": "stream",
     "text": [
      "Save Model\n"
     ]
    },
    {
     "data": {
      "text/plain": [
       "['model_section.pkl']"
      ]
     },
     "execution_count": 18,
     "metadata": {},
     "output_type": "execute_result"
    }
   ],
   "source": [
    "#save the model\n",
    "print(\"Save Model\")\n",
    "import joblib\n",
    "joblib.dump(model, 'model_4_digit.pkl', compress=1)"
   ]
  },
  {
   "cell_type": "markdown",
   "metadata": {},
   "source": [
    "### load Model"
   ]
  },
  {
   "cell_type": "code",
   "execution_count": 39,
   "metadata": {},
   "outputs": [
    {
     "name": "stdout",
     "output_type": "stream",
     "text": [
      "Load Model\n"
     ]
    }
   ],
   "source": [
    "import joblib\n",
    "print(\"Load Model\")\n",
    "model = joblib.load('model_section.pkl')"
   ]
  },
  {
   "cell_type": "code",
   "execution_count": 40,
   "metadata": {},
   "outputs": [
    {
     "name": "stdout",
     "output_type": "stream",
     "text": [
      "Video game consoles\n"
     ]
    }
   ],
   "source": [
    "products = input()  # Video game consoles : 20"
   ]
  },
  {
   "cell_type": "code",
   "execution_count": 41,
   "metadata": {},
   "outputs": [
    {
     "data": {
      "text/plain": [
       "'20'"
      ]
     },
     "execution_count": 41,
     "metadata": {},
     "output_type": "execute_result"
    }
   ],
   "source": [
    "model.predict([products])[0]"
   ]
  },
  {
   "cell_type": "code",
   "execution_count": null,
   "metadata": {},
   "outputs": [],
   "source": []
  },
  {
   "cell_type": "code",
   "execution_count": null,
   "metadata": {},
   "outputs": [],
   "source": []
  },
  {
   "cell_type": "markdown",
   "metadata": {},
   "source": [
    "## Chapter Model"
   ]
  },
  {
   "cell_type": "code",
   "execution_count": 12,
   "metadata": {
    "ExecuteTime": {
     "end_time": "2020-11-15T20:01:29.552781Z",
     "start_time": "2020-11-15T19:59:32.768726Z"
    }
   },
   "outputs": [
    {
     "name": "stdout",
     "output_type": "stream",
     "text": [
      "Load the dataset : chapter\n",
      "Load dataset time:  116.764s\n",
      "49137\n"
     ]
    },
    {
     "data": {
      "text/html": [
       "<div>\n",
       "<style scoped>\n",
       "    .dataframe tbody tr th:only-of-type {\n",
       "        vertical-align: middle;\n",
       "    }\n",
       "\n",
       "    .dataframe tbody tr th {\n",
       "        vertical-align: top;\n",
       "    }\n",
       "\n",
       "    .dataframe thead th {\n",
       "        text-align: right;\n",
       "    }\n",
       "</style>\n",
       "<table border=\"1\" class=\"dataframe\">\n",
       "  <thead>\n",
       "    <tr style=\"text-align: right;\">\n",
       "      <th></th>\n",
       "      <th>target</th>\n",
       "      <th>data</th>\n",
       "    </tr>\n",
       "  </thead>\n",
       "  <tbody>\n",
       "    <tr>\n",
       "      <th>0</th>\n",
       "      <td>01</td>\n",
       "      <td>horses; live, purebred breeding animals - pure...</td>\n",
       "    </tr>\n",
       "    <tr>\n",
       "      <th>1</th>\n",
       "      <td>01</td>\n",
       "      <td>horses; live, other than purebred breeding ani...</td>\n",
       "    </tr>\n",
       "    <tr>\n",
       "      <th>2</th>\n",
       "      <td>01</td>\n",
       "      <td>asses; live - other</td>\n",
       "    </tr>\n",
       "    <tr>\n",
       "      <th>3</th>\n",
       "      <td>01</td>\n",
       "      <td>mules and hinnies; live-  other</td>\n",
       "    </tr>\n",
       "    <tr>\n",
       "      <th>4</th>\n",
       "      <td>01</td>\n",
       "      <td>cattle; live, purebred breeding animals - pure...</td>\n",
       "    </tr>\n",
       "  </tbody>\n",
       "</table>\n",
       "</div>"
      ],
      "text/plain": [
       "  target                                               data\n",
       "0     01  horses; live, purebred breeding animals - pure...\n",
       "1     01  horses; live, other than purebred breeding ani...\n",
       "2     01                                asses; live - other\n",
       "3     01                    mules and hinnies; live-  other\n",
       "4     01  cattle; live, purebred breeding animals - pure..."
      ]
     },
     "execution_count": 12,
     "metadata": {},
     "output_type": "execute_result"
    }
   ],
   "source": [
    "#types = \"section\"\n",
    "types = \"chapter\"\n",
    "\n",
    "print(\"Load the dataset : chapter\")\n",
    "t0 = time()\n",
    "\n",
    "\n",
    "sheets = '8_digit'\n",
    "eights = get_master(sheets,types)\n",
    "sheets = '6_digit'\n",
    "sixs = get_master(sheets,types)\n",
    "sheets = '4_digit'\n",
    "fours = get_master(sheets,types)\n",
    "sheets = '2_digit'\n",
    "twos = get_master(sheets,types)\n",
    "\n",
    "sheets = 'test_01'\n",
    "tests = get_master(sheets,types)\n",
    "\n",
    "sheets = 'Declaration_2019_10'\n",
    "decl = get_master(sheets,types)\n",
    "\n",
    "data = pd.concat([eights,sixs,fours,twos,tests,decl], ignore_index=True)\n",
    "twenty_train = manage_data(data)\n",
    "\n",
    "\n",
    "\n",
    "#twenty_test = manage_data(tests)\n",
    "\n",
    "load_time = time() - t0\n",
    "print(\"Load dataset time:  %0.3fs\" % load_time)\n",
    "print(len(twenty_train))\n",
    "twenty_train.head()"
   ]
  },
  {
   "cell_type": "code",
   "execution_count": 13,
   "metadata": {
    "ExecuteTime": {
     "end_time": "2020-11-15T20:01:29.630779Z",
     "start_time": "2020-11-15T20:01:29.556783Z"
    }
   },
   "outputs": [
    {
     "data": {
      "text/plain": [
       "Counter({'01': 126,\n",
       "         '02': 253,\n",
       "         '03': 907,\n",
       "         '04': 365,\n",
       "         '05': 70,\n",
       "         '06': 89,\n",
       "         '07': 391,\n",
       "         '08': 310,\n",
       "         '09': 172,\n",
       "         '10': 106,\n",
       "         '11': 117,\n",
       "         '12': 217,\n",
       "         '13': 52,\n",
       "         '14': 33,\n",
       "         '15': 327,\n",
       "         '16': 265,\n",
       "         '17': 141,\n",
       "         '18': 133,\n",
       "         '19': 204,\n",
       "         '20': 432,\n",
       "         '21': 259,\n",
       "         '22': 402,\n",
       "         '23': 247,\n",
       "         '24': 125,\n",
       "         '25': 268,\n",
       "         '26': 156,\n",
       "         '27': 267,\n",
       "         '28': 751,\n",
       "         '29': 1940,\n",
       "         '30': 297,\n",
       "         '31': 90,\n",
       "         '32': 338,\n",
       "         '33': 477,\n",
       "         '34': 257,\n",
       "         '35': 117,\n",
       "         '36': 49,\n",
       "         '37': 198,\n",
       "         '38': 531,\n",
       "         '39': 1710,\n",
       "         '40': 1158,\n",
       "         '41': 225,\n",
       "         '42': 204,\n",
       "         '43': 54,\n",
       "         '44': 602,\n",
       "         '45': 38,\n",
       "         '46': 105,\n",
       "         '47': 71,\n",
       "         '48': 682,\n",
       "         '49': 148,\n",
       "         '50': 45,\n",
       "         '51': 193,\n",
       "         '52': 516,\n",
       "         '53': 96,\n",
       "         '54': 314,\n",
       "         '55': 384,\n",
       "         '56': 152,\n",
       "         '57': 153,\n",
       "         '58': 212,\n",
       "         '59': 145,\n",
       "         '60': 196,\n",
       "         '61': 558,\n",
       "         '62': 797,\n",
       "         '63': 287,\n",
       "         '64': 247,\n",
       "         '65': 63,\n",
       "         '66': 25,\n",
       "         '67': 59,\n",
       "         '68': 265,\n",
       "         '69': 259,\n",
       "         '70': 468,\n",
       "         '71': 590,\n",
       "         '72': 848,\n",
       "         '73': 1484,\n",
       "         '74': 253,\n",
       "         '75': 73,\n",
       "         '76': 6585,\n",
       "         '78': 47,\n",
       "         '79': 47,\n",
       "         '80': 39,\n",
       "         '81': 183,\n",
       "         '82': 403,\n",
       "         '83': 444,\n",
       "         '84': 4505,\n",
       "         '85': 3947,\n",
       "         '86': 141,\n",
       "         '87': 4593,\n",
       "         '88': 294,\n",
       "         '89': 106,\n",
       "         '90': 1040,\n",
       "         '91': 320,\n",
       "         '92': 110,\n",
       "         '93': 89,\n",
       "         '94': 473,\n",
       "         '95': 222,\n",
       "         '96': 358,\n",
       "         '97': 33})"
      ]
     },
     "execution_count": 13,
     "metadata": {},
     "output_type": "execute_result"
    }
   ],
   "source": [
    "from collections import Counter\n",
    "Counter(twenty_train[\"target\"])"
   ]
  },
  {
   "cell_type": "code",
   "execution_count": 14,
   "metadata": {
    "ExecuteTime": {
     "end_time": "2020-11-15T20:02:43.636955Z",
     "start_time": "2020-11-15T20:02:43.428996Z"
    }
   },
   "outputs": [
    {
     "name": "stdout",
     "output_type": "stream",
     "text": [
      "Save DataFrame\n",
      "success\n"
     ]
    }
   ],
   "source": [
    "#save the DataFrame\n",
    "print(\"Save DataFrame\")\n",
    "import joblib\n",
    "joblib.dump(twenty_train, 'train_chapter.pkl', compress=1)\n",
    "print('success')"
   ]
  },
  {
   "cell_type": "code",
   "execution_count": 5,
   "metadata": {},
   "outputs": [],
   "source": [
    "import re \n",
    "def clean_str(string):\n",
    "    \"\"\"\n",
    "    Tokenization/string cleaning for dataset\n",
    "    Every dataset is lower cased except\n",
    "    \"\"\"\n",
    "    string = re.sub(r\"\\n\", \"\", string)    \n",
    "    string = re.sub(r\"\\r\", \"\", string) \n",
    "    string = re.sub(r\"[0-9]\", \"digit\", string)\n",
    "    string = re.sub(r\"\\'\", \"\", string)    \n",
    "    string = re.sub(r\"\\\"\", \"\", string)    \n",
    "    return string.strip().lower()"
   ]
  },
  {
   "cell_type": "code",
   "execution_count": 6,
   "metadata": {},
   "outputs": [
    {
     "name": "stdout",
     "output_type": "stream",
     "text": [
      "rain test split\n"
     ]
    }
   ],
   "source": [
    "#train test split\n",
    "print(\"rain test split\")\n",
    "df = twenty_train.copy()\n",
    "from sklearn.model_selection import train_test_split\n",
    "X = []\n",
    "for i in range(df.shape[0]):\n",
    "    X.append(clean_str(df.iloc[i][1]))\n",
    "y = np.array(df[\"target\"])\n",
    "X_train, X_test, y_train, y_test = train_test_split(X, y, test_size=0.3, random_state=5)"
   ]
  },
  {
   "cell_type": "code",
   "execution_count": 7,
   "metadata": {},
   "outputs": [
    {
     "name": "stdout",
     "output_type": "stream",
     "text": [
      "feature engineering and model selection\n"
     ]
    }
   ],
   "source": [
    "#feature engineering and model selection\n",
    "print(\"feature engineering and model selection\")\n",
    "from sklearn.svm import LinearSVC\n",
    "from sklearn.linear_model import LogisticRegression\n",
    "from sklearn.ensemble import RandomForestClassifier"
   ]
  },
  {
   "cell_type": "code",
   "execution_count": 8,
   "metadata": {},
   "outputs": [
    {
     "name": "stdout",
     "output_type": "stream",
     "text": [
      "pipeline of feature engineering and model\n"
     ]
    }
   ],
   "source": [
    "#pipeline of feature engineering and model\n",
    "print(\"pipeline of feature engineering and model\")\n",
    "model = Pipeline([('vectorizer', CountVectorizer()),\n",
    "    ('tfidf', TfidfTransformer()),\n",
    "    ('clf', OneVsRestClassifier(LinearSVC(class_weight=\"balanced\")))])"
   ]
  },
  {
   "cell_type": "code",
   "execution_count": 9,
   "metadata": {},
   "outputs": [
    {
     "name": "stdout",
     "output_type": "stream",
     "text": [
      "paramater selection\n"
     ]
    }
   ],
   "source": [
    "#paramater selection\n",
    "print(\"paramater selection\")\n",
    "from sklearn.model_selection import GridSearchCV\n",
    "\n",
    "parameters = {'vectorizer__ngram_range': [(1, 1), (1, 2),(2,2)],\n",
    "               'tfidf__use_idf': (True, False)}"
   ]
  },
  {
   "cell_type": "code",
   "execution_count": 10,
   "metadata": {},
   "outputs": [
    {
     "name": "stdout",
     "output_type": "stream",
     "text": [
      "Training: \n"
     ]
    },
    {
     "name": "stderr",
     "output_type": "stream",
     "text": [
      "C:\\ProgramData\\Anaconda3\\lib\\site-packages\\sklearn\\svm\\_base.py:976: ConvergenceWarning: Liblinear failed to converge, increase the number of iterations.\n",
      "  warnings.warn(\"Liblinear failed to converge, increase \"\n"
     ]
    },
    {
     "name": "stdout",
     "output_type": "stream",
     "text": [
      "0.8671036298745671\n",
      "{'tfidf__use_idf': True, 'vectorizer__ngram_range': (1, 2)}\n"
     ]
    }
   ],
   "source": [
    "print(\"Training: \")\n",
    "   \n",
    "t0 = time()\n",
    "gs_clf_svm = GridSearchCV(model, parameters, n_jobs=-1)\n",
    "gs_clf_svm = gs_clf_svm.fit(X, y)\n",
    "print(gs_clf_svm.best_score_)\n",
    "print(gs_clf_svm.best_params_)"
   ]
  },
  {
   "cell_type": "code",
   "execution_count": 11,
   "metadata": {},
   "outputs": [],
   "source": [
    "#preparing the final pipeline using the selected parameters\n",
    "model = Pipeline([('vectorizer', CountVectorizer(ngram_range=(1,2))),\n",
    "    ('tfidf', TfidfTransformer(use_idf=True)),\n",
    "    ('clf', OneVsRestClassifier(LinearSVC(class_weight=\"balanced\")))])"
   ]
  },
  {
   "cell_type": "code",
   "execution_count": 12,
   "metadata": {},
   "outputs": [
    {
     "name": "stderr",
     "output_type": "stream",
     "text": [
      "C:\\ProgramData\\Anaconda3\\lib\\site-packages\\sklearn\\svm\\_base.py:976: ConvergenceWarning: Liblinear failed to converge, increase the number of iterations.\n",
      "  warnings.warn(\"Liblinear failed to converge, increase \"\n"
     ]
    },
    {
     "name": "stdout",
     "output_type": "stream",
     "text": [
      "train time: 3068.481s\n"
     ]
    }
   ],
   "source": [
    "#fit model with training data\n",
    "model.fit(X_train, y_train)\n",
    "train_time = time() - t0\n",
    "print(\"train time: %0.3fs\" % train_time)"
   ]
  },
  {
   "cell_type": "code",
   "execution_count": 13,
   "metadata": {},
   "outputs": [
    {
     "name": "stdout",
     "output_type": "stream",
     "text": [
      "test time:  0.684s\n"
     ]
    }
   ],
   "source": [
    "#evaluation on test data\n",
    "t0 = time()\n",
    "pred = model.predict(X_test)\n",
    "\n",
    "test_time = time() - t0\n",
    "print(\"test time:  %0.3fs\" % test_time)"
   ]
  },
  {
   "cell_type": "code",
   "execution_count": 14,
   "metadata": {},
   "outputs": [
    {
     "data": {
      "text/plain": [
       "array(['01', '02', '03', '04', '05', '06', '07', '08', '09', '10', '11',\n",
       "       '12', '13', '14', '15', '16', '17', '18', '19', '20', '21', '22',\n",
       "       '23', '24', '25', '26', '27', '28', '29', '30', '31', '32', '33',\n",
       "       '34', '35', '36', '37', '38', '39', '40', '41', '42', '43', '44',\n",
       "       '45', '46', '47', '48', '49', '50', '51', '52', '53', '54', '55',\n",
       "       '56', '57', '58', '59', '60', '61', '62', '63', '64', '65', '66',\n",
       "       '67', '68', '69', '70', '71', '72', '73', '74', '75', '76', '78',\n",
       "       '79', '80', '81', '82', '83', '84', '85', '86', '87', '88', '89',\n",
       "       '90', '91', '92', '93', '94', '95', '96', '97'], dtype='<U2')"
      ]
     },
     "execution_count": 14,
     "metadata": {},
     "output_type": "execute_result"
    }
   ],
   "source": [
    "model.classes_"
   ]
  },
  {
   "cell_type": "code",
   "execution_count": 15,
   "metadata": {},
   "outputs": [
    {
     "data": {
      "text/plain": [
       "array([[ 37,   0,   2, ...,   0,   0,   0],\n",
       "       [  0,  72,   0, ...,   0,   0,   0],\n",
       "       [  0,   0, 280, ...,   0,   0,   0],\n",
       "       ...,\n",
       "       [  0,   0,   0, ...,  49,   0,   0],\n",
       "       [  0,   0,   0, ...,   0, 103,   0],\n",
       "       [  0,   0,   0, ...,   0,   0,  10]], dtype=int64)"
      ]
     },
     "execution_count": 15,
     "metadata": {},
     "output_type": "execute_result"
    }
   ],
   "source": [
    "from sklearn.metrics import confusion_matrix, accuracy_score\n",
    "confusion_matrix(pred, y_test)"
   ]
  },
  {
   "cell_type": "code",
   "execution_count": 16,
   "metadata": {},
   "outputs": [
    {
     "name": "stdout",
     "output_type": "stream",
     "text": [
      "0.9134445801112467\n"
     ]
    }
   ],
   "source": [
    "print(accuracy_score(y_test, pred))\n",
    "\n"
   ]
  },
  {
   "cell_type": "code",
   "execution_count": 17,
   "metadata": {},
   "outputs": [
    {
     "name": "stdout",
     "output_type": "stream",
     "text": [
      "              precision    recall  f1-score   support\n",
      "\n",
      "          01       0.95      1.00      0.97        37\n",
      "          02       1.00      1.00      1.00        72\n",
      "          03       0.99      0.99      0.99       282\n",
      "          04       0.97      0.99      0.98       115\n",
      "          05       1.00      0.88      0.94        17\n",
      "          06       1.00      1.00      1.00        25\n",
      "          07       0.97      0.97      0.97       129\n",
      "          08       0.99      0.94      0.96        95\n",
      "          09       0.95      1.00      0.98        59\n",
      "          10       1.00      0.94      0.97        31\n",
      "          11       0.89      1.00      0.94        32\n",
      "          12       0.99      0.97      0.98        69\n",
      "          13       0.89      0.94      0.92        18\n",
      "          14       0.90      1.00      0.95         9\n",
      "          15       0.98      1.00      0.99        94\n",
      "          16       1.00      0.97      0.99        71\n",
      "          17       0.92      0.89      0.91        38\n",
      "          18       0.95      0.97      0.96        38\n",
      "          19       0.89      0.86      0.88        57\n",
      "          20       0.91      0.95      0.93       143\n",
      "          21       0.88      0.84      0.86        77\n",
      "          22       0.94      0.95      0.95       105\n",
      "          23       0.97      0.97      0.97        60\n",
      "          24       1.00      0.97      0.99        35\n",
      "          25       0.99      0.98      0.98        81\n",
      "          26       0.92      0.96      0.94        51\n",
      "          27       0.95      0.96      0.95        72\n",
      "          28       0.95      0.96      0.96       233\n",
      "          29       0.95      0.93      0.94       588\n",
      "          30       0.99      0.82      0.90       101\n",
      "          31       1.00      0.93      0.96        28\n",
      "          32       0.91      0.88      0.89       114\n",
      "          33       0.87      0.93      0.90       148\n",
      "          34       0.98      0.85      0.91        72\n",
      "          35       0.93      0.81      0.87        32\n",
      "          36       1.00      0.87      0.93        15\n",
      "          37       0.97      1.00      0.98        59\n",
      "          38       0.89      0.87      0.88       169\n",
      "          39       0.86      0.78      0.82       508\n",
      "          40       0.87      0.83      0.85       341\n",
      "          41       0.99      1.00      0.99        77\n",
      "          42       0.84      0.84      0.84        51\n",
      "          43       1.00      1.00      1.00        20\n",
      "          44       0.95      0.98      0.96       179\n",
      "          45       1.00      1.00      1.00         8\n",
      "          46       1.00      0.97      0.99        37\n",
      "          47       1.00      1.00      1.00        29\n",
      "          48       0.99      0.96      0.98       200\n",
      "          49       0.90      0.74      0.81        50\n",
      "          50       1.00      1.00      1.00        10\n",
      "          51       0.98      1.00      0.99        57\n",
      "          52       0.98      1.00      0.99       154\n",
      "          53       0.97      1.00      0.98        28\n",
      "          54       0.99      0.99      0.99        92\n",
      "          55       0.99      0.99      0.99       128\n",
      "          56       0.94      0.88      0.91        50\n",
      "          57       0.98      0.96      0.97        47\n",
      "          58       1.00      0.97      0.98        63\n",
      "          59       0.97      0.97      0.97        36\n",
      "          60       1.00      0.93      0.96        55\n",
      "          61       0.99      0.93      0.96       197\n",
      "          62       0.96      0.98      0.97       240\n",
      "          63       0.94      0.96      0.95        80\n",
      "          64       0.99      0.95      0.97        74\n",
      "          65       1.00      0.96      0.98        28\n",
      "          66       1.00      1.00      1.00         8\n",
      "          67       0.89      0.96      0.92        25\n",
      "          68       0.94      0.97      0.95        86\n",
      "          69       0.93      0.95      0.94        65\n",
      "          70       0.87      0.94      0.90       140\n",
      "          71       0.89      0.89      0.89       185\n",
      "          72       0.99      1.00      0.99       242\n",
      "          73       0.86      0.79      0.83       481\n",
      "          74       0.97      0.97      0.97        77\n",
      "          75       1.00      1.00      1.00        24\n",
      "          76       0.99      0.99      0.99      1945\n",
      "          78       1.00      0.93      0.96        14\n",
      "          79       0.89      1.00      0.94        16\n",
      "          80       1.00      0.85      0.92        13\n",
      "          81       0.94      0.98      0.96        61\n",
      "          82       0.82      0.81      0.81       125\n",
      "          83       0.70      0.68      0.69       123\n",
      "          84       0.89      0.86      0.87      1355\n",
      "          85       0.78      0.88      0.83      1170\n",
      "          86       1.00      1.00      1.00        32\n",
      "          87       0.85      0.88      0.87      1329\n",
      "          88       0.60      0.83      0.69        90\n",
      "          89       1.00      0.97      0.98        30\n",
      "          90       0.90      0.80      0.85       314\n",
      "          91       0.97      0.98      0.97        86\n",
      "          92       0.97      0.97      0.97        40\n",
      "          93       1.00      0.96      0.98        23\n",
      "          94       0.92      0.88      0.90       150\n",
      "          95       0.92      0.83      0.88        59\n",
      "          96       0.97      0.90      0.94       114\n",
      "          97       0.83      1.00      0.91        10\n",
      "\n",
      "    accuracy                           0.91     14742\n",
      "   macro avg       0.94      0.94      0.94     14742\n",
      "weighted avg       0.92      0.91      0.91     14742\n",
      "\n"
     ]
    }
   ],
   "source": [
    "from sklearn.metrics import classification_report\n",
    "print (classification_report(y_test, pred))"
   ]
  },
  {
   "cell_type": "markdown",
   "metadata": {},
   "source": [
    "### save the model"
   ]
  },
  {
   "cell_type": "code",
   "execution_count": 18,
   "metadata": {},
   "outputs": [
    {
     "name": "stdout",
     "output_type": "stream",
     "text": [
      "Save Model\n"
     ]
    },
    {
     "data": {
      "text/plain": [
       "['model_chapter.pkl']"
      ]
     },
     "execution_count": 18,
     "metadata": {},
     "output_type": "execute_result"
    }
   ],
   "source": [
    "#save the model\n",
    "print(\"Save Model\")\n",
    "import joblib\n",
    "joblib.dump(model, 'model_chapter.pkl', compress=1)"
   ]
  },
  {
   "cell_type": "code",
   "execution_count": null,
   "metadata": {},
   "outputs": [],
   "source": []
  },
  {
   "cell_type": "markdown",
   "metadata": {},
   "source": [
    "### load Model"
   ]
  },
  {
   "cell_type": "code",
   "execution_count": 19,
   "metadata": {},
   "outputs": [
    {
     "name": "stdout",
     "output_type": "stream",
     "text": [
      "Load Model\n"
     ]
    }
   ],
   "source": [
    "import joblib\n",
    "print(\"Load Model\")\n",
    "model = joblib.load('model_chapter.pkl')"
   ]
  },
  {
   "cell_type": "code",
   "execution_count": 21,
   "metadata": {},
   "outputs": [
    {
     "name": "stdout",
     "output_type": "stream",
     "text": [
      "Video game consoles\n"
     ]
    }
   ],
   "source": [
    "products = input()  # Video game consoles : 95"
   ]
  },
  {
   "cell_type": "code",
   "execution_count": 22,
   "metadata": {},
   "outputs": [
    {
     "data": {
      "text/plain": [
       "'95'"
      ]
     },
     "execution_count": 22,
     "metadata": {},
     "output_type": "execute_result"
    }
   ],
   "source": [
    "model.predict([products])[0]"
   ]
  },
  {
   "cell_type": "code",
   "execution_count": null,
   "metadata": {},
   "outputs": [],
   "source": []
  },
  {
   "cell_type": "code",
   "execution_count": 29,
   "metadata": {},
   "outputs": [],
   "source": []
  },
  {
   "cell_type": "code",
   "execution_count": null,
   "metadata": {},
   "outputs": [],
   "source": []
  }
 ],
 "metadata": {
  "kernelspec": {
   "display_name": "Python 3",
   "language": "python",
   "name": "python3"
  },
  "language_info": {
   "codemirror_mode": {
    "name": "ipython",
    "version": 3
   },
   "file_extension": ".py",
   "mimetype": "text/x-python",
   "name": "python",
   "nbconvert_exporter": "python",
   "pygments_lexer": "ipython3",
   "version": "3.8.3"
  },
  "nbTranslate": {
   "displayLangs": [
    "*"
   ],
   "hotkey": "alt-t",
   "langInMainMenu": true,
   "sourceLang": "en",
   "targetLang": "fr",
   "useGoogleTranslate": true
  },
  "toc": {
   "base_numbering": 1,
   "nav_menu": {},
   "number_sections": false,
   "sideBar": true,
   "skip_h1_title": false,
   "title_cell": "Table of Contents",
   "title_sidebar": "Contents",
   "toc_cell": false,
   "toc_position": {
    "height": "calc(100% - 180px)",
    "left": "10px",
    "top": "150px",
    "width": "248.324px"
   },
   "toc_section_display": true,
   "toc_window_display": true
  }
 },
 "nbformat": 4,
 "nbformat_minor": 4
}
