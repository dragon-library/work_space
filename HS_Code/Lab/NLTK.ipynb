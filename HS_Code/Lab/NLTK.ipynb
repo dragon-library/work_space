{
 "cells": [
  {
   "cell_type": "code",
   "execution_count": null,
   "metadata": {},
   "outputs": [],
   "source": []
  },
  {
   "cell_type": "code",
   "execution_count": 1,
   "metadata": {},
   "outputs": [],
   "source": [
    "# Installing NLTK and its modules\n",
    "\n",
    "#!pip install -U nltk\n",
    "#pip install -U numpy"
   ]
  },
  {
   "cell_type": "code",
   "execution_count": null,
   "metadata": {},
   "outputs": [],
   "source": [
    "import  nltk\n",
    "nltk.download()"
   ]
  },
  {
   "cell_type": "code",
   "execution_count": null,
   "metadata": {},
   "outputs": [],
   "source": [
    ">>> import nltk\n",
    ">>> from nltk.corpus import twitter_samples as ts\n",
    ">>> ts.fileids()"
   ]
  },
  {
   "cell_type": "code",
   "execution_count": null,
   "metadata": {},
   "outputs": [],
   "source": [
    "samples_tw = ts.strings('tweets.20150430-223406.json')\n",
    "samples_tw[20]\n",
    "from nltk.tokenize import word_tokenize as wtoken\n",
    "wtoken(samples_tw[20])"
   ]
  },
  {
   "cell_type": "code",
   "execution_count": null,
   "metadata": {},
   "outputs": [],
   "source": [
    ">>> from nltk import regexp_tokenize\n",
    ">>> patn = '\\w+'\n",
    ">>> regexp_tokenize(samples_tw[20],patn)\n"
   ]
  },
  {
   "cell_type": "code",
   "execution_count": null,
   "metadata": {},
   "outputs": [],
   "source": [
    ">>> patn = '\\w+|[!,\\-,]'\n",
    ">>> regexp_tokenize(samples_tw[20],patn)"
   ]
  },
  {
   "cell_type": "code",
   "execution_count": null,
   "metadata": {},
   "outputs": [],
   "source": [
    "# Stemming\n",
    "\n",
    "import nltk\n",
    "from nltk.stem import PorterStemmer\n",
    "stemming = PorterStemmer()\n",
    "stemming.stem(\"enjoying\")"
   ]
  },
  {
   "cell_type": "code",
   "execution_count": null,
   "metadata": {},
   "outputs": [],
   "source": [
    "stemming.stem(\"enjoys\")"
   ]
  },
  {
   "cell_type": "code",
   "execution_count": null,
   "metadata": {},
   "outputs": [],
   "source": [
    "stemming.stem(\"enjoyable\")"
   ]
  },
  {
   "cell_type": "markdown",
   "metadata": {},
   "source": [
    "## Removing stop words"
   ]
  },
  {
   "cell_type": "code",
   "execution_count": null,
   "metadata": {},
   "outputs": [],
   "source": [
    ">>> from nltk.corpus import stopwords\n",
    ">>> sw_l = stopwords.words('english')\n",
    ">>> sw_l[20:40]"
   ]
  },
  {
   "cell_type": "code",
   "execution_count": null,
   "metadata": {},
   "outputs": [],
   "source": [
    "example_text = \"This is an example sentence to test stopwords\"\n",
    ">>> example_text_without_stopwords=[word for word in example_text.split() if word not in sw_l]\n",
    ">>> example_text_without_stopwords"
   ]
  },
  {
   "cell_type": "code",
   "execution_count": null,
   "metadata": {},
   "outputs": [],
   "source": [
    "from nltk.corpus import gutenberg\n",
    ">>> words_in_hamlet = gutenberg.words('shakespeare-hamlet.txt')\n",
    ">>> words_in_hamlet_without_sw = [word for word in words_in_hamlet if word not in sw_l]\n",
    ">>> len(words_in_hamlet_without_sw)*100.0/len(words_in_hamlet)"
   ]
  },
  {
   "cell_type": "code",
   "execution_count": null,
   "metadata": {},
   "outputs": [],
   "source": [
    ">>> import nltk\n",
    ">>> from nltk.corpus import webtext\n",
    ">>> webtext_sentences = webtext.sents('firefox.txt')\n",
    ">>> webtext_words = webtext.words('firefox.txt')\n",
    ">>> len(webtext_sentences)"
   ]
  },
  {
   "cell_type": "code",
   "execution_count": null,
   "metadata": {},
   "outputs": [],
   "source": [
    "len(webtext_words)"
   ]
  },
  {
   "cell_type": "code",
   "execution_count": null,
   "metadata": {},
   "outputs": [],
   "source": [
    ">>> vocabulary = set(webtext_words)\n",
    ">>> len(vocabulary)"
   ]
  },
  {
   "cell_type": "code",
   "execution_count": null,
   "metadata": {},
   "outputs": [],
   "source": [
    ">>> frequency_dist = nltk.FreqDist(webtext_words)\n",
    ">>> sorted(frequency_dist,key=frequency_dist.__getitem__, reverse=True)[0:30]"
   ]
  },
  {
   "cell_type": "code",
   "execution_count": null,
   "metadata": {},
   "outputs": [],
   "source": [
    ">>> large_words = dict([(k,v) for k,v in frequency_dist.items() if len(k)>3])\n",
    ">>> frequency_dist = nltk.FreqDist(large_words)\n",
    ">>> frequency_dist.plot(50,cumulative=False)"
   ]
  },
  {
   "cell_type": "code",
   "execution_count": null,
   "metadata": {},
   "outputs": [],
   "source": []
  }
 ],
 "metadata": {
  "kernelspec": {
   "display_name": "Python 3",
   "language": "python",
   "name": "python3"
  },
  "language_info": {
   "codemirror_mode": {
    "name": "ipython",
    "version": 3
   },
   "file_extension": ".py",
   "mimetype": "text/x-python",
   "name": "python",
   "nbconvert_exporter": "python",
   "pygments_lexer": "ipython3",
   "version": "3.8.3"
  },
  "nbTranslate": {
   "displayLangs": [
    "*"
   ],
   "hotkey": "alt-t",
   "langInMainMenu": true,
   "sourceLang": "en",
   "targetLang": "fr",
   "useGoogleTranslate": true
  },
  "toc": {
   "base_numbering": 1,
   "nav_menu": {},
   "number_sections": true,
   "sideBar": true,
   "skip_h1_title": false,
   "title_cell": "Table of Contents",
   "title_sidebar": "Contents",
   "toc_cell": false,
   "toc_position": {},
   "toc_section_display": true,
   "toc_window_display": false
  }
 },
 "nbformat": 4,
 "nbformat_minor": 4
}
