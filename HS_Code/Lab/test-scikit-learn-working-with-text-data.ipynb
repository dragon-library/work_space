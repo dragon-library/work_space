{
 "cells": [
  {
   "cell_type": "markdown",
   "metadata": {},
   "source": [
    "Working With Text Data\n",
    "===\n",
    "\n",
    "- https://scikit-learn.org/stable/tutorial/text_analytics/working_with_text_data.html"
   ]
  },
  {
   "cell_type": "code",
   "execution_count": 3,
   "metadata": {
    "ExecuteTime": {
     "end_time": "2020-11-16T04:40:11.172122Z",
     "start_time": "2020-11-16T04:40:11.119156Z"
    }
   },
   "outputs": [],
   "source": [
    "import pandas as pd\n",
    "import numpy as np\n",
    "import joblib"
   ]
  },
  {
   "cell_type": "code",
   "execution_count": 10,
   "metadata": {
    "ExecuteTime": {
     "end_time": "2020-11-16T04:41:11.020701Z",
     "start_time": "2020-11-16T04:41:11.014705Z"
    }
   },
   "outputs": [],
   "source": [
    "#urls = 'https://github.com/dragon-library/work_space/raw/main/HS_Code/HS/hs_code.xlsx'\n",
    "urls = 'data/hs_code.xlsx'\n",
    "types = 'section'\n",
    "\n",
    "\n",
    "def get_master(sheets, types='section'):\n",
    "    data = pd.read_excel(urls, sheet_name=sheets)\n",
    "    data[types] = data[types].map('{:02}'.format)\n",
    "    data = data[[types, 'description']]\n",
    "    data['description'] = data['description'].str.lower()\n",
    "    #   data = data.rename(columns={'heading' : 'target', 'product_desc' : 'question_text'})\n",
    "\n",
    "    return data\n",
    "\n",
    "\n",
    "def manage_data(df):\n",
    "    df.columns = ['target', 'data']\n",
    "\n",
    "    return df"
   ]
  },
  {
   "cell_type": "code",
   "execution_count": 5,
   "metadata": {
    "ExecuteTime": {
     "end_time": "2020-11-16T04:40:18.096292Z",
     "start_time": "2020-11-16T04:40:17.952383Z"
    }
   },
   "outputs": [
    {
     "name": "stdout",
     "output_type": "stream",
     "text": [
      "Load DataFrame\n"
     ]
    },
    {
     "data": {
      "text/html": [
       "<div>\n",
       "<style scoped>\n",
       "    .dataframe tbody tr th:only-of-type {\n",
       "        vertical-align: middle;\n",
       "    }\n",
       "\n",
       "    .dataframe tbody tr th {\n",
       "        vertical-align: top;\n",
       "    }\n",
       "\n",
       "    .dataframe thead th {\n",
       "        text-align: right;\n",
       "    }\n",
       "</style>\n",
       "<table border=\"1\" class=\"dataframe\">\n",
       "  <thead>\n",
       "    <tr style=\"text-align: right;\">\n",
       "      <th></th>\n",
       "      <th>target</th>\n",
       "      <th>data</th>\n",
       "    </tr>\n",
       "  </thead>\n",
       "  <tbody>\n",
       "    <tr>\n",
       "      <th>0</th>\n",
       "      <td>01</td>\n",
       "      <td>horses; live, purebred breeding animals - pure...</td>\n",
       "    </tr>\n",
       "    <tr>\n",
       "      <th>1</th>\n",
       "      <td>01</td>\n",
       "      <td>horses; live, other than purebred breeding ani...</td>\n",
       "    </tr>\n",
       "    <tr>\n",
       "      <th>2</th>\n",
       "      <td>01</td>\n",
       "      <td>asses; live - other</td>\n",
       "    </tr>\n",
       "    <tr>\n",
       "      <th>3</th>\n",
       "      <td>01</td>\n",
       "      <td>mules and hinnies; live-  other</td>\n",
       "    </tr>\n",
       "    <tr>\n",
       "      <th>4</th>\n",
       "      <td>01</td>\n",
       "      <td>cattle; live, purebred breeding animals - pure...</td>\n",
       "    </tr>\n",
       "  </tbody>\n",
       "</table>\n",
       "</div>"
      ],
      "text/plain": [
       "  target                                               data\n",
       "0     01  horses; live, purebred breeding animals - pure...\n",
       "1     01  horses; live, other than purebred breeding ani...\n",
       "2     01                                asses; live - other\n",
       "3     01                    mules and hinnies; live-  other\n",
       "4     01  cattle; live, purebred breeding animals - pure..."
      ]
     },
     "execution_count": 5,
     "metadata": {},
     "output_type": "execute_result"
    }
   ],
   "source": [
    "import joblib\n",
    "files = \"data/train_section.pkl\"\n",
    "print(\"Load DataFrame\")\n",
    "twenty_train = joblib.load(files)\n",
    "#df.columns =  ['Conference', 'Title'] \n",
    "\n",
    "\n",
    "twenty_train.head()"
   ]
  },
  {
   "cell_type": "code",
   "execution_count": 6,
   "metadata": {
    "ExecuteTime": {
     "end_time": "2020-11-16T04:40:28.782348Z",
     "start_time": "2020-11-16T04:40:28.767357Z"
    }
   },
   "outputs": [
    {
     "data": {
      "text/plain": [
       "Counter({'01': 1721,\n",
       "         '02': 1487,\n",
       "         '03': 327,\n",
       "         '04': 2208,\n",
       "         '05': 691,\n",
       "         '06': 5045,\n",
       "         '07': 2868,\n",
       "         '08': 483,\n",
       "         '09': 745,\n",
       "         '10': 901,\n",
       "         '11': 4048,\n",
       "         '12': 394,\n",
       "         '13': 992,\n",
       "         '14': 590,\n",
       "         '15': 10406,\n",
       "         '16': 8452,\n",
       "         '17': 5134,\n",
       "         '18': 1470,\n",
       "         '19': 89,\n",
       "         '20': 1053,\n",
       "         '21': 33})"
      ]
     },
     "execution_count": 6,
     "metadata": {},
     "output_type": "execute_result"
    }
   ],
   "source": [
    "from collections import Counter\n",
    "Counter(twenty_train[\"target\"])"
   ]
  },
  {
   "cell_type": "code",
   "execution_count": 11,
   "metadata": {
    "ExecuteTime": {
     "end_time": "2020-11-16T04:42:34.581414Z",
     "start_time": "2020-11-16T04:42:13.038499Z"
    }
   },
   "outputs": [
    {
     "name": "stdout",
     "output_type": "stream",
     "text": [
      "23344\n"
     ]
    },
    {
     "data": {
      "text/html": [
       "<div>\n",
       "<style scoped>\n",
       "    .dataframe tbody tr th:only-of-type {\n",
       "        vertical-align: middle;\n",
       "    }\n",
       "\n",
       "    .dataframe tbody tr th {\n",
       "        vertical-align: top;\n",
       "    }\n",
       "\n",
       "    .dataframe thead th {\n",
       "        text-align: right;\n",
       "    }\n",
       "</style>\n",
       "<table border=\"1\" class=\"dataframe\">\n",
       "  <thead>\n",
       "    <tr style=\"text-align: right;\">\n",
       "      <th></th>\n",
       "      <th>target</th>\n",
       "      <th>data</th>\n",
       "    </tr>\n",
       "  </thead>\n",
       "  <tbody>\n",
       "    <tr>\n",
       "      <th>0</th>\n",
       "      <td>17</td>\n",
       "      <td>porsche 911 carrera 2020 2981cc:385hp:n/a benz...</td>\n",
       "    </tr>\n",
       "    <tr>\n",
       "      <th>1</th>\n",
       "      <td>06</td>\n",
       "      <td>95569-07700-10 eaa hyaluron moist.booster 2y\\r...</td>\n",
       "    </tr>\n",
       "    <tr>\n",
       "      <th>2</th>\n",
       "      <td>06</td>\n",
       "      <td>95569-07700-10 eaa hyaluron moist.booster 2y\\r...</td>\n",
       "    </tr>\n",
       "    <tr>\n",
       "      <th>3</th>\n",
       "      <td>06</td>\n",
       "      <td>96845-07700-11 euc.int calm 2y\\r\\n(eucerin ins...</td>\n",
       "    </tr>\n",
       "    <tr>\n",
       "      <th>4</th>\n",
       "      <td>06</td>\n",
       "      <td>96845-07700-11 euc.int calm 2y\\r\\n(eucerin ins...</td>\n",
       "    </tr>\n",
       "  </tbody>\n",
       "</table>\n",
       "</div>"
      ],
      "text/plain": [
       "  target                                               data\n",
       "0     17  porsche 911 carrera 2020 2981cc:385hp:n/a benz...\n",
       "1     06  95569-07700-10 eaa hyaluron moist.booster 2y\\r...\n",
       "2     06  95569-07700-10 eaa hyaluron moist.booster 2y\\r...\n",
       "3     06  96845-07700-11 euc.int calm 2y\\r\\n(eucerin ins...\n",
       "4     06  96845-07700-11 euc.int calm 2y\\r\\n(eucerin ins..."
      ]
     },
     "execution_count": 11,
     "metadata": {},
     "output_type": "execute_result"
    }
   ],
   "source": [
    "types = \"section\"\n",
    "\n",
    "\n",
    "sheets = \"deci\"\n",
    "deci = get_master(sheets,types)\n",
    "\n",
    "\n",
    "\n",
    "twenty_test = manage_data(deci)\n",
    "\n",
    "print(len(twenty_test.data))\n",
    "twenty_test.head()"
   ]
  },
  {
   "cell_type": "code",
   "execution_count": 12,
   "metadata": {
    "ExecuteTime": {
     "end_time": "2020-11-16T04:42:55.638922Z",
     "start_time": "2020-11-16T04:42:55.628927Z"
    }
   },
   "outputs": [
    {
     "data": {
      "text/plain": [
       "Counter({'17': 4,\n",
       "         '06': 19,\n",
       "         '18': 78,\n",
       "         '16': 19956,\n",
       "         '04': 90,\n",
       "         '20': 2,\n",
       "         '07': 1196,\n",
       "         '10': 131,\n",
       "         '15': 1568,\n",
       "         '05': 53,\n",
       "         '13': 207,\n",
       "         '11': 26,\n",
       "         '09': 13,\n",
       "         '03': 1})"
      ]
     },
     "execution_count": 12,
     "metadata": {},
     "output_type": "execute_result"
    }
   ],
   "source": [
    "from collections import Counter\n",
    "Counter(twenty_test[\"target\"])"
   ]
  },
  {
   "cell_type": "code",
   "execution_count": 4,
   "metadata": {},
   "outputs": [
    {
     "data": {
      "text/plain": [
       "array(['01', '02', '03', '04', '05', '06', '07', '08', '09', '10', '11',\n",
       "       '12', '13', '14', '15', '16', '17', '18', '19', '20', '21', '00'],\n",
       "      dtype=object)"
      ]
     },
     "execution_count": 4,
     "metadata": {},
     "output_type": "execute_result"
    }
   ],
   "source": [
    " twenty_train.target.unique()"
   ]
  },
  {
   "cell_type": "code",
   "execution_count": 5,
   "metadata": {},
   "outputs": [
    {
     "data": {
      "text/plain": [
       "array(['01', '02', '03', '04', '05', '06', '07', '08', '09', '10', '11',\n",
       "       '12', '13', '14', '15', '16', '17', '18', '19', '20', '21'],\n",
       "      dtype=object)"
      ]
     },
     "execution_count": 5,
     "metadata": {},
     "output_type": "execute_result"
    }
   ],
   "source": [
    " twenty_test.target.unique()"
   ]
  },
  {
   "cell_type": "code",
   "execution_count": 13,
   "metadata": {
    "ExecuteTime": {
     "end_time": "2020-11-16T04:42:59.946449Z",
     "start_time": "2020-11-16T04:42:59.933457Z"
    }
   },
   "outputs": [
    {
     "name": "stderr",
     "output_type": "stream",
     "text": [
      "C:\\ProgramData\\Anaconda3\\envs\\workspace\\lib\\site-packages\\ipykernel_launcher.py:3: UserWarning: Pandas doesn't allow columns to be created via a new attribute name - see https://pandas.pydata.org/pandas-docs/stable/indexing.html#attribute-access\n",
      "  This is separate from the ipykernel package so we can avoid doing imports until\n",
      "C:\\ProgramData\\Anaconda3\\envs\\workspace\\lib\\site-packages\\ipykernel_launcher.py:4: UserWarning: Pandas doesn't allow columns to be created via a new attribute name - see https://pandas.pydata.org/pandas-docs/stable/indexing.html#attribute-access\n",
      "  after removing the cwd from sys.path.\n"
     ]
    }
   ],
   "source": [
    "\n",
    "category =  twenty_train.target.unique()\n",
    "\n",
    "twenty_train.target_names =  twenty_train.target.unique()\n",
    "twenty_test.target_name =  twenty_test.target.unique()"
   ]
  },
  {
   "cell_type": "code",
   "execution_count": 15,
   "metadata": {
    "ExecuteTime": {
     "end_time": "2020-11-16T04:43:52.498409Z",
     "start_time": "2020-11-16T04:43:52.492412Z"
    }
   },
   "outputs": [
    {
     "data": {
      "text/plain": [
       "49137"
      ]
     },
     "execution_count": 15,
     "metadata": {},
     "output_type": "execute_result"
    }
   ],
   "source": [
    "len(twenty_train.data)"
   ]
  },
  {
   "cell_type": "code",
   "execution_count": 16,
   "metadata": {
    "ExecuteTime": {
     "end_time": "2020-11-16T04:43:53.458815Z",
     "start_time": "2020-11-16T04:43:53.452819Z"
    }
   },
   "outputs": [
    {
     "data": {
      "text/plain": [
       "0    01\n",
       "1    01\n",
       "2    01\n",
       "3    01\n",
       "4    01\n",
       "5    01\n",
       "6    01\n",
       "7    01\n",
       "8    01\n",
       "9    01\n",
       "Name: target, dtype: object"
      ]
     },
     "execution_count": 16,
     "metadata": {},
     "output_type": "execute_result"
    }
   ],
   "source": [
    "twenty_train.target[:10]"
   ]
  },
  {
   "cell_type": "code",
   "execution_count": 17,
   "metadata": {
    "ExecuteTime": {
     "end_time": "2020-11-16T04:43:54.842960Z",
     "start_time": "2020-11-16T04:43:54.837963Z"
    }
   },
   "outputs": [
    {
     "name": "stdout",
     "output_type": "stream",
     "text": [
      "01\n",
      "01\n",
      "01\n",
      "01\n",
      "01\n",
      "01\n",
      "01\n",
      "01\n",
      "01\n",
      "01\n"
     ]
    }
   ],
   "source": [
    "for t in twenty_train.target[:10]:\n",
    "    a = int(t)\n",
    "    print(twenty_train.target[a])"
   ]
  },
  {
   "cell_type": "code",
   "execution_count": 19,
   "metadata": {
    "ExecuteTime": {
     "end_time": "2020-11-16T04:44:50.451211Z",
     "start_time": "2020-11-16T04:44:48.509472Z"
    }
   },
   "outputs": [
    {
     "data": {
      "text/plain": [
       "(49137, 32497)"
      ]
     },
     "execution_count": 19,
     "metadata": {},
     "output_type": "execute_result"
    }
   ],
   "source": [
    "from sklearn.feature_extraction.text import CountVectorizer\n",
    ">>> count_vect = CountVectorizer()\n",
    ">>> X_train_counts = count_vect.fit_transform(twenty_train.data)\n",
    ">>> X_train_counts.shape"
   ]
  },
  {
   "cell_type": "code",
   "execution_count": 20,
   "metadata": {
    "ExecuteTime": {
     "end_time": "2020-11-16T04:44:50.456208Z",
     "start_time": "2020-11-16T04:44:50.453209Z"
    }
   },
   "outputs": [],
   "source": [
    "count_vect.vocabulary_.get(u'algorithm')"
   ]
  },
  {
   "cell_type": "code",
   "execution_count": 21,
   "metadata": {
    "ExecuteTime": {
     "end_time": "2020-11-16T04:44:54.426994Z",
     "start_time": "2020-11-16T04:44:54.403009Z"
    }
   },
   "outputs": [
    {
     "data": {
      "text/plain": [
       "(49137, 32497)"
      ]
     },
     "execution_count": 21,
     "metadata": {},
     "output_type": "execute_result"
    }
   ],
   "source": [
    ">>> from sklearn.feature_extraction.text import TfidfTransformer\n",
    ">>> tf_transformer = TfidfTransformer(use_idf=False).fit(X_train_counts)\n",
    ">>> X_train_tf = tf_transformer.transform(X_train_counts)\n",
    ">>> X_train_tf.shape"
   ]
  },
  {
   "cell_type": "code",
   "execution_count": 22,
   "metadata": {
    "ExecuteTime": {
     "end_time": "2020-11-16T04:44:57.320223Z",
     "start_time": "2020-11-16T04:44:57.292239Z"
    }
   },
   "outputs": [
    {
     "data": {
      "text/plain": [
       "(49137, 32497)"
      ]
     },
     "execution_count": 22,
     "metadata": {},
     "output_type": "execute_result"
    }
   ],
   "source": [
    ">>> tfidf_transformer = TfidfTransformer()\n",
    ">>> X_train_tfidf = tfidf_transformer.fit_transform(X_train_counts)\n",
    ">>> X_train_tfidf.shape"
   ]
  },
  {
   "cell_type": "code",
   "execution_count": 23,
   "metadata": {
    "ExecuteTime": {
     "end_time": "2020-11-16T04:44:59.387129Z",
     "start_time": "2020-11-16T04:44:59.139285Z"
    }
   },
   "outputs": [],
   "source": [
    ">>> from sklearn.naive_bayes import MultinomialNB\n",
    ">>> clf = MultinomialNB().fit(X_train_tfidf, twenty_train.target)"
   ]
  },
  {
   "cell_type": "code",
   "execution_count": 24,
   "metadata": {
    "ExecuteTime": {
     "end_time": "2020-11-16T04:45:00.390197Z",
     "start_time": "2020-11-16T04:45:00.379203Z"
    }
   },
   "outputs": [
    {
     "name": "stdout",
     "output_type": "stream",
     "text": [
      "'Textile fabrics' => 12\n",
      "'Horse' => 16\n"
     ]
    }
   ],
   "source": [
    ">>> docs_new = [\"Textile fabrics\",\"Horse\"]\n",
    ">>> X_new_counts = count_vect.transform(docs_new)\n",
    ">>> X_new_tfidf = tfidf_transformer.transform(X_new_counts)\n",
    "\n",
    ">>> predicted = clf.predict(X_new_tfidf)\n",
    "\n",
    ">>> for doc, category in zip(docs_new, predicted):\n",
    "...     print('%r => %s' % (doc, twenty_train.target_names[int(category)]))"
   ]
  },
  {
   "cell_type": "code",
   "execution_count": 25,
   "metadata": {
    "ExecuteTime": {
     "end_time": "2020-11-16T04:45:02.502804Z",
     "start_time": "2020-11-16T04:45:02.494809Z"
    }
   },
   "outputs": [],
   "source": [
    ">>> from sklearn.pipeline import Pipeline\n",
    ">>> text_clf = Pipeline([\n",
    "...     ('vect', CountVectorizer()),\n",
    "...     ('tfidf', TfidfTransformer()),\n",
    "...     ('clf', MultinomialNB()),\n",
    "... ])"
   ]
  },
  {
   "cell_type": "code",
   "execution_count": 26,
   "metadata": {
    "ExecuteTime": {
     "end_time": "2020-11-16T04:45:06.098082Z",
     "start_time": "2020-11-16T04:45:04.931271Z"
    }
   },
   "outputs": [
    {
     "data": {
      "text/plain": [
       "Pipeline(steps=[('vect', CountVectorizer()), ('tfidf', TfidfTransformer()),\n",
       "                ('clf', MultinomialNB())])"
      ]
     },
     "execution_count": 26,
     "metadata": {},
     "output_type": "execute_result"
    }
   ],
   "source": [
    "text_clf.fit(twenty_train.data, twenty_train.target)\n"
   ]
  },
  {
   "cell_type": "code",
   "execution_count": 27,
   "metadata": {
    "ExecuteTime": {
     "end_time": "2020-11-16T04:45:07.964191Z",
     "start_time": "2020-11-16T04:45:07.756320Z"
    }
   },
   "outputs": [
    {
     "data": {
      "text/plain": [
       "0.6231579849211789"
      ]
     },
     "execution_count": 27,
     "metadata": {},
     "output_type": "execute_result"
    }
   ],
   "source": [
    ">>> import numpy as np\n",
    "\n",
    ">>> docs_test = twenty_test.data\n",
    ">>> predicted = text_clf.predict(docs_test)\n",
    ">>> np.mean(predicted == twenty_test.target)"
   ]
  },
  {
   "cell_type": "code",
   "execution_count": 34,
   "metadata": {
    "ExecuteTime": {
     "end_time": "2020-11-16T04:50:21.061871Z",
     "start_time": "2020-11-16T04:50:19.232054Z"
    }
   },
   "outputs": [
    {
     "data": {
      "text/plain": [
       "0.5909869773817683"
      ]
     },
     "execution_count": 34,
     "metadata": {},
     "output_type": "execute_result"
    }
   ],
   "source": [
    ">>> from sklearn.linear_model import SGDClassifier\n",
    ">>> text_clf = Pipeline([\n",
    "...     ('vect', CountVectorizer()),\n",
    "...     ('tfidf', TfidfTransformer()),\n",
    "...     ('clf', SGDClassifier(loss='hinge', penalty='l2',\n",
    "...                           alpha=1e-3, random_state=42,\n",
    "...                           max_iter=5, tol=None)),\n",
    "... ])\n",
    "\n",
    ">>> text_clf.fit(twenty_train.data, twenty_train.target)\n",
    "\n",
    ">>> predicted = text_clf.predict(docs_test)\n",
    ">>> np.mean(predicted == twenty_test.target)"
   ]
  },
  {
   "cell_type": "code",
   "execution_count": 30,
   "metadata": {
    "ExecuteTime": {
     "end_time": "2020-11-16T04:46:37.841526Z",
     "start_time": "2020-11-16T04:46:37.387807Z"
    }
   },
   "outputs": [
    {
     "name": "stderr",
     "output_type": "stream",
     "text": [
      "C:\\ProgramData\\Anaconda3\\envs\\workspace\\lib\\site-packages\\sklearn\\metrics\\_classification.py:1221: UndefinedMetricWarning: Recall and F-score are ill-defined and being set to 0.0 in labels with no true samples. Use `zero_division` parameter to control this behavior.\n",
      "  _warn_prf(average, modifier, msg_start, len(result))\n"
     ]
    },
    {
     "name": "stdout",
     "output_type": "stream",
     "text": [
      "              precision    recall  f1-score   support\n",
      "\n",
      "          01       0.00      0.00      0.00         0\n",
      "          02       0.00      0.00      0.00         0\n",
      "          03       0.00      0.00      0.00         1\n",
      "          04       0.57      0.28      0.37        90\n",
      "          05       0.00      0.00      0.00        53\n",
      "          06       0.02      0.47      0.04        19\n",
      "          07       0.24      0.29      0.26      1196\n",
      "          09       0.00      0.00      0.00        13\n",
      "          10       0.01      0.05      0.02       131\n",
      "          11       0.25      0.81      0.39        26\n",
      "          12       0.00      0.00      0.00         0\n",
      "          13       0.73      1.00      0.84       207\n",
      "          14       0.00      0.00      0.00         0\n",
      "          15       0.21      0.74      0.33      1568\n",
      "          16       0.94      0.60      0.73     19956\n",
      "          17       0.00      0.75      0.00         4\n",
      "          18       0.20      0.28      0.23        78\n",
      "          20       0.00      0.00      0.00         2\n",
      "\n",
      "    accuracy                           0.59     23344\n",
      "   macro avg       0.18      0.29      0.18     23344\n",
      "weighted avg       0.84      0.59      0.67     23344\n",
      "\n"
     ]
    }
   ],
   "source": [
    ">>> from sklearn import metrics\n",
    ">>> print(metrics.classification_report(twenty_test.target, predicted))"
   ]
  },
  {
   "cell_type": "code",
   "execution_count": 31,
   "metadata": {
    "ExecuteTime": {
     "end_time": "2020-11-16T04:46:44.622490Z",
     "start_time": "2020-11-16T04:46:44.538543Z"
    }
   },
   "outputs": [
    {
     "data": {
      "text/plain": [
       "array([[    0,     0,     0,     0,     0,     0,     0,     0,     0,\n",
       "            0,     0,     0,     0,     0,     0,     0,     0,     0],\n",
       "       [    0,     0,     0,     0,     0,     0,     0,     0,     0,\n",
       "            0,     0,     0,     0,     0,     0,     0,     0,     0],\n",
       "       [    0,     0,     0,     0,     0,     0,     0,     0,     0,\n",
       "            0,     0,     0,     0,     0,     1,     0,     0,     0],\n",
       "       [    1,     1,     0,    25,     2,    28,     0,     2,     0,\n",
       "            0,     0,     0,     5,     0,    20,     6,     0,     0],\n",
       "       [    0,     0,     5,     0,     0,     0,     0,     0,     0,\n",
       "            0,     0,     0,     0,     0,    48,     0,     0,     0],\n",
       "       [    0,     0,     0,     0,     0,     9,     0,     0,     0,\n",
       "            0,     0,     0,     0,     0,     8,     2,     0,     0],\n",
       "       [    0,     0,    11,     0,     0,    97,   350,     0,     0,\n",
       "            3,     0,     0,     0,   225,   415,    70,    25,     0],\n",
       "       [    0,     0,     0,     0,     0,     0,    13,     0,     0,\n",
       "            0,     0,     0,     0,     0,     0,     0,     0,     0],\n",
       "       [    0,     0,     1,     0,     0,     0,    31,     0,     7,\n",
       "            0,     0,     0,     0,    85,     6,     1,     0,     0],\n",
       "       [    0,     0,     0,     0,     0,     3,     0,     0,     0,\n",
       "           21,     0,     0,     0,     0,     2,     0,     0,     0],\n",
       "       [    0,     0,     0,     0,     0,     0,     0,     0,     0,\n",
       "            0,     0,     0,     0,     0,     0,     0,     0,     0],\n",
       "       [    0,     0,     0,     0,     0,     0,     0,     0,     0,\n",
       "            0,     0,   206,     0,     0,     0,     1,     0,     0],\n",
       "       [    0,     0,     0,     0,     0,     0,     0,     0,     0,\n",
       "            0,     0,     0,     0,     0,     0,     0,     0,     0],\n",
       "       [    0,     1,     2,    10,     0,    42,    40,     0,     0,\n",
       "            2,     0,    12,     0,  1160,   179,   114,     4,     2],\n",
       "       [    5,    21,    46,     8,     2,   311,  1019,     5,   787,\n",
       "           50,    36,    62,     0,  4022, 11993,  1507,    60,    22],\n",
       "       [    0,     0,     0,     0,     0,     1,     0,     0,     0,\n",
       "            0,     0,     0,     0,     0,     0,     3,     0,     0],\n",
       "       [    0,     0,     0,     1,     0,     0,     4,     0,     0,\n",
       "            7,     0,     1,     0,     3,    38,     2,    22,     0],\n",
       "       [    0,     0,     0,     0,     0,     0,     2,     0,     0,\n",
       "            0,     0,     0,     0,     0,     0,     0,     0,     0]],\n",
       "      dtype=int64)"
      ]
     },
     "execution_count": 31,
     "metadata": {},
     "output_type": "execute_result"
    }
   ],
   "source": [
    "metrics.confusion_matrix(twenty_test.target, predicted)"
   ]
  },
  {
   "cell_type": "code",
   "execution_count": 32,
   "metadata": {
    "ExecuteTime": {
     "end_time": "2020-11-16T04:46:47.111927Z",
     "start_time": "2020-11-16T04:46:47.106930Z"
    }
   },
   "outputs": [],
   "source": [
    ">>> from sklearn.model_selection import GridSearchCV\n",
    ">>> parameters = {\n",
    "...     'vect__ngram_range': [(1, 1), (1, 2)],\n",
    "...     'tfidf__use_idf': (True, False),\n",
    "...     'clf__alpha': (1e-2, 1e-3),\n",
    "... }"
   ]
  },
  {
   "cell_type": "code",
   "execution_count": 52,
   "metadata": {},
   "outputs": [
    {
     "data": {
      "text/plain": [
       "array(['11', '06'], dtype='<U2')"
      ]
     },
     "execution_count": 52,
     "metadata": {},
     "output_type": "execute_result"
    }
   ],
   "source": [
    "txt = [\"Textile fabrics\",\"Horse\"]\n",
    "\n",
    "docs_test = txt\n",
    "predicted = text_clf.predict(docs_test)\n",
    "\n",
    "predicted \n"
   ]
  },
  {
   "cell_type": "code",
   "execution_count": 51,
   "metadata": {},
   "outputs": [
    {
     "data": {
      "text/plain": [
       "array(['11', '10'], dtype='<U2')"
      ]
     },
     "execution_count": 51,
     "metadata": {},
     "output_type": "execute_result"
    }
   ],
   "source": [
    "text_clf.fit(twenty_train.data, twenty_train.target)\n",
    "\n",
    "predicted = text_clf.predict(txt)\n",
    "predicted"
   ]
  },
  {
   "cell_type": "code",
   "execution_count": 33,
   "metadata": {
    "ExecuteTime": {
     "end_time": "2020-11-16T04:47:40.218694Z",
     "start_time": "2020-11-16T04:47:04.042827Z"
    }
   },
   "outputs": [
    {
     "ename": "KeyError",
     "evalue": "'11'",
     "output_type": "error",
     "traceback": [
      "\u001b[1;31m---------------------------------------------------------------------------\u001b[0m",
      "\u001b[1;31mKeyError\u001b[0m                                  Traceback (most recent call last)",
      "\u001b[1;32m<ipython-input-33-982bc502862e>\u001b[0m in \u001b[0;36m<module>\u001b[1;34m\u001b[0m\n\u001b[0;32m      1\u001b[0m \u001b[0mgs_clf\u001b[0m \u001b[1;33m=\u001b[0m \u001b[0mGridSearchCV\u001b[0m\u001b[1;33m(\u001b[0m\u001b[0mtext_clf\u001b[0m\u001b[1;33m,\u001b[0m \u001b[0mparameters\u001b[0m\u001b[1;33m,\u001b[0m \u001b[0mcv\u001b[0m\u001b[1;33m=\u001b[0m\u001b[1;36m5\u001b[0m\u001b[1;33m,\u001b[0m \u001b[0mn_jobs\u001b[0m\u001b[1;33m=\u001b[0m\u001b[1;33m-\u001b[0m\u001b[1;36m1\u001b[0m\u001b[1;33m)\u001b[0m\u001b[1;33m\u001b[0m\u001b[1;33m\u001b[0m\u001b[0m\n\u001b[0;32m      2\u001b[0m \u001b[0mgs_clf\u001b[0m \u001b[1;33m=\u001b[0m \u001b[0mgs_clf\u001b[0m\u001b[1;33m.\u001b[0m\u001b[0mfit\u001b[0m\u001b[1;33m(\u001b[0m\u001b[0mtwenty_train\u001b[0m\u001b[1;33m.\u001b[0m\u001b[0mdata\u001b[0m\u001b[1;33m,\u001b[0m \u001b[0mtwenty_train\u001b[0m\u001b[1;33m.\u001b[0m\u001b[0mtarget\u001b[0m\u001b[1;33m)\u001b[0m\u001b[1;33m\u001b[0m\u001b[1;33m\u001b[0m\u001b[0m\n\u001b[1;32m----> 3\u001b[1;33m \u001b[0mtwenty_train\u001b[0m\u001b[1;33m.\u001b[0m\u001b[0mtarget\u001b[0m\u001b[1;33m[\u001b[0m\u001b[0mgs_clf\u001b[0m\u001b[1;33m.\u001b[0m\u001b[0mpredict\u001b[0m\u001b[1;33m(\u001b[0m\u001b[1;33m[\u001b[0m\u001b[1;34m'Textile fabrics'\u001b[0m\u001b[1;33m]\u001b[0m\u001b[1;33m)\u001b[0m\u001b[1;33m[\u001b[0m\u001b[1;36m0\u001b[0m\u001b[1;33m]\u001b[0m\u001b[1;33m]\u001b[0m\u001b[1;33m\u001b[0m\u001b[1;33m\u001b[0m\u001b[0m\n\u001b[0m",
      "\u001b[1;32mC:\\ProgramData\\Anaconda3\\envs\\workspace\\lib\\site-packages\\pandas\\core\\series.py\u001b[0m in \u001b[0;36m__getitem__\u001b[1;34m(self, key)\u001b[0m\n\u001b[0;32m    880\u001b[0m \u001b[1;33m\u001b[0m\u001b[0m\n\u001b[0;32m    881\u001b[0m         \u001b[1;32melif\u001b[0m \u001b[0mkey_is_scalar\u001b[0m\u001b[1;33m:\u001b[0m\u001b[1;33m\u001b[0m\u001b[1;33m\u001b[0m\u001b[0m\n\u001b[1;32m--> 882\u001b[1;33m             \u001b[1;32mreturn\u001b[0m \u001b[0mself\u001b[0m\u001b[1;33m.\u001b[0m\u001b[0m_get_value\u001b[0m\u001b[1;33m(\u001b[0m\u001b[0mkey\u001b[0m\u001b[1;33m)\u001b[0m\u001b[1;33m\u001b[0m\u001b[1;33m\u001b[0m\u001b[0m\n\u001b[0m\u001b[0;32m    883\u001b[0m \u001b[1;33m\u001b[0m\u001b[0m\n\u001b[0;32m    884\u001b[0m         \u001b[1;32mif\u001b[0m \u001b[0mis_hashable\u001b[0m\u001b[1;33m(\u001b[0m\u001b[0mkey\u001b[0m\u001b[1;33m)\u001b[0m\u001b[1;33m:\u001b[0m\u001b[1;33m\u001b[0m\u001b[1;33m\u001b[0m\u001b[0m\n",
      "\u001b[1;32mC:\\ProgramData\\Anaconda3\\envs\\workspace\\lib\\site-packages\\pandas\\core\\series.py\u001b[0m in \u001b[0;36m_get_value\u001b[1;34m(self, label, takeable)\u001b[0m\n\u001b[0;32m    987\u001b[0m \u001b[1;33m\u001b[0m\u001b[0m\n\u001b[0;32m    988\u001b[0m         \u001b[1;31m# Similar to Index.get_value, but we do not fall back to positional\u001b[0m\u001b[1;33m\u001b[0m\u001b[1;33m\u001b[0m\u001b[1;33m\u001b[0m\u001b[0m\n\u001b[1;32m--> 989\u001b[1;33m         \u001b[0mloc\u001b[0m \u001b[1;33m=\u001b[0m \u001b[0mself\u001b[0m\u001b[1;33m.\u001b[0m\u001b[0mindex\u001b[0m\u001b[1;33m.\u001b[0m\u001b[0mget_loc\u001b[0m\u001b[1;33m(\u001b[0m\u001b[0mlabel\u001b[0m\u001b[1;33m)\u001b[0m\u001b[1;33m\u001b[0m\u001b[1;33m\u001b[0m\u001b[0m\n\u001b[0m\u001b[0;32m    990\u001b[0m         \u001b[1;32mreturn\u001b[0m \u001b[0mself\u001b[0m\u001b[1;33m.\u001b[0m\u001b[0mindex\u001b[0m\u001b[1;33m.\u001b[0m\u001b[0m_get_values_for_loc\u001b[0m\u001b[1;33m(\u001b[0m\u001b[0mself\u001b[0m\u001b[1;33m,\u001b[0m \u001b[0mloc\u001b[0m\u001b[1;33m,\u001b[0m \u001b[0mlabel\u001b[0m\u001b[1;33m)\u001b[0m\u001b[1;33m\u001b[0m\u001b[1;33m\u001b[0m\u001b[0m\n\u001b[0;32m    991\u001b[0m \u001b[1;33m\u001b[0m\u001b[0m\n",
      "\u001b[1;32mC:\\ProgramData\\Anaconda3\\envs\\workspace\\lib\\site-packages\\pandas\\core\\indexes\\range.py\u001b[0m in \u001b[0;36mget_loc\u001b[1;34m(self, key, method, tolerance)\u001b[0m\n\u001b[0;32m    356\u001b[0m                 \u001b[1;32mexcept\u001b[0m \u001b[0mValueError\u001b[0m \u001b[1;32mas\u001b[0m \u001b[0merr\u001b[0m\u001b[1;33m:\u001b[0m\u001b[1;33m\u001b[0m\u001b[1;33m\u001b[0m\u001b[0m\n\u001b[0;32m    357\u001b[0m                     \u001b[1;32mraise\u001b[0m \u001b[0mKeyError\u001b[0m\u001b[1;33m(\u001b[0m\u001b[0mkey\u001b[0m\u001b[1;33m)\u001b[0m \u001b[1;32mfrom\u001b[0m \u001b[0merr\u001b[0m\u001b[1;33m\u001b[0m\u001b[1;33m\u001b[0m\u001b[0m\n\u001b[1;32m--> 358\u001b[1;33m             \u001b[1;32mraise\u001b[0m \u001b[0mKeyError\u001b[0m\u001b[1;33m(\u001b[0m\u001b[0mkey\u001b[0m\u001b[1;33m)\u001b[0m\u001b[1;33m\u001b[0m\u001b[1;33m\u001b[0m\u001b[0m\n\u001b[0m\u001b[0;32m    359\u001b[0m         \u001b[1;32mreturn\u001b[0m \u001b[0msuper\u001b[0m\u001b[1;33m(\u001b[0m\u001b[1;33m)\u001b[0m\u001b[1;33m.\u001b[0m\u001b[0mget_loc\u001b[0m\u001b[1;33m(\u001b[0m\u001b[0mkey\u001b[0m\u001b[1;33m,\u001b[0m \u001b[0mmethod\u001b[0m\u001b[1;33m=\u001b[0m\u001b[0mmethod\u001b[0m\u001b[1;33m,\u001b[0m \u001b[0mtolerance\u001b[0m\u001b[1;33m=\u001b[0m\u001b[0mtolerance\u001b[0m\u001b[1;33m)\u001b[0m\u001b[1;33m\u001b[0m\u001b[1;33m\u001b[0m\u001b[0m\n\u001b[0;32m    360\u001b[0m \u001b[1;33m\u001b[0m\u001b[0m\n",
      "\u001b[1;31mKeyError\u001b[0m: '11'"
     ]
    }
   ],
   "source": [
    "gs_clf = GridSearchCV(text_clf, parameters, cv=5, n_jobs=-1)\n",
    "gs_clf = gs_clf.fit(twenty_train.data, twenty_train.target)\n",
    "twenty_train.target[gs_clf.predict(['Textile fabrics'])[0]]"
   ]
  },
  {
   "cell_type": "code",
   "execution_count": null,
   "metadata": {
    "ExecuteTime": {
     "end_time": "2020-11-16T04:47:40.220694Z",
     "start_time": "2020-11-16T04:47:07.608Z"
    }
   },
   "outputs": [],
   "source": [
    "gs_clf = GridSearchCV(text_clf, parameters, cv=5, n_jobs=-1)\n",
    "gs_clf = gs_clf.fit(twenty_train.data, twenty_train.target)\n",
    "twenty_train.target = gs_clf.predict(['Textile fabrics'])"
   ]
  },
  {
   "cell_type": "code",
   "execution_count": null,
   "metadata": {
    "ExecuteTime": {
     "end_time": "2020-11-16T04:47:40.221693Z",
     "start_time": "2020-11-16T04:47:20.039Z"
    }
   },
   "outputs": [],
   "source": [
    "gs_clf.best_score_"
   ]
  },
  {
   "cell_type": "code",
   "execution_count": null,
   "metadata": {
    "ExecuteTime": {
     "end_time": "2020-11-16T04:47:40.222692Z",
     "start_time": "2020-11-16T04:47:21.055Z"
    }
   },
   "outputs": [],
   "source": [
    "for param_name in sorted(parameters.keys()):\n",
    "...     print(\"%s: %r\" % (param_name, gs_clf.best_params_[param_name]))"
   ]
  },
  {
   "cell_type": "code",
   "execution_count": null,
   "metadata": {},
   "outputs": [],
   "source": []
  },
  {
   "cell_type": "code",
   "execution_count": null,
   "metadata": {},
   "outputs": [],
   "source": []
  }
 ],
 "metadata": {
  "kernelspec": {
   "display_name": "Python 3",
   "language": "python",
   "name": "python3"
  },
  "nbTranslate": {
   "displayLangs": [
    "*"
   ],
   "hotkey": "alt-t",
   "langInMainMenu": true,
   "sourceLang": "en",
   "targetLang": "fr",
   "useGoogleTranslate": true
  },
  "toc": {
   "base_numbering": 1,
   "nav_menu": {},
   "number_sections": false,
   "sideBar": true,
   "skip_h1_title": false,
   "title_cell": "Table of Contents",
   "title_sidebar": "Contents",
   "toc_cell": false,
   "toc_position": {
    "height": "calc(100% - 180px)",
    "left": "10px",
    "top": "150px",
    "width": "245.27px"
   },
   "toc_section_display": true,
   "toc_window_display": true
  }
 },
 "nbformat": 4,
 "nbformat_minor": 4
}
