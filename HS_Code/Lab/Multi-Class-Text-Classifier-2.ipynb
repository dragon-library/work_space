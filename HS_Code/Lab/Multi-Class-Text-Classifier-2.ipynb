{
 "cells": [
  {
   "cell_type": "markdown",
   "metadata": {},
   "source": [
    "A Production ready Multi-Class Text Classifier\n",
    "==\n",
    "\n",
    "- [Reference :](https://towardsdatascience.com/a-production-ready-multi-class-text-classifier-96490408757)"
   ]
  },
  {
   "cell_type": "code",
   "execution_count": 6,
   "metadata": {
    "ExecuteTime": {
     "end_time": "2020-11-30T06:21:37.107361Z",
     "start_time": "2020-11-30T06:21:37.093369Z"
    }
   },
   "outputs": [],
   "source": [
    "import warnings\n",
    "warnings.filterwarnings('ignore')\n",
    "%matplotlib inline\n",
    "\n",
    "from pathlib import Path\n",
    "import numpy as np\n",
    "import pandas as pd\n",
    "from time import time\n",
    "# Visualization\n",
    "import matplotlib.pyplot as plt\n",
    "#import seaborn as sns\n",
    "\n",
    "\n",
    "\n",
    "\n",
    "from sklearn.pipeline import Pipeline\n",
    "from sklearn.feature_extraction.text import CountVectorizer\n",
    "from sklearn.svm import LinearSVC\n",
    "from sklearn.feature_extraction.text import TfidfTransformer\n",
    "from sklearn.multiclass import OneVsRestClassifier\n",
    "\n",
    "\n",
    "#urls = 'https://github.com/dragon-library/work_space/raw/main/HS_Code/HS/hs_code.xlsx'\n",
    "urls = 'data/hs_code.xlsx'\n",
    "types = 'section'\n",
    "#types = \"chapter\"\n",
    "\n",
    "def get_master(sheets,types = 'section'):\n",
    "    data = pd.read_excel(urls,sheet_name= sheets)\n",
    "    data[types] = data[types].map('{:02}'.format)\n",
    "    data = data[[types,'description']]\n",
    "    data['description'] = data['description'].str.lower()\n",
    " #   data = data.rename(columns={'heading' : 'target', 'product_desc' : 'question_text'})\n",
    "     \n",
    "\n",
    "    return data\n",
    "\n",
    "def manage_data(df):\n",
    "    df.columns =  ['target', 'data'] \n",
    "    \n",
    "    \n",
    "    return df\n",
    "\n"
   ]
  },
  {
   "cell_type": "code",
   "execution_count": 2,
   "metadata": {
    "ExecuteTime": {
     "end_time": "2020-11-30T06:09:53.922372Z",
     "start_time": "2020-11-30T06:07:41.480187Z"
    }
   },
   "outputs": [
    {
     "name": "stdout",
     "output_type": "stream",
     "text": [
      "Load the dataset: Section\n",
      "Load dataset time:  132.124s\n"
     ]
    },
    {
     "data": {
      "text/html": [
       "<div>\n",
       "<style scoped>\n",
       "    .dataframe tbody tr th:only-of-type {\n",
       "        vertical-align: middle;\n",
       "    }\n",
       "\n",
       "    .dataframe tbody tr th {\n",
       "        vertical-align: top;\n",
       "    }\n",
       "\n",
       "    .dataframe thead th {\n",
       "        text-align: right;\n",
       "    }\n",
       "</style>\n",
       "<table border=\"1\" class=\"dataframe\">\n",
       "  <thead>\n",
       "    <tr style=\"text-align: right;\">\n",
       "      <th></th>\n",
       "      <th>target</th>\n",
       "      <th>data</th>\n",
       "    </tr>\n",
       "  </thead>\n",
       "  <tbody>\n",
       "    <tr>\n",
       "      <th>0</th>\n",
       "      <td>01</td>\n",
       "      <td>horses; live, purebred breeding animals - pure...</td>\n",
       "    </tr>\n",
       "    <tr>\n",
       "      <th>1</th>\n",
       "      <td>01</td>\n",
       "      <td>horses; live, other than purebred breeding ani...</td>\n",
       "    </tr>\n",
       "    <tr>\n",
       "      <th>2</th>\n",
       "      <td>01</td>\n",
       "      <td>asses; live - other</td>\n",
       "    </tr>\n",
       "    <tr>\n",
       "      <th>3</th>\n",
       "      <td>01</td>\n",
       "      <td>mules and hinnies; live-  other</td>\n",
       "    </tr>\n",
       "    <tr>\n",
       "      <th>4</th>\n",
       "      <td>01</td>\n",
       "      <td>cattle; live, purebred breeding animals - pure...</td>\n",
       "    </tr>\n",
       "  </tbody>\n",
       "</table>\n",
       "</div>"
      ],
      "text/plain": [
       "  target                                               data\n",
       "0     01  horses; live, purebred breeding animals - pure...\n",
       "1     01  horses; live, other than purebred breeding ani...\n",
       "2     01                                asses; live - other\n",
       "3     01                    mules and hinnies; live-  other\n",
       "4     01  cattle; live, purebred breeding animals - pure..."
      ]
     },
     "execution_count": 2,
     "metadata": {},
     "output_type": "execute_result"
    }
   ],
   "source": [
    "types = \"section\"\n",
    "#types = \"chapter\"\n",
    "\n",
    "print(\"Load the dataset: Section\")\n",
    "t0 = time()\n",
    "\n",
    "sheets = '8_digit'\n",
    "eights = get_master(sheets,types)\n",
    "sheets = '6_digit'\n",
    "sixs = get_master(sheets,types)\n",
    "sheets = '4_digit'\n",
    "fours = get_master(sheets,types)\n",
    "sheets = '2_digit'\n",
    "twos = get_master(sheets,types)\n",
    "\n",
    "sheets = 'test_01'\n",
    "tests = get_master(sheets,types)\n",
    "\n",
    "sheets = 'Declaration_2019_10'\n",
    "decl = get_master(sheets,types)\n",
    "\n",
    "data = pd.concat([eights,sixs,fours,twos,tests,decl], ignore_index=True)\n",
    "df = manage_data(data)\n",
    "\n",
    "\n",
    "#twenty_test = manage_data(tests)\n",
    "load_time = time() - t0\n",
    "print(\"Load dataset time:  %0.3fs\" % load_time)\n",
    "\n",
    "df.head()"
   ]
  },
  {
   "cell_type": "code",
   "execution_count": 5,
   "metadata": {
    "ExecuteTime": {
     "end_time": "2020-11-30T06:21:28.490383Z",
     "start_time": "2020-11-30T06:21:28.485386Z"
    }
   },
   "outputs": [
    {
     "data": {
      "text/plain": [
       "49137"
      ]
     },
     "execution_count": 5,
     "metadata": {},
     "output_type": "execute_result"
    }
   ],
   "source": [
    "len(df)"
   ]
  },
  {
   "cell_type": "code",
   "execution_count": 4,
   "metadata": {
    "ExecuteTime": {
     "end_time": "2020-11-30T06:09:53.957279Z",
     "start_time": "2020-11-30T06:09:53.932295Z"
    }
   },
   "outputs": [
    {
     "data": {
      "text/html": [
       "<div>\n",
       "<style scoped>\n",
       "    .dataframe tbody tr th:only-of-type {\n",
       "        vertical-align: middle;\n",
       "    }\n",
       "\n",
       "    .dataframe tbody tr th {\n",
       "        vertical-align: top;\n",
       "    }\n",
       "\n",
       "    .dataframe thead th {\n",
       "        text-align: right;\n",
       "    }\n",
       "</style>\n",
       "<table border=\"1\" class=\"dataframe\">\n",
       "  <thead>\n",
       "    <tr style=\"text-align: right;\">\n",
       "      <th></th>\n",
       "      <th>target</th>\n",
       "      <th>data</th>\n",
       "    </tr>\n",
       "  </thead>\n",
       "  <tbody>\n",
       "    <tr>\n",
       "      <th>49117</th>\n",
       "      <td>15</td>\n",
       "      <td>aluminium extrusion bar ycbt604</td>\n",
       "    </tr>\n",
       "    <tr>\n",
       "      <th>49118</th>\n",
       "      <td>15</td>\n",
       "      <td>aluminium fitting txjbr625173</td>\n",
       "    </tr>\n",
       "    <tr>\n",
       "      <th>49119</th>\n",
       "      <td>15</td>\n",
       "      <td>aluminium window frame kb157112asaa</td>\n",
       "    </tr>\n",
       "    <tr>\n",
       "      <th>49120</th>\n",
       "      <td>16</td>\n",
       "      <td>automotive batteries wet charged model  75d23r</td>\n",
       "    </tr>\n",
       "    <tr>\n",
       "      <th>49121</th>\n",
       "      <td>16</td>\n",
       "      <td>a/s jdmkey fpcb_volume key_a107f_svcsm</td>\n",
       "    </tr>\n",
       "    <tr>\n",
       "      <th>49122</th>\n",
       "      <td>17</td>\n",
       "      <td>assy tire 11.224 rot</td>\n",
       "    </tr>\n",
       "    <tr>\n",
       "      <th>49123</th>\n",
       "      <td>15</td>\n",
       "      <td>aluminium extrusion bar ycrk601</td>\n",
       "    </tr>\n",
       "    <tr>\n",
       "      <th>49124</th>\n",
       "      <td>16</td>\n",
       "      <td>assy elementfuel</td>\n",
       "    </tr>\n",
       "    <tr>\n",
       "      <th>49125</th>\n",
       "      <td>15</td>\n",
       "      <td>aluminium window frame t02609abbb</td>\n",
       "    </tr>\n",
       "    <tr>\n",
       "      <th>49126</th>\n",
       "      <td>15</td>\n",
       "      <td>aluminium ornament for door cc0010dnje</td>\n",
       "    </tr>\n",
       "    <tr>\n",
       "      <th>49127</th>\n",
       "      <td>15</td>\n",
       "      <td>aluminium window frame aaabaabz165132</td>\n",
       "    </tr>\n",
       "    <tr>\n",
       "      <th>49128</th>\n",
       "      <td>15</td>\n",
       "      <td>aluminium window frame w02609abbb</td>\n",
       "    </tr>\n",
       "    <tr>\n",
       "      <th>49129</th>\n",
       "      <td>15</td>\n",
       "      <td>aluminium ornament for door kh111peac</td>\n",
       "    </tr>\n",
       "    <tr>\n",
       "      <th>49130</th>\n",
       "      <td>15</td>\n",
       "      <td>aluminium window frame tf116112asaa</td>\n",
       "    </tr>\n",
       "    <tr>\n",
       "      <th>49131</th>\n",
       "      <td>16</td>\n",
       "      <td>assy lp kit</td>\n",
       "    </tr>\n",
       "    <tr>\n",
       "      <th>49132</th>\n",
       "      <td>15</td>\n",
       "      <td>adjust gear set jfkz658b</td>\n",
       "    </tr>\n",
       "    <tr>\n",
       "      <th>49133</th>\n",
       "      <td>15</td>\n",
       "      <td>aluminium window frame kf057072avat</td>\n",
       "    </tr>\n",
       "    <tr>\n",
       "      <th>49134</th>\n",
       "      <td>07</td>\n",
       "      <td>acrylic plate 4mm. size24x24 cm.</td>\n",
       "    </tr>\n",
       "    <tr>\n",
       "      <th>49135</th>\n",
       "      <td>16</td>\n",
       "      <td>ac power cord p/n 141102240p6</td>\n",
       "    </tr>\n",
       "    <tr>\n",
       "      <th>49136</th>\n",
       "      <td>17</td>\n",
       "      <td>automotive disc brake pads 220177988 db24114wd</td>\n",
       "    </tr>\n",
       "  </tbody>\n",
       "</table>\n",
       "</div>"
      ],
      "text/plain": [
       "      target                                            data\n",
       "49117     15                 aluminium extrusion bar ycbt604\n",
       "49118     15                   aluminium fitting txjbr625173\n",
       "49119     15             aluminium window frame kb157112asaa\n",
       "49120     16  automotive batteries wet charged model  75d23r\n",
       "49121     16          a/s jdmkey fpcb_volume key_a107f_svcsm\n",
       "49122     17                            assy tire 11.224 rot\n",
       "49123     15                 aluminium extrusion bar ycrk601\n",
       "49124     16                                assy elementfuel\n",
       "49125     15               aluminium window frame t02609abbb\n",
       "49126     15          aluminium ornament for door cc0010dnje\n",
       "49127     15           aluminium window frame aaabaabz165132\n",
       "49128     15               aluminium window frame w02609abbb\n",
       "49129     15           aluminium ornament for door kh111peac\n",
       "49130     15             aluminium window frame tf116112asaa\n",
       "49131     16                                     assy lp kit\n",
       "49132     15                        adjust gear set jfkz658b\n",
       "49133     15             aluminium window frame kf057072avat\n",
       "49134     07                acrylic plate 4mm. size24x24 cm.\n",
       "49135     16                   ac power cord p/n 141102240p6\n",
       "49136     17  automotive disc brake pads 220177988 db24114wd"
      ]
     },
     "execution_count": 4,
     "metadata": {},
     "output_type": "execute_result"
    }
   ],
   "source": [
    "df.tail(20)"
   ]
  },
  {
   "cell_type": "code",
   "execution_count": 8,
   "metadata": {
    "ExecuteTime": {
     "end_time": "2020-11-25T18:19:22.533135Z",
     "start_time": "2020-11-25T18:19:22.190137Z"
    }
   },
   "outputs": [
    {
     "name": "stdout",
     "output_type": "stream",
     "text": [
      "Save DataFrame\n",
      "success\n"
     ]
    }
   ],
   "source": [
    "#save the DataFrame\n",
    "print(\"Save DataFrame\")\n",
    "import joblib\n",
    "joblib.dump(df, 'train_section.pkl', compress=1)\n",
    "print('success')"
   ]
  },
  {
   "cell_type": "code",
   "execution_count": 17,
   "metadata": {
    "ExecuteTime": {
     "end_time": "2020-11-25T19:20:03.042293Z",
     "start_time": "2020-11-25T19:20:02.849298Z"
    }
   },
   "outputs": [
    {
     "name": "stdout",
     "output_type": "stream",
     "text": [
      "Load DataFrame\n"
     ]
    },
    {
     "data": {
      "text/html": [
       "<div>\n",
       "<style scoped>\n",
       "    .dataframe tbody tr th:only-of-type {\n",
       "        vertical-align: middle;\n",
       "    }\n",
       "\n",
       "    .dataframe tbody tr th {\n",
       "        vertical-align: top;\n",
       "    }\n",
       "\n",
       "    .dataframe thead th {\n",
       "        text-align: right;\n",
       "    }\n",
       "</style>\n",
       "<table border=\"1\" class=\"dataframe\">\n",
       "  <thead>\n",
       "    <tr style=\"text-align: right;\">\n",
       "      <th></th>\n",
       "      <th>description</th>\n",
       "      <th>section</th>\n",
       "      <th>chapter</th>\n",
       "      <th>heading</th>\n",
       "      <th>sub-heading</th>\n",
       "      <th>tariff</th>\n",
       "    </tr>\n",
       "  </thead>\n",
       "  <tbody>\n",
       "    <tr>\n",
       "      <th>0</th>\n",
       "      <td>horses; live, purebred breeding animals - pure...</td>\n",
       "      <td>01</td>\n",
       "      <td>01</td>\n",
       "      <td>0101</td>\n",
       "      <td>010121</td>\n",
       "      <td>01012100</td>\n",
       "    </tr>\n",
       "    <tr>\n",
       "      <th>1</th>\n",
       "      <td>horses; live, other than purebred breeding ani...</td>\n",
       "      <td>01</td>\n",
       "      <td>01</td>\n",
       "      <td>0101</td>\n",
       "      <td>010129</td>\n",
       "      <td>01012900</td>\n",
       "    </tr>\n",
       "    <tr>\n",
       "      <th>2</th>\n",
       "      <td>asses; live - other</td>\n",
       "      <td>01</td>\n",
       "      <td>01</td>\n",
       "      <td>0101</td>\n",
       "      <td>010130</td>\n",
       "      <td>01013090</td>\n",
       "    </tr>\n",
       "    <tr>\n",
       "      <th>3</th>\n",
       "      <td>mules and hinnies; live-  other</td>\n",
       "      <td>01</td>\n",
       "      <td>01</td>\n",
       "      <td>0101</td>\n",
       "      <td>010190</td>\n",
       "      <td>01019000</td>\n",
       "    </tr>\n",
       "    <tr>\n",
       "      <th>4</th>\n",
       "      <td>cattle; live, purebred breeding animals - pure...</td>\n",
       "      <td>01</td>\n",
       "      <td>01</td>\n",
       "      <td>0102</td>\n",
       "      <td>010221</td>\n",
       "      <td>01022100</td>\n",
       "    </tr>\n",
       "  </tbody>\n",
       "</table>\n",
       "</div>"
      ],
      "text/plain": [
       "                                         description section chapter heading  \\\n",
       "0  horses; live, purebred breeding animals - pure...      01      01    0101   \n",
       "1  horses; live, other than purebred breeding ani...      01      01    0101   \n",
       "2                                asses; live - other      01      01    0101   \n",
       "3                    mules and hinnies; live-  other      01      01    0101   \n",
       "4  cattle; live, purebred breeding animals - pure...      01      01    0102   \n",
       "\n",
       "  sub-heading    tariff  \n",
       "0      010121  01012100  \n",
       "1      010129  01012900  \n",
       "2      010130  01013090  \n",
       "3      010190  01019000  \n",
       "4      010221  01022100  "
      ]
     },
     "execution_count": 17,
     "metadata": {},
     "output_type": "execute_result"
    }
   ],
   "source": [
    "import joblib\n",
    "print(\"Load DataFrame\")\n",
    "df = joblib.load('../data/train/df_master_train.pkl')\n",
    "df.head()"
   ]
  },
  {
   "cell_type": "code",
   "execution_count": 18,
   "metadata": {
    "ExecuteTime": {
     "end_time": "2020-11-25T19:20:03.712775Z",
     "start_time": "2020-11-25T19:20:03.688717Z"
    }
   },
   "outputs": [
    {
     "data": {
      "text/html": [
       "<div>\n",
       "<style scoped>\n",
       "    .dataframe tbody tr th:only-of-type {\n",
       "        vertical-align: middle;\n",
       "    }\n",
       "\n",
       "    .dataframe tbody tr th {\n",
       "        vertical-align: top;\n",
       "    }\n",
       "\n",
       "    .dataframe thead th {\n",
       "        text-align: right;\n",
       "    }\n",
       "</style>\n",
       "<table border=\"1\" class=\"dataframe\">\n",
       "  <thead>\n",
       "    <tr style=\"text-align: right;\">\n",
       "      <th></th>\n",
       "      <th>target</th>\n",
       "      <th>data</th>\n",
       "    </tr>\n",
       "  </thead>\n",
       "  <tbody>\n",
       "    <tr>\n",
       "      <th>0</th>\n",
       "      <td>01</td>\n",
       "      <td>horses; live, purebred breeding animals - pure...</td>\n",
       "    </tr>\n",
       "    <tr>\n",
       "      <th>1</th>\n",
       "      <td>01</td>\n",
       "      <td>horses; live, other than purebred breeding ani...</td>\n",
       "    </tr>\n",
       "    <tr>\n",
       "      <th>2</th>\n",
       "      <td>01</td>\n",
       "      <td>asses; live - other</td>\n",
       "    </tr>\n",
       "    <tr>\n",
       "      <th>3</th>\n",
       "      <td>01</td>\n",
       "      <td>mules and hinnies; live-  other</td>\n",
       "    </tr>\n",
       "    <tr>\n",
       "      <th>4</th>\n",
       "      <td>01</td>\n",
       "      <td>cattle; live, purebred breeding animals - pure...</td>\n",
       "    </tr>\n",
       "  </tbody>\n",
       "</table>\n",
       "</div>"
      ],
      "text/plain": [
       "  target                                               data\n",
       "0     01  horses; live, purebred breeding animals - pure...\n",
       "1     01  horses; live, other than purebred breeding ani...\n",
       "2     01                                asses; live - other\n",
       "3     01                    mules and hinnies; live-  other\n",
       "4     01  cattle; live, purebred breeding animals - pure..."
      ]
     },
     "execution_count": 18,
     "metadata": {},
     "output_type": "execute_result"
    }
   ],
   "source": [
    "df = df[['section','description']] \n",
    "df.columns =  ['target', 'data'] \n",
    "df.head()"
   ]
  },
  {
   "cell_type": "code",
   "execution_count": 11,
   "metadata": {
    "ExecuteTime": {
     "end_time": "2020-11-25T18:19:31.223197Z",
     "start_time": "2020-11-25T18:19:31.211192Z"
    }
   },
   "outputs": [],
   "source": [
    "twenty_train = df.copy()"
   ]
  },
  {
   "cell_type": "code",
   "execution_count": 19,
   "metadata": {
    "ExecuteTime": {
     "end_time": "2020-11-25T19:20:10.909468Z",
     "start_time": "2020-11-25T19:20:10.887471Z"
    }
   },
   "outputs": [
    {
     "data": {
      "text/plain": [
       "Counter({'01': 1721,\n",
       "         '02': 1487,\n",
       "         '03': 327,\n",
       "         '04': 2208,\n",
       "         '05': 691,\n",
       "         '06': 5045,\n",
       "         '07': 2868,\n",
       "         '08': 483,\n",
       "         '09': 745,\n",
       "         '10': 901,\n",
       "         '11': 4048,\n",
       "         '12': 394,\n",
       "         '13': 992,\n",
       "         '14': 590,\n",
       "         '15': 10406,\n",
       "         '16': 8452,\n",
       "         '17': 5134,\n",
       "         '18': 1467,\n",
       "         '19': 89,\n",
       "         '20': 1053,\n",
       "         '21': 33})"
      ]
     },
     "execution_count": 19,
     "metadata": {},
     "output_type": "execute_result"
    }
   ],
   "source": [
    "from collections import Counter\n",
    "Counter(df[\"target\"])"
   ]
  },
  {
   "cell_type": "code",
   "execution_count": 22,
   "metadata": {
    "ExecuteTime": {
     "end_time": "2020-11-25T19:23:16.770067Z",
     "start_time": "2020-11-25T19:23:16.736096Z"
    }
   },
   "outputs": [
    {
     "data": {
      "text/plain": [
       "array([[1., 0., 0., ..., 0., 0., 0.],\n",
       "       [1., 0., 0., ..., 0., 0., 0.],\n",
       "       [1., 0., 0., ..., 0., 0., 0.],\n",
       "       ...,\n",
       "       [0., 0., 0., ..., 0., 0., 0.],\n",
       "       [0., 0., 0., ..., 0., 0., 0.],\n",
       "       [0., 0., 0., ..., 0., 0., 0.]])"
      ]
     },
     "execution_count": 22,
     "metadata": {},
     "output_type": "execute_result"
    }
   ],
   "source": [
    "from sklearn.preprocessing import OneHotEncoder\n",
    "\n",
    "ohenc1=OneHotEncoder(sparse=False)\n",
    "m1=ohenc1.fit_transform(df[['target']])\n",
    "m1"
   ]
  },
  {
   "cell_type": "code",
   "execution_count": 23,
   "metadata": {
    "ExecuteTime": {
     "end_time": "2020-11-25T19:23:43.663296Z",
     "start_time": "2020-11-25T19:23:43.641334Z"
    }
   },
   "outputs": [
    {
     "data": {
      "text/plain": [
       "[array(['01', '02', '03', '04', '05', '06', '07', '08', '09', '10', '11',\n",
       "        '12', '13', '14', '15', '16', '17', '18', '19', '20', '21'],\n",
       "       dtype=object)]"
      ]
     },
     "execution_count": 23,
     "metadata": {},
     "output_type": "execute_result"
    }
   ],
   "source": [
    "ohenc1.categories_"
   ]
  },
  {
   "cell_type": "code",
   "execution_count": 24,
   "metadata": {
    "ExecuteTime": {
     "end_time": "2020-11-25T19:24:11.546101Z",
     "start_time": "2020-11-25T19:24:11.539107Z"
    }
   },
   "outputs": [],
   "source": [
    "import re \n",
    "def clean_str(string):\n",
    "    \"\"\"\n",
    "    Tokenization/string cleaning for dataset\n",
    "    Every dataset is lower cased except\n",
    "    \"\"\"\n",
    "    string = re.sub(r\"\\n\", \"\", string)    \n",
    "    string = re.sub(r\"\\r\", \"\", string) \n",
    "    string = re.sub(r\"[0-9]\", \"digit\", string)\n",
    "    string = re.sub(r\"\\'\", \"\", string)    \n",
    "    string = re.sub(r\"\\\"\", \"\", string)    \n",
    "    return string.strip().lower()"
   ]
  },
  {
   "cell_type": "code",
   "execution_count": 25,
   "metadata": {
    "ExecuteTime": {
     "end_time": "2020-11-25T19:24:17.763211Z",
     "start_time": "2020-11-25T19:24:12.133080Z"
    }
   },
   "outputs": [
    {
     "name": "stdout",
     "output_type": "stream",
     "text": [
      "train test split dataset\n"
     ]
    }
   ],
   "source": [
    "print(\"train test split dataset\")\n",
    "\n",
    "\n",
    "#train test split\n",
    "#df = twenty_train.copy()\n",
    "#df['target'].value_counts(normalize = True)\n",
    "from sklearn.model_selection import train_test_split\n",
    "X = []\n",
    "for i in range(df.shape[0]):\n",
    "    X.append(clean_str(df.iloc[i][1]))\n",
    "y = np.array(m1)\n",
    "X_train, X_test, y_train, y_test = train_test_split(X, y, test_size=0.3, random_state=20)"
   ]
  },
  {
   "cell_type": "code",
   "execution_count": 26,
   "metadata": {
    "ExecuteTime": {
     "end_time": "2020-11-25T19:24:19.129283Z",
     "start_time": "2020-11-25T19:24:19.103293Z"
    },
    "scrolled": true
   },
   "outputs": [
    {
     "data": {
      "text/plain": [
       "['assy finisher usb cupholder',\n",
       " 'woven cotton fabric, digitdigit% or more cotton by weight, plain weave, over digitdigitdigit but n/o digitdigitdigit g/mdigit, bleached, of number digitdigit or higher',\n",
       " 'regulating or controlling instruments and apparatus; automatic, parts and accessories - of goods of subheading digitdigitdigitdigit.digitdigit.digitdigit',\n",
       " 'aluminium carport exterior digitrdbdigitdigitab',\n",
       " 'crustaceans; frozen, rock lobsters and other sea crawfish (palinurus spp., panulirus spp., jasus spp.), in shell or not, smoked, cooked or not before or during smoking; in shell, cooked by steaming or by boiling in water',\n",
       " 'arxdigitdigithj',\n",
       " 'audio bracket set',\n",
       " 'stationery; letter clips, letter corners, paper clips, indexing tags and similar office articles, including parts, of base metal - other',\n",
       " 'adjustable bed fedigitdigitdigitdigitt',\n",
       " 'aero mbdigit mandarin orange tc digitdigitdigitg.',\n",
       " 'pumpkins, fresh or chilled',\n",
       " 'fabrics, woven; of carded wool or carded fine animal hair, containing less than digitdigit% by weight of wool or fine animal hair, mixed mainly or solely with fibres n.e.c. in heading no. digitdigitdigitdigit',\n",
       " 'aluminium window frame kfdigitdigitdigitdigitltgex',\n",
       " 'aluminum capacitor',\n",
       " 'aoyddigitdigit valve plate',\n",
       " 'crustacean products nesoi, containing fish meat; prepared meals of crustaceans, nesoi',\n",
       " 'aluminium fence exterior digitbcjdigitdigitra',\n",
       " 'machinery, auxiliary; dobbies and jacquards, card reducing, copying, punching or assembling machines for use therewith',\n",
       " 'alcohols; polyhydric, digitethyldigit (hydroxymethyl) propanedigit,digitdiol (trimethylolpropane) - \\xa0digitethyldigit(hydroxymethyl)propanedigit,digitdiol (trimethylolpropane)',\n",
       " 'aluminium window frame wfdigitdigitdigitdigitdigitarnn',\n",
       " 'cast iron, non-electrically heated radiators and parts thereof, for central heating',\n",
       " 'womens or girls nightdresses and pajamas, not knitted or crocheted, of man-made fibers',\n",
       " 'valves and tubes; parts of the valves and tubes of heading no. digitdigitdigitdigit, excluding parts of cathoderay tubes - other',\n",
       " 'hacksaw blades for working metal',\n",
       " 'residual products of the chemical or allied industries, not elsewhere specified or included; clinical waste - syringes, needles, cannulae and the like',\n",
       " 'blended syrups, neosi, o/digitdigit% milk solids, descr. in add us note digit to ch digitdigit: not subject to add us note digit to ch. digitdigit, not gndigitdigit',\n",
       " 'base metals clad with silver; not further worked than semi-manufactured',\n",
       " 'golf shoes w/outer soles of rubber or plastics and uppers > digitdigit% of ext. surface area rubber or plastics',\n",
       " 'alloy steel, angles, shapes and sections, hot-rolled & not drilled/not punched and not otherwise advanced',\n",
       " 'aluminium door frame kkdigitdigitdigitdigitdigitdigitatal',\n",
       " 'plants and parts (including seeds and fruits) n.e.c. in heading no. digitdigitdigitdigit, of a kind used primarily in perfumery, in pharmacy or for insecticidal, fungicidal or similar purposes, fresh, chilled, frozen or dried, whether or not cut, crushed or powdered -',\n",
       " 'pneumatic mattresses and other inflatable articles, nesoi, of plastics',\n",
       " 'assy pcb mainmaindigitdigitdigitdigitdigitdigitydigitdigitdigitdigitdigitdigitvpfdbdigitdigitdigitdigitdigitdigitdigitb',\n",
       " 'zinc sulfide, luminescent grade, purity>= digitdigit.digitdigit % by wt.',\n",
       " 'ethylene polymers; waste, parings and scrap - other',\n",
       " 'unimproved wool and other wool not finer than digitdigits, greasy, shorn, not carded or combed, for special uses',\n",
       " 'aluminium hollow profiles yagddigitdigitdigit',\n",
       " 'taps, cocks, valves and similar appliances; parts thereof - other',\n",
       " 'artwork made of brassartwork made of clay',\n",
       " 'flour, meal and powder; of the dried leguminous vegetables of heading no. digitdigitdigitdigit, of sago or of roots or tubers of heading no. digitdigitdigitdigit or of the products of chapter digit',\n",
       " 'ensembles; womens or girls, of cotton (not knitted or crocheted) - other',\n",
       " 'automatic shrink wrapping system digitdigitsimhdigitdigitconsist ofdigitdigitwimdigitdigitsc sleeve wrapper s/n digitdigitadigitdigitdigitdigitdigitdigitthwdigitdigitvl shrink tunnel s/n digitdigitadigitdigitdigitdigit',\n",
       " 'iron or nonalloy steel; in coils, without patterns in relief, flatrolled, of a width digitdigitdigitmm or more, hotrolled, pickled, of a thickness of digitmm or more but less than digit.digitdigitmm - of a thickness of digit mm or more but less than digit.digitdigit mm',\n",
       " 'aluminium window frame dddigitdigitdigitdigitdigitargh',\n",
       " 'fabrics, woven; of carded wool or of carded fine animal hair, containing digitdigit% or more by weight of wool or of fine animal hair, of a weight not exceeding digitdigitdigitg/mdigit - \\xa0of a weight not exceeding digitdigitdigit g/mdigit',\n",
       " 'aromachology oil',\n",
       " 'aluminium window net wdigitdigitdigitdigitdigitcbaa',\n",
       " 'aluminum alloy shape sil iii flux coated mpe tube bedigitdigit l = digitdigitdigit mm. dwg. no. digitdigit.digitdigitdigitdigitdigit',\n",
       " 'aro tomyum chili paste digit kgdigit',\n",
       " 'crustaceans; frozen, shrimps and prawns, excluding coldwater varieties, in shell or not, smoked, cooked or not before or during smoking; in shell, cooked by steaming or by boiling in water -  headless, with tail',\n",
       " 'silicon carbide, in grains, or ground, pulverized or refined',\n",
       " 'asybbunicpudigitdigitdigitsdigitdigitdigitdigitgpn',\n",
       " 'iron/nonalloy steel, flat wire, w/digit.digitdigit% or more carbon, not plated or coated',\n",
       " 'assy evap totalfdigitdigitdigitdigit',\n",
       " 'adjusting device digitdigitdigitdigitdigitdigitdigitdigitdigitdigit',\n",
       " 'articles of silver whether or not plated or clad with any other metal',\n",
       " 'digit-amino-digit-hydroxy-digit,digit-naphthalenedisulfonic acid; and other specified aminohydroxynaphthalenesulfonic acids and their salts',\n",
       " 'single yarn of cellulose acetate (not high ten. or sewing thread), not put up for retail sale',\n",
       " 'photographic chemicals of o-, m-, p-phenylenediamine, diaminotoluenes, and their derivatives, and salts thereof',\n",
       " 'adigitp pp handle mhhdigittdigitdigitdigitdigitdigit',\n",
       " 'instruments and appliances used in medical, surgical, dental or veterinary sciences, nesoi, and parts and accessories thereof',\n",
       " 'automotive parts digitudigitdigitdigitdigitdigitdigitdigitdigit clutch cover',\n",
       " 'titanium ores and concentrates - ilmenite ores and concentrates',\n",
       " 'ac current sensor',\n",
       " 'chlorides; of nickel',\n",
       " 'aplq frt fndr',\n",
       " 'potato preparations, prepared or preserved otherwise than by vinegar or acetic acid, not frozen',\n",
       " 'trays, dishes, plates, cups and the like, of paper or paperboard',\n",
       " 'aluminium window frame wfdigitdigitdigitdigitdigitdigitasaa',\n",
       " 'metal-rolling mills; cold',\n",
       " 'tobacco; smoking, other than water pipe tobacco, whether or not containing tobacco substitutes in any proportion',\n",
       " 'aquatic invertebrates; sea urchins (strongylocentrotus spp., paracentrotus lividus, loxechinus albus, echinus esculentus), live, fresh or chilled',\n",
       " 'abs  recycled  pellets',\n",
       " 'metal coated or metal laminated man-made monofilament or strip or the like, ungimped & untwisted or w/twist of less than digit turns per meter',\n",
       " 'office machines; not elsewhere classified - automatic',\n",
       " 'wood, tropical; dark red meranti, light red meranti and meranti bakau, sawn or chipped lengthwise, sliced or peeled, whether or not planed, sanded or endjointed, thicker than digitmm -  other',\n",
       " 'platinum; unwrought or in semi-manufactured forms, or in powder form',\n",
       " 'fish fillets; frozen, herrings (clupea harengus, clupea pallasii)',\n",
       " 'agenda',\n",
       " 'silver articles of jewelry and parts thereof, nesoi, valued not over $digitdigit per dozen pieces or parts',\n",
       " 'aluminium window frame dfdigitdigitdigitdigitdigitdigitapda',\n",
       " 'aluminium part terrace exterior dcbgdigitdigit',\n",
       " 'plastics; plates, sheets, film, foil and strip (not selfadhesive), of poly(ethylene terephthalate), noncellular and not reinforced, laminated, supported or similarly combined with other materials - other',\n",
       " 'dextrins and other modified starches - other',\n",
       " 'automotive disc brake pads digitdigitdigitdigitdigitdigitdigitdigitdigit set tdbdigitdigitdigitdigit metab',\n",
       " 'prepared or preserved anchovies, whole or in pieces, not minced, not in oil, in immediate containers with their contents digit.digit kg or less ea.',\n",
       " 'glassine and other glazed transparent or translucent papers, in rolls or sheets',\n",
       " 'frozen herring fillets',\n",
       " 'furniture designed to receive household- or laundry-type washing machines',\n",
       " 'amino-aldehydes, amino-ketones and amino-quinones; other than those containing more than one kind of oxygen function; salts thereof',\n",
       " 'vitamins; vitamin e and its derivatives, unmixed',\n",
       " 'butter not subject to general note digitdigit and in excess of quota in chapter digit additional u.s. note digit',\n",
       " 'acrylonitrile butadiene styrene high gloss grade',\n",
       " 'aluminium slugsno brand made of digitdigit.digit% minimum purity aluminium well annealed vibrated preformed shape hardness not over digitdigit hb size digitdigit.digitdigitxxdigitdigit.digitdigit preformed shape',\n",
       " 'antiques; of an age exceeding one hundred years',\n",
       " 'ausadigitdigit  eva holder digit rowdigitdigit metal',\n",
       " 'ay lh finish.apost ivory',\n",
       " 'auto partsball rack end',\n",
       " 'automotive disc brake pad set mrdbdigitdigitdigit metab',\n",
       " 'writing/cover paper, wt digitdigit g/mdigit-digitdigitdigit g/mdigit, cont. n/o digitdigit% by weight total fiber content obtained by mechanical/chemi- process, in sheets nesoi',\n",
       " 'auto parts     air brake booster long tyadigitdigitdigitdigitdigitdigitdigitdigit free of charge',\n",
       " 'selenium',\n",
       " 'chassis; fitted with engines, for the motor vehicles of heading no. digitdigitdigitdigit to digitdigitdigitdigit - other',\n",
       " 'artificial filament yarn (other than sewing thread), not put up for retail sale, including artificial monofilament of less than digitdigit decitex',\n",
       " 'aluminium window frame kkdigitdigitdigitdigitdigitardt',\n",
       " 'self-propelled tamping machines and road rollers',\n",
       " 'smoked herrings, including fillets',\n",
       " 'automotive parts ebdigitbdigitdigitdigitdigitab   reinf rad grille upe',\n",
       " 'engines; parts, suitable for use solely or principally with sparkignition internal combustion piston engines (for other than aircraft) -  other pistons',\n",
       " 'offal, edible; of bovine animals, livers, frozen - \\xa0livers',\n",
       " 'tools; for working in the hand, chain saws with selfcontained nonelectric motor - chain saws',\n",
       " 'aluminium shelves karakuri',\n",
       " 'air bag assycurtain lh',\n",
       " 'aluminium profiles yajddigitdigitdigit',\n",
       " 'wood; builders joinery and carpentry of wood n.e.c. in heading no. digitdigitdigitdigit, of bamboo',\n",
       " 'assy glove box base rhd',\n",
       " 'aluminium fence exterior qbkdigitdigit',\n",
       " 'aluminium door frame kdigitdigitdigitdigitdigitdigitbwac',\n",
       " 'cellulose ethers; carboxymethylcellulose and its salts, in primary forms - carboxymethylcellulose and its salts',\n",
       " 'vehicles; with only sparkignition internal combustion reciprocating piston engine, cylinder capacity over digitdigitdigitdigit but not over digitdigitdigitdigitcc -   of a cylinder capacity exceeding digit,digitdigitdigit cc but not exceeding digit,digitdigitdigit cc',\n",
       " 'adapter assy stereo jack digitdigitdigitdigitdigitdigitkdigitdigitdigitdigitdigit',\n",
       " 'fluorinated, brominated or iodinated derivatives of acyclic hydrocarbons; other than ethylene dibromide (iso) (digit,digitdibromoethane) - bromomethane (methyl bromide)',\n",
       " 'akdigitdigitdigitdigitvnl qkdigitdigitdigitdigitdigitdigitdigitdigitdigitdigitt',\n",
       " 'hinges; suitable for furniture, doors, staircases, windows, blinds, coachwork, saddlery, trunks, chests, caskets or the like, of base metal-\\xa0hinges',\n",
       " 'printing machinery; flexographic',\n",
       " 'unimproved wool and other wool not finer than digitdigits, degreased, not further processed, not shorn, not carded or combed, for special uses',\n",
       " 'auto parts halogen burner / halogen bulb hbxdigitdigitdigitdigitk digitbdigitdigitah',\n",
       " 'argon',\n",
       " 'fabrics, woven; of cotton, dyed, weighing not more than digitdigitdigitg/mdigit, n.e.c. in chapter digitdigit - dyed',\n",
       " 'electrical apparatus; isolating and makeandbreak switches, for a voltage exceeding digitdigitdigitdigit volts - other',\n",
       " 'aluminium sliding rail cpqdigitdigit',\n",
       " 'electrical motor overload protectors, for a voltage not exceeding digit,digitdigitdigit v, nesoi',\n",
       " 'vehicles; with both sparkignition internal combustion reciprocating piston engine and electric motor for propulsion, capable of being charged by plugging to external source of electric power -  of a cylinder capacity exceeding digit,digitdigitdigit cc but not excee',\n",
       " 'aircraft parthydraulic motor assembly',\n",
       " 'aclose digitdigitdigitdigit new orange export',\n",
       " 'automotive disc brake pad set mrdbdigitdigitdigitdigit metab',\n",
       " 'bigeye tunas (thunnas obesus), frozen, excluding fillets, other meat portions, livers and roes',\n",
       " 'assy lh finisher cpillar lwr na cognac',\n",
       " 'prepared additives for cements, mortars or concretes consisting wholly of inorganic substances',\n",
       " 'adaptor assy seat ob canted',\n",
       " 'parts of can-sealing machines',\n",
       " 'vehicle parts; brakes, servobrakes and parts thereof - brake drums, brake discs or brake pipes for vehicles of heading digitdigit.digitdigit or digitdigit.digitdigit',\n",
       " 'aluminium profiles yagddigitdigitdigit',\n",
       " 'aluminium door frame kkdigitdigitdigitdigitdigitdigitapda',\n",
       " 'abdigitdigit   digitdigitdigitdigitdigit bc reservoir windshield',\n",
       " 'apvi cdigitdigitdigitdigit/cdigitdigitdigitdigit toner  m',\n",
       " 'aluminium monobloc aerosol cans with internal protective lacquer with coating varnish size dia.mm. digitdigit.digitdigit for cool river body spray digitdigitml',\n",
       " 'abbas digittier dish rack digitdigitxdigitdigitxdigitdigitcm. sv',\n",
       " 'insecticides containing any aromatic or modified aromatic insecticide, nesoi',\n",
       " 'accessories for air conditioner',\n",
       " 'adhesive',\n",
       " 'paper and paperboard; uncoated, weight more than digitdigitdigitg/mdigit but less than digitdigitdigit g/mdigit, in rolls or sheets, n.e.c. in heading no. digitdigitdigitdigit - other',\n",
       " 'fish; fresh or chilled, anchovies (engraulis spp.), excluding fillets, fish meat of digitdigitdigitdigit, and edible fish offal of subheadings digitdigitdigitdigit.digitdigit to digitdigitdigitdigit.digitdigit - anchovies (engraulis spp.)',\n",
       " 'assy bracket w. bump rubber f. reso bdigitx',\n",
       " 'kitchen and toilet linen; of terry towelling or similar terry fabrics, of cotton',\n",
       " 'fertilizers of chapter digitdigit in tablets or similar forms or in packages of a gross weight not exceeding digitdigit kg',\n",
       " 'aluminium window tdigitdigitdigitdigitdigitcckc',\n",
       " 'nonadhesive plates, sheets, film, foil and strip, of noncellular plastics combined with textile materials, nesoi, not over digit.digitdigitdigit kg/sq m',\n",
       " 'heads, tails, paws, other pieces or cuttings of dressed or tanned furskins, of beaver, ermine, wolf, other specified animals, nt assembled',\n",
       " 'air freshener oaocadigitdigit pomegrante',\n",
       " 'fabrics; knitted or crocheted fabrics, other than those of heading digitdigit.digitdigit and digitdigit.digitdigit, of a width not exceeding digitdigit cm, of wool or fine animal hair - of wool or fine animal hair',\n",
       " 'woven fabrics of synthetic filament yarn nesoi, containing digitdigit% or more by weight of wool or fine animal hair, of yarns of different colors',\n",
       " 'base metal letter clips, letter corners, indexing tags and similar office articles nesoi, and base metal parts thereof',\n",
       " 'accuprime tm bnkdigitdigitdigitdigitdigitdigitdigitdigitdigit digitdigitdigitdigitdigitdigitdigitaccuprime tm bnkdigitdigitdigitdigitdigitdigitdigitdigitdigit digitdigitdigitdigitdigitdigitdigitaccuprime tm bnkdigitdigitdigitdigitdigitdigitdigitdigitdigit digitdigitdigitdigitdigitdigitdigitfreight',\n",
       " 'other assemblies & subassemblies of articles of digitdigitdigitdigit.digitdigit, consisting of digit or more pieces fastened together, other than printed circuit assemblies',\n",
       " 'mixtures chlorinated but not otherwise halogenated',\n",
       " 'fabrics, woven; dyed, containing less than digitdigit% by weight of artificial staple fibres, mixed mainly or solely with cotton - \\xa0dyed',\n",
       " 'adapter frame lh / frontbass rl',\n",
       " 'chicory, roasted and other roasted coffee substitutes; extracts, essences and concentrates thereof-\\xa0\\xa0roasted chicory and other roasted coffee substitutes, and extracts, essences and concentrates thereof',\n",
       " 'turkeys, not cut in pieces, valued digitdigit cents or more per kg, frozen',\n",
       " 'aluminum precoated finstock',\n",
       " 'industrial or laboratory microwave ovens, nesoi',\n",
       " 'armwindshield wiperrh',\n",
       " 'zinc oxide; zinc peroxide',\n",
       " 'film in rolls without sprocket holes, width not exceeding digitdigitdigit mm, other than color photography or silver halide emulsion film',\n",
       " 'sewing machines; furniture, bases and covers for sewing machines and parts thereof, and other parts of sewing machines - arms and beds; stands with or without centre frames; flywheels; belt guards; treadles or pedals',\n",
       " 'avdigitz digitdigitdigitdigitdigitdigitdigit a strap frt door check',\n",
       " 'automotive parts digitdigitdigitdigitdigitdigitdigitdigit defletor seal excluder',\n",
       " 'gravure printing machinery',\n",
       " 'atdigitfdigitdigitg adhesivepcbtmdigitdigitdigitdigitdigitgrn rev.a',\n",
       " 'copper alloys (o/than brass/bronze/cupro-nickel/nickel silver), plates, sheets & strip, w/thick. o/digit.digitdigitmm but less th/digitmm & width digitdigitdigitmm+',\n",
       " 'aluminium window frame wwdigitdigitdigitdigitdigitrarjt',\n",
       " 'coated paper or paperboard, nesoi',\n",
       " 'aluminium window frame kkdigitdigitdigitdigitdigitartl',\n",
       " 'aircraft parts wheel half assembly  pn digitdigitdigitdigitdigitdigitdigit    sn digitdigitdigitdigit',\n",
       " 'clothing; parts, knitted or crocheted-\\xa0\\xa0parts',\n",
       " 'aluminium window frame kmdigitdigitdigitdigitdigittgdj',\n",
       " 'assembled flooring panels of bamboo, for mosaic floors other than solid, having a face ply more than digitmm in thickness',\n",
       " 'peel of citrus fruit, nesoi, otherwise prepared or preserved, nesoi',\n",
       " 'aadigitz digitdigitdigitdigitdigitdigitdigit a w/strip dr glass rh',\n",
       " 'aluminum tubedigitdigitmmdigitdigitmmdigit.digitmmdigitdigitdigitdigitmm model hsdigitdigitdigittrdigitdigit',\n",
       " 'seeds of forage plants; other than lucerne, clover, fescue, kentucky blue grass, and rye grass seeds, of a kind used for sowing - other beet seeds',\n",
       " 'adigitkmpadigitdigitxdigitdigitge= asr digitdigitdigitdigit digitdigitport digitdigitge modular port adapter',\n",
       " 'motorcycles (including mopeds) and cycles; fitted with auxiliary motor, with electric motor for propulsion, with or without sidecars; sidecars - bicycles',\n",
       " 'barium sulphate (barytes); natural-\\xa0\\xa0natural barium sulphate (barytes)',\n",
       " 'fatty acids of animal or vegetable origin, nesoi',\n",
       " 'automotive  parts rack end comp finished',\n",
       " 'assy ntexpansion tank gdigitx',\n",
       " 'natural calcium phosphates, natural aluminum calcium phosphates and phosphatic chalk, ground',\n",
       " 'plastics; tubes, pipes and hoses thereof, n.e.c. in item no. digitdigitdigitdigit.digitdigit -  of other condensation or rearrangement polymerisation products',\n",
       " 'colouring matter of vegetable or animal origin, including dyeing extracts not animal black, whether or not chemically defined; preparations based on colouring matter of vegetable or animal origin',\n",
       " 'nonaromatic derivatives of hydrocarbons containing only sulfo groups, their salts and ethyl esters, nesoi',\n",
       " 'aluminium window frame kkdigitdigitdigitdigitdigitargy',\n",
       " 'furskins; tanned or dressed, heads, tails, paws and other pieces or cuttings, not assembled, excluding goods of heading no. digitdigitdigitdigit',\n",
       " 'paper, paperboard, cellulose wadding and webs of cellulose fibers, nesoi, weighing not over digitdigit g/mdigit, in certain size strips, rolls or sheets',\n",
       " 'aluminium container seal cap',\n",
       " 'air conditioner parts insulation comp. part no. rpcdigitdigitdigitddigitdigitdigit',\n",
       " 'ap operating handle top bracket',\n",
       " 'pts. & access. of mtr. vehic. of digitdigitdigitdigit, nesoi, digitdigitdigitdigit and digitdigitdigitdigit-digitdigitdigitdigit, half-shafts',\n",
       " 'vehicles; dumpers, designed for offhighway use, for transport of goods - g.v.w. exceeding digitdigit t but not exceeding digitdigit t',\n",
       " 'travel, sports and similar bags with outer surface of plastic sheeting',\n",
       " 'vinyl chloride, other halogenated olefin polymers; n.e.c. in heading no. digitdigitdigitdigit - other',\n",
       " 'transmission apparatus for radiobroadcasting or television, whether or not incorporating sound recording or reproducing apparatus, incorporating reception apparatus - transmission apparatus incorporating reception apparatus',\n",
       " 'assy hose draino',\n",
       " 'ay pipe fr he to vr rhd',\n",
       " 'aluminium door tycwbbdigitdigitdigit',\n",
       " 'aluminium window frame kfdigitdigitdigitdigitdigitaret',\n",
       " 'electrical machines and apparatus; signal generators-\\xa0signal generators',\n",
       " 'automotive batteries leadacid digitdigitmbdigitdigit smf',\n",
       " 'railway or tramway track fixtures and fittings; mechanical (including electromechanical) signalling, safety or traffic control equipment for railways, tramways, roads, inland waterways, parking facilities, port installations or airfields; parts thereof-',\n",
       " 'railway or tramway coaches; passenger coaches, luggage vans, post office coaches and other special purpose railway or tramway coaches, not self-propelled (excluding those of heading no. digitdigitdigitdigit)',\n",
       " 'aluminium window frame ttdigitdigitdigitdigitdigitargy',\n",
       " 'iron or steel; sanitary ware and parts thereof, excluding sinks, wash basins and baths - parts of flushing water closets or urinals (fixed type)',\n",
       " 'electric accumulators; nickeliron, including separators, whether or not rectangular (including square) - other',\n",
       " 'copper; articles n.e.c. in heading no. digitdigitdigitdigit - springs',\n",
       " 'photographic film; for colour photography (polychrome), in rolls, sensitised, unexposed, without sprocket holes, of a width not exceeding digitdigitdigitmm (other than of paper, paperboard or textiles)',\n",
       " 'drying machines, each of a dry linen capacity not exceeding digitdigit kg',\n",
       " 'embroidery; without visible ground, in the piece, in strips or in motifs - embroidery without visible ground',\n",
       " 'aircraft and part amu audio management unit',\n",
       " 'adjusting nut mdigitdigitxdigit.digit cdigitdigitk',\n",
       " 'vegetable waxes (other than triglycerides), whether or not refined or colored',\n",
       " 'aluminium window frame kkdigitdigitdigitdigitdigitarjv',\n",
       " 'fish meat, excluding fillets, whether or not minced; frozen, of the families bregmacerotidae, euclichthyidae, gadidae, macrouridae, melanonidae, merlucciidae, moridae and muraenolepididae, other than alaska pollack (theragra chalcogramma)',\n",
       " 'centrifuges, including centrifugal dryers; filtering or purifying machinery and apparatus for liquids or gases',\n",
       " 'twine, cordage, ropes, cables; of synthetic fibres other than polyethylene or polypropylene, whether or not plaited, braided or impregnated, coated, covered or sheathed with rubber or plastics - other',\n",
       " 'aromatic or modified aromatic photographic chemicals containing an unfused pyrazole ring (whether or n/hydrogenated) in the structure, nesoi',\n",
       " 'assy evapfre',\n",
       " 'parts & access. nesoi, for pipe organs',\n",
       " 'hosiery nesoi, knitted or crocheted, of wool or fine animal hair',\n",
       " 'adigitdigitdigitdigitdigitdigitdigitdigit/digitdigit battery pack',\n",
       " 'asbestos; crocidolite (blue asbestos) - crocidolite',\n",
       " 'armlock cbdigitdigitdigitdigitdigitdigitdigitdigit',\n",
       " 'india or bible paper, coated w/inorganic, n/o digitdigitdigit g/mdigit, of n/o digitdigit% fiber content obtained by mechanical/chemi- process, certain size sheets',\n",
       " 'leather articles; n.e.c. in chapter digitdigit, of leather or composition leather - other articles of a kind used in machinery or mechanical appliances or for other technical uses',\n",
       " 'copper; bars, rods and profiles, of copperzinc base alloys (brass) - \\xa0of copperzinc base alloys (brass)',\n",
       " 'alloy wheels y digitdigitdigitdigit digith/digitdigitdigit.digit etdigitdigit cbdigitdigit.digit titan matt  iddigitdigitdigitdigitdigitdigit',\n",
       " 'organoinorganic compounds; other organophosphorus derivatives, n.e.c. in heading no. digitdigitdigitdigit - other',\n",
       " 'steel, alloy; bars and rods n.e.c. in heading no. digitdigitdigitdigit - of circular crosssection',\n",
       " 'paper and paperboard; coated with kaolin or other inorganic substances, for printing & writing, graphics, containing no, or not more than digitdigit% by weight of total fibres obtained by mechanical or chemi-mechanical process, in rolls',\n",
       " 'wool, finer than digitdigits, not carded or combed, not carbonized, not shorn, degreased and processed to remove grease',\n",
       " 'dryers; for agricultural products, not used for domestic purposes',\n",
       " 'offal, edible; of swine, livers, frozen - \\xa0livers',\n",
       " 'rec pref outwear, mens or boys track suits or other garments nesoi, not knitted or crocheted, of cotton',\n",
       " 'fabrics, woven; dyed, containing digitdigit% or more by weight of artificial staple fibres - \\xa0dyed',\n",
       " 'hand-made paper or paperboard',\n",
       " 'shaping or slotting machines for working by removing metal or cermets, other than numerically controlled',\n",
       " 'ftwear w/outr sole rub/plast. & upp. textile, nesoi, val. >$digit but <$digit.digitdigit/pr, w/sole fixed to upp. w/adhesives, subj note digit ch digitdigit',\n",
       " 'aroma oil incense and candle set',\n",
       " 'adigitdigitdigitdigitdigitdigitdigitdigit tube pan universal tf assy',\n",
       " 'dust and powder of natural or synthetic precious or semi-precious stone',\n",
       " 'edible mixtures or preparations of animal or vegetable fats or oils or of fractions of different fats or oils of this chapter, other than edible fats or oils of heading no. digitdigitdigitdigit - other solid mixtures or preparations of vegetable fats or oils or of thei',\n",
       " 'automotive battery digitdigitndigitdigitdigit ectc  digitk',\n",
       " 'cheese (including mixtures) nesoi, grated or powdered, subject to gen. note digitdigit of the hts',\n",
       " 'chemical products, mixtures and preparations; n.e.c. heading digitdigitdigitdigit - acetone oil',\n",
       " 'vitamins; vitamin e and its derivatives, unmixed - \\xa0vitamin e and its derivatives',\n",
       " 'iron or nonalloy steel; bars and rods, forged, hotrolled, hotdrawn or hotextruded, but including those twisted after rolling - of circular crosssection',\n",
       " 'aluminium extrusion bar yagcdigitdigitdigit',\n",
       " 'steel, alloy; angles, shapes and sections - not further worked than hotrolled, hotdrawn or extruded',\n",
       " 'machinetools; broaching machines, working by removing metal, sintered metal carbides or cermets - not electrically operated',\n",
       " 'ozone, oxygen and aerosol therapy, artificial respiration or other therapeutic respiration apparatus, and parts and accessories thereof',\n",
       " 'multistation transfer machines for working metal',\n",
       " 'assy tank waterref',\n",
       " 'abdigitdigit  digitdigitcdigitdigitdigit cb tube air con',\n",
       " 'iron or steel (excluding cast iron); seamless, tubes, pipes and hollow profiles, seamless, n.e.c. in heading no. digitdigitdigitdigit - highpressure pipe capable of withstanding a pressure of not less than digitdigit,digitdigitdigit psi',\n",
       " 'adigitdigitdigit rx',\n",
       " 'aluminium alloy billetalloy  digitdigitdigitdigit temper  homo',\n",
       " 'cotton yarn; (not sewing thread), multiple or cabled, of uncombed fibres, digitdigit% or more by weight of cotton, digitdigitdigit.digitdigit decitex or more (not exceeding digitdigit metric number) per single yarn, not for retail sale - measuring per single yarn digitdigitdigit.digitdigit decitex or more (n',\n",
       " 'aluminium window frame wwdigitdigitdigitdigitdigitdigitavae',\n",
       " 'rapeseed or colza (not low erucic acid) or mustard oil, crude, not chemically modified, nesoi',\n",
       " 'machines and apparatus of a kind used solely or principally for the manufacture of semiconductor boules or wafers, semiconductor devices, electronic integrated circuits or flat panel displays; machines and apparatus specified in note digit-c to this chapter',\n",
       " 'mens or boys overcoats, carcoats, capes, & like coats of manmade fibers, not knit or crocheted, cont. digitdigit percent or more of wool, nesoi',\n",
       " 'assy shift assistent pro',\n",
       " 'fish; fresh or chilled, rays and skates (rajidae), excluding fillets, fish meat of digitdigitdigitdigit, and edible fish offal of subheadings digitdigitdigitdigit.digitdigit to digitdigitdigitdigit.digitdigit',\n",
       " 'aluminium window net fdigitdigitdigitdigitdigitcbnb',\n",
       " 'air curtain xqdigitdigitdigits',\n",
       " 'mens/boys bib & brace overalls, not knit/crochet, cotton, not containing digitdigit to digitdigit% or more by weight of down, etc, o/than rec perf outwear',\n",
       " 'printing machinery; parts and accessories, n.e.c. in item no. digitdigitdigitdigit.digitdigit - of screen printing machinery for the manufacture of printed circuit boards or printed wiring boards',\n",
       " 'steel, stainless; flatrolled, width digitdigitdigitmm or more, hotrolled, (not in coils), of a thickness of digitmm or more but less than digit.digitdigitmm - \\xa0of a thickness of digit mm or more but less than digit.digitdigit mm',\n",
       " 'aluminium door frame kcdigitdigitdigitdigitdigitdigitapda',\n",
       " 'iron or steel, articulated link chain (other than roller chain)',\n",
       " 'aluminium; structures (excluding prefabricated buildings of heading no. digitdigitdigitdigit) and parts of structures, n.e.c. in heading no. digitdigitdigitdigit, plates, rods, profiles, tubes and the like - internal or external floating roofs for petroleum storage tanks',\n",
       " 'herrings, anchovies, sardines, nesoi',\n",
       " 'assy ele. kmv crashopt.',\n",
       " 'adigitdigit_coconut crispy roll w.sesame digit pc.',\n",
       " 'aluminium window frame wdigitdigitdigitdigitdigitdigitbwba',\n",
       " 'wood; of beech (fagus spp.), in the rough, whether or not stripped of bark or sapwood, or roughly squared, untreated, of which any crosssectional dimension is digitdigit cm or more - other',\n",
       " 'photographic paper (not silver halide), paperbd, tex., not for color photo, other than in rolls of a width > digitdigitdigit mm, sensitized, unexposed',\n",
       " 'animal feed additive for animal use only laurita',\n",
       " 'asymem riszdigit.digit',\n",
       " 'air conditioning machines; containing a motor driven fan, other than window or wall types, incorporating a refrigerating unit -  other',\n",
       " 'iron or nonalloy steel; flatrolled, hotrolled, of a width less than digitdigitdigitmm, less than digit.digitdigitmm thick, excluding those of item no. digitdigitdigitdigit.digitdigit -  corrugated',\n",
       " 'ay clline vent cy/hd to ex/tank vdigit g',\n",
       " 'abstract print short sleeve shirt  beige  size  ssingle button fitted blazer  cream  size  s',\n",
       " 'abdigitdigitdigithdigitdigitdigitbf fltr asy eng ctlst exh prtclt',\n",
       " 'melons (including watermelons) and papaws (papayas); fresh',\n",
       " 'furniture; metal, other than for office use - fume cupboards',\n",
       " 'loudspeakers; multiple, mounted in the same enclosure - other',\n",
       " 'acids; aromatic polycarboxylic acids; n.e.c. in item no. digitdigitdigitdigit.digit',\n",
       " 'adhesive aron alpha digitdigitdigit digitdigitg. white',\n",
       " 'aluminium extrusion bar ycrtdigitdigitdigit',\n",
       " 'aluminium window frame kdigitdigitdigitdigitdigitdigitbwbg',\n",
       " 'pulp of fruit nesoi, and other edible parts of plants nesoi, excluding mixtures, otherwise prepared or preserved, nesoi',\n",
       " 'polishes, creams and similar preparations; for footwear or leather, excluding waxes of heading no. digitdigitdigitdigit-\\xa0\\xa0polishes, creams and similar preparations for footwear or leather',\n",
       " 'arm set mkdigit  digitdigit/digit od pipe cutter x digitdigit.digitdigit opening od  digitdigitdigitdigitdigitja',\n",
       " 'surgical gloves of vulcanized rubber other than hard rubber',\n",
       " 'machinery; parts of machinery for making or finishing paper or paperboard - other',\n",
       " 'vegetables, leguminous; broad beans (vicia faba var. major) and horse beans (vicia faba var. equina and vicia faba var. minor), shelled, whether or not skinned or split, dried - suitable for sowing',\n",
       " 'assy trayd/water',\n",
       " 'armature assembly',\n",
       " 'glassware of a kind used for table or kitchen purposes (not drinking glasses), of glass having a linear coefficient of expansion not exceeding digit x digitdigit (to the minus digit), (or digit.digitdigitdigitdigitdigitdigit) per kelvin within a temperature range of digit-digitdigitdigit degrees c',\n",
       " 'prepared or preserved eel, whole or in pieces, but not minced, nesoi',\n",
       " 'colouring matter of vegetable or animal origin (including dyeing extracts, not animal black); whether or not chemically defined; preparations based on colouring matter of vegetable or animal origin',\n",
       " 'hydrogen peroxide; whether or not solidified with urea',\n",
       " 'glass fiber slivers',\n",
       " 'aluminum coil',\n",
       " 'waste and scrap of paper and paperboard',\n",
       " 'aluminium door frame dfdigitdigitdigitdigitdigitdigitasaa',\n",
       " 'athletics and gymnastics equipment - articles and equipment for general physical exercise, gymnastics or athletics',\n",
       " 'cold-water shrimps and prawns, cooked in shell or uncooked, dried, salted or in brine, frozen',\n",
       " 'aerosol valves accessories tinplate  lacquer  digitdigitacdigitdigitdigitdigitbb',\n",
       " 'toilet and kitchen linen; of man-made fibres',\n",
       " 'plastics; plates, sheets, film, foil and strip, other than cellular - of other cellulose or its chemical derivatives',\n",
       " 'assy_lift_tab_left_painted',\n",
       " 'abdigitz   digitdigitdigitdigitdigit e latch hood',\n",
       " 'manganese; articles thereof, including waste and scrap',\n",
       " 'aryuf  bracket holder',\n",
       " 'aluminium window frame gdigitdigitdigitdigitdigitdigitamga',\n",
       " 'aluminium profilealuminium angles',\n",
       " 'single textured yarn, of nylon or other polyamides, measuring more than digitdigitdigit decitex, not put up for retail sale',\n",
       " 'photographic film; other than for colour photography, in rolls, sensitised, unexposed, of a width not exceeding digitdigitmm and of a length not exceeding digitdigitm (other than of paper, paperboard or textiles) - other',\n",
       " 'furskins; tanned or dressed, of mink, whole, with or without head, tail or paws, not assembled - of mink',\n",
       " 'avitera brilliant red se',\n",
       " 'arm assy rocker',\n",
       " 'liquid crystal and other optical flat panel displays other than for articles of heading digitdigitdigitdigit, nesoi',\n",
       " 'air cylinder model  stgmdigitdigitdigitdigittdigithd',\n",
       " 'rubber; vulcanised (other than hard rubber), gaskets, washers and other seals, of noncellular rubber - other',\n",
       " 'arm complwr b r rr digitwd',\n",
       " 'architectura wdown wc f.cc viclean l model no.digitdigitdigitdigitdigitdigitrdigit',\n",
       " 'sugar beet; fit for human consumption, fresh, chilled, frozen or dried, whether or not ground',\n",
       " 'sour cream, dried, n/o digit% by wt. butterfat, not subject to gen nte digitdigit or add. us note digitdigit to ch. digit',\n",
       " 'metals; palladium, unwrought or in powder form - other',\n",
       " 'copper plates, sheets and strip; of a thickness exceeding digit.digitdigitmm',\n",
       " 'dried onions whole, cut, sliced or broken, but not further prepared',\n",
       " 'blankets (other than electric blankets) and travelling rugs; of wool or fine animal hair-\\xa0\\xa0blankets (other than electric blankets) and travelling rugs, of wool or of fine animal hair',\n",
       " 'inorganic acids; other than hydrogen fluoride - other',\n",
       " 'electrical apparatus; n.e.c. in heading no. digitdigitdigitdigit, for switching or protecting electrical circuits, for a voltage exceeding digitdigitdigitdigit volts - changeover switches of a kind used for starting electric motors',\n",
       " 'plastics; carboys, bottles, flasks and similar articles, for the conveyance or packing of goods',\n",
       " 'paper and paperboard; other than corrugated (with or without glued flat surface sheets) or kraft paper, creped or crinkled, whether or not embossed or perforated, in rolls or sheets, other than paper of heading digitdigitdigitdigit - embossed paper',\n",
       " 'tin; articles n.e.c. in chapter digitdigit - cigarette cases or boxes; ashtrays',\n",
       " 'accustarr life bnkdigitdigitdigitdigitdigitdigitdigitdigitdigit digitdigitdigitdigitdigitdigitdigitfreight',\n",
       " 'machinery; parts of the machines of heading no. digitdigitdigitdigit, n.e.c. in item no. digitdigitdigitdigit.digitdigit - parts of lamination presses for the manufacture of printed circuit boards or printed wiring boards',\n",
       " 'magnets; permanent magnets and articles intended to become permanent magnets after magnetisation, of metal',\n",
       " 'arts. for christmas festivities, nativity scenes and figures thereof',\n",
       " 'forklift and other works trucks; fitted with lifting or handling equipment, selfpropelled by other than electric motor-\\xa0other selfpropelled trucks',\n",
       " 'assy rcc digitdigitu',\n",
       " 'nuts, edible; almonds, fresh or dried, shelled - \\xa0shelled',\n",
       " 'benzenesulfonyl chloride',\n",
       " 'lubricating oils, w/or w/o additives, fr. petro oils and bitumin minerals (o/than crude) or preps. digitdigit%+ by wt. fr. petro oils',\n",
       " 'additive tank compl scr',\n",
       " 'footwear w/outer soles & uppers of rubber or plastics, nesoi, n/cov. ankle, w/ext. surf. uppers o/digitdigit% rubber/plastics, w/base of cork',\n",
       " 'anemometer',\n",
       " 'aluminium kitchenware digitdigitdigitdigitdigitdigitdigitdigitdigit gladiator plus deep fry pan digitdigit cm. with glass lid digitdigitdigitdigitdigitdigitdigitdigitdigit gladiator deep fry pan digitdigit cm',\n",
       " 'abdigitdigit digitdigitdigitdigitdigitdigitdigit bg reg asy fr dr wd rh',\n",
       " 'aluminium ornament for door gadigitdigitdigitpeac',\n",
       " 'aluminum electric wire alvus   digitdigitdigit lap digitdigitdigitdigitm/pc',\n",
       " 'clasps and frames with clasps; incorporating locks, of base metal',\n",
       " 'aluminium ornament for door bbdigitdigitdigitdigitdnje',\n",
       " 'absorber fr bumper lwr',\n",
       " 'abdigitdigitdigitdigitdigitdigitadigitdigitdigit ac shld frt fndr spls',\n",
       " 'esters; phosphite esters and their salts; their halogenated, sulphonated, nitrated or nitrosated derivatives, dimethyl phosphite - dimethyl phosphite',\n",
       " 'automotive battery ndigitdigitdigit rc  rca',\n",
       " 'aluminium window frame gdigitdigitdigitdigitdigitdigitamga',\n",
       " 'assy swa nozzle chain heated',\n",
       " 'tobacco; smoking, water pipe tobacco as specified in subheading note digit to this chapter, whether or not containing tobacco substitutes in any proportion',\n",
       " 'aluminium window frame kdigitdigitdigitdigitdigitaban',\n",
       " 'av board ns gourriel digitdigitdigit',\n",
       " 'lighters; parts for cigarette lighters and other lighters, whether or not mechanical or electrical, other than flints and wicks - other',\n",
       " 'vehicles; with only compressionignition internal combustion piston engine (diesel or semidiesel), cylinder capacity over digitdigitdigitdigit but not over digitdigitdigitdigitcc -   of a cylinder capacity exceeding digit,digitdigitdigit cc',\n",
       " 'aircraft partdiffusercentrifugalinvdigitdigitdigitdigittadigitdigitdigitdigit',\n",
       " 'alloy wheels tmdigitdigitdigit digit.digitxdigitdigit digith/digitdigitdigit etdigitdigit gm flat cbdigitdigit.digit tmdigitdigitdigitdigitdigitdigitdigitdigitdigitdigitdigitdigitdigitma rdigitdigit',\n",
       " 'adigitdigitdigitdigitdigitdigitdigitdigit   pcba mb erfdigitdigitdigitdigit tf lux digitdigitdigit/digitdigitdigit',\n",
       " 'alloy wheel complete with cap  emblem tmdigitdigitdigit digit.digitxdigitdigit digith/digitdigitdigit etdigitdigit pol black cbdigitdigit.digit',\n",
       " 'aluminium window frame dfdigitdigitdigitdigitdigitarvv',\n",
       " 'acrylic tow',\n",
       " 'adigitdigitdigitdigitdigitdigitdigitdigit deli cover assy md',\n",
       " 'af zoom lens adigitdigitdigitn sp digitdigitdigitdigitdigitmm f/digit.digit di vc usd gdigit for nikon w/hood',\n",
       " 'automotive disc brake pads digitdigitdigitdigitdigitdigitdigitdigitdigit set dbdigitdigitdigitdigit hd',\n",
       " 'wristwatches; electrically operated, with or without a stopwatch, (other than those of heading no. digitdigitdigitdigit) with optoelectronic display only - \\xa0with optoelectronic display only',\n",
       " 'surveying equipment; articles n.e.c. in heading no. digitdigitdigitdigit, including hydrographic, oceanographic, hydrological, meteorological or geophysical instruments and appliances (excluding compasses) - other',\n",
       " 'digital signal processing apparatus capable of connecting to a wired or wireless network for sound mixing',\n",
       " 'iron/nonalloy steel, flat wire, <digit.digitdigit% carbon, not plated or coated, w/thick o/digit.digitdigit mm',\n",
       " 'sound recording and reproducing apparatus using magnetic tape, optical media, or semiconductor media',\n",
       " 'aluminum electric wire alvss   digitdigitdigit lagr digitdigitdigitm/pc',\n",
       " 'activated carbon; activated natural mineral products; animal black, including spent animal black',\n",
       " 'air conditioners unit condensing model anmdigitdigitdigitsnanddigitdigitdigitsndigit',\n",
       " 'shutters and similar articles and parts thereof, nesoi, of plastics',\n",
       " 'assy kitwdigitdigitdigitdigitmain/sub union code',\n",
       " 'aluminium collapsible tubes with internal protective lacquer fitted with standard piercer cap no.digitdigitdigit size dia. mm. digitdigit.digitdigit for hydroderm digit% cream digitdigitg pmtubhdigitdigitdigitdigit',\n",
       " 'bicycles and other cycles; including delivery tricycles, not motorised - bicycles designed to be ridden by children',\n",
       " 'aluminium foil digitdigitdigitmdigitdigitdigitdigitdigitdigit',\n",
       " 'aluminium window frame fdigitdigitdigitdigitdigitlcbpe',\n",
       " 'blinds, shutters, screens and shades of wood other than bamboo, with wooden frames w/o fixed louver boards or slats in the center',\n",
       " 'plastics; artificial guts (sausage casings) of hardened protein or of cellulosic materials',\n",
       " 'processed cheese cont/procd fr american-type cheese (ex cheddar), not grated/powdered, not subject to add us note digitdigit to ch. digit, not gndigitdigit',\n",
       " 'single cotton yarn, less than digitdigit percent cotton by weight, of uncombed fibers, over digitdigit but n/o digitdigit nm, not put up for retail sale',\n",
       " 'iron/nonalloy steel, width digitdigitdigitmm+, flat-rolled products, painted/varnished or coated w/plastic but not plated/coated or clad w/metal',\n",
       " 'adhesive patch pdigitdigitdigitdigitdigit made with rddigitdigitdigit',\n",
       " 'automotive plastic parts panelsw digit dfrdigitdigitdigitdigitdigitdigit digitdigitdigitdigitdigitdigitdigit',\n",
       " 'aluminium handrail exterior zadigitdigitdigitpvac',\n",
       " 'fabrics; warp knit (including those made on galloon knitting machines), other than those of headings digitdigit.digitdigit to digitdigit.digitdigit, of artificial fibres, bleached or unbleached',\n",
       " 'ketones; aromatic, (without other oxygen function), phenylacetone (phenylpropandigitone) - \\xa0phenylacetone (phenylpropandigitone)',\n",
       " 'aluminium; foil, (not backed), of a thickness not exceeding digit.digitmm, not rolled - \\xa0other',\n",
       " 'aluminium window frame tfdigitdigitdigitdigitdigitlarnd',\n",
       " 'aluminium slugs no brand made of digitdigit.digit% minimum purity aluminium well annealed vibrated preformed shape hardness not over digitdigit hb size digitdigit.digitdigitxxdigitdigit.digitdigit preformed shape',\n",
       " 'antennamicro larndigitdigitdigitdigitdigitdigitdigit',\n",
       " 'amb kaiken ultra cab',\n",
       " 'chromatographs and electrophoresis instruments - electrically operated',\n",
       " 'fillets of mackerel, dried, salted or in brine, but not smoked, in immediate containers weighing with their contents digit.digit kg or less each',\n",
       " 'steel, stainless; flat-rolled, width digitdigitdigitmm or more, cold-rolled, of a thickness of less than digit.digitmm',\n",
       " 'artificial guts (sausage casings) of hardened protein, nesoi',\n",
       " 'ceramic flooring blocks, supports or filler tiles and the like (excluding building bricks)-\\xa0other',\n",
       " 'tanned or crust hides and skins; of animals other than equine, ovine, bovine, goats or kids, swine and reptiles, without wool or hair on, whether or not split, but not further prepared, in the dry state (crust)',\n",
       " 'electric sound amplifier sets',\n",
       " 'anvil roll gydigitdigitdigitdigitdigitdigitdigitdigitdigitdigit',\n",
       " 'aluminium galley equipment',\n",
       " 'aircraft spare partbooster pumpp/n digitdigitdigitdigitdigitas/n digitdigitdigitdigitdigitdigitdigit',\n",
       " 'woven fabrics, cont. digitdigit% or more of man-made filaments, thread count >digitdigit-digitdigitdigit/cm warp and >digitdigit-digitdigit/cm filling, of different colored yarns',\n",
       " 'engines; rotary internal combustion piston engines, for other than aircraft or marine propulsion',\n",
       " 'frozen bregmacerotidae et al fish fillets, nesoi, skinned, in blocks weighing over digit.digit kg, to be minced, ground or cut into pieces',\n",
       " 'anastasia side table digitdigit cm. s wt',\n",
       " 'base metal forks, w/stainless steel handles cont. ni or o/digitdigit% by wt of mn, nesoi',\n",
       " 'abdigitdigit digitdigitdigitdigitdigitdigitdigit eb mldg roof side',\n",
       " 'vegetable oils; cotton-seed oil and its fractions; crude, whether or not gossypol has been removed, not chemically modified',\n",
       " 'fibres; synthetic staple fibres, of synthetic materials n.e.c. in heading no. digitdigitdigitdigit, not carded, combed or otherwise processed for spinning',\n",
       " 'abdigitdigitdigitdigitdigitdigitdigitadigitdigit af moulding rh',\n",
       " 'mackerel, in brine or salted but not dried or smoked, in immediate containers weighing with their contents digit.digit kg or less each',\n",
       " 'pts. & access. for bicycles & o/cycles, brakes (o/than hub brakes) and parts thereof',\n",
       " 'coffee; roasted, not decaffeinated - unground',\n",
       " 'furniture; for medical, surgical, veterinary use (e.g. operating tables, examination tables, hospital beds with mechanical fittings) and parts thereof - other',\n",
       " 'nonadhesive plate/sheet/film/foil/strip, noncellular, not comb w/other materials, of vinyl chloride polymers, not less digit% plasticizer, nesoi',\n",
       " 'assy plunger',\n",
       " 'locust beans (carob); fit for human consumption, fresh, chilled, frozen or dried, whether or not ground',\n",
       " 'aromatic amino-acids drugs and their esters, not containing more than one kind of oxygen function, nesoi',\n",
       " 'preps for infant use, nesoi, containing oligosaccharides described in additional us note digit: provisional',\n",
       " 'acids; aromatic polycarboxylic acids; terephthalic acid and its salts',\n",
       " 'aluminium coated end stock in coils adigitdigitdigitdigit  hdigitdigit size digit.digitdigitdigitmm x digitdigit.digitdigitmm x coil',\n",
       " 'automotive disc brake pad mrdbdigitdigitdigitdigit met nafdigitdigitdigitdigitdigitab',\n",
       " 'stainless steel, width digitdigitdigitmm+, cold-rolled flat-rolled products, w/thickness of digit mm or more but less than digit.digitdigit mm',\n",
       " 'accuprime bnkdigitdigitdigitdigitdigitdigitdigitdigitdigit digitdigitdigitdigitdigitdigitdigitdigit',\n",
       " 'assyhead inkjet vsdigitdigitdigitcode  digitdigitdigitdigitdigitdigitdigitdigitdigitdigit',\n",
       " 'as per inv.digitdigitdigitdigit',\n",
       " 'machines; parts and accessories of machines or auxiliary machinery of heading no. digitdigitdigitdigit-\\xa0parts and accessories of machines of heading digitdigit.digitdigit or of their auxiliary machinery',\n",
       " 'toy jewelry (except pts.), not of base metal, n/o digit cents each',\n",
       " 'accessories for non ss wastewater pump',\n",
       " 'assembly aluminium panel unit no. udigitdigit',\n",
       " 'aluminium door frame ddigitdigitdigitdigitdigitdigitbwaf',\n",
       " 'iron or nonalloy steel; flatrolled, width less than digitdigitdigitmm, painted, varnished or coated with plastics - other hoop and strip',\n",
       " 'engines; for aircraft, sparkignition reciprocating or rotary internal combustion piston engines-\\xa0aircraft engines',\n",
       " 'medicaments; consisting of mixed or unmixed products n.e.c. in heading no. digitdigitdigitdigit, for therapeutic or prophylactic uses, packaged for retail sale',\n",
       " 'grapefruit, fresh or dried, if entered during the period november digit through the following july digitdigit, inclusive',\n",
       " 'lenses; objective, for cameras, projectors or photographic enlargers or reducers, mounted, being parts or fittings for instruments or apparatus, of any material (excluding glass not optically worked) - for cameras, projectors or photographic enlargers o',\n",
       " 'aminoaldehydes, aminoketones and aminoquinones; other than those containing more than one kind of oxygen function; salts thereof - amfepramone (inn), methadone (inn) and normethadone (inn); salts thereof',\n",
       " 'automobile  parts   shaft subassy middle  jjdigitdigitdigitdigitdigitdigitdigitdigitdigitc',\n",
       " 'apronfendersidelh',\n",
       " 'alligator watch straps gdigitdigit/digitdigitdigit digitdigitdigita/digitdigitdigit/digitdigitdigitdigit/m alligator black mat csp red pmmtlslsmcudigitdigitdigits >digitdigit',\n",
       " 'ay lh brkt dpost incl high  mid rng spk',\n",
       " 'wrist watches nesoi, electrically operated, w/both optoelectronic & mechanical displays, digit-digit jewel, band of material nesoi',\n",
       " 'iron or steel (excluding cast iron); tubes and pipes (other than line pipe or casing of a kind used for oil or gas pipelines), longitudinally welded, having circular crosssections, external diameter exceeds digitdigitdigit.digitmm, (not seamless) - other',\n",
       " 'ftwear w/outr soles rubber/plastic & upp. textile, nesoi, w/open toes/heels or slip-on, >digitdigit% by wt. of rub/plast, subj note digit ch digitdigit',\n",
       " 'aluminium window frame wfdigitdigitdigitdigitdigitargh',\n",
       " 'rubber; inner tubes, n.e.c. in heading no. digitdigitdigitdigit - of a kind used on aircraft',\n",
       " 'glassware; drinking glasses (not stemware), of lead crystal - \\xa0of lead crystal',\n",
       " 'acrylic resin for automotive paintolester qcdigitdigitdigitdigit',\n",
       " 'sawing or cutting-off machines for working by removing metal or cermets, numerically controlled',\n",
       " 'textile products and articles for technical uses; specified in note digit to this chapter',\n",
       " 'abdigitdigit   digitbdigitdigitdigit ba seal oil',\n",
       " 'machinery; for making or repairing articles of hides, skins or leather, other than sewing machines',\n",
       " 'cranes and derricks; designed for mounting on road vehicles - designed for mounting on road vehicles',\n",
       " 'olives, green, not pitted, in saline, not ripe',\n",
       " 'assy hose draino',\n",
       " 'astringent cleansing water digitdigitdigit ml.',\n",
       " 'aluminium door sdigitdigitdigitdigitdigitadsbb',\n",
       " 'aluminium carport exterior digitrdndigitdigitbk',\n",
       " 'aluminium carport exterior digitrdrdigitdigitsc',\n",
       " 'machinery, plant and laboratory equipment; for treating materials by change of temperature, other than for making hot drinks or cooking or heating food -  other',\n",
       " 'aluminium window kdigitdigitdigitdigitdigitcclc',\n",
       " 'additive for paint apdigitdigitdigit/no.ethdigitdigit',\n",
       " 'aluminium window frame wdigitdigitdigitdigitdigitdigitaaca',\n",
       " 'air inlet and wiper part no.digitdigitdigitdigitdigitdigitdigitdigit',\n",
       " 'aquaprime digitdigitdigit varnish no commercial value/ value for customs purpose only',\n",
       " 'aluminium slugsno brand made of digitdigit.digit% minimum purity aluminium well annealed vibrated preformed shape hardness not over digitdigit hb size digitdigit.digitdigitxxdigitdigit.digitdigit preformed shape',\n",
       " 'badminton articles and equipment (o/than rackets and cotton nets) and parts & accessories thereof',\n",
       " 'shark fins, not in airtight containers',\n",
       " 'electromechanical domestic appliances nesoi, with self-contained electric motor',\n",
       " 'printing, copying, and facsimile machines; singlefunction printing, copying or facsimile machines, capable of connecting to an automatic data processing machine or to a network -  colour',\n",
       " 'watch movements; complete and assembled, electrically operated, by means of solar cells, with opto-electronic display',\n",
       " 'carcasses and half-carcasses of swine, frozen',\n",
       " 'nonadhesive plates, sheets, film, foil and strip, of noncellular plastics combined with cotton, over digit.digitdigitdigit kg/sq m',\n",
       " 'synth filament yarn, for doll wigs, of colored multifil, untwisted/with twist < digit turns/meter, of nylon or other polyamide, not retail sale',\n",
       " 'sulphur, sublimed or precipitated; colloidal sulphur.',\n",
       " 'yarn; of hemp (cannabis sativa l.)-\\xa0true hemp yarn',\n",
       " 'portable sprayers excl self-contained sprayers having a capacity >=digitdigit liters)',\n",
       " 'aluminium window frame dfdigitdigitdigitdigitdigitarln',\n",
       " 'paper; selfcopy paper (other than those of heading no. digitdigitdigitdigit), whether or not put up in boxes - in rolls of a width exceeding digitdigit cm but not exceeding digitdigit cm',\n",
       " 'spring-type clothespins of wood other than of bamboo',\n",
       " 'aluminium carport exterior digitrdgdigitdigitvn',\n",
       " 'aluminium window frame dddigitdigitdigitdigitdigitdigitapda',\n",
       " 'aluminium fence exterior qbedigitdigit',\n",
       " 'optical fiber cables made up of individually sheathed fibers',\n",
       " 'vegetables; tomatoes, fresh or chilled',\n",
       " 'ethylene polymers; in primary forms, n.e.c. in heading no. digitdigitdigitdigit',\n",
       " 'aluminium; plates, sheets and strip, thickness exceeding digit.digitmm, alloys, rectangular (including square) - other',\n",
       " 'tulip bulbs, dormant',\n",
       " 'mammals; live, whales, dolphins and porpoises (mammals of the order cetacea); manatees and dugongs (mammals of the order sirenia); seals, sea lions and walruses (mammals of the suborder pinnipedia) - whales, dolphins and porpoises (mammals of the order',\n",
       " 'iron/nonalloy steel, width digitdigitdigitmm+, flat-rolled products, plated or coated with chromium oxides or with chromium and chromium oxides',\n",
       " 'apkdigitdigitfhdigitdigitdigitdigitdigitta kit floor panel carbon',\n",
       " 'aluminium window frame kfdigitdigitdigitdigitdigitarvv',\n",
       " 'instruments and apparatus; for physical or chemical analysis, for measuring or checking viscosity, porosity, expansion, surface tension or quantities of heat, sound or light, n.e.c. in heading no. digitdigitdigitdigit',\n",
       " 'aromachine detergentpowder digitdigit kgdigit',\n",
       " 'cotton, carded or combed.',\n",
       " 'pineapples, otherwise prepared or preserved, nesoi',\n",
       " 'clocks nesoi, electrically operated, with opto-electronic display only',\n",
       " 'garments and clothing accessories; babies, of textile materials other than cotton or synthetic fibres (not knitted or crocheted)',\n",
       " 'machinery; for filtering or purifying water -  filtering machinery and apparatus for domestic use',\n",
       " 'cupric acetate monohydrate',\n",
       " 'animal or vegetable fats and oils and their fractions; oxidised, boiled or otherwise chemically modified, (excluding those of heading no. digitdigitdigitdigit), inedible mixtures or preparations of fats or oils - of soya beans or coconuts',\n",
       " 'machinery; for manufacture or finishing felt or nonwovens in the piece or in shapes, including machinery for making felt hats, blocks for making hats - electrically operated',\n",
       " 'glass optical elements (other than lens blanks), not optically worked',\n",
       " 'aircraft spare partactuatorp/n adigitdigitdigitdigitas/n digitdigit',\n",
       " 'bean cake, bean stick, miso, other fruit, nuts and other edible parts of plans, prepared or preserved',\n",
       " 'automotive battery nsdigitdigit rc  rca',\n",
       " 'assy scavenge air line digit phev mkl x l co',\n",
       " 'parts of garments or of clothing accessories, containing under digitdigit% by weight of silk or silk waste, knitted or crocheted',\n",
       " 'aluminium window fdigitdigitdigitdigitdigitcbpb',\n",
       " 'aircraft parthousing assemblyinletinvdigitdigitdigitdigittadigitdigitdigitdigit',\n",
       " 'abs pellet blackacrylonitrile butadiene styrene made of plastic recycled',\n",
       " 'machines and appliances, instruments or apparatus of chapter digitdigit; parts and accessories n.e.c. in chapter digitdigit',\n",
       " 'airjet polyester digitdigit% textured polyester digitdigit% textured polyester re digitdigit% spandex elastane digitdigit%',\n",
       " 'a/s tapeoctasmjdigitdigitdigithytdigitdigitdigitdigitbtblack',\n",
       " 'aluminium window frame kfdigitdigitdigitdigitdigitdigitapda',\n",
       " 'straight saw blades for working metal (o/than hacksaw blades), and base metal parts thereof',\n",
       " 'blood, human or animal, antisera, other blood fractions and immunological products; malaria diagnostic test kits - malaria diagnostic test kits',\n",
       " 'watch cases; of precious metal or of metal clad with precious metal-\\xa0cases of precious metal or of metal clad with precious metal',\n",
       " 'aircraft containerake  digitdigitdigitdigitdigit  tg',\n",
       " 'synthetic staple fibers, not carded, combed or otherwise processed for spinning, of vinyon',\n",
       " 'nonindustrial diamonds, unworked or simply sawn, cleaved or bruted',\n",
       " 'aluminium fence exterior digitakedigitdigitbk',\n",
       " 'aluminium window frame btdigitdigitdigitdigitbatacc',\n",
       " 'unroasted iron pyrites.',\n",
       " 'colby cheese, processed, not grated or powdered, not subject to gen note digitdigit or add us note digitdigit to ch. digit',\n",
       " 'guavas, mangoes, and mangosteens, fresh, if entered during the period june digit through august digitdigit, inclusive',\n",
       " 'aogdigitdigit  motor bracket plate b',\n",
       " 'accessories for virtual reality headsets',\n",
       " 'vessels and other floating structures for breaking up.',\n",
       " 'insulating fittings; of plastics, for electrical machines, of insulating material only (except minor assembly parts), excluding those of heading no. digitdigitdigitdigit',\n",
       " 'one-handed secateurs, pruners and shears (including poultry shears), and base metal parts thereof',\n",
       " 'tobacco, partly or wholly stemmed/stripped, threshed or similarly processed, not from cigar leaf , described in addl us note digit to chap digitdigit',\n",
       " 'aluminum',\n",
       " 'aluminium; (not alloyed), bars, rods and profiles - bars and rods',\n",
       " 'magnetic media; other than cards incorporating a magnetic stripe, whether or not recorded, excluding products of chapter digitdigit -   computer tapes',\n",
       " 'axwdigitdigitdigitdigitdigitdigitdigitdigitdigit  part of washing machinetimer wash',\n",
       " 'assy chassis door',\n",
       " 'drinking glasses, nesoi, o/than of pressed and toughened glass, o/than lead crystal, cut or engraved, valued over $digit each',\n",
       " 'aluminium window frame wwdigitdigitdigitdigitdigitarjv',\n",
       " 'fabrics; narrow (excluding pile fabrics), containing by weight digit% or more of elastomeric yarn or rubber thread',\n",
       " 'afa     digitdigitdigit air filter',\n",
       " 'clothing accessories; of leather or of composition leather, n.e.c. in heading no. digitdigitdigitdigit - other clothing accessories',\n",
       " 'vegetable fats and oils and their fractions; partly or wholly hydrogenated, interesterified, reesterified or elaidinised, whether or not refined, but not further prepared - other',\n",
       " 'aluminium door tycvbfdigitdigitdigit',\n",
       " 'fish preparations; shark fins, prepared or preserved, whole or in pieces (but not minced)',\n",
       " 'aluminium nut',\n",
       " 'abs recycled pellet',\n",
       " 'all parts for civil aircraftpanel assy lower access_neo lhfdigitdigitdigitdigitdigitdigitdigitdigitdigitdigitdigitdigitdigit',\n",
       " 'aluminium profiles ycrkdigitdigitdigit',\n",
       " 'accustar ultrafilm digitdigitdigitdigitdigitdigitdigit',\n",
       " 'footwear, nesoi, with soles and uppers of wool felt',\n",
       " 'aluminium ornament for door bpdigitdigitdigitpeae',\n",
       " 'automotive spare partsshock absorber digitdigitdigitdigitdigitdigit',\n",
       " 'articles of kind usu. carried in pocket or handbag (o/t lea., shtng. of plas., tex. mat., vul. fib. or paperbd.), pap. cov., of mat. nesoi',\n",
       " 'mineral or chemical fertilizers cont. two or three of the fertilizing elements nitrogen, phosphorus and potassium fertilizers, nesoi',\n",
       " 'amp assyant',\n",
       " 'graders and levellers',\n",
       " 'yarn; of vegetable textile fibres n.e.c. in heading no. digitdigitdigitdigit, digitdigitdigitdigit and digitdigitdigitdigit - other',\n",
       " 'tungsten (wolfram); articles n.e.c. in heading no. digitdigitdigitdigit - other',\n",
       " 'alcohols; aromatic alcohols and derivatives, benzyl alcohol',\n",
       " 'molybdenum, articles nesoi',\n",
       " 'footwear w/outer soles of rubber/plastics/leather/comp. leather & uppers of leather, w/protective metal toe-cap, n/welt',\n",
       " 'parts of watch bracelet of base metal, whether or not gold- or silver-plated, valued not over $digitdigit per dozen',\n",
       " 'constant weight scales and scales for discharging a predetermined weight of material into a bag or container, including hopper scales',\n",
       " 'pebbles, gravel, crushed stone for concrete aggregates for road or railway ballast, shingle or flint; macadam of slag, dross etc tarred granules, chippings, powder of stones of heading no. digitdigitdigitdigit and digitdigitdigitdigit',\n",
       " 'nonadhesive plates, sheets, film, foil and strip, cellular, of regenerated cellulose',\n",
       " 'flours, meals and pellets; of meat or meat offal, greaves-\\xa0\\xa0flours, meals and pellets, of meat or meat offal; greaves',\n",
       " 'aluminum alloy, profiles (o/than hollow profiles)',\n",
       " 'accustar ultrafilm bnkdigitdigitdigitdigitdigitdigitdigitdigitdigit digitdigitdigitdigitdigitdigitdigit',\n",
       " 'copper; sanitary ware and parts thereof-\\xa0sanitary ware and parts thereof',\n",
       " 'fish; frozen, n.e.c. in heading digitdigitdigitdigit, excluding fillets, fish meat of digitdigitdigitdigit, and edible fish offal of subheadings digitdigitdigitdigit.digitdigit to digitdigitdigitdigit.digitdigit -  wallago (wallago attu) and giant rivercatfish (sperata seenghala)',\n",
       " 'musical instruments; keyboard, (other than accordions), the sound of which is produced or must be amplified electrically',\n",
       " 'mens or boys bib and brace overalls, knitted or crocheted, of wool or fine animal hair',\n",
       " 'other grinding machines, other than numerically controlled',\n",
       " 'adcdigitdigit scrap mixfe/cudigitdigit%type b ringsnap scrap',\n",
       " 'assysehnzhou chassis digitdigit',\n",
       " 'furniture; wooden, for office use',\n",
       " 'tin (o/than alloy), unwrought',\n",
       " 'assorted ornamentgold digitdigitk  necklace',\n",
       " 'electric generating sets; with sparkignition internal combustion piston engines - \\xa0of an output exceeding digitdigit kva but not exceeding digitdigitdigit kva',\n",
       " 'aluminium window frame dfdigitdigitdigitdigitdigitdigitapma',\n",
       " 'al ext digitdigitxdigitdigit top',\n",
       " 'optical elements; lenses n.e.c. in heading no. digitdigitdigitdigit, prisms, mirrors and other optical elements, unmounted, of any material (excluding elements of glass not optically worked) - other',\n",
       " 'lubricating oil additives; containing petroleum oils or oils obtained from bituminous minerals - put up for retail sale',\n",
       " 'cardamoms, neither crushed nor ground',\n",
       " 'iron or steel, portable non-electric domestic grates & warming appliances (o/than cooking/plate warmers) for liquid fuels',\n",
       " 'machinery; for making or repairing footwear, other than sewing machines - not electrically operated',\n",
       " 'aluminium window frame tsdigitdigitdigitdigitdigitdigitapda',\n",
       " 'aerofix aerofixdigitdigitdigitdigitdigitdigitdigitdigitl',\n",
       " 'asperagus baby',\n",
       " 'air intake front',\n",
       " 'silicates; of sodium (excluding sodium metasilicates) - sodium silicates',\n",
       " 'styrene',\n",
       " 'aluminium carport exterior kadigitdigitdigitpcbl',\n",
       " 'bulldozers, graders, levellers, scrapers, angledozers, mechanical shovels, excavators, shovel loaders, tamping machines and road rollers, self-propelled',\n",
       " 'printing, copying, and facsimile machines; singlefunction printing, copying or facsimile machines, capable of connecting to an automatic data processing machine or to a network - plotters',\n",
       " 'anastasha diffuser digitdigitdigit ml. gy',\n",
       " 'ignition or starting equipment; generators n.e.c. in heading no. digitdigitdigitdigit, of a kind used for spark or compressionignition internal combustion engines - for engines of vehicles of heading digitdigit.digitdigit, digitdigit.digitdigit, digitdigit.digitdigit or digitdigit.digitdigit',\n",
       " 'womens or girls swimwear, of textile materials(except mmf), containing digitdigit% or more by weight of silk or silk waste, not knit or crocheted',\n",
       " 'electrical apparatus; n.e.c. in heading no. digitdigitdigitdigit, for switching or protecting electrical circuits, for a voltage exceeding digitdigitdigitdigit volts - other',\n",
       " 'aluminium fitting prrdigitdigitdigit',\n",
       " 'aluminium window frame gfdigitdigitdigitdigitdigitargt',\n",
       " 'assembly ids tool digitdigitdigitclot/serial  digitdigitdigitdigitdigit',\n",
       " 'edam and gouda cheese, processed, not grated or powdered, subject to gen. note digitdigit of the hts',\n",
       " 'containers for compressed or liquefied gas, of iron or steel - other, of a capacity of digitdigit l or more, but less than digitdigitdigit l',\n",
       " 'aluminium nonstick cookwarenoncast',\n",
       " 'electrical transformers; liquid dielectric, having a power handling capacity exceeding digitdigitdigitkva but not exceeding digitdigit,digitdigitdigitkva -  other',\n",
       " 'seats, of a kind used for motor vehicles',\n",
       " 'time registers; time recorders',\n",
       " 'iron or nonalloy steel; flatrolled, width digitdigitdigitmm or more, painted, varnished or coated with plastics - other',\n",
       " 'nightdresses and pyjamas; womens or girls, of man-made fibres, knitted or crocheted',\n",
       " 'digit,digit-diphenyl-bis-phosphonous acid, di(digit,digit,digit,digit-di-tert-butyl)phenyl ester',\n",
       " 'aerofix aerofixdigitdigitdigitdigitdigitdigitdigitdigitl',\n",
       " 'alu foil flooring mic cell selfadhesive',\n",
       " 'spark-ignition reciprocating piston engines used in tractors suitable for agricultural use, of a cylinder capacity over digitdigitcc but n/o digitdigitdigitcc',\n",
       " 'vehicle parts; silencers (mufflers) and exhaust pipes; parts thereof -  silencers (mufflers) and exhaust pipes',\n",
       " 'rec perf outwear, mens/boys anoraks, windbreakers and similar articles, not knitted or crocheted, of manmade fibers, nesoi, water resistant',\n",
       " 'printed certified hand-loomed plain weave fabrics of cotton, digitdigit% or more cotton by weight, wt more than digitdigitdigit g/mdigit but not more than digitdigitdigit g/mdigit',\n",
       " 'auto part cap',\n",
       " 'adapter',\n",
       " 'silk; yarn spun from silk waste, not put up for retail sale',\n",
       " 'aluminium railing pole qlndigitdigit',\n",
       " 'assy trim kit',\n",
       " 'engines; parts, suitable for use solely or principally with sparkignition internal combustion piston engines (for other than aircraft) -  other',\n",
       " 'aluminium window frame ddigitdigitdigitdigitdigitbwbn',\n",
       " 'pictures, designs and photographs printed not over digitdigit years at time of importation, used in production of articles of heading digitdigitdigitdigit',\n",
       " 'containers; (including containers for transport of fluids) specially designed and equipped for carriage by one or more modes of transport',\n",
       " 'machinery for producing textile yarns nesoi; machines for preparing textile yarns for use on machines of heading digitdigitdigitdigit or digitdigitdigitdigit',\n",
       " 'assy lh fnshr belt outl.wood finel.metal',\n",
       " 'rubber; inner tubes, of a kind used on bicycles - of a kind used on bicycles',\n",
       " 'abdigitdigit   digitbdigitdigitdigit bc diff asy frt axle',\n",
       " 'aluminium raw material',\n",
       " 'ard digitdigitdigitg wt vanilla orchid b/c',\n",
       " 'assembly part set ucagdigitdigitdigit',\n",
       " 'vegetable preparations; tomatoes, (other than whole or in pieces), prepared or preserved otherwise than by vinegar or acetic acid - tomato powder',\n",
       " 'assy cover pcbpanel',\n",
       " 'actuator assy brake digitdigitdigitdigitdigitbzdigitdigitdigitdigitdigit',\n",
       " 'chassis fitted w/engines, for tractors (o/than for agric. use) and other motor vehicles nesoi',\n",
       " 'carpets and other textile floor coverings; woven, (not tufted or flocked), of textile materials (other than manmade, wool or fine animal hair), of pile construction, not made up, n.e.c. in item no. digitdigitdigitdigit.digitdigit or digitdigitdigitdigit.digitdigit - of cotton',\n",
       " 'iron or steel, bolts and bolts & their nuts or washers, imported in the same shipment',\n",
       " 'vessels; light, firefloats, floating cranes and other vessels, the navigability of which is subsidiary to their main function, floating docks - other',\n",
       " 'apkdigitdigitahdigitdigitdigitdigitdigitza kitfuel lid pad',\n",
       " 'aluminium window frame kkdigitdigitdigitdigitdigitrarkv',\n",
       " 'potassium permanganate',\n",
       " 'aluminium window frame kfdigitdigitdigitdigitdigitrargs',\n",
       " 'abdigitdigit   digitkdigitdigitdigit ac bolt rear spring tie',\n",
       " 'furnaces and ovens; parts of non-electric furnaces and ovens (including incinerators), of industrial or laboratory use',\n",
       " 'wood; not of bamboo, articles n.e.c. in heading no. digitdigitdigitdigit to digitdigitdigitdigit (excluding clothes hangers) - wooden pegs or pins for footwear',\n",
       " 'silversmiths wares; and parts thereof, of silver, whether or not plated or clad with other precious metal',\n",
       " 'iron or nonalloy steel; flatrolled, width digitdigitdigitmm or more, (not corrugated), plated or coated with zinc (not electrolytically) -  other',\n",
       " 'aluminium window frame wwdigitdigitdigitdigitdigitrascd',\n",
       " 'meat preparations; of swine, meat or meat offal (including mixtures), prepared or preserved, n.e.c. in heading no. digitdigitdigitdigit -  other',\n",
       " 'assy cl feed line digit hic bdigitdigit/bdigitdigit phev',\n",
       " 'check valves other than of copper or iron or steel, for pipes, boiler shells, tanks, vats or the like',\n",
       " 'ap/dciv cdigitdigitdigitdigit/digitdigitdigitdigit/digitdigitdigitdigit/digitdigitdigitdigit toner cartridge m',\n",
       " 'accessories tinted glass rear door set full set for maxtop digit ford/mazda btdigitdigit digitdigitdigitdigit o',\n",
       " 'paper and paperboard; kraft paper, creped or crinkled, whether or not embossed or perforated, in rolls or sheets, other than paper of heading digitdigitdigitdigit - kraft paper, creped or crinkled, whether or not embossed or perforated',\n",
       " 'aluminium window frame wfdigitdigitdigitdigitdigitrargs',\n",
       " 'assembly part set zmpudigitdigitdigitb',\n",
       " 'aluminium fitting daakdigitdigitdigit',\n",
       " 'blinds (including venetian blinds), of plastics',\n",
       " 'atdigitmdigitdigitg mylardigitmdigitdigitdigitmpdigitmdigitdigitdigitmppearl white',\n",
       " 'wadding, gauze, bandages and similar articles; (excluding adhesive dressings), impregnated or coated with pharmaceutical substances, packaged for retail sale - gauze',\n",
       " 'seats; of bamboo',\n",
       " 'trousers, bib and brace overalls, breeches and shorts; mens or boys, of textile materials (other than wool, fine animal hair, cotton or synthetic fibres), (not knitted or crocheted) - of silk',\n",
       " 'brazing or soldering machines and apparatus; soldering irons and guns, whether or not capable of cutting',\n",
       " 'alloy high-speed steel, wire',\n",
       " 'ambilan red g digitdigitdigit%',\n",
       " 'aluminium welding kit udigitdigitdigitdigitsdigitdigit',\n",
       " 'alloy wheel complete with cap  emblem tmdigitdigitdigit digit.digitxdigitdigit digith/digitdigitdigit.digit etdigitdigit silver tesla lug nuts cbdigitdigit.digit',\n",
       " 'bags, cases and similar containers with outer surface of textile materials, not of mmf',\n",
       " 'electrical insulators of ceramics',\n",
       " 'parts and accessories nesoi, for revolvers or pistols designed to fire only blank cartridges or blank ammunition',\n",
       " 'all parts for civil aircraftlwr.panel assy. adigitdigitdigit neoktdigitdigitdigitdigitdigitdigitdigitdigitdigitdigitdigitsiii',\n",
       " 'accustar life digitdigitdigitdigitdigitdigitdigit line digitdigit',\n",
       " 'aluminium window frame kdigitdigitdigitdigitdigitdigitamjy',\n",
       " 'alloy (other than stainless) steel, seamless drill pipe, of a kind used in drilling for oil or gas',\n",
       " 'aseptic pineapple coarse crush in natural juice',\n",
       " 'vegetables, leguminous; bambara beans (vigna subterranea or voandzeia subterranea), shelled, whether or not skinned or split, dried - other',\n",
       " 'chalk.',\n",
       " 'yarn (other than sewing thread) of synthetic staple fibers, containing less than digitdigit% by weight of such fibers, put up for retail sale',\n",
       " 'anchor bolts all anchor  model cdigitdigitdigitdigit',\n",
       " 'aluminium window frame wdigitdigitdigitdigitdigitrbwbp',\n",
       " 'vehicles; with both compressionignition internal combustion piston engine (diesel or semidiesel) and electric motor for propulsion, incapable of being charged by plugging to external source of electric power -  of a cylinder capacity exceeding digit,digitdigit',\n",
       " 'yarn of coarse animal hair or of horsehair (including gimped horsehair yarn), whether or not put up for retail sale.',\n",
       " 'zinc; articles n.e.c. in chapter digitdigit',\n",
       " 'iron/steel, cans for any material (o/compressed/liq. gas), closed by soldering or crimping, w/cap. less than digitdigit l',\n",
       " 'microscopes other than optical microscopes; diffraction apparatus',\n",
       " 'tubes; microwave (for example klystrons, travelling wave tubes, carlinotrons), excluding magnetrons and grid-controlled tubes',\n",
       " 'applaws cat tuna and crab  usa pet food',\n",
       " 'aeroflex rubber insulation sheet aeroflex standard sheet digit/digitxdigitxdigit',\n",
       " 'machines; for balancing mechanical parts',\n",
       " 'copper; refined, unwrought, billets - \\xa0billets',\n",
       " 'amine-function compounds; acyclic monoamines and their derivatives, and salts thereof, n.e.c. in item no. digitdigitdigitdigit.digit',\n",
       " 'aluminium window net gdigitdigitdigitdigitdigitcbdg',\n",
       " 'ammonium molybdate',\n",
       " 'assy cockjet start',\n",
       " 'coffee; roasted, decaffeinated - unground',\n",
       " 'machines and apparatus of heading digitdigitdigitdigit; parts and accessories - of apparatus for physical deposition on flat panel display substrates',\n",
       " 'fibres; waste (including noils, yarn waste and garnetted stock), of synthetic fibres - of synthetic fibres',\n",
       " 'aeroflex rubber insulation tube aeroflex tube dia.digitdigitmm.x digitdigitmm.x digitm.',\n",
       " 'arm/baselwindow urdigitdigitdigitdigitdigitdigitdigita',\n",
       " 'instrument panel clocks for vehicles, air/spacecraft or vessels, w/clock or watch movement < digitdigit mm wide, nonelectric',\n",
       " 'heterocyclic compounds; n.e.c. in headings no. digitdigitdigitdigit',\n",
       " 'self-adhesive plates, sheets, other flat shapes, of plastics, in rolls n/o digitdigit cm wide, light-reflecting surface produced by glass grains',\n",
       " 'axis tdigitdigitedigitdigit wall mount',\n",
       " 'tools, hand; pliers (including cutting pliers), pincers, tweezers and similar tools-\\xa0pliers (including cutting pliers), pincers, tweezers and similar tools',\n",
       " 'turbines; hydraulic turbines and water wheels, of a power exceeding digitdigitdigitdigitdigitkw - of a power exceeding digitdigit,digitdigitdigit kw',\n",
       " 'cashew apples, mameyes colorados, sapodillas, soursops and sweetsops, frozen, in water or containing added sweetening',\n",
       " 'cyclic hydrocarbons; m-xylene',\n",
       " 'stoppers; caps and lids, of base metal - aerosol can ends, of tinplate',\n",
       " 'mens or boys suit-type jackets and blazers, not knitted or crocheted, of artificial fibers, under digitdigit% by weight of wool',\n",
       " 'other garments nesoi, of textile materials (except wool, cotton or mmf), contain digitdigit% or more by weight of silk or silk waste, knitted/croch',\n",
       " 'aluminium louver gdigitdigitdigitdigitdigitccap',\n",
       " 'automotive parts brake lever leftslidervbelt',\n",
       " 'sports footwear; with outer soles of rubber, plastics, leather or composition leather and uppers of leather, ski-boots, snowboard boots and cross-country ski footwear',\n",
       " 'adigit sample',\n",
       " 'aluminium window frame kkdigitdigitdigitdigitdigitarjv',\n",
       " 'vegetables, leguminous; n.e.c. in item no. digitdigitdigitdigit.digit, shelled, whether or not skinned or split, dried - suitable for sowing',\n",
       " 'aluminium window eafxgzdigitdigitdigitdigitdigitdigitdigitdigitu',\n",
       " 'iron or steel; non-threaded washers, excluding spring and lock',\n",
       " 'lubricating preparations; (other than for the treatment of textile and similar materials), containing less than digitdigit% (by weight) of petroleum oils or oils obtained from bituminous minerals -  other',\n",
       " 'aseptic organic coconut milk digitdigitdigitdigit% fat',\n",
       " 'assy air cleaner',\n",
       " 'accustar ultrafilm bnkdigitdigitdigitdigitdigitdigitdigitdigitdigit digitdigitdigitdigitdigitdigitdigitdigit',\n",
       " 'woven fabrics of combed wool/fine animal hair, nesoi, containing digitdigit percent or more by weight of silk or silk waste, valued over $digitdigit/kg',\n",
       " 'bicycles, not motorized, w/both wheels o/digitdigit.digit cm in diam., weighing under digitdigit.digit kg & not design. for tires w/x-sect. diam. o/digit.digitdigitcm',\n",
       " 'glazed ceramic tiles having surface area >=digitdigit.digitcmdigit, , surf area in sq w/ side <digitcm, of a hdigito absorp coeff by wt exceeding digit.digit% but not exceeding digitdigit%',\n",
       " 'aluminium fabrication bar rdigitdigittgfh',\n",
       " 'adigitdigitdigitdigitdigitdigitdigitdigit door packed fc etbdigitdigitdigitdigitaa r',\n",
       " 'asphal cement crsdigit',\n",
       " 'nonwovens, of man-made filaments, weighing >digitdigit but not >digitdigit g/square m, whether or not impregnated, coated, covered or laminated',\n",
       " 'carpets and other textile floor coverings; woven, (not tufted or flocked), of textile materials (other than manmade or wool or fine animal hair, not of pile construction), made up, n.e.c. in item no. digitdigitdigitdigit.digitdigit or digitdigitdigitdigit.digitdigit -  other',\n",
       " 'aluminum profile digitdigitmmdigitdigitmmdigit.digitmmdigitdigitdigitdigitmm model hsdigitdigitdigitbdigitdigitb',\n",
       " 'blouses, shirts and shirt-blouses; womens or girls, knitted or crocheted',\n",
       " 'porphyry, basalt and other monument. or build. stone (except granite/sandstone), crude or roughly trimmed or cut into rect. blocks/slabs',\n",
       " 'adigitdigitdigitdigitdigitdigitdigitdigit door spare fc r ehedigitdigitdigitdigitaad',\n",
       " 'aluminium window frame ttdigitdigitdigitdigitdigitdigitatat',\n",
       " 'other silk woven fabrics, containing less than digitdigit percent by weight of silk or silk waste, nesoi',\n",
       " 'bombs, grenades, torpedoes, mines, missiles and similar munitions of war and parts thereof; cartridges and other ammunition, projectiles and parts thereof, including shot and cartridge wads',\n",
       " 'atcl digitdigitdigitdigitdigitdigitdigit',\n",
       " 'aluminium window frame kbdigitdigitdigitdigitdigitdigitapma',\n",
       " 'bovine meat cuts (except high-qual. beef cuts), w/bone in, processed, fresh or chld., descr in add. us note digit to ch. digit',\n",
       " 'fishing casts or leaders',\n",
       " 'anchor arm adjuster',\n",
       " 'vehicles; specially designed for travelling on snow, golf cars and similar vehicles',\n",
       " 'vehicles; for transport of persons (other than those of heading no. digitdigitdigitdigit) n.e.c. in heading no. digitdigitdigitdigit - other',\n",
       " 'womens or girls blouses, shirts and shirt-blouses, not knitted or crocheted, of textile materials nesoi',\n",
       " 'cast iron; table, kitchen and other household articles and parts thereof, of cast iron, enamelled - \\xa0of cast iron, enamelled',\n",
       " 'stoppers, lids, caps and other closures, of plastics',\n",
       " 'aluminium window frame kdigitdigitdigitdigitdigitbwbn',\n",
       " 'machinery; for agricultural, horticultural or forestry use and n.e.c. in heading no. digitdigitdigitdigit - agricultural or horticultural',\n",
       " 'abrasive paper lacd goldhptoa digitdigit',\n",
       " 'o-paraquat dichloride',\n",
       " 'poultry; live, fowls of the species gallus domesticus, weighing not more than digitdigitdigitg - breeding fowls',\n",
       " 'vehicles; with only compressionignition internal combustion piston engine (diesel or semidiesel), cylinder capacity not over digitdigitdigitdigitcc -   other',\n",
       " 'agriculture use shade netagriculture use blue  net',\n",
       " 'insulated electric conductors; coaxial cable and other coaxial electric conductors - insulated with rubber or plastics',\n",
       " 'footwear; with metal toe-cap, outer soles of rubber, plastics, leather or composition leather, uppers of leather',\n",
       " 'aluminium window frame or aluminium window frame  glass ldigitydigitdigitdigitupdigitdigitdigit',\n",
       " 'poly(lactic acid); in primary forms - poly(lactic acid)',\n",
       " 'iodine',\n",
       " 'accressories',\n",
       " 'aluminium window frame kkcdigitdigitdigitdigitdigitaeca',\n",
       " 'asrdigitdigitdigitdigitfan= asrdigitdigitdigitdigit fan tray',\n",
       " 'vehicles; with both compression-ignition internal combustion piston engine (diesel or semi-diesel) and electric motor for propulsion, incapable of being charged by plugging to external source of electric power',\n",
       " 'abdigitdigitdigitdigitdigitdigitcdigitdigitdigit ja emblem digit.digit  digit auto',\n",
       " 'electric rotary converters',\n",
       " 'aluminium window frame dfdigitdigitdigitdigitdigitrasca',\n",
       " 'sailboats; with or without auxiliary motor, for pleasure or sports, other than inflatable - \\xa0sailboats, with or without auxiliary motor',\n",
       " 'tableware and kitchenware, of wood; of bamboo, n.e.c. in heading digitdigitdigitdigit',\n",
       " 'coconut, abaca (manila hemp or musa textilis nee), ramie and other vegetable textile fibres n.e.c., raw or processed but not spun; tow, noils and waste of these fibres (including yarn waste and garnetted stock)',\n",
       " 'olives (not green), in a saline solution, canned, not pitted',\n",
       " 'womens or girls skirts & divided skirts, nt knit or crocheted, of synthetic fibers, cont. digitdigit% or more of wool or fine animal hair, nesoi',\n",
       " 'silk waste (including cocoons unsuitable for reeling, yarn waste and garnetted stock)',\n",
       " 'activeboard with education software integation for teacher model  telndigitdigit manufacturer  foxconn',\n",
       " 'fertilizers, mineral or chemical; nitrogenous, other than ammonium sulphate - \\xa0other',\n",
       " 'woven fabrics of synthetic staple fibers nesoi, < digitdigit% by wt of such fibers, mixed mainly/solely w/cotton, ov digitdigitdigitg/mdigit, of dif. colored yarns',\n",
       " 'heterocyclic compounds; with oxygen heteroatom(s) only, no lactones or unfused furan rings (hydrogenated or not) in the structure, other than isosafrole, digit(digit,digitbenzodiaxoldigityl) propandigitone, piperonal, safrole, tetrahydrocannabinols (all isomers) -',\n",
       " 'rubber; natural (excluding latex, technically specified natural rubber and smoked sheets), in primary forms or in plates, sheets or strip - sole crepes',\n",
       " 'baskets and bags of palm leaf wickerwork',\n",
       " 'alloy tool steel (o/than hi-speed), bars and rods in irregularly wound coils, hot-rolled, nesoi',\n",
       " 'oxygen-\\xa0\\xa0oxygen',\n",
       " 'media n.e.c. in heading digitdigitdigitdigit, whether or not recorded, excluding products of chapter digitdigit - gramophone records',\n",
       " 'adapter jic cap  plug digit',\n",
       " 'au wire lsi',\n",
       " 'air conditioner indoor unit ardigitdigitmyftaurnst',\n",
       " 'wood, tropical; virola, imbuia and balsa, sawn or chipped lengthwise, sliced or peeled, whether or not planed, sanded or endjointed, thicker than digitmm - planed, sanded or endjointed',\n",
       " 'tin; bars, rods, profiles and wire',\n",
       " 'ard digitdigitg prevage aag mois crm',\n",
       " 'air hose digit.digit/digit digitdigit.digitmmxdigitbxdigitmmxdigitdigitm',\n",
       " 'blankets (other than electric blankets) and travelling rugs; of wool or fine animal hair',\n",
       " 'assy wire harnesspower',\n",
       " 'pigments; of a kind used in the manufacture of paints, other than stamping foils - other',\n",
       " 'audio set dbdigitmdigitdigitdigitrdigite',\n",
       " 'mechanical appliances; for projecting, dispersing or spraying liquids or powders, for other than agricultural or horticultural use, whether or not handoperated - other, not electrically operated',\n",
       " 'aluminium window frame or aluminium window frame  glass ldigitydigitdigitdigitupdigitdigitdigit',\n",
       " 'assypanel',\n",
       " 'electric motors and generators; parts suitable for use solely or principally with the machines of heading no. digitdigitdigitdigit or digitdigitdigitdigit',\n",
       " 'aluminium door net wdigitdigitdigitdigitdigitcjlw',\n",
       " 'aluminium door frame dddigitdigitdigitdigitdigitlanwj',\n",
       " 'asgdigitdigit  rear bracket',\n",
       " 'aluminium window frame wfdigitdigitdigitdigitdigitrargs',\n",
       " 'nonelectrical navigational instruments and appliances, nesoi',\n",
       " 'aluminium window frame kkdigitdigitdigitdigitdigitrascd',\n",
       " 'aluminium profiles ndigitdigitdigitdigitdigitdigitcim digit.digitdigitdigitdigit mtr/pcs',\n",
       " 'table linen; of man-made fibres, not knitted or crocheted',\n",
       " 'fish; live, n.e.c. in heading digitdigitdigitdigit -  other',\n",
       " 'manganese dioxide',\n",
       " 'vehicles; with both sparkignition internal combustion reciprocating piston engine and electric motor for propulsion, capable of being charged by plugging to external source of electric power -  of a cylinder capacity exceeding digit,digitdigitdigit cc but not excee',\n",
       " 'aluminium window net wdigitdigitdigitdigitdigitdigitcafa',\n",
       " 'parts, of pens, mechanical pencils, etc. provided for in digitdigitdigitdigit.digitdigit, digitdigitdigitdigit.digitdigit, and digitdigitdigitdigit.digitdigit (o/than balls for ball point pens)',\n",
       " 'aluminum electric wire aldus   digitdigitdigit lal  digitdigitdigitdigit m/pc',\n",
       " 'aluminium door frame kcdigitdigitdigitdigitdigitdigitapma',\n",
       " 'lace; mechanically made, of textile materials, (other than manmade fibres), in the piece, in strips or motifs, (other than fabrics of headings digitdigit.digitdigit to digitdigit.digitdigit) - impregnated, coated, covered or laminated',\n",
       " 'aluminium door frame gdigitdigitdigitdigitdigitdigitgaca',\n",
       " 'automotive sample partsstrg column digitw indicatordigitdigitdigitdigitdigitdigit',\n",
       " 'drawing paper, wt digitdigit g/mdigit to digitdigitdigit g/mdigit, cont. n/o digitdigit% by weight total fiber content obtained by mechanical/chemi- process, in sheets nesoi',\n",
       " 'knitted or crocheted fabrics, width exceeding digitdigit cm, containing digit% or more of rubber thread, other than those of heading digitdigitdigitdigit',\n",
       " 'iron or steel; structures and parts thereof, bridges and bridgesections - other',\n",
       " 'attack ultra power digitdigitdigitdigitgxdigit',\n",
       " 'air b mod assy c rh',\n",
       " 'absorber rr bumper energy',\n",
       " 'asmheader',\n",
       " 'assystationviperbasedigitdigitdigitdigitmmhga load',\n",
       " 'aluminium door frame ggdigitdigitdigitdigitdigitdigitaapda',\n",
       " 'ant assy auto radio fin nhdigitdigitdigitp part no. digitdigitdigitdigitdigittsvwdigitdigitdigitmdigit',\n",
       " 'alloy wheel complete with cap  emblem tmdigitdigitdigit digit.digitxdigitdigit digith/digitdigitdigit etdigitdigit silver cbdigitdigit.digit',\n",
       " 'abdigitdigit digitdigitdigitdigitdigitdigitdigit aa ins bdy blt lwr snd',\n",
       " 'leather; further prepared after tanning or crusting, including parchment-dressed, of bovine (including buffalo) or equine animals, without hair on, other than leather of heading digitdigit.digitdigit, not whole hides and skins, but including sides, grain splits',\n",
       " 'aluminium profiles yahcdigitdigitdigit',\n",
       " 'acids; aromatic monocarboxylic acids, benzoic acid, its salts and esters',\n",
       " 'prepared explosives, other than propellent powders.',\n",
       " 'aluminium window frame kfdigitdigitdigitdigitdigitdigitasaa',\n",
       " 'activeboard with education software integation for teacher model  foxconn telndigitdigit',\n",
       " 'assy pipe from conn/pce to rr/lh',\n",
       " 'curry',\n",
       " 'aluminium carport exterior digitrdadigitdigitsc',\n",
       " 'terpenic oils; gum, wood or sulphate turpentine oils-\\xa0\\xa0gum, wood or sulphate turpentine oils',\n",
       " 'automobile parts digitdigitdigitdigitdigitdigitddigitdigitdigitdigitdigit reinf instrument panel no.digit lhd',\n",
       " 'nickel oxides and hydroxides',\n",
       " 'asf gear base pdigit',\n",
       " 'aluminium hollow profiles ycrtdigitdigitdigit',\n",
       " 'audio power amplifier  punch marine digitdigitdigit watt digit channel amplifier',\n",
       " 'abdigitdigit  digitdigitbdigitdigitdigit ac reservoir and motor',\n",
       " 'assy hydr.line fr. hu to conn. frt lh',\n",
       " 'steam turbines other than for marine propulsion, of an output exceeding digitdigit mw',\n",
       " 'thorium compounds',\n",
       " 'assy lh holding frame closed',\n",
       " 'aluminium fence exterior kbrdigitdigit',\n",
       " 'assy suction line gdigitdigit/gdigitdigit bdigitx rdigitdigitdigita',\n",
       " 'automotive disc brake pads digitdigitdigitdigitdigitdigitdigitdigitdigit set dbdigitdigitdigitdigit mkt/hdzeg',\n",
       " 'acoustic pad frt j.h. ziegleradigitdigitdigitdigitdigitdigitdigitdigitdigitdigit',\n",
       " 'check valves other than of copper or iron or steel, for pipes, boiler shells, tanks, vats or the like',\n",
       " 'assy lhd tc thr/bdy bdigitdigittuedigit',\n",
       " 'assy alloy wheel digitjxdigitdigit hdigit isdigitdigit sty digitdigitdigitm',\n",
       " 'sucralose',\n",
       " 'acrylic resin almatex sedigitdigitdigitdigitdigit',\n",
       " 'disc calculators, slide rules and other mathematical calculating instruments',\n",
       " 'fans; n.e.c. in item no. digitdigitdigitdigit.digitdigit -   other',\n",
       " 'aromatic wood bath  massage oil digitdigitdigitml. digitdigitdigitdigit',\n",
       " 'aircraft partdiskinvdigitdigitdigitdigittadigitdigitdigitdigit',\n",
       " 'assy pump injection digitdigitdigit/',\n",
       " 'acyclic hydrocarbons; unsaturated, ethylene',\n",
       " 'paper and paperboard; rolls, sheets and dials, printed for selfrecording apparatus - cardiograph recording paper',\n",
       " 'buttons, of base metal, not covered with textile material',\n",
       " 'aluminium window net wdigitdigitdigitdigitdigitcbnb',\n",
       " 'abdigitdigit   digitkdigitdigitdigit aa container rad o/flo',\n",
       " 'vegetables, leguminous; beans (vigna spp., phaseolus spp.), shelled or unshelled, uncooked or cooked by steaming or boiling in water, frozen',\n",
       " 'akh akashi toji digitdigitcl',\n",
       " 'refrigerating or freezing equipment; parts thereof, other than furniture - other',\n",
       " 'sturgeon roe, fresh or chilled',\n",
       " 'shawls, scarves, mufflers, mantillas, veils and the like; of wool or fine animal hair (not knitted or crocheted)',\n",
       " 'apparel and clothing accessories; knitted or crocheted',\n",
       " 'toluene, from distillation of hi-temp coal tar or in which wt. of aromatic components o/wt. of nonaromatic components',\n",
       " 'artificial flowers  fdigitdigitdigitxdigitdigitivorywhite',\n",
       " 'crustacean preparations; shrimps and prawns, prepared or preserved, in airtight containers - breaded shrimp',\n",
       " 'phonograph records',\n",
       " 'vehicle parts; driveaxles with differential, whether or not provided with other transmission components, and nondriving axles; parts thereof - for vehicles of heading digitdigit.digitdigit',\n",
       " 'aluminium door frame hadigitddigitdigita',\n",
       " 'automotive parts digitdigitdigitdigitdigit digitsdigitdigitdigit brkt assylwr mtg rh',\n",
       " 'live chickens weighing not over digitdigitdigit g each',\n",
       " 'rubber; vulcanised (other than hard rubber), tubing, piping and hoses, reinforced or otherwise combined only with textile materials, without fittings',\n",
       " 'not blockboard:plywood nesoi, at least digit non conif outer ply, no particle board,not surface-covered beyond clear/transparent, face ply nesoi',\n",
       " 'aluminium window frame kkdigitdigitdigitdigitdigitdigitawal',\n",
       " 'fabrics; warp knit (including those made on galloon knitting machines), other than those of headings digitdigit.digitdigit to digitdigit.digitdigit, of synthetic fibres, bleached or unbleached',\n",
       " 'aluminium window frame tfdigitdigitdigitdigitdigitdigitavaa',\n",
       " 'steel, stainless; tube or pipe fittings, n.e.c. in item no. digitdigitdigitdigit.digit - having an internal diameter of less than digitdigit cm',\n",
       " 'aluminum electric wire aldus   digitdigitdigit lab digitdigitdigitdigitm/pc',\n",
       " 'fabrics; warp knit (including those made on galloon knitting machines), other than those of headings digitdigit.digitdigit to digitdigit.digitdigit',\n",
       " 'electric accumulators; lithiumion, including separators, whether or not rectangular (including square) - of a kind used for aircraft',\n",
       " 'nightshirts and pyjamas; mens or boys, of cotton, knitted or crocheted',\n",
       " 'articles of milk or cream, nesoi, containing >digitdigit% by dry weight of sugar described in additional us note digit to chapter digitdigit: provisional',\n",
       " 'fruit, edible; fruits n.e.c. in heading no. digitdigitdigitdigit to digitdigitdigitdigit, fresh - jackfruit (including cempedak and nangka)',\n",
       " 'footwear not cov. ankle, w/outer soles & uppers of rubber or plastics, nesoi, w/metal toe-cap, not protective, valued > $digit but n/o $digit.digitdigit/pair',\n",
       " 'plastics; tubes, pipes and hoses thereof, flexible, having a minimum burst pressure of digitdigit.digitmpa -  of vulcanised fibre',\n",
       " 'angle hip prestige midnight grey',\n",
       " 'aluminium door frame badigitdigitrdhke',\n",
       " 'speed changers other than fixed, multiple and variable ratio speed changers',\n",
       " 'automotive battery ndigitdigit rc  rca',\n",
       " 'abdigitdigit  digitdigitbdigitdigitdigit aa seal air con evap',\n",
       " 'needleloom felt and stitch-bonded fabrics, whether or not impregnated, coated or covered, nesoi',\n",
       " 'aromatic or modified aromatic vitamins and their derivatives, nesoi',\n",
       " 'hectographic or stencil duplicating machines',\n",
       " 'heads, tails, paws and other pieces or cuttings of dressed or tanned furskins, nesoi, not assembled, dyed',\n",
       " 'automotive partplasticcoverlower',\n",
       " 'assy motor cvr increased phev',\n",
       " 'vegetable preparations; homogenised vegetables, prepared or preserved otherwise than by vinegar or acetic acid, not frozen - in airtight containers for retail sale',\n",
       " 'furniture (o/than seats & o/than of digitdigitdigitdigit) of plastics (o/than reinforced or laminated) nesoi',\n",
       " 'fish; frozen, n.e.c. in item no. digitdigitdigitdigit.digit, excluding fillets, fish meat of digitdigitdigitdigit, and edible fish offal of subheadings digitdigitdigitdigit.digitdigit to digitdigitdigitdigit.digitdigit',\n",
       " 'vises, clamps and the like, and base metal parts thereof',\n",
       " 'cereals; buckwheat',\n",
       " 'hand-woven fabrics of carded wool/fine animal hair, digitdigit% or more wool or hair, loom width less than digitdigit cm, weight not over digitdigitdigit g/mdigit',\n",
       " 'hats and other headgear; knitted or crocheted, or made up from lace, felt or other textile fabric, in the piece (but not in strips), whether or not lined or trimmed; hairnets of any material, whether or not lined or trimmed - hairnets',\n",
       " 'whole raw buffalo hides/skins (n/o digit kg when dried, digitdigit kg when dry salted or digitdigit kg when fresh/otherwise preserved), over digit.digit mdigit, nesoi',\n",
       " 'aluminium fence exterior digitakedigitdigitab',\n",
       " 'railway or tramway track fixtures and fittings; mechanical signaling, safety or traffic control equipment of all kinds nesoi; parts thereof',\n",
       " 'fluorinated, brominated or iodinated derivatives of acyclic hydrocarbons; ethylene dibromide (iso) (digit,digitdibromoethane) - ethylene dibromide (iso) (digit,digitdibromoethane)',\n",
       " 'ardigitdigitdigit fx loader assembly digitdigitdigitdigitdigitdigitdigitdigitdigitdigit',\n",
       " 'tobacco refuse,  from other tobacco, other than for cigarettes, tobacco stems, not cut, ground or pulverized',\n",
       " 'aluminium window frame wwdigitdigitdigitdigitdigitlarct',\n",
       " 'aluminum alloy shape sil iii flux coated mpe tube bedigitdigit l = digitdigitdigit mm. dwg. no. digitdigit.digitdigitdigitdigitdigit',\n",
       " 'laminated fabrics spec in note digit to sect xi of hts, of m-m fiber, other than theatrical, ballet, & operatic scenery & properties, incl sets',\n",
       " 'tools, hand; two or more of heading no. digitdigitdigitdigit to digitdigitdigitdigit, put up in sets for retail sale',\n",
       " 'accumulator ddigitdigit adigit digitkdigitdigitdigitdigitdigitdigitdigitdigit',\n",
       " 'millstones, grindstones, grinding wheels and the like; of other agglomerated abrasives or of ceramics - \\xa0of other agglomerated abrasives or of ceramics',\n",
       " 'nightshirts and pyjamas; mens or boys, of textile materials (other than cotton or manmade fibres), knitted or crocheted - \\xa0of other textile materials',\n",
       " 'extracts, essences and concentrates; of tea or mate, and preparations with a basis of these extracts, essences or concentrates or with a basis of tea or mate - \\xa0\\xa0preparations of tea consisting of a mixture of tea, milk powder and sugar',\n",
       " 'yarn; of flax, single',\n",
       " 'accessory set assy',\n",
       " 'boilers; parts of steam or other vapour generating boilers',\n",
       " 'chlorosulphuric acid-\\xa0\\xa0chlorosulphuric acid',\n",
       " 'steel, alloy; bars and rods, hotrolled, hotdrawn or extruded - of circular crosssection',\n",
       " 'glass; safety glass, toughened (tempered), of size and shape suitable for incorporation in vehicles, aircraft, spacecraft or vessels - suitable for vehicles of chapter digitdigit',\n",
       " 'assy lamp led',\n",
       " 'aluminium profiles abfdigitdigitdigitdigitjdigitdigitdigitdigithdigitdigitdigitdigit',\n",
       " 'aluminium window frame dfdigitdigitdigitdigitdigitrarnd',\n",
       " 'pumps; fuel, lubricating or cooling medium pumps for internal combustion piston engines - with an inlet diameter not exceeding digitdigitdigit mm',\n",
       " 'fish; live',\n",
       " 'single high tenacity yarn of nylon or polyamides (except aramids), not put up for retail sale',\n",
       " 'phosphates; (other than of mono- or disodium, other than of potassium or of calcium hydrogenorthophosphate (dicalcium phosphate) and excluding other phosphates of calcium), whether or not chemically defined',\n",
       " 'atdigitdigit   digit.digitmmxdigitdigitmmxdigitdigitmdigitdigitdigitdigitdigitadigit  aluminium tape',\n",
       " 'assy ip xdigitdigitdigit pvc rhd yanfeng luneburg adigitdigitdigitdigitdigitdigitdigitdigitdigitdigitdigithdigitdigitdigit',\n",
       " 'aluminium window frame ggdigitdigitdigitdigitdigitlascd',\n",
       " 'aluminium ornament for door kadigitdigitdigitpeac',\n",
       " 'nickel; articles thereof n.e.c. in item no. digitdigitdigitdigit.digit - electroplating anodes, including those produced by electrolysis',\n",
       " 'machinery for preparing or making up tobacco, nesoi',\n",
       " 'coal; anthracite, whether or not pulverised, but not agglomerated - \\xa0anthracite',\n",
       " 'boilers; watertube boilers with a steam production not exceeding digitdigitt per hour',\n",
       " 'alloy wheel complete with cap  emblem tldigitdigitdigit digit.digitxdigitdigit digith/digitdigitdigit etdigitdigit pol black cbdigitdigit.digit',\n",
       " 'amino-alcohol-phenols, amino-acid-phenols and other amino-compounds with oxygen function',\n",
       " 'alloy (o/th stainless, silicon elect., hi-speed, or tool) steel, width digitdigitdigitmm+, hot-rolled flat-rolled products, in coils, w/thick digit.digitdigitmm+',\n",
       " 'adjusterrr brake shoe slackrh',\n",
       " 'vegetable roots and tubers; arrowroot, salep, jerusalem artichokes and similar roots and tubers (not manioc, sweet potatoes, yams, taro or yautia), high starch or inulin content, fresh, chilled, frozen, dried, sliced or not, or in pellet form; sago pith-',\n",
       " 'aluminium window frame dfdigitdigitdigitdigitdigitarln',\n",
       " 'hydride, nitride, azide, silicide and boride of tungsten',\n",
       " 'assorted fashion metal necklace assorted fashion metal bracelet assorted fashion metal stud assorted fashion metal ring assorted fashion metal earring assorted fashion metal pendant',\n",
       " 'accustar ultrafilm bnkdigitdigitdigitdigitdigitdigitdigitdigitdigit digitdigitdigitdigitdigitdigitdigitdigit',\n",
       " 'vehicles; with only compressionignition internal combustion piston engine (diesel or semidiesel), cylinder capacity over digitdigitdigitdigitcc -  ambulances',\n",
       " 'cloths; floor cloths, dishcloths, dusters and similar cleaning cloths - nonwoven other than felt',\n",
       " 'rubberized textile fabrics (other than of heading digitdigitdigitdigit) nesoi, knitted or crocheted, other than of cotton or man-made fibers',\n",
       " 'machines and apparatus of a kind used solely or principally for the manufacture of semiconductor devices or of electronic integrated circuits - ion implanters for doping semiconductor materials',\n",
       " 'adapter g assy digitdigitdigitdigitdigitdigitdigitdigitdigitdigit',\n",
       " 'aluminium carport exterior digitrdmdigitdigitsc',\n",
       " 'textile machinery; drawing or roving machines for preparing textile fibres - not electrically operated',\n",
       " ...]"
      ]
     },
     "execution_count": 26,
     "metadata": {},
     "output_type": "execute_result"
    }
   ],
   "source": [
    "X_train"
   ]
  },
  {
   "cell_type": "code",
   "execution_count": 27,
   "metadata": {
    "ExecuteTime": {
     "end_time": "2020-11-25T19:24:19.974781Z",
     "start_time": "2020-11-25T19:24:19.964774Z"
    }
   },
   "outputs": [
    {
     "data": {
      "text/plain": [
       "array([[0., 0., 0., ..., 0., 0., 0.],\n",
       "       [0., 0., 0., ..., 0., 0., 0.],\n",
       "       [0., 0., 0., ..., 0., 0., 0.],\n",
       "       ...,\n",
       "       [0., 0., 0., ..., 0., 0., 0.],\n",
       "       [0., 0., 0., ..., 0., 0., 0.],\n",
       "       [0., 0., 0., ..., 0., 0., 0.]])"
      ]
     },
     "execution_count": 27,
     "metadata": {},
     "output_type": "execute_result"
    }
   ],
   "source": [
    "y_train"
   ]
  },
  {
   "cell_type": "code",
   "execution_count": 28,
   "metadata": {
    "ExecuteTime": {
     "end_time": "2020-11-25T19:24:23.147299Z",
     "start_time": "2020-11-25T19:24:22.988090Z"
    }
   },
   "outputs": [
    {
     "name": "stdout",
     "output_type": "stream",
     "text": [
      "Training: \n"
     ]
    }
   ],
   "source": [
    "#feature engineering and model selection\n",
    "from sklearn.svm import LinearSVC\n",
    "from sklearn.linear_model import LogisticRegression\n",
    "from sklearn.ensemble import RandomForestClassifier\n",
    "\n",
    "\n",
    "print(\"Training: \")"
   ]
  },
  {
   "cell_type": "code",
   "execution_count": 29,
   "metadata": {
    "ExecuteTime": {
     "end_time": "2020-11-25T19:24:24.165131Z",
     "start_time": "2020-11-25T19:24:24.146127Z"
    }
   },
   "outputs": [],
   "source": [
    "#pipeline of feature engineering and model\n",
    "t0 = time()\n",
    "model = Pipeline([('vectorizer', CountVectorizer()),\n",
    "    ('tfidf', TfidfTransformer()),\n",
    "    ('clf', OneVsRestClassifier(LinearSVC(class_weight=\"balanced\")))])"
   ]
  },
  {
   "cell_type": "code",
   "execution_count": 30,
   "metadata": {
    "ExecuteTime": {
     "end_time": "2020-11-25T19:24:26.157960Z",
     "start_time": "2020-11-25T19:24:26.141948Z"
    }
   },
   "outputs": [
    {
     "name": "stdout",
     "output_type": "stream",
     "text": [
      "paramater selection\n"
     ]
    }
   ],
   "source": [
    "print(\"paramater selection\")\n",
    "#paramater selection\n",
    "from sklearn.model_selection import GridSearchCV\n",
    "parameters = {'vectorizer__ngram_range': [(1, 1), (1, 2),(2,2)],\n",
    "               'tfidf__use_idf': (True, False)}"
   ]
  },
  {
   "cell_type": "code",
   "execution_count": 31,
   "metadata": {
    "ExecuteTime": {
     "end_time": "2020-11-25T19:34:44.864932Z",
     "start_time": "2020-11-25T19:24:27.322439Z"
    }
   },
   "outputs": [
    {
     "name": "stdout",
     "output_type": "stream",
     "text": [
      "0.8449534757119457\n",
      "{'tfidf__use_idf': True, 'vectorizer__ngram_range': (1, 2)}\n"
     ]
    }
   ],
   "source": [
    "gs_clf_svm = GridSearchCV(model, parameters, n_jobs=-1)\n",
    "gs_clf_svm = gs_clf_svm.fit(X, y)\n",
    "print(gs_clf_svm.best_score_)\n",
    "print(gs_clf_svm.best_params_)"
   ]
  },
  {
   "cell_type": "code",
   "execution_count": 32,
   "metadata": {
    "ExecuteTime": {
     "end_time": "2020-11-25T19:34:44.879933Z",
     "start_time": "2020-11-25T19:34:44.867942Z"
    }
   },
   "outputs": [
    {
     "name": "stdout",
     "output_type": "stream",
     "text": [
      "preparing the final pipeline using the selected parameters\n"
     ]
    }
   ],
   "source": [
    "#preparing the final pipeline using the selected parameters\n",
    "print(\"preparing the final pipeline using the selected parameters\")\n",
    "model = Pipeline([('vectorizer', CountVectorizer(ngram_range=(1,2))),\n",
    "    ('tfidf', TfidfTransformer(use_idf=True)),\n",
    "    ('clf', OneVsRestClassifier(LinearSVC(class_weight=\"balanced\")))])"
   ]
  },
  {
   "cell_type": "code",
   "execution_count": 33,
   "metadata": {
    "ExecuteTime": {
     "end_time": "2020-11-25T19:35:19.573687Z",
     "start_time": "2020-11-25T19:34:44.886932Z"
    }
   },
   "outputs": [
    {
     "name": "stdout",
     "output_type": "stream",
     "text": [
      "fit model with training data\n",
      "train time: 655.412s\n"
     ]
    }
   ],
   "source": [
    "#fit model with training data\n",
    "print(\"fit model with training data\")\n",
    "model.fit(X_train, y_train)\n",
    "train_time = time() - t0\n",
    "print(\"train time: %0.3fs\" % train_time)"
   ]
  },
  {
   "cell_type": "code",
   "execution_count": 34,
   "metadata": {
    "ExecuteTime": {
     "end_time": "2020-11-25T19:35:20.071581Z",
     "start_time": "2020-11-25T19:35:19.573687Z"
    }
   },
   "outputs": [
    {
     "name": "stdout",
     "output_type": "stream",
     "text": [
      "test time:  0.488s\n"
     ]
    }
   ],
   "source": [
    "#evaluation on test data\n",
    "t0 = time()\n",
    "pred = model.predict(X_test)\n",
    "test_time = time() - t0\n",
    "print(\"test time:  %0.3fs\" % test_time)"
   ]
  },
  {
   "cell_type": "code",
   "execution_count": 35,
   "metadata": {
    "ExecuteTime": {
     "end_time": "2020-11-25T19:35:20.087370Z",
     "start_time": "2020-11-25T19:35:20.074369Z"
    }
   },
   "outputs": [
    {
     "data": {
      "text/plain": [
       "array([ 0,  1,  2,  3,  4,  5,  6,  7,  8,  9, 10, 11, 12, 13, 14, 15, 16,\n",
       "       17, 18, 19, 20])"
      ]
     },
     "execution_count": 35,
     "metadata": {},
     "output_type": "execute_result"
    }
   ],
   "source": [
    "model.classes_"
   ]
  },
  {
   "cell_type": "code",
   "execution_count": 36,
   "metadata": {
    "ExecuteTime": {
     "end_time": "2020-11-25T19:35:20.135499Z",
     "start_time": "2020-11-25T19:35:20.091371Z"
    }
   },
   "outputs": [
    {
     "ename": "ValueError",
     "evalue": "multilabel-indicator is not supported",
     "output_type": "error",
     "traceback": [
      "\u001b[1;31m---------------------------------------------------------------------------\u001b[0m",
      "\u001b[1;31mValueError\u001b[0m                                Traceback (most recent call last)",
      "\u001b[1;32m<ipython-input-36-b05e9d1bbde8>\u001b[0m in \u001b[0;36m<module>\u001b[1;34m\u001b[0m\n\u001b[0;32m      1\u001b[0m \u001b[1;32mfrom\u001b[0m \u001b[0msklearn\u001b[0m\u001b[1;33m.\u001b[0m\u001b[0mmetrics\u001b[0m \u001b[1;32mimport\u001b[0m \u001b[0mconfusion_matrix\u001b[0m\u001b[1;33m,\u001b[0m \u001b[0maccuracy_score\u001b[0m\u001b[1;33m\u001b[0m\u001b[1;33m\u001b[0m\u001b[0m\n\u001b[1;32m----> 2\u001b[1;33m \u001b[0mconfusion_matrix\u001b[0m\u001b[1;33m(\u001b[0m\u001b[0mpred\u001b[0m\u001b[1;33m,\u001b[0m \u001b[0my_test\u001b[0m\u001b[1;33m)\u001b[0m\u001b[1;33m\u001b[0m\u001b[1;33m\u001b[0m\u001b[0m\n\u001b[0m",
      "\u001b[1;32m~\\.conda\\envs\\workspace\\lib\\site-packages\\sklearn\\utils\\validation.py\u001b[0m in \u001b[0;36minner_f\u001b[1;34m(*args, **kwargs)\u001b[0m\n\u001b[0;32m     70\u001b[0m                           FutureWarning)\n\u001b[0;32m     71\u001b[0m         \u001b[0mkwargs\u001b[0m\u001b[1;33m.\u001b[0m\u001b[0mupdate\u001b[0m\u001b[1;33m(\u001b[0m\u001b[1;33m{\u001b[0m\u001b[0mk\u001b[0m\u001b[1;33m:\u001b[0m \u001b[0marg\u001b[0m \u001b[1;32mfor\u001b[0m \u001b[0mk\u001b[0m\u001b[1;33m,\u001b[0m \u001b[0marg\u001b[0m \u001b[1;32min\u001b[0m \u001b[0mzip\u001b[0m\u001b[1;33m(\u001b[0m\u001b[0msig\u001b[0m\u001b[1;33m.\u001b[0m\u001b[0mparameters\u001b[0m\u001b[1;33m,\u001b[0m \u001b[0margs\u001b[0m\u001b[1;33m)\u001b[0m\u001b[1;33m}\u001b[0m\u001b[1;33m)\u001b[0m\u001b[1;33m\u001b[0m\u001b[1;33m\u001b[0m\u001b[0m\n\u001b[1;32m---> 72\u001b[1;33m         \u001b[1;32mreturn\u001b[0m \u001b[0mf\u001b[0m\u001b[1;33m(\u001b[0m\u001b[1;33m**\u001b[0m\u001b[0mkwargs\u001b[0m\u001b[1;33m)\u001b[0m\u001b[1;33m\u001b[0m\u001b[1;33m\u001b[0m\u001b[0m\n\u001b[0m\u001b[0;32m     73\u001b[0m     \u001b[1;32mreturn\u001b[0m \u001b[0minner_f\u001b[0m\u001b[1;33m\u001b[0m\u001b[1;33m\u001b[0m\u001b[0m\n\u001b[0;32m     74\u001b[0m \u001b[1;33m\u001b[0m\u001b[0m\n",
      "\u001b[1;32m~\\.conda\\envs\\workspace\\lib\\site-packages\\sklearn\\metrics\\_classification.py\u001b[0m in \u001b[0;36mconfusion_matrix\u001b[1;34m(y_true, y_pred, labels, sample_weight, normalize)\u001b[0m\n\u001b[0;32m    276\u001b[0m     \u001b[0my_type\u001b[0m\u001b[1;33m,\u001b[0m \u001b[0my_true\u001b[0m\u001b[1;33m,\u001b[0m \u001b[0my_pred\u001b[0m \u001b[1;33m=\u001b[0m \u001b[0m_check_targets\u001b[0m\u001b[1;33m(\u001b[0m\u001b[0my_true\u001b[0m\u001b[1;33m,\u001b[0m \u001b[0my_pred\u001b[0m\u001b[1;33m)\u001b[0m\u001b[1;33m\u001b[0m\u001b[1;33m\u001b[0m\u001b[0m\n\u001b[0;32m    277\u001b[0m     \u001b[1;32mif\u001b[0m \u001b[0my_type\u001b[0m \u001b[1;32mnot\u001b[0m \u001b[1;32min\u001b[0m \u001b[1;33m(\u001b[0m\u001b[1;34m\"binary\"\u001b[0m\u001b[1;33m,\u001b[0m \u001b[1;34m\"multiclass\"\u001b[0m\u001b[1;33m)\u001b[0m\u001b[1;33m:\u001b[0m\u001b[1;33m\u001b[0m\u001b[1;33m\u001b[0m\u001b[0m\n\u001b[1;32m--> 278\u001b[1;33m         \u001b[1;32mraise\u001b[0m \u001b[0mValueError\u001b[0m\u001b[1;33m(\u001b[0m\u001b[1;34m\"%s is not supported\"\u001b[0m \u001b[1;33m%\u001b[0m \u001b[0my_type\u001b[0m\u001b[1;33m)\u001b[0m\u001b[1;33m\u001b[0m\u001b[1;33m\u001b[0m\u001b[0m\n\u001b[0m\u001b[0;32m    279\u001b[0m \u001b[1;33m\u001b[0m\u001b[0m\n\u001b[0;32m    280\u001b[0m     \u001b[1;32mif\u001b[0m \u001b[0mlabels\u001b[0m \u001b[1;32mis\u001b[0m \u001b[1;32mNone\u001b[0m\u001b[1;33m:\u001b[0m\u001b[1;33m\u001b[0m\u001b[1;33m\u001b[0m\u001b[0m\n",
      "\u001b[1;31mValueError\u001b[0m: multilabel-indicator is not supported"
     ]
    }
   ],
   "source": [
    "from sklearn.metrics import confusion_matrix, accuracy_score\n",
    "confusion_matrix(pred, y_test)"
   ]
  },
  {
   "cell_type": "code",
   "execution_count": 37,
   "metadata": {
    "ExecuteTime": {
     "end_time": "2020-11-25T19:51:21.543266Z",
     "start_time": "2020-11-25T19:51:21.498234Z"
    }
   },
   "outputs": [
    {
     "data": {
      "text/plain": [
       "0.9019062478800625"
      ]
     },
     "execution_count": 37,
     "metadata": {},
     "output_type": "execute_result"
    }
   ],
   "source": [
    "accuracy_score(y_test, pred)"
   ]
  },
  {
   "cell_type": "code",
   "execution_count": 38,
   "metadata": {
    "ExecuteTime": {
     "end_time": "2020-11-25T19:51:22.763286Z",
     "start_time": "2020-11-25T19:51:22.690271Z"
    }
   },
   "outputs": [
    {
     "name": "stdout",
     "output_type": "stream",
     "text": [
      "              precision    recall  f1-score   support\n",
      "\n",
      "           0       0.98      0.99      0.98       514\n",
      "           1       0.97      0.98      0.98       468\n",
      "           2       0.99      1.00      0.99        90\n",
      "           3       0.97      0.94      0.95       660\n",
      "           4       0.98      0.88      0.93       214\n",
      "           5       0.96      0.92      0.94      1513\n",
      "           6       0.79      0.86      0.83       818\n",
      "           7       0.90      0.95      0.92       146\n",
      "           8       0.97      0.97      0.97       239\n",
      "           9       0.92      0.89      0.91       282\n",
      "          10       0.98      0.97      0.98      1254\n",
      "          11       0.94      0.97      0.96       112\n",
      "          12       0.89      0.94      0.91       305\n",
      "          13       0.92      0.91      0.91       169\n",
      "          14       0.96      0.96      0.96      3126\n",
      "          15       0.91      0.92      0.91      2518\n",
      "          16       0.84      0.93      0.88      1527\n",
      "          17       0.88      0.87      0.88       451\n",
      "          18       0.93      0.96      0.95        28\n",
      "          19       0.86      0.92      0.89       297\n",
      "          20       0.64      0.90      0.75        10\n",
      "\n",
      "   micro avg       0.92      0.94      0.93     14741\n",
      "   macro avg       0.91      0.93      0.92     14741\n",
      "weighted avg       0.92      0.94      0.93     14741\n",
      " samples avg       0.92      0.94      0.92     14741\n",
      "\n"
     ]
    }
   ],
   "source": [
    "from sklearn.metrics import classification_report\n",
    "print (classification_report(y_test, pred))"
   ]
  },
  {
   "cell_type": "code",
   "execution_count": null,
   "metadata": {},
   "outputs": [],
   "source": []
  },
  {
   "cell_type": "markdown",
   "metadata": {},
   "source": [
    "### save the model"
   ]
  },
  {
   "cell_type": "code",
   "execution_count": 18,
   "metadata": {},
   "outputs": [
    {
     "name": "stdout",
     "output_type": "stream",
     "text": [
      "Save Model\n"
     ]
    },
    {
     "data": {
      "text/plain": [
       "['model_section.pkl']"
      ]
     },
     "execution_count": 18,
     "metadata": {},
     "output_type": "execute_result"
    }
   ],
   "source": [
    "#save the model\n",
    "print(\"Save Model\")\n",
    "import joblib\n",
    "joblib.dump(model, 'model_section.pkl', compress=1)"
   ]
  },
  {
   "cell_type": "markdown",
   "metadata": {},
   "source": [
    "### load Model"
   ]
  },
  {
   "cell_type": "code",
   "execution_count": 39,
   "metadata": {},
   "outputs": [
    {
     "name": "stdout",
     "output_type": "stream",
     "text": [
      "Load Model\n"
     ]
    }
   ],
   "source": [
    "import joblib\n",
    "print(\"Load Model\")\n",
    "model = joblib.load('model_section.pkl')"
   ]
  },
  {
   "cell_type": "code",
   "execution_count": 40,
   "metadata": {},
   "outputs": [
    {
     "name": "stdout",
     "output_type": "stream",
     "text": [
      "Video game consoles\n"
     ]
    }
   ],
   "source": [
    "products = input()  # Video game consoles : 20"
   ]
  },
  {
   "cell_type": "code",
   "execution_count": 41,
   "metadata": {},
   "outputs": [
    {
     "data": {
      "text/plain": [
       "'20'"
      ]
     },
     "execution_count": 41,
     "metadata": {},
     "output_type": "execute_result"
    }
   ],
   "source": [
    "model.predict([products])[0]"
   ]
  },
  {
   "cell_type": "code",
   "execution_count": null,
   "metadata": {},
   "outputs": [],
   "source": []
  },
  {
   "cell_type": "code",
   "execution_count": null,
   "metadata": {},
   "outputs": [],
   "source": []
  },
  {
   "cell_type": "markdown",
   "metadata": {},
   "source": [
    "## Chapter Model"
   ]
  },
  {
   "cell_type": "code",
   "execution_count": 12,
   "metadata": {
    "ExecuteTime": {
     "end_time": "2020-11-15T20:01:29.552781Z",
     "start_time": "2020-11-15T19:59:32.768726Z"
    }
   },
   "outputs": [
    {
     "name": "stdout",
     "output_type": "stream",
     "text": [
      "Load the dataset : chapter\n",
      "Load dataset time:  116.764s\n",
      "49137\n"
     ]
    },
    {
     "data": {
      "text/html": [
       "<div>\n",
       "<style scoped>\n",
       "    .dataframe tbody tr th:only-of-type {\n",
       "        vertical-align: middle;\n",
       "    }\n",
       "\n",
       "    .dataframe tbody tr th {\n",
       "        vertical-align: top;\n",
       "    }\n",
       "\n",
       "    .dataframe thead th {\n",
       "        text-align: right;\n",
       "    }\n",
       "</style>\n",
       "<table border=\"1\" class=\"dataframe\">\n",
       "  <thead>\n",
       "    <tr style=\"text-align: right;\">\n",
       "      <th></th>\n",
       "      <th>target</th>\n",
       "      <th>data</th>\n",
       "    </tr>\n",
       "  </thead>\n",
       "  <tbody>\n",
       "    <tr>\n",
       "      <th>0</th>\n",
       "      <td>01</td>\n",
       "      <td>horses; live, purebred breeding animals - pure...</td>\n",
       "    </tr>\n",
       "    <tr>\n",
       "      <th>1</th>\n",
       "      <td>01</td>\n",
       "      <td>horses; live, other than purebred breeding ani...</td>\n",
       "    </tr>\n",
       "    <tr>\n",
       "      <th>2</th>\n",
       "      <td>01</td>\n",
       "      <td>asses; live - other</td>\n",
       "    </tr>\n",
       "    <tr>\n",
       "      <th>3</th>\n",
       "      <td>01</td>\n",
       "      <td>mules and hinnies; live-  other</td>\n",
       "    </tr>\n",
       "    <tr>\n",
       "      <th>4</th>\n",
       "      <td>01</td>\n",
       "      <td>cattle; live, purebred breeding animals - pure...</td>\n",
       "    </tr>\n",
       "  </tbody>\n",
       "</table>\n",
       "</div>"
      ],
      "text/plain": [
       "  target                                               data\n",
       "0     01  horses; live, purebred breeding animals - pure...\n",
       "1     01  horses; live, other than purebred breeding ani...\n",
       "2     01                                asses; live - other\n",
       "3     01                    mules and hinnies; live-  other\n",
       "4     01  cattle; live, purebred breeding animals - pure..."
      ]
     },
     "execution_count": 12,
     "metadata": {},
     "output_type": "execute_result"
    }
   ],
   "source": [
    "#types = \"section\"\n",
    "types = \"chapter\"\n",
    "\n",
    "print(\"Load the dataset : chapter\")\n",
    "t0 = time()\n",
    "\n",
    "\n",
    "sheets = '8_digit'\n",
    "eights = get_master(sheets,types)\n",
    "sheets = '6_digit'\n",
    "sixs = get_master(sheets,types)\n",
    "sheets = '4_digit'\n",
    "fours = get_master(sheets,types)\n",
    "sheets = '2_digit'\n",
    "twos = get_master(sheets,types)\n",
    "\n",
    "sheets = 'test_01'\n",
    "tests = get_master(sheets,types)\n",
    "\n",
    "sheets = 'Declaration_2019_10'\n",
    "decl = get_master(sheets,types)\n",
    "\n",
    "data = pd.concat([eights,sixs,fours,twos,tests,decl], ignore_index=True)\n",
    "twenty_train = manage_data(data)\n",
    "\n",
    "\n",
    "\n",
    "#twenty_test = manage_data(tests)\n",
    "\n",
    "load_time = time() - t0\n",
    "print(\"Load dataset time:  %0.3fs\" % load_time)\n",
    "print(len(twenty_train))\n",
    "twenty_train.head()"
   ]
  },
  {
   "cell_type": "code",
   "execution_count": 13,
   "metadata": {
    "ExecuteTime": {
     "end_time": "2020-11-15T20:01:29.630779Z",
     "start_time": "2020-11-15T20:01:29.556783Z"
    },
    "scrolled": true
   },
   "outputs": [
    {
     "data": {
      "text/plain": [
       "Counter({'01': 126,\n",
       "         '02': 253,\n",
       "         '03': 907,\n",
       "         '04': 365,\n",
       "         '05': 70,\n",
       "         '06': 89,\n",
       "         '07': 391,\n",
       "         '08': 310,\n",
       "         '09': 172,\n",
       "         '10': 106,\n",
       "         '11': 117,\n",
       "         '12': 217,\n",
       "         '13': 52,\n",
       "         '14': 33,\n",
       "         '15': 327,\n",
       "         '16': 265,\n",
       "         '17': 141,\n",
       "         '18': 133,\n",
       "         '19': 204,\n",
       "         '20': 432,\n",
       "         '21': 259,\n",
       "         '22': 402,\n",
       "         '23': 247,\n",
       "         '24': 125,\n",
       "         '25': 268,\n",
       "         '26': 156,\n",
       "         '27': 267,\n",
       "         '28': 751,\n",
       "         '29': 1940,\n",
       "         '30': 297,\n",
       "         '31': 90,\n",
       "         '32': 338,\n",
       "         '33': 477,\n",
       "         '34': 257,\n",
       "         '35': 117,\n",
       "         '36': 49,\n",
       "         '37': 198,\n",
       "         '38': 531,\n",
       "         '39': 1710,\n",
       "         '40': 1158,\n",
       "         '41': 225,\n",
       "         '42': 204,\n",
       "         '43': 54,\n",
       "         '44': 602,\n",
       "         '45': 38,\n",
       "         '46': 105,\n",
       "         '47': 71,\n",
       "         '48': 682,\n",
       "         '49': 148,\n",
       "         '50': 45,\n",
       "         '51': 193,\n",
       "         '52': 516,\n",
       "         '53': 96,\n",
       "         '54': 314,\n",
       "         '55': 384,\n",
       "         '56': 152,\n",
       "         '57': 153,\n",
       "         '58': 212,\n",
       "         '59': 145,\n",
       "         '60': 196,\n",
       "         '61': 558,\n",
       "         '62': 797,\n",
       "         '63': 287,\n",
       "         '64': 247,\n",
       "         '65': 63,\n",
       "         '66': 25,\n",
       "         '67': 59,\n",
       "         '68': 265,\n",
       "         '69': 259,\n",
       "         '70': 468,\n",
       "         '71': 590,\n",
       "         '72': 848,\n",
       "         '73': 1484,\n",
       "         '74': 253,\n",
       "         '75': 73,\n",
       "         '76': 6585,\n",
       "         '78': 47,\n",
       "         '79': 47,\n",
       "         '80': 39,\n",
       "         '81': 183,\n",
       "         '82': 403,\n",
       "         '83': 444,\n",
       "         '84': 4505,\n",
       "         '85': 3947,\n",
       "         '86': 141,\n",
       "         '87': 4593,\n",
       "         '88': 294,\n",
       "         '89': 106,\n",
       "         '90': 1040,\n",
       "         '91': 320,\n",
       "         '92': 110,\n",
       "         '93': 89,\n",
       "         '94': 473,\n",
       "         '95': 222,\n",
       "         '96': 358,\n",
       "         '97': 33})"
      ]
     },
     "execution_count": 13,
     "metadata": {},
     "output_type": "execute_result"
    }
   ],
   "source": [
    "from collections import Counter\n",
    "Counter(twenty_train[\"target\"])"
   ]
  },
  {
   "cell_type": "code",
   "execution_count": 14,
   "metadata": {
    "ExecuteTime": {
     "end_time": "2020-11-15T20:02:43.636955Z",
     "start_time": "2020-11-15T20:02:43.428996Z"
    }
   },
   "outputs": [
    {
     "name": "stdout",
     "output_type": "stream",
     "text": [
      "Save DataFrame\n",
      "success\n"
     ]
    }
   ],
   "source": [
    "#save the DataFrame\n",
    "print(\"Save DataFrame\")\n",
    "import joblib\n",
    "joblib.dump(twenty_train, 'train_chapter.pkl', compress=1)\n",
    "print('success')"
   ]
  },
  {
   "cell_type": "code",
   "execution_count": 5,
   "metadata": {},
   "outputs": [],
   "source": [
    "import re \n",
    "def clean_str(string):\n",
    "    \"\"\"\n",
    "    Tokenization/string cleaning for dataset\n",
    "    Every dataset is lower cased except\n",
    "    \"\"\"\n",
    "    string = re.sub(r\"\\n\", \"\", string)    \n",
    "    string = re.sub(r\"\\r\", \"\", string) \n",
    "    string = re.sub(r\"[0-9]\", \"digit\", string)\n",
    "    string = re.sub(r\"\\'\", \"\", string)    \n",
    "    string = re.sub(r\"\\\"\", \"\", string)    \n",
    "    return string.strip().lower()"
   ]
  },
  {
   "cell_type": "code",
   "execution_count": 6,
   "metadata": {},
   "outputs": [
    {
     "name": "stdout",
     "output_type": "stream",
     "text": [
      "rain test split\n"
     ]
    }
   ],
   "source": [
    "#train test split\n",
    "print(\"rain test split\")\n",
    "df = twenty_train.copy()\n",
    "from sklearn.model_selection import train_test_split\n",
    "X = []\n",
    "for i in range(df.shape[0]):\n",
    "    X.append(clean_str(df.iloc[i][1]))\n",
    "y = np.array(df[\"target\"])\n",
    "X_train, X_test, y_train, y_test = train_test_split(X, y, test_size=0.3, random_state=5)"
   ]
  },
  {
   "cell_type": "code",
   "execution_count": 7,
   "metadata": {},
   "outputs": [
    {
     "name": "stdout",
     "output_type": "stream",
     "text": [
      "feature engineering and model selection\n"
     ]
    }
   ],
   "source": [
    "#feature engineering and model selection\n",
    "print(\"feature engineering and model selection\")\n",
    "from sklearn.svm import LinearSVC\n",
    "from sklearn.linear_model import LogisticRegression\n",
    "from sklearn.ensemble import RandomForestClassifier"
   ]
  },
  {
   "cell_type": "code",
   "execution_count": 8,
   "metadata": {},
   "outputs": [
    {
     "name": "stdout",
     "output_type": "stream",
     "text": [
      "pipeline of feature engineering and model\n"
     ]
    }
   ],
   "source": [
    "#pipeline of feature engineering and model\n",
    "print(\"pipeline of feature engineering and model\")\n",
    "model = Pipeline([('vectorizer', CountVectorizer()),\n",
    "    ('tfidf', TfidfTransformer()),\n",
    "    ('clf', OneVsRestClassifier(LinearSVC(class_weight=\"balanced\")))])"
   ]
  },
  {
   "cell_type": "code",
   "execution_count": 9,
   "metadata": {},
   "outputs": [
    {
     "name": "stdout",
     "output_type": "stream",
     "text": [
      "paramater selection\n"
     ]
    }
   ],
   "source": [
    "#paramater selection\n",
    "print(\"paramater selection\")\n",
    "from sklearn.model_selection import GridSearchCV\n",
    "\n",
    "parameters = {'vectorizer__ngram_range': [(1, 1), (1, 2),(2,2)],\n",
    "               'tfidf__use_idf': (True, False)}"
   ]
  },
  {
   "cell_type": "code",
   "execution_count": 10,
   "metadata": {},
   "outputs": [
    {
     "name": "stdout",
     "output_type": "stream",
     "text": [
      "Training: \n"
     ]
    },
    {
     "name": "stderr",
     "output_type": "stream",
     "text": [
      "C:\\ProgramData\\Anaconda3\\lib\\site-packages\\sklearn\\svm\\_base.py:976: ConvergenceWarning: Liblinear failed to converge, increase the number of iterations.\n",
      "  warnings.warn(\"Liblinear failed to converge, increase \"\n"
     ]
    },
    {
     "name": "stdout",
     "output_type": "stream",
     "text": [
      "0.8671036298745671\n",
      "{'tfidf__use_idf': True, 'vectorizer__ngram_range': (1, 2)}\n"
     ]
    }
   ],
   "source": [
    "print(\"Training: \")\n",
    "   \n",
    "t0 = time()\n",
    "gs_clf_svm = GridSearchCV(model, parameters, n_jobs=-1)\n",
    "gs_clf_svm = gs_clf_svm.fit(X, y)\n",
    "print(gs_clf_svm.best_score_)\n",
    "print(gs_clf_svm.best_params_)"
   ]
  },
  {
   "cell_type": "code",
   "execution_count": 11,
   "metadata": {},
   "outputs": [],
   "source": [
    "#preparing the final pipeline using the selected parameters\n",
    "model = Pipeline([('vectorizer', CountVectorizer(ngram_range=(1,2))),\n",
    "    ('tfidf', TfidfTransformer(use_idf=True)),\n",
    "    ('clf', OneVsRestClassifier(LinearSVC(class_weight=\"balanced\")))])"
   ]
  },
  {
   "cell_type": "code",
   "execution_count": 12,
   "metadata": {},
   "outputs": [
    {
     "name": "stderr",
     "output_type": "stream",
     "text": [
      "C:\\ProgramData\\Anaconda3\\lib\\site-packages\\sklearn\\svm\\_base.py:976: ConvergenceWarning: Liblinear failed to converge, increase the number of iterations.\n",
      "  warnings.warn(\"Liblinear failed to converge, increase \"\n"
     ]
    },
    {
     "name": "stdout",
     "output_type": "stream",
     "text": [
      "train time: 3068.481s\n"
     ]
    }
   ],
   "source": [
    "#fit model with training data\n",
    "model.fit(X_train, y_train)\n",
    "train_time = time() - t0\n",
    "print(\"train time: %0.3fs\" % train_time)"
   ]
  },
  {
   "cell_type": "code",
   "execution_count": 13,
   "metadata": {},
   "outputs": [
    {
     "name": "stdout",
     "output_type": "stream",
     "text": [
      "test time:  0.684s\n"
     ]
    }
   ],
   "source": [
    "#evaluation on test data\n",
    "t0 = time()\n",
    "pred = model.predict(X_test)\n",
    "\n",
    "test_time = time() - t0\n",
    "print(\"test time:  %0.3fs\" % test_time)"
   ]
  },
  {
   "cell_type": "code",
   "execution_count": 14,
   "metadata": {},
   "outputs": [
    {
     "data": {
      "text/plain": [
       "array(['01', '02', '03', '04', '05', '06', '07', '08', '09', '10', '11',\n",
       "       '12', '13', '14', '15', '16', '17', '18', '19', '20', '21', '22',\n",
       "       '23', '24', '25', '26', '27', '28', '29', '30', '31', '32', '33',\n",
       "       '34', '35', '36', '37', '38', '39', '40', '41', '42', '43', '44',\n",
       "       '45', '46', '47', '48', '49', '50', '51', '52', '53', '54', '55',\n",
       "       '56', '57', '58', '59', '60', '61', '62', '63', '64', '65', '66',\n",
       "       '67', '68', '69', '70', '71', '72', '73', '74', '75', '76', '78',\n",
       "       '79', '80', '81', '82', '83', '84', '85', '86', '87', '88', '89',\n",
       "       '90', '91', '92', '93', '94', '95', '96', '97'], dtype='<U2')"
      ]
     },
     "execution_count": 14,
     "metadata": {},
     "output_type": "execute_result"
    }
   ],
   "source": [
    "model.classes_"
   ]
  },
  {
   "cell_type": "code",
   "execution_count": 15,
   "metadata": {},
   "outputs": [
    {
     "data": {
      "text/plain": [
       "array([[ 37,   0,   2, ...,   0,   0,   0],\n",
       "       [  0,  72,   0, ...,   0,   0,   0],\n",
       "       [  0,   0, 280, ...,   0,   0,   0],\n",
       "       ...,\n",
       "       [  0,   0,   0, ...,  49,   0,   0],\n",
       "       [  0,   0,   0, ...,   0, 103,   0],\n",
       "       [  0,   0,   0, ...,   0,   0,  10]], dtype=int64)"
      ]
     },
     "execution_count": 15,
     "metadata": {},
     "output_type": "execute_result"
    }
   ],
   "source": [
    "from sklearn.metrics import confusion_matrix, accuracy_score\n",
    "confusion_matrix(pred, y_test)"
   ]
  },
  {
   "cell_type": "code",
   "execution_count": 16,
   "metadata": {},
   "outputs": [
    {
     "name": "stdout",
     "output_type": "stream",
     "text": [
      "0.9134445801112467\n"
     ]
    }
   ],
   "source": [
    "print(accuracy_score(y_test, pred))\n",
    "\n"
   ]
  },
  {
   "cell_type": "code",
   "execution_count": 17,
   "metadata": {},
   "outputs": [
    {
     "name": "stdout",
     "output_type": "stream",
     "text": [
      "              precision    recall  f1-score   support\n",
      "\n",
      "          01       0.95      1.00      0.97        37\n",
      "          02       1.00      1.00      1.00        72\n",
      "          03       0.99      0.99      0.99       282\n",
      "          04       0.97      0.99      0.98       115\n",
      "          05       1.00      0.88      0.94        17\n",
      "          06       1.00      1.00      1.00        25\n",
      "          07       0.97      0.97      0.97       129\n",
      "          08       0.99      0.94      0.96        95\n",
      "          09       0.95      1.00      0.98        59\n",
      "          10       1.00      0.94      0.97        31\n",
      "          11       0.89      1.00      0.94        32\n",
      "          12       0.99      0.97      0.98        69\n",
      "          13       0.89      0.94      0.92        18\n",
      "          14       0.90      1.00      0.95         9\n",
      "          15       0.98      1.00      0.99        94\n",
      "          16       1.00      0.97      0.99        71\n",
      "          17       0.92      0.89      0.91        38\n",
      "          18       0.95      0.97      0.96        38\n",
      "          19       0.89      0.86      0.88        57\n",
      "          20       0.91      0.95      0.93       143\n",
      "          21       0.88      0.84      0.86        77\n",
      "          22       0.94      0.95      0.95       105\n",
      "          23       0.97      0.97      0.97        60\n",
      "          24       1.00      0.97      0.99        35\n",
      "          25       0.99      0.98      0.98        81\n",
      "          26       0.92      0.96      0.94        51\n",
      "          27       0.95      0.96      0.95        72\n",
      "          28       0.95      0.96      0.96       233\n",
      "          29       0.95      0.93      0.94       588\n",
      "          30       0.99      0.82      0.90       101\n",
      "          31       1.00      0.93      0.96        28\n",
      "          32       0.91      0.88      0.89       114\n",
      "          33       0.87      0.93      0.90       148\n",
      "          34       0.98      0.85      0.91        72\n",
      "          35       0.93      0.81      0.87        32\n",
      "          36       1.00      0.87      0.93        15\n",
      "          37       0.97      1.00      0.98        59\n",
      "          38       0.89      0.87      0.88       169\n",
      "          39       0.86      0.78      0.82       508\n",
      "          40       0.87      0.83      0.85       341\n",
      "          41       0.99      1.00      0.99        77\n",
      "          42       0.84      0.84      0.84        51\n",
      "          43       1.00      1.00      1.00        20\n",
      "          44       0.95      0.98      0.96       179\n",
      "          45       1.00      1.00      1.00         8\n",
      "          46       1.00      0.97      0.99        37\n",
      "          47       1.00      1.00      1.00        29\n",
      "          48       0.99      0.96      0.98       200\n",
      "          49       0.90      0.74      0.81        50\n",
      "          50       1.00      1.00      1.00        10\n",
      "          51       0.98      1.00      0.99        57\n",
      "          52       0.98      1.00      0.99       154\n",
      "          53       0.97      1.00      0.98        28\n",
      "          54       0.99      0.99      0.99        92\n",
      "          55       0.99      0.99      0.99       128\n",
      "          56       0.94      0.88      0.91        50\n",
      "          57       0.98      0.96      0.97        47\n",
      "          58       1.00      0.97      0.98        63\n",
      "          59       0.97      0.97      0.97        36\n",
      "          60       1.00      0.93      0.96        55\n",
      "          61       0.99      0.93      0.96       197\n",
      "          62       0.96      0.98      0.97       240\n",
      "          63       0.94      0.96      0.95        80\n",
      "          64       0.99      0.95      0.97        74\n",
      "          65       1.00      0.96      0.98        28\n",
      "          66       1.00      1.00      1.00         8\n",
      "          67       0.89      0.96      0.92        25\n",
      "          68       0.94      0.97      0.95        86\n",
      "          69       0.93      0.95      0.94        65\n",
      "          70       0.87      0.94      0.90       140\n",
      "          71       0.89      0.89      0.89       185\n",
      "          72       0.99      1.00      0.99       242\n",
      "          73       0.86      0.79      0.83       481\n",
      "          74       0.97      0.97      0.97        77\n",
      "          75       1.00      1.00      1.00        24\n",
      "          76       0.99      0.99      0.99      1945\n",
      "          78       1.00      0.93      0.96        14\n",
      "          79       0.89      1.00      0.94        16\n",
      "          80       1.00      0.85      0.92        13\n",
      "          81       0.94      0.98      0.96        61\n",
      "          82       0.82      0.81      0.81       125\n",
      "          83       0.70      0.68      0.69       123\n",
      "          84       0.89      0.86      0.87      1355\n",
      "          85       0.78      0.88      0.83      1170\n",
      "          86       1.00      1.00      1.00        32\n",
      "          87       0.85      0.88      0.87      1329\n",
      "          88       0.60      0.83      0.69        90\n",
      "          89       1.00      0.97      0.98        30\n",
      "          90       0.90      0.80      0.85       314\n",
      "          91       0.97      0.98      0.97        86\n",
      "          92       0.97      0.97      0.97        40\n",
      "          93       1.00      0.96      0.98        23\n",
      "          94       0.92      0.88      0.90       150\n",
      "          95       0.92      0.83      0.88        59\n",
      "          96       0.97      0.90      0.94       114\n",
      "          97       0.83      1.00      0.91        10\n",
      "\n",
      "    accuracy                           0.91     14742\n",
      "   macro avg       0.94      0.94      0.94     14742\n",
      "weighted avg       0.92      0.91      0.91     14742\n",
      "\n"
     ]
    }
   ],
   "source": [
    "from sklearn.metrics import classification_report\n",
    "print (classification_report(y_test, pred))"
   ]
  },
  {
   "cell_type": "markdown",
   "metadata": {},
   "source": [
    "### save the model"
   ]
  },
  {
   "cell_type": "code",
   "execution_count": 18,
   "metadata": {},
   "outputs": [
    {
     "name": "stdout",
     "output_type": "stream",
     "text": [
      "Save Model\n"
     ]
    },
    {
     "data": {
      "text/plain": [
       "['model_chapter.pkl']"
      ]
     },
     "execution_count": 18,
     "metadata": {},
     "output_type": "execute_result"
    }
   ],
   "source": [
    "#save the model\n",
    "print(\"Save Model\")\n",
    "import joblib\n",
    "joblib.dump(model, 'model_chapter.pkl', compress=1)"
   ]
  },
  {
   "cell_type": "code",
   "execution_count": null,
   "metadata": {},
   "outputs": [],
   "source": []
  },
  {
   "cell_type": "markdown",
   "metadata": {},
   "source": [
    "### load Model"
   ]
  },
  {
   "cell_type": "code",
   "execution_count": 19,
   "metadata": {},
   "outputs": [
    {
     "name": "stdout",
     "output_type": "stream",
     "text": [
      "Load Model\n"
     ]
    }
   ],
   "source": [
    "import joblib\n",
    "print(\"Load Model\")\n",
    "model = joblib.load('model_chapter.pkl')"
   ]
  },
  {
   "cell_type": "code",
   "execution_count": 21,
   "metadata": {},
   "outputs": [
    {
     "name": "stdout",
     "output_type": "stream",
     "text": [
      "Video game consoles\n"
     ]
    }
   ],
   "source": [
    "products = input()  # Video game consoles : 95"
   ]
  },
  {
   "cell_type": "code",
   "execution_count": 22,
   "metadata": {},
   "outputs": [
    {
     "data": {
      "text/plain": [
       "'95'"
      ]
     },
     "execution_count": 22,
     "metadata": {},
     "output_type": "execute_result"
    }
   ],
   "source": [
    "model.predict([products])[0]"
   ]
  },
  {
   "cell_type": "code",
   "execution_count": null,
   "metadata": {},
   "outputs": [],
   "source": []
  },
  {
   "cell_type": "code",
   "execution_count": 29,
   "metadata": {},
   "outputs": [],
   "source": []
  },
  {
   "cell_type": "code",
   "execution_count": null,
   "metadata": {},
   "outputs": [],
   "source": []
  }
 ],
 "metadata": {
  "kernelspec": {
   "display_name": "Python 3",
   "language": "python",
   "name": "python3"
  },
  "language_info": {
   "codemirror_mode": {
    "name": "ipython",
    "version": 3
   },
   "file_extension": ".py",
   "mimetype": "text/x-python",
   "name": "python",
   "nbconvert_exporter": "python",
   "pygments_lexer": "ipython3",
   "version": "3.8.5"
  },
  "latex_envs": {
   "LaTeX_envs_menu_present": true,
   "autoclose": false,
   "autocomplete": true,
   "bibliofile": "biblio.bib",
   "cite_by": "apalike",
   "current_citInitial": 1,
   "eqLabelWithNumbers": true,
   "eqNumInitial": 1,
   "hotkeys": {
    "equation": "Ctrl-E",
    "itemize": "Ctrl-I"
   },
   "labels_anchors": false,
   "latex_user_defs": false,
   "report_style_numbering": false,
   "user_envs_cfg": false
  },
  "nbTranslate": {
   "displayLangs": [
    "*"
   ],
   "hotkey": "alt-t",
   "langInMainMenu": true,
   "sourceLang": "en",
   "targetLang": "fr",
   "useGoogleTranslate": true
  },
  "toc": {
   "base_numbering": 1,
   "nav_menu": {},
   "number_sections": false,
   "sideBar": true,
   "skip_h1_title": false,
   "title_cell": "Table of Contents",
   "title_sidebar": "Contents",
   "toc_cell": false,
   "toc_position": {
    "height": "calc(100% - 180px)",
    "left": "10px",
    "top": "150px",
    "width": "248.324px"
   },
   "toc_section_display": true,
   "toc_window_display": true
  }
 },
 "nbformat": 4,
 "nbformat_minor": 4
}
