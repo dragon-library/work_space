{
 "cells": [
  {
   "cell_type": "code",
   "execution_count": null,
   "metadata": {},
   "outputs": [],
   "source": []
  },
  {
   "cell_type": "code",
   "execution_count": 1,
   "metadata": {
    "ExecuteTime": {
     "end_time": "2020-11-02T04:09:36.737378Z",
     "start_time": "2020-11-02T04:09:35.541121Z"
    }
   },
   "outputs": [],
   "source": [
    "import numpy\n",
    "import pandas as pd\n",
    "import matplotlib.pyplot as plt\n",
    "from sklearn.naive_bayes import MultinomialNB\n",
    "from sklearn.feature_extraction.text import CountVectorizer\n",
    "from sklearn.metrics import confusion_matrix, f1_score ,accuracy_score\n",
    "\n",
    "pd.set_option('display.max_rows', 20, \n",
    "              'display.max_columns', 100)"
   ]
  },
  {
   "cell_type": "code",
   "execution_count": 2,
   "metadata": {
    "ExecuteTime": {
     "end_time": "2020-11-02T04:09:36.760361Z",
     "start_time": "2020-11-02T04:09:36.752366Z"
    }
   },
   "outputs": [],
   "source": [
    "urls = 'https://github.com/dragon-library/work_space/raw/main/HS_Code/HS/hs_code.xlsx'\n",
    "\n",
    "def get_master(sheets):\n",
    "    data = pd.read_excel(urls,sheet_name= sheets)\n",
    "    data['chapter'] = data['chapter'].map('{:02}'.format)\n",
    "    data = data[['chapter','description']]\n",
    "    data['description'] = data['description'].str.lower()\n",
    " #   data = data.rename(columns={'heading' : 'target', 'product_desc' : 'question_text'})\n",
    "    \n",
    "    return data"
   ]
  },
  {
   "cell_type": "code",
   "execution_count": 3,
   "metadata": {
    "ExecuteTime": {
     "end_time": "2020-11-02T04:10:00.893275Z",
     "start_time": "2020-11-02T04:09:37.144126Z"
    }
   },
   "outputs": [
    {
     "data": {
      "text/html": [
       "<div>\n",
       "<style scoped>\n",
       "    .dataframe tbody tr th:only-of-type {\n",
       "        vertical-align: middle;\n",
       "    }\n",
       "\n",
       "    .dataframe tbody tr th {\n",
       "        vertical-align: top;\n",
       "    }\n",
       "\n",
       "    .dataframe thead th {\n",
       "        text-align: right;\n",
       "    }\n",
       "</style>\n",
       "<table border=\"1\" class=\"dataframe\">\n",
       "  <thead>\n",
       "    <tr style=\"text-align: right;\">\n",
       "      <th></th>\n",
       "      <th>chapter</th>\n",
       "      <th>description</th>\n",
       "    </tr>\n",
       "  </thead>\n",
       "  <tbody>\n",
       "    <tr>\n",
       "      <th>37409</th>\n",
       "      <td>62</td>\n",
       "      <td>lamination molding foam cup</td>\n",
       "    </tr>\n",
       "    <tr>\n",
       "      <th>70395</th>\n",
       "      <td>40</td>\n",
       "      <td>gasket assembly,door\\r\\n4987ja1020e</td>\n",
       "    </tr>\n",
       "    <tr>\n",
       "      <th>41771</th>\n",
       "      <td>58</td>\n",
       "      <td>elastic webbing</td>\n",
       "    </tr>\n",
       "    <tr>\n",
       "      <th>19667</th>\n",
       "      <td>87</td>\n",
       "      <td>porsche cayenne e-hybrid 2019 2995cc:462hp:340...</td>\n",
       "    </tr>\n",
       "    <tr>\n",
       "      <th>47048</th>\n",
       "      <td>62</td>\n",
       "      <td>lamination molding foam cup</td>\n",
       "    </tr>\n",
       "    <tr>\n",
       "      <th>43853</th>\n",
       "      <td>60</td>\n",
       "      <td>simplex knitted fabric</td>\n",
       "    </tr>\n",
       "    <tr>\n",
       "      <th>50501</th>\n",
       "      <td>73</td>\n",
       "      <td>bra wire</td>\n",
       "    </tr>\n",
       "    <tr>\n",
       "      <th>4939</th>\n",
       "      <td>58</td>\n",
       "      <td>fabrics; narrow woven fabrics, n.e.c. in headi...</td>\n",
       "    </tr>\n",
       "    <tr>\n",
       "      <th>92733</th>\n",
       "      <td>84</td>\n",
       "      <td>washing machine</td>\n",
       "    </tr>\n",
       "    <tr>\n",
       "      <th>30163</th>\n",
       "      <td>62</td>\n",
       "      <td>polyurethane cup with lamination</td>\n",
       "    </tr>\n",
       "  </tbody>\n",
       "</table>\n",
       "</div>"
      ],
      "text/plain": [
       "      chapter                                        description\n",
       "37409      62                        lamination molding foam cup\n",
       "70395      40                gasket assembly,door\\r\\n4987ja1020e\n",
       "41771      58                                    elastic webbing\n",
       "19667      87  porsche cayenne e-hybrid 2019 2995cc:462hp:340...\n",
       "47048      62                        lamination molding foam cup\n",
       "43853      60                             simplex knitted fabric\n",
       "50501      73                                           bra wire\n",
       "4939       58  fabrics; narrow woven fabrics, n.e.c. in headi...\n",
       "92733      84                                    washing machine\n",
       "30163      62                   polyurethane cup with lamination"
      ]
     },
     "execution_count": 3,
     "metadata": {},
     "output_type": "execute_result"
    }
   ],
   "source": [
    "sheets = '8_digit'\n",
    "inputs = get_master(sheets)\n",
    "\n",
    "sheets = '2_digit'\n",
    "master = get_master(sheets)\n",
    "\n",
    "sheets = 'deci'\n",
    "deci = get_master(sheets)\n",
    "\n",
    "sheets = 'deci_cti'\n",
    "deci_cti = get_master(sheets)\n",
    "\n",
    "sheets = 'decx'\n",
    "decx = get_master(sheets)\n",
    "\n",
    "train_df = pd.concat([inputs,master,deci_cti,deci,decx], ignore_index=True)\n",
    "train_df.sample(10)"
   ]
  },
  {
   "cell_type": "code",
   "execution_count": 5,
   "metadata": {
    "ExecuteTime": {
     "end_time": "2020-11-02T04:10:01.134125Z",
     "start_time": "2020-11-02T04:10:00.943245Z"
    }
   },
   "outputs": [],
   "source": [
    "file = train_df.copy()\n",
    "\n",
    "arr_text=file.iloc[:]['description'].values\n",
    "arr_class=file.iloc[:]['chapter'].values\n",
    "from sklearn.model_selection import train_test_split\n",
    "X_train, X_test, y_train, y_test = train_test_split(arr_text, arr_class, test_size=0.33, random_state=42)"
   ]
  },
  {
   "cell_type": "code",
   "execution_count": 6,
   "metadata": {
    "ExecuteTime": {
     "end_time": "2020-11-02T04:10:02.109533Z",
     "start_time": "2020-11-02T04:10:01.194088Z"
    }
   },
   "outputs": [
    {
     "data": {
      "text/plain": [
       "CountVectorizer()"
      ]
     },
     "execution_count": 6,
     "metadata": {},
     "output_type": "execute_result"
    }
   ],
   "source": [
    "vect = CountVectorizer()\n",
    "vect.fit(arr_text)"
   ]
  },
  {
   "cell_type": "code",
   "execution_count": 7,
   "metadata": {
    "ExecuteTime": {
     "end_time": "2020-11-02T04:10:03.514183Z",
     "start_time": "2020-11-02T04:10:02.209472Z"
    }
   },
   "outputs": [],
   "source": [
    "train_transformer_x = vect.transform(X_train)\n",
    "detect_model = MultinomialNB().fit(train_transformer_x,y_train)"
   ]
  },
  {
   "cell_type": "code",
   "execution_count": 8,
   "metadata": {
    "ExecuteTime": {
     "end_time": "2020-11-02T04:10:04.124637Z",
     "start_time": "2020-11-02T04:10:03.591646Z"
    }
   },
   "outputs": [
    {
     "name": "stdout",
     "output_type": "stream",
     "text": [
      "F1 score = 0.6271188955720458\n",
      "Accuracy = 0.9189248115617019\n"
     ]
    }
   ],
   "source": [
    "test_transformer_x = vect.transform(X_test)\n",
    "y_pred = detect_model.predict(test_transformer_x)\n",
    "print('F1 score =',f1_score(y_test, y_pred, average='macro'))\n",
    "print('Accuracy =',accuracy_score(y_test, y_pred))"
   ]
  },
  {
   "cell_type": "code",
   "execution_count": null,
   "metadata": {},
   "outputs": [],
   "source": []
  },
  {
   "cell_type": "code",
   "execution_count": 10,
   "metadata": {
    "ExecuteTime": {
     "end_time": "2020-11-02T04:10:04.230573Z",
     "start_time": "2020-11-02T04:10:04.217580Z"
    }
   },
   "outputs": [
    {
     "data": {
      "text/plain": [
       "array(['horses; live, purebred breeding animals - purebred breeding animals',\n",
       "       'horses; live, other than purebred breeding animals - other',\n",
       "       'asses; live - other', ..., 'compressor', 'washing machine',\n",
       "       'condenser assembly'], dtype=object)"
      ]
     },
     "execution_count": 10,
     "metadata": {},
     "output_type": "execute_result"
    }
   ],
   "source": [
    "df =  train_df.copy()\n",
    "\n",
    "\n",
    "\n",
    "arr_text=df.iloc[:]['description'].values\n",
    "arr_text"
   ]
  },
  {
   "cell_type": "code",
   "execution_count": 11,
   "metadata": {
    "ExecuteTime": {
     "end_time": "2020-11-02T04:10:04.343503Z",
     "start_time": "2020-11-02T04:10:04.333508Z"
    }
   },
   "outputs": [
    {
     "data": {
      "text/plain": [
       "CountVectorizer(stop_words='english')"
      ]
     },
     "execution_count": 11,
     "metadata": {},
     "output_type": "execute_result"
    }
   ],
   "source": [
    "#CountVectorizer ทำ tokenize\n",
    "\n",
    "vect = CountVectorizer(stop_words='english', lowercase=True)\n",
    "vect"
   ]
  },
  {
   "cell_type": "code",
   "execution_count": 12,
   "metadata": {
    "ExecuteTime": {
     "end_time": "2020-11-02T04:10:05.441347Z",
     "start_time": "2020-11-02T04:10:04.507401Z"
    }
   },
   "outputs": [
    {
     "data": {
      "text/plain": [
       "CountVectorizer(stop_words='english')"
      ]
     },
     "execution_count": 12,
     "metadata": {},
     "output_type": "execute_result"
    }
   ],
   "source": [
    "#เริ่มตัดคำ\n",
    "\n",
    "count_train = vect.fit(arr_text)\n",
    "count_train"
   ]
  },
  {
   "cell_type": "code",
   "execution_count": 13,
   "metadata": {
    "ExecuteTime": {
     "end_time": "2020-11-02T04:10:06.528208Z",
     "start_time": "2020-11-02T04:10:05.553277Z"
    },
    "scrolled": true
   },
   "outputs": [
    {
     "data": {
      "text/plain": [
       "{'horses': 13646,\n",
       " 'live': 14644,\n",
       " 'purebred': 17591,\n",
       " 'breeding': 7594,\n",
       " 'animals': 6701,\n",
       " 'asses': 6876,\n",
       " 'mules': 16074,\n",
       " 'hinnies': 13580,\n",
       " 'cattle': 8036,\n",
       " 'oxen': 16621,\n",
       " 'buffalo': 7675,\n",
       " 'bovine': 7537,\n",
       " 'swine': 19484,\n",
       " 'weighing': 20759,\n",
       " '50kg': 4085,\n",
       " '50': 4008,\n",
       " 'kg': 14263,\n",
       " 'sheep': 18629,\n",
       " 'goats': 13135,\n",
       " 'poultry': 17349,\n",
       " 'fowls': 12839,\n",
       " 'species': 19016,\n",
       " 'gallus': 12968,\n",
       " 'domesticus': 9745,\n",
       " '185g': 1997,\n",
       " 'turkeys': 20248,\n",
       " 'ducks': 9853,\n",
       " 'ducklings': 9852,\n",
       " 'geese': 13020,\n",
       " 'guinea': 13284,\n",
       " 'fighting': 12587,\n",
       " 'cocks': 8462,\n",
       " 'mammals': 14969,\n",
       " 'primates': 17432,\n",
       " 'whales': 20779,\n",
       " 'dolphins': 9743,\n",
       " 'porpoises': 17320,\n",
       " 'order': 16542,\n",
       " 'cetacea': 8108,\n",
       " 'manatees': 14986,\n",
       " 'dugongs': 9855,\n",
       " 'sirenia': 18778,\n",
       " 'seals': 18466,\n",
       " 'sea': 18459,\n",
       " 'lions': 14613,\n",
       " 'walruses': 20681,\n",
       " 'suborder': 19348,\n",
       " 'pinnipedia': 17089,\n",
       " 'camels': 7849,\n",
       " 'camelids': 7848,\n",
       " 'camelidae': 7847,\n",
       " 'rabbits': 17717,\n",
       " 'hares': 13455,\n",
       " 'reptiles': 17970,\n",
       " 'including': 13856,\n",
       " 'snakes': 18897,\n",
       " 'turtles': 20260,\n",
       " 'birds': 7366,\n",
       " 'prey': 17427,\n",
       " 'psittaciformes': 17538,\n",
       " 'parrots': 16775,\n",
       " 'parakeets': 16754,\n",
       " 'macaws': 14891,\n",
       " 'cockatoos': 8459,\n",
       " 'ostriches': 16583,\n",
       " 'emus': 12115,\n",
       " 'dromaius': 9814,\n",
       " 'novaehollandiae': 16351,\n",
       " 'insects': 13935,\n",
       " 'bees': 7251,\n",
       " 'chapter': 8154,\n",
       " '01': 164,\n",
       " 'meat': 15421,\n",
       " 'carcasses': 7933,\n",
       " 'halfcarcasses': 13404,\n",
       " 'fresh': 12868,\n",
       " 'chilled': 8208,\n",
       " 'cuts': 9074,\n",
       " 'bone': 7493,\n",
       " 'excluding': 12315,\n",
       " 'boneless': 7495,\n",
       " 'frozen': 12883,\n",
       " 'hams': 13421,\n",
       " 'shoulders': 18683,\n",
       " 'thereof': 19856,\n",
       " 'item': 14079,\n",
       " '0203': 366,\n",
       " 'lamb': 14406,\n",
       " 'offal': 16441,\n",
       " 'edible': 12011,\n",
       " 'tongues': 19995,\n",
       " 'livers': 14647,\n",
       " 'cut': 9068,\n",
       " 'pieces': 17053,\n",
       " 'wings': 20828,\n",
       " 'thighs': 19876,\n",
       " 'mechanically': 15430,\n",
       " 'deboned': 9359,\n",
       " 'separated': 18545,\n",
       " 'fatty': 12474,\n",
       " 'foie': 12780,\n",
       " 'gras': 13200,\n",
       " 'frogs': 12875,\n",
       " 'legs': 14510,\n",
       " 'fat': 12472,\n",
       " 'pig': 17057,\n",
       " 'free': 12854,\n",
       " 'lean': 14494,\n",
       " 'rendered': 17949,\n",
       " 'extracted': 12362,\n",
       " 'salted': 18260,\n",
       " 'brine': 7611,\n",
       " 'dried': 9795,\n",
       " 'smoked': 18887,\n",
       " 'pigs': 17061,\n",
       " 'bellies': 7263,\n",
       " 'streaky': 19287,\n",
       " '0210': 377,\n",
       " 'bacon': 7100,\n",
       " 'flours': 12727,\n",
       " 'meals': 15414,\n",
       " 'fish': 12638,\n",
       " 'ornamental': 16564,\n",
       " 'freshwater': 12869,\n",
       " 'botia': 7528,\n",
       " 'chromobotia': 8280,\n",
       " 'macracanthus': 14905,\n",
       " 'koi': 14311,\n",
       " 'carp': 7958,\n",
       " 'cyprinus': 9118,\n",
       " 'carpio': 7962,\n",
       " 'goldfish': 13143,\n",
       " 'carassius': 7906,\n",
       " 'auratus': 6921,\n",
       " 'siamese': 18703,\n",
       " 'beta': 7302,\n",
       " 'splendens': 19061,\n",
       " 'oscars': 16573,\n",
       " 'astonotus': 6885,\n",
       " 'ocellatus': 16425,\n",
       " 'arowanas': 6824,\n",
       " 'scleropages': 18412,\n",
       " 'formosus': 12820,\n",
       " 'jardini': 14116,\n",
       " 'fry': 12887,\n",
       " 'banggai': 7149,\n",
       " 'cardinal': 7944,\n",
       " 'pterapogon': 17550,\n",
       " 'kauderni': 14218,\n",
       " 'napoleon': 16155,\n",
       " 'wrasse': 22422,\n",
       " 'cheilinus': 8179,\n",
       " 'undulatus': 20355,\n",
       " 'trout': 20180,\n",
       " 'salmo': 18254,\n",
       " 'trutta': 20191,\n",
       " 'oncorhynchus': 16492,\n",
       " 'mykiss': 16118,\n",
       " 'clarki': 8359,\n",
       " 'aguabonita': 6254,\n",
       " 'gilae': 13053,\n",
       " 'apache': 6755,\n",
       " 'chrysogaster': 8284,\n",
       " 'agu': 6251,\n",
       " 'eels': 12018,\n",
       " 'anguilla': 6691,\n",
       " 'spp': 19090,\n",
       " 'ctenopharyngodon': 9023,\n",
       " 'idellus': 13787,\n",
       " 'hypophthalmichthys': 13766,\n",
       " 'cirrhinus': 8326,\n",
       " 'mylopharyngodon': 16120,\n",
       " 'piceus': 17041,\n",
       " 'catla': 8033,\n",
       " 'labeo': 14376,\n",
       " 'osteochilus': 16580,\n",
       " 'hasselti': 13465,\n",
       " 'leptobarbus': 14524,\n",
       " 'hoeveni': 13598,\n",
       " 'megalobrama': 15469,\n",
       " 'fr': 12842,\n",
       " 'atlantic': 6897,\n",
       " 'pacific': 16679,\n",
       " 'bluefin': 7452,\n",
       " 'tunas': 20233,\n",
       " 'thunnus': 19911,\n",
       " 'thynnus': 19915,\n",
       " 'orientalis': 16556,\n",
       " 'southern': 18975,\n",
       " 'maccoyii': 14892,\n",
       " 'heading': 13490,\n",
       " '0301': 522,\n",
       " 'tilapias': 19925,\n",
       " 'oreochromis': 16544,\n",
       " 'milkfish': 15773,\n",
       " 'grouper': 13254,\n",
       " 'fillets': 12602,\n",
       " '0304': 532,\n",
       " '0302': 524,\n",
       " 'salmon': 18256,\n",
       " 'nerka': 16216,\n",
       " 'gorbuscha': 13154,\n",
       " 'keta': 14245,\n",
       " 'tschawytscha': 20200,\n",
       " 'kisutch': 14279,\n",
       " 'masou': 15087,\n",
       " 'rhodurus': 18034,\n",
       " 'salar': 18246,\n",
       " 'danube': 9252,\n",
       " 'hucho': 13699,\n",
       " 'subheadings': 19341,\n",
       " '91': 5307,\n",
       " '99': 5420,\n",
       " 'salmonidae': 18257,\n",
       " 'halibut': 13405,\n",
       " 'reinhardtius': 17927,\n",
       " 'hippoglossoides': 13582,\n",
       " 'hippoglossus': 13583,\n",
       " 'stenolepis': 19213,\n",
       " 'hi': 13563,\n",
       " 'plaice': 17152,\n",
       " 'pleuronectes': 17200,\n",
       " 'platessa': 17188,\n",
       " 'sole': 18933,\n",
       " 'solea': 18934,\n",
       " 'turbots': 20246,\n",
       " 'psetta': 17535,\n",
       " 'maxima': 15136,\n",
       " 'scophthalmidae': 18419,\n",
       " 'flat': 12681,\n",
       " 'albacore': 6540,\n",
       " 'longfinned': 14693,\n",
       " 'alalunga': 6534,\n",
       " 'yellowfin': 22506,\n",
       " 'albacares': 6539,\n",
       " 'skipjack': 18819,\n",
       " 'stripebellied': 19300,\n",
       " 'bonito': 7497,\n",
       " 'bigeye': 7335,\n",
       " 'obesus': 16416,\n",
       " 'thunnu': 19910,\n",
       " 'tuna': 20232,\n",
       " 'herrings': 13542,\n",
       " 'clupea': 8418,\n",
       " 'harengus': 13454,\n",
       " 'pallasii': 16713,\n",
       " 'anchovies': 6682,\n",
       " 'engraulis': 12149,\n",
       " 'sardines': 18293,\n",
       " 'sardina': 18291,\n",
       " 'pilchardus': 17063,\n",
       " 'sardinops': 18294,\n",
       " 'sardinella': 18292,\n",
       " 'brisling': 7616,\n",
       " 'sprats': 19091,\n",
       " 'sprattus': 19092,\n",
       " 'sardin': 18290,\n",
       " 'mackerel': 14902,\n",
       " 'scomber': 18415,\n",
       " 'scombrus': 18416,\n",
       " 'australasicus': 6925,\n",
       " 'japonicus': 14115,\n",
       " 'jap': 14113,\n",
       " 'jack': 14099,\n",
       " 'horse': 13644,\n",
       " 'trachurus': 20063,\n",
       " 'cobia': 8455,\n",
       " 'rachycentron': 17722,\n",
       " 'canadum': 7858,\n",
       " 'swordfish': 19493,\n",
       " 'xiphias': 22473,\n",
       " 'gladius': 13091,\n",
       " 'cod': 8470,\n",
       " 'gadus': 12962,\n",
       " 'morhua': 15975,\n",
       " 'ogac': 16451,\n",
       " 'macrocephalus': 14908,\n",
       " 'haddock': 13387,\n",
       " 'melanogrammus': 15474,\n",
       " 'aeglefinus': 6045,\n",
       " 'coalfish': 8443,\n",
       " 'pollachius': 17246,\n",
       " 'virens': 20584,\n",
       " 'hake': 13401,\n",
       " 'merluccius': 15500,\n",
       " 'urophycis': 20425,\n",
       " 'alaska': 6538,\n",
       " 'pollack': 17247,\n",
       " 'theragra': 19851,\n",
       " 'chalcogramma': 8132,\n",
       " 'blue': 7451,\n",
       " 'whitings': 20800,\n",
       " 'micromesistius': 15749,\n",
       " 'poutassou': 17351,\n",
       " 'australis': 6927,\n",
       " 'catfish': 8025,\n",
       " 'pangasius': 16729,\n",
       " 'silurus': 18742,\n",
       " 'clarias': 8356,\n",
       " 'ictalurus': 13785,\n",
       " 'yellowtail': 22508,\n",
       " 'specified': 19019,\n",
       " 'wco': 20741,\n",
       " 'sp': 18980,\n",
       " 'nile': 16250,\n",
       " 'perch': 16906,\n",
       " 'lates': 14441,\n",
       " 'niloticus': 16252,\n",
       " 'snakeheads': 18896,\n",
       " 'channa': 8149,\n",
       " 'dogfish': 9736,\n",
       " 'sharks': 18611,\n",
       " 'rays': 17802,\n",
       " 'skates': 18801,\n",
       " 'rajidae': 17766,\n",
       " 'toothfish': 20006,\n",
       " 'dissostichus': 9638,\n",
       " 'seabass': 18460,\n",
       " 'dicentrarchus': 9519,\n",
       " 'seabream': 18461,\n",
       " 'sparidae': 18999,\n",
       " 'longfin': 14692,\n",
       " 'mojarra': 15923,\n",
       " 'pentaprion': 16894,\n",
       " 'longimanus': 14694,\n",
       " 'bluntnose': 7456,\n",
       " 'lizardfish': 14649,\n",
       " 'trachinocephalus': 20061,\n",
       " 'myops': 16121,\n",
       " 'savalai': 18317,\n",
       " 'hairtails': 13400,\n",
       " 'lepturacanthus': 14525,\n",
       " 'savala': 18316,\n",
       " 'belanger': 7259,\n",
       " 'croakers': 8976,\n",
       " 'johnius': 14141,\n",
       " 'belangerii': 7260,\n",
       " 'reeve': 17889,\n",
       " 'ch': 8124,\n",
       " 'torpedo': 20018,\n",
       " 'scads': 18338,\n",
       " 'megalaspis': 15468,\n",
       " 'cordyla': 8704,\n",
       " 'spotted': 19088,\n",
       " 'sicklefish': 18705,\n",
       " 'drepane': 9787,\n",
       " 'punctata': 17581,\n",
       " 'great': 13217,\n",
       " 'barracudas': 7174,\n",
       " 'sphyraena': 19040,\n",
       " 'black': 7400,\n",
       " 'pomfrets': 17307,\n",
       " 'parastromatus': 16760,\n",
       " 'niger': 16245,\n",
       " 'mangrove': 14997,\n",
       " 'red': 17874,\n",
       " 'snappers': 18899,\n",
       " 'lutjanus': 14763,\n",
       " 'argentimaculatus': 6809,\n",
       " 'swamp': 19468,\n",
       " 'barb': 7157,\n",
       " 'puntius': 17584,\n",
       " 'chola': 8266,\n",
       " 'indian': 13873,\n",
       " 'threadfins': 19896,\n",
       " 'polynemus': 17285,\n",
       " 'indicus': 13876,\n",
       " 'silver': 18743,\n",
       " 'grunts': 13259,\n",
       " 'pomadasys': 17303,\n",
       " 'argenteus': 6808,\n",
       " 'hilsa': 13577,\n",
       " 'shad': 18594,\n",
       " 'tenualosa': 19778,\n",
       " 'ilisha': 13803,\n",
       " 'wallago': 20672,\n",
       " 'attu': 6907,\n",
       " 'giant': 13050,\n",
       " 'rivercatfish': 18060,\n",
       " 'sperata': 19034,\n",
       " 'seenghala': 18494,\n",
       " 'roes': 18097,\n",
       " 'milt': 15782,\n",
       " 'shark': 18610,\n",
       " 'fins': 12624,\n",
       " 'heads': 13495,\n",
       " 'tails': 19556,\n",
       " 'maws': 15132,\n",
       " 'sockeye': 18915,\n",
       " '0303': 525,\n",
       " 'myloph': 16119,\n",
       " 'pilchard': 17062,\n",
       " 'mackerels': 14903,\n",
       " 'rastrelliger': 17790,\n",
       " 'kanagurta': 14208,\n",
       " 'island': 14056,\n",
       " 'faughni': 12475,\n",
       " 'pampus': 16722,\n",
       " 'theraga': 19850,\n",
       " 'bregmacerotidae': 7596,\n",
       " 'euclichthyidae': 12267,\n",
       " 'gadidae': 12961,\n",
       " 'macrouridae': 14910,\n",
       " 'melanonidae': 15475,\n",
       " 'merlucciidae': 15499,\n",
       " 'moridae': 15976,\n",
       " 'muraenolepididae': 16095,\n",
       " 'chrysochir': 8283,\n",
       " 'barracuda': 7173,\n",
       " 'clark': 8358,\n",
       " 'pleuronectidae': 17201,\n",
       " 'bothidae': 7527,\n",
       " 'cynoglossidae': 9117,\n",
       " 'soleidae': 18936,\n",
       " 'citharidae': 8330,\n",
       " 'families': 12460,\n",
       " 'minced': 15784,\n",
       " 'ca': 7785,\n",
       " 'oncorhy': 16490,\n",
       " 'genus': 13038,\n",
       " 'euthynnus': 12269,\n",
       " 'katsuwonus': 14217,\n",
       " 'pelamis': 16867,\n",
       " 'pellets': 16871,\n",
       " 'fit': 12645,\n",
       " 'human': 13704,\n",
       " 'consumption': 8637,\n",
       " 'macr': 14904,\n",
       " '0305': 533,\n",
       " 'garfish': 12982,\n",
       " 'xenentodon': 22469,\n",
       " 'cancila': 7862,\n",
       " 'yellowstriped': 22507,\n",
       " 'goatfish': 13134,\n",
       " 'upeneus': 20411,\n",
       " 'vittatus': 20602,\n",
       " 'longrakered': 14696,\n",
       " 'trevally': 20128,\n",
       " 'ulua': 20330,\n",
       " 'mentalis': 15485,\n",
       " 'aureus': 6922,\n",
       " 'pennahia': 16886,\n",
       " 'anea': 6684,\n",
       " 'marine': 15065,\n",
       " 'cooked': 8673,\n",
       " 'smoking': 18888,\n",
       " 'includes': 13854,\n",
       " 'excludes': 12314,\n",
       " 'oncorhynchu': 16491,\n",
       " 'ctenop': 9022,\n",
       " 'incl': 13849,\n",
       " 'seerfishes': 18495,\n",
       " 'jacks': 14104,\n",
       " 'crevalles': 8965,\n",
       " 'saury': 18310,\n",
       " 'capelin': 7885,\n",
       " 'kawakawa': 14219,\n",
       " 'bonitos': 7498,\n",
       " 'marlins': 15072,\n",
       " 'sailfishes': 18237,\n",
       " 'spearfish': 19010,\n",
       " 'stolephorus': 19253,\n",
       " 'coilia': 8479,\n",
       " 'setipinna': 18575,\n",
       " 'lycothrissa': 14778,\n",
       " 'thryssa': 19909,\n",
       " 'encrasicholina': 12129,\n",
       " 'harengas': 13453,\n",
       " 'engrails': 12148,\n",
       " 'crustaceans': 9008,\n",
       " 'rock': 18088,\n",
       " 'lobsters': 14663,\n",
       " 'crawfish': 8926,\n",
       " 'palinurus': 16711,\n",
       " 'panulirus': 16736,\n",
       " 'jasus': 14119,\n",
       " 'shell': 18635,\n",
       " 'steaming': 19198,\n",
       " 'boiling': 7483,\n",
       " 'water': 20705,\n",
       " 'homarus': 13612,\n",
       " 'crabs': 8910,\n",
       " 'soft': 18921,\n",
       " 'norway': 16337,\n",
       " 'nephrops': 16213,\n",
       " 'norvegicus': 16336,\n",
       " 'coldwater': 8496,\n",
       " 'shrimps': 18692,\n",
       " 'prawns': 17376,\n",
       " 'pandalus': 16726,\n",
       " 'crangon': 8918,\n",
       " 'cra': 8908,\n",
       " 'varieties': 20492,\n",
       " 'headless': 13492,\n",
       " 'tail': 19553,\n",
       " 'river': 18059,\n",
       " 'macrobrachium': 14906,\n",
       " 'rosenbergii': 18123,\n",
       " '0306': 534,\n",
       " 'tiger': 19923,\n",
       " 'penaeus': 16874,\n",
       " 'monodon': 15955,\n",
       " 'whiteleg': 20798,\n",
       " 'litopenaeus': 14640,\n",
       " 'vannamei': 20485,\n",
       " 'molluscs': 15931,\n",
       " 'oysters': 16637,\n",
       " 'process': 17455,\n",
       " 'scallops': 18348,\n",
       " 'queen': 17653,\n",
       " 'genera': 13027,\n",
       " 'pecten': 16850,\n",
       " 'chlamys': 8230,\n",
       " 'placopecten': 17150,\n",
       " 'mussels': 16107,\n",
       " 'mytilus': 16123,\n",
       " 'perna': 16934,\n",
       " 'cuttle': 9081,\n",
       " 'squid': 19122,\n",
       " 'sepia': 18551,\n",
       " 'officinalis': 16448,\n",
       " 'rossia': 18126,\n",
       " 'macrosoma': 14909,\n",
       " 'sepiola': 18552,\n",
       " 'ommastrephes': 16486,\n",
       " 'loligo': 14685"
      ]
     },
     "execution_count": 13,
     "metadata": {},
     "output_type": "execute_result"
    },
    {
     "data": {
      "text/html": [
       "<b>limit_output extension: Maximum message size of 10000 exceeded with 18770 characters</b>"
      ]
     },
     "metadata": {},
     "output_type": "display_data"
    }
   ],
   "source": [
    "#เริ่มตัดคำ\n",
    "\n",
    "count_train = vect.fit(arr_text)\n",
    "\n",
    "#ดู vocabulary_\n",
    "\n",
    "vect.vocabulary_"
   ]
  },
  {
   "cell_type": "code",
   "execution_count": 14,
   "metadata": {
    "ExecuteTime": {
     "end_time": "2020-11-02T04:10:07.499623Z",
     "start_time": "2020-11-02T04:10:06.615156Z"
    }
   },
   "outputs": [
    {
     "data": {
      "text/plain": [
       "<97288x22572 sparse matrix of type '<class 'numpy.int64'>'\n",
       "\twith 411681 stored elements in Compressed Sparse Row format>"
      ]
     },
     "execution_count": 14,
     "metadata": {},
     "output_type": "execute_result"
    }
   ],
   "source": [
    "#ทำ transform ให้อยู่ในรูปแบบ One Hot Encoding\n",
    "\n",
    "transformer = vect.transform(arr_text)\n",
    "transformer"
   ]
  },
  {
   "cell_type": "code",
   "execution_count": 15,
   "metadata": {
    "ExecuteTime": {
     "end_time": "2020-11-02T04:10:08.431556Z",
     "start_time": "2020-11-02T04:10:07.615550Z"
    }
   },
   "outputs": [
    {
     "ename": "ValueError",
     "evalue": "array is too big; `arr.size * arr.dtype.itemsize` is larger than the maximum possible size.",
     "output_type": "error",
     "traceback": [
      "\u001b[1;31m---------------------------------------------------------------------------\u001b[0m",
      "\u001b[1;31mValueError\u001b[0m                                Traceback (most recent call last)",
      "\u001b[1;32m<ipython-input-15-1f508ac826fb>\u001b[0m in \u001b[0;36m<module>\u001b[1;34m\u001b[0m\n\u001b[0;32m      1\u001b[0m \u001b[1;31m#ดูผลลัพท์ matrix ที่ได้โดย array จะประกอบด้วย context ใน 1 paragraph หากมี word ใน context ให้ค่าเป็น 1 และหากไม่มี word ใน context ให้ค่าเป็น 0\u001b[0m\u001b[1;33m\u001b[0m\u001b[1;33m\u001b[0m\u001b[1;33m\u001b[0m\u001b[0m\n\u001b[0;32m      2\u001b[0m \u001b[1;33m\u001b[0m\u001b[0m\n\u001b[1;32m----> 3\u001b[1;33m \u001b[0mprint\u001b[0m\u001b[1;33m(\u001b[0m\u001b[0mtransformer\u001b[0m\u001b[1;33m.\u001b[0m\u001b[0mtoarray\u001b[0m\u001b[1;33m(\u001b[0m\u001b[1;33m)\u001b[0m\u001b[1;33m)\u001b[0m\u001b[1;33m\u001b[0m\u001b[1;33m\u001b[0m\u001b[0m\n\u001b[0m",
      "\u001b[1;32mC:\\ProgramData\\Anaconda3\\lib\\site-packages\\scipy\\sparse\\compressed.py\u001b[0m in \u001b[0;36mtoarray\u001b[1;34m(self, order, out)\u001b[0m\n\u001b[0;32m   1023\u001b[0m         \u001b[1;32mif\u001b[0m \u001b[0mout\u001b[0m \u001b[1;32mis\u001b[0m \u001b[1;32mNone\u001b[0m \u001b[1;32mand\u001b[0m \u001b[0morder\u001b[0m \u001b[1;32mis\u001b[0m \u001b[1;32mNone\u001b[0m\u001b[1;33m:\u001b[0m\u001b[1;33m\u001b[0m\u001b[1;33m\u001b[0m\u001b[0m\n\u001b[0;32m   1024\u001b[0m             \u001b[0morder\u001b[0m \u001b[1;33m=\u001b[0m \u001b[0mself\u001b[0m\u001b[1;33m.\u001b[0m\u001b[0m_swap\u001b[0m\u001b[1;33m(\u001b[0m\u001b[1;34m'cf'\u001b[0m\u001b[1;33m)\u001b[0m\u001b[1;33m[\u001b[0m\u001b[1;36m0\u001b[0m\u001b[1;33m]\u001b[0m\u001b[1;33m\u001b[0m\u001b[1;33m\u001b[0m\u001b[0m\n\u001b[1;32m-> 1025\u001b[1;33m         \u001b[0mout\u001b[0m \u001b[1;33m=\u001b[0m \u001b[0mself\u001b[0m\u001b[1;33m.\u001b[0m\u001b[0m_process_toarray_args\u001b[0m\u001b[1;33m(\u001b[0m\u001b[0morder\u001b[0m\u001b[1;33m,\u001b[0m \u001b[0mout\u001b[0m\u001b[1;33m)\u001b[0m\u001b[1;33m\u001b[0m\u001b[1;33m\u001b[0m\u001b[0m\n\u001b[0m\u001b[0;32m   1026\u001b[0m         \u001b[1;32mif\u001b[0m \u001b[1;32mnot\u001b[0m \u001b[1;33m(\u001b[0m\u001b[0mout\u001b[0m\u001b[1;33m.\u001b[0m\u001b[0mflags\u001b[0m\u001b[1;33m.\u001b[0m\u001b[0mc_contiguous\u001b[0m \u001b[1;32mor\u001b[0m \u001b[0mout\u001b[0m\u001b[1;33m.\u001b[0m\u001b[0mflags\u001b[0m\u001b[1;33m.\u001b[0m\u001b[0mf_contiguous\u001b[0m\u001b[1;33m)\u001b[0m\u001b[1;33m:\u001b[0m\u001b[1;33m\u001b[0m\u001b[1;33m\u001b[0m\u001b[0m\n\u001b[0;32m   1027\u001b[0m             \u001b[1;32mraise\u001b[0m \u001b[0mValueError\u001b[0m\u001b[1;33m(\u001b[0m\u001b[1;34m'Output array must be C or F contiguous'\u001b[0m\u001b[1;33m)\u001b[0m\u001b[1;33m\u001b[0m\u001b[1;33m\u001b[0m\u001b[0m\n",
      "\u001b[1;32mC:\\ProgramData\\Anaconda3\\lib\\site-packages\\scipy\\sparse\\base.py\u001b[0m in \u001b[0;36m_process_toarray_args\u001b[1;34m(self, order, out)\u001b[0m\n\u001b[0;32m   1183\u001b[0m             \u001b[1;32mreturn\u001b[0m \u001b[0mout\u001b[0m\u001b[1;33m\u001b[0m\u001b[1;33m\u001b[0m\u001b[0m\n\u001b[0;32m   1184\u001b[0m         \u001b[1;32melse\u001b[0m\u001b[1;33m:\u001b[0m\u001b[1;33m\u001b[0m\u001b[1;33m\u001b[0m\u001b[0m\n\u001b[1;32m-> 1185\u001b[1;33m             \u001b[1;32mreturn\u001b[0m \u001b[0mnp\u001b[0m\u001b[1;33m.\u001b[0m\u001b[0mzeros\u001b[0m\u001b[1;33m(\u001b[0m\u001b[0mself\u001b[0m\u001b[1;33m.\u001b[0m\u001b[0mshape\u001b[0m\u001b[1;33m,\u001b[0m \u001b[0mdtype\u001b[0m\u001b[1;33m=\u001b[0m\u001b[0mself\u001b[0m\u001b[1;33m.\u001b[0m\u001b[0mdtype\u001b[0m\u001b[1;33m,\u001b[0m \u001b[0morder\u001b[0m\u001b[1;33m=\u001b[0m\u001b[0morder\u001b[0m\u001b[1;33m)\u001b[0m\u001b[1;33m\u001b[0m\u001b[1;33m\u001b[0m\u001b[0m\n\u001b[0m\u001b[0;32m   1186\u001b[0m \u001b[1;33m\u001b[0m\u001b[0m\n\u001b[0;32m   1187\u001b[0m \u001b[1;33m\u001b[0m\u001b[0m\n",
      "\u001b[1;31mValueError\u001b[0m: array is too big; `arr.size * arr.dtype.itemsize` is larger than the maximum possible size."
     ]
    }
   ],
   "source": [
    "#ดูผลลัพท์ matrix ที่ได้โดย array จะประกอบด้วย context ใน 1 paragraph หากมี word ใน context ให้ค่าเป็น 1 และหากไม่มี word ใน context ให้ค่าเป็น 0\n",
    "\n",
    "print(transformer.toarray())"
   ]
  },
  {
   "cell_type": "code",
   "execution_count": 17,
   "metadata": {
    "ExecuteTime": {
     "end_time": "2020-11-02T04:10:08.575466Z",
     "start_time": "2020-11-02T04:10:08.542487Z"
    }
   },
   "outputs": [
    {
     "data": {
      "text/plain": [
       "array([ 8.59361063,  7.26507511, 10.28820635, ..., 10.18284584,\n",
       "       10.18284584, 10.18284584])"
      ]
     },
     "execution_count": 17,
     "metadata": {},
     "output_type": "execute_result"
    }
   ],
   "source": [
    "# เตรียม tf-idf\n",
    "\n",
    "from sklearn.feature_extraction.text import TfidfTransformer\n",
    "# Config tf-idf\n",
    "\n",
    "tfidf_transformer = TfidfTransformer(smooth_idf=False,).fit(transformer)\n",
    "\n",
    "#show ค่า idf\n",
    "\n",
    "tfidf_transformer.idf_"
   ]
  },
  {
   "cell_type": "code",
   "execution_count": 18,
   "metadata": {
    "ExecuteTime": {
     "end_time": "2020-11-02T04:11:43.636268Z",
     "start_time": "2020-11-02T04:11:43.626276Z"
    }
   },
   "outputs": [
    {
     "data": {
      "text/plain": [
       "array(['01', '01', '01', ..., '84', '84', '84'], dtype=object)"
      ]
     },
     "execution_count": 18,
     "metadata": {},
     "output_type": "execute_result"
    }
   ],
   "source": [
    "from sklearn.naive_bayes import MultinomialNB\n",
    "\n",
    "#เตรียม Class ในรูปแบบ array เหมือน arr_text\n",
    "\n",
    "arr_class=df.iloc[:]['chapter'].values\n",
    "arr_class"
   ]
  },
  {
   "cell_type": "code",
   "execution_count": 19,
   "metadata": {
    "ExecuteTime": {
     "end_time": "2020-11-02T04:11:44.148060Z",
     "start_time": "2020-11-02T04:11:44.108084Z"
    }
   },
   "outputs": [
    {
     "name": "stdout",
     "output_type": "stream",
     "text": [
      "(97288, 22572)\n"
     ]
    }
   ],
   "source": [
    "#เตรียม train จาก transformer\n",
    "\n",
    "messages_tfidf = tfidf_transformer.transform(transformer)\n",
    "print (messages_tfidf.shape)"
   ]
  },
  {
   "cell_type": "code",
   "execution_count": 20,
   "metadata": {
    "ExecuteTime": {
     "end_time": "2020-11-02T04:11:46.704206Z",
     "start_time": "2020-11-02T04:11:46.236642Z"
    }
   },
   "outputs": [
    {
     "ename": "ValueError",
     "evalue": "array is too big; `arr.size * arr.dtype.itemsize` is larger than the maximum possible size.",
     "output_type": "error",
     "traceback": [
      "\u001b[1;31m---------------------------------------------------------------------------\u001b[0m",
      "\u001b[1;31mValueError\u001b[0m                                Traceback (most recent call last)",
      "\u001b[1;32m<ipython-input-20-7c0be9d394a1>\u001b[0m in \u001b[0;36m<module>\u001b[1;34m\u001b[0m\n\u001b[1;32m----> 1\u001b[1;33m \u001b[0mmessages_tfidf\u001b[0m\u001b[1;33m.\u001b[0m\u001b[0mtoarray\u001b[0m\u001b[1;33m(\u001b[0m\u001b[1;33m)\u001b[0m\u001b[1;33m\u001b[0m\u001b[1;33m\u001b[0m\u001b[0m\n\u001b[0m",
      "\u001b[1;32mC:\\ProgramData\\Anaconda3\\lib\\site-packages\\scipy\\sparse\\compressed.py\u001b[0m in \u001b[0;36mtoarray\u001b[1;34m(self, order, out)\u001b[0m\n\u001b[0;32m   1023\u001b[0m         \u001b[1;32mif\u001b[0m \u001b[0mout\u001b[0m \u001b[1;32mis\u001b[0m \u001b[1;32mNone\u001b[0m \u001b[1;32mand\u001b[0m \u001b[0morder\u001b[0m \u001b[1;32mis\u001b[0m \u001b[1;32mNone\u001b[0m\u001b[1;33m:\u001b[0m\u001b[1;33m\u001b[0m\u001b[1;33m\u001b[0m\u001b[0m\n\u001b[0;32m   1024\u001b[0m             \u001b[0morder\u001b[0m \u001b[1;33m=\u001b[0m \u001b[0mself\u001b[0m\u001b[1;33m.\u001b[0m\u001b[0m_swap\u001b[0m\u001b[1;33m(\u001b[0m\u001b[1;34m'cf'\u001b[0m\u001b[1;33m)\u001b[0m\u001b[1;33m[\u001b[0m\u001b[1;36m0\u001b[0m\u001b[1;33m]\u001b[0m\u001b[1;33m\u001b[0m\u001b[1;33m\u001b[0m\u001b[0m\n\u001b[1;32m-> 1025\u001b[1;33m         \u001b[0mout\u001b[0m \u001b[1;33m=\u001b[0m \u001b[0mself\u001b[0m\u001b[1;33m.\u001b[0m\u001b[0m_process_toarray_args\u001b[0m\u001b[1;33m(\u001b[0m\u001b[0morder\u001b[0m\u001b[1;33m,\u001b[0m \u001b[0mout\u001b[0m\u001b[1;33m)\u001b[0m\u001b[1;33m\u001b[0m\u001b[1;33m\u001b[0m\u001b[0m\n\u001b[0m\u001b[0;32m   1026\u001b[0m         \u001b[1;32mif\u001b[0m \u001b[1;32mnot\u001b[0m \u001b[1;33m(\u001b[0m\u001b[0mout\u001b[0m\u001b[1;33m.\u001b[0m\u001b[0mflags\u001b[0m\u001b[1;33m.\u001b[0m\u001b[0mc_contiguous\u001b[0m \u001b[1;32mor\u001b[0m \u001b[0mout\u001b[0m\u001b[1;33m.\u001b[0m\u001b[0mflags\u001b[0m\u001b[1;33m.\u001b[0m\u001b[0mf_contiguous\u001b[0m\u001b[1;33m)\u001b[0m\u001b[1;33m:\u001b[0m\u001b[1;33m\u001b[0m\u001b[1;33m\u001b[0m\u001b[0m\n\u001b[0;32m   1027\u001b[0m             \u001b[1;32mraise\u001b[0m \u001b[0mValueError\u001b[0m\u001b[1;33m(\u001b[0m\u001b[1;34m'Output array must be C or F contiguous'\u001b[0m\u001b[1;33m)\u001b[0m\u001b[1;33m\u001b[0m\u001b[1;33m\u001b[0m\u001b[0m\n",
      "\u001b[1;32mC:\\ProgramData\\Anaconda3\\lib\\site-packages\\scipy\\sparse\\base.py\u001b[0m in \u001b[0;36m_process_toarray_args\u001b[1;34m(self, order, out)\u001b[0m\n\u001b[0;32m   1183\u001b[0m             \u001b[1;32mreturn\u001b[0m \u001b[0mout\u001b[0m\u001b[1;33m\u001b[0m\u001b[1;33m\u001b[0m\u001b[0m\n\u001b[0;32m   1184\u001b[0m         \u001b[1;32melse\u001b[0m\u001b[1;33m:\u001b[0m\u001b[1;33m\u001b[0m\u001b[1;33m\u001b[0m\u001b[0m\n\u001b[1;32m-> 1185\u001b[1;33m             \u001b[1;32mreturn\u001b[0m \u001b[0mnp\u001b[0m\u001b[1;33m.\u001b[0m\u001b[0mzeros\u001b[0m\u001b[1;33m(\u001b[0m\u001b[0mself\u001b[0m\u001b[1;33m.\u001b[0m\u001b[0mshape\u001b[0m\u001b[1;33m,\u001b[0m \u001b[0mdtype\u001b[0m\u001b[1;33m=\u001b[0m\u001b[0mself\u001b[0m\u001b[1;33m.\u001b[0m\u001b[0mdtype\u001b[0m\u001b[1;33m,\u001b[0m \u001b[0morder\u001b[0m\u001b[1;33m=\u001b[0m\u001b[0morder\u001b[0m\u001b[1;33m)\u001b[0m\u001b[1;33m\u001b[0m\u001b[1;33m\u001b[0m\u001b[0m\n\u001b[0m\u001b[0;32m   1186\u001b[0m \u001b[1;33m\u001b[0m\u001b[0m\n\u001b[0;32m   1187\u001b[0m \u001b[1;33m\u001b[0m\u001b[0m\n",
      "\u001b[1;31mValueError\u001b[0m: array is too big; `arr.size * arr.dtype.itemsize` is larger than the maximum possible size."
     ]
    }
   ],
   "source": [
    "messages_tfidf.toarray()"
   ]
  },
  {
   "cell_type": "code",
   "execution_count": 21,
   "metadata": {
    "ExecuteTime": {
     "end_time": "2020-11-02T04:11:49.210029Z",
     "start_time": "2020-11-02T04:11:47.739360Z"
    }
   },
   "outputs": [
    {
     "name": "stdout",
     "output_type": "stream",
     "text": [
      "(77830, 22572) (19458, 22572) (77830,) (19458,)\n"
     ]
    }
   ],
   "source": [
    "#สร้าง Model\n",
    "\n",
    "detect_model = MultinomialNB().fit(messages_tfidf,arr_class)\n",
    "\n",
    "from sklearn.model_selection import train_test_split\n",
    "x_train,x_test,y_train, y_test = train_test_split( messages_tfidf,arr_class, test_size = 0.2, random_state=7)\n",
    "\n",
    "print(x_train.shape, x_test.shape, y_train.shape, y_test.shape)\n",
    "\n",
    "detect_model =MultinomialNB().fit(x_train,y_train)\n",
    "#detect_model = MultinomialNB().fit(messages_tfidf,arr_class)"
   ]
  },
  {
   "cell_type": "code",
   "execution_count": 22,
   "metadata": {
    "ExecuteTime": {
     "end_time": "2020-11-02T04:11:50.023598Z",
     "start_time": "2020-11-02T04:11:49.959639Z"
    }
   },
   "outputs": [
    {
     "name": "stdout",
     "output_type": "stream",
     "text": [
      "0.8902251002158496\n"
     ]
    }
   ],
   "source": [
    "print(detect_model.score(x_test, y_test))"
   ]
  },
  {
   "cell_type": "markdown",
   "metadata": {},
   "source": [
    "## ทดสอบการทำนาย"
   ]
  },
  {
   "cell_type": "code",
   "execution_count": 23,
   "metadata": {
    "ExecuteTime": {
     "end_time": "2020-11-02T04:12:11.521471Z",
     "start_time": "2020-11-02T04:12:11.516474Z"
    }
   },
   "outputs": [],
   "source": [
    "products = 'horses; live'"
   ]
  },
  {
   "cell_type": "code",
   "execution_count": 34,
   "metadata": {
    "ExecuteTime": {
     "end_time": "2020-11-02T06:10:54.292408Z",
     "start_time": "2020-11-02T06:10:54.281415Z"
    }
   },
   "outputs": [],
   "source": [
    "products = 'pencil'"
   ]
  },
  {
   "cell_type": "code",
   "execution_count": 35,
   "metadata": {
    "ExecuteTime": {
     "end_time": "2020-11-02T06:10:54.943613Z",
     "start_time": "2020-11-02T06:10:54.937618Z"
    }
   },
   "outputs": [],
   "source": [
    "t0=vect.transform([products])\n",
    "\n",
    "#แปลงเป็น vector\n",
    "\n",
    "txt = t0.toarray()"
   ]
  },
  {
   "cell_type": "code",
   "execution_count": 36,
   "metadata": {
    "ExecuteTime": {
     "end_time": "2020-11-02T06:10:55.765616Z",
     "start_time": "2020-11-02T06:10:55.754623Z"
    }
   },
   "outputs": [
    {
     "name": "stdout",
     "output_type": "stream",
     "text": [
      "Predicted:  ['84']\n"
     ]
    }
   ],
   "source": [
    "print ('Predicted: ',detect_model.predict(txt) )"
   ]
  },
  {
   "cell_type": "code",
   "execution_count": 26,
   "metadata": {
    "ExecuteTime": {
     "end_time": "2020-11-02T04:12:26.167595Z",
     "start_time": "2020-11-02T04:12:26.019689Z"
    }
   },
   "outputs": [
    {
     "name": "stdout",
     "output_type": "stream",
     "text": [
      "['85' '85' '84' ... '84' '84' '84']\n"
     ]
    }
   ],
   "source": [
    "#เห็นว่าคำทำนายออกมาเป็น london ตรงกับ Expected\n",
    "#นำ data ทั้งหมดที่ train ไป test มันก็ควรจะตรง(Expected คือ 100%)\n",
    "\n",
    "all_predictions = detect_model.predict(messages_tfidf)\n",
    "print(all_predictions)"
   ]
  },
  {
   "cell_type": "code",
   "execution_count": 27,
   "metadata": {
    "ExecuteTime": {
     "end_time": "2020-11-02T04:12:28.800820Z",
     "start_time": "2020-11-02T04:12:27.082887Z"
    }
   },
   "outputs": [
    {
     "name": "stderr",
     "output_type": "stream",
     "text": [
      "C:\\ProgramData\\Anaconda3\\lib\\site-packages\\sklearn\\metrics\\_classification.py:1221: UndefinedMetricWarning: Precision and F-score are ill-defined and being set to 0.0 in labels with no predicted samples. Use `zero_division` parameter to control this behavior.\n",
      "  _warn_prf(average, modifier, msg_start, len(result))\n"
     ]
    },
    {
     "name": "stdout",
     "output_type": "stream",
     "text": [
      "              precision    recall  f1-score   support\n",
      "\n",
      "          01       1.00      0.18      0.31        49\n",
      "          02       0.98      0.94      0.96       315\n",
      "          03       0.86      0.98      0.92       410\n",
      "          04       0.95      0.65      0.77        65\n",
      "          05       0.00      0.00      0.00        27\n",
      "          06       0.00      0.00      0.00        28\n",
      "          07       1.00      0.61      0.76       117\n",
      "          08       1.00      0.22      0.36        95\n",
      "          09       1.00      0.63      0.77       110\n",
      "          10       1.00      0.25      0.41       110\n",
      "          11       0.00      0.00      0.00        41\n",
      "          12       1.00      0.21      0.34        82\n",
      "          13       1.00      0.45      0.62        66\n",
      "          14       0.00      0.00      0.00        14\n",
      "          15       1.00      0.88      0.94       199\n",
      "          16       1.00      0.48      0.65        83\n",
      "          17       0.00      0.00      0.00        43\n",
      "          18       0.00      0.00      0.00        16\n",
      "          19       0.97      0.28      0.44       116\n",
      "          20       0.99      0.92      0.95        89\n",
      "          21       0.00      0.00      0.00        73\n",
      "          22       1.00      0.94      0.97       573\n",
      "          23       0.99      0.99      0.99      1082\n",
      "          24       1.00      0.12      0.22       121\n",
      "          25       1.00      0.07      0.14        94\n",
      "          26       0.00      0.00      0.00        42\n",
      "          27       0.91      0.73      0.81       405\n",
      "          28       1.00      0.19      0.32       259\n",
      "          29       0.95      0.82      0.88       457\n",
      "          30       1.00      0.71      0.83       110\n",
      "          31       0.00      0.00      0.00        32\n",
      "          32       1.00      0.30      0.46       125\n",
      "          33       0.00      0.00      0.00        68\n",
      "          34       1.00      0.07      0.13       158\n",
      "          35       0.00      0.00      0.00        34\n",
      "          36       0.00      0.00      0.00        17\n",
      "          37       1.00      0.51      0.67        53\n",
      "          38       0.99      0.51      0.68       329\n",
      "          39       0.90      0.90      0.90      4226\n",
      "          40       1.00      0.29      0.45       971\n",
      "          41       1.00      0.36      0.53        47\n",
      "          42       0.00      0.00      0.00        65\n",
      "          43       0.00      0.00      0.00        17\n",
      "          44       1.00      0.57      0.73       234\n",
      "          45       0.00      0.00      0.00         8\n",
      "          46       0.00      0.00      0.00        30\n",
      "          47       0.00      0.00      0.00        22\n",
      "          48       0.91      0.90      0.91      1859\n",
      "          49       1.00      0.58      0.74       130\n",
      "          50       1.00      0.02      0.04       101\n",
      "          51       0.00      0.00      0.00        40\n",
      "          52       0.82      0.63      0.71       362\n",
      "          53       0.00      0.00      0.00        32\n",
      "          54       0.90      0.99      0.94      1435\n",
      "          55       0.92      0.39      0.55       118\n",
      "          56       1.00      0.01      0.02        96\n",
      "          57       1.00      0.46      0.63        63\n",
      "          58       0.91      0.95      0.93      2626\n",
      "          59       0.00      0.00      0.00        60\n",
      "          60       0.95      0.95      0.95      3663\n",
      "          61       0.00      0.00      0.00       164\n",
      "          62       0.95      1.00      0.97      8326\n",
      "          63       0.00      0.00      0.00       203\n",
      "          64       1.00      0.25      0.41        63\n",
      "          65       0.00      0.00      0.00        25\n",
      "          66       0.00      0.00      0.00        11\n",
      "          67       0.00      0.00      0.00        11\n",
      "          68       1.00      0.04      0.08        95\n",
      "          69       1.00      0.31      0.47        81\n",
      "          70       1.00      0.72      0.83       490\n",
      "          71       1.00      0.09      0.17        97\n",
      "          72       0.96      0.99      0.98      4307\n",
      "          73       0.90      0.92      0.91      5940\n",
      "          74       1.00      0.07      0.13       206\n",
      "          75       0.00      0.00      0.00        23\n",
      "          76       1.00      0.64      0.78       432\n",
      "          78       0.00      0.00      0.00        24\n",
      "          79       0.00      0.00      0.00        17\n",
      "          80       0.00      0.00      0.00        13\n",
      "          81       0.00      0.00      0.00        53\n",
      "          82       1.00      0.28      0.44       251\n",
      "          83       0.98      0.97      0.98      2188\n",
      "          84       0.85      0.99      0.91     29841\n",
      "          85       0.92      0.92      0.92     16433\n",
      "          86       0.00      0.00      0.00        26\n",
      "          87       0.98      0.99      0.99      3903\n",
      "          88       0.00      0.00      0.00        22\n",
      "          89       1.00      0.08      0.14        52\n",
      "          90       1.00      0.31      0.47       479\n",
      "          91       0.00      0.00      0.00        55\n",
      "          92       0.00      0.00      0.00        21\n",
      "          93       0.00      0.00      0.00        31\n",
      "          94       1.00      0.52      0.69       851\n",
      "          95       1.00      0.41      0.58        66\n",
      "          96       1.00      0.01      0.02       166\n",
      "          97       0.00      0.00      0.00         9\n",
      "          99       0.00      0.00      0.00         1\n",
      "\n",
      "    accuracy                           0.90     97288\n",
      "   macro avg       0.60      0.33      0.38     97288\n",
      "weighted avg       0.90      0.90      0.88     97288\n",
      "\n"
     ]
    }
   ],
   "source": [
    "#ดูค่า Performance\n",
    "\n",
    "from sklearn.metrics import classification_report\n",
    "print (classification_report(arr_class, all_predictions))"
   ]
  },
  {
   "cell_type": "code",
   "execution_count": null,
   "metadata": {},
   "outputs": [],
   "source": []
  },
  {
   "cell_type": "code",
   "execution_count": null,
   "metadata": {},
   "outputs": [],
   "source": []
  }
 ],
 "metadata": {
  "hide_input": false,
  "kernelspec": {
   "display_name": "Python 3",
   "language": "python",
   "name": "python3"
  },
  "language_info": {
   "codemirror_mode": {
    "name": "ipython",
    "version": 3
   },
   "file_extension": ".py",
   "mimetype": "text/x-python",
   "name": "python",
   "nbconvert_exporter": "python",
   "pygments_lexer": "ipython3",
   "version": "3.8.3"
  },
  "nbTranslate": {
   "displayLangs": [
    "*"
   ],
   "hotkey": "alt-t",
   "langInMainMenu": true,
   "sourceLang": "en",
   "targetLang": "fr",
   "useGoogleTranslate": true
  },
  "toc": {
   "base_numbering": 1,
   "nav_menu": {},
   "number_sections": false,
   "sideBar": true,
   "skip_h1_title": false,
   "title_cell": "Table of Contents",
   "title_sidebar": "Contents",
   "toc_cell": false,
   "toc_position": {
    "height": "calc(100% - 180px)",
    "left": "10px",
    "top": "150px",
    "width": "383.991px"
   },
   "toc_section_display": true,
   "toc_window_display": true
  },
  "varInspector": {
   "cols": {
    "lenName": 16,
    "lenType": 16,
    "lenVar": 40
   },
   "kernels_config": {
    "python": {
     "delete_cmd_postfix": "",
     "delete_cmd_prefix": "del ",
     "library": "var_list.py",
     "varRefreshCmd": "print(var_dic_list())"
    },
    "r": {
     "delete_cmd_postfix": ") ",
     "delete_cmd_prefix": "rm(",
     "library": "var_list.r",
     "varRefreshCmd": "cat(var_dic_list()) "
    }
   },
   "types_to_exclude": [
    "module",
    "function",
    "builtin_function_or_method",
    "instance",
    "_Feature"
   ],
   "window_display": false
  }
 },
 "nbformat": 4,
 "nbformat_minor": 2
}
