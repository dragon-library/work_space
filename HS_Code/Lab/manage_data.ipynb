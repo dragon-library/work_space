{
 "cells": [
  {
   "cell_type": "code",
   "execution_count": 1,
   "metadata": {
    "ExecuteTime": {
     "end_time": "2020-11-16T18:22:24.461856Z",
     "start_time": "2020-11-16T18:22:23.353000Z"
    }
   },
   "outputs": [],
   "source": [
    "import warnings\n",
    "warnings.filterwarnings('ignore')\n",
    "%matplotlib inline\n",
    "\n",
    "import numpy as np\n",
    "import pandas as pd\n",
    "\n",
    "urls = 'data/hs_code.xlsx'\n",
    "\n",
    "def get_data(sheets):\n",
    "    data = pd.read_excel(urls,sheet_name= sheets)\n",
    "    \n",
    "    return data"
   ]
  },
  {
   "cell_type": "code",
   "execution_count": 4,
   "metadata": {
    "ExecuteTime": {
     "end_time": "2020-11-16T18:26:24.025171Z",
     "start_time": "2020-11-16T18:26:05.286685Z"
    }
   },
   "outputs": [
    {
     "data": {
      "text/html": [
       "<div>\n",
       "<style scoped>\n",
       "    .dataframe tbody tr th:only-of-type {\n",
       "        vertical-align: middle;\n",
       "    }\n",
       "\n",
       "    .dataframe tbody tr th {\n",
       "        vertical-align: top;\n",
       "    }\n",
       "\n",
       "    .dataframe thead th {\n",
       "        text-align: right;\n",
       "    }\n",
       "</style>\n",
       "<table border=\"1\" class=\"dataframe\">\n",
       "  <thead>\n",
       "    <tr style=\"text-align: right;\">\n",
       "      <th></th>\n",
       "      <th>no.</th>\n",
       "      <th>section</th>\n",
       "      <th>chapter</th>\n",
       "      <th>heading</th>\n",
       "      <th>sub-heading</th>\n",
       "      <th>tariff</th>\n",
       "      <th>description</th>\n",
       "    </tr>\n",
       "  </thead>\n",
       "  <tbody>\n",
       "    <tr>\n",
       "      <th>0</th>\n",
       "      <td>1</td>\n",
       "      <td>01</td>\n",
       "      <td>01</td>\n",
       "      <td>0101</td>\n",
       "      <td>010121</td>\n",
       "      <td>01012100</td>\n",
       "      <td>Horses; live, purebred breeding animals - Pure...</td>\n",
       "    </tr>\n",
       "    <tr>\n",
       "      <th>1</th>\n",
       "      <td>2</td>\n",
       "      <td>01</td>\n",
       "      <td>01</td>\n",
       "      <td>0101</td>\n",
       "      <td>010129</td>\n",
       "      <td>01012900</td>\n",
       "      <td>Horses; live, other than purebred breeding ani...</td>\n",
       "    </tr>\n",
       "    <tr>\n",
       "      <th>2</th>\n",
       "      <td>3</td>\n",
       "      <td>01</td>\n",
       "      <td>01</td>\n",
       "      <td>0101</td>\n",
       "      <td>010130</td>\n",
       "      <td>01013090</td>\n",
       "      <td>Asses; live - Other</td>\n",
       "    </tr>\n",
       "    <tr>\n",
       "      <th>3</th>\n",
       "      <td>4</td>\n",
       "      <td>01</td>\n",
       "      <td>01</td>\n",
       "      <td>0101</td>\n",
       "      <td>010190</td>\n",
       "      <td>01019000</td>\n",
       "      <td>Mules and hinnies; live-  Other</td>\n",
       "    </tr>\n",
       "    <tr>\n",
       "      <th>4</th>\n",
       "      <td>5</td>\n",
       "      <td>01</td>\n",
       "      <td>01</td>\n",
       "      <td>0102</td>\n",
       "      <td>010221</td>\n",
       "      <td>01022100</td>\n",
       "      <td>Cattle; live, purebred breeding animals - Pure...</td>\n",
       "    </tr>\n",
       "    <tr>\n",
       "      <th>...</th>\n",
       "      <td>...</td>\n",
       "      <td>...</td>\n",
       "      <td>...</td>\n",
       "      <td>...</td>\n",
       "      <td>...</td>\n",
       "      <td>...</td>\n",
       "      <td>...</td>\n",
       "    </tr>\n",
       "    <tr>\n",
       "      <th>10541</th>\n",
       "      <td>10542</td>\n",
       "      <td>21</td>\n",
       "      <td>97</td>\n",
       "      <td>9703</td>\n",
       "      <td>970300</td>\n",
       "      <td>97030000</td>\n",
       "      <td>Original sculptures and statuary, in any mater...</td>\n",
       "    </tr>\n",
       "    <tr>\n",
       "      <th>10542</th>\n",
       "      <td>10543</td>\n",
       "      <td>21</td>\n",
       "      <td>97</td>\n",
       "      <td>9704</td>\n",
       "      <td>970400</td>\n",
       "      <td>97040000</td>\n",
       "      <td>Postage or revenue stamps, stamp postmarks, fi...</td>\n",
       "    </tr>\n",
       "    <tr>\n",
       "      <th>10543</th>\n",
       "      <td>10544</td>\n",
       "      <td>21</td>\n",
       "      <td>97</td>\n",
       "      <td>9705</td>\n",
       "      <td>970500</td>\n",
       "      <td>97050010</td>\n",
       "      <td>Collections and collectors' pieces; of zoologi...</td>\n",
       "    </tr>\n",
       "    <tr>\n",
       "      <th>10544</th>\n",
       "      <td>10545</td>\n",
       "      <td>21</td>\n",
       "      <td>97</td>\n",
       "      <td>9705</td>\n",
       "      <td>970500</td>\n",
       "      <td>97050090</td>\n",
       "      <td>Collections and collectors' pieces; of zoologi...</td>\n",
       "    </tr>\n",
       "    <tr>\n",
       "      <th>10545</th>\n",
       "      <td>10546</td>\n",
       "      <td>21</td>\n",
       "      <td>97</td>\n",
       "      <td>9706</td>\n",
       "      <td>970600</td>\n",
       "      <td>97060000</td>\n",
       "      <td>Antiques of an age exceeding one hundred years.</td>\n",
       "    </tr>\n",
       "  </tbody>\n",
       "</table>\n",
       "<p>10546 rows × 7 columns</p>\n",
       "</div>"
      ],
      "text/plain": [
       "         no. section chapter heading sub-heading    tariff  \\\n",
       "0          1      01      01    0101      010121  01012100   \n",
       "1          2      01      01    0101      010129  01012900   \n",
       "2          3      01      01    0101      010130  01013090   \n",
       "3          4      01      01    0101      010190  01019000   \n",
       "4          5      01      01    0102      010221  01022100   \n",
       "...      ...     ...     ...     ...         ...       ...   \n",
       "10541  10542      21      97    9703      970300  97030000   \n",
       "10542  10543      21      97    9704      970400  97040000   \n",
       "10543  10544      21      97    9705      970500  97050010   \n",
       "10544  10545      21      97    9705      970500  97050090   \n",
       "10545  10546      21      97    9706      970600  97060000   \n",
       "\n",
       "                                             description  \n",
       "0      Horses; live, purebred breeding animals - Pure...  \n",
       "1      Horses; live, other than purebred breeding ani...  \n",
       "2                                    Asses; live - Other  \n",
       "3                        Mules and hinnies; live-  Other  \n",
       "4      Cattle; live, purebred breeding animals - Pure...  \n",
       "...                                                  ...  \n",
       "10541  Original sculptures and statuary, in any mater...  \n",
       "10542  Postage or revenue stamps, stamp postmarks, fi...  \n",
       "10543  Collections and collectors' pieces; of zoologi...  \n",
       "10544  Collections and collectors' pieces; of zoologi...  \n",
       "10545    Antiques of an age exceeding one hundred years.  \n",
       "\n",
       "[10546 rows x 7 columns]"
      ]
     },
     "execution_count": 4,
     "metadata": {},
     "output_type": "execute_result"
    }
   ],
   "source": [
    "\n",
    "sheets = '8_digit'\n",
    "df = get_data(sheets)\n",
    "df['section'] = df['section'].map('{:02}'.format)\n",
    "df['chapter'] = df['chapter'].map('{:02}'.format)\n",
    "df"
   ]
  },
  {
   "cell_type": "code",
   "execution_count": 5,
   "metadata": {
    "ExecuteTime": {
     "end_time": "2020-11-16T18:27:17.185507Z",
     "start_time": "2020-11-16T18:27:17.162467Z"
    }
   },
   "outputs": [
    {
     "data": {
      "text/plain": [
       "Counter({'01': 571,\n",
       "         '02': 486,\n",
       "         '03': 173,\n",
       "         '04': 470,\n",
       "         '05': 218,\n",
       "         '06': 1241,\n",
       "         '07': 566,\n",
       "         '08': 91,\n",
       "         '09': 226,\n",
       "         '10': 300,\n",
       "         '11': 1174,\n",
       "         '12': 84,\n",
       "         '13': 250,\n",
       "         '14': 86,\n",
       "         '15': 1032,\n",
       "         '16': 2132,\n",
       "         '17': 814,\n",
       "         '18': 327,\n",
       "         '19': 30,\n",
       "         '20': 267,\n",
       "         '21': 8})"
      ]
     },
     "execution_count": 5,
     "metadata": {},
     "output_type": "execute_result"
    }
   ],
   "source": [
    "from collections import Counter\n",
    "Counter(df[\"section\"])"
   ]
  },
  {
   "cell_type": "code",
   "execution_count": 7,
   "metadata": {
    "ExecuteTime": {
     "end_time": "2020-11-16T18:28:35.698761Z",
     "start_time": "2020-11-16T18:28:35.681727Z"
    }
   },
   "outputs": [
    {
     "data": {
      "text/plain": [
       "1222"
      ]
     },
     "execution_count": 7,
     "metadata": {},
     "output_type": "execute_result"
    }
   ],
   "source": [
    "# 4 digit\n",
    "\n",
    "len(df['heading'].unique())"
   ]
  },
  {
   "cell_type": "code",
   "execution_count": 8,
   "metadata": {
    "ExecuteTime": {
     "end_time": "2020-11-16T18:29:18.540138Z",
     "start_time": "2020-11-16T18:29:18.527098Z"
    }
   },
   "outputs": [
    {
     "data": {
      "text/plain": [
       "5358"
      ]
     },
     "execution_count": 8,
     "metadata": {},
     "output_type": "execute_result"
    }
   ],
   "source": [
    "# 6 digit\n",
    "\n",
    "len(df['sub-heading'].unique())"
   ]
  },
  {
   "cell_type": "code",
   "execution_count": 9,
   "metadata": {
    "ExecuteTime": {
     "end_time": "2020-11-16T18:29:50.975111Z",
     "start_time": "2020-11-16T18:29:50.954116Z"
    }
   },
   "outputs": [
    {
     "data": {
      "text/plain": [
       "10546"
      ]
     },
     "execution_count": 9,
     "metadata": {},
     "output_type": "execute_result"
    }
   ],
   "source": [
    "# 8 digit\n",
    "\n",
    "len(df['tariff'].unique())"
   ]
  },
  {
   "cell_type": "code",
   "execution_count": null,
   "metadata": {},
   "outputs": [],
   "source": []
  },
  {
   "cell_type": "code",
   "execution_count": 12,
   "metadata": {
    "ExecuteTime": {
     "end_time": "2020-11-16T18:32:08.568994Z",
     "start_time": "2020-11-16T18:32:08.557003Z"
    }
   },
   "outputs": [
    {
     "data": {
      "text/plain": [
       "Counter({'01': 48,\n",
       "         '02': 71,\n",
       "         '03': 364,\n",
       "         '04': 64,\n",
       "         '05': 24,\n",
       "         '06': 27,\n",
       "         '07': 116,\n",
       "         '08': 93,\n",
       "         '09': 62,\n",
       "         '10': 36,\n",
       "         '11': 39,\n",
       "         '12': 79,\n",
       "         '13': 21,\n",
       "         '14': 13,\n",
       "         '15': 173,\n",
       "         '16': 76,\n",
       "         '17': 31,\n",
       "         '18': 15,\n",
       "         '19': 59,\n",
       "         '20': 85,\n",
       "         '21': 63,\n",
       "         '22': 69,\n",
       "         '23': 40,\n",
       "         '24': 32,\n",
       "         '25': 87,\n",
       "         '26': 41,\n",
       "         '27': 90,\n",
       "         '28': 217,\n",
       "         '29': 451,\n",
       "         '30': 109,\n",
       "         '31': 31,\n",
       "         '32': 83,\n",
       "         '33': 44,\n",
       "         '34': 60,\n",
       "         '35': 21,\n",
       "         '36': 16,\n",
       "         '37': 52,\n",
       "         '38': 157,\n",
       "         '39': 360,\n",
       "         '40': 206,\n",
       "         '41': 39,\n",
       "         '42': 36,\n",
       "         '43': 16,\n",
       "         '44': 191,\n",
       "         '45': 7,\n",
       "         '46': 28,\n",
       "         '47': 21,\n",
       "         '48': 246,\n",
       "         '49': 33,\n",
       "         '50': 15,\n",
       "         '51': 39,\n",
       "         '52': 144,\n",
       "         '53': 31,\n",
       "         '54': 90,\n",
       "         '55': 116,\n",
       "         '56': 43,\n",
       "         '57': 62,\n",
       "         '58': 84,\n",
       "         '59': 44,\n",
       "         '60': 64,\n",
       "         '61': 131,\n",
       "         '62': 220,\n",
       "         '63': 91,\n",
       "         '64': 52,\n",
       "         '65': 15,\n",
       "         '66': 7,\n",
       "         '67': 10,\n",
       "         '68': 82,\n",
       "         '69': 61,\n",
       "         '70': 107,\n",
       "         '71': 86,\n",
       "         '72': 367,\n",
       "         '73': 268,\n",
       "         '74': 70,\n",
       "         '75': 19,\n",
       "         '76': 73,\n",
       "         '78': 12,\n",
       "         '79': 15,\n",
       "         '80': 12,\n",
       "         '81': 50,\n",
       "         '82': 72,\n",
       "         '83': 74,\n",
       "         '84': 1309,\n",
       "         '85': 823,\n",
       "         '86': 25,\n",
       "         '87': 717,\n",
       "         '88': 21,\n",
       "         '89': 51,\n",
       "         '90': 254,\n",
       "         '91': 53,\n",
       "         '92': 20,\n",
       "         '93': 30,\n",
       "         '94': 97,\n",
       "         '95': 65,\n",
       "         '96': 105,\n",
       "         '97': 8})"
      ]
     },
     "execution_count": 12,
     "metadata": {},
     "output_type": "execute_result"
    }
   ],
   "source": [
    "from collections import Counter\n",
    "Counter(df[\"chapter\"])"
   ]
  },
  {
   "cell_type": "code",
   "execution_count": null,
   "metadata": {},
   "outputs": [],
   "source": []
  }
 ],
 "metadata": {
  "kernelspec": {
   "display_name": "Python 3",
   "language": "python",
   "name": "python3"
  },
  "language_info": {
   "codemirror_mode": {
    "name": "ipython",
    "version": 3
   },
   "file_extension": ".py",
   "mimetype": "text/x-python",
   "name": "python",
   "nbconvert_exporter": "python",
   "pygments_lexer": "ipython3",
   "version": "3.8.3"
  },
  "nbTranslate": {
   "displayLangs": [
    "*"
   ],
   "hotkey": "alt-t",
   "langInMainMenu": true,
   "sourceLang": "en",
   "targetLang": "fr",
   "useGoogleTranslate": true
  },
  "toc": {
   "base_numbering": 1,
   "nav_menu": {},
   "number_sections": true,
   "sideBar": true,
   "skip_h1_title": false,
   "title_cell": "Table of Contents",
   "title_sidebar": "Contents",
   "toc_cell": false,
   "toc_position": {},
   "toc_section_display": true,
   "toc_window_display": false
  }
 },
 "nbformat": 4,
 "nbformat_minor": 4
}
