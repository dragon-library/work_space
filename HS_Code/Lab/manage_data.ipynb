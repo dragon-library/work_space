{
 "cells": [
  {
   "cell_type": "code",
   "execution_count": 16,
   "metadata": {
    "ExecuteTime": {
     "end_time": "2020-11-18T14:45:11.398930Z",
     "start_time": "2020-11-18T14:45:11.383931Z"
    }
   },
   "outputs": [],
   "source": [
    "import warnings\n",
    "warnings.filterwarnings('ignore')\n",
    "%matplotlib inline\n",
    "\n",
    "\n",
    "from data import get_data\n",
    "from time import time\n",
    "\n",
    "urls = 'data/hs_code.xlsx'\n",
    "types = 'heading'\n"
   ]
  },
  {
   "cell_type": "code",
   "execution_count": 17,
   "metadata": {
    "ExecuteTime": {
     "end_time": "2020-11-18T14:46:40.718862Z",
     "start_time": "2020-11-18T14:45:12.387872Z"
    }
   },
   "outputs": [
    {
     "name": "stdout",
     "output_type": "stream",
     "text": [
      "49041\n"
     ]
    },
    {
     "data": {
      "text/html": [
       "<div>\n",
       "<style scoped>\n",
       "    .dataframe tbody tr th:only-of-type {\n",
       "        vertical-align: middle;\n",
       "    }\n",
       "\n",
       "    .dataframe tbody tr th {\n",
       "        vertical-align: top;\n",
       "    }\n",
       "\n",
       "    .dataframe thead th {\n",
       "        text-align: right;\n",
       "    }\n",
       "</style>\n",
       "<table border=\"1\" class=\"dataframe\">\n",
       "  <thead>\n",
       "    <tr style=\"text-align: right;\">\n",
       "      <th></th>\n",
       "      <th>target</th>\n",
       "      <th>data</th>\n",
       "    </tr>\n",
       "  </thead>\n",
       "  <tbody>\n",
       "    <tr>\n",
       "      <th>10010</th>\n",
       "      <td>9017</td>\n",
       "      <td>drawing, markingout or mathematical calculatin...</td>\n",
       "    </tr>\n",
       "    <tr>\n",
       "      <th>28380</th>\n",
       "      <td>9202</td>\n",
       "      <td>string musical instruments (o/than guitars or ...</td>\n",
       "    </tr>\n",
       "    <tr>\n",
       "      <th>44439</th>\n",
       "      <td>8544</td>\n",
       "      <td>aluminum electric wire alvus 150 labr 800m/pc</td>\n",
       "    </tr>\n",
       "    <tr>\n",
       "      <th>45162</th>\n",
       "      <td>8708</td>\n",
       "      <td>assy left air duct  high</td>\n",
       "    </tr>\n",
       "    <tr>\n",
       "      <th>12300</th>\n",
       "      <td>3305</td>\n",
       "      <td>hair preparations; n.e.c. in heading no. 3305</td>\n",
       "    </tr>\n",
       "    <tr>\n",
       "      <th>21103</th>\n",
       "      <td>3212</td>\n",
       "      <td>pigments dispersed in nonaqueous media, in liq...</td>\n",
       "    </tr>\n",
       "    <tr>\n",
       "      <th>16976</th>\n",
       "      <td>8536</td>\n",
       "      <td>electrical apparatus for switching, protecting...</td>\n",
       "    </tr>\n",
       "    <tr>\n",
       "      <th>45248</th>\n",
       "      <td>8708</td>\n",
       "      <td>automotive disc brake pad tbs5237</td>\n",
       "    </tr>\n",
       "    <tr>\n",
       "      <th>34316</th>\n",
       "      <td>7610</td>\n",
       "      <td>aluminium ornament for door cj0120dnjd</td>\n",
       "    </tr>\n",
       "    <tr>\n",
       "      <th>45151</th>\n",
       "      <td>7610</td>\n",
       "      <td>aluminium window frame w03311rbwbp</td>\n",
       "    </tr>\n",
       "  </tbody>\n",
       "</table>\n",
       "</div>"
      ],
      "text/plain": [
       "      target                                               data\n",
       "10010   9017  drawing, markingout or mathematical calculatin...\n",
       "28380   9202  string musical instruments (o/than guitars or ...\n",
       "44439   8544      aluminum electric wire alvus 150 labr 800m/pc\n",
       "45162   8708                           assy left air duct  high\n",
       "12300   3305      hair preparations; n.e.c. in heading no. 3305\n",
       "21103   3212  pigments dispersed in nonaqueous media, in liq...\n",
       "16976   8536  electrical apparatus for switching, protecting...\n",
       "45248   8708                  automotive disc brake pad tbs5237\n",
       "34316   7610             aluminium ornament for door cj0120dnjd\n",
       "45151   7610                 aluminium window frame w03311rbwbp"
      ]
     },
     "execution_count": 17,
     "metadata": {},
     "output_type": "execute_result"
    }
   ],
   "source": [
    "sheets = ['8_digit','6_digit','4_digit', 'test_01', 'Declaration_2019_10']\n",
    "\n",
    "df = get_data(urls,sheets,types)\n",
    "print(len(df))\n",
    "df.sample(10)"
   ]
  },
  {
   "cell_type": "code",
   "execution_count": 19,
   "metadata": {
    "ExecuteTime": {
     "end_time": "2020-11-18T15:02:02.527648Z",
     "start_time": "2020-11-18T15:02:02.509609Z"
    }
   },
   "outputs": [
    {
     "ename": "ImportError",
     "evalue": "cannot import name 'Load_dataset' from 'data' (C:\\Users\\ASUS\\WorkSpace\\upload_Git\\work_space\\HS_Code\\Lab\\data.py)",
     "output_type": "error",
     "traceback": [
      "\u001b[1;31m---------------------------------------------------------------------------\u001b[0m",
      "\u001b[1;31mImportError\u001b[0m                               Traceback (most recent call last)",
      "\u001b[1;32m<ipython-input-19-7ba6585a70b1>\u001b[0m in \u001b[0;36m<module>\u001b[1;34m\u001b[0m\n\u001b[1;32m----> 1\u001b[1;33m \u001b[1;32mfrom\u001b[0m \u001b[0mdata\u001b[0m \u001b[1;32mimport\u001b[0m \u001b[0mLoad_dataset\u001b[0m\u001b[1;33m\u001b[0m\u001b[1;33m\u001b[0m\u001b[0m\n\u001b[0m\u001b[0;32m      2\u001b[0m \u001b[0mt0\u001b[0m \u001b[1;33m=\u001b[0m \u001b[0mtime\u001b[0m\u001b[1;33m(\u001b[0m\u001b[1;33m)\u001b[0m\u001b[1;33m\u001b[0m\u001b[1;33m\u001b[0m\u001b[0m\n\u001b[0;32m      3\u001b[0m \u001b[0mpaths\u001b[0m \u001b[1;33m=\u001b[0m \u001b[1;34m\"data/train_section.pkl\"\u001b[0m\u001b[1;33m\u001b[0m\u001b[1;33m\u001b[0m\u001b[0m\n\u001b[0;32m      4\u001b[0m \u001b[1;33m\u001b[0m\u001b[0m\n\u001b[0;32m      5\u001b[0m \u001b[0mdf\u001b[0m \u001b[1;33m=\u001b[0m \u001b[0mload_dataset\u001b[0m\u001b[1;33m(\u001b[0m\u001b[0mpaths\u001b[0m\u001b[1;33m)\u001b[0m\u001b[1;33m\u001b[0m\u001b[1;33m\u001b[0m\u001b[0m\n",
      "\u001b[1;31mImportError\u001b[0m: cannot import name 'Load_dataset' from 'data' (C:\\Users\\ASUS\\WorkSpace\\upload_Git\\work_space\\HS_Code\\Lab\\data.py)"
     ]
    }
   ],
   "source": [
    "from data import Load_dataset\n",
    "t0 = time()\n",
    "paths = \"data/train_section.pkl\"\n",
    "\n",
    "df = load_dataset(paths)\n",
    "print(len(df))\n",
    "print(df.head())\n",
    "load_time = time() - t0\n",
    "print(\"Load dataset time:  %0.3fs\" % load_time)"
   ]
  },
  {
   "cell_type": "code",
   "execution_count": null,
   "metadata": {},
   "outputs": [],
   "source": []
  },
  {
   "cell_type": "code",
   "execution_count": null,
   "metadata": {},
   "outputs": [],
   "source": []
  },
  {
   "cell_type": "code",
   "execution_count": null,
   "metadata": {},
   "outputs": [],
   "source": []
  },
  {
   "cell_type": "code",
   "execution_count": 1,
   "metadata": {
    "ExecuteTime": {
     "end_time": "2020-11-16T18:22:24.461856Z",
     "start_time": "2020-11-16T18:22:23.353000Z"
    }
   },
   "outputs": [],
   "source": [
    "import warnings\n",
    "warnings.filterwarnings('ignore')\n",
    "%matplotlib inline\n",
    "\n",
    "import numpy as np\n",
    "import pandas as pd\n",
    "\n",
    "urls = 'data/hs_code.xlsx'\n",
    "\n",
    "def get_data(sheets):\n",
    "    data = pd.read_excel(urls,sheet_name= sheets)\n",
    "    \n",
    "    return data"
   ]
  },
  {
   "cell_type": "code",
   "execution_count": 4,
   "metadata": {
    "ExecuteTime": {
     "end_time": "2020-11-16T18:26:24.025171Z",
     "start_time": "2020-11-16T18:26:05.286685Z"
    }
   },
   "outputs": [
    {
     "data": {
      "text/html": [
       "<div>\n",
       "<style scoped>\n",
       "    .dataframe tbody tr th:only-of-type {\n",
       "        vertical-align: middle;\n",
       "    }\n",
       "\n",
       "    .dataframe tbody tr th {\n",
       "        vertical-align: top;\n",
       "    }\n",
       "\n",
       "    .dataframe thead th {\n",
       "        text-align: right;\n",
       "    }\n",
       "</style>\n",
       "<table border=\"1\" class=\"dataframe\">\n",
       "  <thead>\n",
       "    <tr style=\"text-align: right;\">\n",
       "      <th></th>\n",
       "      <th>no.</th>\n",
       "      <th>section</th>\n",
       "      <th>chapter</th>\n",
       "      <th>heading</th>\n",
       "      <th>sub-heading</th>\n",
       "      <th>tariff</th>\n",
       "      <th>description</th>\n",
       "    </tr>\n",
       "  </thead>\n",
       "  <tbody>\n",
       "    <tr>\n",
       "      <th>0</th>\n",
       "      <td>1</td>\n",
       "      <td>01</td>\n",
       "      <td>01</td>\n",
       "      <td>0101</td>\n",
       "      <td>010121</td>\n",
       "      <td>01012100</td>\n",
       "      <td>Horses; live, purebred breeding animals - Pure...</td>\n",
       "    </tr>\n",
       "    <tr>\n",
       "      <th>1</th>\n",
       "      <td>2</td>\n",
       "      <td>01</td>\n",
       "      <td>01</td>\n",
       "      <td>0101</td>\n",
       "      <td>010129</td>\n",
       "      <td>01012900</td>\n",
       "      <td>Horses; live, other than purebred breeding ani...</td>\n",
       "    </tr>\n",
       "    <tr>\n",
       "      <th>2</th>\n",
       "      <td>3</td>\n",
       "      <td>01</td>\n",
       "      <td>01</td>\n",
       "      <td>0101</td>\n",
       "      <td>010130</td>\n",
       "      <td>01013090</td>\n",
       "      <td>Asses; live - Other</td>\n",
       "    </tr>\n",
       "    <tr>\n",
       "      <th>3</th>\n",
       "      <td>4</td>\n",
       "      <td>01</td>\n",
       "      <td>01</td>\n",
       "      <td>0101</td>\n",
       "      <td>010190</td>\n",
       "      <td>01019000</td>\n",
       "      <td>Mules and hinnies; live-  Other</td>\n",
       "    </tr>\n",
       "    <tr>\n",
       "      <th>4</th>\n",
       "      <td>5</td>\n",
       "      <td>01</td>\n",
       "      <td>01</td>\n",
       "      <td>0102</td>\n",
       "      <td>010221</td>\n",
       "      <td>01022100</td>\n",
       "      <td>Cattle; live, purebred breeding animals - Pure...</td>\n",
       "    </tr>\n",
       "    <tr>\n",
       "      <th>...</th>\n",
       "      <td>...</td>\n",
       "      <td>...</td>\n",
       "      <td>...</td>\n",
       "      <td>...</td>\n",
       "      <td>...</td>\n",
       "      <td>...</td>\n",
       "      <td>...</td>\n",
       "    </tr>\n",
       "    <tr>\n",
       "      <th>10541</th>\n",
       "      <td>10542</td>\n",
       "      <td>21</td>\n",
       "      <td>97</td>\n",
       "      <td>9703</td>\n",
       "      <td>970300</td>\n",
       "      <td>97030000</td>\n",
       "      <td>Original sculptures and statuary, in any mater...</td>\n",
       "    </tr>\n",
       "    <tr>\n",
       "      <th>10542</th>\n",
       "      <td>10543</td>\n",
       "      <td>21</td>\n",
       "      <td>97</td>\n",
       "      <td>9704</td>\n",
       "      <td>970400</td>\n",
       "      <td>97040000</td>\n",
       "      <td>Postage or revenue stamps, stamp postmarks, fi...</td>\n",
       "    </tr>\n",
       "    <tr>\n",
       "      <th>10543</th>\n",
       "      <td>10544</td>\n",
       "      <td>21</td>\n",
       "      <td>97</td>\n",
       "      <td>9705</td>\n",
       "      <td>970500</td>\n",
       "      <td>97050010</td>\n",
       "      <td>Collections and collectors' pieces; of zoologi...</td>\n",
       "    </tr>\n",
       "    <tr>\n",
       "      <th>10544</th>\n",
       "      <td>10545</td>\n",
       "      <td>21</td>\n",
       "      <td>97</td>\n",
       "      <td>9705</td>\n",
       "      <td>970500</td>\n",
       "      <td>97050090</td>\n",
       "      <td>Collections and collectors' pieces; of zoologi...</td>\n",
       "    </tr>\n",
       "    <tr>\n",
       "      <th>10545</th>\n",
       "      <td>10546</td>\n",
       "      <td>21</td>\n",
       "      <td>97</td>\n",
       "      <td>9706</td>\n",
       "      <td>970600</td>\n",
       "      <td>97060000</td>\n",
       "      <td>Antiques of an age exceeding one hundred years.</td>\n",
       "    </tr>\n",
       "  </tbody>\n",
       "</table>\n",
       "<p>10546 rows × 7 columns</p>\n",
       "</div>"
      ],
      "text/plain": [
       "         no. section chapter heading sub-heading    tariff  \\\n",
       "0          1      01      01    0101      010121  01012100   \n",
       "1          2      01      01    0101      010129  01012900   \n",
       "2          3      01      01    0101      010130  01013090   \n",
       "3          4      01      01    0101      010190  01019000   \n",
       "4          5      01      01    0102      010221  01022100   \n",
       "...      ...     ...     ...     ...         ...       ...   \n",
       "10541  10542      21      97    9703      970300  97030000   \n",
       "10542  10543      21      97    9704      970400  97040000   \n",
       "10543  10544      21      97    9705      970500  97050010   \n",
       "10544  10545      21      97    9705      970500  97050090   \n",
       "10545  10546      21      97    9706      970600  97060000   \n",
       "\n",
       "                                             description  \n",
       "0      Horses; live, purebred breeding animals - Pure...  \n",
       "1      Horses; live, other than purebred breeding ani...  \n",
       "2                                    Asses; live - Other  \n",
       "3                        Mules and hinnies; live-  Other  \n",
       "4      Cattle; live, purebred breeding animals - Pure...  \n",
       "...                                                  ...  \n",
       "10541  Original sculptures and statuary, in any mater...  \n",
       "10542  Postage or revenue stamps, stamp postmarks, fi...  \n",
       "10543  Collections and collectors' pieces; of zoologi...  \n",
       "10544  Collections and collectors' pieces; of zoologi...  \n",
       "10545    Antiques of an age exceeding one hundred years.  \n",
       "\n",
       "[10546 rows x 7 columns]"
      ]
     },
     "execution_count": 4,
     "metadata": {},
     "output_type": "execute_result"
    }
   ],
   "source": [
    "\n",
    "sheets = '8_digit'\n",
    "df = get_data(sheets)\n",
    "df['section'] = df['section'].map('{:02}'.format)\n",
    "df['chapter'] = df['chapter'].map('{:02}'.format)\n",
    "df"
   ]
  },
  {
   "cell_type": "code",
   "execution_count": 5,
   "metadata": {
    "ExecuteTime": {
     "end_time": "2020-11-16T18:27:17.185507Z",
     "start_time": "2020-11-16T18:27:17.162467Z"
    }
   },
   "outputs": [
    {
     "data": {
      "text/plain": [
       "Counter({'01': 571,\n",
       "         '02': 486,\n",
       "         '03': 173,\n",
       "         '04': 470,\n",
       "         '05': 218,\n",
       "         '06': 1241,\n",
       "         '07': 566,\n",
       "         '08': 91,\n",
       "         '09': 226,\n",
       "         '10': 300,\n",
       "         '11': 1174,\n",
       "         '12': 84,\n",
       "         '13': 250,\n",
       "         '14': 86,\n",
       "         '15': 1032,\n",
       "         '16': 2132,\n",
       "         '17': 814,\n",
       "         '18': 327,\n",
       "         '19': 30,\n",
       "         '20': 267,\n",
       "         '21': 8})"
      ]
     },
     "execution_count": 5,
     "metadata": {},
     "output_type": "execute_result"
    }
   ],
   "source": [
    "from collections import Counter\n",
    "Counter(df[\"section\"])"
   ]
  },
  {
   "cell_type": "code",
   "execution_count": 7,
   "metadata": {
    "ExecuteTime": {
     "end_time": "2020-11-16T18:28:35.698761Z",
     "start_time": "2020-11-16T18:28:35.681727Z"
    }
   },
   "outputs": [
    {
     "data": {
      "text/plain": [
       "1222"
      ]
     },
     "execution_count": 7,
     "metadata": {},
     "output_type": "execute_result"
    }
   ],
   "source": [
    "# 4 digit\n",
    "\n",
    "len(df['heading'].unique())"
   ]
  },
  {
   "cell_type": "code",
   "execution_count": 8,
   "metadata": {
    "ExecuteTime": {
     "end_time": "2020-11-16T18:29:18.540138Z",
     "start_time": "2020-11-16T18:29:18.527098Z"
    }
   },
   "outputs": [
    {
     "data": {
      "text/plain": [
       "5358"
      ]
     },
     "execution_count": 8,
     "metadata": {},
     "output_type": "execute_result"
    }
   ],
   "source": [
    "# 6 digit\n",
    "\n",
    "len(df['sub-heading'].unique())"
   ]
  },
  {
   "cell_type": "code",
   "execution_count": 9,
   "metadata": {
    "ExecuteTime": {
     "end_time": "2020-11-16T18:29:50.975111Z",
     "start_time": "2020-11-16T18:29:50.954116Z"
    }
   },
   "outputs": [
    {
     "data": {
      "text/plain": [
       "10546"
      ]
     },
     "execution_count": 9,
     "metadata": {},
     "output_type": "execute_result"
    }
   ],
   "source": [
    "# 8 digit\n",
    "\n",
    "len(df['tariff'].unique())"
   ]
  },
  {
   "cell_type": "code",
   "execution_count": null,
   "metadata": {},
   "outputs": [],
   "source": []
  },
  {
   "cell_type": "code",
   "execution_count": 12,
   "metadata": {
    "ExecuteTime": {
     "end_time": "2020-11-16T18:32:08.568994Z",
     "start_time": "2020-11-16T18:32:08.557003Z"
    }
   },
   "outputs": [
    {
     "data": {
      "text/plain": [
       "Counter({'01': 48,\n",
       "         '02': 71,\n",
       "         '03': 364,\n",
       "         '04': 64,\n",
       "         '05': 24,\n",
       "         '06': 27,\n",
       "         '07': 116,\n",
       "         '08': 93,\n",
       "         '09': 62,\n",
       "         '10': 36,\n",
       "         '11': 39,\n",
       "         '12': 79,\n",
       "         '13': 21,\n",
       "         '14': 13,\n",
       "         '15': 173,\n",
       "         '16': 76,\n",
       "         '17': 31,\n",
       "         '18': 15,\n",
       "         '19': 59,\n",
       "         '20': 85,\n",
       "         '21': 63,\n",
       "         '22': 69,\n",
       "         '23': 40,\n",
       "         '24': 32,\n",
       "         '25': 87,\n",
       "         '26': 41,\n",
       "         '27': 90,\n",
       "         '28': 217,\n",
       "         '29': 451,\n",
       "         '30': 109,\n",
       "         '31': 31,\n",
       "         '32': 83,\n",
       "         '33': 44,\n",
       "         '34': 60,\n",
       "         '35': 21,\n",
       "         '36': 16,\n",
       "         '37': 52,\n",
       "         '38': 157,\n",
       "         '39': 360,\n",
       "         '40': 206,\n",
       "         '41': 39,\n",
       "         '42': 36,\n",
       "         '43': 16,\n",
       "         '44': 191,\n",
       "         '45': 7,\n",
       "         '46': 28,\n",
       "         '47': 21,\n",
       "         '48': 246,\n",
       "         '49': 33,\n",
       "         '50': 15,\n",
       "         '51': 39,\n",
       "         '52': 144,\n",
       "         '53': 31,\n",
       "         '54': 90,\n",
       "         '55': 116,\n",
       "         '56': 43,\n",
       "         '57': 62,\n",
       "         '58': 84,\n",
       "         '59': 44,\n",
       "         '60': 64,\n",
       "         '61': 131,\n",
       "         '62': 220,\n",
       "         '63': 91,\n",
       "         '64': 52,\n",
       "         '65': 15,\n",
       "         '66': 7,\n",
       "         '67': 10,\n",
       "         '68': 82,\n",
       "         '69': 61,\n",
       "         '70': 107,\n",
       "         '71': 86,\n",
       "         '72': 367,\n",
       "         '73': 268,\n",
       "         '74': 70,\n",
       "         '75': 19,\n",
       "         '76': 73,\n",
       "         '78': 12,\n",
       "         '79': 15,\n",
       "         '80': 12,\n",
       "         '81': 50,\n",
       "         '82': 72,\n",
       "         '83': 74,\n",
       "         '84': 1309,\n",
       "         '85': 823,\n",
       "         '86': 25,\n",
       "         '87': 717,\n",
       "         '88': 21,\n",
       "         '89': 51,\n",
       "         '90': 254,\n",
       "         '91': 53,\n",
       "         '92': 20,\n",
       "         '93': 30,\n",
       "         '94': 97,\n",
       "         '95': 65,\n",
       "         '96': 105,\n",
       "         '97': 8})"
      ]
     },
     "execution_count": 12,
     "metadata": {},
     "output_type": "execute_result"
    }
   ],
   "source": [
    "from collections import Counter\n",
    "Counter(df[\"chapter\"])"
   ]
  },
  {
   "cell_type": "code",
   "execution_count": null,
   "metadata": {},
   "outputs": [],
   "source": []
  },
  {
   "cell_type": "code",
   "execution_count": 3,
   "metadata": {
    "ExecuteTime": {
     "end_time": "2020-11-17T17:55:46.604678Z",
     "start_time": "2020-11-17T17:55:45.975733Z"
    }
   },
   "outputs": [],
   "source": [
    "import numpy as np\n",
    "import pandas as pd\n",
    "from time import time\n",
    "\n",
    "urls = 'data/hs_code.xlsx'\n",
    "types = 'heading'\n",
    "\n",
    "def get_data(sheets,types):\n",
    "    a = []\n",
    "    i = 0\n",
    "    for s in sheets:\n",
    "        s = pd.read_excel(urls,sheet_name= s)\n",
    "        s = s[[types,'description']]\n",
    "        s['description'] = s['description'].str.lower()\n",
    "        if i == 0:\n",
    "            data = s.copy()            \n",
    "        else:            \n",
    "            data = pd.concat([data,s], ignore_index=True)\n",
    "            \n",
    "        i += 1 \n",
    "        \n",
    "    data.columns =  ['target', 'data']    \n",
    "        \n",
    "    return data\n",
    "    \n",
    "    \n",
    " #   data = data.rename(columns={'heading' : 'target', 'product_desc' : 'question_text'})\n",
    "     \n",
    "\n",
    "    "
   ]
  },
  {
   "cell_type": "code",
   "execution_count": 4,
   "metadata": {
    "ExecuteTime": {
     "end_time": "2020-11-17T17:56:24.808307Z",
     "start_time": "2020-11-17T17:55:47.322481Z"
    }
   },
   "outputs": [
    {
     "name": "stdout",
     "output_type": "stream",
     "text": [
      "11768\n"
     ]
    },
    {
     "data": {
      "text/html": [
       "<div>\n",
       "<style scoped>\n",
       "    .dataframe tbody tr th:only-of-type {\n",
       "        vertical-align: middle;\n",
       "    }\n",
       "\n",
       "    .dataframe tbody tr th {\n",
       "        vertical-align: top;\n",
       "    }\n",
       "\n",
       "    .dataframe thead th {\n",
       "        text-align: right;\n",
       "    }\n",
       "</style>\n",
       "<table border=\"1\" class=\"dataframe\">\n",
       "  <thead>\n",
       "    <tr style=\"text-align: right;\">\n",
       "      <th></th>\n",
       "      <th>target</th>\n",
       "      <th>data</th>\n",
       "    </tr>\n",
       "  </thead>\n",
       "  <tbody>\n",
       "    <tr>\n",
       "      <th>0</th>\n",
       "      <td>0101</td>\n",
       "      <td>horses; live, purebred breeding animals - pure...</td>\n",
       "    </tr>\n",
       "    <tr>\n",
       "      <th>1</th>\n",
       "      <td>0101</td>\n",
       "      <td>horses; live, other than purebred breeding ani...</td>\n",
       "    </tr>\n",
       "    <tr>\n",
       "      <th>2</th>\n",
       "      <td>0101</td>\n",
       "      <td>asses; live - other</td>\n",
       "    </tr>\n",
       "    <tr>\n",
       "      <th>3</th>\n",
       "      <td>0101</td>\n",
       "      <td>mules and hinnies; live-  other</td>\n",
       "    </tr>\n",
       "    <tr>\n",
       "      <th>4</th>\n",
       "      <td>0102</td>\n",
       "      <td>cattle; live, purebred breeding animals - pure...</td>\n",
       "    </tr>\n",
       "    <tr>\n",
       "      <th>...</th>\n",
       "      <td>...</td>\n",
       "      <td>...</td>\n",
       "    </tr>\n",
       "    <tr>\n",
       "      <th>11763</th>\n",
       "      <td>9702</td>\n",
       "      <td>engravings, prints and lithographs; original</td>\n",
       "    </tr>\n",
       "    <tr>\n",
       "      <th>11764</th>\n",
       "      <td>9703</td>\n",
       "      <td>sculptures and statuary; original, in any mate...</td>\n",
       "    </tr>\n",
       "    <tr>\n",
       "      <th>11765</th>\n",
       "      <td>9704</td>\n",
       "      <td>stamps, postage or revenue; stamp-postmarks, f...</td>\n",
       "    </tr>\n",
       "    <tr>\n",
       "      <th>11766</th>\n",
       "      <td>9705</td>\n",
       "      <td>collections and collectors' pieces; of zoologi...</td>\n",
       "    </tr>\n",
       "    <tr>\n",
       "      <th>11767</th>\n",
       "      <td>9706</td>\n",
       "      <td>antiques; of an age exceeding one hundred years</td>\n",
       "    </tr>\n",
       "  </tbody>\n",
       "</table>\n",
       "<p>11768 rows × 2 columns</p>\n",
       "</div>"
      ],
      "text/plain": [
       "      target                                               data\n",
       "0       0101  horses; live, purebred breeding animals - pure...\n",
       "1       0101  horses; live, other than purebred breeding ani...\n",
       "2       0101                                asses; live - other\n",
       "3       0101                    mules and hinnies; live-  other\n",
       "4       0102  cattle; live, purebred breeding animals - pure...\n",
       "...      ...                                                ...\n",
       "11763   9702       engravings, prints and lithographs; original\n",
       "11764   9703  sculptures and statuary; original, in any mate...\n",
       "11765   9704  stamps, postage or revenue; stamp-postmarks, f...\n",
       "11766   9705  collections and collectors' pieces; of zoologi...\n",
       "11767   9706    antiques; of an age exceeding one hundred years\n",
       "\n",
       "[11768 rows x 2 columns]"
      ]
     },
     "execution_count": 4,
     "metadata": {},
     "output_type": "execute_result"
    }
   ],
   "source": [
    "types = 'heading'\n",
    "sheets = ['8_digit','4_digit']\n",
    "\n",
    "df = get_data(sheets,types)\n",
    "print(len(df))\n",
    "df"
   ]
  },
  {
   "cell_type": "code",
   "execution_count": 5,
   "metadata": {
    "ExecuteTime": {
     "end_time": "2020-11-17T18:04:53.276507Z",
     "start_time": "2020-11-17T18:04:52.896508Z"
    }
   },
   "outputs": [
    {
     "ename": "ModuleNotFoundError",
     "evalue": "No module named 'torch'",
     "output_type": "error",
     "traceback": [
      "\u001b[1;31m---------------------------------------------------------------------------\u001b[0m",
      "\u001b[1;31mModuleNotFoundError\u001b[0m                       Traceback (most recent call last)",
      "\u001b[1;32m<ipython-input-5-3c9ab0787d0c>\u001b[0m in \u001b[0;36m<module>\u001b[1;34m\u001b[0m\n\u001b[0;32m      1\u001b[0m \u001b[1;32mimport\u001b[0m \u001b[0mmath\u001b[0m\u001b[1;33m\u001b[0m\u001b[1;33m\u001b[0m\u001b[0m\n\u001b[1;32m----> 2\u001b[1;33m \u001b[1;32mimport\u001b[0m \u001b[0mtorch\u001b[0m\u001b[1;33m\u001b[0m\u001b[1;33m\u001b[0m\u001b[0m\n\u001b[0m\u001b[0;32m      3\u001b[0m \u001b[1;32mimport\u001b[0m \u001b[0mtorch\u001b[0m\u001b[1;33m.\u001b[0m\u001b[0mnn\u001b[0m \u001b[1;32mas\u001b[0m \u001b[0mnn\u001b[0m\u001b[1;33m\u001b[0m\u001b[1;33m\u001b[0m\u001b[0m\n\u001b[0;32m      4\u001b[0m \u001b[1;32mimport\u001b[0m \u001b[0mtorch\u001b[0m\u001b[1;33m.\u001b[0m\u001b[0mnn\u001b[0m\u001b[1;33m.\u001b[0m\u001b[0mfunctional\u001b[0m \u001b[1;32mas\u001b[0m \u001b[0mF\u001b[0m\u001b[1;33m\u001b[0m\u001b[1;33m\u001b[0m\u001b[0m\n\u001b[0;32m      5\u001b[0m \u001b[1;33m\u001b[0m\u001b[0m\n",
      "\u001b[1;31mModuleNotFoundError\u001b[0m: No module named 'torch'"
     ]
    }
   ],
   "source": [
    "import math\n",
    "import torch\n",
    "import torch.nn as nn\n",
    "import torch.nn.functional as F\n",
    "\n",
    "class TransformerModel(nn.Module):\n",
    "\n",
    "    def __init__(self, ntoken, ninp, nhead, nhid, nlayers, dropout=0.5):\n",
    "        super(TransformerModel, self).__init__()\n",
    "        from torch.nn import TransformerEncoder, TransformerEncoderLayer\n",
    "        self.model_type = 'Transformer'\n",
    "        self.pos_encoder = PositionalEncoding(ninp, dropout)\n",
    "        encoder_layers = TransformerEncoderLayer(ninp, nhead, nhid, dropout)\n",
    "        self.transformer_encoder = TransformerEncoder(encoder_layers, nlayers)\n",
    "        self.encoder = nn.Embedding(ntoken, ninp)\n",
    "        self.ninp = ninp\n",
    "        self.decoder = nn.Linear(ninp, ntoken)\n",
    "\n",
    "        self.init_weights()\n",
    "\n",
    "    def generate_square_subsequent_mask(self, sz):\n",
    "        mask = (torch.triu(torch.ones(sz, sz)) == 1).transpose(0, 1)\n",
    "        mask = mask.float().masked_fill(mask == 0, float('-inf')).masked_fill(mask == 1, float(0.0))\n",
    "        return mask\n",
    "\n",
    "    def init_weights(self):\n",
    "        initrange = 0.1\n",
    "        self.encoder.weight.data.uniform_(-initrange, initrange)\n",
    "        self.decoder.bias.data.zero_()\n",
    "        self.decoder.weight.data.uniform_(-initrange, initrange)\n",
    "\n",
    "    def forward(self, src, src_mask):\n",
    "        src = self.encoder(src) * math.sqrt(self.ninp)\n",
    "        src = self.pos_encoder(src)\n",
    "        output = self.transformer_encoder(src, src_mask)\n",
    "        output = self.decoder(output)\n",
    "        return output"
   ]
  },
  {
   "cell_type": "code",
   "execution_count": 20,
   "metadata": {
    "ExecuteTime": {
     "end_time": "2020-11-18T19:22:13.607668Z",
     "start_time": "2020-11-18T19:22:13.518695Z"
    }
   },
   "outputs": [
    {
     "ename": "ModuleNotFoundError",
     "evalue": "No module named 'keras'",
     "output_type": "error",
     "traceback": [
      "\u001b[1;31m---------------------------------------------------------------------------\u001b[0m",
      "\u001b[1;31mModuleNotFoundError\u001b[0m                       Traceback (most recent call last)",
      "\u001b[1;32m<ipython-input-20-e692501daa0e>\u001b[0m in \u001b[0;36m<module>\u001b[1;34m\u001b[0m\n\u001b[1;32m----> 1\u001b[1;33m \u001b[1;32mfrom\u001b[0m \u001b[0mkeras\u001b[0m\u001b[1;33m.\u001b[0m\u001b[0mdatasets\u001b[0m \u001b[1;32mimport\u001b[0m \u001b[0mimdb\u001b[0m\u001b[1;33m\u001b[0m\u001b[1;33m\u001b[0m\u001b[0m\n\u001b[0m\u001b[0;32m      2\u001b[0m \u001b[1;33m\u001b[0m\u001b[0m\n\u001b[0;32m      3\u001b[0m \u001b[0mvocabulary_size\u001b[0m \u001b[1;33m=\u001b[0m \u001b[1;36m5000\u001b[0m\u001b[1;33m\u001b[0m\u001b[1;33m\u001b[0m\u001b[0m\n\u001b[0;32m      4\u001b[0m \u001b[1;33m\u001b[0m\u001b[0m\n\u001b[0;32m      5\u001b[0m \u001b[1;33m(\u001b[0m\u001b[0mX_train\u001b[0m\u001b[1;33m,\u001b[0m \u001b[0my_train\u001b[0m\u001b[1;33m)\u001b[0m\u001b[1;33m,\u001b[0m \u001b[1;33m(\u001b[0m\u001b[0mX_test\u001b[0m\u001b[1;33m,\u001b[0m \u001b[0my_test\u001b[0m\u001b[1;33m)\u001b[0m \u001b[1;33m=\u001b[0m \u001b[0mimdb\u001b[0m\u001b[1;33m.\u001b[0m\u001b[0mload_data\u001b[0m\u001b[1;33m(\u001b[0m\u001b[0mnum_words\u001b[0m \u001b[1;33m=\u001b[0m \u001b[0mvocabulary_size\u001b[0m\u001b[1;33m)\u001b[0m\u001b[1;33m\u001b[0m\u001b[1;33m\u001b[0m\u001b[0m\n",
      "\u001b[1;31mModuleNotFoundError\u001b[0m: No module named 'keras'"
     ]
    }
   ],
   "source": [
    "from keras.datasets import imdb\n",
    "\n",
    "vocabulary_size = 5000\n",
    "\n",
    "(X_train, y_train), (X_test, y_test) = imdb.load_data(num_words = vocabulary_size)\n",
    "print('Loaded dataset with {} training samples, {} test samples'.format(len(X_train), len(X_test)))\n",
    "\n",
    "\n",
    "print('---review---')\n",
    "print(X_train[6])\n",
    "print('---label---')\n",
    "print(y_train[6])"
   ]
  },
  {
   "cell_type": "code",
   "execution_count": null,
   "metadata": {},
   "outputs": [],
   "source": []
  }
 ],
 "metadata": {
  "kernelspec": {
   "display_name": "Python 3",
   "language": "python",
   "name": "python3"
  },
  "language_info": {
   "codemirror_mode": {
    "name": "ipython",
    "version": 3
   },
   "file_extension": ".py",
   "mimetype": "text/x-python",
   "name": "python",
   "nbconvert_exporter": "python",
   "pygments_lexer": "ipython3",
   "version": "3.8.3"
  },
  "nbTranslate": {
   "displayLangs": [
    "*"
   ],
   "hotkey": "alt-t",
   "langInMainMenu": true,
   "sourceLang": "en",
   "targetLang": "fr",
   "useGoogleTranslate": true
  },
  "toc": {
   "base_numbering": 1,
   "nav_menu": {},
   "number_sections": true,
   "sideBar": true,
   "skip_h1_title": false,
   "title_cell": "Table of Contents",
   "title_sidebar": "Contents",
   "toc_cell": false,
   "toc_position": {},
   "toc_section_display": true,
   "toc_window_display": false
  }
 },
 "nbformat": 4,
 "nbformat_minor": 4
}
