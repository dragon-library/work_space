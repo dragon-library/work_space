{
 "cells": [
  {
   "cell_type": "code",
   "execution_count": null,
   "metadata": {},
   "outputs": [],
   "source": []
  },
  {
   "cell_type": "code",
   "execution_count": 1,
   "metadata": {
    "ExecuteTime": {
     "end_time": "2020-11-02T04:09:36.737378Z",
     "start_time": "2020-11-02T04:09:35.541121Z"
    }
   },
   "outputs": [],
   "source": [
    "import numpy\n",
    "import pandas as pd\n",
    "import matplotlib.pyplot as plt\n",
    "from sklearn.naive_bayes import MultinomialNB\n",
    "from sklearn.feature_extraction.text import CountVectorizer\n",
    "from sklearn.metrics import confusion_matrix, f1_score ,accuracy_score\n",
    "\n"
   ]
  },
  {
   "cell_type": "code",
   "execution_count": 2,
   "metadata": {
    "ExecuteTime": {
     "end_time": "2020-11-02T04:09:36.760361Z",
     "start_time": "2020-11-02T04:09:36.752366Z"
    }
   },
   "outputs": [],
   "source": [
    "def get_master(sheets):\n",
    "    data = pd.read_excel('HS/hs_code.xlsx',sheet_name= sheets)\n",
    "    data['chapter'] = data['chapter'].map('{:02}'.format)\n",
    "    data = data[['chapter','description']]\n",
    "    data['description'] = data['description'].str.lower()\n",
    " #   data = data.rename(columns={'heading' : 'target', 'product_desc' : 'question_text'})\n",
    "    \n",
    "    return data"
   ]
  },
  {
   "cell_type": "code",
   "execution_count": 3,
   "metadata": {
    "ExecuteTime": {
     "end_time": "2020-11-02T04:10:00.893275Z",
     "start_time": "2020-11-02T04:09:37.144126Z"
    }
   },
   "outputs": [],
   "source": [
    "sheets = '8_digit'\n",
    "inputs = get_master(sheets)\n",
    "sheets = '2_digit'\n",
    "master = get_master(sheets)\n",
    "sheets = 'deci'\n",
    "deci = get_master(sheets)\n",
    "sheets = 'decx'\n",
    "decx = get_master(sheets)\n",
    "train_df = pd.concat([inputs,master,deci,decx], ignore_index=True)"
   ]
  },
  {
   "cell_type": "code",
   "execution_count": 4,
   "metadata": {
    "ExecuteTime": {
     "end_time": "2020-11-02T04:10:01.134125Z",
     "start_time": "2020-11-02T04:10:00.943245Z"
    }
   },
   "outputs": [],
   "source": [
    "file = train_df.copy()\n",
    "\n",
    "arr_text=file.iloc[:]['description'].values\n",
    "arr_class=file.iloc[:]['chapter'].values\n",
    "from sklearn.model_selection import train_test_split\n",
    "X_train, X_test, y_train, y_test = train_test_split(arr_text, arr_class, test_size=0.33, random_state=42)"
   ]
  },
  {
   "cell_type": "code",
   "execution_count": 5,
   "metadata": {
    "ExecuteTime": {
     "end_time": "2020-11-02T04:10:02.109533Z",
     "start_time": "2020-11-02T04:10:01.194088Z"
    }
   },
   "outputs": [
    {
     "data": {
      "text/plain": [
       "CountVectorizer()"
      ]
     },
     "execution_count": 5,
     "metadata": {},
     "output_type": "execute_result"
    }
   ],
   "source": [
    "vect = CountVectorizer()\n",
    "vect.fit(arr_text)"
   ]
  },
  {
   "cell_type": "code",
   "execution_count": 6,
   "metadata": {
    "ExecuteTime": {
     "end_time": "2020-11-02T04:10:03.514183Z",
     "start_time": "2020-11-02T04:10:02.209472Z"
    }
   },
   "outputs": [],
   "source": [
    "train_transformer_x = vect.transform(X_train)\n",
    "detect_model = MultinomialNB().fit(train_transformer_x,y_train)"
   ]
  },
  {
   "cell_type": "code",
   "execution_count": 7,
   "metadata": {
    "ExecuteTime": {
     "end_time": "2020-11-02T04:10:04.124637Z",
     "start_time": "2020-11-02T04:10:03.591646Z"
    }
   },
   "outputs": [
    {
     "name": "stdout",
     "output_type": "stream",
     "text": [
      "F1 score = 0.624658300963496\n",
      "Accuracy = 0.9110512129380054\n"
     ]
    }
   ],
   "source": [
    "test_transformer_x = vect.transform(X_test)\n",
    "y_pred = detect_model.predict(test_transformer_x)\n",
    "print('F1 score =',f1_score(y_test, y_pred, average='macro'))\n",
    "print('Accuracy =',accuracy_score(y_test, y_pred))"
   ]
  },
  {
   "cell_type": "code",
   "execution_count": null,
   "metadata": {},
   "outputs": [],
   "source": []
  },
  {
   "cell_type": "code",
   "execution_count": 8,
   "metadata": {
    "ExecuteTime": {
     "end_time": "2020-11-02T04:10:04.230573Z",
     "start_time": "2020-11-02T04:10:04.217580Z"
    }
   },
   "outputs": [
    {
     "data": {
      "text/plain": [
       "array(['horses; live, purebred breeding animals - purebred breeding animals',\n",
       "       'horses; live, other than purebred breeding animals - other',\n",
       "       'asses; live - other', ..., 'compressor', 'washing machine',\n",
       "       'condenser assembly'], dtype=object)"
      ]
     },
     "execution_count": 8,
     "metadata": {},
     "output_type": "execute_result"
    }
   ],
   "source": [
    "df =  train_df.copy()\n",
    "\n",
    "#แต่จริงแล้วดึงมาเฉพาะ field text\n",
    "\n",
    "arr_text=df.iloc[:]['description'].values\n",
    "arr_text"
   ]
  },
  {
   "cell_type": "code",
   "execution_count": 9,
   "metadata": {
    "ExecuteTime": {
     "end_time": "2020-11-02T04:10:04.343503Z",
     "start_time": "2020-11-02T04:10:04.333508Z"
    }
   },
   "outputs": [
    {
     "data": {
      "text/plain": [
       "CountVectorizer(stop_words='english')"
      ]
     },
     "execution_count": 9,
     "metadata": {},
     "output_type": "execute_result"
    }
   ],
   "source": [
    "#CountVectorizer ทำ tokenize\n",
    "\n",
    "vect = CountVectorizer(stop_words='english', lowercase=True)\n",
    "vect"
   ]
  },
  {
   "cell_type": "code",
   "execution_count": 10,
   "metadata": {
    "ExecuteTime": {
     "end_time": "2020-11-02T04:10:05.441347Z",
     "start_time": "2020-11-02T04:10:04.507401Z"
    }
   },
   "outputs": [
    {
     "data": {
      "text/plain": [
       "CountVectorizer(stop_words='english')"
      ]
     },
     "execution_count": 10,
     "metadata": {},
     "output_type": "execute_result"
    }
   ],
   "source": [
    "#เริ่มตัดคำ\n",
    "\n",
    "count_train = vect.fit(arr_text)\n",
    "count_train"
   ]
  },
  {
   "cell_type": "code",
   "execution_count": 11,
   "metadata": {
    "ExecuteTime": {
     "end_time": "2020-11-02T04:10:06.528208Z",
     "start_time": "2020-11-02T04:10:05.553277Z"
    },
    "scrolled": true
   },
   "outputs": [
    {
     "data": {
      "text/plain": [
       "{'horses': 8843,\n",
       " 'live': 9557,\n",
       " 'purebred': 11948,\n",
       " 'breeding': 3943,\n",
       " 'animals': 3324,\n",
       " 'asses': 3469,\n",
       " 'mules': 10754,\n",
       " 'hinnies': 8800,\n",
       " 'cattle': 4285,\n",
       " 'oxen': 11165,\n",
       " 'buffalo': 4008,\n",
       " 'bovine': 3898,\n",
       " 'swine': 13349,\n",
       " 'weighing': 14300,\n",
       " '50kg': 1262,\n",
       " '50': 1222,\n",
       " 'kg': 9270,\n",
       " 'sheep': 12708,\n",
       " 'goats': 8488,\n",
       " 'poultry': 11753,\n",
       " 'fowls': 8270,\n",
       " 'species': 12996,\n",
       " 'gallus': 8362,\n",
       " 'domesticus': 5484,\n",
       " '185g': 315,\n",
       " 'turkeys': 13951,\n",
       " 'ducks': 5564,\n",
       " 'ducklings': 5563,\n",
       " 'geese': 8404,\n",
       " 'guinea': 8599,\n",
       " 'fighting': 8071,\n",
       " 'cocks': 4606,\n",
       " 'mammals': 9766,\n",
       " 'primates': 11819,\n",
       " 'whales': 14316,\n",
       " 'dolphins': 5482,\n",
       " 'porpoises': 11728,\n",
       " 'order': 11096,\n",
       " 'cetacea': 4335,\n",
       " 'manatees': 9782,\n",
       " 'dugongs': 5566,\n",
       " 'sirenia': 12826,\n",
       " 'seals': 12575,\n",
       " 'sea': 12568,\n",
       " 'lions': 9530,\n",
       " 'walruses': 14234,\n",
       " 'suborder': 13244,\n",
       " 'pinnipedia': 11533,\n",
       " 'camels': 4131,\n",
       " 'camelids': 4130,\n",
       " 'camelidae': 4129,\n",
       " 'rabbits': 12044,\n",
       " 'hares': 8697,\n",
       " 'reptiles': 12251,\n",
       " 'including': 9001,\n",
       " 'snakes': 12907,\n",
       " 'turtles': 13961,\n",
       " 'birds': 3779,\n",
       " 'prey': 11815,\n",
       " 'psittaciformes': 11910,\n",
       " 'parrots': 11271,\n",
       " 'parakeets': 11253,\n",
       " 'macaws': 9698,\n",
       " 'cockatoos': 4603,\n",
       " 'ostriches': 11132,\n",
       " 'emus': 7746,\n",
       " 'dromaius': 5540,\n",
       " 'novaehollandiae': 10972,\n",
       " 'insects': 9069,\n",
       " 'bees': 3702,\n",
       " 'chapter': 4360,\n",
       " '01': 30,\n",
       " 'meat': 10186,\n",
       " 'carcasses': 4200,\n",
       " 'halfcarcasses': 8657,\n",
       " 'fresh': 8295,\n",
       " 'chilled': 4405,\n",
       " 'cuts': 5125,\n",
       " 'bone': 3863,\n",
       " 'excluding': 7895,\n",
       " 'boneless': 3864,\n",
       " 'frozen': 8307,\n",
       " 'hams': 8671,\n",
       " 'shoulders': 12749,\n",
       " 'thereof': 13652,\n",
       " 'item': 9173,\n",
       " '0203': 37,\n",
       " 'lamb': 9367,\n",
       " 'offal': 11021,\n",
       " 'edible': 7669,\n",
       " 'tongues': 13759,\n",
       " 'livers': 9560,\n",
       " 'cut': 5119,\n",
       " 'pieces': 11503,\n",
       " 'wings': 14349,\n",
       " 'thighs': 13670,\n",
       " 'mechanically': 10195,\n",
       " 'deboned': 5198,\n",
       " 'separated': 12645,\n",
       " 'fatty': 8006,\n",
       " 'foie': 8221,\n",
       " 'gras': 8543,\n",
       " 'frogs': 8301,\n",
       " 'legs': 9443,\n",
       " 'fat': 8004,\n",
       " 'pig': 11506,\n",
       " 'free': 8283,\n",
       " 'lean': 9431,\n",
       " 'rendered': 12235,\n",
       " 'extracted': 7929,\n",
       " 'salted': 12460,\n",
       " 'brine': 3959,\n",
       " 'dried': 5522,\n",
       " 'smoked': 12897,\n",
       " 'pigs': 11510,\n",
       " 'bellies': 3711,\n",
       " 'streaky': 13191,\n",
       " '0210': 40,\n",
       " 'bacon': 3583,\n",
       " 'flours': 8184,\n",
       " 'meals': 10180,\n",
       " 'fish': 8118,\n",
       " 'ornamental': 11115,\n",
       " 'freshwater': 8296,\n",
       " 'botia': 3891,\n",
       " 'chromobotia': 4470,\n",
       " 'macracanthus': 9711,\n",
       " 'koi': 9306,\n",
       " 'carp': 4222,\n",
       " 'cyprinus': 5163,\n",
       " 'carpio': 4225,\n",
       " 'goldfish': 8495,\n",
       " 'carassius': 4178,\n",
       " 'auratus': 3506,\n",
       " 'siamese': 12765,\n",
       " 'beta': 3741,\n",
       " 'splendens': 13032,\n",
       " 'oscars': 11123,\n",
       " 'astonotus': 3476,\n",
       " 'ocellatus': 11009,\n",
       " 'arowanas': 3419,\n",
       " 'scleropages': 12541,\n",
       " 'formosus': 8256,\n",
       " 'jardini': 9194,\n",
       " 'fry': 8311,\n",
       " 'banggai': 3623,\n",
       " 'cardinal': 4209,\n",
       " 'pterapogon': 11918,\n",
       " 'kauderni': 9241,\n",
       " 'napoleon': 10808,\n",
       " 'wrasse': 14405,\n",
       " 'cheilinus': 4380,\n",
       " 'undulatus': 14010,\n",
       " 'trout': 13907,\n",
       " 'salmo': 12455,\n",
       " 'trutta': 13915,\n",
       " 'oncorhynchus': 11060,\n",
       " 'mykiss': 10786,\n",
       " 'clarki': 4525,\n",
       " 'aguabonita': 2904,\n",
       " 'gilae': 8426,\n",
       " 'apache': 3362,\n",
       " 'chrysogaster': 4474,\n",
       " 'agu': 2901,\n",
       " 'eels': 7675,\n",
       " 'anguilla': 3315,\n",
       " 'spp': 13055,\n",
       " 'ctenopharyngodon': 5081,\n",
       " 'idellus': 8947,\n",
       " 'hypophthalmichthys': 8936,\n",
       " 'cirrhinus': 4504,\n",
       " 'mylopharyngodon': 10788,\n",
       " 'piceus': 11492,\n",
       " 'catla': 4284,\n",
       " 'labeo': 9346,\n",
       " 'osteochilus': 11129,\n",
       " 'hasselti': 8707,\n",
       " 'leptobarbus': 9453,\n",
       " 'hoeveni': 8806,\n",
       " 'megalobrama': 10233,\n",
       " 'fr': 8273,\n",
       " 'atlantic': 3483,\n",
       " 'pacific': 11187,\n",
       " 'bluefin': 3830,\n",
       " 'tunas': 13939,\n",
       " 'thunnus': 13701,\n",
       " 'thynnus': 13703,\n",
       " 'orientalis': 11107,\n",
       " 'southern': 12970,\n",
       " 'maccoyii': 9699,\n",
       " 'heading': 8724,\n",
       " '0301': 44,\n",
       " 'tilapias': 13712,\n",
       " 'oreochromis': 11098,\n",
       " 'milkfish': 10508,\n",
       " 'grouper': 8582,\n",
       " 'fillets': 8084,\n",
       " '0304': 47,\n",
       " '0302': 45,\n",
       " 'salmon': 12456,\n",
       " 'nerka': 10858,\n",
       " 'gorbuscha': 8503,\n",
       " 'keta': 9256,\n",
       " 'tschawytscha': 13916,\n",
       " 'kisutch': 9283,\n",
       " 'masou': 9870,\n",
       " 'rhodurus': 12303,\n",
       " 'salar': 12448,\n",
       " 'danube': 5182,\n",
       " 'hucho': 8883,\n",
       " 'subheadings': 13237,\n",
       " '91': 2081,\n",
       " '99': 2150,\n",
       " 'salmonidae': 12457,\n",
       " 'halibut': 8658,\n",
       " 'reinhardtius': 12219,\n",
       " 'hippoglossoides': 8801,\n",
       " 'hippoglossus': 8802,\n",
       " 'stenolepis': 13138,\n",
       " 'hi': 8788,\n",
       " 'plaice': 11588,\n",
       " 'pleuronectes': 11629,\n",
       " 'platessa': 11621,\n",
       " 'sole': 12933,\n",
       " 'solea': 12934,\n",
       " 'turbots': 13950,\n",
       " 'psetta': 11907,\n",
       " 'maxima': 9911,\n",
       " 'scophthalmidae': 12546,\n",
       " 'flat': 8153,\n",
       " 'albacore': 3187,\n",
       " 'longfinned': 9593,\n",
       " 'alalunga': 3181,\n",
       " 'yellowfin': 14449,\n",
       " 'albacares': 3186,\n",
       " 'skipjack': 12850,\n",
       " 'stripebellied': 13202,\n",
       " 'bonito': 3866,\n",
       " 'bigeye': 3759,\n",
       " 'obesus': 11002,\n",
       " 'thunnu': 13700,\n",
       " 'tuna': 13938,\n",
       " 'herrings': 8773,\n",
       " 'clupea': 4574,\n",
       " 'harengus': 8696,\n",
       " 'pallasii': 11214,\n",
       " 'anchovies': 3308,\n",
       " 'engraulis': 7774,\n",
       " 'sardines': 12485,\n",
       " 'sardina': 12483,\n",
       " 'pilchardus': 11512,\n",
       " 'sardinops': 12486,\n",
       " 'sardinella': 12484,\n",
       " 'brisling': 3962,\n",
       " 'sprats': 13056,\n",
       " 'sprattus': 13057,\n",
       " 'sardin': 12482,\n",
       " 'mackerel': 9708,\n",
       " 'scomber': 12542,\n",
       " 'scombrus': 12543,\n",
       " 'australasicus': 3509,\n",
       " 'japonicus': 9193,\n",
       " 'jap': 9191,\n",
       " 'jack': 9181,\n",
       " 'horse': 8841,\n",
       " 'trachurus': 13801,\n",
       " 'cobia': 4599,\n",
       " 'rachycentron': 12049,\n",
       " 'canadum': 4138,\n",
       " 'swordfish': 13357,\n",
       " 'xiphias': 14426,\n",
       " 'gladius': 8455,\n",
       " 'cod': 4612,\n",
       " 'gadus': 8356,\n",
       " 'morhua': 10680,\n",
       " 'ogac': 11029,\n",
       " 'macrocephalus': 9714,\n",
       " 'haddock': 8642,\n",
       " 'melanogrammus': 10237,\n",
       " 'aeglefinus': 2705,\n",
       " 'coalfish': 4589,\n",
       " 'pollachius': 11666,\n",
       " 'virens': 14177,\n",
       " 'hake': 8655,\n",
       " 'merluccius': 10261,\n",
       " 'urophycis': 14069,\n",
       " 'alaska': 3185,\n",
       " 'pollack': 11667,\n",
       " 'theragra': 13647,\n",
       " 'chalcogramma': 4344,\n",
       " 'blue': 3829,\n",
       " 'whitings': 14329,\n",
       " 'micromesistius': 10490,\n",
       " 'poutassou': 11755,\n",
       " 'australis': 3510,\n",
       " 'catfish': 4276,\n",
       " 'pangasius': 11229,\n",
       " 'silurus': 12800,\n",
       " 'clarias': 4522,\n",
       " 'ictalurus': 8946,\n",
       " 'yellowtail': 14451,\n",
       " 'specified': 12999,\n",
       " 'wco': 14284,\n",
       " 'sp': 12975,\n",
       " 'nile': 10885,\n",
       " 'perch': 11375,\n",
       " 'lates': 9396,\n",
       " 'niloticus': 10886,\n",
       " 'snakeheads': 12906,\n",
       " 'channa': 4359,\n",
       " 'dogfish': 5479,\n",
       " 'sharks': 12692,\n",
       " 'rays': 12117,\n",
       " 'skates': 12833,\n",
       " 'rajidae': 12089,\n",
       " 'toothfish': 13767,\n",
       " 'dissostichus': 5439,\n",
       " 'seabass': 12569,\n",
       " 'dicentrarchus': 5328,\n",
       " 'seabream': 12570,\n",
       " 'sparidae': 12988,\n",
       " 'longfin': 9592,\n",
       " 'mojarra': 10638,\n",
       " 'pentaprion': 11366,\n",
       " 'longimanus': 9594,\n",
       " 'bluntnose': 3834,\n",
       " 'lizardfish': 9562,\n",
       " 'trachinocephalus': 13800,\n",
       " 'myops': 10789,\n",
       " 'savalai': 12501,\n",
       " 'hairtails': 8654,\n",
       " 'lepturacanthus': 9454,\n",
       " 'savala': 12500,\n",
       " 'belanger': 3708,\n",
       " 'croakers': 5044,\n",
       " 'johnius': 9209,\n",
       " 'belangerii': 3709,\n",
       " 'reeve': 12186,\n",
       " 'ch': 4339,\n",
       " 'torpedo': 13774,\n",
       " 'scads': 12516,\n",
       " 'megalaspis': 10232,\n",
       " 'cordyla': 4807,\n",
       " 'spotted': 13053,\n",
       " 'sicklefish': 12767,\n",
       " 'drepane': 5515,\n",
       " 'punctata': 11943,\n",
       " 'great': 8556,\n",
       " 'barracudas': 3643,\n",
       " 'sphyraena': 13015,\n",
       " 'black': 3794,\n",
       " 'pomfrets': 11717,\n",
       " 'parastromatus': 11258,\n",
       " 'niger': 10881,\n",
       " 'mangrove': 9791,\n",
       " 'red': 12172,\n",
       " 'snappers': 12909,\n",
       " 'lutjanus': 9637,\n",
       " 'argentimaculatus': 3406,\n",
       " 'swamp': 13336,\n",
       " 'barb': 3628,\n",
       " 'puntius': 11945,\n",
       " 'chola': 4457,\n",
       " 'indian': 9015,\n",
       " 'threadfins': 13688,\n",
       " 'polynemus': 11697,\n",
       " 'indicus': 9018,\n",
       " 'silver': 12801,\n",
       " 'grunts': 8586,\n",
       " 'pomadasys': 11713,\n",
       " 'argenteus': 3405,\n",
       " 'hilsa': 8797,\n",
       " 'shad': 12677,\n",
       " 'tenualosa': 13587,\n",
       " 'ilisha': 8957,\n",
       " 'wallago': 14228,\n",
       " 'attu': 3493,\n",
       " 'giant': 8424,\n",
       " 'rivercatfish': 12322,\n",
       " 'sperata': 13010,\n",
       " 'seenghala': 12598,\n",
       " 'roes': 12351,\n",
       " 'milt': 10516,\n",
       " 'shark': 12691,\n",
       " 'fins': 8104,\n",
       " 'heads': 8729,\n",
       " 'tails': 13399,\n",
       " 'maws': 9910,\n",
       " 'sockeye': 12922,\n",
       " '0303': 46,\n",
       " 'myloph': 10787,\n",
       " 'pilchard': 11511,\n",
       " 'mackerels': 9709,\n",
       " 'rastrelliger': 12107,\n",
       " 'kanagurta': 9232,\n",
       " 'island': 9156,\n",
       " 'faughni': 8007,\n",
       " 'pampus': 11223,\n",
       " 'theraga': 13646,\n",
       " 'bregmacerotidae': 3945,\n",
       " 'euclichthyidae': 7866,\n",
       " 'gadidae': 8355,\n",
       " 'macrouridae': 9716,\n",
       " 'melanonidae': 10238,\n",
       " 'merlucciidae': 10260,\n",
       " 'moridae': 10681,\n",
       " 'muraenolepididae': 10771,\n",
       " 'chrysochir': 4473,\n",
       " 'barracuda': 3642,\n",
       " 'clark': 4524,\n",
       " 'pleuronectidae': 11630,\n",
       " 'bothidae': 3890,\n",
       " 'cynoglossidae': 5162,\n",
       " 'soleidae': 12936,\n",
       " 'citharidae': 4507,\n",
       " 'families': 7994,\n",
       " 'minced': 10518,\n",
       " 'ca': 4082,\n",
       " 'oncorhy': 11058,\n",
       " 'genus': 8417,\n",
       " 'euthynnus': 7868,\n",
       " 'katsuwonus': 9240,\n",
       " 'pelamis': 11342,\n",
       " 'pellets': 11345,\n",
       " 'fit': 8125,\n",
       " 'human': 8887,\n",
       " 'consumption': 4749,\n",
       " 'macr': 9710,\n",
       " '0305': 48,\n",
       " 'garfish': 8374,\n",
       " 'xenentodon': 14423,\n",
       " 'cancila': 4142,\n",
       " 'yellowstriped': 14450,\n",
       " 'goatfish': 8487,\n",
       " 'upeneus': 14057,\n",
       " 'vittatus': 14191,\n",
       " 'longrakered': 9596,\n",
       " 'trevally': 13863,\n",
       " 'ulua': 13992,\n",
       " 'mentalis': 10248,\n",
       " 'aureus': 3507,\n",
       " 'pennahia': 11358,\n",
       " 'anea': 3310,\n",
       " 'marine': 9857,\n",
       " 'cooked': 4782,\n",
       " 'smoking': 12898,\n",
       " 'includes': 8999,\n",
       " 'excludes': 7894,\n",
       " 'oncorhynchu': 11059,\n",
       " 'ctenop': 5080,\n",
       " 'incl': 8994,\n",
       " 'seerfishes': 12599,\n",
       " 'jacks': 9185,\n",
       " 'crevalles': 5036,\n",
       " 'saury': 12496,\n",
       " 'capelin': 4160,\n",
       " 'kawakawa': 9242,\n",
       " 'bonitos': 3867,\n",
       " 'marlins': 9862,\n",
       " 'sailfishes': 12441,\n",
       " 'spearfish': 12993,\n",
       " 'stolephorus': 13165,\n",
       " 'coilia': 4621,\n",
       " 'setipinna': 12669,\n",
       " 'lycothrissa': 9643,\n",
       " 'thryssa': 13699,\n",
       " 'encrasicholina': 7756,\n",
       " 'harengas': 8695,\n",
       " 'engrails': 7773,\n",
       " 'crustaceans': 5072,\n",
       " 'rock': 12344,\n",
       " 'lobsters': 9569,\n",
       " 'crawfish': 5001,\n",
       " 'palinurus': 11212,\n",
       " 'panulirus': 11235,\n",
       " 'jasus': 9196,\n",
       " 'shell': 12714,\n",
       " 'steaming': 13125,\n",
       " 'boiling': 3854,\n",
       " 'water': 14254,\n",
       " 'homarus': 8818,\n",
       " 'crabs': 4986,\n",
       " 'soft': 12926,\n",
       " 'norway': 10964,\n",
       " 'nephrops': 10856,\n",
       " 'norvegicus': 10963,\n",
       " 'coldwater': 4636,\n",
       " 'shrimps': 12756,\n",
       " 'prawns': 11771,\n",
       " 'pandalus': 11226,\n",
       " 'crangon': 4994,\n",
       " 'cra': 4984,\n",
       " 'varieties': 14105,\n",
       " 'headless': 8726,\n",
       " 'tail': 13397,\n",
       " 'river': 12321,\n",
       " 'macrobrachium': 9712,\n",
       " 'rosenbergii': 12376,\n",
       " '0306': 49,\n",
       " 'tiger': 13710,\n",
       " 'penaeus': 11348,\n",
       " 'monodon': 10664,\n",
       " 'whiteleg': 14328,\n",
       " 'litopenaeus': 9554,\n",
       " 'vannamei': 14098,\n",
       " 'molluscs': 10642,\n",
       " 'oysters': 11180,\n",
       " 'process': 11838,\n",
       " 'scallops': 12521,\n",
       " 'queen': 11988,\n",
       " 'genera': 8409,\n",
       " 'pecten': 11328,\n",
       " 'chlamys': 4423,\n",
       " 'placopecten': 11587,\n",
       " 'mussels': 10778,\n",
       " 'mytilus': 10791,\n",
       " 'perna': 11401,\n",
       " 'cuttle': 5131,\n",
       " 'squid': 13080,\n",
       " 'sepia': 12651,\n",
       " 'officinalis': 11027,\n",
       " 'rossia': 12379,\n",
       " 'macrosoma': 9715,\n",
       " 'sepiola': 12652,\n",
       " 'ommastrephes': 11055,\n",
       " 'loligo': 9586,\n",
       " 'nototodarus': 10971,\n",
       " 'sepioteuthis': 12653,\n",
       " 'loligospp': 9587,\n",
       " 'officin': 11026,\n",
       " 'octopus': 11014,\n",
       " 'snails': 12904,\n",
       " 'clams': 4520,\n",
       " 'cockles'"
      ]
     },
     "execution_count": 11,
     "metadata": {},
     "output_type": "execute_result"
    },
    {
     "data": {
      "text/html": [
       "<b>limit_output extension: Maximum message size of 10000 exceeded with 18482 characters</b>"
      ]
     },
     "metadata": {},
     "output_type": "display_data"
    }
   ],
   "source": [
    "#เริ่มตัดคำ\n",
    "\n",
    "count_train = vect.fit(arr_text)\n",
    "\n",
    "#ดู vocabulary_\n",
    "\n",
    "vect.vocabulary_"
   ]
  },
  {
   "cell_type": "code",
   "execution_count": 12,
   "metadata": {
    "ExecuteTime": {
     "end_time": "2020-11-02T04:10:07.499623Z",
     "start_time": "2020-11-02T04:10:06.615156Z"
    }
   },
   "outputs": [
    {
     "data": {
      "text/plain": [
       "<56212x14483 sparse matrix of type '<class 'numpy.int64'>'\n",
       "\twith 253945 stored elements in Compressed Sparse Row format>"
      ]
     },
     "execution_count": 12,
     "metadata": {},
     "output_type": "execute_result"
    }
   ],
   "source": [
    "#ทำ transform ให้อยู่ในรูปแบบ One Hot Encoding\n",
    "\n",
    "transformer = vect.transform(arr_text)\n",
    "transformer"
   ]
  },
  {
   "cell_type": "code",
   "execution_count": 13,
   "metadata": {
    "ExecuteTime": {
     "end_time": "2020-11-02T04:10:08.431556Z",
     "start_time": "2020-11-02T04:10:07.615550Z"
    }
   },
   "outputs": [
    {
     "ename": "ValueError",
     "evalue": "array is too big; `arr.size * arr.dtype.itemsize` is larger than the maximum possible size.",
     "output_type": "error",
     "traceback": [
      "\u001b[1;31m---------------------------------------------------------------------------\u001b[0m",
      "\u001b[1;31mValueError\u001b[0m                                Traceback (most recent call last)",
      "\u001b[1;32m<ipython-input-13-1f508ac826fb>\u001b[0m in \u001b[0;36m<module>\u001b[1;34m\u001b[0m\n\u001b[0;32m      1\u001b[0m \u001b[1;31m#ดูผลลัพท์ matrix ที่ได้โดย array จะประกอบด้วย context ใน 1 paragraph หากมี word ใน context ให้ค่าเป็น 1 และหากไม่มี word ใน context ให้ค่าเป็น 0\u001b[0m\u001b[1;33m\u001b[0m\u001b[1;33m\u001b[0m\u001b[1;33m\u001b[0m\u001b[0m\n\u001b[0;32m      2\u001b[0m \u001b[1;33m\u001b[0m\u001b[0m\n\u001b[1;32m----> 3\u001b[1;33m \u001b[0mprint\u001b[0m\u001b[1;33m(\u001b[0m\u001b[0mtransformer\u001b[0m\u001b[1;33m.\u001b[0m\u001b[0mtoarray\u001b[0m\u001b[1;33m(\u001b[0m\u001b[1;33m)\u001b[0m\u001b[1;33m)\u001b[0m\u001b[1;33m\u001b[0m\u001b[1;33m\u001b[0m\u001b[0m\n\u001b[0m",
      "\u001b[1;32mC:\\ProgramData\\Anaconda3\\lib\\site-packages\\scipy\\sparse\\compressed.py\u001b[0m in \u001b[0;36mtoarray\u001b[1;34m(self, order, out)\u001b[0m\n\u001b[0;32m   1023\u001b[0m         \u001b[1;32mif\u001b[0m \u001b[0mout\u001b[0m \u001b[1;32mis\u001b[0m \u001b[1;32mNone\u001b[0m \u001b[1;32mand\u001b[0m \u001b[0morder\u001b[0m \u001b[1;32mis\u001b[0m \u001b[1;32mNone\u001b[0m\u001b[1;33m:\u001b[0m\u001b[1;33m\u001b[0m\u001b[1;33m\u001b[0m\u001b[0m\n\u001b[0;32m   1024\u001b[0m             \u001b[0morder\u001b[0m \u001b[1;33m=\u001b[0m \u001b[0mself\u001b[0m\u001b[1;33m.\u001b[0m\u001b[0m_swap\u001b[0m\u001b[1;33m(\u001b[0m\u001b[1;34m'cf'\u001b[0m\u001b[1;33m)\u001b[0m\u001b[1;33m[\u001b[0m\u001b[1;36m0\u001b[0m\u001b[1;33m]\u001b[0m\u001b[1;33m\u001b[0m\u001b[1;33m\u001b[0m\u001b[0m\n\u001b[1;32m-> 1025\u001b[1;33m         \u001b[0mout\u001b[0m \u001b[1;33m=\u001b[0m \u001b[0mself\u001b[0m\u001b[1;33m.\u001b[0m\u001b[0m_process_toarray_args\u001b[0m\u001b[1;33m(\u001b[0m\u001b[0morder\u001b[0m\u001b[1;33m,\u001b[0m \u001b[0mout\u001b[0m\u001b[1;33m)\u001b[0m\u001b[1;33m\u001b[0m\u001b[1;33m\u001b[0m\u001b[0m\n\u001b[0m\u001b[0;32m   1026\u001b[0m         \u001b[1;32mif\u001b[0m \u001b[1;32mnot\u001b[0m \u001b[1;33m(\u001b[0m\u001b[0mout\u001b[0m\u001b[1;33m.\u001b[0m\u001b[0mflags\u001b[0m\u001b[1;33m.\u001b[0m\u001b[0mc_contiguous\u001b[0m \u001b[1;32mor\u001b[0m \u001b[0mout\u001b[0m\u001b[1;33m.\u001b[0m\u001b[0mflags\u001b[0m\u001b[1;33m.\u001b[0m\u001b[0mf_contiguous\u001b[0m\u001b[1;33m)\u001b[0m\u001b[1;33m:\u001b[0m\u001b[1;33m\u001b[0m\u001b[1;33m\u001b[0m\u001b[0m\n\u001b[0;32m   1027\u001b[0m             \u001b[1;32mraise\u001b[0m \u001b[0mValueError\u001b[0m\u001b[1;33m(\u001b[0m\u001b[1;34m'Output array must be C or F contiguous'\u001b[0m\u001b[1;33m)\u001b[0m\u001b[1;33m\u001b[0m\u001b[1;33m\u001b[0m\u001b[0m\n",
      "\u001b[1;32mC:\\ProgramData\\Anaconda3\\lib\\site-packages\\scipy\\sparse\\base.py\u001b[0m in \u001b[0;36m_process_toarray_args\u001b[1;34m(self, order, out)\u001b[0m\n\u001b[0;32m   1183\u001b[0m             \u001b[1;32mreturn\u001b[0m \u001b[0mout\u001b[0m\u001b[1;33m\u001b[0m\u001b[1;33m\u001b[0m\u001b[0m\n\u001b[0;32m   1184\u001b[0m         \u001b[1;32melse\u001b[0m\u001b[1;33m:\u001b[0m\u001b[1;33m\u001b[0m\u001b[1;33m\u001b[0m\u001b[0m\n\u001b[1;32m-> 1185\u001b[1;33m             \u001b[1;32mreturn\u001b[0m \u001b[0mnp\u001b[0m\u001b[1;33m.\u001b[0m\u001b[0mzeros\u001b[0m\u001b[1;33m(\u001b[0m\u001b[0mself\u001b[0m\u001b[1;33m.\u001b[0m\u001b[0mshape\u001b[0m\u001b[1;33m,\u001b[0m \u001b[0mdtype\u001b[0m\u001b[1;33m=\u001b[0m\u001b[0mself\u001b[0m\u001b[1;33m.\u001b[0m\u001b[0mdtype\u001b[0m\u001b[1;33m,\u001b[0m \u001b[0morder\u001b[0m\u001b[1;33m=\u001b[0m\u001b[0morder\u001b[0m\u001b[1;33m)\u001b[0m\u001b[1;33m\u001b[0m\u001b[1;33m\u001b[0m\u001b[0m\n\u001b[0m\u001b[0;32m   1186\u001b[0m \u001b[1;33m\u001b[0m\u001b[0m\n\u001b[0;32m   1187\u001b[0m \u001b[1;33m\u001b[0m\u001b[0m\n",
      "\u001b[1;31mValueError\u001b[0m: array is too big; `arr.size * arr.dtype.itemsize` is larger than the maximum possible size."
     ]
    }
   ],
   "source": [
    "#ดูผลลัพท์ matrix ที่ได้โดย array จะประกอบด้วย context ใน 1 paragraph หากมี word ใน context ให้ค่าเป็น 1 และหากไม่มี word ใน context ให้ค่าเป็น 0\n",
    "\n",
    "print(transformer.toarray())"
   ]
  },
  {
   "cell_type": "code",
   "execution_count": 14,
   "metadata": {
    "ExecuteTime": {
     "end_time": "2020-11-02T04:10:08.575466Z",
     "start_time": "2020-11-02T04:10:08.542487Z"
    }
   },
   "outputs": [
    {
     "data": {
      "text/plain": [
       "array([8.80139132, 6.77209956, 9.73966096, ..., 9.63430044, 9.63430044,\n",
       "       9.63430044])"
      ]
     },
     "execution_count": 14,
     "metadata": {},
     "output_type": "execute_result"
    }
   ],
   "source": [
    "# เตรียม tf-idf\n",
    "\n",
    "from sklearn.feature_extraction.text import TfidfTransformer\n",
    "# Config tf-idf\n",
    "\n",
    "tfidf_transformer = TfidfTransformer(smooth_idf=False,).fit(transformer)\n",
    "\n",
    "#show ค่า idf\n",
    "\n",
    "tfidf_transformer.idf_"
   ]
  },
  {
   "cell_type": "code",
   "execution_count": 15,
   "metadata": {
    "ExecuteTime": {
     "end_time": "2020-11-02T04:11:43.636268Z",
     "start_time": "2020-11-02T04:11:43.626276Z"
    }
   },
   "outputs": [
    {
     "data": {
      "text/plain": [
       "array(['01', '01', '01', ..., '84', '84', '84'], dtype=object)"
      ]
     },
     "execution_count": 15,
     "metadata": {},
     "output_type": "execute_result"
    }
   ],
   "source": [
    "from sklearn.naive_bayes import MultinomialNB\n",
    "\n",
    "#เตรียม Class ในรูปแบบ array เหมือน arr_text\n",
    "\n",
    "arr_class=df.iloc[:]['chapter'].values\n",
    "arr_class"
   ]
  },
  {
   "cell_type": "code",
   "execution_count": 16,
   "metadata": {
    "ExecuteTime": {
     "end_time": "2020-11-02T04:11:44.148060Z",
     "start_time": "2020-11-02T04:11:44.108084Z"
    }
   },
   "outputs": [
    {
     "name": "stdout",
     "output_type": "stream",
     "text": [
      "(56212, 14483)\n"
     ]
    }
   ],
   "source": [
    "#เตรียม train จาก transformer\n",
    "\n",
    "messages_tfidf = tfidf_transformer.transform(transformer)\n",
    "print (messages_tfidf.shape)"
   ]
  },
  {
   "cell_type": "code",
   "execution_count": 17,
   "metadata": {
    "ExecuteTime": {
     "end_time": "2020-11-02T04:11:46.704206Z",
     "start_time": "2020-11-02T04:11:46.236642Z"
    }
   },
   "outputs": [
    {
     "ename": "ValueError",
     "evalue": "array is too big; `arr.size * arr.dtype.itemsize` is larger than the maximum possible size.",
     "output_type": "error",
     "traceback": [
      "\u001b[1;31m---------------------------------------------------------------------------\u001b[0m",
      "\u001b[1;31mValueError\u001b[0m                                Traceback (most recent call last)",
      "\u001b[1;32m<ipython-input-17-7c0be9d394a1>\u001b[0m in \u001b[0;36m<module>\u001b[1;34m\u001b[0m\n\u001b[1;32m----> 1\u001b[1;33m \u001b[0mmessages_tfidf\u001b[0m\u001b[1;33m.\u001b[0m\u001b[0mtoarray\u001b[0m\u001b[1;33m(\u001b[0m\u001b[1;33m)\u001b[0m\u001b[1;33m\u001b[0m\u001b[1;33m\u001b[0m\u001b[0m\n\u001b[0m",
      "\u001b[1;32mC:\\ProgramData\\Anaconda3\\lib\\site-packages\\scipy\\sparse\\compressed.py\u001b[0m in \u001b[0;36mtoarray\u001b[1;34m(self, order, out)\u001b[0m\n\u001b[0;32m   1023\u001b[0m         \u001b[1;32mif\u001b[0m \u001b[0mout\u001b[0m \u001b[1;32mis\u001b[0m \u001b[1;32mNone\u001b[0m \u001b[1;32mand\u001b[0m \u001b[0morder\u001b[0m \u001b[1;32mis\u001b[0m \u001b[1;32mNone\u001b[0m\u001b[1;33m:\u001b[0m\u001b[1;33m\u001b[0m\u001b[1;33m\u001b[0m\u001b[0m\n\u001b[0;32m   1024\u001b[0m             \u001b[0morder\u001b[0m \u001b[1;33m=\u001b[0m \u001b[0mself\u001b[0m\u001b[1;33m.\u001b[0m\u001b[0m_swap\u001b[0m\u001b[1;33m(\u001b[0m\u001b[1;34m'cf'\u001b[0m\u001b[1;33m)\u001b[0m\u001b[1;33m[\u001b[0m\u001b[1;36m0\u001b[0m\u001b[1;33m]\u001b[0m\u001b[1;33m\u001b[0m\u001b[1;33m\u001b[0m\u001b[0m\n\u001b[1;32m-> 1025\u001b[1;33m         \u001b[0mout\u001b[0m \u001b[1;33m=\u001b[0m \u001b[0mself\u001b[0m\u001b[1;33m.\u001b[0m\u001b[0m_process_toarray_args\u001b[0m\u001b[1;33m(\u001b[0m\u001b[0morder\u001b[0m\u001b[1;33m,\u001b[0m \u001b[0mout\u001b[0m\u001b[1;33m)\u001b[0m\u001b[1;33m\u001b[0m\u001b[1;33m\u001b[0m\u001b[0m\n\u001b[0m\u001b[0;32m   1026\u001b[0m         \u001b[1;32mif\u001b[0m \u001b[1;32mnot\u001b[0m \u001b[1;33m(\u001b[0m\u001b[0mout\u001b[0m\u001b[1;33m.\u001b[0m\u001b[0mflags\u001b[0m\u001b[1;33m.\u001b[0m\u001b[0mc_contiguous\u001b[0m \u001b[1;32mor\u001b[0m \u001b[0mout\u001b[0m\u001b[1;33m.\u001b[0m\u001b[0mflags\u001b[0m\u001b[1;33m.\u001b[0m\u001b[0mf_contiguous\u001b[0m\u001b[1;33m)\u001b[0m\u001b[1;33m:\u001b[0m\u001b[1;33m\u001b[0m\u001b[1;33m\u001b[0m\u001b[0m\n\u001b[0;32m   1027\u001b[0m             \u001b[1;32mraise\u001b[0m \u001b[0mValueError\u001b[0m\u001b[1;33m(\u001b[0m\u001b[1;34m'Output array must be C or F contiguous'\u001b[0m\u001b[1;33m)\u001b[0m\u001b[1;33m\u001b[0m\u001b[1;33m\u001b[0m\u001b[0m\n",
      "\u001b[1;32mC:\\ProgramData\\Anaconda3\\lib\\site-packages\\scipy\\sparse\\base.py\u001b[0m in \u001b[0;36m_process_toarray_args\u001b[1;34m(self, order, out)\u001b[0m\n\u001b[0;32m   1183\u001b[0m             \u001b[1;32mreturn\u001b[0m \u001b[0mout\u001b[0m\u001b[1;33m\u001b[0m\u001b[1;33m\u001b[0m\u001b[0m\n\u001b[0;32m   1184\u001b[0m         \u001b[1;32melse\u001b[0m\u001b[1;33m:\u001b[0m\u001b[1;33m\u001b[0m\u001b[1;33m\u001b[0m\u001b[0m\n\u001b[1;32m-> 1185\u001b[1;33m             \u001b[1;32mreturn\u001b[0m \u001b[0mnp\u001b[0m\u001b[1;33m.\u001b[0m\u001b[0mzeros\u001b[0m\u001b[1;33m(\u001b[0m\u001b[0mself\u001b[0m\u001b[1;33m.\u001b[0m\u001b[0mshape\u001b[0m\u001b[1;33m,\u001b[0m \u001b[0mdtype\u001b[0m\u001b[1;33m=\u001b[0m\u001b[0mself\u001b[0m\u001b[1;33m.\u001b[0m\u001b[0mdtype\u001b[0m\u001b[1;33m,\u001b[0m \u001b[0morder\u001b[0m\u001b[1;33m=\u001b[0m\u001b[0morder\u001b[0m\u001b[1;33m)\u001b[0m\u001b[1;33m\u001b[0m\u001b[1;33m\u001b[0m\u001b[0m\n\u001b[0m\u001b[0;32m   1186\u001b[0m \u001b[1;33m\u001b[0m\u001b[0m\n\u001b[0;32m   1187\u001b[0m \u001b[1;33m\u001b[0m\u001b[0m\n",
      "\u001b[1;31mValueError\u001b[0m: array is too big; `arr.size * arr.dtype.itemsize` is larger than the maximum possible size."
     ]
    }
   ],
   "source": [
    "messages_tfidf.toarray()"
   ]
  },
  {
   "cell_type": "code",
   "execution_count": 18,
   "metadata": {
    "ExecuteTime": {
     "end_time": "2020-11-02T04:11:49.210029Z",
     "start_time": "2020-11-02T04:11:47.739360Z"
    }
   },
   "outputs": [
    {
     "name": "stdout",
     "output_type": "stream",
     "text": [
      "(39348, 14483) (16864, 14483) (39348,) (16864,)\n"
     ]
    }
   ],
   "source": [
    "#สร้าง Model\n",
    "\n",
    "detect_model = MultinomialNB().fit(messages_tfidf,arr_class)\n",
    "\n",
    "from sklearn.model_selection import train_test_split\n",
    "x_train,x_test,y_train, y_test = train_test_split( messages_tfidf,arr_class, test_size = 0.3, random_state=7)\n",
    "\n",
    "print(x_train.shape, x_test.shape, y_train.shape, y_test.shape)\n",
    "\n",
    "detect_model =MultinomialNB().fit(x_train,y_train)\n",
    "#detect_model = MultinomialNB().fit(messages_tfidf,arr_class)"
   ]
  },
  {
   "cell_type": "code",
   "execution_count": 19,
   "metadata": {
    "ExecuteTime": {
     "end_time": "2020-11-02T04:11:50.023598Z",
     "start_time": "2020-11-02T04:11:49.959639Z"
    }
   },
   "outputs": [
    {
     "name": "stdout",
     "output_type": "stream",
     "text": [
      "0.8642670777988615\n"
     ]
    }
   ],
   "source": [
    "print(detect_model.score(x_test, y_test))"
   ]
  },
  {
   "cell_type": "markdown",
   "metadata": {},
   "source": [
    "## ทดสอบการทำนาย"
   ]
  },
  {
   "cell_type": "code",
   "execution_count": 20,
   "metadata": {
    "ExecuteTime": {
     "end_time": "2020-11-02T04:12:11.521471Z",
     "start_time": "2020-11-02T04:12:11.516474Z"
    }
   },
   "outputs": [],
   "source": [
    "products = 'horses; live'"
   ]
  },
  {
   "cell_type": "code",
   "execution_count": 38,
   "metadata": {
    "ExecuteTime": {
     "end_time": "2020-11-02T06:10:54.292408Z",
     "start_time": "2020-11-02T06:10:54.281415Z"
    }
   },
   "outputs": [],
   "source": [
    "products = 'mango'"
   ]
  },
  {
   "cell_type": "code",
   "execution_count": 21,
   "metadata": {
    "ExecuteTime": {
     "end_time": "2020-11-02T06:10:54.943613Z",
     "start_time": "2020-11-02T06:10:54.937618Z"
    }
   },
   "outputs": [],
   "source": [
    "t0=vect.transform([products])\n",
    "\n",
    "#แปลงเป็น vector\n",
    "\n",
    "txt = t0.toarray()"
   ]
  },
  {
   "cell_type": "code",
   "execution_count": 22,
   "metadata": {
    "ExecuteTime": {
     "end_time": "2020-11-02T06:10:55.765616Z",
     "start_time": "2020-11-02T06:10:55.754623Z"
    }
   },
   "outputs": [
    {
     "name": "stdout",
     "output_type": "stream",
     "text": [
      "Predicted:  ['03']\n"
     ]
    }
   ],
   "source": [
    "print ('Predicted: ',detect_model.predict(txt) )"
   ]
  },
  {
   "cell_type": "code",
   "execution_count": 23,
   "metadata": {
    "ExecuteTime": {
     "end_time": "2020-11-02T04:12:26.167595Z",
     "start_time": "2020-11-02T04:12:26.019689Z"
    }
   },
   "outputs": [
    {
     "name": "stdout",
     "output_type": "stream",
     "text": [
      "['85' '85' '84' ... '84' '84' '84']\n"
     ]
    }
   ],
   "source": [
    "#เห็นว่าคำทำนายออกมาเป็น london ตรงกับ Expected\n",
    "#นำ data ทั้งหมดที่ train ไป test มันก็ควรจะตรง(Expected คือ 100%)\n",
    "\n",
    "all_predictions = detect_model.predict(messages_tfidf)\n",
    "print(all_predictions)"
   ]
  },
  {
   "cell_type": "code",
   "execution_count": 24,
   "metadata": {
    "ExecuteTime": {
     "end_time": "2020-11-02T04:12:28.800820Z",
     "start_time": "2020-11-02T04:12:27.082887Z"
    }
   },
   "outputs": [
    {
     "name": "stderr",
     "output_type": "stream",
     "text": [
      "C:\\ProgramData\\Anaconda3\\lib\\site-packages\\sklearn\\metrics\\_classification.py:1221: UndefinedMetricWarning: Precision and F-score are ill-defined and being set to 0.0 in labels with no predicted samples. Use `zero_division` parameter to control this behavior.\n",
      "  _warn_prf(average, modifier, msg_start, len(result))\n"
     ]
    },
    {
     "name": "stdout",
     "output_type": "stream",
     "text": [
      "              precision    recall  f1-score   support\n",
      "\n",
      "          01       1.00      0.31      0.47        49\n",
      "          02       1.00      0.21      0.34        72\n",
      "          03       0.79      1.00      0.88       365\n",
      "          04       1.00      0.75      0.86        65\n",
      "          05       0.00      0.00      0.00        25\n",
      "          06       0.00      0.00      0.00        28\n",
      "          07       1.00      0.62      0.77       117\n",
      "          08       1.00      0.21      0.35        95\n",
      "          09       1.00      0.46      0.63        63\n",
      "          10       0.00      0.00      0.00        37\n",
      "          11       0.00      0.00      0.00        40\n",
      "          12       1.00      0.23      0.37        80\n",
      "          13       0.00      0.00      0.00        22\n",
      "          14       0.00      0.00      0.00        14\n",
      "          15       0.98      0.89      0.93       175\n",
      "          16       1.00      0.70      0.82        77\n",
      "          17       0.00      0.00      0.00        32\n",
      "          18       0.00      0.00      0.00        16\n",
      "          19       0.98      0.68      0.80        60\n",
      "          20       0.96      0.93      0.95        88\n",
      "          21       0.00      0.00      0.00        64\n",
      "          22       1.00      0.38      0.55       128\n",
      "          23       1.00      0.22      0.36        41\n",
      "          24       1.00      0.03      0.06        70\n",
      "          25       1.00      0.05      0.09        88\n",
      "          26       0.00      0.00      0.00        42\n",
      "          27       0.72      0.41      0.52       144\n",
      "          28       0.94      0.21      0.34       219\n",
      "          29       0.95      0.87      0.91       452\n",
      "          30       1.00      0.75      0.86       110\n",
      "          31       0.00      0.00      0.00        32\n",
      "          32       1.00      0.39      0.56        87\n",
      "          33       0.00      0.00      0.00        53\n",
      "          34       1.00      0.22      0.36        63\n",
      "          35       0.00      0.00      0.00        32\n",
      "          36       0.00      0.00      0.00        17\n",
      "          37       1.00      0.53      0.69        53\n",
      "          38       0.99      0.48      0.64       161\n",
      "          39       0.87      0.71      0.78       959\n",
      "          40       0.98      0.35      0.52       806\n",
      "          41       1.00      0.40      0.57        40\n",
      "          42       0.00      0.00      0.00        37\n",
      "          43       0.00      0.00      0.00        17\n",
      "          44       1.00      0.73      0.85       205\n",
      "          45       0.00      0.00      0.00         8\n",
      "          46       0.00      0.00      0.00        29\n",
      "          47       0.00      0.00      0.00        22\n",
      "          48       0.87      0.62      0.73       389\n",
      "          49       1.00      0.68      0.81       120\n",
      "          50       0.90      0.51      0.65       101\n",
      "          51       0.00      0.00      0.00        40\n",
      "          52       0.74      0.98      0.84       238\n",
      "          53       1.00      0.19      0.32        32\n",
      "          54       0.92      0.61      0.74       109\n",
      "          55       0.87      0.82      0.85       117\n",
      "          56       1.00      0.13      0.24        60\n",
      "          57       1.00      0.86      0.92        63\n",
      "          58       0.98      0.64      0.77        86\n",
      "          59       0.00      0.00      0.00        47\n",
      "          60       1.00      0.69      0.82        65\n",
      "          61       1.00      0.12      0.21       133\n",
      "          62       0.58      0.97      0.72       230\n",
      "          63       1.00      0.08      0.15        96\n",
      "          64       1.00      0.42      0.59        53\n",
      "          65       0.00      0.00      0.00        16\n",
      "          66       0.00      0.00      0.00         8\n",
      "          67       0.00      0.00      0.00        11\n",
      "          68       1.00      0.17      0.29        84\n",
      "          69       1.00      0.40      0.57        62\n",
      "          70       1.00      0.75      0.86       314\n",
      "          71       1.00      0.20      0.33        87\n",
      "          72       0.96      0.97      0.96       552\n",
      "          73       0.90      0.69      0.78      1191\n",
      "          74       1.00      0.09      0.17       188\n",
      "          75       0.00      0.00      0.00        20\n",
      "          76       1.00      0.77      0.87       330\n",
      "          78       0.00      0.00      0.00        23\n",
      "          79       0.00      0.00      0.00        16\n",
      "          80       0.00      0.00      0.00        13\n",
      "          81       0.00      0.00      0.00        51\n",
      "          82       0.00      0.00      0.00       106\n",
      "          83       0.00      0.00      0.00       153\n",
      "          84       0.86      0.99      0.92     28731\n",
      "          85       0.89      0.91      0.90     15165\n",
      "          86       0.00      0.00      0.00        26\n",
      "          87       0.94      0.93      0.93       758\n",
      "          88       0.00      0.00      0.00        22\n",
      "          89       1.00      0.21      0.35        52\n",
      "          90       0.96      0.29      0.45       367\n",
      "          91       0.00      0.00      0.00        54\n",
      "          92       0.00      0.00      0.00        21\n",
      "          93       0.00      0.00      0.00        31\n",
      "          94       1.00      0.07      0.13        98\n",
      "          95       1.00      0.41      0.58        66\n",
      "          96       1.00      0.05      0.09       108\n",
      "          97       0.00      0.00      0.00         9\n",
      "          99       0.00      0.00      0.00         1\n",
      "\n",
      "    accuracy                           0.88     56212\n",
      "   macro avg       0.58      0.31      0.36     56212\n",
      "weighted avg       0.86      0.88      0.85     56212\n",
      "\n"
     ]
    }
   ],
   "source": [
    "#ดูค่า Performance\n",
    "\n",
    "from sklearn.metrics import classification_report\n",
    "print (classification_report(arr_class, all_predictions))"
   ]
  },
  {
   "cell_type": "code",
   "execution_count": null,
   "metadata": {},
   "outputs": [],
   "source": []
  }
 ],
 "metadata": {
  "hide_input": false,
  "kernelspec": {
   "display_name": "Python 3",
   "language": "python",
   "name": "python3"
  },
  "language_info": {
   "codemirror_mode": {
    "name": "ipython",
    "version": 3
   },
   "file_extension": ".py",
   "mimetype": "text/x-python",
   "name": "python",
   "nbconvert_exporter": "python",
   "pygments_lexer": "ipython3",
   "version": "3.8.3"
  },
  "nbTranslate": {
   "displayLangs": [
    "*"
   ],
   "hotkey": "alt-t",
   "langInMainMenu": true,
   "sourceLang": "en",
   "targetLang": "fr",
   "useGoogleTranslate": true
  },
  "toc": {
   "base_numbering": 1,
   "nav_menu": {},
   "number_sections": false,
   "sideBar": true,
   "skip_h1_title": false,
   "title_cell": "Table of Contents",
   "title_sidebar": "Contents",
   "toc_cell": false,
   "toc_position": {
    "height": "calc(100% - 180px)",
    "left": "10px",
    "top": "150px",
    "width": "384px"
   },
   "toc_section_display": true,
   "toc_window_display": true
  },
  "varInspector": {
   "cols": {
    "lenName": 16,
    "lenType": 16,
    "lenVar": 40
   },
   "kernels_config": {
    "python": {
     "delete_cmd_postfix": "",
     "delete_cmd_prefix": "del ",
     "library": "var_list.py",
     "varRefreshCmd": "print(var_dic_list())"
    },
    "r": {
     "delete_cmd_postfix": ") ",
     "delete_cmd_prefix": "rm(",
     "library": "var_list.r",
     "varRefreshCmd": "cat(var_dic_list()) "
    }
   },
   "types_to_exclude": [
    "module",
    "function",
    "builtin_function_or_method",
    "instance",
    "_Feature"
   ],
   "window_display": false
  }
 },
 "nbformat": 4,
 "nbformat_minor": 2
}
